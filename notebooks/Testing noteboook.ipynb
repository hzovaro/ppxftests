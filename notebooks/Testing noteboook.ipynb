{
 "cells": [
  {
   "cell_type": "markdown",
   "metadata": {},
   "source": [
    "# PPXF tests \n",
    "----"
   ]
  },
  {
   "cell_type": "code",
   "execution_count": 1,
   "metadata": {},
   "outputs": [],
   "source": [
    "%matplotlib widget"
   ]
  },
  {
   "cell_type": "code",
   "execution_count": 2,
   "metadata": {},
   "outputs": [],
   "source": [
    "# Imports\n",
    "import os\n",
    "import numpy as np\n",
    "from time import time\n",
    "from tqdm import tqdm\n",
    "from itertools import product\n",
    "from scipy import constants, ndimage\n",
    "from astropy.io import fits\n",
    "\n",
    "import ppxf.ppxf_util as util\n",
    "\n",
    "from ppxftests.run_ppxf import run_ppxf\n",
    "from ppxftests.ssputils import load_ssp_templates\n",
    "from ppxftests.mockspec import create_mock_spectrum\n",
    "from ppxftests.ppxf_plot import plot_sfh_mass_weighted\n",
    "\n",
    "import matplotlib.pyplot as plt\n",
    "plt.ion()\n",
    "plt.close(\"all\")\n",
    "fig_path = \"/priv/meggs3/u5708159/ppxftests/figs/\"\n",
    "\n",
    "from IPython.core.debugger import Tracer\n"
   ]
  },
  {
   "cell_type": "code",
   "execution_count": 8,
   "metadata": {},
   "outputs": [],
   "source": [
    "################################################################################################################\n",
    "# INPUT PARAMETERS\n",
    "################################################################################################################\n",
    "# SFH filename\n",
    "sfh_fname = \"../SFHs/sfh_mw_old+young.fits\"\n",
    "\n",
    "# Other parameters\n",
    "isochrones = \"Padova\"\n",
    "SNR = 100\n",
    "z = 0.01\n",
    "sigma_star_kms = 250\n",
    "\n",
    "# Figure filename\n",
    "fname_str = None\n"
   ]
  },
  {
   "cell_type": "code",
   "execution_count": 9,
   "metadata": {},
   "outputs": [],
   "source": [
    "################################################################################################################\n",
    "# LOAD THE SFH\n",
    "################################################################################################################\n",
    "hdulist = fits.open(sfh_fname)\n",
    "sfh_input_mass_weighted = hdulist[\"SFH_MW\"].data \n",
    "sfh_input_light_weighted = hdulist[\"SFH_LW\"].data \n",
    "\n",
    "# Load the stellar templates so we can get the age & metallicity dimensions\n",
    "_, _, metallicities, ages = load_ssp_templates(isochrones)\n",
    "N_ages = len(ages)\n",
    "N_metallicities = len(metallicities)\n"
   ]
  },
  {
   "cell_type": "markdown",
   "metadata": {},
   "source": [
    "## TEST 1: effect of noise"
   ]
  },
  {
   "cell_type": "code",
   "execution_count": 11,
   "metadata": {},
   "outputs": [
    {
     "data": {
      "application/vnd.jupyter.widget-view+json": {
       "model_id": "74780e7351d140b793d3f93a03a22518",
       "version_major": 2,
       "version_minor": 0
      },
      "text/plain": [
       "Canvas(toolbar=Toolbar(toolitems=[('Home', 'Reset original view', 'home', 'home'), ('Back', 'Back to previous …"
      ]
     },
     "metadata": {},
     "output_type": "display_data"
    },
    {
     "data": {
      "application/vnd.jupyter.widget-view+json": {
       "model_id": "526bf9c0d9c84b279e58fbb0bb8bce9c",
       "version_major": 2,
       "version_minor": 0
      },
      "text/plain": [
       "Canvas(toolbar=Toolbar(toolitems=[('Home', 'Reset original view', 'home', 'home'), ('Back', 'Back to previous …"
      ]
     },
     "metadata": {},
     "output_type": "display_data"
    },
    {
     "data": {
      "application/vnd.jupyter.widget-view+json": {
       "model_id": "2d0c128bb96740de99648078148db2d9",
       "version_major": 2,
       "version_minor": 0
      },
      "text/plain": [
       "Canvas(toolbar=Toolbar(toolitems=[('Home', 'Reset original view', 'home', 'home'), ('Back', 'Back to previous …"
      ]
     },
     "metadata": {},
     "output_type": "display_data"
    },
    {
     "name": "stderr",
     "output_type": "stream",
     "text": [
      "No handles with labels found to put in legend.\n"
     ]
    },
    {
     "data": {
      "application/vnd.jupyter.widget-view+json": {
       "model_id": "1b024f513a8a4ce7bdbb6ad4c01b4611",
       "version_major": 2,
       "version_minor": 0
      },
      "text/plain": [
       "Canvas(toolbar=Toolbar(toolitems=[('Home', 'Reset original view', 'home', 'home'), ('Back', 'Back to previous …"
      ]
     },
     "metadata": {},
     "output_type": "display_data"
    },
    {
     "name": "stderr",
     "output_type": "stream",
     "text": [
      "/home/u5708159/python/Modules/ppxftests/ppxf_plot.py:37: RuntimeWarning: divide by zero encountered in log10\n",
      "  m = ax.imshow(np.log10(sfh_mass_weighted), cmap=\"cubehelix_r\",\n",
      "/home/u5708159/python/Modules/ppxftests/ppxf_plot.py:39: RuntimeWarning: divide by zero encountered in log10\n",
      "  vmin=0, vmax=np.nanmax(np.log10(sfh_mass_weighted)))\n"
     ]
    }
   ],
   "source": [
    "# Spectral parameters\n",
    "z = 0.01\n",
    "SNR = 100\n",
    "sigma_star_kms = 300\n",
    "\n",
    "# Run ppxf on 100 random realisations of the input spectrum\n",
    "pp_list = []\n",
    "for ii in range(niters):\n",
    "    # CREATE THE MOCK SPECTRUM WITH RANDOM NOISE\n",
    "    spec, spec_err, lambda_vals_A = create_mock_spectrum(\n",
    "        sfh_mass_weighted=sfh_input_mass_weighted,\n",
    "        isochrones=isochrones, z=z, SNR=SNR, sigma_star_kms=sigma_star_kms, plotit=False)  \n",
    "\n",
    "    # RUN PPXF\n",
    "    pp = run_ppxf(spec=spec, spec_err=spec_err, lambda_vals_A=lambda_vals_A,\n",
    "                  z=z, ngascomponents=1,\n",
    "                  auto_adjust_regul=True,\n",
    "                  isochrones=\"Padova\",\n",
    "                  fit_gas=False, tie_balmer=True,\n",
    "                  delta_regul_min=1, regul_max=5e4, delta_delta_chi2_min=1,\n",
    "                  plotit=False, savefigs=False, interactive_mode=False,\n",
    "                  fname_str=fname_str)\n",
    "    pp_list.append(pp)\n",
    "    \n",
    "# Plot \n"
   ]
  },
  {
   "cell_type": "code",
   "execution_count": null,
   "metadata": {},
   "outputs": [],
   "source": []
  }
 ],
 "metadata": {
  "kernelspec": {
   "display_name": "Python 3",
   "language": "python",
   "name": "python3"
  },
  "language_info": {
   "codemirror_mode": {
    "name": "ipython",
    "version": 3
   },
   "file_extension": ".py",
   "mimetype": "text/x-python",
   "name": "python",
   "nbconvert_exporter": "python",
   "pygments_lexer": "ipython3",
   "version": "3.7.4"
  }
 },
 "nbformat": 4,
 "nbformat_minor": 2
}
