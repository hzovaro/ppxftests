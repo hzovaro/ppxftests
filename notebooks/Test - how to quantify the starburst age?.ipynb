{
 "cells": [
  {
   "cell_type": "markdown",
   "metadata": {},
   "source": [
    "# Test: what is the best way to quantify the starburst age?\n",
    "---\n",
    "\n",
    "In this notebook:\n",
    "* come up with a few different ways to quantify the \"starburst age\".\n",
    "* write necessary functions to compute these quantities given a star formation history.\n",
    "* Using MC runs (and later on regularisation too), see whether any of these quantities can reliably be measured.\n",
    "\n",
    "Ideas:\n",
    "* As a control: previous method - time index at which most recent star formation event drops to 0.\n",
    "    * *potential issue*: definitely unreliable, given the \"noise\" in the recovered SFH that persists at even very high S/N.\n",
    "* Mass weighted age below some age threshold.\n",
    "    * *potential issue*: choice of age threshold is somewhat arbitrary.\n",
    "* Counting backwards from $t = 0$, the time index at which the galaxy has built up $X \\%$ of its total stellar mass. \n",
    "    * *potential issue*: may not be a good proxy for the precise quantity we're looking for.\n",
    "* In the *most recent* star formation event, find the earliest time index at which the mass in each bin exceeds some minimum value, e.g., 1e7 solar masses or 0.01% of the total stellar mass.\n",
    "    * *potential issue*: bins are not linearly spaced in age - how to deal with this?\n",
    "* In the *most recent* star formation event, find the earliest time index at which the SFR exceeds some minimum value, e.g. $1 \\rm \\, M_\\odot \\, yr^{-1}$.\n",
    "    * *potential issue*: this may not represent the actual SFR in the galaxy, if the new stars were obtained via a merger, for instance. \n"
   ]
  },
  {
   "cell_type": "code",
   "execution_count": 1,
   "metadata": {},
   "outputs": [],
   "source": [
    "%matplotlib widget"
   ]
  },
  {
   "cell_type": "code",
   "execution_count": 2,
   "metadata": {},
   "outputs": [
    {
     "data": {
      "text/html": [
       "<style>.container { width:75% !important; }</style>"
      ],
      "text/plain": [
       "<IPython.core.display.HTML object>"
      ]
     },
     "metadata": {},
     "output_type": "display_data"
    },
    {
     "data": {
      "text/html": [
       "<style>.output_result { max-width:75% !important; }</style>"
      ],
      "text/plain": [
       "<IPython.core.display.HTML object>"
      ]
     },
     "metadata": {},
     "output_type": "display_data"
    }
   ],
   "source": [
    "from IPython.core.display import display, HTML\n",
    "display(HTML(\"<style>.container { width:75% !important; }</style>\"))\n",
    "display(HTML(\"<style>.output_result { max-width:75% !important; }</style>\"))"
   ]
  },
  {
   "cell_type": "code",
   "execution_count": 3,
   "metadata": {},
   "outputs": [],
   "source": [
    "import numpy as np\n",
    "from numpy.random import RandomState\n",
    "from time import time \n",
    "from tqdm.notebook import tqdm\n",
    "import multiprocessing\n",
    "import pandas as pd\n",
    "\n",
    "from astropy.io import fits\n",
    "\n",
    "from ppxftests.run_ppxf import run_ppxf\n",
    "from ppxftests.ssputils import load_ssp_templates\n",
    "from ppxftests.mockspec import load_sfh, create_mock_spectrum, calculate_mw_age\n",
    "from ppxftests.ppxf_plot import plot_sfh_mass_weighted\n",
    "\n",
    "import matplotlib.pyplot as plt\n",
    "plt.ion()\n",
    "plt.close(\"all\")\n",
    "\n",
    "from IPython.core.debugger import Tracer"
   ]
  },
  {
   "cell_type": "code",
   "execution_count": 4,
   "metadata": {},
   "outputs": [],
   "source": [
    "###########################################################################\n",
    "# Settings\n",
    "###########################################################################\n",
    "isochrones = \"Padova\"\n",
    "sigma_star_kms = 250\n",
    "z = 0.01\n",
    "\n",
    "# Load the stellar templates so we can get the age & metallicity dimensions\n",
    "_, _, metallicities, ages = load_ssp_templates(isochrones)\n",
    "N_ages = len(ages)\n",
    "N_metallicities = len(metallicities)\n"
   ]
  },
  {
   "cell_type": "code",
   "execution_count": 6,
   "metadata": {},
   "outputs": [],
   "source": [
    "# Definition 1: time index at which most recent star formation event drops to 0\n",
    "def compute_sb_zero_age(sfh_mw):\n",
    "    # Sum the SFH over the metallicity dimension to get the 1D SFH\n",
    "    sfh_mw_1D = np.nansum(sfh_mw, axis=0) if sfh_mw.ndim > 1 else sfh_mw\n",
    "        \n",
    "    first_nonzero_idx = np.argwhere(sfh_mw_1D > 0)[0][0]\n",
    "    if np.any(sfh_mw_1D[first_nonzero_idx:] == 0):\n",
    "        first_zero_idx = np.argwhere(sfh_mw_1D[first_nonzero_idx:] == 0)[0][0] + first_nonzero_idx\n",
    "        return ages[first_zero_idx], first_zero_idx\n",
    "    else:\n",
    "        return np.nan, np.nan"
   ]
  },
  {
   "cell_type": "code",
   "execution_count": 7,
   "metadata": {},
   "outputs": [],
   "source": [
    "# Definition 2: Mass weighted age below some age threshold\n",
    "def compute_mw_age(sfh_mw, \n",
    "                   age_thresh=1e9):\n",
    "    # Sum the SFH over the metallicity dimension to get the 1D SFH\n",
    "    sfh_mw_1D = np.nansum(sfh_mw, axis=0) if sfh_mw.ndim > 1 else sfh_mw\n",
    "\n",
    "    # Find the index of the threshold age in the template age array\n",
    "    age_thresh_idx = np.nanargmin(np.abs(ages - age_thresh))\n",
    "    \n",
    "    # Compute the mass-weighted age \n",
    "    log_age_mw = np.nansum(sfh_mw_1D[:age_thresh_idx] * np.log10(ages[:age_thresh_idx])) / np.nansum(sfh_mw_1D[:age_thresh_idx])\n",
    "    \n",
    "    # Compute the corresponding index in the array (useful for plotting)\n",
    "    log_age_mw_idx = (log_age_mw - np.log10(ages[0])) / (np.log10(ages[1]) - np.log10(ages[0]))\n",
    "    \n",
    "    return 10**log_age_mw, log_age_mw_idx\n"
   ]
  },
  {
   "cell_type": "code",
   "execution_count": 8,
   "metadata": {},
   "outputs": [],
   "source": [
    "# Definition 3: Counting backwards from $t = 0$, the time index at which the galaxy has built up $X \\%$ of its total stellar mass. \n",
    "def compute_first_massive_bin(sfh_mw,\n",
    "                              mass_frac_thresh=0.01):\n",
    "    # Sum the SFH over the metallicity dimension to get the 1D SFH\n",
    "    sfh_mw_1D = np.nansum(sfh_mw, axis=0) if sfh_mw.ndim > 1 else sfh_mw\n",
    "\n",
    "    M_tot = np.nansum(sfh_mw_1D) \n",
    "    age_idx = np.argwhere(sfh_mw_1D / M_tot > mass_frac_thresh)[0]\n",
    "        \n",
    "    return ages[age_idx], age_idx\n"
   ]
  },
  {
   "cell_type": "code",
   "execution_count": 9,
   "metadata": {},
   "outputs": [],
   "source": [
    "# Definition 4: In the *most recent* star formation event, find the earliest time index at which the mass in each bin exceeds \n",
    "# some minimum value, e.g., 1e7 solar masses or 0.01% of the total stellar mass.\n",
    "def compute_cumulative_mass_frac(sfh_mw,\n",
    "                                 mass_frac_thresh=0.01):\n",
    "    # Sum the SFH over the metallicity dimension to get the 1D SFH\n",
    "    sfh_mw_1D = np.nansum(sfh_mw, axis=0) if sfh_mw.ndim > 1 else sfh_mw\n",
    "\n",
    "    M_tot = np.nansum(sfh_mw_1D) \n",
    "    cumsum_M_frac = np.cumsum(sfh_mw_1D) / M_tot\n",
    "    age_idx = np.nanargmin(np.abs(cumsum_M_frac - mass_frac_thresh))\n",
    "    \n",
    "    return ages[age_idx], age_idx\n"
   ]
  },
  {
   "cell_type": "code",
   "execution_count": 14,
   "metadata": {},
   "outputs": [],
   "source": [
    "def compute_sfr_thresh_age(sfh_mw,\n",
    "                           sfr_thresh=1.0):\n",
    "    \n",
    "    # Sum the SFH over the metallicity dimension to get the 1D SFH\n",
    "    sfh_mw_1D = np.nansum(sfh_mw, axis=0) if sfh_mw.ndim > 1 else sfh_mw\n",
    "\n",
    "    # Compute the bin edges and widths so that we can compute the mean SFR in each bin\n",
    "    bin_widths = np.zeros(len(ages))\n",
    "    bin_edges = np.zeros(len(ages) + 1)\n",
    "    for aa in range(1, len(ages)):\n",
    "        bin_edges[aa] = 10**(0.5 * (np.log10(ages[aa - 1]) + np.log10(ages[aa])) )\n",
    "    delta_log_age = np.diff(np.log10(ages))[0]\n",
    "    age_0 = 10**(np.log10(ages[0]) - delta_log_age)\n",
    "    age_last = 10**(np.log10(ages[-1]) + delta_log_age)\n",
    "    bin_edges[0] = 10**(0.5 * (np.log10(age_0) + np.log10(ages[0])) )\n",
    "    bin_edges[-1] = 10**(0.5 * (np.log10(ages[-1]) + np.log10(age_last)))\n",
    "    bin_sizes = np.diff(bin_edges)\n",
    "    \n",
    "    # Compute the mean SFR in each bin\n",
    "    sfr_avg = sfh_mw_1D / bin_sizes\n",
    "    \n",
    "    # Find the first index where the SFR exceed a certain value\n",
    "    if np.any(sfr_avg > sfr_thresh):\n",
    "        age_idx = np.argwhere(sfr_avg > sfr_thresh)[0][0]\n",
    "        return ages[age_idx], age_idx\n",
    "    else:\n",
    "        return np.nan, np.nan\n",
    "    "
   ]
  },
  {
   "cell_type": "code",
   "execution_count": 15,
   "metadata": {
    "scrolled": false
   },
   "outputs": [
    {
     "data": {
      "application/vnd.jupyter.widget-view+json": {
       "model_id": "a97f27b341f64d4ebca69b93dc2b3c21",
       "version_major": 2,
       "version_minor": 0
      },
      "text/plain": [
       "Canvas(toolbar=Toolbar(toolitems=[('Home', 'Reset original view', 'home', 'home'), ('Back', 'Back to previous …"
      ]
     },
     "metadata": {},
     "output_type": "display_data"
    },
    {
     "name": "stdout",
     "output_type": "stream",
     "text": [
      "100.00 Myr\n",
      "89.13 Myr\n",
      "501.19 Myr\n",
      "89.12 Myr\n"
     ]
    }
   ],
   "source": [
    "sfh = load_sfh(11, plotit=True)\n",
    "\n",
    "# Def. 1\n",
    "print(f\"compute_sb_zero_age(): {compute_sb_zero_age(sfh)[0] / 1e6:.2f} Myr\")\n",
    "\n",
    "# Def. 2\n",
    "print(f\"compute_mw_age(): {compute_mw_age(sfh, age_thresh=1e8)[0] / 1e6:.2f} Myr\")\n",
    "\n",
    "# Def. 3\n",
    "print(f\"compute_first_massive_bin(): {compute_first_massive_bin(sfh, mass_frac_thresh=0.001)[0] / 1e6:.2f} Myr\")\n",
    "\n",
    "# Def. 4\n",
    "print(f\"compute_cumulative_mass_frac(): {compute_cumulative_mass_frac(sfh, mass_frac_thresh=0.001)[0] / 1e6:.2f} Myr\")\n",
    "\n",
    "# Def. 5\n",
    "print(f\"{compute_sfr_thresh_age(sfh, sfr_thresh=0.5)[0] / 1e6:.2f} Myr\")\n"
   ]
  },
  {
   "cell_type": "code",
   "execution_count": 145,
   "metadata": {
    "scrolled": false
   },
   "outputs": [
    {
     "data": {
      "application/vnd.jupyter.widget-view+json": {
       "model_id": "9b03612d2d624e90ab94b7d4f6ee44c2",
       "version_major": 2,
       "version_minor": 0
      },
      "text/plain": [
       "Canvas(toolbar=Toolbar(toolitems=[('Home', 'Reset original view', 'home', 'home'), ('Back', 'Back to previous …"
      ]
     },
     "metadata": {},
     "output_type": "display_data"
    },
    {
     "data": {
      "application/vnd.jupyter.widget-view+json": {
       "model_id": "97fd104500374e3bb7f3f8fd848c879c",
       "version_major": 2,
       "version_minor": 0
      },
      "text/plain": [
       "Canvas(toolbar=Toolbar(toolitems=[('Home', 'Reset original view', 'home', 'home'), ('Back', 'Back to previous …"
      ]
     },
     "metadata": {},
     "output_type": "display_data"
    },
    {
     "data": {
      "application/vnd.jupyter.widget-view+json": {
       "model_id": "5840e612f1b0425f8cd562067715dde8",
       "version_major": 2,
       "version_minor": 0
      },
      "text/plain": [
       "Canvas(toolbar=Toolbar(toolitems=[('Home', 'Reset original view', 'home', 'home'), ('Back', 'Back to previous …"
      ]
     },
     "metadata": {},
     "output_type": "display_data"
    }
   ],
   "source": [
    "# Test: compute_cumulative_mass_frac()\n",
    "sfh = load_sfh(11, plotit=True)\n",
    "sfh_1D = np.nansum(sfh, axis=0)\n",
    "M_tot = np.nansum(sfh)\n",
    "\n",
    "mass_frac_thresh = 1e-1\n",
    "age_idx_4 = compute_cumulative_mass_frac(sfh, mass_frac_thresh)[1]\n",
    "age_idx_3 = compute_first_massive_bin(sfh, mass_frac_thresh)[1]\n",
    "\n",
    "# Plot \n",
    "fig, ax = plt.subplots(figsize=(10, 4))\n",
    "fig.subplots_adjust(bottom=0.3, top=0.9)\n",
    "\n",
    "ax.step(x=range(N_ages), y=sfh_1D / M_tot, where=\"mid\", label=\"1D SFH\")\n",
    "ax.step(x=range(N_ages), y=np.cumsum(sfh_1D) / M_tot, where=\"mid\", label=\"Cumulative mass\")\n",
    "ax.axvline(age_idx_4, color=\"red\", label=\"Definition 4\")\n",
    "ax.axvline(age_idx_3, color=\"blue\", label=\"Definition 3\")\n",
    "ax.axhline(mass_frac_thresh, color=\"grey\", label=\"Mass fraction threshold\")\n",
    "ax.set_yscale(\"log\")\n",
    "ax.set_xticks(range(N_ages))\n",
    "ax.set_xticklabels(ages / 1e6, rotation=\"vertical\", fontsize=\"x-small\")\n",
    "ax.grid()\n",
    "ax.legend(fontsize=\"x-small\")\n",
    "ax.autoscale(axis=\"x\", tight=True, enable=True)\n",
    "\n",
    "# Plot the mean SFR in each bin, too\n",
    "# Compute the bin edges and widths so that we can compute the mean SFR in each bin\n",
    "bin_widths = np.zeros(len(ages))\n",
    "bin_edges = np.zeros(len(ages) + 1)\n",
    "for aa in range(1, len(ages)):\n",
    "    bin_edges[aa] = 10**(0.5 * (np.log10(ages[aa - 1]) + np.log10(ages[aa])) )\n",
    "delta_log_age = np.diff(np.log10(ages))[0]\n",
    "age_0 = 10**(np.log10(ages[0]) - delta_log_age)\n",
    "age_last = 10**(np.log10(ages[-1]) + delta_log_age)\n",
    "bin_edges[0] = 10**(0.5 * (np.log10(age_0) + np.log10(ages[0])) )\n",
    "bin_edges[-1] = 10**(0.5 * (np.log10(ages[-1]) + np.log10(age_last)))\n",
    "bin_sizes = np.diff(bin_edges)\n",
    "\n",
    "# Plot the mean SFR in each bin\n",
    "sfr_avg = sfh_1D / bin_sizes\n",
    "\n",
    "fig, ax = plt.subplots(figsize=(10, 4))\n",
    "fig.subplots_adjust(bottom=0.3, top=0.9)\n",
    "ax.step(x=range(N_ages), y=sfr_avg, where=\"mid\", label=\"Average SFR\")\n",
    "ax.set_yscale(\"log\")\n",
    "ax.set_xticks(range(N_ages))\n",
    "ax.set_xticklabels(ages / 1e6, rotation=\"vertical\", fontsize=\"x-small\")\n",
    "ax.grid()\n",
    "ax.legend(fontsize=\"x-small\")\n",
    "ax.autoscale(axis=\"x\", tight=True, enable=True)\n",
    "\n"
   ]
  },
  {
   "cell_type": "code",
   "execution_count": null,
   "metadata": {},
   "outputs": [],
   "source": []
  }
 ],
 "metadata": {
  "kernelspec": {
   "display_name": "Python 3",
   "language": "python",
   "name": "python3"
  },
  "language_info": {
   "codemirror_mode": {
    "name": "ipython",
    "version": 3
   },
   "file_extension": ".py",
   "mimetype": "text/x-python",
   "name": "python",
   "nbconvert_exporter": "python",
   "pygments_lexer": "ipython3",
   "version": "3.7.4"
  }
 },
 "nbformat": 4,
 "nbformat_minor": 2
}
