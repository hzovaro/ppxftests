{
 "cells": [
  {
   "cell_type": "markdown",
   "metadata": {},
   "source": [
    "# Test: what is the best way to quantify the starburst age?\n",
    "---\n",
    "\n",
    "In this notebook:\n",
    "* come up with a few different ways to quantify the \"starburst age\".\n",
    "* write necessary functions to compute these quantities given a star formation history.\n",
    "* Using MC runs (and later on regularisation too), see whether any of these quantities can reliably be measured.\n",
    "\n",
    "Ideas:\n",
    "* As a control: previous method - time index at which most recent star formation event drops to 0.\n",
    "    * *potential issue*: definitely unreliable, given the \"noise\" in the recovered SFH that persists at even very high S/N.\n",
    "* Mass weighted age below some age threshold.\n",
    "    * *potential issue*: choice of age threshold is somewhat arbitrary.\n",
    "* Counting backwards from $t = 0$, the time index at which the galaxy has built up $X \\%$ of its total stellar mass. \n",
    "    * *potential issue*: may not be a good proxy for the precise quantity we're looking for.\n",
    "* In the *most recent* star formation event, find the earliest time index at which the mass in each bin exceeds some minimum value, e.g., 1e7 solar masses or 0.01% of the total stellar mass.\n",
    "    * *potential issue*: bins are not linearly spaced in age - how to deal with this?\n",
    "* In the *most recent* star formation event, find the earliest time index at which the SFR exceeds some minimum value, e.g. $1 \\rm \\, M_\\odot \\, yr^{-1}$.\n",
    "    * *potential issue*: this may not represent the actual SFR in the galaxy, if the new stars were obtained via a merger, for instance. \n"
   ]
  },
  {
   "cell_type": "code",
   "execution_count": 6,
   "metadata": {},
   "outputs": [],
   "source": [
    "%matplotlib widget"
   ]
  },
  {
   "cell_type": "code",
   "execution_count": 2,
   "metadata": {},
   "outputs": [
    {
     "data": {
      "text/html": [
       "<style>.container { width:75% !important; }</style>"
      ],
      "text/plain": [
       "<IPython.core.display.HTML object>"
      ]
     },
     "metadata": {},
     "output_type": "display_data"
    },
    {
     "data": {
      "text/html": [
       "<style>.output_result { max-width:75% !important; }</style>"
      ],
      "text/plain": [
       "<IPython.core.display.HTML object>"
      ]
     },
     "metadata": {},
     "output_type": "display_data"
    }
   ],
   "source": [
    "from IPython.core.display import display, HTML\n",
    "display(HTML(\"<style>.container { width:75% !important; }</style>\"))\n",
    "display(HTML(\"<style>.output_result { max-width:75% !important; }</style>\"))"
   ]
  },
  {
   "cell_type": "code",
   "execution_count": 102,
   "metadata": {},
   "outputs": [],
   "source": [
    "import numpy as np\n",
    "from numpy.random import RandomState\n",
    "from time import time \n",
    "from tqdm.notebook import tqdm\n",
    "import multiprocessing\n",
    "import pandas as pd\n",
    "\n",
    "from astropy.io import fits\n",
    "\n",
    "from ppxftests.run_ppxf import run_ppxf\n",
    "from ppxftests.ssputils import load_ssp_templates, get_bin_edges_and_widths\n",
    "from ppxftests.mockspec import create_mock_spectrum\n",
    "from ppxftests.sfhutils import load_sfh, compute_mw_age, compute_sfr_thresh_age\n",
    "from ppxftests.ppxf_plot import plot_sfh_mass_weighted\n",
    "\n",
    "import matplotlib.pyplot as plt\n",
    "plt.ion()\n",
    "plt.close(\"all\")\n",
    "\n",
    "from IPython.core.debugger import Tracer"
   ]
  },
  {
   "cell_type": "code",
   "execution_count": 8,
   "metadata": {},
   "outputs": [],
   "source": [
    "###########################################################################\n",
    "# Settings\n",
    "###########################################################################\n",
    "isochrones = \"Padova\"\n",
    "sigma_star_kms = 250\n",
    "z = 0.01\n",
    "\n",
    "# Load the stellar templates so we can get the age & metallicity dimensions\n",
    "_, _, metallicities, ages = load_ssp_templates(isochrones)\n",
    "N_ages = len(ages)\n",
    "N_metallicities = len(metallicities)\n"
   ]
  },
  {
   "cell_type": "code",
   "execution_count": 9,
   "metadata": {},
   "outputs": [],
   "source": [
    "###########################################################################\n",
    "# Definition 1: time index at which most recent star formation event drops \n",
    "# to 0\n",
    "###########################################################################\n",
    "def compute_sb_zero_age(sfh_mw):\n",
    "    # Sum the SFH over the metallicity dimension to get the 1D SFH\n",
    "    sfh_mw_1D = np.nansum(sfh_mw, axis=0) if sfh_mw.ndim > 1 else sfh_mw\n",
    "        \n",
    "    first_nonzero_idx = np.argwhere(sfh_mw_1D > 0)[0][0]\n",
    "    if np.any(sfh_mw_1D[first_nonzero_idx:] == 0):\n",
    "        first_zero_idx = np.argwhere(sfh_mw_1D[first_nonzero_idx:] == 0)[0][0] + first_nonzero_idx\n",
    "        return ages[first_zero_idx], first_zero_idx\n",
    "    else:\n",
    "        return np.nan, np.nan"
   ]
  },
  {
   "cell_type": "code",
   "execution_count": 36,
   "metadata": {},
   "outputs": [],
   "source": [
    "###########################################################################\n",
    "# Definition 2: Mass weighted age below some age threshold\n",
    "###########################################################################\n",
    "def compute_mw_age(sfh_mw, \n",
    "                   age_thresh=1e9):\n",
    "    # Sum the SFH over the metallicity dimension to get the 1D SFH\n",
    "    sfh_mw_1D = np.nansum(sfh_mw, axis=0) if sfh_mw.ndim > 1 else sfh_mw\n",
    "\n",
    "    # Find the index of the threshold age in the template age array\n",
    "    age_thresh_idx = np.nanargmin(np.abs(ages - age_thresh))\n",
    "    \n",
    "    # Compute the mass-weighted age \n",
    "    log_age_mw = np.nansum(sfh_mw_1D[:age_thresh_idx] * np.log10(ages[:age_thresh_idx])) / np.nansum(sfh_mw_1D[:age_thresh_idx])\n",
    "    \n",
    "    # Compute the corresponding index in the array (useful for plotting)\n",
    "    log_age_mw_idx = (log_age_mw - np.log10(ages[0])) / (np.log10(ages[1]) - np.log10(ages[0]))\n",
    "    \n",
    "    return 10**log_age_mw, log_age_mw_idx\n"
   ]
  },
  {
   "cell_type": "code",
   "execution_count": 11,
   "metadata": {},
   "outputs": [],
   "source": [
    "###########################################################################\n",
    "# Definition 3: Counting backwards from $t = 0$, the time index at which \n",
    "# the galaxy has built up $X \\%$ of its total stellar mass. \n",
    "###########################################################################\n",
    "def compute_first_massive_bin(sfh_mw,\n",
    "                              mass_frac_thresh=0.01):\n",
    "    # Sum the SFH over the metallicity dimension to get the 1D SFH\n",
    "    sfh_mw_1D = np.nansum(sfh_mw, axis=0) if sfh_mw.ndim > 1 else sfh_mw\n",
    "\n",
    "    M_tot = np.nansum(sfh_mw_1D) \n",
    "    age_idx = np.argwhere(sfh_mw_1D / M_tot > mass_frac_thresh)[0][0]\n",
    "        \n",
    "    return ages[age_idx], age_idx\n"
   ]
  },
  {
   "cell_type": "code",
   "execution_count": 12,
   "metadata": {},
   "outputs": [],
   "source": [
    "###########################################################################\n",
    "# Definition 4: In the *most recent* star formation event, find the earliest \n",
    "# time index at which the mass in each bin exceeds \n",
    "# some minimum value, e.g., 1e7 solar masses or 0.01% of the total stellar mass.\n",
    "###########################################################################\n",
    "def compute_cumulative_mass_frac(sfh_mw,\n",
    "                                 mass_frac_thresh=0.01):\n",
    "    # Sum the SFH over the metallicity dimension to get the 1D SFH\n",
    "    sfh_mw_1D = np.nansum(sfh_mw, axis=0) if sfh_mw.ndim > 1 else sfh_mw\n",
    "\n",
    "    M_tot = np.nansum(sfh_mw_1D) \n",
    "    cumsum_M_frac = np.cumsum(sfh_mw_1D) / M_tot\n",
    "    age_idx = np.nanargmin(np.abs(cumsum_M_frac - mass_frac_thresh))\n",
    "    \n",
    "    return ages[age_idx], age_idx\n"
   ]
  },
  {
   "cell_type": "code",
   "execution_count": 13,
   "metadata": {},
   "outputs": [],
   "source": [
    "###########################################################################\n",
    "# Definition 5: counting backwards from t = 0, find the most recent time \n",
    "# when the SFR exceeded a given threshold\n",
    "###########################################################################\n",
    "def compute_sfr_thresh_age(sfh_mw, sfr_thresh, isochrones):\n",
    "    \n",
    "    # Sum the SFH over the metallicity dimension to get the 1D SFH\n",
    "    sfh_mw_1D = np.nansum(sfh_mw, axis=0) if sfh_mw.ndim > 1 else sfh_mw\n",
    "\n",
    "    # Compute the bin edges and widths so that we can compute the mean SFR in each bin\n",
    "    bin_edges, bin_widths = get_bin_edges_and_widths(isochrones=isochrones)\n",
    "    \n",
    "    # Compute the mean SFR in each bin\n",
    "    sfr_avg = sfh_mw_1D / bin_sizes\n",
    "    \n",
    "    # Find the first index where the SFR exceed a certain value\n",
    "    if np.any(sfr_avg > sfr_thresh):\n",
    "        age_idx = np.argwhere(sfr_avg > sfr_thresh)[0][0]\n",
    "        return ages[age_idx], age_idx\n",
    "    else:\n",
    "        return np.nan, np.nan\n",
    "    "
   ]
  },
  {
   "cell_type": "code",
   "execution_count": 68,
   "metadata": {
    "scrolled": false
   },
   "outputs": [
    {
     "data": {
      "application/vnd.jupyter.widget-view+json": {
       "model_id": "bda3218cdcb045169539a0e31a8e8307",
       "version_major": 2,
       "version_minor": 0
      },
      "text/plain": [
       "Canvas(toolbar=Toolbar(toolitems=[('Home', 'Reset original view', 'home', 'home'), ('Back', 'Back to previous …"
      ]
     },
     "metadata": {},
     "output_type": "display_data"
    },
    {
     "ename": "TypeError",
     "evalue": "compute_mw_age() missing 1 required positional argument: 'isochrones'",
     "output_type": "error",
     "traceback": [
      "\u001b[0;31m---------------------------------------------------------------------------\u001b[0m",
      "\u001b[0;31mTypeError\u001b[0m                                 Traceback (most recent call last)",
      "\u001b[0;32m<ipython-input-68-43857d1c8cd6>\u001b[0m in \u001b[0;36m<module>\u001b[0;34m\u001b[0m\n\u001b[1;32m     12\u001b[0m \u001b[0;34m\u001b[0m\u001b[0m\n\u001b[1;32m     13\u001b[0m \u001b[0mage_1\u001b[0m\u001b[0;34m,\u001b[0m \u001b[0mage_idx_1\u001b[0m \u001b[0;34m=\u001b[0m \u001b[0mcompute_sb_zero_age\u001b[0m\u001b[0;34m(\u001b[0m\u001b[0msfh\u001b[0m\u001b[0;34m)\u001b[0m  \u001b[0;31m# \"Starburst\" age\u001b[0m\u001b[0;34m\u001b[0m\u001b[0;34m\u001b[0m\u001b[0m\n\u001b[0;32m---> 14\u001b[0;31m \u001b[0mage_2\u001b[0m\u001b[0;34m,\u001b[0m \u001b[0mage_idx_2\u001b[0m \u001b[0;34m=\u001b[0m \u001b[0mcompute_mw_age\u001b[0m\u001b[0;34m(\u001b[0m\u001b[0msfh\u001b[0m\u001b[0;34m,\u001b[0m \u001b[0mage_thresh\u001b[0m\u001b[0;34m)\u001b[0m  \u001b[0;31m# Mass-weighted age\u001b[0m\u001b[0;34m\u001b[0m\u001b[0;34m\u001b[0m\u001b[0m\n\u001b[0m\u001b[1;32m     15\u001b[0m \u001b[0mage_3\u001b[0m\u001b[0;34m,\u001b[0m \u001b[0mage_idx_3\u001b[0m \u001b[0;34m=\u001b[0m \u001b[0mcompute_first_massive_bin\u001b[0m\u001b[0;34m(\u001b[0m\u001b[0msfh\u001b[0m\u001b[0;34m,\u001b[0m \u001b[0mmass_frac_thresh\u001b[0m\u001b[0;34m)\u001b[0m  \u001b[0;31m# Mass fraction threshold (instantaneous)\u001b[0m\u001b[0;34m\u001b[0m\u001b[0;34m\u001b[0m\u001b[0m\n\u001b[1;32m     16\u001b[0m \u001b[0mage_4\u001b[0m\u001b[0;34m,\u001b[0m \u001b[0mage_idx_4\u001b[0m \u001b[0;34m=\u001b[0m \u001b[0mcompute_cumulative_mass_frac\u001b[0m\u001b[0;34m(\u001b[0m\u001b[0msfh\u001b[0m\u001b[0;34m,\u001b[0m \u001b[0mmass_frac_thresh\u001b[0m\u001b[0;34m)\u001b[0m  \u001b[0;31m# Mass fraction threshold (cumulative)\u001b[0m\u001b[0;34m\u001b[0m\u001b[0;34m\u001b[0m\u001b[0m\n",
      "\u001b[0;31mTypeError\u001b[0m: compute_mw_age() missing 1 required positional argument: 'isochrones'"
     ]
    }
   ],
   "source": [
    "####################################################################\n",
    "# Plot to check each of these have worked\n",
    "####################################################################\n",
    "sfh = load_sfh(41, plotit=True)\n",
    "sfh_1D = np.nansum(sfh, axis=0)\n",
    "M_tot = np.nansum(sfh)\n",
    "\n",
    "# Parameters for age estimators\n",
    "mass_frac_thresh = 1e-1\n",
    "age_thresh = 1e8\n",
    "sfr_thresh = 1\n",
    "\n",
    "age_1, age_idx_1 = compute_sb_zero_age(sfh)  # \"Starburst\" age\n",
    "age_2, age_idx_2 = compute_mw_age(sfh, age_thresh, isochrones)  # Mass-weighted age\n",
    "age_3, age_idx_3 = compute_first_massive_bin(sfh, mass_frac_thresh)  # Mass fraction threshold (instantaneous)\n",
    "age_4, age_idx_4 = compute_cumulative_mass_frac(sfh, mass_frac_thresh)  # Mass fraction threshold (cumulative)\n",
    "age_5, age_idx_5 = compute_sfr_thresh_age(sfh, sfr_thresh)  # SFR threshold\n",
    "\n",
    "print(f\"compute_sb_zero_age(): {age_1 / 1e6:.2f} Myr\")\n",
    "print(f\"compute_mw_age(): {age_2 / 1e6:.2f} Myr\")\n",
    "print(f\"compute_first_massive_bin(): {age_3 / 1e6:.2f} Myr\")\n",
    "print(f\"compute_cumulative_mass_frac(): {age_4 / 1e6:.2f} Myr\")\n",
    "print(f\"compute_sfr_thresh_age(): {age_5 / 1e6:.2f} Myr\")\n",
    "\n",
    "####################################################################\n",
    "# Plot the SFH and the cumulative mass counting from t = 0\n",
    "####################################################################\n",
    "fig, ax = plt.subplots(figsize=(10, 4))\n",
    "fig.subplots_adjust(bottom=0.3, top=0.9)\n",
    "\n",
    "# Plot the SFH and the cumulative mass from t = 0\n",
    "ax.step(x=range(N_ages), y=sfh_1D / M_tot, color=\"black\", where=\"mid\", label=\"1D SFH\")\n",
    "ax.step(x=range(N_ages), y=np.cumsum(sfh_1D) / M_tot, where=\"mid\", label=\"Cumulative mass\", linewidth=0.5)\n",
    "\n",
    "# Indicate each SB age measure\n",
    "ax.axvline(age_idx_1, color=\"grey\", label=\"Starburst age\")\n",
    "ax.axvline(age_idx_2, color=\"blue\", label=f\"Mass-weighted mean age (< {age_thresh / 1e6:.0f} Myr)\")\n",
    "ax.axvline(age_idx_3, color=\"red\", label=\"Mass fraction (instantaneous)\")\n",
    "ax.axvline(age_idx_4, color=\"orange\", label=\"Mass fraction (cumulative)\")\n",
    "ax.axvline(age_idx_5, color=\"green\", label=\"SFR\")\n",
    "\n",
    "ax.axhline(mass_frac_thresh, linestyle=\"--\", color=\"grey\", label=\"Mass fraction threshold\")\n",
    "\n",
    "ax.set_yscale(\"log\")\n",
    "ax.set_xticks(range(N_ages))\n",
    "ax.set_xticklabels(ages / 1e6, rotation=\"vertical\", fontsize=\"x-small\")\n",
    "ax.grid()\n",
    "ax.legend(fontsize=\"x-small\")\n",
    "ax.autoscale(axis=\"x\", tight=True, enable=True)\n",
    "ax.set_ylabel(r\"Stellar mass fraction $M/M_{\\rm tot}$\")\n",
    "ax.set_xlabel(\"Bin age (Myr)\")\n",
    "\n",
    "####################################################################\n",
    "# Plot the mean SFR in each bin\n",
    "####################################################################\n",
    "# Compute the bin edges and widths so that we can compute the mean SFR in each bin\n",
    "bin_widths = np.zeros(len(ages))\n",
    "bin_edges = np.zeros(len(ages) + 1)\n",
    "for aa in range(1, len(ages)):\n",
    "    bin_edges[aa] = 10**(0.5 * (np.log10(ages[aa - 1]) + np.log10(ages[aa])) )\n",
    "delta_log_age = np.diff(np.log10(ages))[0]\n",
    "age_0 = 10**(np.log10(ages[0]) - delta_log_age)\n",
    "age_last = 10**(np.log10(ages[-1]) + delta_log_age)\n",
    "bin_edges[0] = 10**(0.5 * (np.log10(age_0) + np.log10(ages[0])) )\n",
    "bin_edges[-1] = 10**(0.5 * (np.log10(ages[-1]) + np.log10(age_last)))\n",
    "bin_sizes = np.diff(bin_edges)\n",
    "sfr_avg = sfh_1D / bin_sizes\n",
    "\n",
    "# Plot the mean SFR in each bin\n",
    "fig, ax = plt.subplots(figsize=(10, 4))\n",
    "fig.subplots_adjust(bottom=0.3, top=0.9)\n",
    "ax.step(x=range(N_ages), y=sfr_avg, where=\"mid\", label=\"Average SFR\")\n",
    "\n",
    "# Indicate each SB age measure\n",
    "ax.axvline(age_idx_1, color=\"grey\", label=\"Starburst age\")\n",
    "ax.axvline(age_idx_2, color=\"blue\", label=f\"Mass-weighted mean age (< {age_thresh / 1e6:.0f} Myr)\")\n",
    "ax.axvline(age_idx_3, color=\"red\", label=\"Mass fraction (instantaneous)\")\n",
    "ax.axvline(age_idx_4, color=\"orange\", label=\"Mass fraction (cumulative)\")\n",
    "ax.axvline(age_idx_5, color=\"green\", label=\"SFR\")\n",
    "\n",
    "ax.axhline(sfr_thresh, linestyle=\"--\", color=\"grey\", label=\"SFR threshold\")\n",
    "\n",
    "ax.set_yscale(\"log\")\n",
    "ax.set_xticks(range(N_ages))\n",
    "ax.set_xticklabels(ages / 1e6, rotation=\"vertical\", fontsize=\"x-small\")\n",
    "ax.grid()\n",
    "ax.legend(fontsize=\"x-small\")\n",
    "ax.autoscale(axis=\"x\", tight=True, enable=True)\n",
    "ax.set_ylabel(r\"Mean SFR ($\\rm M_\\odot \\, yr^{-1}$)\")\n",
    "ax.set_xlabel(\"Bin age (Myr)\")\n",
    "\n",
    "####################################################################\n",
    "# Plot the mass-weighted mean age as a function of age threshold\n",
    "####################################################################\n",
    "mw_mean_ages = [compute_mw_age(sfh, age)[0] for age in ages]\n",
    "fig, ax = plt.subplots()\n",
    "ax.scatter(ages, mw_mean_ages)\n",
    "ax.set_xlabel(\"Age threshold (Myr)\")\n",
    "ax.set_ylabel(\"Mass-weighted mean age (Myr)\")\n",
    "ax.set_xscale(\"log\")\n",
    "ax.set_yscale(\"log\")\n"
   ]
  },
  {
   "cell_type": "markdown",
   "metadata": {},
   "source": [
    "## Can ppxf accurately return the \"SFR age\"?\n",
    "---\n",
    "Run ppxf on a few different input SFHs, using the MC method. \n",
    "Plot the SFH with the \"SFR ages\" indicated for both the input and the output."
   ]
  },
  {
   "cell_type": "code",
   "execution_count": 85,
   "metadata": {},
   "outputs": [],
   "source": [
    "###########################################################################\n",
    "# Settings\n",
    "###########################################################################\n",
    "isochrones = \"Padova\"\n",
    "sigma_star_kms = 250\n",
    "z = 0.01\n",
    "SNR = 100\n",
    "\n",
    "niters = 1000\n",
    "nthreads = 20\n",
    "\n",
    "# Load the stellar templates so we can get the age & metallicity dimensions\n",
    "_, _, metallicities, ages = load_ssp_templates(isochrones)\n",
    "N_ages = len(ages)\n",
    "N_metallicities = len(metallicities)\n"
   ]
  },
  {
   "cell_type": "code",
   "execution_count": 86,
   "metadata": {},
   "outputs": [],
   "source": [
    "###########################################################################\n",
    "# Helper function for running MC simulations\n",
    "###########################################################################\n",
    "def ppxf_helper(args):\n",
    "    # Unpack arguments\n",
    "    seed, spec, spec_err, lambda_vals_A = args\n",
    "    \n",
    "    # Add \"extra\" noise to the spectrum\n",
    "    rng = RandomState(seed)\n",
    "    noise = rng.normal(scale=spec_err)\n",
    "    spec_noise = spec + noise\n",
    "\n",
    "    # This is to mitigate the \"edge effects\" of the convolution with the LSF\n",
    "    spec_noise[0] = -9999\n",
    "    spec_noise[-1] = -9999\n",
    "\n",
    "    # Run ppxf\n",
    "    pp = run_ppxf(spec=spec_noise, spec_err=spec_err, lambda_vals_A=lambda_vals_A,\n",
    "                  z=z, ngascomponents=1,\n",
    "                  regularisation_method=\"none\", \n",
    "                  isochrones=\"Padova\",\n",
    "                  fit_gas=False, tie_balmer=True,\n",
    "                  plotit=False, savefigs=False, interactive_mode=False)\n",
    "    return pp\n"
   ]
  },
  {
   "cell_type": "code",
   "execution_count": 87,
   "metadata": {
    "scrolled": true
   },
   "outputs": [
    {
     "data": {
      "application/vnd.jupyter.widget-view+json": {
       "model_id": "1fafe6a0fff847eaa51a624f9c32f167",
       "version_major": 2,
       "version_minor": 0
      },
      "text/plain": [
       "Canvas(toolbar=Toolbar(toolitems=[('Home', 'Reset original view', 'home', 'home'), ('Back', 'Back to previous …"
      ]
     },
     "metadata": {},
     "output_type": "display_data"
    },
    {
     "name": "stderr",
     "output_type": "stream",
     "text": [
      "/home/u5708159/python/Modules/ppxftests/mockspec.py:178: RuntimeWarning: More than 20 figures have been opened. Figures created through the pyplot interface (`matplotlib.pyplot.figure`) are retained until explicitly closed and may consume too much memory. (To control this warning, see the rcParam `figure.max_open_warning`).\n",
      "  fig, ax = plt.subplots(nrows=1, ncols=1, figsize=(fig_w, fig_h))\n"
     ]
    },
    {
     "data": {
      "application/vnd.jupyter.widget-view+json": {
       "model_id": "01f77c2242094b37950f4636479867ba",
       "version_major": 2,
       "version_minor": 0
      },
      "text/plain": [
       "Canvas(toolbar=Toolbar(toolitems=[('Home', 'Reset original view', 'home', 'home'), ('Back', 'Back to previous …"
      ]
     },
     "metadata": {},
     "output_type": "display_data"
    },
    {
     "name": "stderr",
     "output_type": "stream",
     "text": [
      "/home/u5708159/python/Modules/ppxftests/mockspec.py:398: RuntimeWarning: More than 20 figures have been opened. Figures created through the pyplot interface (`matplotlib.pyplot.figure`) are retained until explicitly closed and may consume too much memory. (To control this warning, see the rcParam `figure.max_open_warning`).\n",
      "  fig, ax = plt.subplots(nrows=1, ncols=1, figsize=(fig_w, fig_h))\n"
     ]
    },
    {
     "data": {
      "application/vnd.jupyter.widget-view+json": {
       "model_id": "6e660649adf24a4bac5525e0a65a45c4",
       "version_major": 2,
       "version_minor": 0
      },
      "text/plain": [
       "Canvas(toolbar=Toolbar(toolitems=[('Home', 'Reset original view', 'home', 'home'), ('Back', 'Back to previous …"
      ]
     },
     "metadata": {},
     "output_type": "display_data"
    },
    {
     "name": "stderr",
     "output_type": "stream",
     "text": [
      "/home/u5708159/python/Modules/ppxftests/ppxf_plot.py:31: RuntimeWarning: More than 20 figures have been opened. Figures created through the pyplot interface (`matplotlib.pyplot.figure`) are retained until explicitly closed and may consume too much memory. (To control this warning, see the rcParam `figure.max_open_warning`).\n",
      "  fig = plt.figure(figsize=(10, 3.5))\n"
     ]
    },
    {
     "data": {
      "application/vnd.jupyter.widget-view+json": {
       "model_id": "48b810d1218b46fdaacef83571e09fe6",
       "version_major": 2,
       "version_minor": 0
      },
      "text/plain": [
       "Canvas(toolbar=Toolbar(toolitems=[('Home', 'Reset original view', 'home', 'home'), ('Back', 'Back to previous …"
      ]
     },
     "metadata": {},
     "output_type": "display_data"
    }
   ],
   "source": [
    "###########################################################################\n",
    "# Load SFH\n",
    "###########################################################################\n",
    "sfh_mw = load_sfh(41, plotit=True)\n",
    "sfh_mw_1D = np.nansum(sfh_mw, axis=0)\n",
    "bin_edges, bin_widths = get_bin_edges_and_widths(isochrones=isochrones)\n",
    "sfr_mw_1D = sfh_mw_1D / bin_widths\n",
    "M_tot = np.nansum(sfh_mw)\n",
    "\n",
    "###########################################################################\n",
    "# Generate spectrum\n",
    "###########################################################################\n",
    "spec, spec_err, lambda_vals_A = create_mock_spectrum(\n",
    "    sfh_mass_weighted=sfh_mw,\n",
    "    agn_continuum=False,\n",
    "    isochrones=isochrones, z=z, SNR=SNR, sigma_star_kms=sigma_star_kms,\n",
    "    plotit=True)\n"
   ]
  },
  {
   "cell_type": "code",
   "execution_count": 88,
   "metadata": {},
   "outputs": [],
   "source": [
    "plt.close(\"all\")"
   ]
  },
  {
   "cell_type": "code",
   "execution_count": 89,
   "metadata": {},
   "outputs": [
    {
     "name": "stdout",
     "output_type": "stream",
     "text": [
      "Running ppxf on 20 threads...\n"
     ]
    },
    {
     "data": {
      "application/vnd.jupyter.widget-view+json": {
       "model_id": "047eab0e8d194796b1fc8dbefd6ff4f1",
       "version_major": 2,
       "version_minor": 0
      },
      "text/plain": [
       "HBox(children=(IntProgress(value=0, max=1000), HTML(value='')))"
      ]
     },
     "metadata": {},
     "output_type": "display_data"
    },
    {
     "name": "stdout",
     "output_type": "stream",
     "text": [
      "\n",
      "Elapsed time in ppxf: 2465.69 s\n"
     ]
    }
   ],
   "source": [
    "###########################################################################\n",
    "# Run MC simulations with ppxf\n",
    "###########################################################################\n",
    "# Input arguments\n",
    "seeds = list(np.random.randint(low=0, high=100 * niters, size=niters))\n",
    "args_list = [[s, spec, spec_err, lambda_vals_A] for s in seeds]\n",
    "\n",
    "# Run in parallel\n",
    "print(f\"Running ppxf on {nthreads} threads...\")\n",
    "t = time()\n",
    "with multiprocessing.Pool(nthreads) as pool:\n",
    "    pp_list = list(tqdm(pool.imap(ppxf_helper, args_list), total=niters))\n",
    "print(f\"Elapsed time in ppxf: {time() - t:.2f} s\")"
   ]
  },
  {
   "cell_type": "code",
   "execution_count": 114,
   "metadata": {},
   "outputs": [],
   "source": [
    "###########################################################################\n",
    "# Compute mean quantities from the MC runs\n",
    "###########################################################################\n",
    "sfh_MC_mw_list = [pp.weights_mass_weighted for pp in pp_list]\n",
    "sfh_MC_mw_1D_list = [pp.sfh_mw_1D for pp in pp_list]\n",
    "sfr_MC_mw_list = [pp.sfr_mean for pp in pp_list]\n",
    "\n",
    "# Compute the mean SFH from the MC runs\n",
    "sfh_MC_mw_mean = np.nansum(np.array(sfh_MC_mw_list), axis=0) / len(sfh_MC_mw_list)\n",
    "sfh_MC_mw_1D_mean = np.nansum(sfh_MC_mw_mean, axis=0)\n",
    "sfr_MC_mw_mean = np.nansum(np.array(sfr_MC_mw_list), axis=0) / len(sfr_MC_mw_list)\n",
    "\n",
    "# Compute the mean mass-weighted age below 1 Gyr\n",
    "age_thresh = 1e9  # yr\n",
    "age_mw_idx_MC_list = [compute_mw_age(sfh, age_thresh, isochrones)[1] for sfh in sfh_MC_mw_list]\n",
    "age_mw_idx_MC_median = np.nanmedian(age_mw_idx_MC_list)\n",
    "age_mw_idx_MC_std = np.nanstd(age_mw_idx_MC_list)\n",
    "age_mw_idx_input = compute_mw_age(sfh_mw, age_thresh, isochrones)[1]\n",
    "\n",
    "# Compute the \"SFR age\"\n",
    "sfr_thresh = 1.0  # Msun/yr\n",
    "sfr_age_idx_MC_list = [compute_sfr_thresh_age(sfh, sfr_thresh, isochrones)[1] for sfh in sfh_MC_mw_list]\n",
    "sfr_age_idx_MC_median = np.nanmedian(sfr_age_idx_MC_list)\n",
    "sfr_age_idx_MC_mean = np.nanmean(sfr_age_idx_MC_list)\n",
    "sfr_age_idx_MC_std = np.nanstd(sfr_age_idx_MC_list)\n",
    "sfr_age_idx_input = compute_sfr_thresh_age(sfh_mw, sfr_thresh, isochrones)[1]"
   ]
  },
  {
   "cell_type": "code",
   "execution_count": 125,
   "metadata": {
    "scrolled": true
   },
   "outputs": [
    {
     "data": {
      "text/plain": [
       "16"
      ]
     },
     "execution_count": 125,
     "metadata": {},
     "output_type": "execute_result"
    }
   ],
   "source": [
    "sfr_age_idx_input"
   ]
  },
  {
   "cell_type": "code",
   "execution_count": 121,
   "metadata": {},
   "outputs": [
    {
     "data": {
      "text/plain": [
       "12.0"
      ]
     },
     "execution_count": 121,
     "metadata": {},
     "output_type": "execute_result"
    }
   ],
   "source": [
    "np.nanmedian(sfr_age_idx_MC_list)"
   ]
  },
  {
   "cell_type": "code",
   "execution_count": 124,
   "metadata": {},
   "outputs": [
    {
     "data": {
      "application/vnd.jupyter.widget-view+json": {
       "model_id": "c5cfa55757a24789a71c3fa561c096db",
       "version_major": 2,
       "version_minor": 0
      },
      "text/plain": [
       "Canvas(toolbar=Toolbar(toolitems=[('Home', 'Reset original view', 'home', 'home'), ('Back', 'Back to previous …"
      ]
     },
     "metadata": {},
     "output_type": "display_data"
    }
   ],
   "source": [
    "###########################################################################\n",
    "# Plot the mass-weighted weights, summed over the metallicity dimension\n",
    "###########################################################################\n",
    "fig = plt.figure(figsize=(13, 4))\n",
    "ax = fig.add_axes([0.1, 0.2, 0.7, 0.7])\n",
    "ax.set_title(f\"Mass-weighted template weights (S/N = {SNR})\")\n",
    "\n",
    "# Plot the SFHs from each ppxf run, plus the \"truth\" SFH\n",
    "ax.fill_between(range(N_ages), sfh_mw_1D, step=\"mid\", alpha=1.0, color=\"lightblue\", label=\"Input SFH\")\n",
    "for jj in range(niters):\n",
    "    ax.step(range(N_ages), sfh_MC_mw_1D_list[jj], color=\"pink\", alpha=0.2, where=\"mid\", linewidth=0.25, label=\"ppxf fits (MC simluations)\" if jj == 0 else None)\n",
    "ax.step(range(N_ages), sfh_MC_mw_1D_mean, color=\"red\", where=\"mid\", label=\"Mean ppxf fit (MC simulations)\")\n",
    "# ax.step(range(N_ages), sfh_fit_mw_1D_regul, color=\"lightgreen\", where=\"mid\", label=\"ppxf fit (regularised)\")\n",
    "\n",
    "# Plot horizontal error bars indicating the SFR threshold age from the MC simulations\n",
    "y = 10**(0.9 * np.log10(ax.get_ylim()[1])) if log_scale else 0.9 * ax.get_ylim()[1]\n",
    "ax.errorbar(x=sfr_age_idx_MC_median, y=y, xerr=sfr_age_idx_MC_std, yerr=0, \n",
    "            marker=\"^\", mfc=\"red\", mec=\"red\", ecolor=\"red\", linestyle=\"none\",\n",
    "            label=\"SFR age (median, MC simulations)\")\n",
    "ax.errorbar(x=sfr_age_idx_MC_mean, y=y, xerr=sfr_age_idx_MC_std, yerr=0, \n",
    "            marker=\"^\", mfc=\"orange\", mec=\"orange\", ecolor=\"orange\", linestyle=\"none\",\n",
    "            label=\"SFR age (mean, MC simulations)\")\n",
    "ax.errorbar(x=sfr_age_idx_input, y=y, xerr=0, yerr=0, \n",
    "            marker=\"^\", mfc=\"lightblue\", mec=\"lightblue\", ecolor=\"lightblue\", linestyle=\"none\", \n",
    "            label=\"SFR age (input)\")\n",
    "\n",
    "# Plot horizontal error bars indicating the mean mass-weighted age from the MC simulations\n",
    "y = 10**(0.8 * np.log10(ax.get_ylim()[1])) if log_scale else 0.8 * ax.get_ylim()[1]\n",
    "ax.errorbar(x=age_mw_idx_MC_median, y=y, xerr=sfr_age_idx_MC_std, yerr=0, \n",
    "            marker=\"D\", mfc=\"red\", mec=\"red\", ecolor=\"red\", linestyle=\"none\",\n",
    "            label=\"Mean MW age < 1 Gyr (MC simulations)\")\n",
    "ax.errorbar(x=age_mw_idx_input, y=y, xerr=0, yerr=0, \n",
    "            marker=\"D\", mfc=\"lightblue\", mec=\"lightblue\", ecolor=\"lightblue\", linestyle=\"none\", \n",
    "            label=\"Mean MW age < 1 Gyr (input)\")\n",
    "\n",
    "# Decorations \n",
    "ax.set_xticks(range(N_ages))\n",
    "ax.set_xlabel(\"Age (Myr)\")\n",
    "ax.set_xticklabels([\"{:}\".format(age / 1e6) for age in ages], rotation=\"vertical\", fontsize=\"x-small\")\n",
    "ax.autoscale(axis=\"x\", enable=True, tight=True)\n",
    "ax.set_ylim([1, None])\n",
    "ax.set_ylabel(r\"Template weight ($\\rm M_\\odot$)\")\n",
    "ax.legend(fontsize=\"x-small\", loc=\"center left\", bbox_to_anchor=(1.01, 0.5))\n",
    "ax.set_xlabel(\"Age (Myr)\")\n",
    "ax.set_yscale(\"log\") if log_scale else None"
   ]
  },
  {
   "cell_type": "code",
   "execution_count": 123,
   "metadata": {
    "scrolled": false
   },
   "outputs": [
    {
     "data": {
      "application/vnd.jupyter.widget-view+json": {
       "model_id": "ee40467b9b3d42f9b7941eb9131c50e7",
       "version_major": 2,
       "version_minor": 0
      },
      "text/plain": [
       "Canvas(toolbar=Toolbar(toolitems=[('Home', 'Reset original view', 'home', 'home'), ('Back', 'Back to previous …"
      ]
     },
     "metadata": {},
     "output_type": "display_data"
    }
   ],
   "source": [
    "###########################################################################\n",
    "# Plot the average SFR in each bin\n",
    "###########################################################################\n",
    "fig = plt.figure(figsize=(13, 4))\n",
    "ax = fig.add_axes([0.1, 0.2, 0.7, 0.7])\n",
    "ax.set_title(f\"Mean SFR (S/N = {SNR})\")\n",
    "\n",
    "# Plot the SFHs from each ppxf run, plus the \"truth\" SFH\n",
    "ax.fill_between(range(N_ages), sfr_mw_1D, step=\"mid\", alpha=1.0, color=\"lightblue\", label=\"Input mean SFR\")\n",
    "for jj in range(niters):\n",
    "    ax.step(range(N_ages), sfr_MC_mw_list[jj], color=\"pink\", alpha=0.2, where=\"mid\", linewidth=0.25, label=\"ppxf fits (MC simluations)\" if jj == 0 else None)\n",
    "ax.step(range(N_ages), sfr_MC_mw_mean, color=\"red\", where=\"mid\", label=\"Mean ppxf fit (MC simulations)\")\n",
    "\n",
    "# Plot horizontal error bars indicating the SFR threshold age from the MC simulations\n",
    "y = 10**(0.9 * np.log10(ax.get_ylim()[1])) if log_scale else 0.9 * ax.get_ylim()[1]\n",
    "ax.errorbar(x=sfr_age_idx_MC_median, y=y, xerr=sfr_age_idx_MC_std, yerr=0, \n",
    "            marker=\"^\", mfc=\"red\", mec=\"red\", ecolor=\"red\", linestyle=\"none\",\n",
    "            label=\"SFR age (median, MC simulations)\")\n",
    "ax.errorbar(x=sfr_age_idx_MC_mean, y=y, xerr=sfr_age_idx_MC_std, yerr=0, \n",
    "            marker=\"^\", mfc=\"orange\", mec=\"orange\", ecolor=\"orange\", linestyle=\"none\",\n",
    "            label=\"SFR age (mean, MC simulations)\")\n",
    "ax.errorbar(x=sfr_age_idx_input, y=y, xerr=0, yerr=0, \n",
    "            marker=\"D\", mfc=\"lightblue\", mec=\"lightblue\", ecolor=\"lightblue\", linestyle=\"none\",\n",
    "            label=\"SFR age (input)\")\n",
    "\n",
    "# Decorations \n",
    "ax.set_xticks(range(N_ages))\n",
    "ax.set_xlabel(\"Age (Myr)\")\n",
    "ax.set_xticklabels([\"{:}\".format(age / 1e6) for age in ages], rotation=\"vertical\", fontsize=\"x-small\")\n",
    "ax.autoscale(axis=\"x\", enable=True, tight=True)\n",
    "ax.set_ylabel(r\"Mean SFR ($\\rm M_\\odot \\, yr^{-1}$\")\n",
    "ax.legend(fontsize=\"x-small\", loc=\"center left\", bbox_to_anchor=(1.01, 0.5))\n",
    "ax.set_xlabel(\"Age (Myr)\")\n",
    "ax.set_yscale(\"log\") if log_scale else None"
   ]
  },
  {
   "cell_type": "code",
   "execution_count": null,
   "metadata": {},
   "outputs": [],
   "source": []
  }
 ],
 "metadata": {
  "kernelspec": {
   "display_name": "Python 3",
   "language": "python",
   "name": "python3"
  },
  "language_info": {
   "codemirror_mode": {
    "name": "ipython",
    "version": 3
   },
   "file_extension": ".py",
   "mimetype": "text/x-python",
   "name": "python",
   "nbconvert_exporter": "python",
   "pygments_lexer": "ipython3",
   "version": "3.7.4"
  }
 },
 "nbformat": 4,
 "nbformat_minor": 2
}
