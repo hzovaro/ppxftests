{
 "cells": [
  {
   "cell_type": "markdown",
   "metadata": {},
   "source": [
    "# Test: what is the best way to quantify the starburst age?\n",
    "---\n",
    "\n",
    "In this notebook:\n",
    "* come up with a few different ways to quantify the \"starburst age\".\n",
    "* write necessary functions to compute these quantities given a star formation history.\n",
    "* Using MC runs (and later on regularisation too), see whether any of these quantities can reliably be measured.\n",
    "\n",
    "Ideas:\n",
    "* As a control: previous method - time index at which most recent star formation event drops to 0.\n",
    "    * *potential issue*: definitely unreliable, given the \"noise\" in the recovered SFH that persists at even very high S/N.\n",
    "* Mass weighted age below some age threshold.\n",
    "    * *potential issue*: choice of age threshold is somewhat arbitrary.\n",
    "* Light weighted age below some age threshold.\n",
    "    * *potential issue*: same as above.\n",
    "* Light/mass weighted age computed in a series of ranges\n",
    "\t* to be used in conjunction with the total mass fraction in each range, which will indicate whether there is a significant amount of SF. \n",
    "    * *potential issue*: again, choice of ranges is somewhat arbitrary.\n",
    "* Counting backwards from $t = 0$, the time index at which the galaxy has built up $X \\%$ of its total stellar mass. \n",
    "    * *potential issue*: may not be a good proxy for the precise quantity we're looking for.\n",
    "* In the *most recent* star formation event, find the earliest time index at which the mass in each bin exceeds some minimum value, e.g., 1e7 solar masses or 0.01% of the total stellar mass.\n",
    "    * *potential issue*: bins are not linearly spaced in age - how to deal with this?\n",
    "* In the *most recent* star formation event, find the earliest time index at which the SFR exceeds some minimum value, e.g. $1 \\rm \\, M_\\odot \\, yr^{-1}$.\n",
    "    * *potential issue*: this may not represent the actual SFR in the galaxy, if the new stars were obtained via a merger, for instance. \n"
   ]
  },
  {
   "cell_type": "code",
   "execution_count": 1,
   "metadata": {},
   "outputs": [],
   "source": [
    "%matplotlib widget"
   ]
  },
  {
   "cell_type": "code",
   "execution_count": 2,
   "metadata": {},
   "outputs": [
    {
     "data": {
      "text/html": [
       "<style>.container { width:75% !important; }</style>"
      ],
      "text/plain": [
       "<IPython.core.display.HTML object>"
      ]
     },
     "metadata": {},
     "output_type": "display_data"
    },
    {
     "data": {
      "text/html": [
       "<style>.output_result { max-width:75% !important; }</style>"
      ],
      "text/plain": [
       "<IPython.core.display.HTML object>"
      ]
     },
     "metadata": {},
     "output_type": "display_data"
    }
   ],
   "source": [
    "from IPython.core.display import display, HTML\n",
    "display(HTML(\"<style>.container { width:75% !important; }</style>\"))\n",
    "display(HTML(\"<style>.output_result { max-width:75% !important; }</style>\"))"
   ]
  },
  {
   "cell_type": "code",
   "execution_count": 51,
   "metadata": {},
   "outputs": [],
   "source": [
    "import numpy as np\n",
    "from numpy.random import RandomState\n",
    "from time import time \n",
    "from tqdm.notebook import tqdm\n",
    "import multiprocessing\n",
    "import pandas as pd\n",
    "\n",
    "from astropy.io import fits\n",
    "\n",
    "from ppxftests.run_ppxf import run_ppxf\n",
    "from ppxftests.ssputils import load_ssp_templates, get_bin_edges_and_widths\n",
    "from ppxftests.mockspec import create_mock_spectrum\n",
    "from ppxftests.sfhutils import load_sfh, convert_mass_weights_to_light_weights\n",
    "from ppxftests.sfhutils import compute_mw_age, compute_lw_age, compute_sfr_thresh_age, compute_sb_zero_age, compute_mass\n",
    "from ppxftests.ppxf_plot import plot_sfh_mass_weighted, plot_sfh_light_weighted\n",
    "\n",
    "import matplotlib.pyplot as plt\n",
    "plt.ion()\n",
    "plt.close(\"all\")\n",
    "\n",
    "from IPython.core.debugger import Tracer"
   ]
  },
  {
   "cell_type": "code",
   "execution_count": 4,
   "metadata": {},
   "outputs": [],
   "source": [
    "###########################################################################\n",
    "# Settings\n",
    "###########################################################################\n",
    "isochrones = \"Padova\"\n",
    "sigma_star_kms = 250\n",
    "z = 0.01\n",
    "\n",
    "# Load the stellar templates so we can get the age & metallicity dimensions\n",
    "_, _, metallicities, ages = load_ssp_templates(isochrones)\n",
    "N_ages = len(ages)\n",
    "N_metallicities = len(metallicities)\n"
   ]
  },
  {
   "cell_type": "code",
   "execution_count": 58,
   "metadata": {
    "scrolled": true
   },
   "outputs": [
    {
     "data": {
      "application/vnd.jupyter.widget-view+json": {
       "model_id": "af52e112c4da484281933773c51bdc38",
       "version_major": 2,
       "version_minor": 0
      },
      "text/plain": [
       "Canvas(toolbar=Toolbar(toolitems=[('Home', 'Reset original view', 'home', 'home'), ('Back', 'Back to previous …"
      ]
     },
     "metadata": {},
     "output_type": "display_data"
    },
    {
     "data": {
      "application/vnd.jupyter.widget-view+json": {
       "model_id": "d53ff98cf9064567be3054f4e0169945",
       "version_major": 2,
       "version_minor": 0
      },
      "text/plain": [
       "Canvas(toolbar=Toolbar(toolitems=[('Home', 'Reset original view', 'home', 'home'), ('Back', 'Back to previous …"
      ]
     },
     "metadata": {},
     "output_type": "display_data"
    },
    {
     "data": {
      "application/vnd.jupyter.widget-view+json": {
       "model_id": "b1fbebe950ff4f9bbb281d6d21f3af88",
       "version_major": 2,
       "version_minor": 0
      },
      "text/plain": [
       "Canvas(toolbar=Toolbar(toolitems=[('Home', 'Reset original view', 'home', 'home'), ('Back', 'Back to previous …"
      ]
     },
     "metadata": {},
     "output_type": "display_data"
    },
    {
     "name": "stdout",
     "output_type": "stream",
     "text": [
      "compute_sb_zero_age(): 28.18 Myr\n",
      "compute_mw_age(): 7149.67 Myr\n",
      "compute_lw_age(): 5804.59 Myr\n",
      "compute_sfr_thresh_age(): 25.12 Myr\n"
     ]
    }
   ],
   "source": [
    "####################################################################\n",
    "# Plot to check each of these have worked\n",
    "####################################################################\n",
    "sfh_mw, sfh_lw, sfr_2D = load_sfh(41, plotit=True)\n",
    "sfh_mw_1D = np.nansum(sfh_mw, axis=0)\n",
    "sfh_lw_1D = np.nansum(sfh_lw, axis=0)\n",
    "sfr_1D = np.nansum(sfr_2D, axis=0)\n",
    "M_tot = np.nansum(sfh_mw)\n",
    "\n",
    "# Parameters for age estimators\n",
    "age_thresh = 1e8\n",
    "sfr_thresh = 1\n",
    "\n",
    "# Compute the mass- and light-weighted ages in 3 different time bins\n",
    "age_thresh_vals = [ages[0], 100e6, 1000e6, ages[-1]]\n",
    "log_age_idx_mw_list = []\n",
    "log_age_idx_lw_list = []\n",
    "m_list = []\n",
    "for aa in range(len(age_thresh_vals) - 1):\n",
    "    log_age_mw, log_age_idx_mw = compute_mw_age(sfh_mw, isochrones=isochrones,\n",
    "                                                age_thresh_lower=age_thresh_vals[aa],\n",
    "                                                age_thresh_upper=age_thresh_vals[aa + 1])\n",
    "    log_age_lw, log_age_idx_lw = compute_lw_age(sfh_lw, isochrones=isochrones,\n",
    "                                                age_thresh_lower=age_thresh_vals[aa],\n",
    "                                                age_thresh_upper=age_thresh_vals[aa + 1])\n",
    "    m = compute_mass(sfh_mw, isochrones=isochrones,\n",
    "                     age_thresh_lower=age_thresh_vals[aa],\n",
    "                     age_thresh_upper=age_thresh_vals[aa + 1])\n",
    "    log_age_idx_mw_list.append(log_age_idx_mw)\n",
    "    log_age_idx_lw_list.append(log_age_idx_lw)\n",
    "    m_list.append(m)\n",
    "    \n",
    "log_age_sb, log_age_idx_sb = compute_sb_zero_age(sfh_mw, isochrones=isochrones)  # \"Starburst\" age\n",
    "log_age_sfr, log_age_idx_sfr = compute_sfr_thresh_age(sfh_mw, sfr_thresh, isochrones=isochrones)  # SFR threshold\n",
    "\n",
    "print(f\"compute_sb_zero_age(): {10**log_age_sb / 1e6:.2f} Myr\")\n",
    "print(f\"compute_mw_age(): {10**log_age_mw / 1e6:.2f} Myr\")\n",
    "print(f\"compute_lw_age(): {10**log_age_lw / 1e6:.2f} Myr\")\n",
    "print(f\"compute_sfr_thresh_age(): {10**log_age_sfr / 1e6:.2f} Myr\")"
   ]
  },
  {
   "cell_type": "code",
   "execution_count": 54,
   "metadata": {},
   "outputs": [
    {
     "data": {
      "application/vnd.jupyter.widget-view+json": {
       "model_id": "827e878ee6af4f29b881c183ce0cf285",
       "version_major": 2,
       "version_minor": 0
      },
      "text/plain": [
       "Canvas(toolbar=Toolbar(toolitems=[('Home', 'Reset original view', 'home', 'home'), ('Back', 'Back to previous …"
      ]
     },
     "metadata": {},
     "output_type": "display_data"
    },
    {
     "data": {
      "application/vnd.jupyter.widget-view+json": {
       "model_id": "6852da90c2384e78a99d04aa39016070",
       "version_major": 2,
       "version_minor": 0
      },
      "text/plain": [
       "Canvas(toolbar=Toolbar(toolitems=[('Home', 'Reset original view', 'home', 'home'), ('Back', 'Back to previous …"
      ]
     },
     "metadata": {},
     "output_type": "display_data"
    },
    {
     "data": {
      "application/vnd.jupyter.widget-view+json": {
       "model_id": "f4f51b59912d4a38b833a8211a00ae3f",
       "version_major": 2,
       "version_minor": 0
      },
      "text/plain": [
       "Canvas(toolbar=Toolbar(toolitems=[('Home', 'Reset original view', 'home', 'home'), ('Back', 'Back to previous …"
      ]
     },
     "metadata": {},
     "output_type": "display_data"
    },
    {
     "data": {
      "text/plain": [
       "Text(0.5, 0, 'Bin age (Myr)')"
      ]
     },
     "execution_count": 54,
     "metadata": {},
     "output_type": "execute_result"
    }
   ],
   "source": [
    "####################################################################\n",
    "# Plot the mass-weighted SFH and the cumulative mass counting from t = 0\n",
    "####################################################################\n",
    "fig, ax = plt.subplots(figsize=(13, 4))\n",
    "fig.subplots_adjust(bottom=0.3, top=0.9)\n",
    "\n",
    "# Plot the SFH and the cumulative mass from t = 0\n",
    "ax.step(x=range(N_ages), y=sfh_mw_1D / M_tot, color=\"black\", where=\"mid\", label=\"1D SFH\")\n",
    "ax.step(x=range(N_ages), y=np.cumsum(sfh_mw_1D) / M_tot, where=\"mid\", label=\"Cumulative mass\", linewidth=0.5)\n",
    "\n",
    "# Indicate each SB age measure\n",
    "ax.axvline(log_age_idx_sb, color=\"grey\", label=\"Starburst age\")\n",
    "for aa in range(len(log_age_idx_mw_list)):\n",
    "    ax.axvline(log_age_idx_mw_list[aa], \n",
    "               color=\"blue\", \n",
    "               label=f\"Mass-weighted mean age ({age_thresh_vals[aa] / 1e6:.2f} ≤ t < {age_thresh_vals[aa + 1] / 1e6:.2f} Myr), log M = {np.log10(m_list[aa]):.2f}\")\n",
    "    ax.axvline(log_age_idx_lw_list[aa], \n",
    "               color=\"orange\", \n",
    "               label=f\"Light-weighted mean age ({age_thresh_vals[aa] / 1e6:.2f} ≤ t < {age_thresh_vals[aa + 1] / 1e6:.2f} Myr), log M = {np.log10(m_list[aa]):.2f}\")\n",
    "ax.axvline(log_age_idx_sfr, color=\"green\", label=\"SFR\")\n",
    "\n",
    "ax.set_yscale(\"log\")\n",
    "ax.set_xticks(range(N_ages))\n",
    "ax.set_xticklabels(ages / 1e6, rotation=\"vertical\", fontsize=\"x-small\")\n",
    "ax.grid()\n",
    "ax.legend(fontsize=\"x-small\")\n",
    "ax.autoscale(axis=\"x\", tight=True, enable=True)\n",
    "ax.set_ylabel(r\"Stellar mass fraction $M/M_{\\rm tot}$\")\n",
    "ax.set_xlabel(\"Bin age (Myr)\")\n",
    "\n",
    "####################################################################\n",
    "# Plot the light-weighted SFH\n",
    "####################################################################\n",
    "fig, ax = plt.subplots(figsize=(13, 4))\n",
    "fig.subplots_adjust(bottom=0.3, top=0.9)\n",
    "\n",
    "# Plot the SFH and the cumulative mass from t = 0\n",
    "ax.step(x=range(N_ages), y=sfh_lw_1D, color=\"black\", where=\"mid\", label=\"1D SFH\")\n",
    "\n",
    "# Indicate each SB age measure\n",
    "ax.axvline(log_age_idx_sb, color=\"grey\", label=\"Starburst age\")\n",
    "for aa in range(len(log_age_idx_mw_list)):\n",
    "    ax.axvline(log_age_idx_mw_list[aa], \n",
    "               color=\"blue\", \n",
    "               label=f\"Mass-weighted mean age ({age_thresh_vals[aa] / 1e6:.2f} ≤ t < {age_thresh_vals[aa + 1] / 1e6:.2f} Myr), log M = {np.log10(m_list[aa]):.2f}\")\n",
    "    ax.axvline(log_age_idx_lw_list[aa], \n",
    "               color=\"orange\", \n",
    "               label=f\"Light-weighted mean age ({age_thresh_vals[aa] / 1e6:.2f} ≤ t < {age_thresh_vals[aa + 1] / 1e6:.2f} Myr), log M = {np.log10(m_list[aa]):.2f}\")\n",
    "ax.axvline(log_age_idx_sfr, color=\"green\", label=\"SFR\")\n",
    "\n",
    "ax.set_yscale(\"log\")\n",
    "ax.set_xticks(range(N_ages))\n",
    "ax.set_xticklabels(ages / 1e6, rotation=\"vertical\", fontsize=\"x-small\")\n",
    "ax.grid()\n",
    "ax.legend(fontsize=\"x-small\")\n",
    "ax.autoscale(axis=\"x\", tight=True, enable=True)\n",
    "ax.set_ylabel(r\"Light-weighted SFH (at 5000 Å)\")\n",
    "ax.set_xlabel(\"Bin age (Myr)\")\n",
    "\n",
    "\n",
    "####################################################################\n",
    "# Plot the mean SFR in each bin\n",
    "####################################################################\n",
    "# Plot the mean SFR in each bin\n",
    "fig, ax = plt.subplots(figsize=(13, 4))\n",
    "fig.subplots_adjust(bottom=0.3, top=0.9)\n",
    "ax.step(x=range(N_ages), y=sfr_1D, where=\"mid\", label=\"Average SFR\")\n",
    "\n",
    "# Indicate each SB age measure\n",
    "ax.axvline(log_age_idx_sb, color=\"grey\", label=\"Starburst age\")\n",
    "ax.axvline(log_age_idx_mw, color=\"blue\", label=f\"Mass-weighted mean age (< {age_thresh / 1e6:.0f} Myr)\")\n",
    "ax.axvline(log_age_idx_lw, color=\"orange\", label=f\"light-weighted mean age (< {age_thresh / 1e6:.0f} Myr)\")\n",
    "ax.axvline(log_age_idx_sfr, color=\"green\", label=\"SFR\")\n",
    "\n",
    "ax.axhline(sfr_thresh, linestyle=\"--\", color=\"grey\", label=\"SFR threshold\")\n",
    "\n",
    "ax.set_yscale(\"log\")\n",
    "ax.set_xticks(range(N_ages))\n",
    "ax.set_xticklabels(ages / 1e6, rotation=\"vertical\", fontsize=\"x-small\")\n",
    "ax.grid()\n",
    "ax.legend(fontsize=\"x-small\")\n",
    "ax.autoscale(axis=\"x\", tight=True, enable=True)\n",
    "ax.set_ylabel(r\"Mean SFR ($\\rm M_\\odot \\, yr^{-1}$)\")\n",
    "ax.set_xlabel(\"Bin age (Myr)\")"
   ]
  },
  {
   "cell_type": "code",
   "execution_count": 12,
   "metadata": {
    "scrolled": false
   },
   "outputs": [
    {
     "data": {
      "application/vnd.jupyter.widget-view+json": {
       "model_id": "85c3f60bb00743b8884155639ca2538c",
       "version_major": 2,
       "version_minor": 0
      },
      "text/plain": [
       "Canvas(toolbar=Toolbar(toolitems=[('Home', 'Reset original view', 'home', 'home'), ('Back', 'Back to previous …"
      ]
     },
     "metadata": {},
     "output_type": "display_data"
    },
    {
     "ename": "NameError",
     "evalue": "name 'sfh_1D' is not defined",
     "output_type": "error",
     "traceback": [
      "\u001b[0;31m---------------------------------------------------------------------------\u001b[0m",
      "\u001b[0;31mNameError\u001b[0m                                 Traceback (most recent call last)",
      "\u001b[0;32m<ipython-input-12-f70ae352c816>\u001b[0m in \u001b[0;36m<module>\u001b[0;34m\u001b[0m\n\u001b[1;32m     38\u001b[0m \u001b[0mbin_edges\u001b[0m\u001b[0;34m[\u001b[0m\u001b[0;34m-\u001b[0m\u001b[0;36m1\u001b[0m\u001b[0;34m]\u001b[0m \u001b[0;34m=\u001b[0m \u001b[0;36m10\u001b[0m\u001b[0;34m**\u001b[0m\u001b[0;34m(\u001b[0m\u001b[0;36m0.5\u001b[0m \u001b[0;34m*\u001b[0m \u001b[0;34m(\u001b[0m\u001b[0mnp\u001b[0m\u001b[0;34m.\u001b[0m\u001b[0mlog10\u001b[0m\u001b[0;34m(\u001b[0m\u001b[0mages\u001b[0m\u001b[0;34m[\u001b[0m\u001b[0;34m-\u001b[0m\u001b[0;36m1\u001b[0m\u001b[0;34m]\u001b[0m\u001b[0;34m)\u001b[0m \u001b[0;34m+\u001b[0m \u001b[0mnp\u001b[0m\u001b[0;34m.\u001b[0m\u001b[0mlog10\u001b[0m\u001b[0;34m(\u001b[0m\u001b[0mage_last\u001b[0m\u001b[0;34m)\u001b[0m\u001b[0;34m)\u001b[0m\u001b[0;34m)\u001b[0m\u001b[0;34m\u001b[0m\u001b[0;34m\u001b[0m\u001b[0m\n\u001b[1;32m     39\u001b[0m \u001b[0mbin_sizes\u001b[0m \u001b[0;34m=\u001b[0m \u001b[0mnp\u001b[0m\u001b[0;34m.\u001b[0m\u001b[0mdiff\u001b[0m\u001b[0;34m(\u001b[0m\u001b[0mbin_edges\u001b[0m\u001b[0;34m)\u001b[0m\u001b[0;34m\u001b[0m\u001b[0;34m\u001b[0m\u001b[0m\n\u001b[0;32m---> 40\u001b[0;31m \u001b[0msfr_avg\u001b[0m \u001b[0;34m=\u001b[0m \u001b[0msfh_1D\u001b[0m \u001b[0;34m/\u001b[0m \u001b[0mbin_sizes\u001b[0m\u001b[0;34m\u001b[0m\u001b[0;34m\u001b[0m\u001b[0m\n\u001b[0m\u001b[1;32m     41\u001b[0m \u001b[0;34m\u001b[0m\u001b[0m\n\u001b[1;32m     42\u001b[0m \u001b[0;31m# Plot the mean SFR in each bin\u001b[0m\u001b[0;34m\u001b[0m\u001b[0;34m\u001b[0m\u001b[0;34m\u001b[0m\u001b[0m\n",
      "\u001b[0;31mNameError\u001b[0m: name 'sfh_1D' is not defined"
     ]
    }
   ],
   "source": [
    "####################################################################\n",
    "# Plot the mass-weighted mean age as a function of age threshold\n",
    "####################################################################\n",
    "mw_mean_ages = [compute_mw_age(sfh_mw, age)[0] for age in ages]\n",
    "fig, ax = plt.subplots()\n",
    "ax.scatter(ages, mw_mean_ages)\n",
    "ax.set_xlabel(\"Age threshold (Myr)\")\n",
    "ax.set_ylabel(\"Mass-weighted mean age (Myr)\")\n",
    "ax.set_xscale(\"log\")\n",
    "ax.set_yscale(\"log\")"
   ]
  },
  {
   "cell_type": "markdown",
   "metadata": {},
   "source": [
    "## How accurately can ppxf return the mass- and luminosity-weighted ages in different bins?\n",
    "---\n",
    "Run ppxf on a few different input SFHs, using the MC method. \n",
    "Plot the SFH with the \"SFR ages\" indicated for both the input and the output."
   ]
  },
  {
   "cell_type": "code",
   "execution_count": 49,
   "metadata": {},
   "outputs": [],
   "source": [
    "###########################################################################\n",
    "# Helper function for running MC simulations\n",
    "###########################################################################\n",
    "def ppxf_helper(args):\n",
    "    # Unpack arguments\n",
    "    seed, spec, spec_err, lambda_vals_A = args\n",
    "    \n",
    "    # Add \"extra\" noise to the spectrum\n",
    "    rng = RandomState(seed)\n",
    "    noise = rng.normal(scale=spec_err)\n",
    "    spec_noise = spec + noise\n",
    "\n",
    "    # This is to mitigate the \"edge effects\" of the convolution with the LSF\n",
    "    spec_noise[0] = -9999\n",
    "    spec_noise[-1] = -9999\n",
    "\n",
    "    # Run ppxf\n",
    "    pp = run_ppxf(spec=spec_noise, spec_err=spec_err, lambda_vals_A=lambda_vals_A,\n",
    "                  z=z, ngascomponents=1,\n",
    "                  regularisation_method=\"none\", \n",
    "                  isochrones=\"Padova\",\n",
    "                  fit_gas=False, tie_balmer=True,\n",
    "                  plotit=False, savefigs=False, interactive_mode=False)\n",
    "    return pp\n"
   ]
  },
  {
   "cell_type": "code",
   "execution_count": 145,
   "metadata": {},
   "outputs": [],
   "source": [
    "###########################################################################\n",
    "# Convenience functions for computing mean quantities from a list of ppxf instances \n",
    "###########################################################################\n",
    "def compute_mean_1D_sfh(pp_list, weighttype):\n",
    "    \"\"\"\n",
    "    Convenience function for computing the mean SFH given a list of ppxf\n",
    "    instances.\n",
    "    \"\"\"\n",
    "    assert weighttype == \"lw\" or weighttype == \"mw\",\\\n",
    "        \"weighttype must be 'lw' or 'mw'!\"\n",
    "\n",
    "    if weighttype == \"lw\":\n",
    "        sfh_list = [pp.sfh_lw_1D for pp in pp_list]\n",
    "    elif weighttype == \"mw\":\n",
    "        sfh_list = [pp.sfh_mw_1D for pp in pp_list]\n",
    "    sfh_1D_mean = np.nansum(np.array(sfh_list), axis=0) / len(sfh_list)\n",
    "\n",
    "    return sfh_1D_mean\n",
    "\n",
    "def compute_mean_mass(pp_list, age_thresh_lower, age_thresh_upper):\n",
    "    \"\"\"\n",
    "    Convenience function for computing the mean & std. dev. of the total mass\n",
    "    in the range [age_thresh_lower, age_thresh_upper] given a list of ppxf instances.\n",
    "    \"\"\"\n",
    "    sfh_list = [pp.weights_mass_weighted for pp in pp_list]\n",
    "    mass_list = [compute_mass(sfh_mw, isochrones, age_thresh_lower, age_thresh_upper) for sfh_mw in sfh_list]\n",
    "    mass_mean = np.nanmean(mass_list)\n",
    "    mass_std = np.nanstd(mass_list)\n",
    "    return mass_mean, mass_std\n",
    "\n",
    "\n",
    "def compute_mean_sfr(pp_list):\n",
    "    \"\"\"\n",
    "    Convenience function for computing the mean SFR given a list of ppxf\n",
    "    instances.\n",
    "    \"\"\"\n",
    "    sfr_list = [pp.sfr_mean for pp in pp_list]\n",
    "    sfr_mean = np.nansum(np.array(sfr_list), axis=0) / len(sfr_list)\n",
    "    return sfr_mean\n",
    "\n",
    "def compute_mean_age(pp_list, weighttype, age_thresh_lower, age_thresh_upper):\n",
    "    \"\"\"\n",
    "    Convenience function for computing the mean & std. dev. of the mass-\n",
    "    weighted age in the range [age_thresh_lower, age_thresh_upper] given \n",
    "    a list of ppxf instances.\n",
    "    \"\"\"\n",
    "    assert weighttype == \"lw\" or weighttype == \"mw\",\\\n",
    "        \"weighttype must be 'lw' or 'mw'!\"\n",
    "    \n",
    "    if weighttype == \"mw\":\n",
    "        sfh_list = [pp.weights_mass_weighted for pp in pp_list]\n",
    "        age_list = [10**compute_mw_age(sfh, isochrones, age_thresh_lower, age_thresh_upper)[0] for sfh in sfh_list]\n",
    "        age_mean = np.nanmean(age_list)\n",
    "        age_std = np.nanstd(age_list)\n",
    "        \n",
    "    elif weighttype == \"lw\":\n",
    "        sfh_list = [pp.weights_light_weighted for pp in pp_list]\n",
    "        age_list = [10**compute_lw_age(sfh, isochrones, age_thresh_lower, age_thresh_upper)[0] for sfh in sfh_list]\n",
    "        age_mean = np.nanmean(age_list)\n",
    "        age_std = np.nanstd(age_list)\n",
    "    \n",
    "    return age_mean, age_std\n",
    "\n",
    "def compute_mean_sfr_thresh_age(pp_list, sfr_thresh):\n",
    "    \"\"\"\n",
    "    Convenience function for computing the mean and std. dev. in the\n",
    "    SFR threshold age from a list of ppxf instances.\n",
    "    \"\"\"\n",
    "    sfr_age_list = [10**compute_sfr_thresh_age(pp.weights_mass_weighted, sfr_thresh, isochrones)[0] for pp in pp_list]\n",
    "    sfr_age_mean = np.nanmean(sfr_age_list)\n",
    "    sfr_age_std = np.nanstd(sfr_age_list)\n",
    "\n",
    "    return sfr_age_mean, sfr_age_std\n"
   ]
  },
  {
   "cell_type": "code",
   "execution_count": 158,
   "metadata": {},
   "outputs": [],
   "source": [
    "###########################################################################\n",
    "# Settings\n",
    "###########################################################################\n",
    "isochrones = \"Padova\"\n",
    "sigma_star_kms = 250\n",
    "SNR = 100\n",
    "z = 0.01\n",
    "\n",
    "niters = 100\n",
    "nthreads = 20\n",
    "\n",
    "# For computing mean ages, etc.\n",
    "age_thresh_vals = [None, 1e7, 1e8, 1e9, None]\n",
    "sfr_thresh = 1\n",
    "\n",
    "# DataFrame for storing results \n",
    "df = pd.DataFrame(index=gals)\n",
    "df.index.name = \"ID\"\n"
   ]
  },
  {
   "cell_type": "code",
   "execution_count": 165,
   "metadata": {},
   "outputs": [
    {
     "data": {
      "text/plain": [
       "12588999.999999993"
      ]
     },
     "execution_count": 165,
     "metadata": {},
     "output_type": "execute_result"
    }
   ],
   "source": [
    "df.loc[gal, f\"SFR age (>{sfr_thresh} Msun yr^-1) (truth)\"]"
   ]
  },
  {
   "cell_type": "code",
   "execution_count": 215,
   "metadata": {
    "scrolled": false
   },
   "outputs": [
    {
     "data": {
      "application/vnd.jupyter.widget-view+json": {
       "model_id": "22fc5d77629e4ca293a673cb3f1d01e6",
       "version_major": 2,
       "version_minor": 0
      },
      "text/plain": [
       "Canvas(toolbar=Toolbar(toolitems=[('Home', 'Reset original view', 'home', 'home'), ('Back', 'Back to previous …"
      ]
     },
     "metadata": {},
     "output_type": "display_data"
    },
    {
     "data": {
      "application/vnd.jupyter.widget-view+json": {
       "model_id": "660657baea844bbe89249f910919190f",
       "version_major": 2,
       "version_minor": 0
      },
      "text/plain": [
       "Canvas(toolbar=Toolbar(toolitems=[('Home', 'Reset original view', 'home', 'home'), ('Back', 'Back to previous …"
      ]
     },
     "metadata": {},
     "output_type": "display_data"
    },
    {
     "data": {
      "application/vnd.jupyter.widget-view+json": {
       "model_id": "fe740a6401e848929e7886e954accbcf",
       "version_major": 2,
       "version_minor": 0
      },
      "text/plain": [
       "Canvas(toolbar=Toolbar(toolitems=[('Home', 'Reset original view', 'home', 'home'), ('Back', 'Back to previous …"
      ]
     },
     "metadata": {},
     "output_type": "display_data"
    }
   ],
   "source": [
    "###########################################################################\n",
    "# Define the SFH\n",
    "###########################################################################\n",
    "gal = 28\n",
    "\n",
    "sfh_mw_input, sfh_lw_input, sfr_avg_input = load_sfh(gal=gal, plotit=True)\n",
    "sfh_mw_1D_input = np.nansum(sfh_mw_input, axis=0)\n",
    "sfh_lw_1D_input = np.nansum(sfh_lw_input, axis=0)\n",
    "\n",
    "# Compute truth values \n",
    "age_sfr_input = 10**compute_sfr_thresh_age(sfh_mw, sfr_thresh, isochrones=isochrones)[0]  # SFR threshold\n",
    "age_sb_input = 10**compute_sb_zero_age(sfh_mw, isochrones=isochrones)[0]  # \"Starburst\" age\n",
    "df.loc[gal, f\"SFR age (>{sfr_thresh} Msun yr^-1) (truth)\"] = age_sfr_input\n",
    "df.loc[gal, f\"SB age (truth)\"] = age_sb_input\n",
    "\n",
    "for aa in range(len(age_thresh_vals)- 1):\n",
    "    age_thresh_lower = age_thresh_vals[aa]\n",
    "    age_thresh_upper = age_thresh_vals[aa + 1]\n",
    "\n",
    "    # Determine age boundaries\n",
    "    if age_thresh_lower is None:\n",
    "        age_thresh_lower = ages[0]\n",
    "    if age_thresh_upper is None:\n",
    "        age_thresh_upper = ages[-1]\n",
    "    \n",
    "    # Compute mass- and light-weighted mean ages, and the total mass too\n",
    "    age_mw_input = 10**compute_mw_age(sfh_mw, isochrones=isochrones, age_thresh_lower=age_thresh_lower, age_thresh_upper=age_thresh_upper)[0]\n",
    "    age_lw_input = 10**compute_lw_age(sfh_lw, isochrones=isochrones, age_thresh_lower=age_thresh_lower, age_thresh_upper=age_thresh_upper)[0]\n",
    "    mass = compute_mass(sfh_mw, isochrones=isochrones, age_thresh_lower=age_thresh_lower, age_thresh_upper=age_thresh_upper)\n",
    "    \n",
    "    # Store in DataFrame\n",
    "    df.loc[gal, f\"MW age {np.log10(age_thresh_lower):.2f} < log t < {np.log10(age_thresh_upper):.2f} (truth)\"] = age_mw_input\n",
    "    df.loc[gal, f\"LW age {np.log10(age_thresh_lower):.2f} < log t < {np.log10(age_thresh_upper):.2f} (truth)\"] = age_lw_input\n",
    "    df.loc[gal, f\"Mass {np.log10(age_thresh_lower):.2f} < log t < {np.log10(age_thresh_upper):.2f} (truth)\"] = mass\n"
   ]
  },
  {
   "cell_type": "code",
   "execution_count": 212,
   "metadata": {},
   "outputs": [
    {
     "data": {
      "text/html": [
       "<div>\n",
       "<style scoped>\n",
       "    .dataframe tbody tr th:only-of-type {\n",
       "        vertical-align: middle;\n",
       "    }\n",
       "\n",
       "    .dataframe tbody tr th {\n",
       "        vertical-align: top;\n",
       "    }\n",
       "\n",
       "    .dataframe thead th {\n",
       "        text-align: right;\n",
       "    }\n",
       "</style>\n",
       "<table border=\"1\" class=\"dataframe\">\n",
       "  <thead>\n",
       "    <tr style=\"text-align: right;\">\n",
       "      <th></th>\n",
       "      <th>Mass 6.60 &lt; log t &lt; 7.00 (truth)</th>\n",
       "      <th>Mass 7.00 &lt; log t &lt; 8.00 (truth)</th>\n",
       "      <th>Mass 8.00 &lt; log t &lt; 9.00 (truth)</th>\n",
       "      <th>Mass 9.00 &lt; log t &lt; 10.25 (truth)</th>\n",
       "      <th>Mass 6.60 &lt; log t &lt; 7.00 (MC) mean</th>\n",
       "      <th>Mass 6.60 &lt; log t &lt; 7.00 (MC) std. dev.</th>\n",
       "      <th>Mass 7.00 &lt; log t &lt; 8.00 (MC) mean</th>\n",
       "      <th>Mass 7.00 &lt; log t &lt; 8.00 (MC) std. dev.</th>\n",
       "      <th>Mass 8.00 &lt; log t &lt; 9.00 (MC) mean</th>\n",
       "      <th>Mass 8.00 &lt; log t &lt; 9.00 (MC) std. dev.</th>\n",
       "      <th>Mass 9.00 &lt; log t &lt; 10.25 (MC) mean</th>\n",
       "      <th>Mass 9.00 &lt; log t &lt; 10.25 (MC) std. dev.</th>\n",
       "      <th>Mass 6.60 &lt; log t &lt; 7.00 (regul)</th>\n",
       "      <th>Mass 7.00 &lt; log t &lt; 8.00 (regul)</th>\n",
       "      <th>Mass 8.00 &lt; log t &lt; 9.00 (regul)</th>\n",
       "      <th>Mass 9.00 &lt; log t &lt; 10.25 (regul)</th>\n",
       "    </tr>\n",
       "    <tr>\n",
       "      <th>ID</th>\n",
       "      <th></th>\n",
       "      <th></th>\n",
       "      <th></th>\n",
       "      <th></th>\n",
       "      <th></th>\n",
       "      <th></th>\n",
       "      <th></th>\n",
       "      <th></th>\n",
       "      <th></th>\n",
       "      <th></th>\n",
       "      <th></th>\n",
       "      <th></th>\n",
       "      <th></th>\n",
       "      <th></th>\n",
       "      <th></th>\n",
       "      <th></th>\n",
       "    </tr>\n",
       "  </thead>\n",
       "  <tbody>\n",
       "    <tr>\n",
       "      <td>0</td>\n",
       "      <td>-inf</td>\n",
       "      <td>8.080792</td>\n",
       "      <td>8.799893</td>\n",
       "      <td>11.193843</td>\n",
       "      <td>7.971063</td>\n",
       "      <td>7.10108</td>\n",
       "      <td>7.642605</td>\n",
       "      <td>8.047643</td>\n",
       "      <td>9.17385</td>\n",
       "      <td>8.713251</td>\n",
       "      <td>11.746359</td>\n",
       "      <td>10.591538</td>\n",
       "      <td>7.065157</td>\n",
       "      <td>8.528689</td>\n",
       "      <td>8.842562</td>\n",
       "      <td>11.690287</td>\n",
       "    </tr>\n",
       "    <tr>\n",
       "      <td>1</td>\n",
       "      <td>NaN</td>\n",
       "      <td>NaN</td>\n",
       "      <td>NaN</td>\n",
       "      <td>NaN</td>\n",
       "      <td>NaN</td>\n",
       "      <td>NaN</td>\n",
       "      <td>NaN</td>\n",
       "      <td>NaN</td>\n",
       "      <td>NaN</td>\n",
       "      <td>NaN</td>\n",
       "      <td>NaN</td>\n",
       "      <td>NaN</td>\n",
       "      <td>NaN</td>\n",
       "      <td>NaN</td>\n",
       "      <td>NaN</td>\n",
       "      <td>NaN</td>\n",
       "    </tr>\n",
       "    <tr>\n",
       "      <td>2</td>\n",
       "      <td>NaN</td>\n",
       "      <td>NaN</td>\n",
       "      <td>NaN</td>\n",
       "      <td>NaN</td>\n",
       "      <td>NaN</td>\n",
       "      <td>NaN</td>\n",
       "      <td>NaN</td>\n",
       "      <td>NaN</td>\n",
       "      <td>NaN</td>\n",
       "      <td>NaN</td>\n",
       "      <td>NaN</td>\n",
       "      <td>NaN</td>\n",
       "      <td>NaN</td>\n",
       "      <td>NaN</td>\n",
       "      <td>NaN</td>\n",
       "      <td>NaN</td>\n",
       "    </tr>\n",
       "    <tr>\n",
       "      <td>3</td>\n",
       "      <td>NaN</td>\n",
       "      <td>NaN</td>\n",
       "      <td>NaN</td>\n",
       "      <td>NaN</td>\n",
       "      <td>NaN</td>\n",
       "      <td>NaN</td>\n",
       "      <td>NaN</td>\n",
       "      <td>NaN</td>\n",
       "      <td>NaN</td>\n",
       "      <td>NaN</td>\n",
       "      <td>NaN</td>\n",
       "      <td>NaN</td>\n",
       "      <td>NaN</td>\n",
       "      <td>NaN</td>\n",
       "      <td>NaN</td>\n",
       "      <td>NaN</td>\n",
       "    </tr>\n",
       "    <tr>\n",
       "      <td>4</td>\n",
       "      <td>NaN</td>\n",
       "      <td>NaN</td>\n",
       "      <td>NaN</td>\n",
       "      <td>NaN</td>\n",
       "      <td>NaN</td>\n",
       "      <td>NaN</td>\n",
       "      <td>NaN</td>\n",
       "      <td>NaN</td>\n",
       "      <td>NaN</td>\n",
       "      <td>NaN</td>\n",
       "      <td>NaN</td>\n",
       "      <td>NaN</td>\n",
       "      <td>NaN</td>\n",
       "      <td>NaN</td>\n",
       "      <td>NaN</td>\n",
       "      <td>NaN</td>\n",
       "    </tr>\n",
       "  </tbody>\n",
       "</table>\n",
       "</div>"
      ],
      "text/plain": [
       "    Mass 6.60 < log t < 7.00 (truth)  Mass 7.00 < log t < 8.00 (truth)  \\\n",
       "ID                                                                       \n",
       "0                               -inf                          8.080792   \n",
       "1                                NaN                               NaN   \n",
       "2                                NaN                               NaN   \n",
       "3                                NaN                               NaN   \n",
       "4                                NaN                               NaN   \n",
       "\n",
       "    Mass 8.00 < log t < 9.00 (truth)  Mass 9.00 < log t < 10.25 (truth)  \\\n",
       "ID                                                                        \n",
       "0                           8.799893                          11.193843   \n",
       "1                                NaN                                NaN   \n",
       "2                                NaN                                NaN   \n",
       "3                                NaN                                NaN   \n",
       "4                                NaN                                NaN   \n",
       "\n",
       "    Mass 6.60 < log t < 7.00 (MC) mean  \\\n",
       "ID                                       \n",
       "0                             7.971063   \n",
       "1                                  NaN   \n",
       "2                                  NaN   \n",
       "3                                  NaN   \n",
       "4                                  NaN   \n",
       "\n",
       "    Mass 6.60 < log t < 7.00 (MC) std. dev.  \\\n",
       "ID                                            \n",
       "0                                   7.10108   \n",
       "1                                       NaN   \n",
       "2                                       NaN   \n",
       "3                                       NaN   \n",
       "4                                       NaN   \n",
       "\n",
       "    Mass 7.00 < log t < 8.00 (MC) mean  \\\n",
       "ID                                       \n",
       "0                             7.642605   \n",
       "1                                  NaN   \n",
       "2                                  NaN   \n",
       "3                                  NaN   \n",
       "4                                  NaN   \n",
       "\n",
       "    Mass 7.00 < log t < 8.00 (MC) std. dev.  \\\n",
       "ID                                            \n",
       "0                                  8.047643   \n",
       "1                                       NaN   \n",
       "2                                       NaN   \n",
       "3                                       NaN   \n",
       "4                                       NaN   \n",
       "\n",
       "    Mass 8.00 < log t < 9.00 (MC) mean  \\\n",
       "ID                                       \n",
       "0                              9.17385   \n",
       "1                                  NaN   \n",
       "2                                  NaN   \n",
       "3                                  NaN   \n",
       "4                                  NaN   \n",
       "\n",
       "    Mass 8.00 < log t < 9.00 (MC) std. dev.  \\\n",
       "ID                                            \n",
       "0                                  8.713251   \n",
       "1                                       NaN   \n",
       "2                                       NaN   \n",
       "3                                       NaN   \n",
       "4                                       NaN   \n",
       "\n",
       "    Mass 9.00 < log t < 10.25 (MC) mean  \\\n",
       "ID                                        \n",
       "0                             11.746359   \n",
       "1                                   NaN   \n",
       "2                                   NaN   \n",
       "3                                   NaN   \n",
       "4                                   NaN   \n",
       "\n",
       "    Mass 9.00 < log t < 10.25 (MC) std. dev.  \\\n",
       "ID                                             \n",
       "0                                  10.591538   \n",
       "1                                        NaN   \n",
       "2                                        NaN   \n",
       "3                                        NaN   \n",
       "4                                        NaN   \n",
       "\n",
       "    Mass 6.60 < log t < 7.00 (regul)  Mass 7.00 < log t < 8.00 (regul)  \\\n",
       "ID                                                                       \n",
       "0                           7.065157                          8.528689   \n",
       "1                                NaN                               NaN   \n",
       "2                                NaN                               NaN   \n",
       "3                                NaN                               NaN   \n",
       "4                                NaN                               NaN   \n",
       "\n",
       "    Mass 8.00 < log t < 9.00 (regul)  Mass 9.00 < log t < 10.25 (regul)  \n",
       "ID                                                                       \n",
       "0                           8.842562                          11.690287  \n",
       "1                                NaN                                NaN  \n",
       "2                                NaN                                NaN  \n",
       "3                                NaN                                NaN  \n",
       "4                                NaN                                NaN  "
      ]
     },
     "execution_count": 212,
     "metadata": {},
     "output_type": "execute_result"
    }
   ],
   "source": [
    "np.log10(df[[c for c in df.columns if \"Mass\" in c]])"
   ]
  },
  {
   "cell_type": "code",
   "execution_count": 154,
   "metadata": {
    "scrolled": true
   },
   "outputs": [
    {
     "name": "stderr",
     "output_type": "stream",
     "text": [
      "/home/u5708159/python/Modules/ppxftests/mockspec.py:179: RuntimeWarning: More than 20 figures have been opened. Figures created through the pyplot interface (`matplotlib.pyplot.figure`) are retained until explicitly closed and may consume too much memory. (To control this warning, see the rcParam `figure.max_open_warning`).\n",
      "  fig, ax = plt.subplots(nrows=1, ncols=1, figsize=(fig_w, fig_h))\n"
     ]
    },
    {
     "data": {
      "application/vnd.jupyter.widget-view+json": {
       "model_id": "0c99b3c3e881478e889e820ace0d4ffd",
       "version_major": 2,
       "version_minor": 0
      },
      "text/plain": [
       "Canvas(toolbar=Toolbar(toolitems=[('Home', 'Reset original view', 'home', 'home'), ('Back', 'Back to previous …"
      ]
     },
     "metadata": {},
     "output_type": "display_data"
    },
    {
     "name": "stderr",
     "output_type": "stream",
     "text": [
      "/home/u5708159/python/Modules/ppxftests/mockspec.py:399: RuntimeWarning: More than 20 figures have been opened. Figures created through the pyplot interface (`matplotlib.pyplot.figure`) are retained until explicitly closed and may consume too much memory. (To control this warning, see the rcParam `figure.max_open_warning`).\n",
      "  fig, ax = plt.subplots(nrows=1, ncols=1, figsize=(fig_w, fig_h))\n"
     ]
    },
    {
     "data": {
      "application/vnd.jupyter.widget-view+json": {
       "model_id": "75c03eb8db104cff95a59d18bfe2e238",
       "version_major": 2,
       "version_minor": 0
      },
      "text/plain": [
       "Canvas(toolbar=Toolbar(toolitems=[('Home', 'Reset original view', 'home', 'home'), ('Back', 'Back to previous …"
      ]
     },
     "metadata": {},
     "output_type": "display_data"
    },
    {
     "data": {
      "application/vnd.jupyter.widget-view+json": {
       "model_id": "4dc16714cdf2424d9040bfca2c67ec1e",
       "version_major": 2,
       "version_minor": 0
      },
      "text/plain": [
       "Canvas(toolbar=Toolbar(toolitems=[('Home', 'Reset original view', 'home', 'home'), ('Back', 'Back to previous …"
      ]
     },
     "metadata": {},
     "output_type": "display_data"
    }
   ],
   "source": [
    "###########################################################################\n",
    "# Create spectrum\n",
    "###########################################################################\n",
    "spec, spec_err, lambda_vals_A = create_mock_spectrum(\n",
    "    sfh_mass_weighted=sfh_mw_input,\n",
    "    agn_continuum=False,\n",
    "    isochrones=isochrones, z=z, SNR=SNR, sigma_star_kms=sigma_star_kms,\n",
    "    plotit=True)"
   ]
  },
  {
   "cell_type": "code",
   "execution_count": 155,
   "metadata": {},
   "outputs": [
    {
     "name": "stdout",
     "output_type": "stream",
     "text": [
      "Running ppxf on 20 threads...\n"
     ]
    },
    {
     "data": {
      "application/vnd.jupyter.widget-view+json": {
       "model_id": "57feecc0010a4399b763c4880070b91a",
       "version_major": 2,
       "version_minor": 0
      },
      "text/plain": [
       "HBox(children=(IntProgress(value=0), HTML(value='')))"
      ]
     },
     "metadata": {},
     "output_type": "display_data"
    },
    {
     "name": "stdout",
     "output_type": "stream",
     "text": [
      "\n",
      "Elapsed time in ppxf: 200.80 s\n"
     ]
    }
   ],
   "source": [
    "###########################################################################\n",
    "# Run ppxf WITHOUT regularisation, using a MC approach\n",
    "###########################################################################\n",
    "# Input arguments\n",
    "seeds = list(np.random.randint(low=0, high=100 * niters, size=niters))\n",
    "args_list = [[s, spec, spec_err, lambda_vals_A] for s in seeds]\n",
    "\n",
    "# Run in parallel\n",
    "print(f\"Running ppxf on {nthreads} threads...\")\n",
    "t = time()\n",
    "with multiprocessing.Pool(nthreads) as pool:\n",
    "    pp_list = list(tqdm(pool.imap(ppxf_helper, args_list), total=niters))\n",
    "print(f\"Elapsed time in ppxf: {time() - t:.2f} s\")"
   ]
  },
  {
   "cell_type": "code",
   "execution_count": 176,
   "metadata": {},
   "outputs": [
    {
     "name": "stdout",
     "output_type": "stream",
     "text": [
      "----------------------------------------------------\n",
      "Iteration 0: Elapsed time in PPXF (single thread): 4.18 s\n",
      "----------------------------------------------------\n",
      "Iteration 1: Scaling noise by 1.4052...\n",
      "Iteration 1: Running ppxf on 20 threads...\n",
      "Iteration 1: Elapsed time in PPXF (multithreaded): 67.71 s\n",
      "Iteration 1: optimal regul = 10000.00; Δm = 5.74407e+11; Δregul = 500.00 (Δregul_min = 1.00); Δχ (goal) - Δχ = 58.262\n",
      "----------------------------------------------------\n",
      "Iteration 2: Re-running ppxf on 20 threads (iteration 2)...\n",
      "Iteration 2: Elapsed time in PPXF (multithreaded): 65.77 s\n",
      "Iteration 2: optimal regul = 20000.00; Δm = 3.04285e+10; Δregul = 500.00 (Δregul_min = 1.00); Δχ (goal) - Δχ = 27.281\n",
      "----------------------------------------------------\n",
      "Iteration 3: Re-running ppxf on 20 threads (iteration 3)...\n",
      "Iteration 3: Elapsed time in PPXF (multithreaded): 73.12 s\n",
      "Iteration 3: optimal regul = 26500.00; Δm = 1.31489e+10; Δregul = 500.00 (Δregul_min = 1.00); Δχ (goal) - Δχ = 1.173\n",
      "----------------------------------------------------\n",
      "Iteration 4: Re-running ppxf on 20 threads (iteration 4)...\n",
      "Iteration 4: Elapsed time in PPXF (multithreaded): 74.67 s\n",
      "Iteration 4: optimal regul = 26300.00; Δm = 4.39603e+08; Δregul = 100.00 (Δregul_min = 1.00); Δχ (goal) - Δχ = 0.026\n",
      "----------------------------------------------------\n",
      "STOPPING: Convergence criterion reached; Δχ (goal) - Δχ = 0.026333929614580143; using 26300.00 to produce the best fit\n",
      "Total time in run_ppxf: 286.81 seconds\n"
     ]
    }
   ],
   "source": [
    "###########################################################################\n",
    "# Run ppxf with regularisation\n",
    "###########################################################################\n",
    "t = time()\n",
    "pp_regul = run_ppxf(spec=spec, spec_err=spec_err, lambda_vals_A=lambda_vals_A,\n",
    "              z=z, ngascomponents=1,\n",
    "              regularisation_method=\"auto\",\n",
    "              isochrones=isochrones,\n",
    "              fit_gas=False, tie_balmer=True,\n",
    "              delta_regul_min=1, regul_max=5e4, delta_delta_chi2_min=1,\n",
    "              plotit=False, savefigs=False, interactive_mode=False)\n",
    "print(f\"Total time in run_ppxf: {time() - t:.2f} seconds\")"
   ]
  },
  {
   "cell_type": "code",
   "execution_count": 210,
   "metadata": {},
   "outputs": [],
   "source": [
    "###########################################################################\n",
    "# Compute quantities from the regularised fit\n",
    "###########################################################################\n",
    "# Get the SFH and SFR\n",
    "sfh_regul_mw_1D = pp_regul.sfh_mw_1D\n",
    "sfh_regul_lw_1D = pp_regul.sfh_lw_1D\n",
    "sfr_avg_regul = pp_regul.sfr_mean\n",
    "\n",
    "age_sfr_regul = 10**compute_sfr_thresh_age(sfh_regul_lw_1D, sfr_thresh, isochrones=isochrones)[0]  # SFR threshold\n",
    "age_sb_regul = 10**compute_sb_zero_age(sfh_regul_lw_1D, isochrones=isochrones)[0]  # \"Starburst\" age\n",
    "df.loc[gal, f\"SFR age (>{sfr_thresh} Msun yr^-1) (regul)\"] = age_sfr_regul\n",
    "df.loc[gal, f\"SB age (regul)\"] = age_sb_regul\n",
    "\n",
    "for aa in range(len(age_thresh_vals)- 1):\n",
    "    age_thresh_lower = age_thresh_vals[aa]\n",
    "    age_thresh_upper = age_thresh_vals[aa + 1]\n",
    "\n",
    "    # Determine age boundaries\n",
    "    if age_thresh_lower is None:\n",
    "        age_thresh_lower = ages[0]\n",
    "    if age_thresh_upper is None:\n",
    "        age_thresh_upper = ages[-1]\n",
    "    \n",
    "    # Compute mass- and light-weighted mean ages, and the total mass too\n",
    "    age_mw_regul = 10**compute_mw_age(sfh_regul_lw_1D, isochrones=isochrones, age_thresh_lower=age_thresh_lower, age_thresh_upper=age_thresh_upper)[0]\n",
    "    age_lw_regul = 10**compute_lw_age(sfh_regul_mw_1D, isochrones=isochrones, age_thresh_lower=age_thresh_lower, age_thresh_upper=age_thresh_upper)[0]\n",
    "    mass_regul = compute_mass(sfh_regul_mw_1D, isochrones=isochrones, age_thresh_lower=age_thresh_lower, age_thresh_upper=age_thresh_upper)\n",
    "    \n",
    "    # Store in DataFrame\n",
    "    df.loc[gal, f\"MW age {np.log10(age_thresh_lower):.2f} < log t < {np.log10(age_thresh_upper):.2f} (regul)\"] = age_mw_regul\n",
    "    df.loc[gal, f\"LW age {np.log10(age_thresh_lower):.2f} < log t < {np.log10(age_thresh_upper):.2f} (regul)\"] = age_lw_regul\n",
    "    df.loc[gal, f\"Mass {np.log10(age_thresh_lower):.2f} < log t < {np.log10(age_thresh_upper):.2f} (regul)\"] = mass_regul"
   ]
  },
  {
   "cell_type": "code",
   "execution_count": 191,
   "metadata": {
    "scrolled": true
   },
   "outputs": [
    {
     "name": "stderr",
     "output_type": "stream",
     "text": [
      "/home/u5708159/python/Modules/ppxftests/sfhutils.py:226: RuntimeWarning: invalid value encountered in double_scalars\n",
      "  log_age_lw = np.nansum(sfh_lw_1D[age_thresh_lower_idx:age_thresh_upper_idx] * np.log10(ages[age_thresh_lower_idx:age_thresh_upper_idx])) / np.nansum(sfh_lw_1D[age_thresh_lower_idx:age_thresh_upper_idx])\n",
      "/home/u5708159/python/Modules/ppxftests/sfhutils.py:193: RuntimeWarning: invalid value encountered in double_scalars\n",
      "  log_age_mw = np.nansum(sfh_mw_1D[age_thresh_lower_idx:age_thresh_upper_idx] * np.log10(ages[age_thresh_lower_idx:age_thresh_upper_idx])) / np.nansum(sfh_mw_1D[age_thresh_lower_idx:age_thresh_upper_idx])\n"
     ]
    }
   ],
   "source": [
    "###########################################################################\n",
    "# Compute average quantities from the MC simulations\n",
    "###########################################################################\n",
    "# Compute the mean SFH and SFR from the lists of MC runs\n",
    "sfh_MC_lw_1D_mean = compute_mean_1D_sfh(pp_list, \"lw\")\n",
    "sfh_MC_mw_1D_mean = compute_mean_1D_sfh(pp_list, \"mw\")\n",
    "sfr_avg_MC = compute_mean_sfr(pp_list)\n",
    "\n",
    "# Compute the \"SFR age\"\n",
    "age_sfr_mean, age_sfr_std = compute_mean_sfr_thresh_age(pp_list, sfr_thresh)\n",
    "df.loc[gal, f\"SFR age (>{sfr_thresh} Msun yr^-1) (MC) mean\"] = age_sfr_mean\n",
    "df.loc[gal, f\"SFR age (>{sfr_thresh} Msun yr^-1) (MC) std. dev.\"] = age_sfr_std\n",
    "\n",
    "# Compute the mean mass- and light-weighted ages plus the total mass in a series of age ranges\n",
    "for aa in range(len(age_thresh_vals) - 1):\n",
    "    age_thresh_lower = age_thresh_vals[aa]\n",
    "    age_thresh_upper = age_thresh_vals[aa + 1]\n",
    "    \n",
    "    if age_thresh_lower is None:\n",
    "        age_thresh_lower = ages[0]\n",
    "    if age_thresh_upper is None:\n",
    "        age_thresh_upper = ages[-1]\n",
    "        \n",
    "    # Compute the mean mass- and light-weighted ages plus the total mass in this age range\n",
    "    age_lw_mean, age_lw_std = compute_mean_age(pp_list, \"lw\", age_thresh_lower, age_thresh_upper)\n",
    "    age_mw_mean, age_mw_std = compute_mean_age(pp_list, \"mw\", age_thresh_lower, age_thresh_upper)\n",
    "    mass_mean, mass_std = compute_mean_mass(pp_list, age_thresh_lower=age_thresh_lower, age_thresh_upper=age_thresh_upper)\n",
    "\n",
    "    # Put in DataFrame\n",
    "    df.loc[gal, f\"MW age {np.log10(age_thresh_lower):.2f} < log t < {np.log10(age_thresh_upper):.2f} (MC) mean\"] = age_mw_mean\n",
    "    df.loc[gal, f\"LW age {np.log10(age_thresh_lower):.2f} < log t < {np.log10(age_thresh_upper):.2f} (MC) mean\"] = age_lw_mean\n",
    "    df.loc[gal, f\"Mass {np.log10(age_thresh_lower):.2f} < log t < {np.log10(age_thresh_upper):.2f} (MC) mean\"] = mass_mean\n",
    "    df.loc[gal, f\"MW age {np.log10(age_thresh_lower):.2f} < log t < {np.log10(age_thresh_upper):.2f} (MC) std. dev.\"] = age_mw_std\n",
    "    df.loc[gal, f\"LW age {np.log10(age_thresh_lower):.2f} < log t < {np.log10(age_thresh_upper):.2f} (MC) std. dev.\"] = age_lw_std\n",
    "    df.loc[gal, f\"Mass {np.log10(age_thresh_lower):.2f} < log t < {np.log10(age_thresh_upper):.2f} (MC) std. dev.\"] = mass_std"
   ]
  },
  {
   "cell_type": "code",
   "execution_count": 205,
   "metadata": {
    "scrolled": true
   },
   "outputs": [
    {
     "data": {
      "application/vnd.jupyter.widget-view+json": {
       "model_id": "8c0ee268d2c64b949aa44c8cd2a8762a",
       "version_major": 2,
       "version_minor": 0
      },
      "text/plain": [
       "Canvas(toolbar=Toolbar(toolitems=[('Home', 'Reset original view', 'home', 'home'), ('Back', 'Back to previous …"
      ]
     },
     "metadata": {},
     "output_type": "display_data"
    }
   ],
   "source": [
    "###########################################################################\n",
    "# Plot the input mass- and light-weighted SFHs\n",
    "###########################################################################\n",
    "fig, axs = plt.subplots(nrows=3, ncols=1, figsize=(12, 15))\n",
    "fig.subplots_adjust(hspace=0.35)\n",
    "log_scale = True\n",
    "info_str = r\"$S/N = %d, z = %.3f, \\sigma_* = %d\\rm\\, km\\,s^{-1}$\" % (SNR, z, sigma_star_kms)\n",
    "for ax, weighttype in zip(axs, [\"mw\", \"lw\", \"sfr\"]):\n",
    "    # Plot the SFHs from each ppxf run, plus the \"truth\" SFH\n",
    "    if weighttype == \"mw\":\n",
    "        ax.set_title(f\"Galaxy {gal:004}: mass-weighted template weights ({info_str})\")\n",
    "        ax.fill_between(ages, sfh_mw_1D_input, step=\"mid\", alpha=0.5, color=\"lightblue\", label=\"Input SFH\")\n",
    "        ax.step(ages, sfh_MC_mw_1D_mean, color=\"red\", where=\"mid\", label=\"Mean ppxf fit (MC simulations)\", alpha=0.5)\n",
    "        ax.step(ages, sfh_regul_mw_1D, color=\"green\", where=\"mid\", label=\"Mean ppxf fit (regularised fit)\", alpha=0.5)\n",
    "        ax.set_ylim([1e3, None])\n",
    "        ax.set_ylabel(r\"MW template weight ($\\rm M_\\odot$)\")\n",
    "    elif weighttype == \"lw\":\n",
    "        ax.set_title(f\"Galaxy {gal:004}: light-weighted template weights ({info_str})\")\n",
    "        ax.fill_between(ages, sfh_lw_1D_input, step=\"mid\", alpha=0.5, color=\"lightblue\", label=\"Input SFH\")\n",
    "        ax.step(ages, sfh_MC_lw_1D_mean, color=\"red\", where=\"mid\", label=\"Mean ppxf fit (MC simulations)\", alpha=0.5)\n",
    "        ax.step(ages, sfh_regul_lw_1D, color=\"green\", where=\"mid\", label=\"Mean ppxf fit (regularised fit)\", alpha=0.5)\n",
    "        ax.set_ylim([1e35, None])\n",
    "        ax.set_ylabel(r\"LW template weight ($\\rm erg\\,s^{-1}\\,Å^{-1}$)\")\n",
    "    elif weighttype == \"sfr\":\n",
    "        ax.set_title(f\"Galaxy {gal:004}: mean SFR ({info_str})\")\n",
    "        ax.fill_between(ages, sfr_avg_input, step=\"mid\", alpha=0.5, color=\"lightblue\", label=\"Input SFH\")\n",
    "        ax.step(ages, sfr_avg_MC, color=\"red\", where=\"mid\", label=\"Mean ppxf fit (MC simulations)\", alpha=0.5)\n",
    "        ax.step(ages, sfr_avg_regul, color=\"green\", where=\"mid\", label=\"Mean ppxf fit (regularised fit)\", alpha=0.5)\n",
    "        ax.set_ylim([1e-2, None])\n",
    "        ax.set_ylabel(r\"Mean SFR ($\\rm M_\\odot\\,yr^{-1}$)\")\n",
    "\n",
    "    # Plot horizontal error bars indicating the SFR threshold age from the MC simulations\n",
    "    y1, y2 = ax.get_ylim()\n",
    "    y = 10**(0.9 * (np.log10(y2) - np.log10(y1)) + np.log10(y1)) if log_scale else 0.9 * y2\n",
    "    ax.errorbar(x=df.loc[gal, f\"SFR age (>{sfr_thresh} Msun yr^-1) (MC) mean\"],\n",
    "                xerr=df.loc[gal, f\"SFR age (> {sfr_thresh} Msun yr^-1) (MC) std. dev.\"],\n",
    "                y=y, \n",
    "                marker=\"*\", mfc=\"orange\", mec=\"orange\", ecolor=\"orange\", linestyle=\"none\", capsize=10, markersize=10,\n",
    "                label=\"SFR age (mean, MC simulations)\")\n",
    "    ax.errorbar(x=df.loc[gal, f\"SFR age (>{sfr_thresh} Msun yr^-1) (truth)\"], xerr=0, markersize=10,\n",
    "                y=y, \n",
    "                marker=\"*\", mfc=\"lightblue\", mec=\"blue\", ecolor=\"lightblue\", linestyle=\"none\",\n",
    "                label=\"SFR age (input)\")\n",
    "    ax.errorbar(x=df.loc[gal, f\"SFR age (>{sfr_thresh} Msun yr^-1) (regul)\"], xerr=0, markersize=10,\n",
    "                y=y, \n",
    "                marker=\"*\", mfc=\"lightgreen\", mec=\"green\", ecolor=\"green\", linestyle=\"none\",\n",
    "                label=\"SFR age (regularised fit)\")\n",
    "\n",
    "    # Plot horizontal error bars indicating the mean mass- and light-weighted ages ages from the MC simulations\n",
    "    for aa in range(len(age_thresh_vals) - 1):\n",
    "        age_thresh_lower = age_thresh_vals[aa]\n",
    "        age_thresh_upper = age_thresh_vals[aa + 1]\n",
    "\n",
    "        if age_thresh_lower is None:\n",
    "            age_thresh_lower = ages[0]\n",
    "        if age_thresh_upper is None:\n",
    "            age_thresh_upper = ages[-1]\n",
    "        \n",
    "        # mass-weighted age\n",
    "        y = 10**(0.8 * (np.log10(y2) - np.log10(y1)) + np.log10(y1)) if log_scale else 0.8 * y2\n",
    "        ax.errorbar(x=df.loc[gal, f\"MW age {np.log10(age_thresh_lower):.2f} < log t < {np.log10(age_thresh_upper):.2f} (MC) mean\"],\n",
    "                    xerr=df.loc[gal, f\"MW age {np.log10(age_thresh_lower):.2f} < log t < {np.log10(age_thresh_upper):.2f} (MC) std. dev.\"],\n",
    "                    y=y,\n",
    "                    marker=\"D\", mfc=\"red\", mec=\"red\", ecolor=\"red\", linestyle=\"none\", capsize=10,\n",
    "                    label=\"Mean MW age in range (MC simulations)\" if aa == 0 else None)\n",
    "        ax.errorbar(x=df.loc[gal, f\"MW age {np.log10(age_thresh_lower):.2f} < log t < {np.log10(age_thresh_upper):.2f} (regul)\"], xerr=0,\n",
    "                    y=y,\n",
    "                    marker=\"D\", mfc=\"lightgreen\", mec=\"green\", ecolor=\"green\", linestyle=\"none\",\n",
    "                    label=\"Mean MW age in range (regularised fit)\" if aa == 0 else None)\n",
    "        ax.errorbar(x=df.loc[gal, f\"MW age {np.log10(age_thresh_lower):.2f} < log t < {np.log10(age_thresh_upper):.2f} (truth)\"], xerr=0,\n",
    "                    y=y,\n",
    "                    marker=\"D\", mfc=\"lightblue\", mec=\"blue\", ecolor=\"lightblue\", linestyle=\"none\",\n",
    "                    label=\"Mean MW age in range (input)\" if aa == 0 else None)\n",
    "\n",
    "        # light-weighted age\n",
    "        y = 10**(0.7 * (np.log10(y2) - np.log10(y1)) + np.log10(y1)) if log_scale else 0.7 * y2\n",
    "        ax.errorbar(x=df.loc[gal, f\"LW age {np.log10(age_thresh_lower):.2f} < log t < {np.log10(age_thresh_upper):.2f} (MC) mean\"],\n",
    "                    xerr=df.loc[gal, f\"LW age {np.log10(age_thresh_lower):.2f} < log t < {np.log10(age_thresh_upper):.2f} (MC) std. dev.\"],\n",
    "                    y=y,\n",
    "                    marker=\"X\", mfc=\"red\", mec=\"red\", ecolor=\"red\", linestyle=\"none\", capsize=10,\n",
    "                    label=\"Mean LW age in range (MC simulations)\" if aa == 0 else None)\n",
    "        ax.errorbar(x=df.loc[gal, f\"LW age {np.log10(age_thresh_lower):.2f} < log t < {np.log10(age_thresh_upper):.2f} (regul)\"], xerr=0,\n",
    "                    y=y,\n",
    "                    marker=\"X\", mfc=\"lightgreen\", mec=\"green\", ecolor=\"green\", linestyle=\"none\",\n",
    "                    label=\"Mean LW age in range (regularised fit)\" if aa == 0 else None)\n",
    "        ax.errorbar(x=df.loc[gal, f\"LW age {np.log10(age_thresh_lower):.2f} < log t < {np.log10(age_thresh_upper):.2f} (truth)\"], xerr=0,\n",
    "                    y=y,\n",
    "                    marker=\"X\", mfc=\"lightblue\", mec=\"blue\", ecolor=\"lightblue\", linestyle=\"none\",\n",
    "                    label=\"Mean LW age in range (input)\" if aa == 0 else None)\n",
    "\n",
    "        ax.axvline(age_thresh_lower, color=\"black\", linestyle=\"--\", label=\"Age range\" if aa == 0 else None)\n",
    "        ax.axvline(age_thresh_upper, color=\"black\", linestyle=\"--\")\n",
    "\n",
    "    # Decorations \n",
    "    ax.autoscale(axis=\"x\", enable=True, tight=True)\n",
    "    ax.set_xlabel(\"Age (Myr)\")\n",
    "    ax.legend(fontsize=\"small\", loc=\"center left\", bbox_to_anchor=(1.01, 0.5))\n",
    "    ax.set_yscale(\"log\") if log_scale else None\n",
    "    ax.set_xscale(\"log\")\n",
    "    ax.grid()\n",
    "    \n",
    "fig.savefig(os.path.join(fig_path, \"basic_tests\", f\"ga{gal:004}.pdf\", format=\"pdf\", bbox_inches=\"tight\")"
   ]
  },
  {
   "cell_type": "code",
   "execution_count": 206,
   "metadata": {},
   "outputs": [
    {
     "data": {
      "text/html": [
       "<div>\n",
       "<style scoped>\n",
       "    .dataframe tbody tr th:only-of-type {\n",
       "        vertical-align: middle;\n",
       "    }\n",
       "\n",
       "    .dataframe tbody tr th {\n",
       "        vertical-align: top;\n",
       "    }\n",
       "\n",
       "    .dataframe thead th {\n",
       "        text-align: right;\n",
       "    }\n",
       "</style>\n",
       "<table border=\"1\" class=\"dataframe\">\n",
       "  <thead>\n",
       "    <tr style=\"text-align: right;\">\n",
       "      <th></th>\n",
       "      <th>SFR age (&gt;1 Msun yr^-1) (truth)</th>\n",
       "      <th>SB age (truth)</th>\n",
       "      <th>MW age 6.60 &lt; log t &lt; 7.00 (truth)</th>\n",
       "      <th>LW age 6.60 &lt; log t &lt; 7.00 (truth)</th>\n",
       "      <th>Mass 6.60 &lt; log t &lt; 7.00 (truth)</th>\n",
       "      <th>MW age 7.00 &lt; log t &lt; 8.00 (truth)</th>\n",
       "      <th>LW age 7.00 &lt; log t &lt; 8.00 (truth)</th>\n",
       "      <th>Mass 7.00 &lt; log t &lt; 8.00 (truth)</th>\n",
       "      <th>MW age 8.00 &lt; log t &lt; 9.00 (truth)</th>\n",
       "      <th>LW age 8.00 &lt; log t &lt; 9.00 (truth)</th>\n",
       "      <th>...</th>\n",
       "      <th>Mass 6.60 &lt; log t &lt; 7.00 (regul)</th>\n",
       "      <th>MW age 7.00 &lt; log t &lt; 8.00 (regul)</th>\n",
       "      <th>LW age 7.00 &lt; log t &lt; 8.00 (regul)</th>\n",
       "      <th>Mass 7.00 &lt; log t &lt; 8.00 (regul)</th>\n",
       "      <th>MW age 8.00 &lt; log t &lt; 9.00 (regul)</th>\n",
       "      <th>LW age 8.00 &lt; log t &lt; 9.00 (regul)</th>\n",
       "      <th>Mass 8.00 &lt; log t &lt; 9.00 (regul)</th>\n",
       "      <th>MW age 9.00 &lt; log t &lt; 10.25 (regul)</th>\n",
       "      <th>LW age 9.00 &lt; log t &lt; 10.25 (regul)</th>\n",
       "      <th>Mass 9.00 &lt; log t &lt; 10.25 (regul)</th>\n",
       "    </tr>\n",
       "    <tr>\n",
       "      <th>ID</th>\n",
       "      <th></th>\n",
       "      <th></th>\n",
       "      <th></th>\n",
       "      <th></th>\n",
       "      <th></th>\n",
       "      <th></th>\n",
       "      <th></th>\n",
       "      <th></th>\n",
       "      <th></th>\n",
       "      <th></th>\n",
       "      <th></th>\n",
       "      <th></th>\n",
       "      <th></th>\n",
       "      <th></th>\n",
       "      <th></th>\n",
       "      <th></th>\n",
       "      <th></th>\n",
       "      <th></th>\n",
       "      <th></th>\n",
       "      <th></th>\n",
       "      <th></th>\n",
       "    </tr>\n",
       "  </thead>\n",
       "  <tbody>\n",
       "    <tr>\n",
       "      <td>0</td>\n",
       "      <td>12589000.0</td>\n",
       "      <td>14125000.0</td>\n",
       "      <td>NaN</td>\n",
       "      <td>NaN</td>\n",
       "      <td>0.0</td>\n",
       "      <td>4.468414e+07</td>\n",
       "      <td>3.369922e+07</td>\n",
       "      <td>120445950.0</td>\n",
       "      <td>4.389734e+08</td>\n",
       "      <td>3.013682e+08</td>\n",
       "      <td>...</td>\n",
       "      <td>3.032384e+38</td>\n",
       "      <td>2.934882e+07</td>\n",
       "      <td>3.734690e+07</td>\n",
       "      <td>2.105153e+39</td>\n",
       "      <td>2.422139e+08</td>\n",
       "      <td>3.254544e+08</td>\n",
       "      <td>1.122999e+39</td>\n",
       "      <td>7.661003e+09</td>\n",
       "      <td>9.822382e+09</td>\n",
       "      <td>2.956424e+40</td>\n",
       "    </tr>\n",
       "    <tr>\n",
       "      <td>1</td>\n",
       "      <td>NaN</td>\n",
       "      <td>NaN</td>\n",
       "      <td>NaN</td>\n",
       "      <td>NaN</td>\n",
       "      <td>NaN</td>\n",
       "      <td>NaN</td>\n",
       "      <td>NaN</td>\n",
       "      <td>NaN</td>\n",
       "      <td>NaN</td>\n",
       "      <td>NaN</td>\n",
       "      <td>...</td>\n",
       "      <td>NaN</td>\n",
       "      <td>NaN</td>\n",
       "      <td>NaN</td>\n",
       "      <td>NaN</td>\n",
       "      <td>NaN</td>\n",
       "      <td>NaN</td>\n",
       "      <td>NaN</td>\n",
       "      <td>NaN</td>\n",
       "      <td>NaN</td>\n",
       "      <td>NaN</td>\n",
       "    </tr>\n",
       "    <tr>\n",
       "      <td>2</td>\n",
       "      <td>NaN</td>\n",
       "      <td>NaN</td>\n",
       "      <td>NaN</td>\n",
       "      <td>NaN</td>\n",
       "      <td>NaN</td>\n",
       "      <td>NaN</td>\n",
       "      <td>NaN</td>\n",
       "      <td>NaN</td>\n",
       "      <td>NaN</td>\n",
       "      <td>NaN</td>\n",
       "      <td>...</td>\n",
       "      <td>NaN</td>\n",
       "      <td>NaN</td>\n",
       "      <td>NaN</td>\n",
       "      <td>NaN</td>\n",
       "      <td>NaN</td>\n",
       "      <td>NaN</td>\n",
       "      <td>NaN</td>\n",
       "      <td>NaN</td>\n",
       "      <td>NaN</td>\n",
       "      <td>NaN</td>\n",
       "    </tr>\n",
       "    <tr>\n",
       "      <td>3</td>\n",
       "      <td>NaN</td>\n",
       "      <td>NaN</td>\n",
       "      <td>NaN</td>\n",
       "      <td>NaN</td>\n",
       "      <td>NaN</td>\n",
       "      <td>NaN</td>\n",
       "      <td>NaN</td>\n",
       "      <td>NaN</td>\n",
       "      <td>NaN</td>\n",
       "      <td>NaN</td>\n",
       "      <td>...</td>\n",
       "      <td>NaN</td>\n",
       "      <td>NaN</td>\n",
       "      <td>NaN</td>\n",
       "      <td>NaN</td>\n",
       "      <td>NaN</td>\n",
       "      <td>NaN</td>\n",
       "      <td>NaN</td>\n",
       "      <td>NaN</td>\n",
       "      <td>NaN</td>\n",
       "      <td>NaN</td>\n",
       "    </tr>\n",
       "    <tr>\n",
       "      <td>4</td>\n",
       "      <td>NaN</td>\n",
       "      <td>NaN</td>\n",
       "      <td>NaN</td>\n",
       "      <td>NaN</td>\n",
       "      <td>NaN</td>\n",
       "      <td>NaN</td>\n",
       "      <td>NaN</td>\n",
       "      <td>NaN</td>\n",
       "      <td>NaN</td>\n",
       "      <td>NaN</td>\n",
       "      <td>...</td>\n",
       "      <td>NaN</td>\n",
       "      <td>NaN</td>\n",
       "      <td>NaN</td>\n",
       "      <td>NaN</td>\n",
       "      <td>NaN</td>\n",
       "      <td>NaN</td>\n",
       "      <td>NaN</td>\n",
       "      <td>NaN</td>\n",
       "      <td>NaN</td>\n",
       "      <td>NaN</td>\n",
       "    </tr>\n",
       "  </tbody>\n",
       "</table>\n",
       "<p>5 rows × 56 columns</p>\n",
       "</div>"
      ],
      "text/plain": [
       "    SFR age (>1 Msun yr^-1) (truth)  SB age (truth)  \\\n",
       "ID                                                    \n",
       "0                        12589000.0      14125000.0   \n",
       "1                               NaN             NaN   \n",
       "2                               NaN             NaN   \n",
       "3                               NaN             NaN   \n",
       "4                               NaN             NaN   \n",
       "\n",
       "    MW age 6.60 < log t < 7.00 (truth)  LW age 6.60 < log t < 7.00 (truth)  \\\n",
       "ID                                                                           \n",
       "0                                  NaN                                 NaN   \n",
       "1                                  NaN                                 NaN   \n",
       "2                                  NaN                                 NaN   \n",
       "3                                  NaN                                 NaN   \n",
       "4                                  NaN                                 NaN   \n",
       "\n",
       "    Mass 6.60 < log t < 7.00 (truth)  MW age 7.00 < log t < 8.00 (truth)  \\\n",
       "ID                                                                         \n",
       "0                                0.0                        4.468414e+07   \n",
       "1                                NaN                                 NaN   \n",
       "2                                NaN                                 NaN   \n",
       "3                                NaN                                 NaN   \n",
       "4                                NaN                                 NaN   \n",
       "\n",
       "    LW age 7.00 < log t < 8.00 (truth)  Mass 7.00 < log t < 8.00 (truth)  \\\n",
       "ID                                                                         \n",
       "0                         3.369922e+07                       120445950.0   \n",
       "1                                  NaN                               NaN   \n",
       "2                                  NaN                               NaN   \n",
       "3                                  NaN                               NaN   \n",
       "4                                  NaN                               NaN   \n",
       "\n",
       "    MW age 8.00 < log t < 9.00 (truth)  LW age 8.00 < log t < 9.00 (truth)  \\\n",
       "ID                                                                           \n",
       "0                         4.389734e+08                        3.013682e+08   \n",
       "1                                  NaN                                 NaN   \n",
       "2                                  NaN                                 NaN   \n",
       "3                                  NaN                                 NaN   \n",
       "4                                  NaN                                 NaN   \n",
       "\n",
       "    ...  Mass 6.60 < log t < 7.00 (regul)  MW age 7.00 < log t < 8.00 (regul)  \\\n",
       "ID  ...                                                                         \n",
       "0   ...                      3.032384e+38                        2.934882e+07   \n",
       "1   ...                               NaN                                 NaN   \n",
       "2   ...                               NaN                                 NaN   \n",
       "3   ...                               NaN                                 NaN   \n",
       "4   ...                               NaN                                 NaN   \n",
       "\n",
       "    LW age 7.00 < log t < 8.00 (regul)  Mass 7.00 < log t < 8.00 (regul)  \\\n",
       "ID                                                                         \n",
       "0                         3.734690e+07                      2.105153e+39   \n",
       "1                                  NaN                               NaN   \n",
       "2                                  NaN                               NaN   \n",
       "3                                  NaN                               NaN   \n",
       "4                                  NaN                               NaN   \n",
       "\n",
       "    MW age 8.00 < log t < 9.00 (regul)  LW age 8.00 < log t < 9.00 (regul)  \\\n",
       "ID                                                                           \n",
       "0                         2.422139e+08                        3.254544e+08   \n",
       "1                                  NaN                                 NaN   \n",
       "2                                  NaN                                 NaN   \n",
       "3                                  NaN                                 NaN   \n",
       "4                                  NaN                                 NaN   \n",
       "\n",
       "    Mass 8.00 < log t < 9.00 (regul)  MW age 9.00 < log t < 10.25 (regul)  \\\n",
       "ID                                                                          \n",
       "0                       1.122999e+39                         7.661003e+09   \n",
       "1                                NaN                                  NaN   \n",
       "2                                NaN                                  NaN   \n",
       "3                                NaN                                  NaN   \n",
       "4                                NaN                                  NaN   \n",
       "\n",
       "    LW age 9.00 < log t < 10.25 (regul)  Mass 9.00 < log t < 10.25 (regul)  \n",
       "ID                                                                          \n",
       "0                          9.822382e+09                       2.956424e+40  \n",
       "1                                   NaN                                NaN  \n",
       "2                                   NaN                                NaN  \n",
       "3                                   NaN                                NaN  \n",
       "4                                   NaN                                NaN  \n",
       "\n",
       "[5 rows x 56 columns]"
      ]
     },
     "execution_count": 206,
     "metadata": {},
     "output_type": "execute_result"
    }
   ],
   "source": [
    "df"
   ]
  },
  {
   "cell_type": "code",
   "execution_count": null,
   "metadata": {},
   "outputs": [],
   "source": []
  }
 ],
 "metadata": {
  "kernelspec": {
   "display_name": "Python 3",
   "language": "python",
   "name": "python3"
  },
  "language_info": {
   "codemirror_mode": {
    "name": "ipython",
    "version": 3
   },
   "file_extension": ".py",
   "mimetype": "text/x-python",
   "name": "python",
   "nbconvert_exporter": "python",
   "pygments_lexer": "ipython3",
   "version": "3.7.4"
  }
 },
 "nbformat": 4,
 "nbformat_minor": 2
}
