{
 "cells": [
  {
   "cell_type": "markdown",
   "metadata": {},
   "source": [
    "# Test: what is the \"false positive\" rate for young stellar populations?\n",
    "---\n",
    "We want to be sure that we can accurately detect young stellar populations using ppxf. \n",
    "However, ppxf may return an SFH with nonzero weights in the young SSP templates when none exist in the input. \n",
    "* What are typical template weights of the young templates when the input has no young component?\n",
    "* Do these weights change as a function of S/N? i.e., are the erroneous weights higher when the noise is higher? Or are they roughly the same, regardless?\n",
    "* What is the *total* erroneous stellar mass in the young bins?\n",
    "* When regularisation is used, does the problem persist?\n",
    "\n",
    "Ideas:\n",
    "* Take one of Phil's SFHs with no young stellar component & run tests. Galaxy 0024 is a good candidate.\n",
    "* Then artificially add a young stellar population & repeat. What is the minimum mass we can have in the young component that can reliably be detected with ppxf? i.e., if ppxf says there is ~10^8 Msun in young templates when the input only contains old templates, then that means we cannot reliably detect YSPs with this (relative) mass."
   ]
  },
  {
   "cell_type": "code",
   "execution_count": 1,
   "metadata": {},
   "outputs": [],
   "source": [
    "%matplotlib widget"
   ]
  },
  {
   "cell_type": "code",
   "execution_count": 2,
   "metadata": {},
   "outputs": [
    {
     "data": {
      "text/html": [
       "<style>.container { width:75% !important; }</style>"
      ],
      "text/plain": [
       "<IPython.core.display.HTML object>"
      ]
     },
     "metadata": {},
     "output_type": "display_data"
    },
    {
     "data": {
      "text/html": [
       "<style>.output_result { max-width:75% !important; }</style>"
      ],
      "text/plain": [
       "<IPython.core.display.HTML object>"
      ]
     },
     "metadata": {},
     "output_type": "display_data"
    }
   ],
   "source": [
    "from IPython.core.display import display, HTML\n",
    "display(HTML(\"<style>.container { width:75% !important; }</style>\"))\n",
    "display(HTML(\"<style>.output_result { max-width:75% !important; }</style>\"))"
   ]
  },
  {
   "cell_type": "code",
   "execution_count": 3,
   "metadata": {},
   "outputs": [],
   "source": [
    "import numpy as np\n",
    "from numpy.random import RandomState\n",
    "from time import time \n",
    "from tqdm.notebook import tqdm\n",
    "import multiprocessing\n",
    "import pandas as pd\n",
    "\n",
    "from astropy.io import fits\n",
    "\n",
    "from ppxftests.run_ppxf import run_ppxf\n",
    "from ppxftests.ssputils import load_ssp_templates\n",
    "from ppxftests.mockspec import load_sfh, create_mock_spectrum, compute_mw_age\n",
    "from ppxftests.ppxf_plot import plot_sfh_mass_weighted\n",
    "\n",
    "import matplotlib.pyplot as plt\n",
    "plt.ion()\n",
    "plt.close(\"all\")\n",
    "\n",
    "from IPython.core.debugger import Tracer"
   ]
  },
  {
   "cell_type": "code",
   "execution_count": 4,
   "metadata": {},
   "outputs": [],
   "source": [
    "###########################################################################\n",
    "# Helper function for running MC simulations\n",
    "###########################################################################\n",
    "def ppxf_helper(args):\n",
    "    # Unpack arguments\n",
    "    seed, spec, spec_err, lambda_vals_A = args\n",
    "    \n",
    "    # Add \"extra\" noise to the spectrum\n",
    "    rng = RandomState(seed)\n",
    "    noise = rng.normal(scale=spec_err)\n",
    "    spec_noise = spec + noise\n",
    "\n",
    "    # This is to mitigate the \"edge effects\" of the convolution with the LSF\n",
    "    spec_noise[0] = -9999\n",
    "    spec_noise[-1] = -9999\n",
    "\n",
    "    # Run ppxf\n",
    "    pp = run_ppxf(spec=spec_noise, spec_err=spec_err, lambda_vals_A=lambda_vals_A,\n",
    "                  z=z, ngascomponents=1,\n",
    "                  regularisation_method=\"none\", \n",
    "                  isochrones=\"Padova\",\n",
    "                  fit_gas=False, tie_balmer=True,\n",
    "                  plotit=False, savefigs=False, interactive_mode=False)\n",
    "    return pp\n"
   ]
  },
  {
   "cell_type": "markdown",
   "metadata": {},
   "source": [
    "## Does S/N affect the spurious nonzero weights in the lowest age bins?\n",
    "---\n",
    "Using as input an SFH containing no young stellar populations, do our analysis several times, varying the input S/N.\n"
   ]
  },
  {
   "cell_type": "code",
   "execution_count": 5,
   "metadata": {},
   "outputs": [],
   "source": [
    "###########################################################################\n",
    "# Settings\n",
    "###########################################################################\n",
    "isochrones = \"Padova\"\n",
    "sigma_star_kms = 250\n",
    "z = 0.01\n",
    "\n",
    "niters = 100\n",
    "nthreads = 20\n",
    "\n",
    "# Load the stellar templates so we can get the age & metallicity dimensions\n",
    "_, _, metallicities, ages = load_ssp_templates(isochrones)\n",
    "N_ages = len(ages)\n",
    "N_metallicities = len(metallicities)\n"
   ]
  },
  {
   "cell_type": "markdown",
   "metadata": {},
   "source": [
    "### Old stellar population only"
   ]
  },
  {
   "cell_type": "code",
   "execution_count": 15,
   "metadata": {
    "scrolled": false
   },
   "outputs": [
    {
     "name": "stderr",
     "output_type": "stream",
     "text": [
      "/home/u5708159/python/Modules/ppxftests/ppxf_plot.py:31: RuntimeWarning: More than 20 figures have been opened. Figures created through the pyplot interface (`matplotlib.pyplot.figure`) are retained until explicitly closed and may consume too much memory. (To control this warning, see the rcParam `figure.max_open_warning`).\n",
      "  fig = plt.figure(figsize=(10, 3.5))\n"
     ]
    },
    {
     "data": {
      "application/vnd.jupyter.widget-view+json": {
       "model_id": "71d8cc0edec6490dadba56702f140340",
       "version_major": 2,
       "version_minor": 0
      },
      "text/plain": [
       "Canvas(toolbar=Toolbar(toolitems=[('Home', 'Reset original view', 'home', 'home'), ('Back', 'Back to previous …"
      ]
     },
     "metadata": {},
     "output_type": "display_data"
    }
   ],
   "source": [
    "###########################################################################\n",
    "# Generate the input SFH\n",
    "###########################################################################\n",
    "sfh_mw_original = load_sfh(24, plotit=True)\n",
    "sfh_mw_1D_original = np.nansum(sfh_mw_original, axis=0)\n",
    "M_tot_original = np.nansum(sfh_mw_original)"
   ]
  },
  {
   "cell_type": "code",
   "execution_count": 8,
   "metadata": {
    "scrolled": false
   },
   "outputs": [
    {
     "name": "stdout",
     "output_type": "stream",
     "text": [
      "Running ppxf on 20 threads...\n"
     ]
    },
    {
     "data": {
      "application/vnd.jupyter.widget-view+json": {
       "model_id": "7b41b2cd908a4049a1d86b9caa580f16",
       "version_major": 2,
       "version_minor": 0
      },
      "text/plain": [
       "HBox(children=(IntProgress(value=0), HTML(value='')))"
      ]
     },
     "metadata": {},
     "output_type": "display_data"
    },
    {
     "name": "stdout",
     "output_type": "stream",
     "text": [
      "\n",
      "Elapsed time in ppxf: 123.94 s\n"
     ]
    },
    {
     "data": {
      "application/vnd.jupyter.widget-view+json": {
       "model_id": "56434b2005d6460ca89337d638e13e10",
       "version_major": 2,
       "version_minor": 0
      },
      "text/plain": [
       "Canvas(toolbar=Toolbar(toolitems=[('Home', 'Reset original view', 'home', 'home'), ('Back', 'Back to previous …"
      ]
     },
     "metadata": {},
     "output_type": "display_data"
    },
    {
     "name": "stdout",
     "output_type": "stream",
     "text": [
      "Running ppxf on 20 threads...\n"
     ]
    },
    {
     "data": {
      "application/vnd.jupyter.widget-view+json": {
       "model_id": "a36893df11bb45a6b2ef17a17ab902da",
       "version_major": 2,
       "version_minor": 0
      },
      "text/plain": [
       "HBox(children=(IntProgress(value=0), HTML(value='')))"
      ]
     },
     "metadata": {},
     "output_type": "display_data"
    },
    {
     "name": "stdout",
     "output_type": "stream",
     "text": [
      "\n",
      "Elapsed time in ppxf: 148.91 s\n"
     ]
    },
    {
     "data": {
      "application/vnd.jupyter.widget-view+json": {
       "model_id": "61394cfbfd7942bebba12296470ee32a",
       "version_major": 2,
       "version_minor": 0
      },
      "text/plain": [
       "Canvas(toolbar=Toolbar(toolitems=[('Home', 'Reset original view', 'home', 'home'), ('Back', 'Back to previous …"
      ]
     },
     "metadata": {},
     "output_type": "display_data"
    },
    {
     "name": "stdout",
     "output_type": "stream",
     "text": [
      "Running ppxf on 20 threads...\n"
     ]
    },
    {
     "data": {
      "application/vnd.jupyter.widget-view+json": {
       "model_id": "6d100076c1f24abbab9ae5108ec9294c",
       "version_major": 2,
       "version_minor": 0
      },
      "text/plain": [
       "HBox(children=(IntProgress(value=0), HTML(value='')))"
      ]
     },
     "metadata": {},
     "output_type": "display_data"
    },
    {
     "name": "stdout",
     "output_type": "stream",
     "text": [
      "\n",
      "Elapsed time in ppxf: 156.37 s\n"
     ]
    },
    {
     "data": {
      "application/vnd.jupyter.widget-view+json": {
       "model_id": "bb2e4f09fc054ae6a286abb9eba7a15a",
       "version_major": 2,
       "version_minor": 0
      },
      "text/plain": [
       "Canvas(toolbar=Toolbar(toolitems=[('Home', 'Reset original view', 'home', 'home'), ('Back', 'Back to previous …"
      ]
     },
     "metadata": {},
     "output_type": "display_data"
    },
    {
     "name": "stdout",
     "output_type": "stream",
     "text": [
      "Running ppxf on 20 threads...\n"
     ]
    },
    {
     "data": {
      "application/vnd.jupyter.widget-view+json": {
       "model_id": "d48830dda2b64a67ae6e27bcfd99f0d8",
       "version_major": 2,
       "version_minor": 0
      },
      "text/plain": [
       "HBox(children=(IntProgress(value=0), HTML(value='')))"
      ]
     },
     "metadata": {},
     "output_type": "display_data"
    },
    {
     "name": "stdout",
     "output_type": "stream",
     "text": [
      "\n",
      "Elapsed time in ppxf: 179.15 s\n"
     ]
    },
    {
     "data": {
      "application/vnd.jupyter.widget-view+json": {
       "model_id": "808a539d61654ecfaec895a8e3423683",
       "version_major": 2,
       "version_minor": 0
      },
      "text/plain": [
       "Canvas(toolbar=Toolbar(toolitems=[('Home', 'Reset original view', 'home', 'home'), ('Back', 'Back to previous …"
      ]
     },
     "metadata": {},
     "output_type": "display_data"
    },
    {
     "name": "stdout",
     "output_type": "stream",
     "text": [
      "Running ppxf on 20 threads...\n"
     ]
    },
    {
     "data": {
      "application/vnd.jupyter.widget-view+json": {
       "model_id": "ed4bd0fdc18147b09766b05cc40a2282",
       "version_major": 2,
       "version_minor": 0
      },
      "text/plain": [
       "HBox(children=(IntProgress(value=0), HTML(value='')))"
      ]
     },
     "metadata": {},
     "output_type": "display_data"
    },
    {
     "name": "stdout",
     "output_type": "stream",
     "text": [
      "\n",
      "Elapsed time in ppxf: 179.48 s\n"
     ]
    },
    {
     "data": {
      "application/vnd.jupyter.widget-view+json": {
       "model_id": "dcfdc42c88ea4114aa95ff218b7a7706",
       "version_major": 2,
       "version_minor": 0
      },
      "text/plain": [
       "Canvas(toolbar=Toolbar(toolitems=[('Home', 'Reset original view', 'home', 'home'), ('Back', 'Back to previous …"
      ]
     },
     "metadata": {},
     "output_type": "display_data"
    },
    {
     "name": "stdout",
     "output_type": "stream",
     "text": [
      "Running ppxf on 20 threads...\n"
     ]
    },
    {
     "data": {
      "application/vnd.jupyter.widget-view+json": {
       "model_id": "7655ca29d86147a5bc1793dda574df39",
       "version_major": 2,
       "version_minor": 0
      },
      "text/plain": [
       "HBox(children=(IntProgress(value=0), HTML(value='')))"
      ]
     },
     "metadata": {},
     "output_type": "display_data"
    },
    {
     "name": "stdout",
     "output_type": "stream",
     "text": [
      "\n",
      "Elapsed time in ppxf: 174.56 s\n"
     ]
    },
    {
     "data": {
      "application/vnd.jupyter.widget-view+json": {
       "model_id": "12a014e9f5ce4e818d1112931a7228c4",
       "version_major": 2,
       "version_minor": 0
      },
      "text/plain": [
       "Canvas(toolbar=Toolbar(toolitems=[('Home', 'Reset original view', 'home', 'home'), ('Back', 'Back to previous …"
      ]
     },
     "metadata": {},
     "output_type": "display_data"
    },
    {
     "name": "stdout",
     "output_type": "stream",
     "text": [
      "Running ppxf on 20 threads...\n"
     ]
    },
    {
     "data": {
      "application/vnd.jupyter.widget-view+json": {
       "model_id": "a64c2a95dc8640bb9224c8c42b8a025f",
       "version_major": 2,
       "version_minor": 0
      },
      "text/plain": [
       "HBox(children=(IntProgress(value=0), HTML(value='')))"
      ]
     },
     "metadata": {},
     "output_type": "display_data"
    },
    {
     "name": "stdout",
     "output_type": "stream",
     "text": [
      "\n",
      "Elapsed time in ppxf: 169.36 s\n"
     ]
    },
    {
     "data": {
      "application/vnd.jupyter.widget-view+json": {
       "model_id": "f739d244d7964ae9849c069f6f424739",
       "version_major": 2,
       "version_minor": 0
      },
      "text/plain": [
       "Canvas(toolbar=Toolbar(toolitems=[('Home', 'Reset original view', 'home', 'home'), ('Back', 'Back to previous …"
      ]
     },
     "metadata": {},
     "output_type": "display_data"
    },
    {
     "name": "stdout",
     "output_type": "stream",
     "text": [
      "Running ppxf on 20 threads...\n"
     ]
    },
    {
     "data": {
      "application/vnd.jupyter.widget-view+json": {
       "model_id": "77d3d47a996149b698d793be51c4a429",
       "version_major": 2,
       "version_minor": 0
      },
      "text/plain": [
       "HBox(children=(IntProgress(value=0), HTML(value='')))"
      ]
     },
     "metadata": {},
     "output_type": "display_data"
    },
    {
     "name": "stdout",
     "output_type": "stream",
     "text": [
      "\n",
      "Elapsed time in ppxf: 172.72 s\n"
     ]
    },
    {
     "data": {
      "application/vnd.jupyter.widget-view+json": {
       "model_id": "8c888e6c93fa416db17ee13627e82de4",
       "version_major": 2,
       "version_minor": 0
      },
      "text/plain": [
       "Canvas(toolbar=Toolbar(toolitems=[('Home', 'Reset original view', 'home', 'home'), ('Back', 'Back to previous …"
      ]
     },
     "metadata": {},
     "output_type": "display_data"
    },
    {
     "name": "stdout",
     "output_type": "stream",
     "text": [
      "Running ppxf on 20 threads...\n"
     ]
    },
    {
     "data": {
      "application/vnd.jupyter.widget-view+json": {
       "model_id": "85a6959ec7334b539d533af2802f4839",
       "version_major": 2,
       "version_minor": 0
      },
      "text/plain": [
       "HBox(children=(IntProgress(value=0), HTML(value='')))"
      ]
     },
     "metadata": {},
     "output_type": "display_data"
    },
    {
     "name": "stdout",
     "output_type": "stream",
     "text": [
      "\n",
      "Elapsed time in ppxf: 167.98 s\n"
     ]
    },
    {
     "data": {
      "application/vnd.jupyter.widget-view+json": {
       "model_id": "2506988268904a49853e26aa0bebc145",
       "version_major": 2,
       "version_minor": 0
      },
      "text/plain": [
       "Canvas(toolbar=Toolbar(toolitems=[('Home', 'Reset original view', 'home', 'home'), ('Back', 'Back to previous …"
      ]
     },
     "metadata": {},
     "output_type": "display_data"
    },
    {
     "name": "stdout",
     "output_type": "stream",
     "text": [
      "Running ppxf on 20 threads...\n"
     ]
    },
    {
     "data": {
      "application/vnd.jupyter.widget-view+json": {
       "model_id": "115a54cedaf447ab9378cbce4b74ea2d",
       "version_major": 2,
       "version_minor": 0
      },
      "text/plain": [
       "HBox(children=(IntProgress(value=0), HTML(value='')))"
      ]
     },
     "metadata": {},
     "output_type": "display_data"
    },
    {
     "name": "stdout",
     "output_type": "stream",
     "text": [
      "\n",
      "Elapsed time in ppxf: 163.67 s\n"
     ]
    },
    {
     "data": {
      "application/vnd.jupyter.widget-view+json": {
       "model_id": "f979de0703b44b7b82d591ce5951a5f9",
       "version_major": 2,
       "version_minor": 0
      },
      "text/plain": [
       "Canvas(toolbar=Toolbar(toolitems=[('Home', 'Reset original view', 'home', 'home'), ('Back', 'Back to previous …"
      ]
     },
     "metadata": {},
     "output_type": "display_data"
    },
    {
     "name": "stdout",
     "output_type": "stream",
     "text": [
      "Running ppxf on 20 threads...\n"
     ]
    },
    {
     "data": {
      "application/vnd.jupyter.widget-view+json": {
       "model_id": "02baf574f33e4538b8ec3c85729357f3",
       "version_major": 2,
       "version_minor": 0
      },
      "text/plain": [
       "HBox(children=(IntProgress(value=0), HTML(value='')))"
      ]
     },
     "metadata": {},
     "output_type": "display_data"
    },
    {
     "name": "stdout",
     "output_type": "stream",
     "text": [
      "\n",
      "Elapsed time in ppxf: 176.62 s\n"
     ]
    },
    {
     "data": {
      "application/vnd.jupyter.widget-view+json": {
       "model_id": "a1dbf84117e2493db90b7429a3dff81b",
       "version_major": 2,
       "version_minor": 0
      },
      "text/plain": [
       "Canvas(toolbar=Toolbar(toolitems=[('Home', 'Reset original view', 'home', 'home'), ('Back', 'Back to previous …"
      ]
     },
     "metadata": {},
     "output_type": "display_data"
    }
   ],
   "source": [
    "###########################################################################\n",
    "# Run multiple times with varying S/N; plot the resulting SFHs \n",
    "###########################################################################\n",
    "SNR_vals = np.logspace(0, 5, 11)\n",
    "age_idx = np.nanargmin(np.abs(ages - 1e9))\n",
    "df = pd.DataFrame()\n",
    "\n",
    "for SNR in SNR_vals:\n",
    "    ###########################################################################\n",
    "    # Generate spectrum\n",
    "    ###########################################################################\n",
    "    spec_old, spec_old_err, lambda_vals_A = create_mock_spectrum(\n",
    "        sfh_mass_weighted=sfh_mw_original,\n",
    "        agn_continuum=False,\n",
    "        isochrones=isochrones, z=z, SNR=SNR, sigma_star_kms=sigma_star_kms,\n",
    "        plotit=False)\n",
    "        \n",
    "    ###########################################################################\n",
    "    # Run MC simulations with ppxf\n",
    "    ###########################################################################\n",
    "    # Input arguments\n",
    "    seeds = list(np.random.randint(low=0, high=100 * niters, size=niters))\n",
    "    args_list = [[s, spec_old, spec_old_err, lambda_vals_A] for s in seeds]\n",
    "\n",
    "    # Run in parallel\n",
    "    print(f\"Running ppxf on {nthreads} threads...\")\n",
    "    t = time()\n",
    "    with multiprocessing.Pool(nthreads) as pool:\n",
    "        pp_list_old = list(tqdm(pool.imap(ppxf_helper, args_list), total=niters))\n",
    "    print(f\"Elapsed time in ppxf: {time() - t:.2f} s\")\n",
    "\n",
    "    ###########################################################################\n",
    "    # Compute mean quantities from the MC runs\n",
    "    ###########################################################################\n",
    "    sfh_fit_mw_list = [pp.weights_mass_weighted for pp in pp_list_old]\n",
    "    sfh_fit_lw_list = [pp.weights_light_weighted for pp in pp_list_old]\n",
    "    sfh_fit_mw_1D_list = [np.nansum(pp.weights_mass_weighted, axis=0) for pp in pp_list_old]\n",
    "    sfh_fit_lw_1D_list = [np.nansum(pp.weights_light_weighted, axis=0) for pp in pp_list_old]\n",
    "    \n",
    "    M_tot_list = [np.nansum(pp.weights_mass_weighted) for pp in pp_list_old]\n",
    "    M_tot_young_list = [np.nansum(pp.weights_mass_weighted[:, :age_idx]) for pp in pp_list_old]\n",
    "\n",
    "    # Compute the mean SFH \n",
    "    sfh_fit_mw_mean = np.nansum(np.array(sfh_fit_mw_list), axis=0) / len(sfh_fit_mw_list)\n",
    "    sfh_fit_lw_mean = np.nansum(np.array(sfh_fit_lw_list), axis=0) / len(sfh_fit_lw_list)\n",
    "    sfh_fit_mw_1D_mean = np.nansum(sfh_fit_mw_mean, axis=0)\n",
    "    sfh_fit_lw_1D_mean = np.nansum(sfh_fit_lw_mean, axis=0)\n",
    "    \n",
    "    # Compute the mean mass \n",
    "    M_tot_mean = np.nanmean(M_tot_list)\n",
    "    M_tot_err = np.nanstd(M_tot_list)\n",
    "    M_tot_young_mean = np.nanmean(M_tot_young_list)\n",
    "    M_tot_young_err = np.nanstd(M_tot_young_list)\n",
    "\n",
    "    # sfh_fit_mw_1D_regul = np.nansum(pp_regul.weights_mass_weighted, axis=0)\n",
    "    # sfh_fit_lw_1D_regul = np.nansum(pp_regul.weights_light_weighted, axis=0)\n",
    "    \n",
    "    ###########################################################################\n",
    "    # Compute the total mass, plus the total mass < 1 Gyr\n",
    "    ###########################################################################\n",
    "    M_tot = np.nansum(sfh_fit_mw_1D_mean)\n",
    "    M_tot_young = np.nansum(sfh_fit_mw_1D_mean[:age_idx])\n",
    "    \n",
    "    ###########################################################################\n",
    "    # Plot the mass-weighted weights, summed over the metallicity dimension\n",
    "    ###########################################################################\n",
    "    for log_scale in [True]:\n",
    "        # Create new figure \n",
    "        fig = plt.figure(figsize=(13, 4))\n",
    "        ax = fig.add_axes([0.1, 0.2, 0.7, 0.7])\n",
    "        ax.set_title(f\"Mass-weighted template weights (S/N = {SNR})\")\n",
    "\n",
    "        # Plot the SFHs from each ppxf run, plus the \"truth\" SFH\n",
    "        ax.fill_between(range(N_ages), sfh_mw_1D_original, step=\"mid\", alpha=1.0, color=\"cornflowerblue\", label=\"Input SFH\")\n",
    "        for jj in range(niters):\n",
    "            ax.step(range(N_ages), sfh_fit_mw_1D_list[jj], color=\"pink\", alpha=0.2, where=\"mid\", linewidth=0.25, label=\"ppxf fits (MC simluations)\" if jj == 0 else None)\n",
    "        ax.step(range(N_ages), sfh_fit_mw_1D_mean, color=\"red\", where=\"mid\", label=\"Mean ppxf fit (MC simulations)\")\n",
    "        # ax.step(range(N_ages), sfh_fit_mw_1D_regul, color=\"lightgreen\", where=\"mid\", label=\"ppxf fit (regularised)\")\n",
    "\n",
    "        # Decorations \n",
    "        ax.set_xticks(range(N_ages))\n",
    "        ax.set_xlabel(\"Age (Myr)\")\n",
    "        ax.set_xticklabels([\"{:}\".format(age / 1e6) for age in ages], rotation=\"vertical\", fontsize=\"x-small\")\n",
    "        ax.autoscale(axis=\"x\", enable=True, tight=True)\n",
    "        ax.set_ylim([1, None])\n",
    "        ax.set_ylabel(r\"Template weight ($\\rm M_\\odot$)\")\n",
    "        ax.legend(fontsize=\"x-small\", loc=\"center left\", bbox_to_anchor=(1.01, 0.5))\n",
    "        ax.set_xlabel(\"Age (Myr)\")\n",
    "        ax.set_yscale(\"log\") if log_scale else None\n",
    "        \n",
    "    ###########################################################################\n",
    "    # Append information to DataFrame\n",
    "    ###########################################################################\n",
    "    df = df.append({\n",
    "            \"SNR\": SNR,\n",
    "            \"Total mass\": M_tot,\n",
    "            \"Total mass error\": M_tot_err,\n",
    "            \"Total mass < 1 Gyr\": M_tot_young,\n",
    "            \"Total mass < 1 Gyr error\": M_tot_young_err\n",
    "        }, ignore_index=True)\n",
    "    "
   ]
  },
  {
   "cell_type": "code",
   "execution_count": 9,
   "metadata": {
    "scrolled": false
   },
   "outputs": [
    {
     "data": {
      "application/vnd.jupyter.widget-view+json": {
       "model_id": "0f58eb67a03f470a94cf65c0052f770b",
       "version_major": 2,
       "version_minor": 0
      },
      "text/plain": [
       "Canvas(toolbar=Toolbar(toolitems=[('Home', 'Reset original view', 'home', 'home'), ('Back', 'Back to previous …"
      ]
     },
     "metadata": {},
     "output_type": "display_data"
    },
    {
     "data": {
      "application/vnd.jupyter.widget-view+json": {
       "model_id": "53192c6109e24abba5206e0a879a2f5b",
       "version_major": 2,
       "version_minor": 0
      },
      "text/plain": [
       "Canvas(toolbar=Toolbar(toolitems=[('Home', 'Reset original view', 'home', 'home'), ('Back', 'Back to previous …"
      ]
     },
     "metadata": {},
     "output_type": "display_data"
    }
   ],
   "source": [
    "###########################################################################\n",
    "# Plot the total mass < 1 Gyr vs. S/N ratio\n",
    "###########################################################################\n",
    "fig = plt.figure(figsize=(10, 5))\n",
    "ax = fig.add_axes([0.1, 0.15, 0.5, 0.75])\n",
    "ax.errorbar(x=df[\"SNR\"].values, \n",
    "            y=df[\"Total mass\"].values, \n",
    "            yerr=df[\"Total mass error\"].values,\n",
    "            linestyle=\"none\", marker=\"D\", label=r\"MC $M_{\\rm tot}$\", zorder=999)\n",
    "ax.errorbar(x=df[\"SNR\"].values, \n",
    "            y=df[\"Total mass < 1 Gyr\"].values, \n",
    "            yerr=df[\"Total mass < 1 Gyr error\"].values,\n",
    "            linestyle=\"none\", marker=\"D\", label=r\"MC $M_{\\rm tot}\\, (\\rm < 1 \\, Gyr)$\", zorder=999)\n",
    "ax.axhline(M_tot_original, color=\"grey\", label=\"Total mass\")\n",
    "ax.set_xscale(\"log\")\n",
    "ax.set_yscale(\"log\")\n",
    "ax.legend(bbox_to_anchor=[1.05, 0.5], loc=\"center left\")\n",
    "ax.set_xlabel(\"S/N ratio\")\n",
    "ax.set_ylabel(r\"Stellar mass ($\\rm M_\\odot$)\")\n",
    "ax.set_title(\"No young stellar component\")\n",
    "ax.grid()\n",
    "\n",
    "# Plot again, but as a fraction of the total mass\n",
    "df[\"Young mass fraction\"] = df[\"Total mass < 1 Gyr\"] / df[\"Total mass\"]\n",
    "df[\"Young mass fraction error\"] = df[\"Young mass fraction\"] * np.sqrt((df[\"Total mass < 1 Gyr error\"] / df[\"Total mass < 1 Gyr\"])**2 + \n",
    "                                                                      (df[\"Total mass error\"] / df[\"Total mass\"])**2)\n",
    "fig = plt.figure(figsize=(10, 5))\n",
    "ax = fig.add_axes([0.1, 0.15, 0.5, 0.75])\n",
    "ax.errorbar(x=df[\"SNR\"].values, \n",
    "            y=df[\"Young mass fraction\"].values * 100, \n",
    "            yerr=df[\"Young mass fraction error\"].values * 100,\n",
    "            linestyle=\"none\", marker=\"D\", label=r\"MC $M_{\\rm tot}\\, (\\rm < 1 \\, Gyr)$\", zorder=999)\n",
    "ax.axhline(100, color=\"grey\", label=\"Total mass\")\n",
    "ax.set_xscale(\"log\")\n",
    "ax.set_yscale(\"log\")\n",
    "ax.legend(bbox_to_anchor=[1.05, 0.5], loc=\"center left\")\n",
    "ax.set_xlabel(\"S/N ratio\")\n",
    "ax.set_ylabel(r\"Mass fraction of young stellar population (%)\")\n",
    "ax.set_title(\"No young stellar component\")\n",
    "ax.grid()"
   ]
  },
  {
   "cell_type": "markdown",
   "metadata": {},
   "source": [
    "### Remarks \n",
    "---\n",
    "The total mass in the spurious \"young\" stellar population decreases as the S/N increases, and reaches a plateau at approximately $\\sim 10^6 \\,\\rm M_\\odot$, corresponding to $< 0.001\\%$ of the total mass.\n",
    "At S/N ratios below 100, however, the mass in the spurious young stellar population increases to a few $10^7 \\,\\rm M_\\odot$, representing $>0.01\\%$ of the total mass. In the worst case, when the S/N = 1, this fraction increases to approximately $0.3\\%$."
   ]
  },
  {
   "cell_type": "markdown",
   "metadata": {},
   "source": [
    "## Test: add a young stellar component"
   ]
  },
  {
   "cell_type": "code",
   "execution_count": 6,
   "metadata": {
    "scrolled": false
   },
   "outputs": [
    {
     "data": {
      "application/vnd.jupyter.widget-view+json": {
       "model_id": "3cb7ba005419426ab3e29c276fffcc7e",
       "version_major": 2,
       "version_minor": 0
      },
      "text/plain": [
       "Canvas(toolbar=Toolbar(toolitems=[('Home', 'Reset original view', 'home', 'home'), ('Back', 'Back to previous …"
      ]
     },
     "metadata": {},
     "output_type": "display_data"
    },
    {
     "name": "stderr",
     "output_type": "stream",
     "text": [
      "/home/u5708159/python/Modules/ppxftests/ppxf_plot.py:39: RuntimeWarning: divide by zero encountered in log10\n",
      "  m = ax.imshow(np.log10(sfh_mass_weighted), cmap=\"cubehelix_r\",\n",
      "/home/u5708159/python/Modules/ppxftests/ppxf_plot.py:41: RuntimeWarning: divide by zero encountered in log10\n",
      "  vmin=0, vmax=np.nanmax(np.log10(sfh_mass_weighted)))\n"
     ]
    },
    {
     "data": {
      "application/vnd.jupyter.widget-view+json": {
       "model_id": "07b68f7d17fc4f0ab17edfa14f91fd76",
       "version_major": 2,
       "version_minor": 0
      },
      "text/plain": [
       "Canvas(toolbar=Toolbar(toolitems=[('Home', 'Reset original view', 'home', 'home'), ('Back', 'Back to previous …"
      ]
     },
     "metadata": {},
     "output_type": "display_data"
    }
   ],
   "source": [
    "###########################################################################\n",
    "# Generate the input SFH\n",
    "###########################################################################\n",
    "sfh_mw_original = load_sfh(24, plotit=True)\n",
    "sfh_mw_1D_original = np.nansum(sfh_mw_original, axis=0)\n",
    "\n",
    "# Add a young component, plot to check\n",
    "sfh_mw_young = np.copy(sfh_mw_original)\n",
    "sfh_mw_young[0, 5] = 1e6\n",
    "sfh_mw_1D_young = np.nansum(sfh_mw_young, axis=0)\n",
    "\n",
    "plot_sfh_mass_weighted(sfh_mw_young, ages, metallicities)\n",
    "plt.gcf().get_axes()[0].set_title(\"Young stellar population added\")\n",
    "\n",
    "M_tot_original = np.nansum(sfh_mw_young)\n"
   ]
  },
  {
   "cell_type": "code",
   "execution_count": 8,
   "metadata": {},
   "outputs": [
    {
     "data": {
      "text/plain": [
       "array([1.00000000e+00, 3.16227766e+00, 1.00000000e+01, 3.16227766e+01,\n",
       "       1.00000000e+02, 3.16227766e+02, 1.00000000e+03, 3.16227766e+03,\n",
       "       1.00000000e+04, 3.16227766e+04, 1.00000000e+05])"
      ]
     },
     "execution_count": 8,
     "metadata": {},
     "output_type": "execute_result"
    }
   ],
   "source": [
    "np.logspace(0, 5, 11)"
   ]
  },
  {
   "cell_type": "code",
   "execution_count": 9,
   "metadata": {
    "scrolled": false
   },
   "outputs": [
    {
     "name": "stdout",
     "output_type": "stream",
     "text": [
      "Running ppxf on 20 threads...\n"
     ]
    },
    {
     "data": {
      "application/vnd.jupyter.widget-view+json": {
       "model_id": "cf7d4b37e15549b385a14db313f3c065",
       "version_major": 2,
       "version_minor": 0
      },
      "text/plain": [
       "HBox(children=(IntProgress(value=0), HTML(value='')))"
      ]
     },
     "metadata": {},
     "output_type": "display_data"
    },
    {
     "name": "stdout",
     "output_type": "stream",
     "text": [
      "\n",
      "Elapsed time in ppxf: 123.30 s\n"
     ]
    },
    {
     "data": {
      "application/vnd.jupyter.widget-view+json": {
       "model_id": "9ff0edcb1d834cb8be8de9a93d6a76ac",
       "version_major": 2,
       "version_minor": 0
      },
      "text/plain": [
       "Canvas(toolbar=Toolbar(toolitems=[('Home', 'Reset original view', 'home', 'home'), ('Back', 'Back to previous …"
      ]
     },
     "metadata": {},
     "output_type": "display_data"
    },
    {
     "name": "stdout",
     "output_type": "stream",
     "text": [
      "Running ppxf on 20 threads...\n"
     ]
    },
    {
     "data": {
      "application/vnd.jupyter.widget-view+json": {
       "model_id": "03ac8fe2d6a34b438950aa2c063bdc01",
       "version_major": 2,
       "version_minor": 0
      },
      "text/plain": [
       "HBox(children=(IntProgress(value=0), HTML(value='')))"
      ]
     },
     "metadata": {},
     "output_type": "display_data"
    },
    {
     "name": "stdout",
     "output_type": "stream",
     "text": [
      "\n",
      "Elapsed time in ppxf: 153.61 s\n"
     ]
    },
    {
     "data": {
      "application/vnd.jupyter.widget-view+json": {
       "model_id": "f4f327b9ac5c4499b65184b17e101c81",
       "version_major": 2,
       "version_minor": 0
      },
      "text/plain": [
       "Canvas(toolbar=Toolbar(toolitems=[('Home', 'Reset original view', 'home', 'home'), ('Back', 'Back to previous …"
      ]
     },
     "metadata": {},
     "output_type": "display_data"
    },
    {
     "name": "stdout",
     "output_type": "stream",
     "text": [
      "Running ppxf on 20 threads...\n"
     ]
    },
    {
     "data": {
      "application/vnd.jupyter.widget-view+json": {
       "model_id": "0cb8282eb8724b5797fd8939753fb2ba",
       "version_major": 2,
       "version_minor": 0
      },
      "text/plain": [
       "HBox(children=(IntProgress(value=0), HTML(value='')))"
      ]
     },
     "metadata": {},
     "output_type": "display_data"
    },
    {
     "name": "stdout",
     "output_type": "stream",
     "text": [
      "\n",
      "Elapsed time in ppxf: 176.57 s\n"
     ]
    },
    {
     "data": {
      "application/vnd.jupyter.widget-view+json": {
       "model_id": "e8d8e6c56d9e414eba4fd93e0f2e6f97",
       "version_major": 2,
       "version_minor": 0
      },
      "text/plain": [
       "Canvas(toolbar=Toolbar(toolitems=[('Home', 'Reset original view', 'home', 'home'), ('Back', 'Back to previous …"
      ]
     },
     "metadata": {},
     "output_type": "display_data"
    },
    {
     "name": "stdout",
     "output_type": "stream",
     "text": [
      "Running ppxf on 20 threads...\n"
     ]
    },
    {
     "data": {
      "application/vnd.jupyter.widget-view+json": {
       "model_id": "804267cc2a0b40a39e4199956add9136",
       "version_major": 2,
       "version_minor": 0
      },
      "text/plain": [
       "HBox(children=(IntProgress(value=0), HTML(value='')))"
      ]
     },
     "metadata": {},
     "output_type": "display_data"
    },
    {
     "name": "stdout",
     "output_type": "stream",
     "text": [
      "\n",
      "Elapsed time in ppxf: 179.98 s\n"
     ]
    },
    {
     "data": {
      "application/vnd.jupyter.widget-view+json": {
       "model_id": "ddaab79d4faf43f0a8e55808ea089106",
       "version_major": 2,
       "version_minor": 0
      },
      "text/plain": [
       "Canvas(toolbar=Toolbar(toolitems=[('Home', 'Reset original view', 'home', 'home'), ('Back', 'Back to previous …"
      ]
     },
     "metadata": {},
     "output_type": "display_data"
    }
   ],
   "source": [
    "###########################################################################\n",
    "# Run multiple times with varying S/N; plot the resulting SFHs \n",
    "###########################################################################\n",
    "SNR_vals = np.logspace(0, 3, 4)\n",
    "age_idx = np.nanargmin(np.abs(ages - 1e9))\n",
    "df = pd.DataFrame()\n",
    "\n",
    "for SNR in SNR_vals:\n",
    "    ###########################################################################\n",
    "    # Generate spectrum\n",
    "    ###########################################################################\n",
    "    spec_young, spec_young_err, lambda_vals_A = create_mock_spectrum(\n",
    "        sfh_mass_weighted=sfh_mw_young,\n",
    "        agn_continuum=False,\n",
    "        isochrones=isochrones, z=z, SNR=SNR, sigma_star_kms=sigma_star_kms,\n",
    "        plotit=False)\n",
    "        \n",
    "    ###########################################################################\n",
    "    # Run MC simulations with ppxf\n",
    "    ###########################################################################\n",
    "    # Input arguments\n",
    "    seeds = list(np.random.randint(low=0, high=100 * niters, size=niters))\n",
    "    args_list = [[s, spec_young, spec_young_err, lambda_vals_A] for s in seeds]\n",
    "\n",
    "    # Run in parallel\n",
    "    print(f\"Running ppxf on {nthreads} threads...\")\n",
    "    t = time()\n",
    "    with multiprocessing.Pool(nthreads) as pool:\n",
    "        pp_list_young = list(tqdm(pool.imap(ppxf_helper, args_list), total=niters))\n",
    "    print(f\"Elapsed time in ppxf: {time() - t:.2f} s\")\n",
    "\n",
    "    ###########################################################################\n",
    "    # Compute mean quantities from the MC runs\n",
    "    ###########################################################################\n",
    "    sfh_fit_mw_list = [pp.weights_mass_weighted for pp in pp_list_young]\n",
    "    sfh_fit_lw_list = [pp.weights_light_weighted for pp in pp_list_young]\n",
    "    sfh_fit_mw_1D_list = [np.nansum(pp.weights_mass_weighted, axis=0) for pp in pp_list_young]\n",
    "    sfh_fit_lw_1D_list = [np.nansum(pp.weights_light_weighted, axis=0) for pp in pp_list_young]\n",
    "    \n",
    "    M_tot_list = [np.nansum(pp.weights_mass_weighted) for pp in pp_list_young]\n",
    "    M_tot_young_list = [np.nansum(pp.weights_mass_weighted[:, :age_idx]) for pp in pp_list_young]\n",
    "\n",
    "    # Compute the mean SFH \n",
    "    sfh_fit_mw_mean = np.nansum(np.array(sfh_fit_mw_list), axis=0) / len(sfh_fit_mw_list)\n",
    "    sfh_fit_lw_mean = np.nansum(np.array(sfh_fit_lw_list), axis=0) / len(sfh_fit_lw_list)\n",
    "    sfh_fit_mw_1D_mean = np.nansum(sfh_fit_mw_mean, axis=0)\n",
    "    sfh_fit_lw_1D_mean = np.nansum(sfh_fit_lw_mean, axis=0)\n",
    "    \n",
    "    # Compute the mean mass \n",
    "    M_tot_mean = np.nanmean(M_tot_list)\n",
    "    M_tot_err = np.nanstd(M_tot_list)\n",
    "    M_tot_young_mean = np.nanmean(M_tot_young_list)\n",
    "    M_tot_young_err = np.nanstd(M_tot_young_list)\n",
    "\n",
    "    # sfh_fit_mw_1D_regul = np.nansum(pp_regul.weights_mass_weighted, axis=0)\n",
    "    # sfh_fit_lw_1D_regul = np.nansum(pp_regul.weights_light_weighted, axis=0)\n",
    "    \n",
    "    ###########################################################################\n",
    "    # Compute the total mass, plus the total mass < 1 Gyr\n",
    "    ###########################################################################\n",
    "    age_idx = np.nanargmin(np.abs(ages - 1e9))\n",
    "    M_tot = np.nansum(sfh_fit_mw_1D_mean)\n",
    "    M_tot_young = np.nansum(sfh_fit_mw_1D_mean[:age_idx])\n",
    "    \n",
    "    ###########################################################################\n",
    "    # Plot the mass-weighted weights, summed over the metallicity dimension\n",
    "    ###########################################################################\n",
    "    for log_scale in [True]:\n",
    "        # Create new figure \n",
    "        fig = plt.figure(figsize=(13, 4))\n",
    "        ax = fig.add_axes([0.1, 0.2, 0.7, 0.7])\n",
    "        ax.set_title(f\"Mass-weighted template weights (S/N = {SNR}) - with young stellar population added\")\n",
    "\n",
    "        # Plot the SFHs from each ppxf run, plus the \"truth\" SFH\n",
    "        ax.fill_between(range(N_ages), sfh_mw_1D_young, step=\"mid\", alpha=1.0, color=\"cornflowerblue\", label=\"Input SFH\")\n",
    "        for jj in range(niters):\n",
    "            ax.step(range(N_ages), sfh_fit_mw_1D_list[jj], color=\"pink\", alpha=0.2, where=\"mid\", linewidth=0.25, label=\"ppxf fits (MC simluations)\" if jj == 0 else None)\n",
    "        ax.step(range(N_ages), sfh_fit_mw_1D_mean, color=\"red\", where=\"mid\", label=\"Mean ppxf fit (MC simulations)\")\n",
    "        # ax.step(range(N_ages), sfh_fit_mw_1D_regul, color=\"lightgreen\", where=\"mid\", label=\"ppxf fit (regularised)\")\n",
    "\n",
    "        # Decorations \n",
    "        ax.set_xticks(range(N_ages))\n",
    "        ax.set_xlabel(\"Age (Myr)\")\n",
    "        ax.set_xticklabels([\"{:}\".format(age / 1e6) for age in ages], rotation=\"vertical\", fontsize=\"x-small\")\n",
    "        ax.autoscale(axis=\"x\", enable=True, tight=True)\n",
    "        ax.set_ylim([1, None])\n",
    "        ax.set_ylabel(r\"Template weight ($\\rm M_\\odot$)\")\n",
    "        ax.legend(fontsize=\"x-small\", loc=\"center left\", bbox_to_anchor=(1.01, 0.5))\n",
    "        ax.set_xlabel(\"Age (Myr)\")\n",
    "        ax.set_yscale(\"log\") if log_scale else None\n",
    "        \n",
    "    ###########################################################################\n",
    "    # Append information to DataFrame\n",
    "    ###########################################################################\n",
    "    df = df.append({\n",
    "            \"SNR\": SNR,\n",
    "            \"Total mass\": M_tot,\n",
    "            \"Total mass error\": M_tot_err,\n",
    "            \"Total mass < 1 Gyr\": M_tot_young,\n",
    "            \"Total mass < 1 Gyr error\": M_tot_young_err\n",
    "        }, ignore_index=True)\n",
    "    "
   ]
  },
  {
   "cell_type": "code",
   "execution_count": 10,
   "metadata": {},
   "outputs": [
    {
     "data": {
      "application/vnd.jupyter.widget-view+json": {
       "model_id": "455ababc347445ecb0080d9dfffec977",
       "version_major": 2,
       "version_minor": 0
      },
      "text/plain": [
       "Canvas(toolbar=Toolbar(toolitems=[('Home', 'Reset original view', 'home', 'home'), ('Back', 'Back to previous …"
      ]
     },
     "metadata": {},
     "output_type": "display_data"
    },
    {
     "data": {
      "application/vnd.jupyter.widget-view+json": {
       "model_id": "7241333b474945929705a0551499eb32",
       "version_major": 2,
       "version_minor": 0
      },
      "text/plain": [
       "Canvas(toolbar=Toolbar(toolitems=[('Home', 'Reset original view', 'home', 'home'), ('Back', 'Back to previous …"
      ]
     },
     "metadata": {},
     "output_type": "display_data"
    }
   ],
   "source": [
    "###########################################################################\n",
    "# Plot the total mass < 1 Gyr vs. S/N ratio\n",
    "###########################################################################\n",
    "fig = plt.figure(figsize=(10, 5))\n",
    "ax = fig.add_axes([0.1, 0.15, 0.5, 0.75])\n",
    "ax.errorbar(x=df[\"SNR\"].values, \n",
    "            y=df[\"Total mass\"].values, \n",
    "            yerr=df[\"Total mass error\"].values,\n",
    "            linestyle=\"none\", marker=\"D\", label=r\"MC $M_{\\rm tot}$\", zorder=999)\n",
    "ax.errorbar(x=df[\"SNR\"].values, \n",
    "            y=df[\"Total mass < 1 Gyr\"].values, \n",
    "            yerr=df[\"Total mass < 1 Gyr error\"].values,\n",
    "            linestyle=\"none\", marker=\"D\", label=r\"MC $M_{\\rm tot}\\, (\\rm < 1 \\, Gyr)$\", zorder=999)\n",
    "ax.axhline(M_tot_original, color=\"grey\", label=\"Total mass\")\n",
    "ax.axhline(M_tot_young, color=\"grey\", label=\"Young component\")\n",
    "ax.set_xscale(\"log\")\n",
    "ax.set_yscale(\"log\")\n",
    "ax.legend(bbox_to_anchor=[1.05, 0.5], loc=\"center left\")\n",
    "ax.set_xlabel(\"S/N ratio\")\n",
    "ax.set_ylabel(r\"Stellar mass ($\\rm M_\\odot$)\")\n",
    "ax.set_title(\"Young stellar component\")\n",
    "ax.grid()\n",
    "\n",
    "# Plot again, but as a fraction of the total mass\n",
    "df[\"Young mass fraction\"] = df[\"Total mass < 1 Gyr\"] / df[\"Total mass\"]\n",
    "df[\"Young mass fraction error\"] = df[\"Young mass fraction\"] * np.sqrt((df[\"Total mass < 1 Gyr error\"] / df[\"Total mass < 1 Gyr\"])**2 + \n",
    "                                                                      (df[\"Total mass error\"] / df[\"Total mass\"])**2)\n",
    "fig = plt.figure(figsize=(10, 5))\n",
    "ax = fig.add_axes([0.1, 0.15, 0.5, 0.75])\n",
    "ax.errorbar(x=df[\"SNR\"].values, \n",
    "            y=df[\"Young mass fraction\"].values * 100, \n",
    "            yerr=df[\"Young mass fraction error\"].values * 100,\n",
    "            linestyle=\"none\", marker=\"D\", label=r\"MC $M_{\\rm tot}\\, (\\rm < 1 \\, Gyr)$\", zorder=999)\n",
    "ax.axhline(100, color=\"grey\", label=\"Total mass\")\n",
    "ax.axhline(M_tot_young / M_tot * 100, color=\"black\", label=\"Young component\")\n",
    "ax.set_xscale(\"log\")\n",
    "ax.set_yscale(\"log\")\n",
    "ax.legend(bbox_to_anchor=[1.05, 0.5], loc=\"center left\")\n",
    "ax.set_xlabel(\"S/N ratio\")\n",
    "ax.set_ylabel(r\"Mass fraction of young stellar population (%)\")\n",
    "ax.set_title(\"Young stellar component\")\n",
    "ax.grid()"
   ]
  },
  {
   "cell_type": "code",
   "execution_count": null,
   "metadata": {},
   "outputs": [],
   "source": []
  }
 ],
 "metadata": {
  "kernelspec": {
   "display_name": "Python 3",
   "language": "python",
   "name": "python3"
  },
  "language_info": {
   "codemirror_mode": {
    "name": "ipython",
    "version": 3
   },
   "file_extension": ".py",
   "mimetype": "text/x-python",
   "name": "python",
   "nbconvert_exporter": "python",
   "pygments_lexer": "ipython3",
   "version": "3.7.4"
  }
 },
 "nbformat": 4,
 "nbformat_minor": 2
}
