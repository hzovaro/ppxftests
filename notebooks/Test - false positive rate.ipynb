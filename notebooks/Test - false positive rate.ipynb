{
 "cells": [
  {
   "cell_type": "markdown",
   "metadata": {},
   "source": [
    "# Test: what is the \"false positive\" rate for young stellar populations?\n",
    "---\n",
    "We want to be sure that we can accurately detect young stellar populations using ppxf. \n",
    "However, ppxf may return an SFH with nonzero weights in the young SSP templates when none exist in the input. \n",
    "* What are typical template weights of the young templates when the input has no young component?\n",
    "* Do these weights change as a function of S/N? i.e., are the erroneous weights higher when the noise is higher? Or are they roughly the same, regardless?\n",
    "* What is the *total* erroneous stellar mass in the young bins?\n",
    "* When regularisation is used, does the problem persist?\n",
    "\n",
    "Ideas:\n",
    "* Take one of Phil's SFHs with no young stellar component & run tests. Galaxy 0024 is a good candidate.\n",
    "* Then artificially add a young stellar population & repeat. What is the minimum mass we can have in the young component that can reliably be detected with ppxf? i.e., if ppxf says there is ~10^8 Msun in young templates when the input only contains old templates, then that means we cannot reliably detect YSPs with this (relative) mass."
   ]
  },
  {
   "cell_type": "code",
   "execution_count": 1,
   "metadata": {},
   "outputs": [],
   "source": [
    "%matplotlib widget"
   ]
  },
  {
   "cell_type": "code",
   "execution_count": 2,
   "metadata": {},
   "outputs": [
    {
     "data": {
      "text/html": [
       "<style>.container { width:75% !important; }</style>"
      ],
      "text/plain": [
       "<IPython.core.display.HTML object>"
      ]
     },
     "metadata": {},
     "output_type": "display_data"
    },
    {
     "data": {
      "text/html": [
       "<style>.output_result { max-width:75% !important; }</style>"
      ],
      "text/plain": [
       "<IPython.core.display.HTML object>"
      ]
     },
     "metadata": {},
     "output_type": "display_data"
    }
   ],
   "source": [
    "from IPython.core.display import display, HTML\n",
    "display(HTML(\"<style>.container { width:75% !important; }</style>\"))\n",
    "display(HTML(\"<style>.output_result { max-width:75% !important; }</style>\"))"
   ]
  },
  {
   "cell_type": "code",
   "execution_count": 3,
   "metadata": {},
   "outputs": [],
   "source": [
    "import numpy as np\n",
    "from numpy.random import RandomState\n",
    "from time import time \n",
    "from tqdm.notebook import tqdm\n",
    "import multiprocessing\n",
    "import pandas as pd\n",
    "\n",
    "from astropy.io import fits\n",
    "\n",
    "from ppxftests.run_ppxf import run_ppxf\n",
    "from ppxftests.ssputils import load_ssp_templates\n",
    "from ppxftests.mockspec import load_sfh, create_mock_spectrum, calculate_mw_age\n",
    "from ppxftests.ppxf_plot import plot_sfh_mass_weighted\n",
    "\n",
    "import matplotlib.pyplot as plt\n",
    "plt.ion()\n",
    "plt.close(\"all\")\n",
    "\n",
    "from IPython.core.debugger import Tracer"
   ]
  },
  {
   "cell_type": "code",
   "execution_count": 4,
   "metadata": {},
   "outputs": [],
   "source": [
    "###########################################################################\n",
    "# Helper function for running MC simulations\n",
    "###########################################################################\n",
    "def ppxf_helper(args):\n",
    "    # Unpack arguments\n",
    "    seed, spec, spec_err, lambda_vals_A = args\n",
    "    \n",
    "    # Add \"extra\" noise to the spectrum\n",
    "    rng = RandomState(seed)\n",
    "    noise = rng.normal(scale=spec_err)\n",
    "    spec_noise = spec + noise\n",
    "\n",
    "    # This is to mitigate the \"edge effects\" of the convolution with the LSF\n",
    "    spec_noise[0] = -9999\n",
    "    spec_noise[-1] = -9999\n",
    "\n",
    "    # Run ppxf\n",
    "    pp = run_ppxf(spec=spec_noise, spec_err=spec_err, lambda_vals_A=lambda_vals_A,\n",
    "                  z=z, ngascomponents=1,\n",
    "                  regularisation_method=\"none\", \n",
    "                  isochrones=\"Padova\",\n",
    "                  fit_gas=False, tie_balmer=True,\n",
    "                  plotit=False, savefigs=False, interactive_mode=False)\n",
    "    return pp\n"
   ]
  },
  {
   "cell_type": "markdown",
   "metadata": {},
   "source": [
    "## Does S/N affect the spurious nonzero weights in the lowest age bins?\n",
    "---\n",
    "Using as input an SFH containing no young stellar populations, do our analysis several times, varying the input S/N.\n"
   ]
  },
  {
   "cell_type": "code",
   "execution_count": 5,
   "metadata": {},
   "outputs": [],
   "source": [
    "###########################################################################\n",
    "# Settings\n",
    "###########################################################################\n",
    "isochrones = \"Padova\"\n",
    "sigma_star_kms = 250\n",
    "z = 0.01\n",
    "\n",
    "niters = 100\n",
    "nthreads = 20\n",
    "\n",
    "# Load the stellar templates so we can get the age & metallicity dimensions\n",
    "_, _, metallicities, ages = load_ssp_templates(isochrones)\n",
    "N_ages = len(ages)\n",
    "N_metallicities = len(metallicities)\n"
   ]
  },
  {
   "cell_type": "markdown",
   "metadata": {},
   "source": [
    "### Old stellar population only"
   ]
  },
  {
   "cell_type": "code",
   "execution_count": 15,
   "metadata": {
    "scrolled": false
   },
   "outputs": [
    {
     "name": "stderr",
     "output_type": "stream",
     "text": [
      "/home/u5708159/python/Modules/ppxftests/ppxf_plot.py:31: RuntimeWarning: More than 20 figures have been opened. Figures created through the pyplot interface (`matplotlib.pyplot.figure`) are retained until explicitly closed and may consume too much memory. (To control this warning, see the rcParam `figure.max_open_warning`).\n",
      "  fig = plt.figure(figsize=(10, 3.5))\n"
     ]
    },
    {
     "data": {
      "application/vnd.jupyter.widget-view+json": {
       "model_id": "71d8cc0edec6490dadba56702f140340",
       "version_major": 2,
       "version_minor": 0
      },
      "text/plain": [
       "Canvas(toolbar=Toolbar(toolitems=[('Home', 'Reset original view', 'home', 'home'), ('Back', 'Back to previous …"
      ]
     },
     "metadata": {},
     "output_type": "display_data"
    }
   ],
   "source": [
    "###########################################################################\n",
    "# Generate the input SFH\n",
    "###########################################################################\n",
    "sfh_mw_original = load_sfh(24, plotit=True)\n",
    "sfh_mw_1D_original = np.nansum(sfh_mw_original, axis=0)\n",
    "M_tot_original = np.nansum(sfh_mw_original)"
   ]
  },
  {
   "cell_type": "code",
   "execution_count": 8,
   "metadata": {
    "scrolled": false
   },
   "outputs": [
    {
     "name": "stdout",
     "output_type": "stream",
     "text": [
      "Running ppxf on 20 threads...\n"
     ]
    },
    {
     "data": {
      "application/vnd.jupyter.widget-view+json": {
       "model_id": "7b41b2cd908a4049a1d86b9caa580f16",
       "version_major": 2,
       "version_minor": 0
      },
      "text/plain": [
       "HBox(children=(IntProgress(value=0), HTML(value='')))"
      ]
     },
     "metadata": {},
     "output_type": "display_data"
    },
    {
     "name": "stdout",
     "output_type": "stream",
     "text": [
      "\n",
      "Elapsed time in ppxf: 123.94 s\n"
     ]
    },
    {
     "data": {
      "application/vnd.jupyter.widget-view+json": {
       "model_id": "56434b2005d6460ca89337d638e13e10",
       "version_major": 2,
       "version_minor": 0
      },
      "text/plain": [
       "Canvas(toolbar=Toolbar(toolitems=[('Home', 'Reset original view', 'home', 'home'), ('Back', 'Back to previous …"
      ]
     },
     "metadata": {},
     "output_type": "display_data"
    },
    {
     "name": "stdout",
     "output_type": "stream",
     "text": [
      "Running ppxf on 20 threads...\n"
     ]
    },
    {
     "data": {
      "application/vnd.jupyter.widget-view+json": {
       "model_id": "a36893df11bb45a6b2ef17a17ab902da",
       "version_major": 2,
       "version_minor": 0
      },
      "text/plain": [
       "HBox(children=(IntProgress(value=0), HTML(value='')))"
      ]
     },
     "metadata": {},
     "output_type": "display_data"
    },
    {
     "name": "stdout",
     "output_type": "stream",
     "text": [
      "\n",
      "Elapsed time in ppxf: 148.91 s\n"
     ]
    },
    {
     "data": {
      "application/vnd.jupyter.widget-view+json": {
       "model_id": "61394cfbfd7942bebba12296470ee32a",
       "version_major": 2,
       "version_minor": 0
      },
      "text/plain": [
       "Canvas(toolbar=Toolbar(toolitems=[('Home', 'Reset original view', 'home', 'home'), ('Back', 'Back to previous …"
      ]
     },
     "metadata": {},
     "output_type": "display_data"
    },
    {
     "name": "stdout",
     "output_type": "stream",
     "text": [
      "Running ppxf on 20 threads...\n"
     ]
    },
    {
     "data": {
      "application/vnd.jupyter.widget-view+json": {
       "model_id": "6d100076c1f24abbab9ae5108ec9294c",
       "version_major": 2,
       "version_minor": 0
      },
      "text/plain": [
       "HBox(children=(IntProgress(value=0), HTML(value='')))"
      ]
     },
     "metadata": {},
     "output_type": "display_data"
    },
    {
     "name": "stdout",
     "output_type": "stream",
     "text": [
      "\n",
      "Elapsed time in ppxf: 156.37 s\n"
     ]
    },
    {
     "data": {
      "application/vnd.jupyter.widget-view+json": {
       "model_id": "bb2e4f09fc054ae6a286abb9eba7a15a",
       "version_major": 2,
       "version_minor": 0
      },
      "text/plain": [
       "Canvas(toolbar=Toolbar(toolitems=[('Home', 'Reset original view', 'home', 'home'), ('Back', 'Back to previous …"
      ]
     },
     "metadata": {},
     "output_type": "display_data"
    },
    {
     "name": "stdout",
     "output_type": "stream",
     "text": [
      "Running ppxf on 20 threads...\n"
     ]
    },
    {
     "data": {
      "application/vnd.jupyter.widget-view+json": {
       "model_id": "d48830dda2b64a67ae6e27bcfd99f0d8",
       "version_major": 2,
       "version_minor": 0
      },
      "text/plain": [
       "HBox(children=(IntProgress(value=0), HTML(value='')))"
      ]
     },
     "metadata": {},
     "output_type": "display_data"
    },
    {
     "name": "stdout",
     "output_type": "stream",
     "text": [
      "\n",
      "Elapsed time in ppxf: 179.15 s\n"
     ]
    },
    {
     "data": {
      "application/vnd.jupyter.widget-view+json": {
       "model_id": "808a539d61654ecfaec895a8e3423683",
       "version_major": 2,
       "version_minor": 0
      },
      "text/plain": [
       "Canvas(toolbar=Toolbar(toolitems=[('Home', 'Reset original view', 'home', 'home'), ('Back', 'Back to previous …"
      ]
     },
     "metadata": {},
     "output_type": "display_data"
    },
    {
     "name": "stdout",
     "output_type": "stream",
     "text": [
      "Running ppxf on 20 threads...\n"
     ]
    },
    {
     "data": {
      "application/vnd.jupyter.widget-view+json": {
       "model_id": "ed4bd0fdc18147b09766b05cc40a2282",
       "version_major": 2,
       "version_minor": 0
      },
      "text/plain": [
       "HBox(children=(IntProgress(value=0), HTML(value='')))"
      ]
     },
     "metadata": {},
     "output_type": "display_data"
    },
    {
     "name": "stdout",
     "output_type": "stream",
     "text": [
      "\n",
      "Elapsed time in ppxf: 179.48 s\n"
     ]
    },
    {
     "data": {
      "application/vnd.jupyter.widget-view+json": {
       "model_id": "dcfdc42c88ea4114aa95ff218b7a7706",
       "version_major": 2,
       "version_minor": 0
      },
      "text/plain": [
       "Canvas(toolbar=Toolbar(toolitems=[('Home', 'Reset original view', 'home', 'home'), ('Back', 'Back to previous …"
      ]
     },
     "metadata": {},
     "output_type": "display_data"
    },
    {
     "name": "stdout",
     "output_type": "stream",
     "text": [
      "Running ppxf on 20 threads...\n"
     ]
    },
    {
     "data": {
      "application/vnd.jupyter.widget-view+json": {
       "model_id": "7655ca29d86147a5bc1793dda574df39",
       "version_major": 2,
       "version_minor": 0
      },
      "text/plain": [
       "HBox(children=(IntProgress(value=0), HTML(value='')))"
      ]
     },
     "metadata": {},
     "output_type": "display_data"
    },
    {
     "name": "stdout",
     "output_type": "stream",
     "text": [
      "\n",
      "Elapsed time in ppxf: 174.56 s\n"
     ]
    },
    {
     "data": {
      "application/vnd.jupyter.widget-view+json": {
       "model_id": "12a014e9f5ce4e818d1112931a7228c4",
       "version_major": 2,
       "version_minor": 0
      },
      "text/plain": [
       "Canvas(toolbar=Toolbar(toolitems=[('Home', 'Reset original view', 'home', 'home'), ('Back', 'Back to previous …"
      ]
     },
     "metadata": {},
     "output_type": "display_data"
    },
    {
     "name": "stdout",
     "output_type": "stream",
     "text": [
      "Running ppxf on 20 threads...\n"
     ]
    },
    {
     "data": {
      "application/vnd.jupyter.widget-view+json": {
       "model_id": "a64c2a95dc8640bb9224c8c42b8a025f",
       "version_major": 2,
       "version_minor": 0
      },
      "text/plain": [
       "HBox(children=(IntProgress(value=0), HTML(value='')))"
      ]
     },
     "metadata": {},
     "output_type": "display_data"
    },
    {
     "name": "stdout",
     "output_type": "stream",
     "text": [
      "\n",
      "Elapsed time in ppxf: 169.36 s\n"
     ]
    },
    {
     "data": {
      "application/vnd.jupyter.widget-view+json": {
       "model_id": "f739d244d7964ae9849c069f6f424739",
       "version_major": 2,
       "version_minor": 0
      },
      "text/plain": [
       "Canvas(toolbar=Toolbar(toolitems=[('Home', 'Reset original view', 'home', 'home'), ('Back', 'Back to previous …"
      ]
     },
     "metadata": {},
     "output_type": "display_data"
    },
    {
     "name": "stdout",
     "output_type": "stream",
     "text": [
      "Running ppxf on 20 threads...\n"
     ]
    },
    {
     "data": {
      "application/vnd.jupyter.widget-view+json": {
       "model_id": "77d3d47a996149b698d793be51c4a429",
       "version_major": 2,
       "version_minor": 0
      },
      "text/plain": [
       "HBox(children=(IntProgress(value=0), HTML(value='')))"
      ]
     },
     "metadata": {},
     "output_type": "display_data"
    },
    {
     "name": "stdout",
     "output_type": "stream",
     "text": [
      "\n",
      "Elapsed time in ppxf: 172.72 s\n"
     ]
    },
    {
     "data": {
      "application/vnd.jupyter.widget-view+json": {
       "model_id": "8c888e6c93fa416db17ee13627e82de4",
       "version_major": 2,
       "version_minor": 0
      },
      "text/plain": [
       "Canvas(toolbar=Toolbar(toolitems=[('Home', 'Reset original view', 'home', 'home'), ('Back', 'Back to previous …"
      ]
     },
     "metadata": {},
     "output_type": "display_data"
    },
    {
     "name": "stdout",
     "output_type": "stream",
     "text": [
      "Running ppxf on 20 threads...\n"
     ]
    },
    {
     "data": {
      "application/vnd.jupyter.widget-view+json": {
       "model_id": "85a6959ec7334b539d533af2802f4839",
       "version_major": 2,
       "version_minor": 0
      },
      "text/plain": [
       "HBox(children=(IntProgress(value=0), HTML(value='')))"
      ]
     },
     "metadata": {},
     "output_type": "display_data"
    },
    {
     "name": "stdout",
     "output_type": "stream",
     "text": [
      "\n",
      "Elapsed time in ppxf: 167.98 s\n"
     ]
    },
    {
     "data": {
      "application/vnd.jupyter.widget-view+json": {
       "model_id": "2506988268904a49853e26aa0bebc145",
       "version_major": 2,
       "version_minor": 0
      },
      "text/plain": [
       "Canvas(toolbar=Toolbar(toolitems=[('Home', 'Reset original view', 'home', 'home'), ('Back', 'Back to previous …"
      ]
     },
     "metadata": {},
     "output_type": "display_data"
    },
    {
     "name": "stdout",
     "output_type": "stream",
     "text": [
      "Running ppxf on 20 threads...\n"
     ]
    },
    {
     "data": {
      "application/vnd.jupyter.widget-view+json": {
       "model_id": "115a54cedaf447ab9378cbce4b74ea2d",
       "version_major": 2,
       "version_minor": 0
      },
      "text/plain": [
       "HBox(children=(IntProgress(value=0), HTML(value='')))"
      ]
     },
     "metadata": {},
     "output_type": "display_data"
    },
    {
     "name": "stdout",
     "output_type": "stream",
     "text": [
      "\n",
      "Elapsed time in ppxf: 163.67 s\n"
     ]
    },
    {
     "data": {
      "application/vnd.jupyter.widget-view+json": {
       "model_id": "f979de0703b44b7b82d591ce5951a5f9",
       "version_major": 2,
       "version_minor": 0
      },
      "text/plain": [
       "Canvas(toolbar=Toolbar(toolitems=[('Home', 'Reset original view', 'home', 'home'), ('Back', 'Back to previous …"
      ]
     },
     "metadata": {},
     "output_type": "display_data"
    },
    {
     "name": "stdout",
     "output_type": "stream",
     "text": [
      "Running ppxf on 20 threads...\n"
     ]
    },
    {
     "data": {
      "application/vnd.jupyter.widget-view+json": {
       "model_id": "02baf574f33e4538b8ec3c85729357f3",
       "version_major": 2,
       "version_minor": 0
      },
      "text/plain": [
       "HBox(children=(IntProgress(value=0), HTML(value='')))"
      ]
     },
     "metadata": {},
     "output_type": "display_data"
    },
    {
     "name": "stdout",
     "output_type": "stream",
     "text": [
      "\n",
      "Elapsed time in ppxf: 176.62 s\n"
     ]
    },
    {
     "data": {
      "application/vnd.jupyter.widget-view+json": {
       "model_id": "a1dbf84117e2493db90b7429a3dff81b",
       "version_major": 2,
       "version_minor": 0
      },
      "text/plain": [
       "Canvas(toolbar=Toolbar(toolitems=[('Home', 'Reset original view', 'home', 'home'), ('Back', 'Back to previous …"
      ]
     },
     "metadata": {},
     "output_type": "display_data"
    }
   ],
   "source": [
    "###########################################################################\n",
    "# Run multiple times with varying S/N; plot the resulting SFHs \n",
    "###########################################################################\n",
    "SNR_vals = np.logspace(0, 5, 11)\n",
    "age_idx = np.nanargmin(np.abs(ages - 1e9))\n",
    "df = pd.DataFrame()\n",
    "\n",
    "for SNR in SNR_vals:\n",
    "    ###########################################################################\n",
    "    # Generate spectrum\n",
    "    ###########################################################################\n",
    "    spec_old, spec_old_err, lambda_vals_A = create_mock_spectrum(\n",
    "        sfh_mass_weighted=sfh_mw_original,\n",
    "        agn_continuum=False,\n",
    "        isochrones=isochrones, z=z, SNR=SNR, sigma_star_kms=sigma_star_kms,\n",
    "        plotit=False)\n",
    "        \n",
    "    ###########################################################################\n",
    "    # Run MC simulations with ppxf\n",
    "    ###########################################################################\n",
    "    # Input arguments\n",
    "    seeds = list(np.random.randint(low=0, high=100 * niters, size=niters))\n",
    "    args_list = [[s, spec_old, spec_old_err, lambda_vals_A] for s in seeds]\n",
    "\n",
    "    # Run in parallel\n",
    "    print(f\"Running ppxf on {nthreads} threads...\")\n",
    "    t = time()\n",
    "    with multiprocessing.Pool(nthreads) as pool:\n",
    "        pp_list_old = list(tqdm(pool.imap(ppxf_helper, args_list), total=niters))\n",
    "    print(f\"Elapsed time in ppxf: {time() - t:.2f} s\")\n",
    "\n",
    "    ###########################################################################\n",
    "    # Compute mean quantities from the MC runs\n",
    "    ###########################################################################\n",
    "    sfh_fit_mw_list = [pp.weights_mass_weighted for pp in pp_list_old]\n",
    "    sfh_fit_lw_list = [pp.weights_light_weighted for pp in pp_list_old]\n",
    "    sfh_fit_mw_1D_list = [np.nansum(pp.weights_mass_weighted, axis=0) for pp in pp_list_old]\n",
    "    sfh_fit_lw_1D_list = [np.nansum(pp.weights_light_weighted, axis=0) for pp in pp_list_old]\n",
    "    \n",
    "    M_tot_list = [np.nansum(pp.weights_mass_weighted) for pp in pp_list_old]\n",
    "    M_tot_young_list = [np.nansum(pp.weights_mass_weighted[:, :age_idx]) for pp in pp_list_old]\n",
    "\n",
    "    # Compute the mean SFH \n",
    "    sfh_fit_mw_mean = np.nansum(np.array(sfh_fit_mw_list), axis=0) / len(sfh_fit_mw_list)\n",
    "    sfh_fit_lw_mean = np.nansum(np.array(sfh_fit_lw_list), axis=0) / len(sfh_fit_lw_list)\n",
    "    sfh_fit_mw_1D_mean = np.nansum(sfh_fit_mw_mean, axis=0)\n",
    "    sfh_fit_lw_1D_mean = np.nansum(sfh_fit_lw_mean, axis=0)\n",
    "    \n",
    "    # Compute the mean mass \n",
    "    M_tot_mean = np.nanmean(M_tot_list)\n",
    "    M_tot_err = np.nanstd(M_tot_list)\n",
    "    M_tot_young_mean = np.nanmean(M_tot_young_list)\n",
    "    M_tot_young_err = np.nanstd(M_tot_young_list)\n",
    "\n",
    "    # sfh_fit_mw_1D_regul = np.nansum(pp_regul.weights_mass_weighted, axis=0)\n",
    "    # sfh_fit_lw_1D_regul = np.nansum(pp_regul.weights_light_weighted, axis=0)\n",
    "    \n",
    "    ###########################################################################\n",
    "    # Compute the total mass, plus the total mass < 1 Gyr\n",
    "    ###########################################################################\n",
    "    M_tot = np.nansum(sfh_fit_mw_1D_mean)\n",
    "    M_tot_young = np.nansum(sfh_fit_mw_1D_mean[:age_idx])\n",
    "    \n",
    "    ###########################################################################\n",
    "    # Plot the mass-weighted weights, summed over the metallicity dimension\n",
    "    ###########################################################################\n",
    "    for log_scale in [True]:\n",
    "        # Create new figure \n",
    "        fig = plt.figure(figsize=(13, 4))\n",
    "        ax = fig.add_axes([0.1, 0.2, 0.7, 0.7])\n",
    "        ax.set_title(f\"Mass-weighted template weights (S/N = {SNR})\")\n",
    "\n",
    "        # Plot the SFHs from each ppxf run, plus the \"truth\" SFH\n",
    "        ax.fill_between(range(N_ages), sfh_mw_1D_original, step=\"mid\", alpha=1.0, color=\"cornflowerblue\", label=\"Input SFH\")\n",
    "        for jj in range(niters):\n",
    "            ax.step(range(N_ages), sfh_fit_mw_1D_list[jj], color=\"pink\", alpha=0.2, where=\"mid\", linewidth=0.25, label=\"ppxf fits (MC simluations)\" if jj == 0 else None)\n",
    "        ax.step(range(N_ages), sfh_fit_mw_1D_mean, color=\"red\", where=\"mid\", label=\"Mean ppxf fit (MC simulations)\")\n",
    "        # ax.step(range(N_ages), sfh_fit_mw_1D_regul, color=\"lightgreen\", where=\"mid\", label=\"ppxf fit (regularised)\")\n",
    "\n",
    "        # Decorations \n",
    "        ax.set_xticks(range(N_ages))\n",
    "        ax.set_xlabel(\"Age (Myr)\")\n",
    "        ax.set_xticklabels([\"{:}\".format(age / 1e6) for age in ages], rotation=\"vertical\", fontsize=\"x-small\")\n",
    "        ax.autoscale(axis=\"x\", enable=True, tight=True)\n",
    "        ax.set_ylim([1, None])\n",
    "        ax.set_ylabel(r\"Template weight ($\\rm M_\\odot$)\")\n",
    "        ax.legend(fontsize=\"x-small\", loc=\"center left\", bbox_to_anchor=(1.01, 0.5))\n",
    "        ax.set_xlabel(\"Age (Myr)\")\n",
    "        ax.set_yscale(\"log\") if log_scale else None\n",
    "        \n",
    "    ###########################################################################\n",
    "    # Append information to DataFrame\n",
    "    ###########################################################################\n",
    "    df = df.append({\n",
    "            \"SNR\": SNR,\n",
    "            \"Total mass\": M_tot,\n",
    "            \"Total mass error\": M_tot_err,\n",
    "            \"Total mass < 1 Gyr\": M_tot_young,\n",
    "            \"Total mass < 1 Gyr error\": M_tot_young_err\n",
    "        }, ignore_index=True)\n",
    "    "
   ]
  },
  {
   "cell_type": "code",
   "execution_count": 9,
   "metadata": {
    "scrolled": false
   },
   "outputs": [
    {
     "data": {
      "application/vnd.jupyter.widget-view+json": {
       "model_id": "0f58eb67a03f470a94cf65c0052f770b",
       "version_major": 2,
       "version_minor": 0
      },
      "text/plain": [
       "Canvas(toolbar=Toolbar(toolitems=[('Home', 'Reset original view', 'home', 'home'), ('Back', 'Back to previous …"
      ]
     },
     "metadata": {},
     "output_type": "display_data"
    },
    {
     "data": {
      "application/vnd.jupyter.widget-view+json": {
       "model_id": "53192c6109e24abba5206e0a879a2f5b",
       "version_major": 2,
       "version_minor": 0
      },
      "text/plain": [
       "Canvas(toolbar=Toolbar(toolitems=[('Home', 'Reset original view', 'home', 'home'), ('Back', 'Back to previous …"
      ]
     },
     "metadata": {},
     "output_type": "display_data"
    }
   ],
   "source": [
    "###########################################################################\n",
    "# Plot the total mass < 1 Gyr vs. S/N ratio\n",
    "###########################################################################\n",
    "fig = plt.figure(figsize=(10, 5))\n",
    "ax = fig.add_axes([0.1, 0.15, 0.5, 0.75])\n",
    "ax.errorbar(x=df[\"SNR\"].values, \n",
    "            y=df[\"Total mass\"].values, \n",
    "            yerr=df[\"Total mass error\"].values,\n",
    "            linestyle=\"none\", marker=\"D\", label=r\"MC $M_{\\rm tot}$\", zorder=999)\n",
    "ax.errorbar(x=df[\"SNR\"].values, \n",
    "            y=df[\"Total mass < 1 Gyr\"].values, \n",
    "            yerr=df[\"Total mass < 1 Gyr error\"].values,\n",
    "            linestyle=\"none\", marker=\"D\", label=r\"MC $M_{\\rm tot}\\, (\\rm < 1 \\, Gyr)$\", zorder=999)\n",
    "ax.axhline(M_tot_original, color=\"grey\", label=\"Total mass\")\n",
    "ax.set_xscale(\"log\")\n",
    "ax.set_yscale(\"log\")\n",
    "ax.legend(bbox_to_anchor=[1.05, 0.5], loc=\"center left\")\n",
    "ax.set_xlabel(\"S/N ratio\")\n",
    "ax.set_ylabel(r\"Stellar mass ($\\rm M_\\odot$)\")\n",
    "ax.set_title(\"No young stellar component\")\n",
    "ax.grid()\n",
    "\n",
    "# Plot again, but as a fraction of the total mass\n",
    "df[\"Young mass fraction\"] = df[\"Total mass < 1 Gyr\"] / df[\"Total mass\"]\n",
    "df[\"Young mass fraction error\"] = df[\"Young mass fraction\"] * np.sqrt((df[\"Total mass < 1 Gyr error\"] / df[\"Total mass < 1 Gyr\"])**2 + \n",
    "                                                                      (df[\"Total mass error\"] / df[\"Total mass\"])**2)\n",
    "fig = plt.figure(figsize=(10, 5))\n",
    "ax = fig.add_axes([0.1, 0.15, 0.5, 0.75])\n",
    "ax.errorbar(x=df[\"SNR\"].values, \n",
    "            y=df[\"Young mass fraction\"].values * 100, \n",
    "            yerr=df[\"Young mass fraction error\"].values * 100,\n",
    "            linestyle=\"none\", marker=\"D\", label=r\"MC $M_{\\rm tot}\\, (\\rm < 1 \\, Gyr)$\", zorder=999)\n",
    "ax.axhline(100, color=\"grey\", label=\"Total mass\")\n",
    "ax.set_xscale(\"log\")\n",
    "ax.set_yscale(\"log\")\n",
    "ax.legend(bbox_to_anchor=[1.05, 0.5], loc=\"center left\")\n",
    "ax.set_xlabel(\"S/N ratio\")\n",
    "ax.set_ylabel(r\"Mass fraction of young stellar population (%)\")\n",
    "ax.set_title(\"No young stellar component\")\n",
    "ax.grid()"
   ]
  },
  {
   "cell_type": "markdown",
   "metadata": {},
   "source": [
    "### Remarks \n",
    "---\n",
    "The total mass in the spurious \"young\" stellar population decreases as the S/N increases, and reaches a plateau at approximately $\\sim 10^6 \\,\\rm M_\\odot$, corresponding to $< 0.001\\%$ of the total mass.\n",
    "At S/N ratios below 100, however, the mass in the spurious young stellar population increases to a few $10^7 \\,\\rm M_\\odot$, representing $>0.01\\%$ of the total mass. In the worst case, when the S/N = 1, this fraction increases to approximately $0.3\\%$."
   ]
  },
  {
   "cell_type": "markdown",
   "metadata": {},
   "source": [
    "## Test: add a young stellar component"
   ]
  },
  {
   "cell_type": "code",
   "execution_count": 18,
   "metadata": {
    "scrolled": false
   },
   "outputs": [
    {
     "data": {
      "application/vnd.jupyter.widget-view+json": {
       "model_id": "8de6222622d241febba47eb5995b7380",
       "version_major": 2,
       "version_minor": 0
      },
      "text/plain": [
       "Canvas(toolbar=Toolbar(toolitems=[('Home', 'Reset original view', 'home', 'home'), ('Back', 'Back to previous …"
      ]
     },
     "metadata": {},
     "output_type": "display_data"
    },
    {
     "data": {
      "application/vnd.jupyter.widget-view+json": {
       "model_id": "4b49b48b9edc4c2485b9209644010891",
       "version_major": 2,
       "version_minor": 0
      },
      "text/plain": [
       "Canvas(toolbar=Toolbar(toolitems=[('Home', 'Reset original view', 'home', 'home'), ('Back', 'Back to previous …"
      ]
     },
     "metadata": {},
     "output_type": "display_data"
    }
   ],
   "source": [
    "###########################################################################\n",
    "# Generate the input SFH\n",
    "###########################################################################\n",
    "sfh_mw_original = load_sfh(24, plotit=True)\n",
    "sfh_mw_1D_original = np.nansum(sfh_mw_original, axis=0)\n",
    "\n",
    "# Add a young component, plot to check\n",
    "sfh_mw_young = np.copy(sfh_mw_original)\n",
    "sfh_mw_young[0, 5] = 1e7\n",
    "sfh_mw_1D_young = np.nansum(sfh_mw_young, axis=0)\n",
    "\n",
    "plot_sfh_mass_weighted(sfh_mw_young, ages, metallicities)\n",
    "plt.gcf().get_axes()[0].set_title(\"Young stellar population added\")\n",
    "\n",
    "M_tot_original = np.nansum(sfh_mw_young)\n"
   ]
  },
  {
   "cell_type": "code",
   "execution_count": 19,
   "metadata": {
    "scrolled": false
   },
   "outputs": [
    {
     "name": "stdout",
     "output_type": "stream",
     "text": [
      "Running ppxf on 20 threads...\n"
     ]
    },
    {
     "data": {
      "application/vnd.jupyter.widget-view+json": {
       "model_id": "9b2604118744468aab462b62146d99fb",
       "version_major": 2,
       "version_minor": 0
      },
      "text/plain": [
       "HBox(children=(IntProgress(value=0), HTML(value='')))"
      ]
     },
     "metadata": {},
     "output_type": "display_data"
    },
    {
     "name": "stdout",
     "output_type": "stream",
     "text": [
      "\n",
      "Elapsed time in ppxf: 149.10 s\n"
     ]
    },
    {
     "name": "stderr",
     "output_type": "stream",
     "text": [
      "/pkg/linux/anaconda-20191122/anaconda3/lib/python3.7/site-packages/ipykernel_launcher.py:70: RuntimeWarning: More than 20 figures have been opened. Figures created through the pyplot interface (`matplotlib.pyplot.figure`) are retained until explicitly closed and may consume too much memory. (To control this warning, see the rcParam `figure.max_open_warning`).\n"
     ]
    },
    {
     "data": {
      "application/vnd.jupyter.widget-view+json": {
       "model_id": "1e7a9d6e19e74940b0b2b24ced88dab1",
       "version_major": 2,
       "version_minor": 0
      },
      "text/plain": [
       "Canvas(toolbar=Toolbar(toolitems=[('Home', 'Reset original view', 'home', 'home'), ('Back', 'Back to previous …"
      ]
     },
     "metadata": {},
     "output_type": "display_data"
    },
    {
     "name": "stdout",
     "output_type": "stream",
     "text": [
      "Running ppxf on 20 threads...\n"
     ]
    },
    {
     "data": {
      "application/vnd.jupyter.widget-view+json": {
       "model_id": "5ef17b2b6ddb479c936419df45b50afb",
       "version_major": 2,
       "version_minor": 0
      },
      "text/plain": [
       "HBox(children=(IntProgress(value=0), HTML(value='')))"
      ]
     },
     "metadata": {},
     "output_type": "display_data"
    },
    {
     "name": "stdout",
     "output_type": "stream",
     "text": [
      "\n",
      "Elapsed time in ppxf: 163.56 s\n"
     ]
    },
    {
     "data": {
      "application/vnd.jupyter.widget-view+json": {
       "model_id": "b10689a2b9104cfaa77bf65a6f07e7e6",
       "version_major": 2,
       "version_minor": 0
      },
      "text/plain": [
       "Canvas(toolbar=Toolbar(toolitems=[('Home', 'Reset original view', 'home', 'home'), ('Back', 'Back to previous …"
      ]
     },
     "metadata": {},
     "output_type": "display_data"
    },
    {
     "name": "stdout",
     "output_type": "stream",
     "text": [
      "Running ppxf on 20 threads...\n"
     ]
    },
    {
     "data": {
      "application/vnd.jupyter.widget-view+json": {
       "model_id": "45b25d0ca6844738ba2c5bfe83c4fb30",
       "version_major": 2,
       "version_minor": 0
      },
      "text/plain": [
       "HBox(children=(IntProgress(value=0), HTML(value='')))"
      ]
     },
     "metadata": {},
     "output_type": "display_data"
    },
    {
     "name": "stdout",
     "output_type": "stream",
     "text": [
      "\n",
      "Elapsed time in ppxf: 162.40 s\n"
     ]
    },
    {
     "data": {
      "application/vnd.jupyter.widget-view+json": {
       "model_id": "792b506150184dde98052a61e7e46a09",
       "version_major": 2,
       "version_minor": 0
      },
      "text/plain": [
       "Canvas(toolbar=Toolbar(toolitems=[('Home', 'Reset original view', 'home', 'home'), ('Back', 'Back to previous …"
      ]
     },
     "metadata": {},
     "output_type": "display_data"
    },
    {
     "name": "stdout",
     "output_type": "stream",
     "text": [
      "Running ppxf on 20 threads...\n"
     ]
    },
    {
     "data": {
      "application/vnd.jupyter.widget-view+json": {
       "model_id": "1c1cd2f7fc72411582623db2776f7874",
       "version_major": 2,
       "version_minor": 0
      },
      "text/plain": [
       "HBox(children=(IntProgress(value=0), HTML(value='')))"
      ]
     },
     "metadata": {},
     "output_type": "display_data"
    },
    {
     "name": "stdout",
     "output_type": "stream",
     "text": [
      "\n",
      "Elapsed time in ppxf: 176.28 s\n"
     ]
    },
    {
     "data": {
      "application/vnd.jupyter.widget-view+json": {
       "model_id": "30ef7ecc779b4a6d857d000913b60b57",
       "version_major": 2,
       "version_minor": 0
      },
      "text/plain": [
       "Canvas(toolbar=Toolbar(toolitems=[('Home', 'Reset original view', 'home', 'home'), ('Back', 'Back to previous …"
      ]
     },
     "metadata": {},
     "output_type": "display_data"
    },
    {
     "name": "stdout",
     "output_type": "stream",
     "text": [
      "Running ppxf on 20 threads...\n"
     ]
    },
    {
     "data": {
      "application/vnd.jupyter.widget-view+json": {
       "model_id": "e0f2bb7167ce438297a022035050a4cb",
       "version_major": 2,
       "version_minor": 0
      },
      "text/plain": [
       "HBox(children=(IntProgress(value=0), HTML(value='')))"
      ]
     },
     "metadata": {},
     "output_type": "display_data"
    },
    {
     "name": "stdout",
     "output_type": "stream",
     "text": [
      "\n",
      "Elapsed time in ppxf: 199.27 s\n"
     ]
    },
    {
     "data": {
      "application/vnd.jupyter.widget-view+json": {
       "model_id": "4a1397dc7613439ba26ce935acea7ce4",
       "version_major": 2,
       "version_minor": 0
      },
      "text/plain": [
       "Canvas(toolbar=Toolbar(toolitems=[('Home', 'Reset original view', 'home', 'home'), ('Back', 'Back to previous …"
      ]
     },
     "metadata": {},
     "output_type": "display_data"
    },
    {
     "name": "stdout",
     "output_type": "stream",
     "text": [
      "Running ppxf on 20 threads...\n"
     ]
    },
    {
     "data": {
      "application/vnd.jupyter.widget-view+json": {
       "model_id": "fc42cfeb235a4867ad7d8dbb581a337b",
       "version_major": 2,
       "version_minor": 0
      },
      "text/plain": [
       "HBox(children=(IntProgress(value=0), HTML(value='')))"
      ]
     },
     "metadata": {},
     "output_type": "display_data"
    },
    {
     "name": "stdout",
     "output_type": "stream",
     "text": [
      "\n",
      "Elapsed time in ppxf: 192.06 s\n"
     ]
    },
    {
     "data": {
      "application/vnd.jupyter.widget-view+json": {
       "model_id": "c5ce7d329ffc41cb9466f81fb1ce01d0",
       "version_major": 2,
       "version_minor": 0
      },
      "text/plain": [
       "Canvas(toolbar=Toolbar(toolitems=[('Home', 'Reset original view', 'home', 'home'), ('Back', 'Back to previous …"
      ]
     },
     "metadata": {},
     "output_type": "display_data"
    },
    {
     "name": "stdout",
     "output_type": "stream",
     "text": [
      "Running ppxf on 20 threads...\n"
     ]
    },
    {
     "data": {
      "application/vnd.jupyter.widget-view+json": {
       "model_id": "93b2f8e259504f54b058dca2e4602480",
       "version_major": 2,
       "version_minor": 0
      },
      "text/plain": [
       "HBox(children=(IntProgress(value=0), HTML(value='')))"
      ]
     },
     "metadata": {},
     "output_type": "display_data"
    },
    {
     "name": "stdout",
     "output_type": "stream",
     "text": [
      "\n",
      "Elapsed time in ppxf: 186.47 s\n"
     ]
    },
    {
     "data": {
      "application/vnd.jupyter.widget-view+json": {
       "model_id": "8ecef6e9c7ad41b49559196e0faa6f56",
       "version_major": 2,
       "version_minor": 0
      },
      "text/plain": [
       "Canvas(toolbar=Toolbar(toolitems=[('Home', 'Reset original view', 'home', 'home'), ('Back', 'Back to previous …"
      ]
     },
     "metadata": {},
     "output_type": "display_data"
    },
    {
     "name": "stdout",
     "output_type": "stream",
     "text": [
      "Running ppxf on 20 threads...\n"
     ]
    },
    {
     "data": {
      "application/vnd.jupyter.widget-view+json": {
       "model_id": "0320099326f74fdab1dced52fe20fc6c",
       "version_major": 2,
       "version_minor": 0
      },
      "text/plain": [
       "HBox(children=(IntProgress(value=0), HTML(value='')))"
      ]
     },
     "metadata": {},
     "output_type": "display_data"
    },
    {
     "name": "stdout",
     "output_type": "stream",
     "text": [
      "\n",
      "Elapsed time in ppxf: 180.56 s\n"
     ]
    },
    {
     "data": {
      "application/vnd.jupyter.widget-view+json": {
       "model_id": "2a03d0477e6f4c2d9361e17b7801e50a",
       "version_major": 2,
       "version_minor": 0
      },
      "text/plain": [
       "Canvas(toolbar=Toolbar(toolitems=[('Home', 'Reset original view', 'home', 'home'), ('Back', 'Back to previous …"
      ]
     },
     "metadata": {},
     "output_type": "display_data"
    },
    {
     "name": "stdout",
     "output_type": "stream",
     "text": [
      "Running ppxf on 20 threads...\n"
     ]
    },
    {
     "data": {
      "application/vnd.jupyter.widget-view+json": {
       "model_id": "811ce1ece39245f79a8baa3f22e6ac28",
       "version_major": 2,
       "version_minor": 0
      },
      "text/plain": [
       "HBox(children=(IntProgress(value=0), HTML(value='')))"
      ]
     },
     "metadata": {},
     "output_type": "display_data"
    },
    {
     "name": "stdout",
     "output_type": "stream",
     "text": [
      "\n",
      "Elapsed time in ppxf: 188.39 s\n"
     ]
    },
    {
     "data": {
      "application/vnd.jupyter.widget-view+json": {
       "model_id": "5e881a0367894b6e990e0cb4ff25635f",
       "version_major": 2,
       "version_minor": 0
      },
      "text/plain": [
       "Canvas(toolbar=Toolbar(toolitems=[('Home', 'Reset original view', 'home', 'home'), ('Back', 'Back to previous …"
      ]
     },
     "metadata": {},
     "output_type": "display_data"
    },
    {
     "name": "stdout",
     "output_type": "stream",
     "text": [
      "Running ppxf on 20 threads...\n"
     ]
    },
    {
     "data": {
      "application/vnd.jupyter.widget-view+json": {
       "model_id": "8bc1f4e6179c4b86b6648c34230455a0",
       "version_major": 2,
       "version_minor": 0
      },
      "text/plain": [
       "HBox(children=(IntProgress(value=0), HTML(value='')))"
      ]
     },
     "metadata": {},
     "output_type": "display_data"
    },
    {
     "name": "stdout",
     "output_type": "stream",
     "text": [
      "\n",
      "Elapsed time in ppxf: 176.27 s\n"
     ]
    },
    {
     "data": {
      "application/vnd.jupyter.widget-view+json": {
       "model_id": "5d5d03465eb044a1917418ed4f0a8d1c",
       "version_major": 2,
       "version_minor": 0
      },
      "text/plain": [
       "Canvas(toolbar=Toolbar(toolitems=[('Home', 'Reset original view', 'home', 'home'), ('Back', 'Back to previous …"
      ]
     },
     "metadata": {},
     "output_type": "display_data"
    },
    {
     "name": "stdout",
     "output_type": "stream",
     "text": [
      "Running ppxf on 20 threads...\n"
     ]
    },
    {
     "data": {
      "application/vnd.jupyter.widget-view+json": {
       "model_id": "e35e5ff9dec34a9bade65f6c721e072e",
       "version_major": 2,
       "version_minor": 0
      },
      "text/plain": [
       "HBox(children=(IntProgress(value=0), HTML(value='')))"
      ]
     },
     "metadata": {},
     "output_type": "display_data"
    },
    {
     "name": "stdout",
     "output_type": "stream",
     "text": [
      "\n",
      "Elapsed time in ppxf: 173.22 s\n"
     ]
    },
    {
     "data": {
      "application/vnd.jupyter.widget-view+json": {
       "model_id": "2ef9fe2081e245d1b4e827228a7e6636",
       "version_major": 2,
       "version_minor": 0
      },
      "text/plain": [
       "Canvas(toolbar=Toolbar(toolitems=[('Home', 'Reset original view', 'home', 'home'), ('Back', 'Back to previous …"
      ]
     },
     "metadata": {},
     "output_type": "display_data"
    }
   ],
   "source": [
    "###########################################################################\n",
    "# Run multiple times with varying S/N; plot the resulting SFHs \n",
    "###########################################################################\n",
    "SNR_vals = np.logspace(0, 5, 6)\n",
    "age_idx = np.nanargmin(np.abs(ages - 1e9))\n",
    "df = pd.DataFrame()\n",
    "\n",
    "for SNR in SNR_vals:\n",
    "    ###########################################################################\n",
    "    # Generate spectrum\n",
    "    ###########################################################################\n",
    "    spec_young, spec_young_err, lambda_vals_A = create_mock_spectrum(\n",
    "        sfh_mass_weighted=sfh_mw_young,\n",
    "        agn_continuum=False,\n",
    "        isochrones=isochrones, z=z, SNR=SNR, sigma_star_kms=sigma_star_kms,\n",
    "        plotit=False)\n",
    "        \n",
    "    ###########################################################################\n",
    "    # Run MC simulations with ppxf\n",
    "    ###########################################################################\n",
    "    # Input arguments\n",
    "    seeds = list(np.random.randint(low=0, high=100 * niters, size=niters))\n",
    "    args_list = [[s, spec_young, spec_young_err, lambda_vals_A] for s in seeds]\n",
    "\n",
    "    # Run in parallel\n",
    "    print(f\"Running ppxf on {nthreads} threads...\")\n",
    "    t = time()\n",
    "    with multiprocessing.Pool(nthreads) as pool:\n",
    "        pp_list_young = list(tqdm(pool.imap(ppxf_helper, args_list), total=niters))\n",
    "    print(f\"Elapsed time in ppxf: {time() - t:.2f} s\")\n",
    "\n",
    "    ###########################################################################\n",
    "    # Compute mean quantities from the MC runs\n",
    "    ###########################################################################\n",
    "    sfh_fit_mw_list = [pp.weights_mass_weighted for pp in pp_list_young]\n",
    "    sfh_fit_lw_list = [pp.weights_light_weighted for pp in pp_list_young]\n",
    "    sfh_fit_mw_1D_list = [np.nansum(pp.weights_mass_weighted, axis=0) for pp in pp_list_young]\n",
    "    sfh_fit_lw_1D_list = [np.nansum(pp.weights_light_weighted, axis=0) for pp in pp_list_young]\n",
    "    \n",
    "    M_tot_list = [np.nansum(pp.weights_mass_weighted) for pp in pp_list_young]\n",
    "    M_tot_young_list = [np.nansum(pp.weights_mass_weighted[:, :age_idx]) for pp in pp_list_young]\n",
    "\n",
    "    # Compute the mean SFH \n",
    "    sfh_fit_mw_mean = np.nansum(np.array(sfh_fit_mw_list), axis=0) / len(sfh_fit_mw_list)\n",
    "    sfh_fit_lw_mean = np.nansum(np.array(sfh_fit_lw_list), axis=0) / len(sfh_fit_lw_list)\n",
    "    sfh_fit_mw_1D_mean = np.nansum(sfh_fit_mw_mean, axis=0)\n",
    "    sfh_fit_lw_1D_mean = np.nansum(sfh_fit_lw_mean, axis=0)\n",
    "    \n",
    "    # Compute the mean mass \n",
    "    M_tot_mean = np.nanmean(M_tot_list)\n",
    "    M_tot_err = np.nanstd(M_tot_list)\n",
    "    M_tot_young_mean = np.nanmean(M_tot_young_list)\n",
    "    M_tot_young_err = np.nanstd(M_tot_young_list)\n",
    "\n",
    "    # sfh_fit_mw_1D_regul = np.nansum(pp_regul.weights_mass_weighted, axis=0)\n",
    "    # sfh_fit_lw_1D_regul = np.nansum(pp_regul.weights_light_weighted, axis=0)\n",
    "    \n",
    "    ###########################################################################\n",
    "    # Compute the total mass, plus the total mass < 1 Gyr\n",
    "    ###########################################################################\n",
    "    age_idx = np.nanargmin(np.abs(ages - 1e9))\n",
    "    M_tot = np.nansum(sfh_fit_mw_1D_mean)\n",
    "    M_tot_young = np.nansum(sfh_fit_mw_1D_mean[:age_idx])\n",
    "    \n",
    "    ###########################################################################\n",
    "    # Plot the mass-weighted weights, summed over the metallicity dimension\n",
    "    ###########################################################################\n",
    "    for log_scale in [True]:\n",
    "        # Create new figure \n",
    "        fig = plt.figure(figsize=(13, 4))\n",
    "        ax = fig.add_axes([0.1, 0.2, 0.7, 0.7])\n",
    "        ax.set_title(f\"Mass-weighted template weights (S/N = {SNR}) - with young stellar population added\")\n",
    "\n",
    "        # Plot the SFHs from each ppxf run, plus the \"truth\" SFH\n",
    "        ax.fill_between(range(N_ages), sfh_mw_1D_young, step=\"mid\", alpha=1.0, color=\"cornflowerblue\", label=\"Input SFH\")\n",
    "        for jj in range(niters):\n",
    "            ax.step(range(N_ages), sfh_fit_mw_1D_list[jj], color=\"pink\", alpha=0.2, where=\"mid\", linewidth=0.25, label=\"ppxf fits (MC simluations)\" if jj == 0 else None)\n",
    "        ax.step(range(N_ages), sfh_fit_mw_1D_mean, color=\"red\", where=\"mid\", label=\"Mean ppxf fit (MC simulations)\")\n",
    "        # ax.step(range(N_ages), sfh_fit_mw_1D_regul, color=\"lightgreen\", where=\"mid\", label=\"ppxf fit (regularised)\")\n",
    "\n",
    "        # Decorations \n",
    "        ax.set_xticks(range(N_ages))\n",
    "        ax.set_xlabel(\"Age (Myr)\")\n",
    "        ax.set_xticklabels([\"{:}\".format(age / 1e6) for age in ages], rotation=\"vertical\", fontsize=\"x-small\")\n",
    "        ax.autoscale(axis=\"x\", enable=True, tight=True)\n",
    "        ax.set_ylim([1, None])\n",
    "        ax.set_ylabel(r\"Template weight ($\\rm M_\\odot$)\")\n",
    "        ax.legend(fontsize=\"x-small\", loc=\"center left\", bbox_to_anchor=(1.01, 0.5))\n",
    "        ax.set_xlabel(\"Age (Myr)\")\n",
    "        ax.set_yscale(\"log\") if log_scale else None\n",
    "        \n",
    "    ###########################################################################\n",
    "    # Append information to DataFrame\n",
    "    ###########################################################################\n",
    "    df = df.append({\n",
    "            \"SNR\": SNR,\n",
    "            \"Total mass\": M_tot,\n",
    "            \"Total mass error\": M_tot_err,\n",
    "            \"Total mass < 1 Gyr\": M_tot_young,\n",
    "            \"Total mass < 1 Gyr error\": M_tot_young_err\n",
    "        }, ignore_index=True)\n",
    "    "
   ]
  },
  {
   "cell_type": "code",
   "execution_count": 20,
   "metadata": {},
   "outputs": [
    {
     "name": "stderr",
     "output_type": "stream",
     "text": [
      "/pkg/linux/anaconda-20191122/anaconda3/lib/python3.7/site-packages/ipykernel_launcher.py:4: RuntimeWarning: More than 20 figures have been opened. Figures created through the pyplot interface (`matplotlib.pyplot.figure`) are retained until explicitly closed and may consume too much memory. (To control this warning, see the rcParam `figure.max_open_warning`).\n",
      "  after removing the cwd from sys.path.\n"
     ]
    },
    {
     "data": {
      "application/vnd.jupyter.widget-view+json": {
       "model_id": "6f129e5c20884328989fd62f6abcff7d",
       "version_major": 2,
       "version_minor": 0
      },
      "text/plain": [
       "Canvas(toolbar=Toolbar(toolitems=[('Home', 'Reset original view', 'home', 'home'), ('Back', 'Back to previous …"
      ]
     },
     "metadata": {},
     "output_type": "display_data"
    },
    {
     "name": "stderr",
     "output_type": "stream",
     "text": [
      "/pkg/linux/anaconda-20191122/anaconda3/lib/python3.7/site-packages/ipykernel_launcher.py:28: RuntimeWarning: More than 20 figures have been opened. Figures created through the pyplot interface (`matplotlib.pyplot.figure`) are retained until explicitly closed and may consume too much memory. (To control this warning, see the rcParam `figure.max_open_warning`).\n"
     ]
    },
    {
     "data": {
      "application/vnd.jupyter.widget-view+json": {
       "model_id": "e64398a294b0439eada2a3e430ae5214",
       "version_major": 2,
       "version_minor": 0
      },
      "text/plain": [
       "Canvas(toolbar=Toolbar(toolitems=[('Home', 'Reset original view', 'home', 'home'), ('Back', 'Back to previous …"
      ]
     },
     "metadata": {},
     "output_type": "display_data"
    }
   ],
   "source": [
    "###########################################################################\n",
    "# Plot the total mass < 1 Gyr vs. S/N ratio\n",
    "###########################################################################\n",
    "fig = plt.figure(figsize=(10, 5))\n",
    "ax = fig.add_axes([0.1, 0.15, 0.5, 0.75])\n",
    "ax.errorbar(x=df[\"SNR\"].values, \n",
    "            y=df[\"Total mass\"].values, \n",
    "            yerr=df[\"Total mass error\"].values,\n",
    "            linestyle=\"none\", marker=\"D\", label=r\"MC $M_{\\rm tot}$\", zorder=999)\n",
    "ax.errorbar(x=df[\"SNR\"].values, \n",
    "            y=df[\"Total mass < 1 Gyr\"].values, \n",
    "            yerr=df[\"Total mass < 1 Gyr error\"].values,\n",
    "            linestyle=\"none\", marker=\"D\", label=r\"MC $M_{\\rm tot}\\, (\\rm < 1 \\, Gyr)$\", zorder=999)\n",
    "ax.axhline(M_tot_original, color=\"grey\", label=\"Total mass\")\n",
    "ax.axhline(M_tot_young, color=\"grey\", label=\"Young component\")\n",
    "ax.set_xscale(\"log\")\n",
    "ax.set_yscale(\"log\")\n",
    "ax.legend(bbox_to_anchor=[1.05, 0.5], loc=\"center left\")\n",
    "ax.set_xlabel(\"S/N ratio\")\n",
    "ax.set_ylabel(r\"Stellar mass ($\\rm M_\\odot$)\")\n",
    "ax.set_title(\"Young stellar component\")\n",
    "ax.grid()\n",
    "\n",
    "# Plot again, but as a fraction of the total mass\n",
    "df[\"Young mass fraction\"] = df[\"Total mass < 1 Gyr\"] / df[\"Total mass\"]\n",
    "df[\"Young mass fraction error\"] = df[\"Young mass fraction\"] * np.sqrt((df[\"Total mass < 1 Gyr error\"] / df[\"Total mass < 1 Gyr\"])**2 + \n",
    "                                                                      (df[\"Total mass error\"] / df[\"Total mass\"])**2)\n",
    "fig = plt.figure(figsize=(10, 5))\n",
    "ax = fig.add_axes([0.1, 0.15, 0.5, 0.75])\n",
    "ax.errorbar(x=df[\"SNR\"].values, \n",
    "            y=df[\"Young mass fraction\"].values * 100, \n",
    "            yerr=df[\"Young mass fraction error\"].values * 100,\n",
    "            linestyle=\"none\", marker=\"D\", label=r\"MC $M_{\\rm tot}\\, (\\rm < 1 \\, Gyr)$\", zorder=999)\n",
    "ax.axhline(100, color=\"grey\", label=\"Total mass\")\n",
    "ax.axhline(M_tot_young / M_tot * 100, color=\"black\", label=\"Young component\")\n",
    "ax.set_xscale(\"log\")\n",
    "ax.set_yscale(\"log\")\n",
    "ax.legend(bbox_to_anchor=[1.05, 0.5], loc=\"center left\")\n",
    "ax.set_xlabel(\"S/N ratio\")\n",
    "ax.set_ylabel(r\"Mass fraction of young stellar population (%)\")\n",
    "ax.set_title(\"Young stellar component\")\n",
    "ax.grid()"
   ]
  },
  {
   "cell_type": "code",
   "execution_count": null,
   "metadata": {},
   "outputs": [],
   "source": []
  }
 ],
 "metadata": {
  "kernelspec": {
   "display_name": "Python 3",
   "language": "python",
   "name": "python3"
  },
  "language_info": {
   "codemirror_mode": {
    "name": "ipython",
    "version": 3
   },
   "file_extension": ".py",
   "mimetype": "text/x-python",
   "name": "python",
   "nbconvert_exporter": "python",
   "pygments_lexer": "ipython3",
   "version": "3.7.4"
  }
 },
 "nbformat": 4,
 "nbformat_minor": 2
}
