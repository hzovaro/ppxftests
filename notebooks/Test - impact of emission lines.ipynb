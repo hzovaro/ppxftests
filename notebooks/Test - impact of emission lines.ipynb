{
 "cells": [
  {
   "cell_type": "markdown",
   "metadata": {},
   "source": [
    "# Test: the impact of emission lines\n",
    "---\n",
    "What effect do emission lines have upon the recovery of the mass-weighted age of the stellar population? In this notebook, we will look at the effects of \n",
    "* emission lines vs. no emission lines;\n",
    "* broad emission lines vs. narrow emission lines;\n",
    "* complex, multi-component emission lines vs. simple single-component emission lines\n",
    "upon the derived mass-weighted age."
   ]
  },
  {
   "cell_type": "code",
   "execution_count": 1,
   "metadata": {},
   "outputs": [],
   "source": [
    "%matplotlib widget"
   ]
  },
  {
   "cell_type": "code",
   "execution_count": 2,
   "metadata": {},
   "outputs": [
    {
     "data": {
      "text/html": [
       "<style>.container { width:75% !important; }</style>"
      ],
      "text/plain": [
       "<IPython.core.display.HTML object>"
      ]
     },
     "metadata": {},
     "output_type": "display_data"
    },
    {
     "data": {
      "text/html": [
       "<style>.output_result { max-width:75% !important; }</style>"
      ],
      "text/plain": [
       "<IPython.core.display.HTML object>"
      ]
     },
     "metadata": {},
     "output_type": "display_data"
    }
   ],
   "source": [
    "from IPython.core.display import display, HTML\n",
    "display(HTML(\"<style>.container { width:75% !important; }</style>\"))\n",
    "display(HTML(\"<style>.output_result { max-width:75% !important; }</style>\"))"
   ]
  },
  {
   "cell_type": "code",
   "execution_count": 4,
   "metadata": {},
   "outputs": [],
   "source": [
    "import numpy as np\n",
    "from numpy.random import RandomState\n",
    "from time import time \n",
    "from tqdm.notebook import tqdm\n",
    "import multiprocessing\n",
    "import pandas as pd\n",
    "\n",
    "from astropy.io import fits\n",
    "\n",
    "from ppxftests.run_ppxf import run_ppxf\n",
    "from ppxftests.ssputils import load_ssp_templates, get_bin_edges_and_widths\n",
    "from ppxftests.mockspec import create_mock_spectrum\n",
    "from ppxftests.sfhutils import load_sfh, convert_mass_weights_to_light_weights\n",
    "from ppxftests.sfhutils import compute_mw_age, compute_lw_age, compute_sfr_thresh_age, compute_sb_zero_age, compute_mass\n",
    "from ppxftests.sfhutils import compute_mean_1D_sfh, compute_mean_mass, compute_mean_sfr, compute_mean_age, compute_mean_sfr_thresh_age \n",
    "from ppxftests.ppxf_plot import plot_sfh_mass_weighted, plot_sfh_light_weighted\n",
    "\n",
    "import matplotlib.pyplot as plt\n",
    "plt.ion()\n",
    "plt.close(\"all\")\n",
    "\n",
    "from IPython.core.debugger import Tracer"
   ]
  },
  {
   "cell_type": "code",
   "execution_count": 10,
   "metadata": {},
   "outputs": [],
   "source": [
    "###########################################################################\n",
    "# Settings\n",
    "###########################################################################\n",
    "isochrones = \"Padova\"\n",
    "sigma_star_kms = 250\n",
    "SNR = 100\n",
    "z = 0.01\n",
    "\n",
    "niters = 100\n",
    "nthreads = 20\n",
    "\n",
    "# For computing mean ages, etc.\n",
    "age_thresh_vals = [None, 1e7, 1e8, 1e9, None]\n",
    "sfr_thresh = 1\n",
    "\n",
    "# DataFrame for storing results \n",
    "df = pd.DataFrame(index=range(0, 20))\n",
    "df.index.name = \"ID\"\n",
    "\n",
    "# Load the stellar templates so we can get the age & metallicity dimensions\n",
    "_, _, metallicities, ages = load_ssp_templates(isochrones)\n",
    "N_ages = len(ages)\n",
    "N_metallicities = len(metallicities)\n"
   ]
  },
  {
   "cell_type": "code",
   "execution_count": 37,
   "metadata": {},
   "outputs": [
    {
     "data": {
      "application/vnd.jupyter.widget-view+json": {
       "model_id": "c32ceb05bb3545f4938a1b58aafd5268",
       "version_major": 2,
       "version_minor": 0
      },
      "text/plain": [
       "Canvas(toolbar=Toolbar(toolitems=[('Home', 'Reset original view', 'home', 'home'), ('Back', 'Back to previous …"
      ]
     },
     "metadata": {},
     "output_type": "display_data"
    },
    {
     "data": {
      "application/vnd.jupyter.widget-view+json": {
       "model_id": "31494a2a5b3943f9a8fc37b3ff5decfb",
       "version_major": 2,
       "version_minor": 0
      },
      "text/plain": [
       "Canvas(toolbar=Toolbar(toolitems=[('Home', 'Reset original view', 'home', 'home'), ('Back', 'Back to previous …"
      ]
     },
     "metadata": {},
     "output_type": "display_data"
    },
    {
     "data": {
      "application/vnd.jupyter.widget-view+json": {
       "model_id": "7445a689390f45b0b21852a9f22f581c",
       "version_major": 2,
       "version_minor": 0
      },
      "text/plain": [
       "Canvas(toolbar=Toolbar(toolitems=[('Home', 'Reset original view', 'home', 'home'), ('Back', 'Back to previous …"
      ]
     },
     "metadata": {},
     "output_type": "display_data"
    }
   ],
   "source": [
    "###########################################################################\n",
    "# Define the SFH\n",
    "###########################################################################\n",
    "gal = 2\n",
    "\n",
    "sfh_mw_input, sfh_lw_input, sfr_avg_input = load_sfh(gal=gal, plotit=True)\n",
    "sfh_mw_1D_input = np.nansum(sfh_mw_input, axis=0)\n",
    "sfh_lw_1D_input = np.nansum(sfh_lw_input, axis=0)\n",
    "\n",
    "# Compute truth values \n",
    "age_sfr_input = 10**compute_sfr_thresh_age(sfh_mw_input, sfr_thresh, isochrones=isochrones)[0]  # SFR threshold\n",
    "age_sb_input = 10**compute_sb_zero_age(sfh_mw_input, isochrones=isochrones)[0]  # \"Starburst\" age\n",
    "df.loc[gal, f\"SFR age (>{sfr_thresh} Msun yr^-1) (truth)\"] = age_sfr_input\n",
    "df.loc[gal, f\"SB age (truth)\"] = age_sb_input\n",
    "\n",
    "for aa in range(len(age_thresh_vals)- 1):\n",
    "    age_thresh_lower = age_thresh_vals[aa]\n",
    "    age_thresh_upper = age_thresh_vals[aa + 1]\n",
    "\n",
    "    # Determine age boundaries\n",
    "    if age_thresh_lower is None:\n",
    "        age_thresh_lower = ages[0]\n",
    "    if age_thresh_upper is None:\n",
    "        age_thresh_upper = ages[-1]\n",
    "    \n",
    "    # Compute mass- and light-weighted mean ages, and the total mass too\n",
    "    age_mw_input = 10**compute_mw_age(sfh_mw_input, isochrones=isochrones, age_thresh_lower=age_thresh_lower, age_thresh_upper=age_thresh_upper)[0]\n",
    "    age_lw_input = 10**compute_lw_age(sfh_lw_input, isochrones=isochrones, age_thresh_lower=age_thresh_lower, age_thresh_upper=age_thresh_upper)[0]\n",
    "    mass_input = compute_mass(sfh_mw_input, isochrones=isochrones, age_thresh_lower=age_thresh_lower, age_thresh_upper=age_thresh_upper)\n",
    "    \n",
    "    # Store in DataFrame\n",
    "    df.loc[gal, f\"MW age {np.log10(age_thresh_lower):.2f} < log t < {np.log10(age_thresh_upper):.2f} (truth)\"] = age_mw_input\n",
    "    df.loc[gal, f\"LW age {np.log10(age_thresh_lower):.2f} < log t < {np.log10(age_thresh_upper):.2f} (truth)\"] = age_lw_input\n",
    "    df.loc[gal, f\"Mass {np.log10(age_thresh_lower):.2f} < log t < {np.log10(age_thresh_upper):.2f} (truth)\"] = mass_input\n"
   ]
  },
  {
   "cell_type": "code",
   "execution_count": 13,
   "metadata": {
    "scrolled": false
   },
   "outputs": [],
   "source": [
    "###########################################################################\n",
    "# Helper function for running MC simulations\n",
    "###########################################################################\n",
    "def ppxf_helper(args):\n",
    "    # Unpack arguments\n",
    "    seed, spec, spec_err, lambda_vals_A = args\n",
    "    \n",
    "    # Add \"extra\" noise to the spectrum\n",
    "    rng = RandomState(seed)\n",
    "    noise = rng.normal(scale=spec_err)\n",
    "    spec_noise = spec + noise\n",
    "\n",
    "    # This is to mitigate the \"edge effects\" of the convolution with the LSF\n",
    "    spec_noise[0] = -9999\n",
    "    spec_noise[-1] = -9999\n",
    "\n",
    "    # Run ppxf\n",
    "    pp = run_ppxf(spec=spec_noise, spec_err=spec_err, lambda_vals_A=lambda_vals_A,\n",
    "                  z=z, ngascomponents=2,\n",
    "                  regularisation_method=\"none\", \n",
    "                  isochrones=\"Padova\",\n",
    "                  fit_gas=True, tie_balmer=True,\n",
    "                  plotit=False, savefigs=False, interactive_mode=False)\n",
    "    return pp\n"
   ]
  },
  {
   "cell_type": "code",
   "execution_count": 30,
   "metadata": {},
   "outputs": [],
   "source": [
    "plt.close(\"all\")"
   ]
  },
  {
   "cell_type": "code",
   "execution_count": 32,
   "metadata": {
    "scrolled": false
   },
   "outputs": [
    {
     "data": {
      "application/vnd.jupyter.widget-view+json": {
       "model_id": "6712217a71b24be0a285914dc6350069",
       "version_major": 2,
       "version_minor": 0
      },
      "text/plain": [
       "Canvas(toolbar=Toolbar(toolitems=[('Home', 'Reset original view', 'home', 'home'), ('Back', 'Back to previous …"
      ]
     },
     "metadata": {},
     "output_type": "display_data"
    },
    {
     "data": {
      "application/vnd.jupyter.widget-view+json": {
       "model_id": "e76f6b75f57649e4af7199d569b324d9",
       "version_major": 2,
       "version_minor": 0
      },
      "text/plain": [
       "Canvas(toolbar=Toolbar(toolitems=[('Home', 'Reset original view', 'home', 'home'), ('Back', 'Back to previous …"
      ]
     },
     "metadata": {},
     "output_type": "display_data"
    },
    {
     "data": {
      "application/vnd.jupyter.widget-view+json": {
       "model_id": "6db657d5171c4e27aa440b54153e412b",
       "version_major": 2,
       "version_minor": 0
      },
      "text/plain": [
       "Canvas(toolbar=Toolbar(toolitems=[('Home', 'Reset original view', 'home', 'home'), ('Back', 'Back to previous …"
      ]
     },
     "metadata": {},
     "output_type": "display_data"
    }
   ],
   "source": [
    "###########################################################################\n",
    "# Create spectrum\n",
    "###########################################################################\n",
    "L_Hb_erg_s = 1e41\n",
    "L_Ha_erg_s = 2.86 * L_Hb_erg_s\n",
    "spec, spec_err, lambda_vals_A = create_mock_spectrum(\n",
    "    sfh_mass_weighted=sfh_mw_input,\n",
    "    agn_continuum=False,\n",
    "    ngascomponents=1, sigma_gas_kms=[40], v_gas_kms=[0], eline_model=[\"AGN\"], L_Ha_erg_s=[0.5e40], \n",
    "    isochrones=isochrones, z=z, SNR=SNR, sigma_star_kms=sigma_star_kms,\n",
    "    plotit=True)"
   ]
  },
  {
   "cell_type": "code",
   "execution_count": 33,
   "metadata": {},
   "outputs": [
    {
     "name": "stdout",
     "output_type": "stream",
     "text": [
      "Emission lines included in gas templates:\n",
      "['Balmer' '[OII]3726' '[OII]3729' '[SII]6716' '[SII]6731' '[OIII]5007_d'\n",
      " '[OI]6300_d' '[NII]6583_d' '[NeIII]3869' 'HeI3889']\n"
     ]
    },
    {
     "data": {
      "application/vnd.jupyter.widget-view+json": {
       "model_id": "c85a4b9f7ead4ae09814e069f093f75f",
       "version_major": 2,
       "version_minor": 0
      },
      "text/plain": [
       "Canvas(toolbar=Toolbar(toolitems=[('Home', 'Reset original view', 'home', 'home'), ('Back', 'Back to previous …"
      ]
     },
     "metadata": {},
     "output_type": "display_data"
    }
   ],
   "source": [
    "###########################################################################\n",
    "# Run ppxf once to see how it fits the emission lines\n",
    "###########################################################################\n",
    "pp = run_ppxf(spec=spec, spec_err=spec_err, lambda_vals_A=lambda_vals_A,\n",
    "              z=z, ngascomponents=2,\n",
    "              regularisation_method=\"none\", \n",
    "              isochrones=\"Padova\",\n",
    "              fit_gas=True, tie_balmer=True,\n",
    "              plotit=True, savefigs=False, interactive_mode=False)\n"
   ]
  },
  {
   "cell_type": "code",
   "execution_count": 28,
   "metadata": {
    "scrolled": false
   },
   "outputs": [
    {
     "data": {
      "application/vnd.jupyter.widget-view+json": {
       "model_id": "7b05a5c9e6054d2eb56f82e612078934",
       "version_major": 2,
       "version_minor": 0
      },
      "text/plain": [
       "Canvas(toolbar=Toolbar(toolitems=[('Home', 'Reset original view', 'home', 'home'), ('Back', 'Back to previous …"
      ]
     },
     "metadata": {},
     "output_type": "display_data"
    },
    {
     "data": {
      "application/vnd.jupyter.widget-view+json": {
       "model_id": "0d83fb63855749ce9b020261bd5289db",
       "version_major": 2,
       "version_minor": 0
      },
      "text/plain": [
       "Canvas(toolbar=Toolbar(toolitems=[('Home', 'Reset original view', 'home', 'home'), ('Back', 'Back to previous …"
      ]
     },
     "metadata": {},
     "output_type": "display_data"
    },
    {
     "data": {
      "application/vnd.jupyter.widget-view+json": {
       "model_id": "9cdf339975c84836b8ad5c3f9f337ae7",
       "version_major": 2,
       "version_minor": 0
      },
      "text/plain": [
       "Canvas(toolbar=Toolbar(toolitems=[('Home', 'Reset original view', 'home', 'home'), ('Back', 'Back to previous …"
      ]
     },
     "metadata": {},
     "output_type": "display_data"
    },
    {
     "data": {
      "application/vnd.jupyter.widget-view+json": {
       "model_id": "fb5e067f7fcb4e5f824890528a5fd3d7",
       "version_major": 2,
       "version_minor": 0
      },
      "text/plain": [
       "Canvas(toolbar=Toolbar(toolitems=[('Home', 'Reset original view', 'home', 'home'), ('Back', 'Back to previous …"
      ]
     },
     "metadata": {},
     "output_type": "display_data"
    },
    {
     "name": "stdout",
     "output_type": "stream",
     "text": [
      "Running ppxf on 20 threads...\n"
     ]
    },
    {
     "data": {
      "application/vnd.jupyter.widget-view+json": {
       "model_id": "bef6bf66abd543ce97de102e0bd92088",
       "version_major": 2,
       "version_minor": 0
      },
      "text/plain": [
       "HBox(children=(IntProgress(value=0), HTML(value='')))"
      ]
     },
     "metadata": {},
     "output_type": "display_data"
    },
    {
     "name": "stdout",
     "output_type": "stream",
     "text": [
      "\n",
      "Elapsed time in ppxf: 178.86 s\n",
      "----------------------------------------------------\n",
      "Iteration 0: Elapsed time in PPXF (single thread): 2.66 s\n",
      "----------------------------------------------------\n",
      "Iteration 1: Scaling noise by 5.5896...\n",
      "Iteration 1: Running ppxf on 20 threads...\n",
      "Iteration 1: Elapsed time in PPXF (multithreaded): 59.53 s\n",
      "Iteration 1: optimal regul = 6500.00; Δm = 1.68059e+10; Δregul = 500.00 (Δregul_min = 1.00); Δχ (goal) - Δχ = 0.326\n",
      "----------------------------------------------------\n",
      "STOPPING: Convergence criterion reached; Δχ (goal) - Δχ = 0.32584827820498674; using 6500.00 to produce the best fit\n",
      "Total time in run_ppxf: 63.51 seconds\n",
      "------------------------------------------------------------\n",
      "MC method:    mean mass-weighted age (log yr) = 7.36 ± 0.04\n",
      "Regul method: mean mass-weighted age (log yr) = 7.48\n",
      "Input value:  mean mass-weighted age (log yr) = 7.47)\n",
      "------------------------------------------------------------\n"
     ]
    },
    {
     "data": {
      "application/vnd.jupyter.widget-view+json": {
       "model_id": "9c34a00f1f384b079012526555ff3818",
       "version_major": 2,
       "version_minor": 0
      },
      "text/plain": [
       "Canvas(toolbar=Toolbar(toolitems=[('Home', 'Reset original view', 'home', 'home'), ('Back', 'Back to previous …"
      ]
     },
     "metadata": {},
     "output_type": "display_data"
    },
    {
     "data": {
      "application/vnd.jupyter.widget-view+json": {
       "model_id": "d27cfcb6d8534dfcbc252a48e6cf89d4",
       "version_major": 2,
       "version_minor": 0
      },
      "text/plain": [
       "Canvas(toolbar=Toolbar(toolitems=[('Home', 'Reset original view', 'home', 'home'), ('Back', 'Back to previous …"
      ]
     },
     "metadata": {},
     "output_type": "display_data"
    }
   ],
   "source": [
    "###########################################################################\n",
    "# Run ppxf WITHOUT regularisation, using a MC approach\n",
    "###########################################################################\n",
    "# Input arguments\n",
    "seeds = list(np.random.randint(low=0, high=100 * niters, size=niters))\n",
    "args_list = [[s, spec, spec_err, lambda_vals_A] for s in seeds]\n",
    "\n",
    "# Run in parallel\n",
    "print(f\"Running ppxf on {nthreads} threads...\")\n",
    "t = time()\n",
    "with multiprocessing.Pool(nthreads) as pool:\n",
    "    pp_list = list(tqdm(pool.imap(ppxf_helper, args_list), total=niters))\n",
    "print(f\"Elapsed time in ppxf: {time() - t:.2f} s\")"
   ]
  },
  {
   "cell_type": "code",
   "execution_count": 23,
   "metadata": {},
   "outputs": [
    {
     "data": {
      "application/vnd.jupyter.widget-view+json": {
       "model_id": "43f13b31ad544a1386e9e2623e9eed8a",
       "version_major": 2,
       "version_minor": 0
      },
      "text/plain": [
       "Canvas(toolbar=Toolbar(toolitems=[('Home', 'Reset original view', 'home', 'home'), ('Back', 'Back to previous …"
      ]
     },
     "metadata": {},
     "output_type": "display_data"
    },
    {
     "data": {
      "application/vnd.jupyter.widget-view+json": {
       "model_id": "18161e27e4654a3b91bbd1377889916e",
       "version_major": 2,
       "version_minor": 0
      },
      "text/plain": [
       "Canvas(toolbar=Toolbar(toolitems=[('Home', 'Reset original view', 'home', 'home'), ('Back', 'Back to previous …"
      ]
     },
     "metadata": {},
     "output_type": "display_data"
    },
    {
     "data": {
      "application/vnd.jupyter.widget-view+json": {
       "model_id": "565d4c1cfc1a494ca8da424757c29476",
       "version_major": 2,
       "version_minor": 0
      },
      "text/plain": [
       "Canvas(toolbar=Toolbar(toolitems=[('Home', 'Reset original view', 'home', 'home'), ('Back', 'Back to previous …"
      ]
     },
     "metadata": {},
     "output_type": "display_data"
    },
    {
     "data": {
      "application/vnd.jupyter.widget-view+json": {
       "model_id": "32bb153267d3402694baed8fb290b994",
       "version_major": 2,
       "version_minor": 0
      },
      "text/plain": [
       "Canvas(toolbar=Toolbar(toolitems=[('Home', 'Reset original view', 'home', 'home'), ('Back', 'Back to previous …"
      ]
     },
     "metadata": {},
     "output_type": "display_data"
    },
    {
     "name": "stdout",
     "output_type": "stream",
     "text": [
      "Running ppxf on 20 threads...\n"
     ]
    },
    {
     "data": {
      "application/vnd.jupyter.widget-view+json": {
       "model_id": "09e09db0ac9b44eb94844a13e96caefa",
       "version_major": 2,
       "version_minor": 0
      },
      "text/plain": [
       "HBox(children=(IntProgress(value=0), HTML(value='')))"
      ]
     },
     "metadata": {},
     "output_type": "display_data"
    },
    {
     "name": "stdout",
     "output_type": "stream",
     "text": [
      "\n",
      "Elapsed time in ppxf: 178.77 s\n",
      "----------------------------------------------------\n",
      "Iteration 0: Elapsed time in PPXF (single thread): 3.87 s\n",
      "----------------------------------------------------\n",
      "Iteration 1: Scaling noise by 1.3781...\n",
      "Iteration 1: Running ppxf on 20 threads...\n",
      "Iteration 1: Elapsed time in PPXF (multithreaded): 59.40 s\n",
      "Iteration 1: optimal regul = 0.00; Δm = 7.80946; Δregul = 500.00 (Δregul_min = 1.00); Δχ (goal) - Δχ = 95.079\n",
      "----------------------------------------------------\n",
      "Iteration 2: Re-running ppxf on 20 threads (iteration 2)...\n",
      "Iteration 2: Elapsed time in PPXF (multithreaded): 55.08 s\n",
      "Iteration 2: optimal regul = 100.00; Δm = 1.47745e+10; Δregul = 100.00 (Δregul_min = 1.00); Δχ (goal) - Δχ = 16.441\n",
      "----------------------------------------------------\n",
      "Iteration 3: Re-running ppxf on 20 threads (iteration 3)...\n",
      "Iteration 3: Elapsed time in PPXF (multithreaded): 56.07 s\n",
      "Iteration 3: optimal regul = 80.00; Δm = 7.29351e+08; Δregul = 20.00 (Δregul_min = 1.00); Δχ (goal) - Δχ = 4.726\n",
      "----------------------------------------------------\n",
      "STOPPING: Convergence criterion reached; Δχ (goal) - Δχ = 4.7257112635492575; using 80.00 to produce the best fit\n",
      "Total time in run_ppxf: 175.70 seconds\n",
      "------------------------------------------------------------\n",
      "MC method:    mean mass-weighted age (log yr) = 7.44 ± 0.02\n",
      "Regul method: mean mass-weighted age (log yr) = 7.52\n",
      "Input value:  mean mass-weighted age (log yr) = 7.47)\n",
      "------------------------------------------------------------\n"
     ]
    },
    {
     "name": "stderr",
     "output_type": "stream",
     "text": [
      "/pkg/linux/anaconda-20191122/anaconda3/lib/python3.7/site-packages/ipykernel_launcher.py:103: RuntimeWarning: More than 20 figures have been opened. Figures created through the pyplot interface (`matplotlib.pyplot.figure`) are retained until explicitly closed and may consume too much memory. (To control this warning, see the rcParam `figure.max_open_warning`).\n"
     ]
    },
    {
     "data": {
      "application/vnd.jupyter.widget-view+json": {
       "model_id": "56d96b9e155644279930ce76e4f2369a",
       "version_major": 2,
       "version_minor": 0
      },
      "text/plain": [
       "Canvas(toolbar=Toolbar(toolitems=[('Home', 'Reset original view', 'home', 'home'), ('Back', 'Back to previous …"
      ]
     },
     "metadata": {},
     "output_type": "display_data"
    },
    {
     "data": {
      "application/vnd.jupyter.widget-view+json": {
       "model_id": "ab4a209683e246ff91d6abe55382075e",
       "version_major": 2,
       "version_minor": 0
      },
      "text/plain": [
       "Canvas(toolbar=Toolbar(toolitems=[('Home', 'Reset original view', 'home', 'home'), ('Back', 'Back to previous …"
      ]
     },
     "metadata": {},
     "output_type": "display_data"
    }
   ],
   "source": [
    "###########################################################################\n",
    "# Run ppxf with regularisation\n",
    "###########################################################################\n",
    "t = time()\n",
    "pp_regul = run_ppxf(spec=spec, spec_err=spec_err, lambda_vals_A=lambda_vals_A,\n",
    "              z=z, ngascomponents=2,\n",
    "              regularisation_method=\"auto\",\n",
    "              isochrones=isochrones,\n",
    "              fit_gas=True, tie_balmer=True,\n",
    "              delta_regul_min=1, regul_max=5e4, delta_delta_chi2_min=1,\n",
    "              plotit=False, savefigs=False, interactive_mode=False)\n",
    "print(f\"Total time in run_ppxf: {time() - t:.2f} seconds\")"
   ]
  },
  {
   "cell_type": "code",
   "execution_count": 24,
   "metadata": {},
   "outputs": [
    {
     "data": {
      "application/vnd.jupyter.widget-view+json": {
       "model_id": "bec505294e024b37a705a9610fa91a9d",
       "version_major": 2,
       "version_minor": 0
      },
      "text/plain": [
       "Canvas(toolbar=Toolbar(toolitems=[('Home', 'Reset original view', 'home', 'home'), ('Back', 'Back to previous …"
      ]
     },
     "metadata": {},
     "output_type": "display_data"
    },
    {
     "data": {
      "application/vnd.jupyter.widget-view+json": {
       "model_id": "59167a72d8a249b3b141f71662f25362",
       "version_major": 2,
       "version_minor": 0
      },
      "text/plain": [
       "Canvas(toolbar=Toolbar(toolitems=[('Home', 'Reset original view', 'home', 'home'), ('Back', 'Back to previous …"
      ]
     },
     "metadata": {},
     "output_type": "display_data"
    },
    {
     "data": {
      "application/vnd.jupyter.widget-view+json": {
       "model_id": "503dd4952a95422ba99e5c1db11104c3",
       "version_major": 2,
       "version_minor": 0
      },
      "text/plain": [
       "Canvas(toolbar=Toolbar(toolitems=[('Home', 'Reset original view', 'home', 'home'), ('Back', 'Back to previous …"
      ]
     },
     "metadata": {},
     "output_type": "display_data"
    },
    {
     "data": {
      "application/vnd.jupyter.widget-view+json": {
       "model_id": "d4db88e2cc884543b0240167af1a8f2e",
       "version_major": 2,
       "version_minor": 0
      },
      "text/plain": [
       "Canvas(toolbar=Toolbar(toolitems=[('Home', 'Reset original view', 'home', 'home'), ('Back', 'Back to previous …"
      ]
     },
     "metadata": {},
     "output_type": "display_data"
    },
    {
     "name": "stdout",
     "output_type": "stream",
     "text": [
      "Running ppxf on 20 threads...\n"
     ]
    },
    {
     "data": {
      "application/vnd.jupyter.widget-view+json": {
       "model_id": "68c0feac85e74b9388d193b52bc7cef7",
       "version_major": 2,
       "version_minor": 0
      },
      "text/plain": [
       "HBox(children=(IntProgress(value=0), HTML(value='')))"
      ]
     },
     "metadata": {},
     "output_type": "display_data"
    },
    {
     "name": "stdout",
     "output_type": "stream",
     "text": [
      "\n",
      "Elapsed time in ppxf: 185.15 s\n",
      "----------------------------------------------------\n",
      "Iteration 0: Elapsed time in PPXF (single thread): 3.15 s\n",
      "----------------------------------------------------\n",
      "Iteration 1: Scaling noise by 1.4135...\n",
      "Iteration 1: Running ppxf on 20 threads...\n",
      "Iteration 1: Elapsed time in PPXF (multithreaded): 60.50 s\n",
      "Iteration 1: optimal regul = 0.00; Δm = 7.14221; Δregul = 500.00 (Δregul_min = 1.00); Δχ (goal) - Δχ = 95.079\n",
      "----------------------------------------------------\n",
      "Iteration 2: Re-running ppxf on 20 threads (iteration 2)...\n",
      "Iteration 2: Elapsed time in PPXF (multithreaded): 50.96 s\n",
      "Iteration 2: optimal regul = 100.00; Δm = 1.48296e+10; Δregul = 100.00 (Δregul_min = 1.00); Δχ (goal) - Δχ = 10.903\n",
      "----------------------------------------------------\n",
      "Iteration 3: Re-running ppxf on 20 threads (iteration 3)...\n",
      "Iteration 3: Elapsed time in PPXF (multithreaded): 51.64 s\n",
      "Iteration 3: optimal regul = 80.00; Δm = 9.29129e+08; Δregul = 20.00 (Δregul_min = 1.00); Δχ (goal) - Δχ = 0.345\n",
      "----------------------------------------------------\n",
      "STOPPING: Convergence criterion reached; Δχ (goal) - Δχ = 0.34464628956264676; using 80.00 to produce the best fit\n",
      "Total time in run_ppxf: 167.64 seconds\n",
      "------------------------------------------------------------\n",
      "MC method:    mean mass-weighted age (log yr) = 7.44 ± 0.02\n",
      "Regul method: mean mass-weighted age (log yr) = 7.52\n",
      "Input value:  mean mass-weighted age (log yr) = 7.47)\n",
      "------------------------------------------------------------\n"
     ]
    },
    {
     "name": "stderr",
     "output_type": "stream",
     "text": [
      "/pkg/linux/anaconda-20191122/anaconda3/lib/python3.7/site-packages/ipykernel_launcher.py:103: RuntimeWarning: More than 20 figures have been opened. Figures created through the pyplot interface (`matplotlib.pyplot.figure`) are retained until explicitly closed and may consume too much memory. (To control this warning, see the rcParam `figure.max_open_warning`).\n"
     ]
    },
    {
     "data": {
      "application/vnd.jupyter.widget-view+json": {
       "model_id": "127808d739ae4115a5f8c4cbd64b671a",
       "version_major": 2,
       "version_minor": 0
      },
      "text/plain": [
       "Canvas(toolbar=Toolbar(toolitems=[('Home', 'Reset original view', 'home', 'home'), ('Back', 'Back to previous …"
      ]
     },
     "metadata": {},
     "output_type": "display_data"
    },
    {
     "data": {
      "application/vnd.jupyter.widget-view+json": {
       "model_id": "e617a482afd6405cb0607583623740fe",
       "version_major": 2,
       "version_minor": 0
      },
      "text/plain": [
       "Canvas(toolbar=Toolbar(toolitems=[('Home', 'Reset original view', 'home', 'home'), ('Back', 'Back to previous …"
      ]
     },
     "metadata": {},
     "output_type": "display_data"
    }
   ],
   "source": [
    "###########################################################################\n",
    "# Compute quantities from the regularised fit\n",
    "###########################################################################\n",
    "# Get the SFH and SFR\n",
    "sfh_regul_mw_1D = pp_regul.sfh_mw_1D\n",
    "sfh_regul_lw_1D = pp_regul.sfh_lw_1D\n",
    "sfr_avg_regul = pp_regul.sfr_mean\n",
    "\n",
    "age_sfr_regul = 10**compute_sfr_thresh_age(sfh_regul_lw_1D, sfr_thresh, isochrones=isochrones)[0]  # SFR threshold\n",
    "age_sb_regul = 10**compute_sb_zero_age(sfh_regul_lw_1D, isochrones=isochrones)[0]  # \"Starburst\" age\n",
    "df.loc[gal, f\"SFR age (>{sfr_thresh} Msun yr^-1) (regul)\"] = age_sfr_regul\n",
    "df.loc[gal, f\"SB age (regul)\"] = age_sb_regul\n",
    "\n",
    "for aa in range(len(age_thresh_vals)- 1):\n",
    "    age_thresh_lower = age_thresh_vals[aa]\n",
    "    age_thresh_upper = age_thresh_vals[aa + 1]\n",
    "\n",
    "    # Determine age boundaries\n",
    "    if age_thresh_lower is None:\n",
    "        age_thresh_lower = ages[0]\n",
    "    if age_thresh_upper is None:\n",
    "        age_thresh_upper = ages[-1]\n",
    "    \n",
    "    # Compute mass- and light-weighted mean ages, and the total mass too\n",
    "    age_mw_regul = 10**compute_mw_age(sfh_regul_lw_1D, isochrones=isochrones, age_thresh_lower=age_thresh_lower, age_thresh_upper=age_thresh_upper)[0]\n",
    "    age_lw_regul = 10**compute_lw_age(sfh_regul_mw_1D, isochrones=isochrones, age_thresh_lower=age_thresh_lower, age_thresh_upper=age_thresh_upper)[0]\n",
    "    mass_regul = compute_mass(sfh_regul_mw_1D, isochrones=isochrones, age_thresh_lower=age_thresh_lower, age_thresh_upper=age_thresh_upper)\n",
    "    \n",
    "    # Store in DataFrame\n",
    "    df.loc[gal, f\"MW age {np.log10(age_thresh_lower):.2f} < log t < {np.log10(age_thresh_upper):.2f} (regul)\"] = age_mw_regul\n",
    "    df.loc[gal, f\"LW age {np.log10(age_thresh_lower):.2f} < log t < {np.log10(age_thresh_upper):.2f} (regul)\"] = age_lw_regul\n",
    "    df.loc[gal, f\"Mass {np.log10(age_thresh_lower):.2f} < log t < {np.log10(age_thresh_upper):.2f} (regul)\"] = mass_regul"
   ]
  },
  {
   "cell_type": "code",
   "execution_count": 25,
   "metadata": {
    "scrolled": false
   },
   "outputs": [
    {
     "data": {
      "application/vnd.jupyter.widget-view+json": {
       "model_id": "dc534e5547e444bf86a5e096dcf3b1a9",
       "version_major": 2,
       "version_minor": 0
      },
      "text/plain": [
       "Canvas(toolbar=Toolbar(toolitems=[('Home', 'Reset original view', 'home', 'home'), ('Back', 'Back to previous …"
      ]
     },
     "metadata": {},
     "output_type": "display_data"
    },
    {
     "data": {
      "application/vnd.jupyter.widget-view+json": {
       "model_id": "93d0fda09d5b4719a09553cc487dd27c",
       "version_major": 2,
       "version_minor": 0
      },
      "text/plain": [
       "Canvas(toolbar=Toolbar(toolitems=[('Home', 'Reset original view', 'home', 'home'), ('Back', 'Back to previous …"
      ]
     },
     "metadata": {},
     "output_type": "display_data"
    },
    {
     "data": {
      "application/vnd.jupyter.widget-view+json": {
       "model_id": "528bafe07079405384fccc3b2c37ea56",
       "version_major": 2,
       "version_minor": 0
      },
      "text/plain": [
       "Canvas(toolbar=Toolbar(toolitems=[('Home', 'Reset original view', 'home', 'home'), ('Back', 'Back to previous …"
      ]
     },
     "metadata": {},
     "output_type": "display_data"
    },
    {
     "data": {
      "application/vnd.jupyter.widget-view+json": {
       "model_id": "ea18c31eaee04867a29fe50bdf490ccd",
       "version_major": 2,
       "version_minor": 0
      },
      "text/plain": [
       "Canvas(toolbar=Toolbar(toolitems=[('Home', 'Reset original view', 'home', 'home'), ('Back', 'Back to previous …"
      ]
     },
     "metadata": {},
     "output_type": "display_data"
    },
    {
     "name": "stdout",
     "output_type": "stream",
     "text": [
      "Running ppxf on 20 threads...\n"
     ]
    },
    {
     "data": {
      "application/vnd.jupyter.widget-view+json": {
       "model_id": "3616060dde1e413c8ed2e74232a469cb",
       "version_major": 2,
       "version_minor": 0
      },
      "text/plain": [
       "HBox(children=(IntProgress(value=0), HTML(value='')))"
      ]
     },
     "metadata": {},
     "output_type": "display_data"
    },
    {
     "name": "stdout",
     "output_type": "stream",
     "text": [
      "\n",
      "Elapsed time in ppxf: 177.85 s\n",
      "----------------------------------------------------\n",
      "Iteration 0: Elapsed time in PPXF (single thread): 4.84 s\n",
      "----------------------------------------------------\n",
      "Iteration 1: Scaling noise by 1.4086...\n",
      "Iteration 1: Running ppxf on 20 threads...\n",
      "Iteration 1: Elapsed time in PPXF (multithreaded): 63.45 s\n",
      "Iteration 1: optimal regul = 0.00; Δm = 0.0130737; Δregul = 500.00 (Δregul_min = 1.00); Δχ (goal) - Δχ = 95.079\n",
      "----------------------------------------------------\n",
      "Iteration 2: Re-running ppxf on 20 threads (iteration 2)...\n",
      "Iteration 2: Elapsed time in PPXF (multithreaded): 56.88 s\n",
      "Iteration 2: optimal regul = 100.00; Δm = 1.48212e+10; Δregul = 100.00 (Δregul_min = 1.00); Δχ (goal) - Δχ = 12.157\n",
      "----------------------------------------------------\n",
      "Iteration 3: Re-running ppxf on 20 threads (iteration 3)...\n",
      "Iteration 3: Elapsed time in PPXF (multithreaded): 57.39 s\n",
      "Iteration 3: optimal regul = 80.00; Δm = 9.94774e+08; Δregul = 20.00 (Δregul_min = 1.00); Δχ (goal) - Δχ = 0.699\n",
      "----------------------------------------------------\n",
      "STOPPING: Convergence criterion reached; Δχ (goal) - Δχ = 0.6987600032298076; using 80.00 to produce the best fit\n",
      "Total time in run_ppxf: 183.88 seconds\n",
      "------------------------------------------------------------\n",
      "MC method:    mean mass-weighted age (log yr) = 7.44 ± 0.02\n",
      "Regul method: mean mass-weighted age (log yr) = 7.52\n",
      "Input value:  mean mass-weighted age (log yr) = 7.47)\n",
      "------------------------------------------------------------\n"
     ]
    },
    {
     "data": {
      "application/vnd.jupyter.widget-view+json": {
       "model_id": "e50e285ca3864d7aa79e0b0b9afd7ed8",
       "version_major": 2,
       "version_minor": 0
      },
      "text/plain": [
       "Canvas(toolbar=Toolbar(toolitems=[('Home', 'Reset original view', 'home', 'home'), ('Back', 'Back to previous …"
      ]
     },
     "metadata": {},
     "output_type": "display_data"
    },
    {
     "data": {
      "application/vnd.jupyter.widget-view+json": {
       "model_id": "1fba994995b446e394f3b2419f64cb0d",
       "version_major": 2,
       "version_minor": 0
      },
      "text/plain": [
       "Canvas(toolbar=Toolbar(toolitems=[('Home', 'Reset original view', 'home', 'home'), ('Back', 'Back to previous …"
      ]
     },
     "metadata": {},
     "output_type": "display_data"
    }
   ],
   "source": [
    "###########################################################################\n",
    "# Compute average quantities from the MC simulations\n",
    "###########################################################################\n",
    "# Compute the mean SFH and SFR from the lists of MC runs\n",
    "sfh_MC_lw_1D_mean = compute_mean_1D_sfh(pp_list, \"lw\")\n",
    "sfh_MC_mw_1D_mean = compute_mean_1D_sfh(pp_list, \"mw\")\n",
    "sfr_avg_MC = compute_mean_sfr(pp_list)\n",
    "\n",
    "# Compute the \"SFR age\"\n",
    "age_sfr_mean, age_sfr_std = compute_mean_sfr_thresh_age(pp_list, sfr_thresh)\n",
    "df.loc[gal, f\"SFR age (>{sfr_thresh} Msun yr^-1) (MC) mean\"] = age_sfr_mean\n",
    "df.loc[gal, f\"SFR age (>{sfr_thresh} Msun yr^-1) (MC) std. dev.\"] = age_sfr_std\n",
    "\n",
    "# Compute the mean mass- and light-weighted ages plus the total mass in a series of age ranges\n",
    "for aa in range(len(age_thresh_vals) - 1):\n",
    "    age_thresh_lower = age_thresh_vals[aa]\n",
    "    age_thresh_upper = age_thresh_vals[aa + 1]\n",
    "    \n",
    "    if age_thresh_lower is None:\n",
    "        age_thresh_lower = ages[0]\n",
    "    if age_thresh_upper is None:\n",
    "        age_thresh_upper = ages[-1]\n",
    "        \n",
    "    # Compute the mean mass- and light-weighted ages plus the total mass in this age range\n",
    "    age_lw_mean, age_lw_std = compute_mean_age(pp_list, \"lw\", age_thresh_lower, age_thresh_upper)\n",
    "    age_mw_mean, age_mw_std = compute_mean_age(pp_list, \"mw\", age_thresh_lower, age_thresh_upper)\n",
    "    mass_mean, mass_std = compute_mean_mass(pp_list, age_thresh_lower=age_thresh_lower, age_thresh_upper=age_thresh_upper)\n",
    "\n",
    "    # Put in DataFrame\n",
    "    df.loc[gal, f\"MW age {np.log10(age_thresh_lower):.2f} < log t < {np.log10(age_thresh_upper):.2f} (MC) mean\"] = age_mw_mean\n",
    "    df.loc[gal, f\"LW age {np.log10(age_thresh_lower):.2f} < log t < {np.log10(age_thresh_upper):.2f} (MC) mean\"] = age_lw_mean\n",
    "    df.loc[gal, f\"Mass {np.log10(age_thresh_lower):.2f} < log t < {np.log10(age_thresh_upper):.2f} (MC) mean\"] = mass_mean\n",
    "    df.loc[gal, f\"MW age {np.log10(age_thresh_lower):.2f} < log t < {np.log10(age_thresh_upper):.2f} (MC) std. dev.\"] = age_mw_std\n",
    "    df.loc[gal, f\"LW age {np.log10(age_thresh_lower):.2f} < log t < {np.log10(age_thresh_upper):.2f} (MC) std. dev.\"] = age_lw_std\n",
    "    df.loc[gal, f\"Mass {np.log10(age_thresh_lower):.2f} < log t < {np.log10(age_thresh_upper):.2f} (MC) std. dev.\"] = mass_std"
   ]
  },
  {
   "cell_type": "code",
   "execution_count": null,
   "metadata": {},
   "outputs": [],
   "source": [
    "###########################################################################\n",
    "# Plot the input mass- and light-weighted SFHs\n",
    "###########################################################################\n",
    "fig, axs = plt.subplots(nrows=3, ncols=1, figsize=(12, 15))\n",
    "fig.subplots_adjust(hspace=0.35)\n",
    "log_scale = True\n",
    "info_str = r\"$S/N = %d, z = %.3f, \\sigma_* = %d\\rm\\, km\\,s^{-1}$\" % (SNR, z, sigma_star_kms)\n",
    "for ax, weighttype in zip(axs, [\"mw\", \"lw\", \"sfr\"]):\n",
    "    # Plot the SFHs from each ppxf run, plus the \"truth\" SFH\n",
    "    if weighttype == \"mw\":\n",
    "        ax.set_title(f\"Galaxy {gal:004}: mass-weighted template weights ({info_str})\")\n",
    "        ax.fill_between(ages, sfh_mw_1D_input, step=\"mid\", alpha=0.5, color=\"lightblue\", label=\"Input SFH\")\n",
    "        ax.step(ages, sfh_MC_mw_1D_mean, color=\"red\", where=\"mid\", label=\"Mean ppxf fit (MC simulations)\", alpha=0.5)\n",
    "        ax.step(ages, sfh_regul_mw_1D, color=\"green\", where=\"mid\", label=\"Mean ppxf fit (regularised fit)\", alpha=0.5)\n",
    "        ax.set_ylim([1e3, None])\n",
    "        ax.set_ylabel(r\"MW template weight ($\\rm M_\\odot$)\")\n",
    "    elif weighttype == \"lw\":\n",
    "        ax.set_title(f\"Galaxy {gal:004}: light-weighted template weights ({info_str})\")\n",
    "        ax.fill_between(ages, sfh_lw_1D_input, step=\"mid\", alpha=0.5, color=\"lightblue\", label=\"Input SFH\")\n",
    "        ax.step(ages, sfh_MC_lw_1D_mean, color=\"red\", where=\"mid\", label=\"Mean ppxf fit (MC simulations)\", alpha=0.5)\n",
    "        ax.step(ages, sfh_regul_lw_1D, color=\"green\", where=\"mid\", label=\"Mean ppxf fit (regularised fit)\", alpha=0.5)\n",
    "        ax.set_ylim([1e35, None])\n",
    "        ax.set_ylabel(r\"LW template weight ($\\rm erg\\,s^{-1}\\,Å^{-1}$)\")\n",
    "    elif weighttype == \"sfr\":\n",
    "        ax.set_title(f\"Galaxy {gal:004}: mean SFR ({info_str})\")\n",
    "        ax.fill_between(ages, sfr_avg_input, step=\"mid\", alpha=0.5, color=\"lightblue\", label=\"Input SFH\")\n",
    "        ax.step(ages, sfr_avg_MC, color=\"red\", where=\"mid\", label=\"Mean ppxf fit (MC simulations)\", alpha=0.5)\n",
    "        ax.step(ages, sfr_avg_regul, color=\"green\", where=\"mid\", label=\"Mean ppxf fit (regularised fit)\", alpha=0.5)\n",
    "        ax.set_ylim([1e-2, None])\n",
    "        ax.set_ylabel(r\"Mean SFR ($\\rm M_\\odot\\,yr^{-1}$)\")\n",
    "\n",
    "    # Plot horizontal error bars indicating the SFR threshold age from the MC simulations\n",
    "    y1, y2 = ax.get_ylim()\n",
    "    y = 10**(0.9 * (np.log10(y2) - np.log10(y1)) + np.log10(y1)) if log_scale else 0.9 * y2\n",
    "    ax.errorbar(x=df.loc[gal, f\"SFR age (>{sfr_thresh} Msun yr^-1) (MC) mean\"],\n",
    "                xerr=df.loc[gal, f\"SFR age (> {sfr_thresh} Msun yr^-1) (MC) std. dev.\"],\n",
    "                y=y, \n",
    "                marker=\"*\", mfc=\"orange\", mec=\"orange\", ecolor=\"orange\", linestyle=\"none\", capsize=10, markersize=10,\n",
    "                label=\"SFR age (mean, MC simulations)\")\n",
    "    ax.errorbar(x=df.loc[gal, f\"SFR age (>{sfr_thresh} Msun yr^-1) (truth)\"], xerr=0, markersize=10,\n",
    "                y=y, \n",
    "                marker=\"*\", mfc=\"lightblue\", mec=\"blue\", ecolor=\"lightblue\", linestyle=\"none\",\n",
    "                label=\"SFR age (input)\")\n",
    "    ax.errorbar(x=df.loc[gal, f\"SFR age (>{sfr_thresh} Msun yr^-1) (regul)\"], xerr=0, markersize=10,\n",
    "                y=y, \n",
    "                marker=\"*\", mfc=\"lightgreen\", mec=\"green\", ecolor=\"green\", linestyle=\"none\",\n",
    "                label=\"SFR age (regularised fit)\")\n",
    "\n",
    "    # Plot horizontal error bars indicating the mean mass- and light-weighted ages ages from the MC simulations\n",
    "    for aa in range(len(age_thresh_vals) - 1):\n",
    "        age_thresh_lower = age_thresh_vals[aa]\n",
    "        age_thresh_upper = age_thresh_vals[aa + 1]\n",
    "\n",
    "        if age_thresh_lower is None:\n",
    "            age_thresh_lower = ages[0]\n",
    "        if age_thresh_upper is None:\n",
    "            age_thresh_upper = ages[-1]\n",
    "        \n",
    "        # mass-weighted age\n",
    "        y = 10**(0.8 * (np.log10(y2) - np.log10(y1)) + np.log10(y1)) if log_scale else 0.8 * y2\n",
    "        ax.errorbar(x=df.loc[gal, f\"MW age {np.log10(age_thresh_lower):.2f} < log t < {np.log10(age_thresh_upper):.2f} (MC) mean\"],\n",
    "                    xerr=df.loc[gal, f\"MW age {np.log10(age_thresh_lower):.2f} < log t < {np.log10(age_thresh_upper):.2f} (MC) std. dev.\"],\n",
    "                    y=y,\n",
    "                    marker=\"D\", mfc=\"red\", mec=\"red\", ecolor=\"red\", linestyle=\"none\", capsize=10,\n",
    "                    label=\"Mean MW age in range (MC simulations)\" if aa == 0 else None)\n",
    "        ax.errorbar(x=df.loc[gal, f\"MW age {np.log10(age_thresh_lower):.2f} < log t < {np.log10(age_thresh_upper):.2f} (regul)\"], xerr=0,\n",
    "                    y=y,\n",
    "                    marker=\"D\", mfc=\"lightgreen\", mec=\"green\", ecolor=\"green\", linestyle=\"none\",\n",
    "                    label=\"Mean MW age in range (regularised fit)\" if aa == 0 else None)\n",
    "        ax.errorbar(x=df.loc[gal, f\"MW age {np.log10(age_thresh_lower):.2f} < log t < {np.log10(age_thresh_upper):.2f} (truth)\"], xerr=0,\n",
    "                    y=y,\n",
    "                    marker=\"D\", mfc=\"lightblue\", mec=\"blue\", ecolor=\"lightblue\", linestyle=\"none\",\n",
    "                    label=\"Mean MW age in range (input)\" if aa == 0 else None)\n",
    "\n",
    "        # light-weighted age\n",
    "        y = 10**(0.7 * (np.log10(y2) - np.log10(y1)) + np.log10(y1)) if log_scale else 0.7 * y2\n",
    "        ax.errorbar(x=df.loc[gal, f\"LW age {np.log10(age_thresh_lower):.2f} < log t < {np.log10(age_thresh_upper):.2f} (MC) mean\"],\n",
    "                    xerr=df.loc[gal, f\"LW age {np.log10(age_thresh_lower):.2f} < log t < {np.log10(age_thresh_upper):.2f} (MC) std. dev.\"],\n",
    "                    y=y,\n",
    "                    marker=\"X\", mfc=\"red\", mec=\"red\", ecolor=\"red\", linestyle=\"none\", capsize=10,\n",
    "                    label=\"Mean LW age in range (MC simulations)\" if aa == 0 else None)\n",
    "        ax.errorbar(x=df.loc[gal, f\"LW age {np.log10(age_thresh_lower):.2f} < log t < {np.log10(age_thresh_upper):.2f} (regul)\"], xerr=0,\n",
    "                    y=y,\n",
    "                    marker=\"X\", mfc=\"lightgreen\", mec=\"green\", ecolor=\"green\", linestyle=\"none\",\n",
    "                    label=\"Mean LW age in range (regularised fit)\" if aa == 0 else None)\n",
    "        ax.errorbar(x=df.loc[gal, f\"LW age {np.log10(age_thresh_lower):.2f} < log t < {np.log10(age_thresh_upper):.2f} (truth)\"], xerr=0,\n",
    "                    y=y,\n",
    "                    marker=\"X\", mfc=\"lightblue\", mec=\"blue\", ecolor=\"lightblue\", linestyle=\"none\",\n",
    "                    label=\"Mean LW age in range (input)\" if aa == 0 else None)\n",
    "\n",
    "        ax.axvline(age_thresh_lower, color=\"black\", linestyle=\"--\", label=\"Age range\" if aa == 0 else None)\n",
    "        ax.axvline(age_thresh_upper, color=\"black\", linestyle=\"--\")\n",
    "\n",
    "    # Decorations \n",
    "    ax.autoscale(axis=\"x\", enable=True, tight=True)\n",
    "    ax.set_xlabel(\"Age (Myr)\")\n",
    "    ax.legend(fontsize=\"small\", loc=\"center left\", bbox_to_anchor=(1.01, 0.5))\n",
    "    ax.set_yscale(\"log\") if log_scale else None\n",
    "    ax.set_xscale(\"log\")\n",
    "    ax.grid()\n",
    "    \n",
    "fig.savefig(os.path.join(fig_path, \"basic_tests\", f\"ga{gal:004}.pdf\", format=\"pdf\", bbox_inches=\"tight\")"
   ]
  }
 ],
 "metadata": {
  "kernelspec": {
   "display_name": "Python 3",
   "language": "python",
   "name": "python3"
  },
  "language_info": {
   "codemirror_mode": {
    "name": "ipython",
    "version": 3
   },
   "file_extension": ".py",
   "mimetype": "text/x-python",
   "name": "python",
   "nbconvert_exporter": "python",
   "pygments_lexer": "ipython3",
   "version": "3.7.4"
  }
 },
 "nbformat": 4,
 "nbformat_minor": 2
}
