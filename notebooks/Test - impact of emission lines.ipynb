{
 "cells": [
  {
   "cell_type": "markdown",
   "metadata": {},
   "source": [
    "# Test: the impact of emission lines\n",
    "---\n",
    "What effect do emission lines have upon the recovery of the mass-weighted age of the stellar population? In this notebook, we will look at the effects of \n",
    "* emission lines vs. no emission lines;\n",
    "* broad emission lines vs. narrow emission lines;\n",
    "* complex, multi-component emission lines vs. simple single-component emission lines\n",
    "upon the derived mass-weighted age."
   ]
  },
  {
   "cell_type": "code",
   "execution_count": 1,
   "metadata": {},
   "outputs": [],
   "source": [
    "%matplotlib widget"
   ]
  },
  {
   "cell_type": "code",
   "execution_count": 2,
   "metadata": {},
   "outputs": [
    {
     "data": {
      "text/html": [
       "<style>.container { width:75% !important; }</style>"
      ],
      "text/plain": [
       "<IPython.core.display.HTML object>"
      ]
     },
     "metadata": {},
     "output_type": "display_data"
    },
    {
     "data": {
      "text/html": [
       "<style>.output_result { max-width:75% !important; }</style>"
      ],
      "text/plain": [
       "<IPython.core.display.HTML object>"
      ]
     },
     "metadata": {},
     "output_type": "display_data"
    }
   ],
   "source": [
    "from IPython.core.display import display, HTML\n",
    "display(HTML(\"<style>.container { width:75% !important; }</style>\"))\n",
    "display(HTML(\"<style>.output_result { max-width:75% !important; }</style>\"))"
   ]
  },
  {
   "cell_type": "code",
   "execution_count": 3,
   "metadata": {},
   "outputs": [],
   "source": [
    "import numpy as np\n",
    "from numpy.random import RandomState\n",
    "from time import time \n",
    "from tqdm.notebook import tqdm\n",
    "import multiprocessing\n",
    "\n",
    "from astropy.io import fits\n",
    "\n",
    "from ppxftests.run_ppxf import run_ppxf\n",
    "from ppxftests.ssputils import load_ssp_templates\n",
    "from ppxftests.mockspec import create_mock_spectrum, calculate_mw_age\n",
    "from ppxftests.ppxf_plot import plot_sfh_mass_weighted\n",
    "\n",
    "import matplotlib.pyplot as plt\n",
    "plt.ion()\n",
    "plt.close(\"all\")\n",
    "\n",
    "from IPython.core.debugger import Tracer"
   ]
  },
  {
   "cell_type": "code",
   "execution_count": 4,
   "metadata": {},
   "outputs": [],
   "source": [
    "###########################################################################\n",
    "# Settings\n",
    "###########################################################################\n",
    "isochrones = \"Padova\"\n",
    "SNR = 100\n",
    "sigma_star_kms = 250\n",
    "z = 0.01"
   ]
  },
  {
   "cell_type": "code",
   "execution_count": 6,
   "metadata": {},
   "outputs": [
    {
     "data": {
      "application/vnd.jupyter.widget-view+json": {
       "model_id": "2b1da612ba4342cda2e4b3eb4a829dc6",
       "version_major": 2,
       "version_minor": 0
      },
      "text/plain": [
       "Canvas(toolbar=Toolbar(toolitems=[('Home', 'Reset original view', 'home', 'home'), ('Back', 'Back to previous …"
      ]
     },
     "metadata": {},
     "output_type": "display_data"
    },
    {
     "data": {
      "application/vnd.jupyter.widget-view+json": {
       "model_id": "78a4461b95d543a59f6d124e041042dc",
       "version_major": 2,
       "version_minor": 0
      },
      "text/plain": [
       "Canvas(toolbar=Toolbar(toolitems=[('Home', 'Reset original view', 'home', 'home'), ('Back', 'Back to previous …"
      ]
     },
     "metadata": {},
     "output_type": "display_data"
    },
    {
     "data": {
      "application/vnd.jupyter.widget-view+json": {
       "model_id": "e243a5fb3a8b4203b9e4cb8ae1b56152",
       "version_major": 2,
       "version_minor": 0
      },
      "text/plain": [
       "Canvas(toolbar=Toolbar(toolitems=[('Home', 'Reset original view', 'home', 'home'), ('Back', 'Back to previous …"
      ]
     },
     "metadata": {},
     "output_type": "display_data"
    },
    {
     "name": "stderr",
     "output_type": "stream",
     "text": [
      "/home/u5708159/python/Modules/ppxftests/ppxf_plot.py:37: RuntimeWarning: divide by zero encountered in log10\n",
      "  m = ax.imshow(np.log10(sfh_mass_weighted), cmap=\"cubehelix_r\",\n",
      "/home/u5708159/python/Modules/ppxftests/ppxf_plot.py:39: RuntimeWarning: divide by zero encountered in log10\n",
      "  vmin=0, vmax=np.nanmax(np.log10(sfh_mass_weighted)))\n"
     ]
    }
   ],
   "source": [
    "###########################################################################\n",
    "# Generate the input SFH\n",
    "###########################################################################\n",
    "# Load the stellar templates so we can get the age & metallicity dimensions\n",
    "_, _, metallicities, ages = load_ssp_templates(isochrones)\n",
    "N_ages = len(ages)\n",
    "N_metallicities = len(metallicities)\n",
    "\n",
    "# Simple Gaussian SFH\n",
    "xx, yy = np.meshgrid(range(N_ages), range(N_metallicities))\n",
    "x0 = 15\n",
    "y0 = 2.5\n",
    "sigma_x = 4\n",
    "sigma_y = 0.1\n",
    "sfh_young = np.exp(- (xx - x0)**2 / (2 * sigma_x**2)) *\\\n",
    "               np.exp(- (yy - y0)**2 / (2 * sigma_y**2))\n",
    "sfh_young /= np.nansum(sfh_young)\n",
    "sfh_mw_young = sfh_young * 1e8\n",
    "\n",
    "x0 = 60\n",
    "y0 = 4\n",
    "sigma_x = 5\n",
    "sigma_y = 0.5\n",
    "sfh_old = np.exp(- (xx - x0)**2 / (2 * sigma_x**2)) *\\\n",
    "             np.exp(- (yy - y0)**2 / (2 * sigma_y**2))\n",
    "sfh_old /= np.nansum(sfh_old)\n",
    "sfh_mw_old = sfh_old * 1e10\n",
    "\n",
    "# Add the young & old components\n",
    "sfh_mw_original = sfh_mw_old + sfh_mw_young\n",
    "\n",
    "# Instead of a Gaussian SFH, try with a \"delta function\" SFH (i.e., 1 old & 1 young template)\n",
    "sfh_mw_original = np.zeros((N_metallicities, N_ages))\n",
    "sfh_mw_original[2, 4] = 0.5e7\n",
    "sfh_mw_original[1, 4] = 1.5e7\n",
    "sfh_mw_original[0, 20] = 1e8\n",
    "sfh_mw_original[1, -3] = 1e10\n",
    "\n",
    "sfh_mw_1D_original = np.nansum(sfh_mw_original, axis=0)\n",
    "\n",
    "# Compute the mean mass-weighted age below 1 Gyr\n",
    "log_age_mw_original, log_age_mw_original_idx = calculate_mw_age(sfh_mw_original, age_thresh=1e9, ages=ages)\n",
    "\n",
    "# Create the spectrum here, just so we can check it looks OK\n",
    "spec_nolines, spec_nolines_err, lambda_vals_A = create_mock_spectrum(\n",
    "    sfh_mass_weighted=sfh_mw_original,\n",
    "    isochrones=isochrones, z=z, SNR=SNR, sigma_star_kms=sigma_star_kms,\n",
    "    plotit=True)\n",
    "\n"
   ]
  },
  {
   "cell_type": "code",
   "execution_count": 13,
   "metadata": {
    "scrolled": false
   },
   "outputs": [],
   "source": [
    "# Helper function for multiprocessing\n",
    "def ppxf_helper(args):\n",
    "    # Unpack arguments\n",
    "    seed, spec, spec_err, lambda_vals_A = args\n",
    "    \n",
    "    # Add \"extra\" noise to the spectrum\n",
    "    rng = RandomState(seed)\n",
    "    noise = rng.normal(scale=spec_err)\n",
    "    spec_noise = spec + noise\n",
    "\n",
    "    # This is to mitigate the \"edge effects\" of the convolution with the LSF\n",
    "    spec_noise[0] = -9999\n",
    "    spec_noise[-1] = -9999\n",
    "\n",
    "    # Run ppxf\n",
    "    pp = run_ppxf(spec=spec_noise, spec_err=spec_err, lambda_vals_A=lambda_vals_A,\n",
    "                  z=z, ngascomponents=1,\n",
    "                  regularisation_method=\"none\", \n",
    "                  isochrones=\"Padova\",\n",
    "                  fit_gas=False, tie_balmer=True,\n",
    "                  plotit=False, savefigs=False, interactive_mode=False)\n",
    "    return pp\n",
    "\n",
    "# Helper function so that we can run ppxf on different inputs.\n",
    "def helper_fn(spec, spec_err, lambda_vals_A,\n",
    "              niters=100, nthreads=20, ngascomponents=1):  \n",
    "\n",
    "    ###########################################################################\n",
    "    # Run ppxf WITHOUT regularisation, using a MC approach\n",
    "    ###########################################################################\n",
    "    # Input arguments\n",
    "    seeds = list(np.random.randint(low=0, high=100 * niters, size=niters))\n",
    "    args_list = [[s, spec, spec_err, lambda_vals_A] for s in seeds]\n",
    "\n",
    "    # Run in parallel\n",
    "    print(f\"Running ppxf on {nthreads} threads...\")\n",
    "    t = time()\n",
    "    with multiprocessing.Pool(nthreads) as pool:\n",
    "        pp_list = list(tqdm(pool.imap(ppxf_helper, args_list), total=niters))\n",
    "    print(f\"Elapsed time in ppxf: {time() - t:.2f} s\")\n",
    "\n",
    "    ###########################################################################\n",
    "    # Run ppxf WITH regularisation\n",
    "    ###########################################################################\n",
    "    t = time()\n",
    "    pp_regul = run_ppxf(spec=spec, spec_err=spec_err, lambda_vals_A=lambda_vals_A,\n",
    "                        z=z, ngascomponents=ngascomponents,\n",
    "                        regularisation_method=\"auto\",\n",
    "                        isochrones=\"Padova\",\n",
    "                        fit_gas=False, tie_balmer=True,\n",
    "                        delta_regul_min=1, regul_max=5e4, delta_delta_chi2_min=5,\n",
    "                        plotit=False, savefigs=False, interactive_mode=False)\n",
    "    print(f\"Total time in run_ppxf: {time() - t:.2f} seconds\")\n",
    "\n",
    "    ###########################################################################\n",
    "    # Compute the mass-weighted age \n",
    "    ###########################################################################\n",
    "    log_age_mw_regul, log_age_mw_regul_idx = calculate_mw_age(pp_regul.weights_mass_weighted, age_thresh=1e9, ages=ages)\n",
    "\n",
    "    log_age_mw_list = []\n",
    "    for pp in pp_list:\n",
    "        log_age_mw, _ = calculate_mw_age(pp.weights_mass_weighted, age_thresh=1e9, ages=ages)\n",
    "        log_age_mw_list.append(log_age_mw)\n",
    "\n",
    "    log_age_mw_MC = np.nanmean(log_age_mw_list)\n",
    "    log_age_mw_MC_err = np.nanstd(log_age_mw_list)\n",
    "    # For plotting purposes, figure out the approx. index of these ages in the age array\n",
    "    log_age_mw_MC_idx = (log_age_mw_MC - np.log10(ages[0])) / (np.log10(ages[1]) - np.log10(ages[0]))\n",
    "    log_age_mw_MC_err_idx = log_age_mw_MC_err / (np.log10(ages[1]) - np.log10(ages[0]))\n",
    "\n",
    "    print(\"------------------------------------------------------------\")\n",
    "    print(f\"MC method:    mean mass-weighted age (log yr) = {np.nanmean(log_age_mw_list):.2f} ± {np.nanstd(log_age_mw_list):.2f}\")\n",
    "    print(f\"Regul method: mean mass-weighted age (log yr) = {log_age_mw_regul:.2f}\")\n",
    "    print(f\"Input value:  mean mass-weighted age (log yr) = {log_age_mw_original:.2f})\")\n",
    "    print(\"------------------------------------------------------------\")\n",
    "\n",
    "    ###########################################################################\n",
    "    # COMPARE THE INPUT AND OUTPUT\n",
    "    ###########################################################################\n",
    "    sfh_fit_mw_list = []\n",
    "    sfh_fit_lw_list = []\n",
    "    sfh_fit_mw_1D_list = []\n",
    "    sfh_fit_lw_1D_list = []\n",
    "\n",
    "    for pp in pp_list:\n",
    "        sfh_fit_mw_list.append(pp.weights_mass_weighted)\n",
    "        sfh_fit_lw_list.append(pp.weights_light_weighted)\n",
    "        sfh_fit_mw_1D_list.append(np.nansum(pp.weights_mass_weighted, axis=0))\n",
    "        sfh_fit_lw_1D_list.append(np.nansum(pp.weights_light_weighted, axis=0))\n",
    "\n",
    "    # Compute the mean SFH \n",
    "    sfh_fit_mw_mean = np.nansum(np.array(sfh_fit_mw_list), axis=0) / len(sfh_fit_mw_list)\n",
    "    sfh_fit_lw_mean = np.nansum(np.array(sfh_fit_lw_list), axis=0) / len(sfh_fit_lw_list)\n",
    "    sfh_fit_mw_1D_mean = np.nansum(sfh_fit_mw_mean, axis=0)\n",
    "    sfh_fit_lw_1D_mean = np.nansum(sfh_fit_lw_mean, axis=0)\n",
    "\n",
    "    sfh_fit_mw_1D_regul = np.nansum(pp_regul.weights_mass_weighted, axis=0)\n",
    "    sfh_fit_lw_1D_regul = np.nansum(pp_regul.weights_light_weighted, axis=0)\n",
    "\n",
    "    # Plot the mass-weighted weights, summed over the metallicity dimension\n",
    "    for log_scale in [True]:\n",
    "        # Create new figure \n",
    "        fig = plt.figure(figsize=(13, 4))\n",
    "        ax = fig.add_axes([0.1, 0.2, 0.7, 0.7])\n",
    "        ax.set_title(f\"Mass-weighted template weights (SNR = {SNR:d})\")\n",
    "\n",
    "        # Plot the SFHs from each ppxf run, plus the \"truth\" SFH\n",
    "        ax.fill_between(range(N_ages), sfh_mw_1D_original, step=\"mid\", alpha=1.0, color=\"cornflowerblue\", label=\"Input SFH\")\n",
    "        for jj in range(niters):\n",
    "            ax.step(range(N_ages), sfh_fit_mw_1D_list[jj], color=\"pink\", alpha=0.2, where=\"mid\", linewidth=0.25, label=\"ppxf fits (MC simluations)\" if jj == 0 else None)\n",
    "        ax.step(range(N_ages), sfh_fit_mw_1D_mean, color=\"red\", where=\"mid\", label=\"Mean ppxf fit (MC simulations)\")\n",
    "        ax.step(range(N_ages), sfh_fit_mw_1D_regul, color=\"lightgreen\", where=\"mid\", label=\"ppxf fit (regularised)\")\n",
    "\n",
    "        # Plot horizontal error bars indicating the mean mass-weighted age from (a) the MC simulations and (b) the regularised fit \n",
    "        y = 10**(0.9 * np.log10(ax.get_ylim()[1])) if log_scale else 0.9 * ax.get_ylim()[1]\n",
    "        ax.errorbar(x=log_age_mw_regul_idx, y=y, xerr=0, yerr=0, \n",
    "                    marker=\"D\", mfc=\"lightgreen\",mec=\"lightgreen\",  ecolor=\"lightgreen\",  \n",
    "                    label=\"MW age ($< 1$ Gyr) (regularised fit)\")\n",
    "        ax.errorbar(x=log_age_mw_MC_idx, y=y, xerr=log_age_mw_MC_err_idx, yerr=0, \n",
    "                    marker=\"D\", mfc=\"red\", mec=\"red\", ecolor=\"red\",\n",
    "                    label=\"MW age ($< 1$ Gyr) (MC simulations)\")\n",
    "        ax.errorbar(x=log_age_mw_original_idx, y=y, xerr=0, yerr=0, \n",
    "                    marker=\"D\", mfc=\"cornflowerblue\", mec=\"cornflowerblue\", ecolor=\"cornflowerblue\", \n",
    "                    label=\"MW age ($< 1$ Gyr) (input)\")\n",
    "\n",
    "        # Decorations \n",
    "        ax.set_xticks(range(N_ages))\n",
    "        ax.set_xlabel(\"Age (Myr)\")\n",
    "        ax.set_xticklabels([\"{:}\".format(age / 1e6) for age in ages], rotation=\"vertical\", fontsize=\"x-small\")\n",
    "        ax.autoscale(axis=\"x\", enable=True, tight=True)\n",
    "        ax.set_ylim([1, None])\n",
    "        ax.set_ylabel(r\"Template weight ($\\rm M_\\odot$)\")\n",
    "        ax.legend(fontsize=\"x-small\", loc=\"center left\", bbox_to_anchor=(1.01, 0.5))\n",
    "        ax.set_xlabel(\"Age (Myr)\")\n",
    "        ax.set_yscale(\"log\") if log_scale else None\n",
    "        "
   ]
  },
  {
   "cell_type": "code",
   "execution_count": 27,
   "metadata": {},
   "outputs": [],
   "source": [
    "plt.close(\"all\")"
   ]
  },
  {
   "cell_type": "code",
   "execution_count": 14,
   "metadata": {
    "scrolled": false
   },
   "outputs": [
    {
     "data": {
      "application/vnd.jupyter.widget-view+json": {
       "model_id": "40085e0916eb4de9b5fd1ca3e2c7df47",
       "version_major": 2,
       "version_minor": 0
      },
      "text/plain": [
       "Canvas(toolbar=Toolbar(toolitems=[('Home', 'Reset original view', 'home', 'home'), ('Back', 'Back to previous …"
      ]
     },
     "metadata": {},
     "output_type": "display_data"
    },
    {
     "data": {
      "application/vnd.jupyter.widget-view+json": {
       "model_id": "5dcd3aa4c2b54fe49da2203bd2370c57",
       "version_major": 2,
       "version_minor": 0
      },
      "text/plain": [
       "Canvas(toolbar=Toolbar(toolitems=[('Home', 'Reset original view', 'home', 'home'), ('Back', 'Back to previous …"
      ]
     },
     "metadata": {},
     "output_type": "display_data"
    },
    {
     "data": {
      "application/vnd.jupyter.widget-view+json": {
       "model_id": "1209d57b96a04dada45b83b02f85ed0c",
       "version_major": 2,
       "version_minor": 0
      },
      "text/plain": [
       "Canvas(toolbar=Toolbar(toolitems=[('Home', 'Reset original view', 'home', 'home'), ('Back', 'Back to previous …"
      ]
     },
     "metadata": {},
     "output_type": "display_data"
    },
    {
     "name": "stdout",
     "output_type": "stream",
     "text": [
      "Running ppxf on 20 threads...\n"
     ]
    },
    {
     "data": {
      "application/vnd.jupyter.widget-view+json": {
       "model_id": "3b6c0a4468fc4ed7b82a2e2786c20baa",
       "version_major": 2,
       "version_minor": 0
      },
      "text/plain": [
       "HBox(children=(IntProgress(value=0), HTML(value='')))"
      ]
     },
     "metadata": {},
     "output_type": "display_data"
    },
    {
     "name": "stdout",
     "output_type": "stream",
     "text": [
      "\n",
      "Elapsed time in ppxf: 187.74 s\n",
      "----------------------------------------------------\n",
      "Iteration 0: Elapsed time in PPXF (single thread): 6.03 s\n",
      "----------------------------------------------------\n",
      "Iteration 1: Scaling noise by 1.3974...\n",
      "Iteration 1: Running ppxf on 20 threads...\n",
      "Iteration 1: Elapsed time in PPXF (multithreaded): 65.22 s\n",
      "Iteration 1: optimal regul = 0.00; Δm = 4.72451; Δregul = 500.00 (Δregul_min = 1.00); Δχ (goal) - Δχ = 95.079\n",
      "----------------------------------------------------\n",
      "Iteration 2: Re-running ppxf on 20 threads (iteration 2)...\n",
      "Iteration 2: Elapsed time in PPXF (multithreaded): 64.13 s\n",
      "Iteration 2: optimal regul = 100.00; Δm = 1.49457e+10; Δregul = 100.00 (Δregul_min = 1.00); Δχ (goal) - Δχ = 14.587\n",
      "----------------------------------------------------\n",
      "Iteration 3: Re-running ppxf on 20 threads (iteration 3)...\n",
      "Iteration 3: Elapsed time in PPXF (multithreaded): 60.16 s\n",
      "Iteration 3: optimal regul = 80.00; Δm = 9.33168e+08; Δregul = 20.00 (Δregul_min = 1.00); Δχ (goal) - Δχ = 2.754\n",
      "----------------------------------------------------\n",
      "STOPPING: Convergence criterion reached; Δχ (goal) - Δχ = 2.7539434126856435; using 80.00 to produce the best fit\n",
      "Total time in run_ppxf: 196.96 seconds\n",
      "------------------------------------------------------------\n",
      "MC method:    mean mass-weighted age (log yr) = 7.44 ± 0.02\n",
      "Regul method: mean mass-weighted age (log yr) = 7.52\n",
      "Input value:  mean mass-weighted age (log yr) = 7.47)\n",
      "------------------------------------------------------------\n"
     ]
    },
    {
     "data": {
      "application/vnd.jupyter.widget-view+json": {
       "model_id": "f7ae53c4affe4277bb6fdca0a8214406",
       "version_major": 2,
       "version_minor": 0
      },
      "text/plain": [
       "Canvas(toolbar=Toolbar(toolitems=[('Home', 'Reset original view', 'home', 'home'), ('Back', 'Back to previous …"
      ]
     },
     "metadata": {},
     "output_type": "display_data"
    },
    {
     "data": {
      "application/vnd.jupyter.widget-view+json": {
       "model_id": "ba065cd1087d409593938bdd619dfc59",
       "version_major": 2,
       "version_minor": 0
      },
      "text/plain": [
       "Canvas(toolbar=Toolbar(toolitems=[('Home', 'Reset original view', 'home', 'home'), ('Back', 'Back to previous …"
      ]
     },
     "metadata": {},
     "output_type": "display_data"
    }
   ],
   "source": [
    "###########################################################################\n",
    "# Case 1: no emission lines\n",
    "###########################################################################\n",
    "spec_nolines, spec_nolines_err, lambda_vals_A = create_mock_spectrum(\n",
    "    sfh_mass_weighted=sfh_mw_original,\n",
    "    isochrones=isochrones, z=z, SNR=SNR, sigma_star_kms=sigma_star_kms,\n",
    "    plotit=True)\n",
    "\n",
    "helper_fn(spec_nolines, spec_nolines_err, lambda_vals_A, niters=100, nthreads=20, ngascomponents=1)"
   ]
  },
  {
   "cell_type": "code",
   "execution_count": 28,
   "metadata": {
    "scrolled": false
   },
   "outputs": [
    {
     "data": {
      "application/vnd.jupyter.widget-view+json": {
       "model_id": "7b05a5c9e6054d2eb56f82e612078934",
       "version_major": 2,
       "version_minor": 0
      },
      "text/plain": [
       "Canvas(toolbar=Toolbar(toolitems=[('Home', 'Reset original view', 'home', 'home'), ('Back', 'Back to previous …"
      ]
     },
     "metadata": {},
     "output_type": "display_data"
    },
    {
     "data": {
      "application/vnd.jupyter.widget-view+json": {
       "model_id": "0d83fb63855749ce9b020261bd5289db",
       "version_major": 2,
       "version_minor": 0
      },
      "text/plain": [
       "Canvas(toolbar=Toolbar(toolitems=[('Home', 'Reset original view', 'home', 'home'), ('Back', 'Back to previous …"
      ]
     },
     "metadata": {},
     "output_type": "display_data"
    },
    {
     "data": {
      "application/vnd.jupyter.widget-view+json": {
       "model_id": "9cdf339975c84836b8ad5c3f9f337ae7",
       "version_major": 2,
       "version_minor": 0
      },
      "text/plain": [
       "Canvas(toolbar=Toolbar(toolitems=[('Home', 'Reset original view', 'home', 'home'), ('Back', 'Back to previous …"
      ]
     },
     "metadata": {},
     "output_type": "display_data"
    },
    {
     "data": {
      "application/vnd.jupyter.widget-view+json": {
       "model_id": "fb5e067f7fcb4e5f824890528a5fd3d7",
       "version_major": 2,
       "version_minor": 0
      },
      "text/plain": [
       "Canvas(toolbar=Toolbar(toolitems=[('Home', 'Reset original view', 'home', 'home'), ('Back', 'Back to previous …"
      ]
     },
     "metadata": {},
     "output_type": "display_data"
    },
    {
     "name": "stdout",
     "output_type": "stream",
     "text": [
      "Running ppxf on 20 threads...\n"
     ]
    },
    {
     "data": {
      "application/vnd.jupyter.widget-view+json": {
       "model_id": "bef6bf66abd543ce97de102e0bd92088",
       "version_major": 2,
       "version_minor": 0
      },
      "text/plain": [
       "HBox(children=(IntProgress(value=0), HTML(value='')))"
      ]
     },
     "metadata": {},
     "output_type": "display_data"
    },
    {
     "name": "stdout",
     "output_type": "stream",
     "text": [
      "\n",
      "Elapsed time in ppxf: 178.86 s\n",
      "----------------------------------------------------\n",
      "Iteration 0: Elapsed time in PPXF (single thread): 2.66 s\n",
      "----------------------------------------------------\n",
      "Iteration 1: Scaling noise by 5.5896...\n",
      "Iteration 1: Running ppxf on 20 threads...\n",
      "Iteration 1: Elapsed time in PPXF (multithreaded): 59.53 s\n",
      "Iteration 1: optimal regul = 6500.00; Δm = 1.68059e+10; Δregul = 500.00 (Δregul_min = 1.00); Δχ (goal) - Δχ = 0.326\n",
      "----------------------------------------------------\n",
      "STOPPING: Convergence criterion reached; Δχ (goal) - Δχ = 0.32584827820498674; using 6500.00 to produce the best fit\n",
      "Total time in run_ppxf: 63.51 seconds\n",
      "------------------------------------------------------------\n",
      "MC method:    mean mass-weighted age (log yr) = 7.36 ± 0.04\n",
      "Regul method: mean mass-weighted age (log yr) = 7.48\n",
      "Input value:  mean mass-weighted age (log yr) = 7.47)\n",
      "------------------------------------------------------------\n"
     ]
    },
    {
     "data": {
      "application/vnd.jupyter.widget-view+json": {
       "model_id": "9c34a00f1f384b079012526555ff3818",
       "version_major": 2,
       "version_minor": 0
      },
      "text/plain": [
       "Canvas(toolbar=Toolbar(toolitems=[('Home', 'Reset original view', 'home', 'home'), ('Back', 'Back to previous …"
      ]
     },
     "metadata": {},
     "output_type": "display_data"
    },
    {
     "data": {
      "application/vnd.jupyter.widget-view+json": {
       "model_id": "d27cfcb6d8534dfcbc252a48e6cf89d4",
       "version_major": 2,
       "version_minor": 0
      },
      "text/plain": [
       "Canvas(toolbar=Toolbar(toolitems=[('Home', 'Reset original view', 'home', 'home'), ('Back', 'Back to previous …"
      ]
     },
     "metadata": {},
     "output_type": "display_data"
    }
   ],
   "source": [
    "###########################################################################\n",
    "# Case 2: narrow emission lines\n",
    "###########################################################################\n",
    "spec_elines, spec_elines_err, lambda_vals_A = create_mock_spectrum(\n",
    "    sfh_mass_weighted=sfh_mw_original,\n",
    "    ngascomponents=1, sigma_gas_kms=[40], v_gas_kms=[0], eline_model=[\"HII\"], L_Ha_erg_s=[1e40], \n",
    "    isochrones=isochrones, z=z, SNR=SNR, sigma_star_kms=sigma_star_kms,\n",
    "    plotit=True)\n",
    "\n",
    "helper_fn(spec_elines, spec_elines_err, lambda_vals_A, niters=100, nthreads=20, ngascomponents=1)"
   ]
  },
  {
   "cell_type": "code",
   "execution_count": 23,
   "metadata": {},
   "outputs": [
    {
     "data": {
      "application/vnd.jupyter.widget-view+json": {
       "model_id": "43f13b31ad544a1386e9e2623e9eed8a",
       "version_major": 2,
       "version_minor": 0
      },
      "text/plain": [
       "Canvas(toolbar=Toolbar(toolitems=[('Home', 'Reset original view', 'home', 'home'), ('Back', 'Back to previous …"
      ]
     },
     "metadata": {},
     "output_type": "display_data"
    },
    {
     "data": {
      "application/vnd.jupyter.widget-view+json": {
       "model_id": "18161e27e4654a3b91bbd1377889916e",
       "version_major": 2,
       "version_minor": 0
      },
      "text/plain": [
       "Canvas(toolbar=Toolbar(toolitems=[('Home', 'Reset original view', 'home', 'home'), ('Back', 'Back to previous …"
      ]
     },
     "metadata": {},
     "output_type": "display_data"
    },
    {
     "data": {
      "application/vnd.jupyter.widget-view+json": {
       "model_id": "565d4c1cfc1a494ca8da424757c29476",
       "version_major": 2,
       "version_minor": 0
      },
      "text/plain": [
       "Canvas(toolbar=Toolbar(toolitems=[('Home', 'Reset original view', 'home', 'home'), ('Back', 'Back to previous …"
      ]
     },
     "metadata": {},
     "output_type": "display_data"
    },
    {
     "data": {
      "application/vnd.jupyter.widget-view+json": {
       "model_id": "32bb153267d3402694baed8fb290b994",
       "version_major": 2,
       "version_minor": 0
      },
      "text/plain": [
       "Canvas(toolbar=Toolbar(toolitems=[('Home', 'Reset original view', 'home', 'home'), ('Back', 'Back to previous …"
      ]
     },
     "metadata": {},
     "output_type": "display_data"
    },
    {
     "name": "stdout",
     "output_type": "stream",
     "text": [
      "Running ppxf on 20 threads...\n"
     ]
    },
    {
     "data": {
      "application/vnd.jupyter.widget-view+json": {
       "model_id": "09e09db0ac9b44eb94844a13e96caefa",
       "version_major": 2,
       "version_minor": 0
      },
      "text/plain": [
       "HBox(children=(IntProgress(value=0), HTML(value='')))"
      ]
     },
     "metadata": {},
     "output_type": "display_data"
    },
    {
     "name": "stdout",
     "output_type": "stream",
     "text": [
      "\n",
      "Elapsed time in ppxf: 178.77 s\n",
      "----------------------------------------------------\n",
      "Iteration 0: Elapsed time in PPXF (single thread): 3.87 s\n",
      "----------------------------------------------------\n",
      "Iteration 1: Scaling noise by 1.3781...\n",
      "Iteration 1: Running ppxf on 20 threads...\n",
      "Iteration 1: Elapsed time in PPXF (multithreaded): 59.40 s\n",
      "Iteration 1: optimal regul = 0.00; Δm = 7.80946; Δregul = 500.00 (Δregul_min = 1.00); Δχ (goal) - Δχ = 95.079\n",
      "----------------------------------------------------\n",
      "Iteration 2: Re-running ppxf on 20 threads (iteration 2)...\n",
      "Iteration 2: Elapsed time in PPXF (multithreaded): 55.08 s\n",
      "Iteration 2: optimal regul = 100.00; Δm = 1.47745e+10; Δregul = 100.00 (Δregul_min = 1.00); Δχ (goal) - Δχ = 16.441\n",
      "----------------------------------------------------\n",
      "Iteration 3: Re-running ppxf on 20 threads (iteration 3)...\n",
      "Iteration 3: Elapsed time in PPXF (multithreaded): 56.07 s\n",
      "Iteration 3: optimal regul = 80.00; Δm = 7.29351e+08; Δregul = 20.00 (Δregul_min = 1.00); Δχ (goal) - Δχ = 4.726\n",
      "----------------------------------------------------\n",
      "STOPPING: Convergence criterion reached; Δχ (goal) - Δχ = 4.7257112635492575; using 80.00 to produce the best fit\n",
      "Total time in run_ppxf: 175.70 seconds\n",
      "------------------------------------------------------------\n",
      "MC method:    mean mass-weighted age (log yr) = 7.44 ± 0.02\n",
      "Regul method: mean mass-weighted age (log yr) = 7.52\n",
      "Input value:  mean mass-weighted age (log yr) = 7.47)\n",
      "------------------------------------------------------------\n"
     ]
    },
    {
     "name": "stderr",
     "output_type": "stream",
     "text": [
      "/pkg/linux/anaconda-20191122/anaconda3/lib/python3.7/site-packages/ipykernel_launcher.py:103: RuntimeWarning: More than 20 figures have been opened. Figures created through the pyplot interface (`matplotlib.pyplot.figure`) are retained until explicitly closed and may consume too much memory. (To control this warning, see the rcParam `figure.max_open_warning`).\n"
     ]
    },
    {
     "data": {
      "application/vnd.jupyter.widget-view+json": {
       "model_id": "56d96b9e155644279930ce76e4f2369a",
       "version_major": 2,
       "version_minor": 0
      },
      "text/plain": [
       "Canvas(toolbar=Toolbar(toolitems=[('Home', 'Reset original view', 'home', 'home'), ('Back', 'Back to previous …"
      ]
     },
     "metadata": {},
     "output_type": "display_data"
    },
    {
     "data": {
      "application/vnd.jupyter.widget-view+json": {
       "model_id": "ab4a209683e246ff91d6abe55382075e",
       "version_major": 2,
       "version_minor": 0
      },
      "text/plain": [
       "Canvas(toolbar=Toolbar(toolitems=[('Home', 'Reset original view', 'home', 'home'), ('Back', 'Back to previous …"
      ]
     },
     "metadata": {},
     "output_type": "display_data"
    }
   ],
   "source": [
    "###########################################################################\n",
    "# Case 3: broad + narrow emission lines\n",
    "###########################################################################\n",
    "spec_elines, spec_elines_err, lambda_vals_A = create_mock_spectrum(\n",
    "    sfh_mass_weighted=sfh_mw_original,\n",
    "    ngascomponents=2, sigma_gas_kms=[40, 300], v_gas_kms=[0, -100], eline_model=[\"HII\", \"AGN\"], L_Ha_erg_s=[1e40, 1e40], \n",
    "    isochrones=isochrones, z=z, SNR=SNR, sigma_star_kms=sigma_star_kms,\n",
    "    plotit=True)\n",
    "\n",
    "helper_fn(spec_elines, spec_elines_err, lambda_vals_A, niters=100, nthreads=20, ngascomponents=2)"
   ]
  },
  {
   "cell_type": "code",
   "execution_count": 24,
   "metadata": {},
   "outputs": [
    {
     "data": {
      "application/vnd.jupyter.widget-view+json": {
       "model_id": "bec505294e024b37a705a9610fa91a9d",
       "version_major": 2,
       "version_minor": 0
      },
      "text/plain": [
       "Canvas(toolbar=Toolbar(toolitems=[('Home', 'Reset original view', 'home', 'home'), ('Back', 'Back to previous …"
      ]
     },
     "metadata": {},
     "output_type": "display_data"
    },
    {
     "data": {
      "application/vnd.jupyter.widget-view+json": {
       "model_id": "59167a72d8a249b3b141f71662f25362",
       "version_major": 2,
       "version_minor": 0
      },
      "text/plain": [
       "Canvas(toolbar=Toolbar(toolitems=[('Home', 'Reset original view', 'home', 'home'), ('Back', 'Back to previous …"
      ]
     },
     "metadata": {},
     "output_type": "display_data"
    },
    {
     "data": {
      "application/vnd.jupyter.widget-view+json": {
       "model_id": "503dd4952a95422ba99e5c1db11104c3",
       "version_major": 2,
       "version_minor": 0
      },
      "text/plain": [
       "Canvas(toolbar=Toolbar(toolitems=[('Home', 'Reset original view', 'home', 'home'), ('Back', 'Back to previous …"
      ]
     },
     "metadata": {},
     "output_type": "display_data"
    },
    {
     "data": {
      "application/vnd.jupyter.widget-view+json": {
       "model_id": "d4db88e2cc884543b0240167af1a8f2e",
       "version_major": 2,
       "version_minor": 0
      },
      "text/plain": [
       "Canvas(toolbar=Toolbar(toolitems=[('Home', 'Reset original view', 'home', 'home'), ('Back', 'Back to previous …"
      ]
     },
     "metadata": {},
     "output_type": "display_data"
    },
    {
     "name": "stdout",
     "output_type": "stream",
     "text": [
      "Running ppxf on 20 threads...\n"
     ]
    },
    {
     "data": {
      "application/vnd.jupyter.widget-view+json": {
       "model_id": "68c0feac85e74b9388d193b52bc7cef7",
       "version_major": 2,
       "version_minor": 0
      },
      "text/plain": [
       "HBox(children=(IntProgress(value=0), HTML(value='')))"
      ]
     },
     "metadata": {},
     "output_type": "display_data"
    },
    {
     "name": "stdout",
     "output_type": "stream",
     "text": [
      "\n",
      "Elapsed time in ppxf: 185.15 s\n",
      "----------------------------------------------------\n",
      "Iteration 0: Elapsed time in PPXF (single thread): 3.15 s\n",
      "----------------------------------------------------\n",
      "Iteration 1: Scaling noise by 1.4135...\n",
      "Iteration 1: Running ppxf on 20 threads...\n",
      "Iteration 1: Elapsed time in PPXF (multithreaded): 60.50 s\n",
      "Iteration 1: optimal regul = 0.00; Δm = 7.14221; Δregul = 500.00 (Δregul_min = 1.00); Δχ (goal) - Δχ = 95.079\n",
      "----------------------------------------------------\n",
      "Iteration 2: Re-running ppxf on 20 threads (iteration 2)...\n",
      "Iteration 2: Elapsed time in PPXF (multithreaded): 50.96 s\n",
      "Iteration 2: optimal regul = 100.00; Δm = 1.48296e+10; Δregul = 100.00 (Δregul_min = 1.00); Δχ (goal) - Δχ = 10.903\n",
      "----------------------------------------------------\n",
      "Iteration 3: Re-running ppxf on 20 threads (iteration 3)...\n",
      "Iteration 3: Elapsed time in PPXF (multithreaded): 51.64 s\n",
      "Iteration 3: optimal regul = 80.00; Δm = 9.29129e+08; Δregul = 20.00 (Δregul_min = 1.00); Δχ (goal) - Δχ = 0.345\n",
      "----------------------------------------------------\n",
      "STOPPING: Convergence criterion reached; Δχ (goal) - Δχ = 0.34464628956264676; using 80.00 to produce the best fit\n",
      "Total time in run_ppxf: 167.64 seconds\n",
      "------------------------------------------------------------\n",
      "MC method:    mean mass-weighted age (log yr) = 7.44 ± 0.02\n",
      "Regul method: mean mass-weighted age (log yr) = 7.52\n",
      "Input value:  mean mass-weighted age (log yr) = 7.47)\n",
      "------------------------------------------------------------\n"
     ]
    },
    {
     "name": "stderr",
     "output_type": "stream",
     "text": [
      "/pkg/linux/anaconda-20191122/anaconda3/lib/python3.7/site-packages/ipykernel_launcher.py:103: RuntimeWarning: More than 20 figures have been opened. Figures created through the pyplot interface (`matplotlib.pyplot.figure`) are retained until explicitly closed and may consume too much memory. (To control this warning, see the rcParam `figure.max_open_warning`).\n"
     ]
    },
    {
     "data": {
      "application/vnd.jupyter.widget-view+json": {
       "model_id": "127808d739ae4115a5f8c4cbd64b671a",
       "version_major": 2,
       "version_minor": 0
      },
      "text/plain": [
       "Canvas(toolbar=Toolbar(toolitems=[('Home', 'Reset original view', 'home', 'home'), ('Back', 'Back to previous …"
      ]
     },
     "metadata": {},
     "output_type": "display_data"
    },
    {
     "data": {
      "application/vnd.jupyter.widget-view+json": {
       "model_id": "e617a482afd6405cb0607583623740fe",
       "version_major": 2,
       "version_minor": 0
      },
      "text/plain": [
       "Canvas(toolbar=Toolbar(toolitems=[('Home', 'Reset original view', 'home', 'home'), ('Back', 'Back to previous …"
      ]
     },
     "metadata": {},
     "output_type": "display_data"
    }
   ],
   "source": [
    "###########################################################################\n",
    "# Case 4: broad + narrow emission lines, where the broad component is > 1000 km/s wide\n",
    "###########################################################################\n",
    "spec_elines, spec_elines_err, lambda_vals_A = create_mock_spectrum(\n",
    "    sfh_mass_weighted=sfh_mw_original,\n",
    "    ngascomponents=2, sigma_gas_kms=[40, 2000], v_gas_kms=[0, -1000], eline_model=[\"HII\", \"AGN\"], L_Ha_erg_s=[1e40, 5e40], \n",
    "    isochrones=isochrones, z=z, SNR=SNR, sigma_star_kms=sigma_star_kms,\n",
    "    plotit=True)\n",
    "\n",
    "helper_fn(spec_elines, spec_elines_err, lambda_vals_A, niters=100, nthreads=20, ngascomponents=2)"
   ]
  },
  {
   "cell_type": "code",
   "execution_count": 25,
   "metadata": {
    "scrolled": false
   },
   "outputs": [
    {
     "data": {
      "application/vnd.jupyter.widget-view+json": {
       "model_id": "dc534e5547e444bf86a5e096dcf3b1a9",
       "version_major": 2,
       "version_minor": 0
      },
      "text/plain": [
       "Canvas(toolbar=Toolbar(toolitems=[('Home', 'Reset original view', 'home', 'home'), ('Back', 'Back to previous …"
      ]
     },
     "metadata": {},
     "output_type": "display_data"
    },
    {
     "data": {
      "application/vnd.jupyter.widget-view+json": {
       "model_id": "93d0fda09d5b4719a09553cc487dd27c",
       "version_major": 2,
       "version_minor": 0
      },
      "text/plain": [
       "Canvas(toolbar=Toolbar(toolitems=[('Home', 'Reset original view', 'home', 'home'), ('Back', 'Back to previous …"
      ]
     },
     "metadata": {},
     "output_type": "display_data"
    },
    {
     "data": {
      "application/vnd.jupyter.widget-view+json": {
       "model_id": "528bafe07079405384fccc3b2c37ea56",
       "version_major": 2,
       "version_minor": 0
      },
      "text/plain": [
       "Canvas(toolbar=Toolbar(toolitems=[('Home', 'Reset original view', 'home', 'home'), ('Back', 'Back to previous …"
      ]
     },
     "metadata": {},
     "output_type": "display_data"
    },
    {
     "data": {
      "application/vnd.jupyter.widget-view+json": {
       "model_id": "ea18c31eaee04867a29fe50bdf490ccd",
       "version_major": 2,
       "version_minor": 0
      },
      "text/plain": [
       "Canvas(toolbar=Toolbar(toolitems=[('Home', 'Reset original view', 'home', 'home'), ('Back', 'Back to previous …"
      ]
     },
     "metadata": {},
     "output_type": "display_data"
    },
    {
     "name": "stdout",
     "output_type": "stream",
     "text": [
      "Running ppxf on 20 threads...\n"
     ]
    },
    {
     "data": {
      "application/vnd.jupyter.widget-view+json": {
       "model_id": "3616060dde1e413c8ed2e74232a469cb",
       "version_major": 2,
       "version_minor": 0
      },
      "text/plain": [
       "HBox(children=(IntProgress(value=0), HTML(value='')))"
      ]
     },
     "metadata": {},
     "output_type": "display_data"
    },
    {
     "name": "stdout",
     "output_type": "stream",
     "text": [
      "\n",
      "Elapsed time in ppxf: 177.85 s\n",
      "----------------------------------------------------\n",
      "Iteration 0: Elapsed time in PPXF (single thread): 4.84 s\n",
      "----------------------------------------------------\n",
      "Iteration 1: Scaling noise by 1.4086...\n",
      "Iteration 1: Running ppxf on 20 threads...\n",
      "Iteration 1: Elapsed time in PPXF (multithreaded): 63.45 s\n",
      "Iteration 1: optimal regul = 0.00; Δm = 0.0130737; Δregul = 500.00 (Δregul_min = 1.00); Δχ (goal) - Δχ = 95.079\n",
      "----------------------------------------------------\n",
      "Iteration 2: Re-running ppxf on 20 threads (iteration 2)...\n",
      "Iteration 2: Elapsed time in PPXF (multithreaded): 56.88 s\n",
      "Iteration 2: optimal regul = 100.00; Δm = 1.48212e+10; Δregul = 100.00 (Δregul_min = 1.00); Δχ (goal) - Δχ = 12.157\n",
      "----------------------------------------------------\n",
      "Iteration 3: Re-running ppxf on 20 threads (iteration 3)...\n",
      "Iteration 3: Elapsed time in PPXF (multithreaded): 57.39 s\n",
      "Iteration 3: optimal regul = 80.00; Δm = 9.94774e+08; Δregul = 20.00 (Δregul_min = 1.00); Δχ (goal) - Δχ = 0.699\n",
      "----------------------------------------------------\n",
      "STOPPING: Convergence criterion reached; Δχ (goal) - Δχ = 0.6987600032298076; using 80.00 to produce the best fit\n",
      "Total time in run_ppxf: 183.88 seconds\n",
      "------------------------------------------------------------\n",
      "MC method:    mean mass-weighted age (log yr) = 7.44 ± 0.02\n",
      "Regul method: mean mass-weighted age (log yr) = 7.52\n",
      "Input value:  mean mass-weighted age (log yr) = 7.47)\n",
      "------------------------------------------------------------\n"
     ]
    },
    {
     "data": {
      "application/vnd.jupyter.widget-view+json": {
       "model_id": "e50e285ca3864d7aa79e0b0b9afd7ed8",
       "version_major": 2,
       "version_minor": 0
      },
      "text/plain": [
       "Canvas(toolbar=Toolbar(toolitems=[('Home', 'Reset original view', 'home', 'home'), ('Back', 'Back to previous …"
      ]
     },
     "metadata": {},
     "output_type": "display_data"
    },
    {
     "data": {
      "application/vnd.jupyter.widget-view+json": {
       "model_id": "1fba994995b446e394f3b2419f64cb0d",
       "version_major": 2,
       "version_minor": 0
      },
      "text/plain": [
       "Canvas(toolbar=Toolbar(toolitems=[('Home', 'Reset original view', 'home', 'home'), ('Back', 'Back to previous …"
      ]
     },
     "metadata": {},
     "output_type": "display_data"
    }
   ],
   "source": [
    "###########################################################################\n",
    "# Case 5: complex emission lines\n",
    "###########################################################################\n",
    "spec_elines, spec_elines_err, lambda_vals_A = create_mock_spectrum(\n",
    "    sfh_mass_weighted=sfh_mw_original,\n",
    "    ngascomponents=3, sigma_gas_kms=[40, 300, 2000], v_gas_kms=[0, -200, -1000], eline_model=[\"HII\", \"AGN\", \"BLR\"], L_Ha_erg_s=[1e40, 5e40, 1e40], \n",
    "    isochrones=isochrones, z=z, SNR=SNR, sigma_star_kms=sigma_star_kms,\n",
    "    plotit=True)\n",
    "\n",
    "helper_fn(spec_elines, spec_elines_err, lambda_vals_A, niters=100, nthreads=20, ngascomponents=3)"
   ]
  },
  {
   "cell_type": "code",
   "execution_count": null,
   "metadata": {},
   "outputs": [],
   "source": []
  }
 ],
 "metadata": {
  "kernelspec": {
   "display_name": "Python 3",
   "language": "python",
   "name": "python3"
  },
  "language_info": {
   "codemirror_mode": {
    "name": "ipython",
    "version": 3
   },
   "file_extension": ".py",
   "mimetype": "text/x-python",
   "name": "python",
   "nbconvert_exporter": "python",
   "pygments_lexer": "ipython3",
   "version": "3.7.4"
  }
 },
 "nbformat": 4,
 "nbformat_minor": 2
}
