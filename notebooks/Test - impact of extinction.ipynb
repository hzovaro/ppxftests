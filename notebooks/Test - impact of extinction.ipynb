{
 "cells": [
  {
   "cell_type": "markdown",
   "metadata": {},
   "source": [
    "# Test: the impact of extinction\n",
    "---\n",
    "Because extinction reduces the overall light, if it is not taken into account during the fit, then the SFH estimated by ppxf (particularly the stellar mass) may be inaccurate.\n",
    "* Test 1: extincted vs. non-extincted WITHOUT mpoly in ppxf: how does it fare?\n",
    "* Test 2: extincted vs. non-extincted WITH mpoly in ppxf: what does the best-fit polynomial look like? How accurate is the recovered SFH?\n"
   ]
  },
  {
   "cell_type": "code",
   "execution_count": 2,
   "metadata": {},
   "outputs": [],
   "source": [
    "%matplotlib widget"
   ]
  },
  {
   "cell_type": "code",
   "execution_count": 3,
   "metadata": {},
   "outputs": [
    {
     "data": {
      "text/html": [
       "<style>.container { width:75% !important; }</style>"
      ],
      "text/plain": [
       "<IPython.core.display.HTML object>"
      ]
     },
     "metadata": {},
     "output_type": "display_data"
    },
    {
     "data": {
      "text/html": [
       "<style>.output_result { max-width:75% !important; }</style>"
      ],
      "text/plain": [
       "<IPython.core.display.HTML object>"
      ]
     },
     "metadata": {},
     "output_type": "display_data"
    }
   ],
   "source": [
    "from IPython.core.display import display, HTML\n",
    "display(HTML(\"<style>.container { width:75% !important; }</style>\"))\n",
    "display(HTML(\"<style>.output_result { max-width:75% !important; }</style>\"))"
   ]
  },
  {
   "cell_type": "code",
   "execution_count": 4,
   "metadata": {},
   "outputs": [],
   "source": [
    "import os\n",
    "import numpy as np\n",
    "from numpy.random import RandomState\n",
    "from time import time \n",
    "from tqdm.notebook import tqdm\n",
    "from itertools import product\n",
    "import multiprocessing\n",
    "import pandas as pd\n",
    "import extinction\n",
    "\n",
    "from astropy.io import fits\n",
    "\n",
    "from ppxftests.run_ppxf import run_ppxf\n",
    "from ppxftests.ssputils import load_ssp_templates, get_bin_edges_and_widths\n",
    "from ppxftests.mockspec import create_mock_spectrum\n",
    "from ppxftests.sfhutils import load_sfh, compute_mw_age, compute_lw_age, compute_cumulative_mass, compute_cumulative_light\n",
    "from ppxftests.sfhutils import compute_mean_age, compute_mean_mass, compute_mean_sfr, compute_mean_1D_sfh\n",
    "from ppxftests.ppxf_plot import plot_sfh_mass_weighted, plot_sfh_light_weighted, ppxf_plot\n",
    "from ppxftests.plot_ppxf_summary import plot_ppxf_summary\n",
    "\n",
    "import matplotlib\n",
    "import matplotlib.pyplot as plt\n",
    "from matplotlib.backends.backend_pdf import PdfPages\n",
    "plt.ion()\n",
    "plt.close(\"all\")\n",
    "\n",
    "from IPython.core.debugger import Tracer\n",
    "\n",
    "fig_path = \"/priv/meggs3/u5708159/ppxftests/figs/\"\n",
    "data_path = \"/priv/meggs3/u5708159/ppxftests/\"\n"
   ]
  },
  {
   "cell_type": "code",
   "execution_count": 65,
   "metadata": {
    "scrolled": true
   },
   "outputs": [
    {
     "data": {
      "application/vnd.jupyter.widget-view+json": {
       "model_id": "7389b6d2fbd64805b1ef38ae2e8b720c",
       "version_major": 2,
       "version_minor": 0
      },
      "text/plain": [
       "Canvas(toolbar=Toolbar(toolitems=[('Home', 'Reset original view', 'home', 'home'), ('Back', 'Back to previous …"
      ]
     },
     "metadata": {},
     "output_type": "display_data"
    },
    {
     "data": {
      "application/vnd.jupyter.widget-view+json": {
       "model_id": "495902ceac684a4a8cae6d55ea12cb38",
       "version_major": 2,
       "version_minor": 0
      },
      "text/plain": [
       "Canvas(toolbar=Toolbar(toolitems=[('Home', 'Reset original view', 'home', 'home'), ('Back', 'Back to previous …"
      ]
     },
     "metadata": {},
     "output_type": "display_data"
    },
    {
     "name": "stderr",
     "output_type": "stream",
     "text": [
      "/home/u5708159/python/Modules/ppxftests/ppxf_plot.py:113: RuntimeWarning: More than 20 figures have been opened. Figures created through the pyplot interface (`matplotlib.pyplot.figure`) are retained until explicitly closed and may consume too much memory. (To control this warning, see the rcParam `figure.max_open_warning`).\n",
      "  fig = plt.figure(figsize=(10, 3.5))\n"
     ]
    },
    {
     "data": {
      "application/vnd.jupyter.widget-view+json": {
       "model_id": "9d1734180ebe45e481bae84b7d9df2be",
       "version_major": 2,
       "version_minor": 0
      },
      "text/plain": [
       "Canvas(toolbar=Toolbar(toolitems=[('Home', 'Reset original view', 'home', 'home'), ('Back', 'Back to previous …"
      ]
     },
     "metadata": {},
     "output_type": "display_data"
    },
    {
     "name": "stderr",
     "output_type": "stream",
     "text": [
      "/pkg/linux/anaconda-20191122/anaconda3/lib/python3.7/site-packages/ipykernel_launcher.py:43: RuntimeWarning: More than 20 figures have been opened. Figures created through the pyplot interface (`matplotlib.pyplot.figure`) are retained until explicitly closed and may consume too much memory. (To control this warning, see the rcParam `figure.max_open_warning`).\n"
     ]
    },
    {
     "data": {
      "application/vnd.jupyter.widget-view+json": {
       "model_id": "f476c8c709dc4593af28f6246ebe0ae8",
       "version_major": 2,
       "version_minor": 0
      },
      "text/plain": [
       "Canvas(toolbar=Toolbar(toolitems=[('Home', 'Reset original view', 'home', 'home'), ('Back', 'Back to previous …"
      ]
     },
     "metadata": {},
     "output_type": "display_data"
    },
    {
     "data": {
      "text/plain": [
       "[<matplotlib.legend.Legend at 0x7fed51121090>,\n",
       " <matplotlib.legend.Legend at 0x7fed514ef5d0>,\n",
       " <matplotlib.legend.Legend at 0x7fed511367d0>]"
      ]
     },
     "execution_count": 65,
     "metadata": {},
     "output_type": "execute_result"
    }
   ],
   "source": [
    "###############################################################################\n",
    "# Load a realistic SFH\n",
    "###############################################################################\n",
    "isochrones = \"Padova\"\n",
    "SNR = 100\n",
    "z = 0\n",
    "niters = 20\n",
    "nthreads = 20\n",
    "\n",
    "x_AGN_input=0.5\n",
    "alpha_nu_input=1.0\n",
    "\n",
    "gal = 10\n",
    "sfh_mw_input, sfh_lw_input, sfr_avg_input, sigma_star_kms = load_sfh(gal, plotit=True)\n",
    "M_tot = np.nansum(sfh_mw_input)\n",
    "\n",
    "###############################################################################\n",
    "# Create spectrum\n",
    "###############################################################################\n",
    "spec, spec_err, lambda_vals_A = create_mock_spectrum(\n",
    "    sfh_mass_weighted=sfh_mw_input,\n",
    "    agn_continuum=False,\n",
    "    isochrones=isochrones, z=z, SNR=SNR, sigma_star_kms=sigma_star_kms,\n",
    "    plotit=False)\n",
    "\n",
    "spec_agn, spec_agn_err, lambda_vals_A = create_mock_spectrum(\n",
    "    sfh_mass_weighted=sfh_mw_input,\n",
    "    agn_continuum=True, x_AGN=x_AGN_input, alpha_nu=alpha_nu_input,\n",
    "    isochrones=isochrones, z=z, SNR=SNR, sigma_star_kms=sigma_star_kms,\n",
    "    plotit=False)\n",
    "\n",
    "# Apply extinction\n",
    "A_V = 1.0\n",
    "A_vals = extinction.fm07(lambda_vals_A, a_v=A_V, unit=\"aa\")\n",
    "ext_factor = 10**(-0.4 * A_vals)\n",
    "\n",
    "spec_ext = spec * ext_factor\n",
    "spec_ext_err = spec_err * ext_factor\n",
    "spec_agn_ext = spec_agn * ext_factor\n",
    "spec_agn_ext_err = spec_agn_err * ext_factor\n",
    "\n",
    "# Plot \n",
    "fig, axs = plt.subplots(nrows=3, figsize=(15, 7.5))\n",
    "axs[0].plot(lambda_vals_A, spec, label=\"Stellar continuum - before applying extinction\")\n",
    "axs[0].plot(lambda_vals_A, spec_ext, label=\"Stellar continuum - after applying extinction\")\n",
    "axs[1].plot(lambda_vals_A, spec_agn, label=\"Stellar continuum with AGN - before applying extinction\")\n",
    "axs[1].plot(lambda_vals_A, spec_agn_ext, label=\"Stellar continuum with AGN - after applying extinction\")\n",
    "axs[2].plot(lambda_vals_A, ext_factor, label=\"Extinction factor\")\n",
    "[ax.legend() for ax in axs]\n"
   ]
  },
  {
   "cell_type": "code",
   "execution_count": 33,
   "metadata": {},
   "outputs": [],
   "source": [
    "###########################################################################\n",
    "# Helper function for running MC simulations\n",
    "###########################################################################\n",
    "def ppxf_helper(args):\n",
    "    # Unpack arguments\n",
    "    seed, spec, spec_err, lambda_vals_A, mdegree, reddening, fit_agn_cont = args\n",
    "    \n",
    "    # Add \"extra\" noise to the spectrum\n",
    "    rng = RandomState(seed)\n",
    "    noise = rng.normal(scale=spec_err)\n",
    "    spec_noise = spec + noise\n",
    "\n",
    "    # This is to mitigate the \"edge effects\" of the convolution with the LSF\n",
    "    spec_noise[0] = -9999\n",
    "    spec_noise[-1] = -9999\n",
    "\n",
    "    # Run ppxf\n",
    "    pp = run_ppxf(spec=spec_noise, spec_err=spec_err, lambda_vals_A=lambda_vals_A,\n",
    "                  z=z, ngascomponents=1, mdegree=mdegree, reddening=reddening,\n",
    "                  regularisation_method=\"none\",  \n",
    "                  fit_agn_cont=fit_agn_cont,\n",
    "                  isochrones=\"Padova\",\n",
    "                  fit_gas=False, tie_balmer=True,\n",
    "                  plotit=False, savefigs=False, interactive_mode=False)\n",
    "    return pp\n"
   ]
  },
  {
   "cell_type": "code",
   "execution_count": 49,
   "metadata": {},
   "outputs": [],
   "source": [
    "###########################################################################\n",
    "# Helper function for running our tests\n",
    "###########################################################################\n",
    "def test_helper(spec, spec_err, mdegree, reddening, fit_agn_cont):\n",
    "    # Input arguments\n",
    "    seeds = list(np.random.randint(low=0, high=100 * niters, size=niters))\n",
    "    args_list = [[s, spec, spec_err, lambda_vals_A, mdegree, reddening, fit_agn_cont] for s in seeds]\n",
    "\n",
    "    # Run in parallel\n",
    "    print(f\"Running ppxf on {nthreads} threads...\")\n",
    "    t = time()\n",
    "    with multiprocessing.Pool(nthreads) as pool:\n",
    "        pp_mc_list = list(tqdm(pool.imap(ppxf_helper, args_list), total=niters))\n",
    "    print(f\"Total time in ppxf: {time() - t:.2f} s\")\n",
    "\n",
    "    ###########################################################################\n",
    "    # Run ppxf with regularisation\n",
    "    ###########################################################################\n",
    "    t = time()\n",
    "    pp_regul = run_ppxf(spec=spec, spec_err=spec_err, lambda_vals_A=lambda_vals_A,\n",
    "                  z=z, ngascomponents=1, mdegree=mdegree, reddening=reddening,\n",
    "                  regularisation_method=\"auto\",\n",
    "                  fit_agn_cont=fit_agn_cont,\n",
    "                  isochrones=isochrones,\n",
    "                  fit_gas=False, tie_balmer=True,\n",
    "                  delta_regul_min=1, regul_max=5e4, delta_delta_chi2_min=1,\n",
    "                  plotit=False, savefigs=False, interactive_mode=False)\n",
    "    print(f\"Total time in run_ppxf: {time() - t:.2f} seconds\")\n",
    "\n",
    "    ###########################################################################\n",
    "    # Summary plots\n",
    "    ###########################################################################\n",
    "    plot_ppxf_summary(sfh_lw_input, sfh_mw_input, pp_regul, pp_mc_list, isochrones)\n",
    "\n",
    "    # Check the quality of the fit\n",
    "    ppxf_plot(pp_regul); plt.gcf().suptitle(f\"Regularised fit; mdegree={mdegree}; reddening={reddening}; fit_agn_cont={fit_agn_cont}\")\n",
    "    ppxf_plot(pp_mc_list[0]); plt.gcf().suptitle(f\"MC fit; mdegree={mdegree}; reddening={reddening}; fit_agn_cont={fit_agn_cont}\")\n",
    "    \n",
    "    return pp_regul, pp_mc_list\n"
   ]
  },
  {
   "cell_type": "markdown",
   "metadata": {},
   "source": [
    "### Spectrum: NO extinction; ppxf: NO mpoly fit"
   ]
  },
  {
   "cell_type": "code",
   "execution_count": 39,
   "metadata": {
    "scrolled": true
   },
   "outputs": [
    {
     "name": "stdout",
     "output_type": "stream",
     "text": [
      "Running ppxf on 20 threads...\n"
     ]
    },
    {
     "data": {
      "application/vnd.jupyter.widget-view+json": {
       "model_id": "44b0dba3bc6248099790e9c18615547a",
       "version_major": 2,
       "version_minor": 0
      },
      "text/plain": [
       "HBox(children=(IntProgress(value=0, max=20), HTML(value='')))"
      ]
     },
     "metadata": {},
     "output_type": "display_data"
    },
    {
     "name": "stdout",
     "output_type": "stream",
     "text": [
      "\n",
      "Total time in ppxf: 46.21 s\n",
      "----------------------------------------------------\n",
      "Iteration 0: Elapsed time in PPXF (single thread): 8.21 s\n",
      "----------------------------------------------------\n",
      "Iteration 1: Scaling noise by 1.3885...\n",
      "Iteration 1: Running ppxf on 20 threads...\n",
      "Iteration 1: Elapsed time in PPXF (multithreaded): 27.32 s\n",
      "Iteration 1: optimal regul = 50000.00; Δm = 2.89318e+11; Δregul = 2500.00 (Δregul_min = 1.00); Δχ (goal) - Δχ = 2.244\n",
      "----------------------------------------------------\n",
      "STOPPING: Optimal regul value is >= 50000.0; using 50000.00 to produce the best fit\n",
      "Total time in run_ppxf: 45.12 seconds\n"
     ]
    },
    {
     "data": {
      "application/vnd.jupyter.widget-view+json": {
       "model_id": "e7ded4a848cf42228d3c57871a3ca8be",
       "version_major": 2,
       "version_minor": 0
      },
      "text/plain": [
       "Canvas(toolbar=Toolbar(toolitems=[('Home', 'Reset original view', 'home', 'home'), ('Back', 'Back to previous …"
      ]
     },
     "metadata": {},
     "output_type": "display_data"
    },
    {
     "data": {
      "application/vnd.jupyter.widget-view+json": {
       "model_id": "9685bab772bf46bda67aaf87986b4a7c",
       "version_major": 2,
       "version_minor": 0
      },
      "text/plain": [
       "Canvas(toolbar=Toolbar(toolitems=[('Home', 'Reset original view', 'home', 'home'), ('Back', 'Back to previous …"
      ]
     },
     "metadata": {},
     "output_type": "display_data"
    },
    {
     "data": {
      "application/vnd.jupyter.widget-view+json": {
       "model_id": "e427204039f241a49a4581a556d6b593",
       "version_major": 2,
       "version_minor": 0
      },
      "text/plain": [
       "Canvas(toolbar=Toolbar(toolitems=[('Home', 'Reset original view', 'home', 'home'), ('Back', 'Back to previous …"
      ]
     },
     "metadata": {},
     "output_type": "display_data"
    },
    {
     "data": {
      "application/vnd.jupyter.widget-view+json": {
       "model_id": "879828477e2148cbb9704408daa5641e",
       "version_major": 2,
       "version_minor": 0
      },
      "text/plain": [
       "Canvas(toolbar=Toolbar(toolitems=[('Home', 'Reset original view', 'home', 'home'), ('Back', 'Back to previous …"
      ]
     },
     "metadata": {},
     "output_type": "display_data"
    },
    {
     "data": {
      "application/vnd.jupyter.widget-view+json": {
       "model_id": "3716e34b82a24ee692233d3f9f0c687f",
       "version_major": 2,
       "version_minor": 0
      },
      "text/plain": [
       "Canvas(toolbar=Toolbar(toolitems=[('Home', 'Reset original view', 'home', 'home'), ('Back', 'Back to previous …"
      ]
     },
     "metadata": {},
     "output_type": "display_data"
    },
    {
     "data": {
      "text/plain": [
       "(<ppxf.ppxf.ppxf at 0x7fed589a9e10>,\n",
       " [<ppxf.ppxf.ppxf at 0x7fed59e0bf50>,\n",
       "  <ppxf.ppxf.ppxf at 0x7fed59ff6bd0>,\n",
       "  <ppxf.ppxf.ppxf at 0x7fed59ff6d50>,\n",
       "  <ppxf.ppxf.ppxf at 0x7fed58982a50>,\n",
       "  <ppxf.ppxf.ppxf at 0x7fed58ab71d0>,\n",
       "  <ppxf.ppxf.ppxf at 0x7fed58a28190>,\n",
       "  <ppxf.ppxf.ppxf at 0x7fed59d757d0>,\n",
       "  <ppxf.ppxf.ppxf at 0x7fed5af0ea50>,\n",
       "  <ppxf.ppxf.ppxf at 0x7fed59e0bfd0>,\n",
       "  <ppxf.ppxf.ppxf at 0x7fed59e35c10>,\n",
       "  <ppxf.ppxf.ppxf at 0x7fed58982f50>,\n",
       "  <ppxf.ppxf.ppxf at 0x7fed59ea0710>,\n",
       "  <ppxf.ppxf.ppxf at 0x7fed59fcda10>,\n",
       "  <ppxf.ppxf.ppxf at 0x7fed589d0950>,\n",
       "  <ppxf.ppxf.ppxf at 0x7fed58a28bd0>,\n",
       "  <ppxf.ppxf.ppxf at 0x7fed59eb30d0>,\n",
       "  <ppxf.ppxf.ppxf at 0x7fed58a784d0>,\n",
       "  <ppxf.ppxf.ppxf at 0x7fed59e7ced0>,\n",
       "  <ppxf.ppxf.ppxf at 0x7fed59d75e90>,\n",
       "  <ppxf.ppxf.ppxf at 0x7fed59d75cd0>])"
      ]
     },
     "execution_count": 39,
     "metadata": {},
     "output_type": "execute_result"
    }
   ],
   "source": [
    "pp_regul, pp_mc_list = test_helper(spec=spec, spec_err=spec_err, mdegree=-1, reddening=None, fit_agn_cont=False)"
   ]
  },
  {
   "cell_type": "code",
   "execution_count": 85,
   "metadata": {},
   "outputs": [
    {
     "data": {
      "text/plain": [
       "50000.0"
      ]
     },
     "execution_count": 85,
     "metadata": {},
     "output_type": "execute_result"
    }
   ],
   "source": [
    "pp_regul.regul"
   ]
  },
  {
   "cell_type": "markdown",
   "metadata": {},
   "source": [
    "### Spectrum: WITH extinction; ppxf: NO mpoly fit"
   ]
  },
  {
   "cell_type": "code",
   "execution_count": 15,
   "metadata": {
    "scrolled": true
   },
   "outputs": [
    {
     "name": "stdout",
     "output_type": "stream",
     "text": [
      "Running ppxf on 20 threads...\n"
     ]
    },
    {
     "data": {
      "application/vnd.jupyter.widget-view+json": {
       "model_id": "b333a6caad624887b671b66a72ef5987",
       "version_major": 2,
       "version_minor": 0
      },
      "text/plain": [
       "HBox(children=(IntProgress(value=0, max=20), HTML(value='')))"
      ]
     },
     "metadata": {},
     "output_type": "display_data"
    },
    {
     "name": "stdout",
     "output_type": "stream",
     "text": [
      "\n",
      "Total time in ppxf: 24.70 s\n",
      "----------------------------------------------------\n",
      "Iteration 0: Elapsed time in PPXF (single thread): 4.30 s\n",
      "----------------------------------------------------\n",
      "Iteration 1: Scaling noise by 9.0103...\n",
      "Iteration 1: Running ppxf on 20 threads...\n",
      "Iteration 1: Elapsed time in PPXF (multithreaded): 22.33 s\n",
      "Iteration 1: optimal regul = 0.00; Δm = 0.00113064; Δregul = 500.00 (Δregul_min = 1.00); Δχ (goal) - Δχ = 95.079\n",
      "----------------------------------------------------\n",
      "Iteration 2: Re-running ppxf on 20 threads (iteration 2)...\n",
      "Iteration 2: Elapsed time in PPXF (multithreaded): 16.40 s\n",
      "Iteration 2: optimal regul = -1000.00; Δm = 0; Δregul = 100.00 (Δregul_min = 1.00); Δχ (goal) - Δχ = 95.079\n",
      "----------------------------------------------------\n",
      "Iteration 3: Re-running ppxf on 20 threads (iteration 3)...\n",
      "Iteration 3: Elapsed time in PPXF (multithreaded): 12.09 s\n",
      "Iteration 3: optimal regul = -1200.00; Δm = 0; Δregul = 20.00 (Δregul_min = 1.00); Δχ (goal) - Δχ = 95.079\n",
      "----------------------------------------------------\n",
      "Iteration 4: Re-running ppxf on 20 threads (iteration 4)...\n",
      "Iteration 4: Elapsed time in PPXF (multithreaded): 11.55 s\n",
      "Iteration 4: optimal regul = -1240.00; Δm = 0; Δregul = 4.00 (Δregul_min = 1.00); Δχ (goal) - Δχ = 95.079\n",
      "----------------------------------------------------\n",
      "Iteration 5: Re-running ppxf on 20 threads (iteration 5)...\n",
      "Iteration 5: Elapsed time in PPXF (multithreaded): 12.27 s\n",
      "Iteration 5: optimal regul = -1248.00; Δm = 0; Δregul = 0.80 (Δregul_min = 1.00); Δχ (goal) - Δχ = 95.079\n",
      "----------------------------------------------------\n",
      "STOPPING: Minimum spacing between regul values reached; using -1248.00 to produce the best fit\n",
      "Total time in run_ppxf: 84.09 seconds\n"
     ]
    },
    {
     "name": "stderr",
     "output_type": "stream",
     "text": [
      "/home/u5708159/python/Modules/ppxftests/sfhutils.py:316: RuntimeWarning: invalid value encountered in double_scalars\n",
      "  log_age_lw = np.nansum(sfh_lw_1D[age_thresh_lower_idx:age_thresh_upper_idx] * np.log10(ages[age_thresh_lower_idx:age_thresh_upper_idx])) / np.nansum(sfh_lw_1D[age_thresh_lower_idx:age_thresh_upper_idx])\n",
      "/home/u5708159/python/Modules/ppxftests/sfhutils.py:255: RuntimeWarning: invalid value encountered in double_scalars\n",
      "  log_age_mw = np.nansum(sfh_mw_1D[age_thresh_lower_idx:age_thresh_upper_idx] * np.log10(ages[age_thresh_lower_idx:age_thresh_upper_idx])) / np.nansum(sfh_mw_1D[age_thresh_lower_idx:age_thresh_upper_idx])\n"
     ]
    },
    {
     "data": {
      "application/vnd.jupyter.widget-view+json": {
       "model_id": "b32f769ddc1c4796b90da971eb892004",
       "version_major": 2,
       "version_minor": 0
      },
      "text/plain": [
       "Canvas(toolbar=Toolbar(toolitems=[('Home', 'Reset original view', 'home', 'home'), ('Back', 'Back to previous …"
      ]
     },
     "metadata": {},
     "output_type": "display_data"
    },
    {
     "data": {
      "application/vnd.jupyter.widget-view+json": {
       "model_id": "6a76434a955343418065998ba37d097f",
       "version_major": 2,
       "version_minor": 0
      },
      "text/plain": [
       "Canvas(toolbar=Toolbar(toolitems=[('Home', 'Reset original view', 'home', 'home'), ('Back', 'Back to previous …"
      ]
     },
     "metadata": {},
     "output_type": "display_data"
    },
    {
     "data": {
      "application/vnd.jupyter.widget-view+json": {
       "model_id": "b347edd6e67949fa9a1b78fab0f9f030",
       "version_major": 2,
       "version_minor": 0
      },
      "text/plain": [
       "Canvas(toolbar=Toolbar(toolitems=[('Home', 'Reset original view', 'home', 'home'), ('Back', 'Back to previous …"
      ]
     },
     "metadata": {},
     "output_type": "display_data"
    },
    {
     "data": {
      "application/vnd.jupyter.widget-view+json": {
       "model_id": "57add9af1bf946989681887d6d71609c",
       "version_major": 2,
       "version_minor": 0
      },
      "text/plain": [
       "Canvas(toolbar=Toolbar(toolitems=[('Home', 'Reset original view', 'home', 'home'), ('Back', 'Back to previous …"
      ]
     },
     "metadata": {},
     "output_type": "display_data"
    },
    {
     "data": {
      "application/vnd.jupyter.widget-view+json": {
       "model_id": "56f4b89babd54dbfa38217a26450e938",
       "version_major": 2,
       "version_minor": 0
      },
      "text/plain": [
       "Canvas(toolbar=Toolbar(toolitems=[('Home', 'Reset original view', 'home', 'home'), ('Back', 'Back to previous …"
      ]
     },
     "metadata": {},
     "output_type": "display_data"
    },
    {
     "data": {
      "text/plain": [
       "Text(0.5, 0.98, 'WITH extinction; NO multiplicative polynomial in fit (MC)')"
      ]
     },
     "execution_count": 15,
     "metadata": {},
     "output_type": "execute_result"
    }
   ],
   "source": [
    "pp_regul, pp_mc_list = test_helper(spec=spec_ext, spec_err=spec_ext_err, mdegree=-1, reddening=None, fit_agn_cont=False)"
   ]
  },
  {
   "cell_type": "markdown",
   "metadata": {},
   "source": [
    "### Spectrum: WITH extinction; ppxf: WITH mpoly fit"
   ]
  },
  {
   "cell_type": "code",
   "execution_count": 16,
   "metadata": {
    "scrolled": true
   },
   "outputs": [
    {
     "name": "stdout",
     "output_type": "stream",
     "text": [
      "Running ppxf on 20 threads...\n"
     ]
    },
    {
     "data": {
      "application/vnd.jupyter.widget-view+json": {
       "model_id": "a516e5d02448459eb175b1e41ccb5311",
       "version_major": 2,
       "version_minor": 0
      },
      "text/plain": [
       "HBox(children=(IntProgress(value=0, max=20), HTML(value='')))"
      ]
     },
     "metadata": {},
     "output_type": "display_data"
    },
    {
     "name": "stdout",
     "output_type": "stream",
     "text": [
      "\n",
      "Total time in ppxf: 72.61 s\n",
      "----------------------------------------------------\n",
      "Iteration 0: Elapsed time in PPXF (single thread): 6.58 s\n",
      "----------------------------------------------------\n",
      "Iteration 1: Scaling noise by 1.3790...\n",
      "Iteration 1: Running ppxf on 20 threads...\n",
      "Iteration 1: Elapsed time in PPXF (multithreaded): 107.20 s\n",
      "Iteration 1: optimal regul = 10000.00; Δm = 8.79927e+10; Δregul = 500.00 (Δregul_min = 1.00); Δχ (goal) - Δχ = 27.216\n",
      "----------------------------------------------------\n",
      "Iteration 2: Re-running ppxf on 20 threads (iteration 2)...\n",
      "Iteration 2: Elapsed time in PPXF (multithreaded): 117.80 s\n",
      "Iteration 2: optimal regul = 20000.00; Δm = 5.89922e+08; Δregul = 500.00 (Δregul_min = 1.00); Δχ (goal) - Δχ = 18.819\n",
      "----------------------------------------------------\n",
      "Iteration 3: Re-running ppxf on 20 threads (iteration 3)...\n",
      "Iteration 3: Elapsed time in PPXF (multithreaded): 106.11 s\n",
      "Iteration 3: optimal regul = 30000.00; Δm = 3.717e+08; Δregul = 500.00 (Δregul_min = 1.00); Δχ (goal) - Δχ = 12.170\n",
      "----------------------------------------------------\n",
      "Iteration 4: Re-running ppxf on 20 threads (iteration 4)...\n",
      "Iteration 4: Elapsed time in PPXF (multithreaded): 196.64 s\n",
      "Iteration 4: optimal regul = 40000.00; Δm = 1.23733e+08; Δregul = 500.00 (Δregul_min = 1.00); Δχ (goal) - Δχ = 6.883\n",
      "----------------------------------------------------\n",
      "Iteration 5: Re-running ppxf on 20 threads (iteration 5)...\n",
      "Iteration 5: Elapsed time in PPXF (multithreaded): 143.89 s\n",
      "Iteration 5: optimal regul = 50000.00; Δm = 1.48534e+08; Δregul = 500.00 (Δregul_min = 1.00); Δχ (goal) - Δχ = 2.926\n",
      "----------------------------------------------------\n",
      "STOPPING: Optimal regul value is >= 50000.0; using 50000.00 to produce the best fit\n",
      "Total time in run_ppxf: 680.35 seconds\n"
     ]
    },
    {
     "data": {
      "application/vnd.jupyter.widget-view+json": {
       "model_id": "da5a97ea4d2e40c19b0d79f443bd9947",
       "version_major": 2,
       "version_minor": 0
      },
      "text/plain": [
       "Canvas(toolbar=Toolbar(toolitems=[('Home', 'Reset original view', 'home', 'home'), ('Back', 'Back to previous …"
      ]
     },
     "metadata": {},
     "output_type": "display_data"
    },
    {
     "data": {
      "application/vnd.jupyter.widget-view+json": {
       "model_id": "00e72fbca66f4d60b6177e804807122e",
       "version_major": 2,
       "version_minor": 0
      },
      "text/plain": [
       "Canvas(toolbar=Toolbar(toolitems=[('Home', 'Reset original view', 'home', 'home'), ('Back', 'Back to previous …"
      ]
     },
     "metadata": {},
     "output_type": "display_data"
    },
    {
     "data": {
      "application/vnd.jupyter.widget-view+json": {
       "model_id": "61d6908db09a4da69c03af830b5a9c53",
       "version_major": 2,
       "version_minor": 0
      },
      "text/plain": [
       "Canvas(toolbar=Toolbar(toolitems=[('Home', 'Reset original view', 'home', 'home'), ('Back', 'Back to previous …"
      ]
     },
     "metadata": {},
     "output_type": "display_data"
    },
    {
     "data": {
      "application/vnd.jupyter.widget-view+json": {
       "model_id": "4dc380450df64e2fb8e38068e3ff8a58",
       "version_major": 2,
       "version_minor": 0
      },
      "text/plain": [
       "Canvas(toolbar=Toolbar(toolitems=[('Home', 'Reset original view', 'home', 'home'), ('Back', 'Back to previous …"
      ]
     },
     "metadata": {},
     "output_type": "display_data"
    },
    {
     "data": {
      "application/vnd.jupyter.widget-view+json": {
       "model_id": "db9b53658706480788383444d1cdaa2d",
       "version_major": 2,
       "version_minor": 0
      },
      "text/plain": [
       "Canvas(toolbar=Toolbar(toolitems=[('Home', 'Reset original view', 'home', 'home'), ('Back', 'Back to previous …"
      ]
     },
     "metadata": {},
     "output_type": "display_data"
    },
    {
     "data": {
      "text/plain": [
       "Text(0.5, 0.98, 'WITH extinction; NO multiplicative polynomial in fit (MC)')"
      ]
     },
     "execution_count": 16,
     "metadata": {},
     "output_type": "execute_result"
    }
   ],
   "source": [
    "pp_regul, pp_mc_list = test_helper(spec=spec_ext, spec_err=spec_ext_err, mdegree=4, reddening=None, fit_agn_cont=False)"
   ]
  },
  {
   "cell_type": "code",
   "execution_count": 25,
   "metadata": {
    "scrolled": true
   },
   "outputs": [
    {
     "name": "stderr",
     "output_type": "stream",
     "text": [
      "/pkg/linux/anaconda-20191122/anaconda3/lib/python3.7/site-packages/ipykernel_launcher.py:2: RuntimeWarning: More than 20 figures have been opened. Figures created through the pyplot interface (`matplotlib.pyplot.figure`) are retained until explicitly closed and may consume too much memory. (To control this warning, see the rcParam `figure.max_open_warning`).\n",
      "  \n"
     ]
    },
    {
     "data": {
      "application/vnd.jupyter.widget-view+json": {
       "model_id": "200a1f001e294016b876c367e4a0862a",
       "version_major": 2,
       "version_minor": 0
      },
      "text/plain": [
       "Canvas(toolbar=Toolbar(toolitems=[('Home', 'Reset original view', 'home', 'home'), ('Back', 'Back to previous …"
      ]
     },
     "metadata": {},
     "output_type": "display_data"
    },
    {
     "data": {
      "text/plain": [
       "Text(0.5, 0, '$\\\\lambda$ (Å)')"
      ]
     },
     "execution_count": 25,
     "metadata": {},
     "output_type": "execute_result"
    }
   ],
   "source": [
    "# Compare the extinction curve with the polynomial from ppxf \n",
    "fig, ax = plt.subplots(figsize=(10, 5))\n",
    "ax.plot(lambda_vals_A, ext_factor, color=\"black\", label=r\"$10^{-0.4 A_V}$\")\n",
    "ax.plot(lambda_vals_A, ext_factor / np.nanmean(ext_factor), color=\"grey\", label=r\"$10^{-0.4 A_V}$ (normalised)\")\n",
    "for pp in pp_mc_list:\n",
    "    ax.plot(pp.lam, pp.mpoly, alpha=0.2, color=\"pink\", label=\"mpoly (MC)\" if pp == pp_mc_list[0] else None)\n",
    "ax.plot(pp_regul.lam, pp_regul.mpoly, color=\"maroon\", label=\"mpoly (regularised)\")\n",
    "ax.legend()\n",
    "ax.set_xlabel(r\"$\\lambda$ (Å)\")"
   ]
  },
  {
   "cell_type": "markdown",
   "metadata": {},
   "source": [
    "### Remarks \n",
    "---\n",
    "* The shape of the multiplicative polynomial is pretty bang-on.\n",
    "* The LW and MW age estimates are both pretty accurate.\n",
    "* *But...* the *absolute value* of the polynomial is way off. This must be because the multiplicative polynomial is designed to correct for small calibration errors, and so assumes that the *total* flux is fairly accurate. From the ppxf documentation: **MDEGREE: degree of the *multiplicative* Legendre polynomial (with mean of 1) used to correct the continuum shape during the fit (default: 0)**\n",
    "* This means that the total MASS estimate is quite off."
   ]
  },
  {
   "cell_type": "markdown",
   "metadata": {},
   "source": [
    "### Spectrum: WITH extinction; ppxf: WITH extinction keyword"
   ]
  },
  {
   "cell_type": "code",
   "execution_count": 28,
   "metadata": {
    "scrolled": false
   },
   "outputs": [
    {
     "name": "stdout",
     "output_type": "stream",
     "text": [
      "Running ppxf on 20 threads...\n"
     ]
    },
    {
     "data": {
      "application/vnd.jupyter.widget-view+json": {
       "model_id": "4329ead3939b46fab00cc29ca15cfdc7",
       "version_major": 2,
       "version_minor": 0
      },
      "text/plain": [
       "HBox(children=(IntProgress(value=0, max=20), HTML(value='')))"
      ]
     },
     "metadata": {},
     "output_type": "display_data"
    },
    {
     "name": "stdout",
     "output_type": "stream",
     "text": [
      "\n",
      "Total time in ppxf: 47.20 s\n",
      "----------------------------------------------------\n",
      "Iteration 0: Elapsed time in PPXF (single thread): 4.72 s\n",
      "----------------------------------------------------\n",
      "Iteration 1: Scaling noise by 1.3751...\n",
      "Iteration 1: Running ppxf on 20 threads...\n",
      "Iteration 1: Elapsed time in PPXF (multithreaded): 46.06 s\n",
      "Iteration 1: optimal regul = 10000.00; Δm = 2.55497e+11; Δregul = 500.00 (Δregul_min = 1.00); Δχ (goal) - Δχ = 44.697\n",
      "----------------------------------------------------\n",
      "Iteration 2: Re-running ppxf on 20 threads (iteration 2)...\n",
      "Iteration 2: Elapsed time in PPXF (multithreaded): 102.78 s\n",
      "Iteration 2: optimal regul = 20000.00; Δm = 8.26014e+08; Δregul = 500.00 (Δregul_min = 1.00); Δχ (goal) - Δχ = 33.189\n",
      "----------------------------------------------------\n",
      "Iteration 3: Re-running ppxf on 20 threads (iteration 3)...\n",
      "Iteration 3: Elapsed time in PPXF (multithreaded): 118.42 s\n",
      "Iteration 3: optimal regul = 30000.00; Δm = 1.92922e+08; Δregul = 500.00 (Δregul_min = 1.00); Δχ (goal) - Δχ = 28.118\n",
      "----------------------------------------------------\n",
      "Iteration 4: Re-running ppxf on 20 threads (iteration 4)...\n",
      "Iteration 4: Elapsed time in PPXF (multithreaded): 62.34 s\n",
      "Iteration 4: optimal regul = 40000.00; Δm = 9.38614e+07; Δregul = 500.00 (Δregul_min = 1.00); Δχ (goal) - Δχ = 25.523\n",
      "----------------------------------------------------\n",
      "Iteration 5: Re-running ppxf on 20 threads (iteration 5)...\n",
      "Iteration 5: Elapsed time in PPXF (multithreaded): 69.42 s\n",
      "Iteration 5: optimal regul = 50000.00; Δm = 1.04405e+08; Δregul = 500.00 (Δregul_min = 1.00); Δχ (goal) - Δχ = 23.565\n",
      "----------------------------------------------------\n",
      "STOPPING: Optimal regul value is >= 50000.0; using 50000.00 to produce the best fit\n",
      "Total time in run_ppxf: 406.77 seconds\n"
     ]
    },
    {
     "data": {
      "application/vnd.jupyter.widget-view+json": {
       "model_id": "4685e3c75d564f2da3275a6da1ef39ae",
       "version_major": 2,
       "version_minor": 0
      },
      "text/plain": [
       "Canvas(toolbar=Toolbar(toolitems=[('Home', 'Reset original view', 'home', 'home'), ('Back', 'Back to previous …"
      ]
     },
     "metadata": {},
     "output_type": "display_data"
    },
    {
     "data": {
      "application/vnd.jupyter.widget-view+json": {
       "model_id": "862b0d8db2bc45b7a1574b368d3da953",
       "version_major": 2,
       "version_minor": 0
      },
      "text/plain": [
       "Canvas(toolbar=Toolbar(toolitems=[('Home', 'Reset original view', 'home', 'home'), ('Back', 'Back to previous …"
      ]
     },
     "metadata": {},
     "output_type": "display_data"
    },
    {
     "data": {
      "application/vnd.jupyter.widget-view+json": {
       "model_id": "5cfdbc49ffe34d98b404902f75c48ed3",
       "version_major": 2,
       "version_minor": 0
      },
      "text/plain": [
       "Canvas(toolbar=Toolbar(toolitems=[('Home', 'Reset original view', 'home', 'home'), ('Back', 'Back to previous …"
      ]
     },
     "metadata": {},
     "output_type": "display_data"
    },
    {
     "data": {
      "application/vnd.jupyter.widget-view+json": {
       "model_id": "6d2ed65ee2604342af975b7ad5466d74",
       "version_major": 2,
       "version_minor": 0
      },
      "text/plain": [
       "Canvas(toolbar=Toolbar(toolitems=[('Home', 'Reset original view', 'home', 'home'), ('Back', 'Back to previous …"
      ]
     },
     "metadata": {},
     "output_type": "display_data"
    },
    {
     "data": {
      "application/vnd.jupyter.widget-view+json": {
       "model_id": "e3e36bc4faa240a8836b672a0ceea874",
       "version_major": 2,
       "version_minor": 0
      },
      "text/plain": [
       "Canvas(toolbar=Toolbar(toolitems=[('Home', 'Reset original view', 'home', 'home'), ('Back', 'Back to previous …"
      ]
     },
     "metadata": {},
     "output_type": "display_data"
    },
    {
     "data": {
      "text/plain": [
       "Text(0.5, 0.98, 'WITH extinction; WITH extinction correction in fit (MC)')"
      ]
     },
     "execution_count": 28,
     "metadata": {},
     "output_type": "execute_result"
    }
   ],
   "source": [
    "pp_regul, pp_mc_list = test_helper(spec=spec_ext, spec_err=spec_ext_err, mdegree=-1, reddening=3.0, fit_agn_cont=False)"
   ]
  },
  {
   "cell_type": "code",
   "execution_count": 30,
   "metadata": {
    "scrolled": true
   },
   "outputs": [
    {
     "data": {
      "application/vnd.jupyter.widget-view+json": {
       "model_id": "f8be3a6c56714a9fbd35aa60b9c7c9ff",
       "version_major": 2,
       "version_minor": 0
      },
      "text/plain": [
       "Canvas(toolbar=Toolbar(toolitems=[('Home', 'Reset original view', 'home', 'home'), ('Back', 'Back to previous …"
      ]
     },
     "metadata": {},
     "output_type": "display_data"
    },
    {
     "data": {
      "text/plain": [
       "Text(0.5, 0, '$\\\\lambda$ (Å)')"
      ]
     },
     "execution_count": 30,
     "metadata": {},
     "output_type": "execute_result"
    }
   ],
   "source": [
    "# Compare the extinction curve with the polynomial from ppxf \n",
    "fig, ax = plt.subplots(figsize=(10, 5))\n",
    "ax.plot(lambda_vals_A, ext_factor, color=\"black\", label=r\"$10^{-0.4 A_V}$\")\n",
    "# ax.plot(lambda_vals_A, ext_factor / np.nanmean(ext_factor), color=\"grey\", label=r\"$10^{-0.4 A_V}$ (normalised)\")\n",
    "for pp in pp_mc_list:\n",
    "    ax.plot(pp.lam, pp.mpoly, alpha=0.2, color=\"pink\", label=\"mpoly (MC)\" if pp == pp_mc_list[0] else None)\n",
    "ax.plot(pp_regul.lam, pp_regul.mpoly, color=\"maroon\", label=\"mpoly (regularised)\")\n",
    "ax.legend()\n",
    "ax.set_xlabel(r\"$\\lambda$ (Å)\")"
   ]
  },
  {
   "cell_type": "markdown",
   "metadata": {},
   "source": [
    "### Spectrum: WITH extinction; ppxf: WITH mpoly fit; WITH AGN continuum\n",
    "* does ppxf accurately recover the AGN continuum?"
   ]
  },
  {
   "cell_type": "code",
   "execution_count": 83,
   "metadata": {
    "scrolled": false
   },
   "outputs": [
    {
     "name": "stdout",
     "output_type": "stream",
     "text": [
      "Running ppxf on 20 threads...\n"
     ]
    },
    {
     "data": {
      "application/vnd.jupyter.widget-view+json": {
       "model_id": "8ba268e68bf84ea28eff409a6bd59145",
       "version_major": 2,
       "version_minor": 0
      },
      "text/plain": [
       "HBox(children=(IntProgress(value=0, max=20), HTML(value='')))"
      ]
     },
     "metadata": {},
     "output_type": "display_data"
    },
    {
     "name": "stdout",
     "output_type": "stream",
     "text": [
      "\n",
      "Total time in ppxf: 68.36 s\n",
      "----------------------------------------------------\n",
      "Iteration 0: Elapsed time in PPXF (single thread): 6.52 s\n",
      "----------------------------------------------------\n",
      "Iteration 1: Scaling noise by 1.3748...\n",
      "Iteration 1: Running ppxf on 20 threads...\n",
      "Iteration 1: Elapsed time in PPXF (multithreaded): 206.08 s\n",
      "Iteration 1: optimal regul = 10000.00; Δm = 1.18237e+11; Δregul = 500.00 (Δregul_min = 1.00); Δχ (goal) - Δχ = 62.308\n",
      "----------------------------------------------------\n",
      "Iteration 2: Re-running ppxf on 20 threads (iteration 2)...\n",
      "Iteration 2: Elapsed time in PPXF (multithreaded): 133.02 s\n",
      "Iteration 2: optimal regul = 20000.00; Δm = 5.97673e+08; Δregul = 500.00 (Δregul_min = 1.00); Δχ (goal) - Δχ = 59.312\n",
      "----------------------------------------------------\n",
      "Iteration 3: Re-running ppxf on 20 threads (iteration 3)...\n",
      "Iteration 3: Elapsed time in PPXF (multithreaded): 180.80 s\n",
      "Iteration 3: optimal regul = 29500.00; Δm = 6.62802e+08; Δregul = 500.00 (Δregul_min = 1.00); Δχ (goal) - Δχ = 56.385\n",
      "----------------------------------------------------\n",
      "Iteration 4: Re-running ppxf on 20 threads (iteration 4)...\n",
      "Iteration 4: Elapsed time in PPXF (multithreaded): 212.21 s\n",
      "Iteration 4: optimal regul = 30500.00; Δm = 8.42468e+07; Δregul = 100.00 (Δregul_min = 1.00); Δχ (goal) - Δχ = 56.095\n",
      "----------------------------------------------------\n",
      "Iteration 5: Re-running ppxf on 20 threads (iteration 5)...\n",
      "Iteration 5: Elapsed time in PPXF (multithreaded): 160.49 s\n",
      "Iteration 5: optimal regul = 32500.00; Δm = 2.84149e+08; Δregul = 100.00 (Δregul_min = 1.00); Δχ (goal) - Δχ = 55.013\n",
      "----------------------------------------------------\n",
      "Iteration 6: Re-running ppxf on 20 threads (iteration 6)...\n",
      "Iteration 6: Elapsed time in PPXF (multithreaded): 171.99 s\n",
      "Iteration 6: optimal regul = 34500.00; Δm = 1.3693e+08; Δregul = 100.00 (Δregul_min = 1.00); Δχ (goal) - Δχ = 54.392\n",
      "----------------------------------------------------\n",
      "Iteration 7: Re-running ppxf on 20 threads (iteration 7)...\n",
      "Iteration 7: Elapsed time in PPXF (multithreaded): 162.73 s\n",
      "Iteration 7: optimal regul = 36500.00; Δm = 1.44601e+08; Δregul = 100.00 (Δregul_min = 1.00); Δχ (goal) - Δχ = 53.874\n",
      "----------------------------------------------------\n",
      "Iteration 8: Re-running ppxf on 20 threads (iteration 8)...\n",
      "Iteration 8: Elapsed time in PPXF (multithreaded): 142.33 s\n",
      "Iteration 8: optimal regul = 38500.00; Δm = 1.39345e+08; Δregul = 100.00 (Δregul_min = 1.00); Δχ (goal) - Δχ = 53.393\n",
      "----------------------------------------------------\n",
      "Iteration 9: Re-running ppxf on 20 threads (iteration 9)...\n",
      "Iteration 9: Elapsed time in PPXF (multithreaded): 138.13 s\n",
      "Iteration 9: optimal regul = 40500.00; Δm = 1.34075e+08; Δregul = 100.00 (Δregul_min = 1.00); Δχ (goal) - Δχ = 52.950\n",
      "----------------------------------------------------\n",
      "Iteration 10: Re-running ppxf on 20 threads (iteration 10)...\n",
      "Iteration 10: Elapsed time in PPXF (multithreaded): 126.26 s\n",
      "Iteration 10: optimal regul = 42500.00; Δm = 1.28267e+08; Δregul = 100.00 (Δregul_min = 1.00); Δχ (goal) - Δχ = 52.541\n",
      "----------------------------------------------------\n",
      "Iteration 11: Re-running ppxf on 20 threads (iteration 11)...\n"
     ]
    },
    {
     "name": "stderr",
     "output_type": "stream",
     "text": [
      "Process ForkPoolWorker-1121:\n",
      "Process ForkPoolWorker-1140:\n",
      "Process ForkPoolWorker-1136:\n",
      "Process ForkPoolWorker-1135:\n",
      "Traceback (most recent call last):\n",
      "Traceback (most recent call last):\n",
      "  File \"/pkg/linux/anaconda-20191122/anaconda3/lib/python3.7/multiprocessing/process.py\", line 297, in _bootstrap\n",
      "    self.run()\n",
      "Traceback (most recent call last):\n",
      "Traceback (most recent call last):\n",
      "  File \"/pkg/linux/anaconda-20191122/anaconda3/lib/python3.7/multiprocessing/process.py\", line 99, in run\n",
      "    self._target(*self._args, **self._kwargs)\n",
      "  File \"/pkg/linux/anaconda-20191122/anaconda3/lib/python3.7/multiprocessing/process.py\", line 297, in _bootstrap\n",
      "    self.run()\n",
      "  File \"/pkg/linux/anaconda-20191122/anaconda3/lib/python3.7/multiprocessing/process.py\", line 99, in run\n",
      "    self._target(*self._args, **self._kwargs)\n",
      "  File \"/pkg/linux/anaconda-20191122/anaconda3/lib/python3.7/multiprocessing/pool.py\", line 121, in worker\n",
      "    result = (True, func(*args, **kwds))\n",
      "  File \"/pkg/linux/anaconda-20191122/anaconda3/lib/python3.7/multiprocessing/pool.py\", line 44, in mapstar\n",
      "    return list(map(*args))\n",
      "  File \"/home/u5708159/python/Modules/ppxftests/run_ppxf.py\", line 199, in ppxf_helper\n",
      "    quiet=True)\n",
      "  File \"/home/u5708159/python/Modules/ppxf/ppxf.py\", line 1471, in __init__\n",
      "    params, perror = self.nonlinear_fit(start1, bounds, fixed, tied, clean)\n",
      "  File \"/home/u5708159/python/Modules/ppxf/ppxf.py\", line 1558, in nonlinear_fit\n",
      "    x_scale='jac', tied=tied, fixed=fixed)\n",
      "  File \"/home/u5708159/python/Modules/ppxf/capfit.py\", line 138, in __init__\n",
      "    h = optimize.lsq_linear(A, b, bounds=bounds-p1, method='bvls').x\n",
      "  File \"/pkg/linux/anaconda-20191122/anaconda3/lib/python3.7/site-packages/scipy/optimize/_lsq/lsq_linear.py\", line 278, in lsq_linear\n",
      "    x_lsq = np.linalg.lstsq(A, b, rcond=-1)[0]\n",
      "  File \"<__array_function__ internals>\", line 6, in lstsq\n",
      "  File \"/pkg/linux/anaconda-20191122/anaconda3/lib/python3.7/site-packages/numpy/linalg/linalg.py\", line 2268, in lstsq\n",
      "    x, resids, rank, s = gufunc(a, b, rcond, signature=signature, extobj=extobj)\n",
      "  File \"/pkg/linux/anaconda-20191122/anaconda3/lib/python3.7/multiprocessing/pool.py\", line 121, in worker\n",
      "    result = (True, func(*args, **kwds))\n",
      "KeyboardInterrupt\n",
      "  File \"/home/u5708159/python/Modules/ppxftests/run_ppxf.py\", line 199, in ppxf_helper\n",
      "    quiet=True)\n",
      "  File \"/pkg/linux/anaconda-20191122/anaconda3/lib/python3.7/multiprocessing/pool.py\", line 44, in mapstar\n",
      "    return list(map(*args))\n"
     ]
    },
    {
     "ename": "KeyboardInterrupt",
     "evalue": "",
     "output_type": "error",
     "traceback": [
      "\u001b[0;31m---------------------------------------------------------------------------\u001b[0m",
      "\u001b[0;31mKeyboardInterrupt\u001b[0m                         Traceback (most recent call last)",
      "\u001b[0;32m<ipython-input-83-8de559e87b11>\u001b[0m in \u001b[0;36m<module>\u001b[0;34m\u001b[0m\n\u001b[0;32m----> 1\u001b[0;31m \u001b[0mpp_mpoly_regul\u001b[0m\u001b[0;34m,\u001b[0m \u001b[0mpp_mpoly_mc_list\u001b[0m \u001b[0;34m=\u001b[0m \u001b[0mtest_helper\u001b[0m\u001b[0;34m(\u001b[0m\u001b[0mspec\u001b[0m\u001b[0;34m=\u001b[0m\u001b[0mspec_agn_ext\u001b[0m\u001b[0;34m,\u001b[0m \u001b[0mspec_err\u001b[0m\u001b[0;34m=\u001b[0m\u001b[0mspec_agn_ext_err\u001b[0m\u001b[0;34m,\u001b[0m \u001b[0mmdegree\u001b[0m\u001b[0;34m=\u001b[0m\u001b[0;36m4\u001b[0m\u001b[0;34m,\u001b[0m \u001b[0mreddening\u001b[0m\u001b[0;34m=\u001b[0m\u001b[0;32mNone\u001b[0m\u001b[0;34m,\u001b[0m \u001b[0mfit_agn_cont\u001b[0m\u001b[0;34m=\u001b[0m\u001b[0;32mTrue\u001b[0m\u001b[0;34m)\u001b[0m\u001b[0;34m\u001b[0m\u001b[0;34m\u001b[0m\u001b[0m\n\u001b[0m",
      "\u001b[0;32m<ipython-input-49-864cd6bc2608>\u001b[0m in \u001b[0;36mtest_helper\u001b[0;34m(spec, spec_err, mdegree, reddening, fit_agn_cont)\u001b[0m\n\u001b[1;32m     25\u001b[0m                   \u001b[0mfit_gas\u001b[0m\u001b[0;34m=\u001b[0m\u001b[0;32mFalse\u001b[0m\u001b[0;34m,\u001b[0m \u001b[0mtie_balmer\u001b[0m\u001b[0;34m=\u001b[0m\u001b[0;32mTrue\u001b[0m\u001b[0;34m,\u001b[0m\u001b[0;34m\u001b[0m\u001b[0;34m\u001b[0m\u001b[0m\n\u001b[1;32m     26\u001b[0m                   \u001b[0mdelta_regul_min\u001b[0m\u001b[0;34m=\u001b[0m\u001b[0;36m1\u001b[0m\u001b[0;34m,\u001b[0m \u001b[0mregul_max\u001b[0m\u001b[0;34m=\u001b[0m\u001b[0;36m5e4\u001b[0m\u001b[0;34m,\u001b[0m \u001b[0mdelta_delta_chi2_min\u001b[0m\u001b[0;34m=\u001b[0m\u001b[0;36m1\u001b[0m\u001b[0;34m,\u001b[0m\u001b[0;34m\u001b[0m\u001b[0;34m\u001b[0m\u001b[0m\n\u001b[0;32m---> 27\u001b[0;31m                   plotit=False, savefigs=False, interactive_mode=False)\n\u001b[0m\u001b[1;32m     28\u001b[0m     \u001b[0mprint\u001b[0m\u001b[0;34m(\u001b[0m\u001b[0;34mf\"Total time in run_ppxf: {time() - t:.2f} seconds\"\u001b[0m\u001b[0;34m)\u001b[0m\u001b[0;34m\u001b[0m\u001b[0;34m\u001b[0m\u001b[0m\n\u001b[1;32m     29\u001b[0m \u001b[0;34m\u001b[0m\u001b[0m\n",
      "\u001b[0;32m~/python/Modules/ppxftests/run_ppxf.py\u001b[0m in \u001b[0;36mrun_ppxf\u001b[0;34m(spec, spec_err, lambda_vals_A, z, ngascomponents, tie_balmer, isochrones, metals_to_use, fit_agn_cont, alpha_nu_vals, fit_gas, mdegree, adegree, reddening, FWHM_inst_A, bad_pixel_ranges_A, lambda_norm_A, regularisation_method, regul_start, auto_adjust_regul, regul_nthreads, delta_regul_min, regul_max, delta_delta_chi2_min, interactive_mode, plotit, savefigs, fname_str)\u001b[0m\n\u001b[1;32m    873\u001b[0m                 \u001b[0mt\u001b[0m \u001b[0;34m=\u001b[0m \u001b[0mtime\u001b[0m\u001b[0;34m(\u001b[0m\u001b[0;34m)\u001b[0m\u001b[0;34m\u001b[0m\u001b[0;34m\u001b[0m\u001b[0m\n\u001b[1;32m    874\u001b[0m                 \u001b[0mpool\u001b[0m \u001b[0;34m=\u001b[0m \u001b[0mmultiprocessing\u001b[0m\u001b[0;34m.\u001b[0m\u001b[0mPool\u001b[0m\u001b[0;34m(\u001b[0m\u001b[0mregul_nthreads\u001b[0m\u001b[0;34m)\u001b[0m\u001b[0;34m\u001b[0m\u001b[0;34m\u001b[0m\u001b[0m\n\u001b[0;32m--> 875\u001b[0;31m                 \u001b[0mpps\u001b[0m \u001b[0;34m=\u001b[0m \u001b[0mlist\u001b[0m\u001b[0;34m(\u001b[0m\u001b[0mpool\u001b[0m\u001b[0;34m.\u001b[0m\u001b[0mmap\u001b[0m\u001b[0;34m(\u001b[0m\u001b[0mppxf_helper\u001b[0m\u001b[0;34m,\u001b[0m \u001b[0margs_list\u001b[0m\u001b[0;34m)\u001b[0m\u001b[0;34m)\u001b[0m\u001b[0;34m\u001b[0m\u001b[0;34m\u001b[0m\u001b[0m\n\u001b[0m\u001b[1;32m    876\u001b[0m                 \u001b[0mpool\u001b[0m\u001b[0;34m.\u001b[0m\u001b[0mclose\u001b[0m\u001b[0;34m(\u001b[0m\u001b[0;34m)\u001b[0m\u001b[0;34m\u001b[0m\u001b[0;34m\u001b[0m\u001b[0m\n\u001b[1;32m    877\u001b[0m                 \u001b[0mpool\u001b[0m\u001b[0;34m.\u001b[0m\u001b[0mjoin\u001b[0m\u001b[0;34m(\u001b[0m\u001b[0;34m)\u001b[0m\u001b[0;34m\u001b[0m\u001b[0;34m\u001b[0m\u001b[0m\n",
      "\u001b[0;32m/pkg/linux/anaconda-20191122/anaconda3/lib/python3.7/multiprocessing/pool.py\u001b[0m in \u001b[0;36mmap\u001b[0;34m(self, func, iterable, chunksize)\u001b[0m\n\u001b[1;32m    266\u001b[0m         \u001b[0;32min\u001b[0m \u001b[0ma\u001b[0m \u001b[0mlist\u001b[0m \u001b[0mthat\u001b[0m \u001b[0;32mis\u001b[0m \u001b[0mreturned\u001b[0m\u001b[0;34m.\u001b[0m\u001b[0;34m\u001b[0m\u001b[0;34m\u001b[0m\u001b[0m\n\u001b[1;32m    267\u001b[0m         '''\n\u001b[0;32m--> 268\u001b[0;31m         \u001b[0;32mreturn\u001b[0m \u001b[0mself\u001b[0m\u001b[0;34m.\u001b[0m\u001b[0m_map_async\u001b[0m\u001b[0;34m(\u001b[0m\u001b[0mfunc\u001b[0m\u001b[0;34m,\u001b[0m \u001b[0miterable\u001b[0m\u001b[0;34m,\u001b[0m \u001b[0mmapstar\u001b[0m\u001b[0;34m,\u001b[0m \u001b[0mchunksize\u001b[0m\u001b[0;34m)\u001b[0m\u001b[0;34m.\u001b[0m\u001b[0mget\u001b[0m\u001b[0;34m(\u001b[0m\u001b[0;34m)\u001b[0m\u001b[0;34m\u001b[0m\u001b[0;34m\u001b[0m\u001b[0m\n\u001b[0m\u001b[1;32m    269\u001b[0m \u001b[0;34m\u001b[0m\u001b[0m\n\u001b[1;32m    270\u001b[0m     \u001b[0;32mdef\u001b[0m \u001b[0mstarmap\u001b[0m\u001b[0;34m(\u001b[0m\u001b[0mself\u001b[0m\u001b[0;34m,\u001b[0m \u001b[0mfunc\u001b[0m\u001b[0;34m,\u001b[0m \u001b[0miterable\u001b[0m\u001b[0;34m,\u001b[0m \u001b[0mchunksize\u001b[0m\u001b[0;34m=\u001b[0m\u001b[0;32mNone\u001b[0m\u001b[0;34m)\u001b[0m\u001b[0;34m:\u001b[0m\u001b[0;34m\u001b[0m\u001b[0;34m\u001b[0m\u001b[0m\n",
      "\u001b[0;32m/pkg/linux/anaconda-20191122/anaconda3/lib/python3.7/multiprocessing/pool.py\u001b[0m in \u001b[0;36mget\u001b[0;34m(self, timeout)\u001b[0m\n\u001b[1;32m    649\u001b[0m \u001b[0;34m\u001b[0m\u001b[0m\n\u001b[1;32m    650\u001b[0m     \u001b[0;32mdef\u001b[0m \u001b[0mget\u001b[0m\u001b[0;34m(\u001b[0m\u001b[0mself\u001b[0m\u001b[0;34m,\u001b[0m \u001b[0mtimeout\u001b[0m\u001b[0;34m=\u001b[0m\u001b[0;32mNone\u001b[0m\u001b[0;34m)\u001b[0m\u001b[0;34m:\u001b[0m\u001b[0;34m\u001b[0m\u001b[0;34m\u001b[0m\u001b[0m\n\u001b[0;32m--> 651\u001b[0;31m         \u001b[0mself\u001b[0m\u001b[0;34m.\u001b[0m\u001b[0mwait\u001b[0m\u001b[0;34m(\u001b[0m\u001b[0mtimeout\u001b[0m\u001b[0;34m)\u001b[0m\u001b[0;34m\u001b[0m\u001b[0;34m\u001b[0m\u001b[0m\n\u001b[0m\u001b[1;32m    652\u001b[0m         \u001b[0;32mif\u001b[0m \u001b[0;32mnot\u001b[0m \u001b[0mself\u001b[0m\u001b[0;34m.\u001b[0m\u001b[0mready\u001b[0m\u001b[0;34m(\u001b[0m\u001b[0;34m)\u001b[0m\u001b[0;34m:\u001b[0m\u001b[0;34m\u001b[0m\u001b[0;34m\u001b[0m\u001b[0m\n\u001b[1;32m    653\u001b[0m             \u001b[0;32mraise\u001b[0m \u001b[0mTimeoutError\u001b[0m\u001b[0;34m\u001b[0m\u001b[0;34m\u001b[0m\u001b[0m\n",
      "\u001b[0;32m/pkg/linux/anaconda-20191122/anaconda3/lib/python3.7/multiprocessing/pool.py\u001b[0m in \u001b[0;36mwait\u001b[0;34m(self, timeout)\u001b[0m\n\u001b[1;32m    646\u001b[0m \u001b[0;34m\u001b[0m\u001b[0m\n\u001b[1;32m    647\u001b[0m     \u001b[0;32mdef\u001b[0m \u001b[0mwait\u001b[0m\u001b[0;34m(\u001b[0m\u001b[0mself\u001b[0m\u001b[0;34m,\u001b[0m \u001b[0mtimeout\u001b[0m\u001b[0;34m=\u001b[0m\u001b[0;32mNone\u001b[0m\u001b[0;34m)\u001b[0m\u001b[0;34m:\u001b[0m\u001b[0;34m\u001b[0m\u001b[0;34m\u001b[0m\u001b[0m\n\u001b[0;32m--> 648\u001b[0;31m         \u001b[0mself\u001b[0m\u001b[0;34m.\u001b[0m\u001b[0m_event\u001b[0m\u001b[0;34m.\u001b[0m\u001b[0mwait\u001b[0m\u001b[0;34m(\u001b[0m\u001b[0mtimeout\u001b[0m\u001b[0;34m)\u001b[0m\u001b[0;34m\u001b[0m\u001b[0;34m\u001b[0m\u001b[0m\n\u001b[0m\u001b[1;32m    649\u001b[0m \u001b[0;34m\u001b[0m\u001b[0m\n\u001b[1;32m    650\u001b[0m     \u001b[0;32mdef\u001b[0m \u001b[0mget\u001b[0m\u001b[0;34m(\u001b[0m\u001b[0mself\u001b[0m\u001b[0;34m,\u001b[0m \u001b[0mtimeout\u001b[0m\u001b[0;34m=\u001b[0m\u001b[0;32mNone\u001b[0m\u001b[0;34m)\u001b[0m\u001b[0;34m:\u001b[0m\u001b[0;34m\u001b[0m\u001b[0;34m\u001b[0m\u001b[0m\n",
      "\u001b[0;32m/pkg/linux/anaconda-20191122/anaconda3/lib/python3.7/threading.py\u001b[0m in \u001b[0;36mwait\u001b[0;34m(self, timeout)\u001b[0m\n\u001b[1;32m    550\u001b[0m             \u001b[0msignaled\u001b[0m \u001b[0;34m=\u001b[0m \u001b[0mself\u001b[0m\u001b[0;34m.\u001b[0m\u001b[0m_flag\u001b[0m\u001b[0;34m\u001b[0m\u001b[0;34m\u001b[0m\u001b[0m\n\u001b[1;32m    551\u001b[0m             \u001b[0;32mif\u001b[0m \u001b[0;32mnot\u001b[0m \u001b[0msignaled\u001b[0m\u001b[0;34m:\u001b[0m\u001b[0;34m\u001b[0m\u001b[0;34m\u001b[0m\u001b[0m\n\u001b[0;32m--> 552\u001b[0;31m                 \u001b[0msignaled\u001b[0m \u001b[0;34m=\u001b[0m \u001b[0mself\u001b[0m\u001b[0;34m.\u001b[0m\u001b[0m_cond\u001b[0m\u001b[0;34m.\u001b[0m\u001b[0mwait\u001b[0m\u001b[0;34m(\u001b[0m\u001b[0mtimeout\u001b[0m\u001b[0;34m)\u001b[0m\u001b[0;34m\u001b[0m\u001b[0;34m\u001b[0m\u001b[0m\n\u001b[0m\u001b[1;32m    553\u001b[0m             \u001b[0;32mreturn\u001b[0m \u001b[0msignaled\u001b[0m\u001b[0;34m\u001b[0m\u001b[0;34m\u001b[0m\u001b[0m\n\u001b[1;32m    554\u001b[0m \u001b[0;34m\u001b[0m\u001b[0m\n",
      "\u001b[0;32m/pkg/linux/anaconda-20191122/anaconda3/lib/python3.7/threading.py\u001b[0m in \u001b[0;36mwait\u001b[0;34m(self, timeout)\u001b[0m\n\u001b[1;32m    294\u001b[0m         \u001b[0;32mtry\u001b[0m\u001b[0;34m:\u001b[0m    \u001b[0;31m# restore state no matter what (e.g., KeyboardInterrupt)\u001b[0m\u001b[0;34m\u001b[0m\u001b[0;34m\u001b[0m\u001b[0m\n\u001b[1;32m    295\u001b[0m             \u001b[0;32mif\u001b[0m \u001b[0mtimeout\u001b[0m \u001b[0;32mis\u001b[0m \u001b[0;32mNone\u001b[0m\u001b[0;34m:\u001b[0m\u001b[0;34m\u001b[0m\u001b[0;34m\u001b[0m\u001b[0m\n\u001b[0;32m--> 296\u001b[0;31m                 \u001b[0mwaiter\u001b[0m\u001b[0;34m.\u001b[0m\u001b[0macquire\u001b[0m\u001b[0;34m(\u001b[0m\u001b[0;34m)\u001b[0m\u001b[0;34m\u001b[0m\u001b[0;34m\u001b[0m\u001b[0m\n\u001b[0m\u001b[1;32m    297\u001b[0m                 \u001b[0mgotit\u001b[0m \u001b[0;34m=\u001b[0m \u001b[0;32mTrue\u001b[0m\u001b[0;34m\u001b[0m\u001b[0;34m\u001b[0m\u001b[0m\n\u001b[1;32m    298\u001b[0m             \u001b[0;32melse\u001b[0m\u001b[0;34m:\u001b[0m\u001b[0;34m\u001b[0m\u001b[0;34m\u001b[0m\u001b[0m\n",
      "\u001b[0;31mKeyboardInterrupt\u001b[0m: "
     ]
    },
    {
     "name": "stderr",
     "output_type": "stream",
     "text": [
      "  File \"/home/u5708159/python/Modules/ppxf/ppxf.py\", line 1471, in __init__\n",
      "    params, perror = self.nonlinear_fit(start1, bounds, fixed, tied, clean)\n",
      "Process ForkPoolWorker-1123:\n",
      "  File \"/pkg/linux/anaconda-20191122/anaconda3/lib/python3.7/multiprocessing/process.py\", line 297, in _bootstrap\n",
      "    self.run()\n",
      "Traceback (most recent call last):\n",
      "  File \"/home/u5708159/python/Modules/ppxf/ppxf.py\", line 1558, in nonlinear_fit\n",
      "    x_scale='jac', tied=tied, fixed=fixed)\n",
      "  File \"/pkg/linux/anaconda-20191122/anaconda3/lib/python3.7/multiprocessing/process.py\", line 99, in run\n",
      "    self._target(*self._args, **self._kwargs)\n",
      "  File \"/pkg/linux/anaconda-20191122/anaconda3/lib/python3.7/multiprocessing/process.py\", line 297, in _bootstrap\n",
      "    self.run()\n",
      "  File \"/pkg/linux/anaconda-20191122/anaconda3/lib/python3.7/multiprocessing/pool.py\", line 121, in worker\n",
      "    result = (True, func(*args, **kwds))\n",
      "  File \"/home/u5708159/python/Modules/ppxf/capfit.py\", line 162, in __init__\n",
      "    J2 = self.fdjac(func, p2, f2)\n",
      "  File \"/pkg/linux/anaconda-20191122/anaconda3/lib/python3.7/multiprocessing/process.py\", line 99, in run\n",
      "    self._target(*self._args, **self._kwargs)\n",
      "  File \"/pkg/linux/anaconda-20191122/anaconda3/lib/python3.7/multiprocessing/pool.py\", line 44, in mapstar\n",
      "    return list(map(*args))\n",
      "  File \"/home/u5708159/python/Modules/ppxf/capfit.py\", line 192, in fdjac\n",
      "    f1 = self.call(func, pars1)\n",
      "  File \"/home/u5708159/python/Modules/ppxf/capfit.py\", line 205, in call\n",
      "    resid = func(p, *self.args, **self.kwargs)\n",
      "  File \"/pkg/linux/anaconda-20191122/anaconda3/lib/python3.7/multiprocessing/pool.py\", line 121, in worker\n",
      "    result = (True, func(*args, **kwds))\n",
      "  File \"/pkg/linux/anaconda-20191122/anaconda3/lib/python3.7/multiprocessing/pool.py\", line 44, in mapstar\n",
      "    return list(map(*args))\n",
      "  File \"/home/u5708159/python/Modules/ppxftests/run_ppxf.py\", line 199, in ppxf_helper\n",
      "    quiet=True)\n",
      "  File \"/home/u5708159/python/Modules/ppxf/ppxf.py\", line 1471, in __init__\n",
      "    params, perror = self.nonlinear_fit(start1, bounds, fixed, tied, clean)\n",
      "  File \"/home/u5708159/python/Modules/ppxf/ppxf.py\", line 1558, in nonlinear_fit\n",
      "    x_scale='jac', tied=tied, fixed=fixed)\n",
      "  File \"/home/u5708159/python/Modules/ppxf/capfit.py\", line 142, in __init__\n",
      "    f2 = self.call(func, p2)\n",
      "  File \"/home/u5708159/python/Modules/ppxf/capfit.py\", line 205, in call\n",
      "    resid = func(p, *self.args, **self.kwargs)\n",
      "  File \"/home/u5708159/python/Modules/ppxf/ppxf.py\", line 1716, in linear_fit\n",
      "    self.weights = bvls_solve(aa, bb, npoly)\n",
      "  File \"/pkg/linux/anaconda-20191122/anaconda3/lib/python3.7/multiprocessing/process.py\", line 297, in _bootstrap\n",
      "    self.run()\n",
      "  File \"/pkg/linux/anaconda-20191122/anaconda3/lib/python3.7/multiprocessing/process.py\", line 99, in run\n",
      "    self._target(*self._args, **self._kwargs)\n",
      "  File \"/home/u5708159/python/Modules/ppxf/ppxf.py\", line 1094, in bvls_solve\n",
      "    soluz = nnls_flags(A, b, npoly)\n",
      "  File \"/pkg/linux/anaconda-20191122/anaconda3/lib/python3.7/multiprocessing/pool.py\", line 121, in worker\n",
      "    result = (True, func(*args, **kwds))\n",
      "  File \"/home/u5708159/python/Modules/ppxf/ppxf.py\", line 1647, in linear_fit\n",
      "    tt = np.fft.irfft(template_rfft*lvd_rfft[:, self.component[j], k], self.npad)\n",
      "  File \"/home/u5708159/python/Modules/ppxftests/run_ppxf.py\", line 199, in ppxf_helper\n",
      "    quiet=True)\n",
      "  File \"/pkg/linux/anaconda-20191122/anaconda3/lib/python3.7/site-packages/mkl_fft/_numpy_fft.py\", line 421, in irfft\n",
      "    output = mkl_fft.irfft_numpy(x, n=n, axis=axis)\n",
      "  File \"/home/u5708159/python/Modules/ppxf/ppxf.py\", line 1015, in nnls_flags\n",
      "    x = optimize.nnls(AA, b)[0]\n",
      "  File \"/pkg/linux/anaconda-20191122/anaconda3/lib/python3.7/site-packages/scipy/optimize/nnls.py\", line 61, in nnls\n",
      "    x, rnorm, mode = _nnls.nnls(A, m, n, b, w, zz, index, maxiter)\n",
      "KeyboardInterrupt\n",
      "  File \"/home/u5708159/python/Modules/ppxf/ppxf.py\", line 1471, in __init__\n",
      "    params, perror = self.nonlinear_fit(start1, bounds, fixed, tied, clean)\n",
      "  File \"/pkg/linux/anaconda-20191122/anaconda3/lib/python3.7/multiprocessing/pool.py\", line 44, in mapstar\n",
      "    return list(map(*args))\n",
      "  File \"/home/u5708159/python/Modules/ppxftests/run_ppxf.py\", line 199, in ppxf_helper\n",
      "    quiet=True)\n",
      "  File \"/home/u5708159/python/Modules/ppxf/ppxf.py\", line 1558, in nonlinear_fit\n",
      "    x_scale='jac', tied=tied, fixed=fixed)\n",
      "  File \"/home/u5708159/python/Modules/ppxf/ppxf.py\", line 1471, in __init__\n",
      "    params, perror = self.nonlinear_fit(start1, bounds, fixed, tied, clean)\n",
      "  File \"/home/u5708159/python/Modules/ppxf/ppxf.py\", line 1558, in nonlinear_fit\n",
      "    x_scale='jac', tied=tied, fixed=fixed)\n",
      "  File \"/home/u5708159/python/Modules/ppxf/capfit.py\", line 162, in __init__\n",
      "    J2 = self.fdjac(func, p2, f2)\n",
      "KeyboardInterrupt\n",
      "  File \"/home/u5708159/python/Modules/ppxf/capfit.py\", line 162, in __init__\n",
      "    J2 = self.fdjac(func, p2, f2)\n",
      "  File \"/home/u5708159/python/Modules/ppxf/capfit.py\", line 192, in fdjac\n",
      "    f1 = self.call(func, pars1)\n",
      "  File \"/home/u5708159/python/Modules/ppxf/capfit.py\", line 192, in fdjac\n",
      "    f1 = self.call(func, pars1)\n",
      "  File \"/home/u5708159/python/Modules/ppxf/capfit.py\", line 205, in call\n",
      "    resid = func(p, *self.args, **self.kwargs)\n",
      "  File \"/home/u5708159/python/Modules/ppxf/capfit.py\", line 205, in call\n",
      "    resid = func(p, *self.args, **self.kwargs)\n",
      "Process ForkPoolWorker-1129:\n",
      "  File \"/home/u5708159/python/Modules/ppxf/ppxf.py\", line 1710, in linear_fit\n",
      "    aa = a[np.append(self.goodpixels, np.arange(npix*nspec, nrows)), :]\n",
      "KeyboardInterrupt\n",
      "Traceback (most recent call last):\n",
      "  File \"/home/u5708159/python/Modules/ppxf/ppxf.py\", line 1647, in linear_fit\n",
      "    tt = np.fft.irfft(template_rfft*lvd_rfft[:, self.component[j], k], self.npad)\n",
      "KeyboardInterrupt\n",
      "Process ForkPoolWorker-1127:\n",
      "  File \"/pkg/linux/anaconda-20191122/anaconda3/lib/python3.7/multiprocessing/process.py\", line 297, in _bootstrap\n",
      "    self.run()\n",
      "Process ForkPoolWorker-1125:\n",
      "  File \"/pkg/linux/anaconda-20191122/anaconda3/lib/python3.7/multiprocessing/process.py\", line 99, in run\n",
      "    self._target(*self._args, **self._kwargs)\n",
      "  File \"/pkg/linux/anaconda-20191122/anaconda3/lib/python3.7/multiprocessing/pool.py\", line 121, in worker\n",
      "    result = (True, func(*args, **kwds))\n",
      "Traceback (most recent call last):\n",
      "  File \"/pkg/linux/anaconda-20191122/anaconda3/lib/python3.7/multiprocessing/pool.py\", line 44, in mapstar\n",
      "    return list(map(*args))\n",
      "  File \"/home/u5708159/python/Modules/ppxftests/run_ppxf.py\", line 199, in ppxf_helper\n",
      "    quiet=True)\n",
      "  File \"/home/u5708159/python/Modules/ppxf/ppxf.py\", line 1471, in __init__\n",
      "    params, perror = self.nonlinear_fit(start1, bounds, fixed, tied, clean)\n",
      "  File \"/home/u5708159/python/Modules/ppxf/ppxf.py\", line 1558, in nonlinear_fit\n",
      "    x_scale='jac', tied=tied, fixed=fixed)\n",
      "Traceback (most recent call last):\n",
      "  File \"/pkg/linux/anaconda-20191122/anaconda3/lib/python3.7/multiprocessing/process.py\", line 297, in _bootstrap\n",
      "    self.run()\n",
      "  File \"/home/u5708159/python/Modules/ppxf/capfit.py\", line 142, in __init__\n",
      "    f2 = self.call(func, p2)\n",
      "  File \"/pkg/linux/anaconda-20191122/anaconda3/lib/python3.7/multiprocessing/process.py\", line 99, in run\n",
      "    self._target(*self._args, **self._kwargs)\n",
      "  File \"/home/u5708159/python/Modules/ppxf/capfit.py\", line 205, in call\n",
      "    resid = func(p, *self.args, **self.kwargs)\n",
      "  File \"/pkg/linux/anaconda-20191122/anaconda3/lib/python3.7/multiprocessing/pool.py\", line 121, in worker\n",
      "    result = (True, func(*args, **kwds))\n",
      "  File \"/home/u5708159/python/Modules/ppxf/ppxf.py\", line 1716, in linear_fit\n",
      "    self.weights = bvls_solve(aa, bb, npoly)\n",
      "  File \"/home/u5708159/python/Modules/ppxf/ppxf.py\", line 1094, in bvls_solve\n",
      "    soluz = nnls_flags(A, b, npoly)\n",
      "  File \"/home/u5708159/python/Modules/ppxf/ppxf.py\", line 1015, in nnls_flags\n",
      "    x = optimize.nnls(AA, b)[0]\n",
      "  File \"/pkg/linux/anaconda-20191122/anaconda3/lib/python3.7/multiprocessing/pool.py\", line 44, in mapstar\n",
      "    return list(map(*args))\n",
      "  File \"/pkg/linux/anaconda-20191122/anaconda3/lib/python3.7/site-packages/scipy/optimize/nnls.py\", line 61, in nnls\n",
      "    x, rnorm, mode = _nnls.nnls(A, m, n, b, w, zz, index, maxiter)\n",
      "  File \"/home/u5708159/python/Modules/ppxftests/run_ppxf.py\", line 199, in ppxf_helper\n",
      "    quiet=True)\n"
     ]
    },
    {
     "name": "stderr",
     "output_type": "stream",
     "text": [
      "  File \"/pkg/linux/anaconda-20191122/anaconda3/lib/python3.7/multiprocessing/process.py\", line 297, in _bootstrap\n",
      "    self.run()\n",
      "  File \"/pkg/linux/anaconda-20191122/anaconda3/lib/python3.7/multiprocessing/process.py\", line 99, in run\n",
      "    self._target(*self._args, **self._kwargs)\n",
      "  File \"/pkg/linux/anaconda-20191122/anaconda3/lib/python3.7/multiprocessing/pool.py\", line 121, in worker\n",
      "    result = (True, func(*args, **kwds))\n",
      "KeyboardInterrupt\n",
      "  File \"/pkg/linux/anaconda-20191122/anaconda3/lib/python3.7/multiprocessing/pool.py\", line 44, in mapstar\n",
      "    return list(map(*args))\n",
      "  File \"/home/u5708159/python/Modules/ppxf/ppxf.py\", line 1471, in __init__\n",
      "    params, perror = self.nonlinear_fit(start1, bounds, fixed, tied, clean)\n",
      "  File \"/home/u5708159/python/Modules/ppxftests/run_ppxf.py\", line 199, in ppxf_helper\n",
      "    quiet=True)\n",
      "  File \"/home/u5708159/python/Modules/ppxf/ppxf.py\", line 1558, in nonlinear_fit\n",
      "    x_scale='jac', tied=tied, fixed=fixed)\n",
      "  File \"/home/u5708159/python/Modules/ppxf/ppxf.py\", line 1471, in __init__\n",
      "    params, perror = self.nonlinear_fit(start1, bounds, fixed, tied, clean)\n",
      "  File \"/home/u5708159/python/Modules/ppxf/capfit.py\", line 162, in __init__\n",
      "    J2 = self.fdjac(func, p2, f2)\n",
      "  File \"/home/u5708159/python/Modules/ppxf/ppxf.py\", line 1558, in nonlinear_fit\n",
      "    x_scale='jac', tied=tied, fixed=fixed)\n",
      "  File \"/home/u5708159/python/Modules/ppxf/capfit.py\", line 142, in __init__\n",
      "    f2 = self.call(func, p2)\n",
      "  File \"/home/u5708159/python/Modules/ppxf/capfit.py\", line 205, in call\n",
      "    resid = func(p, *self.args, **self.kwargs)\n",
      "  File \"/home/u5708159/python/Modules/ppxf/ppxf.py\", line 1716, in linear_fit\n",
      "    self.weights = bvls_solve(aa, bb, npoly)\n",
      "  File \"/home/u5708159/python/Modules/ppxf/ppxf.py\", line 1094, in bvls_solve\n",
      "    soluz = nnls_flags(A, b, npoly)\n",
      "  File \"/home/u5708159/python/Modules/ppxf/capfit.py\", line 192, in fdjac\n",
      "    f1 = self.call(func, pars1)\n",
      "Process ForkPoolWorker-1124:\n",
      "  File \"/home/u5708159/python/Modules/ppxf/ppxf.py\", line 1015, in nnls_flags\n",
      "    x = optimize.nnls(AA, b)[0]\n",
      "  File \"/home/u5708159/python/Modules/ppxf/capfit.py\", line 205, in call\n",
      "    resid = func(p, *self.args, **self.kwargs)\n",
      "  File \"/home/u5708159/python/Modules/ppxf/ppxf.py\", line 1716, in linear_fit\n",
      "    self.weights = bvls_solve(aa, bb, npoly)\n",
      "  File \"/home/u5708159/python/Modules/ppxf/ppxf.py\", line 1094, in bvls_solve\n",
      "    soluz = nnls_flags(A, b, npoly)\n",
      "  File \"/home/u5708159/python/Modules/ppxf/ppxf.py\", line 1015, in nnls_flags\n",
      "    x = optimize.nnls(AA, b)[0]\n",
      "  File \"/pkg/linux/anaconda-20191122/anaconda3/lib/python3.7/site-packages/scipy/optimize/nnls.py\", line 61, in nnls\n",
      "    x, rnorm, mode = _nnls.nnls(A, m, n, b, w, zz, index, maxiter)\n",
      "Traceback (most recent call last):\n",
      "  File \"/pkg/linux/anaconda-20191122/anaconda3/lib/python3.7/site-packages/scipy/optimize/nnls.py\", line 61, in nnls\n",
      "    x, rnorm, mode = _nnls.nnls(A, m, n, b, w, zz, index, maxiter)\n",
      "KeyboardInterrupt\n",
      "  File \"/pkg/linux/anaconda-20191122/anaconda3/lib/python3.7/multiprocessing/process.py\", line 297, in _bootstrap\n",
      "    self.run()\n",
      "KeyboardInterrupt\n",
      "  File \"/pkg/linux/anaconda-20191122/anaconda3/lib/python3.7/multiprocessing/process.py\", line 99, in run\n",
      "    self._target(*self._args, **self._kwargs)\n",
      "  File \"/pkg/linux/anaconda-20191122/anaconda3/lib/python3.7/multiprocessing/pool.py\", line 121, in worker\n",
      "    result = (True, func(*args, **kwds))\n",
      "Process ForkPoolWorker-1139:\n",
      "Traceback (most recent call last):\n",
      "  File \"/pkg/linux/anaconda-20191122/anaconda3/lib/python3.7/multiprocessing/process.py\", line 297, in _bootstrap\n",
      "    self.run()\n",
      "  File \"/pkg/linux/anaconda-20191122/anaconda3/lib/python3.7/multiprocessing/process.py\", line 99, in run\n",
      "    self._target(*self._args, **self._kwargs)\n",
      "  File \"/pkg/linux/anaconda-20191122/anaconda3/lib/python3.7/multiprocessing/pool.py\", line 121, in worker\n",
      "    result = (True, func(*args, **kwds))\n",
      "  File \"/pkg/linux/anaconda-20191122/anaconda3/lib/python3.7/multiprocessing/pool.py\", line 44, in mapstar\n",
      "    return list(map(*args))\n",
      "Process ForkPoolWorker-1137:\n",
      "  File \"/home/u5708159/python/Modules/ppxftests/run_ppxf.py\", line 199, in ppxf_helper\n",
      "    quiet=True)\n",
      "  File \"/pkg/linux/anaconda-20191122/anaconda3/lib/python3.7/multiprocessing/pool.py\", line 44, in mapstar\n",
      "    return list(map(*args))\n",
      "  File \"/home/u5708159/python/Modules/ppxftests/run_ppxf.py\", line 199, in ppxf_helper\n",
      "    quiet=True)\n",
      "Traceback (most recent call last):\n",
      "  File \"/home/u5708159/python/Modules/ppxf/ppxf.py\", line 1471, in __init__\n",
      "    params, perror = self.nonlinear_fit(start1, bounds, fixed, tied, clean)\n",
      "  File \"/home/u5708159/python/Modules/ppxf/ppxf.py\", line 1471, in __init__\n",
      "    params, perror = self.nonlinear_fit(start1, bounds, fixed, tied, clean)\n",
      "  File \"/home/u5708159/python/Modules/ppxf/ppxf.py\", line 1558, in nonlinear_fit\n",
      "    x_scale='jac', tied=tied, fixed=fixed)\n",
      "  File \"/home/u5708159/python/Modules/ppxf/ppxf.py\", line 1558, in nonlinear_fit\n",
      "    x_scale='jac', tied=tied, fixed=fixed)\n",
      "  File \"/home/u5708159/python/Modules/ppxf/capfit.py\", line 162, in __init__\n",
      "    J2 = self.fdjac(func, p2, f2)\n",
      "  File \"/home/u5708159/python/Modules/ppxf/capfit.py\", line 162, in __init__\n",
      "    J2 = self.fdjac(func, p2, f2)\n",
      "  File \"/pkg/linux/anaconda-20191122/anaconda3/lib/python3.7/multiprocessing/process.py\", line 297, in _bootstrap\n",
      "    self.run()\n",
      "  File \"/pkg/linux/anaconda-20191122/anaconda3/lib/python3.7/multiprocessing/process.py\", line 99, in run\n",
      "    self._target(*self._args, **self._kwargs)\n",
      "  File \"/home/u5708159/python/Modules/ppxf/capfit.py\", line 192, in fdjac\n",
      "    f1 = self.call(func, pars1)\n",
      "  File \"/home/u5708159/python/Modules/ppxf/capfit.py\", line 192, in fdjac\n",
      "    f1 = self.call(func, pars1)\n",
      "  File \"/pkg/linux/anaconda-20191122/anaconda3/lib/python3.7/multiprocessing/pool.py\", line 121, in worker\n",
      "    result = (True, func(*args, **kwds))\n",
      "  File \"/home/u5708159/python/Modules/ppxf/capfit.py\", line 205, in call\n",
      "    resid = func(p, *self.args, **self.kwargs)\n",
      "  File \"/home/u5708159/python/Modules/ppxf/capfit.py\", line 205, in call\n",
      "    resid = func(p, *self.args, **self.kwargs)\n",
      "  File \"/pkg/linux/anaconda-20191122/anaconda3/lib/python3.7/multiprocessing/pool.py\", line 44, in mapstar\n",
      "    return list(map(*args))\n",
      "  File \"/home/u5708159/python/Modules/ppxf/ppxf.py\", line 1716, in linear_fit\n",
      "    self.weights = bvls_solve(aa, bb, npoly)\n",
      "  File \"/home/u5708159/python/Modules/ppxf/ppxf.py\", line 1094, in bvls_solve\n",
      "    soluz = nnls_flags(A, b, npoly)\n",
      "  File \"/home/u5708159/python/Modules/ppxf/ppxf.py\", line 1716, in linear_fit\n",
      "    self.weights = bvls_solve(aa, bb, npoly)\n",
      "Traceback (most recent call last):\n",
      "Process ForkPoolWorker-1133:\n",
      "Process ForkPoolWorker-1138:\n",
      "  File \"/home/u5708159/python/Modules/ppxftests/run_ppxf.py\", line 199, in ppxf_helper\n",
      "    quiet=True)\n",
      "Process ForkPoolWorker-1128:\n",
      "Process ForkPoolWorker-1131:\n",
      "Process ForkPoolWorker-1122:\n",
      "Process ForkPoolWorker-1126:\n",
      "Traceback (most recent call last):\n",
      "Traceback (most recent call last):\n",
      "Traceback (most recent call last):\n",
      "  File \"/home/u5708159/python/Modules/ppxf/ppxf.py\", line 1015, in nnls_flags\n",
      "    x = optimize.nnls(AA, b)[0]\n",
      "Traceback (most recent call last):\n",
      "  File \"/pkg/linux/anaconda-20191122/anaconda3/lib/python3.7/multiprocessing/process.py\", line 297, in _bootstrap\n",
      "    self.run()\n",
      "  File \"/home/u5708159/python/Modules/ppxf/ppxf.py\", line 1471, in __init__\n",
      "    params, perror = self.nonlinear_fit(start1, bounds, fixed, tied, clean)\n",
      "  File \"/pkg/linux/anaconda-20191122/anaconda3/lib/python3.7/site-packages/scipy/optimize/nnls.py\", line 61, in nnls\n",
      "    x, rnorm, mode = _nnls.nnls(A, m, n, b, w, zz, index, maxiter)\n",
      "  File \"/pkg/linux/anaconda-20191122/anaconda3/lib/python3.7/multiprocessing/process.py\", line 297, in _bootstrap\n",
      "    self.run()\n",
      "  File \"/pkg/linux/anaconda-20191122/anaconda3/lib/python3.7/multiprocessing/process.py\", line 297, in _bootstrap\n",
      "    self.run()\n",
      "  File \"/home/u5708159/python/Modules/ppxf/ppxf.py\", line 1558, in nonlinear_fit\n",
      "    x_scale='jac', tied=tied, fixed=fixed)\n",
      "  File \"/pkg/linux/anaconda-20191122/anaconda3/lib/python3.7/multiprocessing/process.py\", line 297, in _bootstrap\n",
      "    self.run()\n",
      "  File \"/home/u5708159/python/Modules/ppxf/ppxf.py\", line 1094, in bvls_solve\n",
      "    soluz = nnls_flags(A, b, npoly)\n"
     ]
    },
    {
     "name": "stderr",
     "output_type": "stream",
     "text": [
      "KeyboardInterrupt\n",
      "  File \"/pkg/linux/anaconda-20191122/anaconda3/lib/python3.7/multiprocessing/process.py\", line 99, in run\n",
      "    self._target(*self._args, **self._kwargs)\n",
      "  File \"/home/u5708159/python/Modules/ppxf/ppxf.py\", line 1015, in nnls_flags\n",
      "    x = optimize.nnls(AA, b)[0]\n",
      "  File \"/home/u5708159/python/Modules/ppxf/ppxf.py\", line 1716, in linear_fit\n",
      "    self.weights = bvls_solve(aa, bb, npoly)\n",
      "  File \"/home/u5708159/python/Modules/ppxf/capfit.py\", line 205, in call\n",
      "    resid = func(p, *self.args, **self.kwargs)\n",
      "  File \"/home/u5708159/python/Modules/ppxf/capfit.py\", line 142, in __init__\n",
      "    f2 = self.call(func, p2)\n",
      "Traceback (most recent call last):\n",
      "  File \"/pkg/linux/anaconda-20191122/anaconda3/lib/python3.7/multiprocessing/process.py\", line 99, in run\n",
      "    self._target(*self._args, **self._kwargs)\n",
      "  File \"/pkg/linux/anaconda-20191122/anaconda3/lib/python3.7/multiprocessing/process.py\", line 99, in run\n",
      "    self._target(*self._args, **self._kwargs)\n",
      "  File \"/pkg/linux/anaconda-20191122/anaconda3/lib/python3.7/multiprocessing/process.py\", line 99, in run\n",
      "    self._target(*self._args, **self._kwargs)\n",
      "Process ForkPoolWorker-1134:\n",
      "Process ForkPoolWorker-1130:\n",
      "  File \"/pkg/linux/anaconda-20191122/anaconda3/lib/python3.7/multiprocessing/process.py\", line 297, in _bootstrap\n",
      "    self.run()\n",
      "  File \"/pkg/linux/anaconda-20191122/anaconda3/lib/python3.7/site-packages/scipy/optimize/nnls.py\", line 61, in nnls\n",
      "    x, rnorm, mode = _nnls.nnls(A, m, n, b, w, zz, index, maxiter)\n",
      "  File \"/pkg/linux/anaconda-20191122/anaconda3/lib/python3.7/multiprocessing/pool.py\", line 121, in worker\n",
      "    result = (True, func(*args, **kwds))\n",
      "  File \"/pkg/linux/anaconda-20191122/anaconda3/lib/python3.7/multiprocessing/process.py\", line 297, in _bootstrap\n",
      "    self.run()\n",
      "  File \"/pkg/linux/anaconda-20191122/anaconda3/lib/python3.7/multiprocessing/pool.py\", line 121, in worker\n",
      "    result = (True, func(*args, **kwds))\n",
      "  File \"/pkg/linux/anaconda-20191122/anaconda3/lib/python3.7/multiprocessing/pool.py\", line 121, in worker\n",
      "    result = (True, func(*args, **kwds))\n",
      "KeyboardInterrupt\n",
      "  File \"/pkg/linux/anaconda-20191122/anaconda3/lib/python3.7/multiprocessing/pool.py\", line 44, in mapstar\n",
      "    return list(map(*args))\n",
      "  File \"/home/u5708159/python/Modules/ppxf/capfit.py\", line 205, in call\n",
      "    resid = func(p, *self.args, **self.kwargs)\n",
      "  File \"/pkg/linux/anaconda-20191122/anaconda3/lib/python3.7/multiprocessing/pool.py\", line 44, in mapstar\n",
      "    return list(map(*args))\n",
      "  File \"/home/u5708159/python/Modules/ppxftests/run_ppxf.py\", line 199, in ppxf_helper\n",
      "    quiet=True)\n",
      "  File \"/home/u5708159/python/Modules/ppxftests/run_ppxf.py\", line 199, in ppxf_helper\n",
      "    quiet=True)\n",
      "  File \"/home/u5708159/python/Modules/ppxf/ppxf.py\", line 1471, in __init__\n",
      "    params, perror = self.nonlinear_fit(start1, bounds, fixed, tied, clean)\n",
      "Traceback (most recent call last):\n",
      "Traceback (most recent call last):\n",
      "  File \"/home/u5708159/python/Modules/ppxf/ppxf.py\", line 1471, in __init__\n",
      "    params, perror = self.nonlinear_fit(start1, bounds, fixed, tied, clean)\n",
      "  File \"/pkg/linux/anaconda-20191122/anaconda3/lib/python3.7/multiprocessing/process.py\", line 297, in _bootstrap\n",
      "    self.run()\n",
      "  File \"/home/u5708159/python/Modules/ppxf/ppxf.py\", line 1558, in nonlinear_fit\n",
      "    x_scale='jac', tied=tied, fixed=fixed)\n",
      "  File \"/pkg/linux/anaconda-20191122/anaconda3/lib/python3.7/multiprocessing/pool.py\", line 121, in worker\n",
      "    result = (True, func(*args, **kwds))\n",
      "  File \"/pkg/linux/anaconda-20191122/anaconda3/lib/python3.7/multiprocessing/pool.py\", line 44, in mapstar\n",
      "    return list(map(*args))\n",
      "  File \"/pkg/linux/anaconda-20191122/anaconda3/lib/python3.7/multiprocessing/pool.py\", line 44, in mapstar\n",
      "    return list(map(*args))\n",
      "  File \"/home/u5708159/python/Modules/ppxf/capfit.py\", line 142, in __init__\n",
      "    f2 = self.call(func, p2)\n",
      "  File \"/home/u5708159/python/Modules/ppxf/ppxf.py\", line 1716, in linear_fit\n",
      "    self.weights = bvls_solve(aa, bb, npoly)\n",
      "  File \"/pkg/linux/anaconda-20191122/anaconda3/lib/python3.7/multiprocessing/process.py\", line 99, in run\n",
      "    self._target(*self._args, **self._kwargs)\n",
      "  File \"/pkg/linux/anaconda-20191122/anaconda3/lib/python3.7/multiprocessing/pool.py\", line 121, in worker\n",
      "    result = (True, func(*args, **kwds))\n",
      "  File \"/home/u5708159/python/Modules/ppxftests/run_ppxf.py\", line 199, in ppxf_helper\n",
      "    quiet=True)\n",
      "  File \"/home/u5708159/python/Modules/ppxftests/run_ppxf.py\", line 199, in ppxf_helper\n",
      "    quiet=True)\n",
      "  File \"/home/u5708159/python/Modules/ppxf/ppxf.py\", line 1471, in __init__\n",
      "    params, perror = self.nonlinear_fit(start1, bounds, fixed, tied, clean)\n",
      "  File \"/home/u5708159/python/Modules/ppxf/ppxf.py\", line 1471, in __init__\n",
      "    params, perror = self.nonlinear_fit(start1, bounds, fixed, tied, clean)\n",
      "  File \"/home/u5708159/python/Modules/ppxf/ppxf.py\", line 1094, in bvls_solve\n",
      "    soluz = nnls_flags(A, b, npoly)\n",
      "  File \"/home/u5708159/python/Modules/ppxf/ppxf.py\", line 1015, in nnls_flags\n",
      "    x = optimize.nnls(AA, b)[0]\n",
      "  File \"/home/u5708159/python/Modules/ppxf/ppxf.py\", line 1094, in bvls_solve\n",
      "    soluz = nnls_flags(A, b, npoly)\n",
      "  File \"/home/u5708159/python/Modules/ppxf/ppxf.py\", line 1015, in nnls_flags\n",
      "    x = optimize.nnls(AA, b)[0]\n",
      "  File \"/home/u5708159/python/Modules/ppxf/ppxf.py\", line 1558, in nonlinear_fit\n",
      "    x_scale='jac', tied=tied, fixed=fixed)\n",
      "  File \"/pkg/linux/anaconda-20191122/anaconda3/lib/python3.7/site-packages/scipy/optimize/nnls.py\", line 61, in nnls\n",
      "    x, rnorm, mode = _nnls.nnls(A, m, n, b, w, zz, index, maxiter)\n",
      "  File \"/home/u5708159/python/Modules/ppxf/ppxf.py\", line 1558, in nonlinear_fit\n",
      "    x_scale='jac', tied=tied, fixed=fixed)\n",
      "  File \"/home/u5708159/python/Modules/ppxf/ppxf.py\", line 1558, in nonlinear_fit\n",
      "    x_scale='jac', tied=tied, fixed=fixed)\n",
      "  File \"/pkg/linux/anaconda-20191122/anaconda3/lib/python3.7/multiprocessing/pool.py\", line 44, in mapstar\n",
      "    return list(map(*args))\n",
      "  File \"/pkg/linux/anaconda-20191122/anaconda3/lib/python3.7/multiprocessing/process.py\", line 297, in _bootstrap\n",
      "    self.run()\n",
      "  File \"/pkg/linux/anaconda-20191122/anaconda3/lib/python3.7/site-packages/scipy/optimize/nnls.py\", line 61, in nnls\n",
      "    x, rnorm, mode = _nnls.nnls(A, m, n, b, w, zz, index, maxiter)\n",
      "  File \"/home/u5708159/python/Modules/ppxf/capfit.py\", line 142, in __init__\n",
      "    f2 = self.call(func, p2)\n",
      "  File \"/pkg/linux/anaconda-20191122/anaconda3/lib/python3.7/multiprocessing/process.py\", line 99, in run\n",
      "    self._target(*self._args, **self._kwargs)\n",
      "KeyboardInterrupt\n",
      "KeyboardInterrupt\n",
      "  File \"/pkg/linux/anaconda-20191122/anaconda3/lib/python3.7/multiprocessing/pool.py\", line 121, in worker\n",
      "    result = (True, func(*args, **kwds))\n",
      "  File \"/home/u5708159/python/Modules/ppxftests/run_ppxf.py\", line 199, in ppxf_helper\n",
      "    quiet=True)\n",
      "  File \"/pkg/linux/anaconda-20191122/anaconda3/lib/python3.7/multiprocessing/pool.py\", line 44, in mapstar\n",
      "    return list(map(*args))\n",
      "  File \"/home/u5708159/python/Modules/ppxf/capfit.py\", line 205, in call\n",
      "    resid = func(p, *self.args, **self.kwargs)\n",
      "  File \"/pkg/linux/anaconda-20191122/anaconda3/lib/python3.7/multiprocessing/process.py\", line 99, in run\n",
      "    self._target(*self._args, **self._kwargs)\n",
      "  File \"/home/u5708159/python/Modules/ppxf/capfit.py\", line 142, in __init__\n",
      "    f2 = self.call(func, p2)\n",
      "  File \"/pkg/linux/anaconda-20191122/anaconda3/lib/python3.7/multiprocessing/process.py\", line 99, in run\n",
      "    self._target(*self._args, **self._kwargs)\n",
      "  File \"/home/u5708159/python/Modules/ppxf/ppxf.py\", line 1471, in __init__\n",
      "    params, perror = self.nonlinear_fit(start1, bounds, fixed, tied, clean)\n",
      "  File \"/pkg/linux/anaconda-20191122/anaconda3/lib/python3.7/multiprocessing/pool.py\", line 121, in worker\n",
      "    result = (True, func(*args, **kwds))\n",
      "  File \"/home/u5708159/python/Modules/ppxf/capfit.py\", line 205, in call\n",
      "    resid = func(p, *self.args, **self.kwargs)\n",
      "  File \"/home/u5708159/python/Modules/ppxf/ppxf.py\", line 1716, in linear_fit\n",
      "    self.weights = bvls_solve(aa, bb, npoly)\n",
      "  File \"/home/u5708159/python/Modules/ppxf/ppxf.py\", line 1094, in bvls_solve\n",
      "    soluz = nnls_flags(A, b, npoly)\n",
      "  File \"/pkg/linux/anaconda-20191122/anaconda3/lib/python3.7/multiprocessing/pool.py\", line 44, in mapstar\n",
      "    return list(map(*args))\n"
     ]
    },
    {
     "name": "stderr",
     "output_type": "stream",
     "text": [
      "  File \"/home/u5708159/python/Modules/ppxf/ppxf.py\", line 1716, in linear_fit\n",
      "    self.weights = bvls_solve(aa, bb, npoly)\n",
      "  File \"/home/u5708159/python/Modules/ppxftests/run_ppxf.py\", line 199, in ppxf_helper\n",
      "    quiet=True)\n",
      "  File \"/home/u5708159/python/Modules/ppxf/ppxf.py\", line 1015, in nnls_flags\n",
      "    x = optimize.nnls(AA, b)[0]\n",
      "  File \"/pkg/linux/anaconda-20191122/anaconda3/lib/python3.7/multiprocessing/pool.py\", line 121, in worker\n",
      "    result = (True, func(*args, **kwds))\n",
      "  File \"/home/u5708159/python/Modules/ppxf/capfit.py\", line 162, in __init__\n",
      "    J2 = self.fdjac(func, p2, f2)\n",
      "  File \"/home/u5708159/python/Modules/ppxf/capfit.py\", line 192, in fdjac\n",
      "    f1 = self.call(func, pars1)\n",
      "  File \"/home/u5708159/python/Modules/ppxftests/run_ppxf.py\", line 199, in ppxf_helper\n",
      "    quiet=True)\n",
      "  File \"/home/u5708159/python/Modules/ppxf/ppxf.py\", line 1558, in nonlinear_fit\n",
      "    x_scale='jac', tied=tied, fixed=fixed)\n",
      "  File \"/home/u5708159/python/Modules/ppxf/ppxf.py\", line 1094, in bvls_solve\n",
      "    soluz = nnls_flags(A, b, npoly)\n",
      "  File \"/home/u5708159/python/Modules/ppxf/ppxf.py\", line 1471, in __init__\n",
      "    params, perror = self.nonlinear_fit(start1, bounds, fixed, tied, clean)\n",
      "  File \"/home/u5708159/python/Modules/ppxf/ppxf.py\", line 1015, in nnls_flags\n",
      "    x = optimize.nnls(AA, b)[0]\n",
      "  File \"/home/u5708159/python/Modules/ppxf/ppxf.py\", line 1471, in __init__\n",
      "    params, perror = self.nonlinear_fit(start1, bounds, fixed, tied, clean)\n",
      "  File \"/home/u5708159/python/Modules/ppxf/ppxf.py\", line 1558, in nonlinear_fit\n",
      "    x_scale='jac', tied=tied, fixed=fixed)\n",
      "  File \"/pkg/linux/anaconda-20191122/anaconda3/lib/python3.7/site-packages/scipy/optimize/nnls.py\", line 61, in nnls\n",
      "    x, rnorm, mode = _nnls.nnls(A, m, n, b, w, zz, index, maxiter)\n",
      "  File \"/home/u5708159/python/Modules/ppxf/ppxf.py\", line 1558, in nonlinear_fit\n",
      "    x_scale='jac', tied=tied, fixed=fixed)\n",
      "  File \"/home/u5708159/python/Modules/ppxf/capfit.py\", line 162, in __init__\n",
      "    J2 = self.fdjac(func, p2, f2)\n",
      "  File \"/home/u5708159/python/Modules/ppxf/capfit.py\", line 192, in fdjac\n",
      "    f1 = self.call(func, pars1)\n",
      "  File \"/home/u5708159/python/Modules/ppxf/capfit.py\", line 162, in __init__\n",
      "    J2 = self.fdjac(func, p2, f2)\n",
      "  File \"/home/u5708159/python/Modules/ppxf/capfit.py\", line 192, in fdjac\n",
      "    f1 = self.call(func, pars1)\n",
      "  File \"/pkg/linux/anaconda-20191122/anaconda3/lib/python3.7/multiprocessing/process.py\", line 297, in _bootstrap\n",
      "    self.run()\n",
      "  File \"/home/u5708159/python/Modules/ppxf/capfit.py\", line 205, in call\n",
      "    resid = func(p, *self.args, **self.kwargs)\n",
      "  File \"/home/u5708159/python/Modules/ppxf/capfit.py\", line 162, in __init__\n",
      "    J2 = self.fdjac(func, p2, f2)\n",
      "  File \"/pkg/linux/anaconda-20191122/anaconda3/lib/python3.7/site-packages/scipy/optimize/nnls.py\", line 61, in nnls\n",
      "    x, rnorm, mode = _nnls.nnls(A, m, n, b, w, zz, index, maxiter)\n",
      "KeyboardInterrupt\n",
      "  File \"/pkg/linux/anaconda-20191122/anaconda3/lib/python3.7/multiprocessing/pool.py\", line 44, in mapstar\n",
      "    return list(map(*args))\n",
      "Process ForkPoolWorker-1132:\n",
      "  File \"/home/u5708159/python/Modules/ppxf/capfit.py\", line 205, in call\n",
      "    resid = func(p, *self.args, **self.kwargs)\n",
      "Traceback (most recent call last):\n",
      "  File \"/home/u5708159/python/Modules/ppxf/capfit.py\", line 205, in call\n",
      "    resid = func(p, *self.args, **self.kwargs)\n",
      "  File \"/home/u5708159/python/Modules/ppxftests/run_ppxf.py\", line 199, in ppxf_helper\n",
      "    quiet=True)\n",
      "  File \"/home/u5708159/python/Modules/ppxf/ppxf.py\", line 1716, in linear_fit\n",
      "    self.weights = bvls_solve(aa, bb, npoly)\n",
      "  File \"/home/u5708159/python/Modules/ppxf/capfit.py\", line 192, in fdjac\n",
      "    f1 = self.call(func, pars1)\n",
      "  File \"/home/u5708159/python/Modules/ppxf/ppxf.py\", line 1716, in linear_fit\n",
      "    self.weights = bvls_solve(aa, bb, npoly)\n",
      "  File \"/pkg/linux/anaconda-20191122/anaconda3/lib/python3.7/multiprocessing/process.py\", line 99, in run\n",
      "    self._target(*self._args, **self._kwargs)\n",
      "  File \"/home/u5708159/python/Modules/ppxf/ppxf.py\", line 1716, in linear_fit\n",
      "    self.weights = bvls_solve(aa, bb, npoly)\n",
      "KeyboardInterrupt\n",
      "  File \"/home/u5708159/python/Modules/ppxf/ppxf.py\", line 1094, in bvls_solve\n",
      "    soluz = nnls_flags(A, b, npoly)\n",
      "  File \"/home/u5708159/python/Modules/ppxf/ppxf.py\", line 1471, in __init__\n",
      "    params, perror = self.nonlinear_fit(start1, bounds, fixed, tied, clean)\n",
      "  File \"/home/u5708159/python/Modules/ppxf/ppxf.py\", line 1015, in nnls_flags\n",
      "    x = optimize.nnls(AA, b)[0]\n",
      "  File \"/home/u5708159/python/Modules/ppxf/capfit.py\", line 205, in call\n",
      "    resid = func(p, *self.args, **self.kwargs)\n",
      "  File \"/home/u5708159/python/Modules/ppxf/ppxf.py\", line 1716, in linear_fit\n",
      "    self.weights = bvls_solve(aa, bb, npoly)\n",
      "  File \"/pkg/linux/anaconda-20191122/anaconda3/lib/python3.7/multiprocessing/pool.py\", line 121, in worker\n",
      "    result = (True, func(*args, **kwds))\n",
      "  File \"/pkg/linux/anaconda-20191122/anaconda3/lib/python3.7/site-packages/scipy/optimize/nnls.py\", line 61, in nnls\n",
      "    x, rnorm, mode = _nnls.nnls(A, m, n, b, w, zz, index, maxiter)\n",
      "  File \"/home/u5708159/python/Modules/ppxf/ppxf.py\", line 1094, in bvls_solve\n",
      "    soluz = nnls_flags(A, b, npoly)\n",
      "KeyboardInterrupt\n",
      "  File \"/home/u5708159/python/Modules/ppxf/capfit.py\", line 162, in __init__\n",
      "    J2 = self.fdjac(func, p2, f2)\n",
      "KeyboardInterrupt\n",
      "  File \"/home/u5708159/python/Modules/ppxf/ppxf.py\", line 1094, in bvls_solve\n",
      "    soluz = nnls_flags(A, b, npoly)\n",
      "  File \"/pkg/linux/anaconda-20191122/anaconda3/lib/python3.7/multiprocessing/pool.py\", line 44, in mapstar\n",
      "    return list(map(*args))\n",
      "  File \"/home/u5708159/python/Modules/ppxf/ppxf.py\", line 1094, in bvls_solve\n",
      "    soluz = nnls_flags(A, b, npoly)\n",
      "  File \"/home/u5708159/python/Modules/ppxf/ppxf.py\", line 1558, in nonlinear_fit\n",
      "    x_scale='jac', tied=tied, fixed=fixed)\n",
      "  File \"/home/u5708159/python/Modules/ppxf/ppxf.py\", line 1015, in nnls_flags\n",
      "    x = optimize.nnls(AA, b)[0]\n",
      "  File \"/home/u5708159/python/Modules/ppxf/capfit.py\", line 142, in __init__\n",
      "    f2 = self.call(func, p2)\n",
      "  File \"/home/u5708159/python/Modules/ppxftests/run_ppxf.py\", line 199, in ppxf_helper\n",
      "    quiet=True)\n",
      "  File \"/home/u5708159/python/Modules/ppxf/ppxf.py\", line 1015, in nnls_flags\n",
      "    x = optimize.nnls(AA, b)[0]\n",
      "  File \"/home/u5708159/python/Modules/ppxf/ppxf.py\", line 1015, in nnls_flags\n",
      "    x = optimize.nnls(AA, b)[0]\n",
      "  File \"/pkg/linux/anaconda-20191122/anaconda3/lib/python3.7/site-packages/scipy/optimize/nnls.py\", line 61, in nnls\n",
      "    x, rnorm, mode = _nnls.nnls(A, m, n, b, w, zz, index, maxiter)\n",
      "  File \"/home/u5708159/python/Modules/ppxf/capfit.py\", line 205, in call\n",
      "    resid = func(p, *self.args, **self.kwargs)\n",
      "KeyboardInterrupt\n",
      "  File \"/pkg/linux/anaconda-20191122/anaconda3/lib/python3.7/site-packages/scipy/optimize/nnls.py\", line 61, in nnls\n",
      "    x, rnorm, mode = _nnls.nnls(A, m, n, b, w, zz, index, maxiter)\n",
      "  File \"/home/u5708159/python/Modules/ppxf/ppxf.py\", line 1716, in linear_fit\n",
      "    self.weights = bvls_solve(aa, bb, npoly)\n",
      "  File \"/home/u5708159/python/Modules/ppxf/ppxf.py\", line 1471, in __init__\n",
      "    params, perror = self.nonlinear_fit(start1, bounds, fixed, tied, clean)\n",
      "  File \"/pkg/linux/anaconda-20191122/anaconda3/lib/python3.7/site-packages/scipy/optimize/nnls.py\", line 61, in nnls\n",
      "    x, rnorm, mode = _nnls.nnls(A, m, n, b, w, zz, index, maxiter)\n",
      "KeyboardInterrupt\n",
      "  File \"/home/u5708159/python/Modules/ppxf/ppxf.py\", line 1558, in nonlinear_fit\n",
      "    x_scale='jac', tied=tied, fixed=fixed)\n",
      "  File \"/home/u5708159/python/Modules/ppxf/ppxf.py\", line 1015, in nnls_flags\n",
      "    x = optimize.nnls(AA, b)[0]\n",
      "  File \"/home/u5708159/python/Modules/ppxf/capfit.py\", line 192, in fdjac\n",
      "    f1 = self.call(func, pars1)\n",
      "  File \"/home/u5708159/python/Modules/ppxf/capfit.py\", line 205, in call\n",
      "    resid = func(p, *self.args, **self.kwargs)\n",
      "  File \"/home/u5708159/python/Modules/ppxf/ppxf.py\", line 1094, in bvls_solve\n",
      "    soluz = nnls_flags(A, b, npoly)\n",
      "  File \"/home/u5708159/python/Modules/ppxf/ppxf.py\", line 1716, in linear_fit\n",
      "    self.weights = bvls_solve(aa, bb, npoly)\n",
      "  File \"/pkg/linux/anaconda-20191122/anaconda3/lib/python3.7/site-packages/scipy/optimize/nnls.py\", line 61, in nnls\n",
      "    x, rnorm, mode = _nnls.nnls(A, m, n, b, w, zz, index, maxiter)\n",
      "  File \"/home/u5708159/python/Modules/ppxf/ppxf.py\", line 1094, in bvls_solve\n",
      "    soluz = nnls_flags(A, b, npoly)\n"
     ]
    },
    {
     "name": "stderr",
     "output_type": "stream",
     "text": [
      "  File \"/home/u5708159/python/Modules/ppxf/ppxf.py\", line 1015, in nnls_flags\n",
      "    x = optimize.nnls(AA, b)[0]\n",
      "KeyboardInterrupt\n",
      "  File \"/pkg/linux/anaconda-20191122/anaconda3/lib/python3.7/site-packages/scipy/optimize/nnls.py\", line 61, in nnls\n",
      "    x, rnorm, mode = _nnls.nnls(A, m, n, b, w, zz, index, maxiter)\n",
      "KeyboardInterrupt\n"
     ]
    }
   ],
   "source": [
    "pp_mpoly_regul, pp_mpoly_mc_list = test_helper(spec=spec_agn_ext, spec_err=spec_agn_ext_err, mdegree=4, reddening=None, fit_agn_cont=True)"
   ]
  },
  {
   "cell_type": "code",
   "execution_count": 81,
   "metadata": {
    "scrolled": true
   },
   "outputs": [
    {
     "data": {
      "application/vnd.jupyter.widget-view+json": {
       "model_id": "9b527138b2c148c6ac7e7eab75b5435a",
       "version_major": 2,
       "version_minor": 0
      },
      "text/plain": [
       "Canvas(toolbar=Toolbar(toolitems=[('Home', 'Reset original view', 'home', 'home'), ('Back', 'Back to previous …"
      ]
     },
     "metadata": {},
     "output_type": "display_data"
    },
    {
     "data": {
      "text/plain": [
       "Text(0.5, 0, '$\\\\lambda$ (Å)')"
      ]
     },
     "execution_count": 81,
     "metadata": {},
     "output_type": "execute_result"
    }
   ],
   "source": [
    "# Compare the extinction curve with the polynomial from ppxf \n",
    "fig, ax = plt.subplots(figsize=(10, 5))\n",
    "ax.plot(lambda_vals_A, ext_factor, color=\"black\", label=r\"$10^{-0.4 A_V}$\")\n",
    "ax.plot(lambda_vals_A, ext_factor / np.nanmean(ext_factor), color=\"grey\", label=r\"$10^{-0.4 A_V}$ (normalised)\")\n",
    "for pp in pp_mpoly_mc_list:\n",
    "    ax.plot(pp.lam, pp.mpoly, alpha=0.2, color=\"pink\", label=\"mpoly (MC)\" if pp == pp_mpoly_mc_list[0] else None)\n",
    "ax.plot(pp_mpoly_regul.lam, pp_mpoly_regul.mpoly, color=\"maroon\", label=\"mpoly (regularised)\")\n",
    "ax.legend()\n",
    "ax.set_xlabel(r\"$\\lambda$ (Å)\")"
   ]
  },
  {
   "cell_type": "code",
   "execution_count": 82,
   "metadata": {},
   "outputs": [
    {
     "data": {
      "application/vnd.jupyter.widget-view+json": {
       "model_id": "45ccb70acc3a49808c3234e2ffa88440",
       "version_major": 2,
       "version_minor": 0
      },
      "text/plain": [
       "Canvas(toolbar=Toolbar(toolitems=[('Home', 'Reset original view', 'home', 'home'), ('Back', 'Back to previous …"
      ]
     },
     "metadata": {},
     "output_type": "display_data"
    },
    {
     "data": {
      "text/plain": [
       "Text(0, 0.5, '$x_{\\\\rm AGN}(\\\\lambda)$')"
      ]
     },
     "execution_count": 82,
     "metadata": {},
     "output_type": "execute_result"
    }
   ],
   "source": [
    "# Recreate the AGN continuum fit by ppxf\n",
    "# In this case, because the polynomial is applied to the WHOLE spectrum including any sky components, the best-fit \"sky\" component should look similar to the input\n",
    "# AGN continuum BEFORE the extinction correction is applied.\n",
    "lambda_norm_A = 4020\n",
    "F_lambda_fit = np.zeros(len(lambda_vals_A))\n",
    "\n",
    "fig, ax = plt.subplots(figsize=(10, 5))\n",
    "\n",
    "# Sum up the contributions of each template from the regularised ppxf fit.\n",
    "for aa, alpha_nu in enumerate(pp_mpoly_regul.alpha_nu_vals):\n",
    "    alpha_lambda = 2 - alpha_nu\n",
    "    w_ppxf_regul = pp_mpoly_regul.weights_agn[aa]  # Weight of this template \n",
    "    x_AGN_fit_regul = (1 / w_ppxf_regul - 1)**(-1)  # Weight converted into light fraction of stellar continuum @ 4020Å\n",
    "    \n",
    "    F_0 = x_AGN_fit_regul / lambda_norm_A**(-alpha_lambda)  # Compute constant\n",
    "    F_lambda_aa = F_0 * lambda_vals_A**(-alpha_lambda)  # Compute this component\n",
    "    F_lambda_fit += F_lambda_aa  # Add to total fitted AGN continuum\n",
    "    \n",
    "    # Plot each contribution.\n",
    "    ax.plot(lambda_vals_A, F_lambda_aa, label=f\"alpha_nu = {alpha_nu}, x_AGN = {x_AGN_fit_regul}\")\n",
    "\n",
    "# Plot the TOTAL AGN continuum from the ppxf fit.\n",
    "ax.plot(lambda_vals_A, F_lambda_fit, label=\"Total ppxf fit\")\n",
    "\n",
    "# Now, evaluate the INPUT AGN continuum.\n",
    "alpha_lambda_input = 2 - alpha_nu_input\n",
    "F_0_input = x_AGN_input / lambda_norm_A**(-alpha_lambda_input)\n",
    "F_lambda_input = F_0_input * lambda_vals_A**(-alpha_lambda_input)\n",
    "\n",
    "# Apply the extinction correction to the INPUT AGN continuum.\n",
    "# NOTE: after this, we need to re-normalise F_lambda_input_ext to be equal to x_AGN at 4020Å, \n",
    "# because both the stellar & AGN continua are affected in identical ways by the extinction. \n",
    "# i.e., F_AGN(4020Å) = x_AGN * F_*(4020Å) AFTER the extinction is applied.\n",
    "F_lambda_input_ext = F_lambda_input * ext_factor  \n",
    "F_lambda_input_ext *= x_AGN_input / F_lambda_input_ext[np.nanargmin(np.abs(lambda_vals_A - lambda_norm_A))]\n",
    "\n",
    "ax.plot(lambda_vals_A, F_lambda_input, label=\"Input AGN continuum\")\n",
    "ax.plot(lambda_vals_A, F_lambda_input_ext, label=\"Extincted input AGN continuum\")\n",
    "ax.axvline(lambda_norm_A, color=\"k\", ls=\"--\")\n",
    "\n",
    "ax.legend()\n",
    "ax.set_xlabel(\"Wavelenghth (Å)\")\n",
    "ax.set_ylabel(r\"$x_{\\rm AGN}(\\lambda)$\")\n"
   ]
  },
  {
   "cell_type": "markdown",
   "metadata": {},
   "source": [
    "### Spectrum: WITH extinction; ppxf: WITH reddening; WITH AGN continuum\n",
    "* does ppxf accurately recover the AGN continuum?"
   ]
  },
  {
   "cell_type": "code",
   "execution_count": 75,
   "metadata": {
    "scrolled": true
   },
   "outputs": [
    {
     "name": "stdout",
     "output_type": "stream",
     "text": [
      "Running ppxf on 20 threads...\n"
     ]
    },
    {
     "data": {
      "application/vnd.jupyter.widget-view+json": {
       "model_id": "faee2f0f03714ba4982d7e39b0df6406",
       "version_major": 2,
       "version_minor": 0
      },
      "text/plain": [
       "HBox(children=(IntProgress(value=0, max=20), HTML(value='')))"
      ]
     },
     "metadata": {},
     "output_type": "display_data"
    },
    {
     "name": "stdout",
     "output_type": "stream",
     "text": [
      "\n",
      "Total time in ppxf: 51.91 s\n",
      "----------------------------------------------------\n",
      "Iteration 0: Elapsed time in PPXF (single thread): 4.30 s\n",
      "----------------------------------------------------\n",
      "Iteration 1: Scaling noise by 1.3500...\n",
      "Iteration 1: Running ppxf on 20 threads...\n",
      "Iteration 1: Elapsed time in PPXF (multithreaded): 96.12 s\n",
      "Iteration 1: optimal regul = 50000.00; Δm = 2.97696e+11; Δregul = 2500.00 (Δregul_min = 1.00); Δχ (goal) - Δχ = 59.854\n",
      "----------------------------------------------------\n",
      "STOPPING: Optimal regul value is >= 50000.0; using 50000.00 to produce the best fit\n",
      "Total time in run_ppxf: 101.87 seconds\n"
     ]
    },
    {
     "data": {
      "application/vnd.jupyter.widget-view+json": {
       "model_id": "8db351eb9d014c39997f76c5c0c85617",
       "version_major": 2,
       "version_minor": 0
      },
      "text/plain": [
       "Canvas(toolbar=Toolbar(toolitems=[('Home', 'Reset original view', 'home', 'home'), ('Back', 'Back to previous …"
      ]
     },
     "metadata": {},
     "output_type": "display_data"
    },
    {
     "data": {
      "application/vnd.jupyter.widget-view+json": {
       "model_id": "6e3e0a8e034541278a163a46336fcb78",
       "version_major": 2,
       "version_minor": 0
      },
      "text/plain": [
       "Canvas(toolbar=Toolbar(toolitems=[('Home', 'Reset original view', 'home', 'home'), ('Back', 'Back to previous …"
      ]
     },
     "metadata": {},
     "output_type": "display_data"
    },
    {
     "data": {
      "application/vnd.jupyter.widget-view+json": {
       "model_id": "1c810e1e12b34a70b49a744782ba12e4",
       "version_major": 2,
       "version_minor": 0
      },
      "text/plain": [
       "Canvas(toolbar=Toolbar(toolitems=[('Home', 'Reset original view', 'home', 'home'), ('Back', 'Back to previous …"
      ]
     },
     "metadata": {},
     "output_type": "display_data"
    },
    {
     "data": {
      "application/vnd.jupyter.widget-view+json": {
       "model_id": "2cc53b43bdbe47fb826e87089c8f7228",
       "version_major": 2,
       "version_minor": 0
      },
      "text/plain": [
       "Canvas(toolbar=Toolbar(toolitems=[('Home', 'Reset original view', 'home', 'home'), ('Back', 'Back to previous …"
      ]
     },
     "metadata": {},
     "output_type": "display_data"
    },
    {
     "data": {
      "application/vnd.jupyter.widget-view+json": {
       "model_id": "2ee3c1d9296c45a7908d08559ad8b57d",
       "version_major": 2,
       "version_minor": 0
      },
      "text/plain": [
       "Canvas(toolbar=Toolbar(toolitems=[('Home', 'Reset original view', 'home', 'home'), ('Back', 'Back to previous …"
      ]
     },
     "metadata": {},
     "output_type": "display_data"
    }
   ],
   "source": [
    "pp_ext_regul, pp_ext_mc_list = test_helper(spec=spec_agn_ext, spec_err=spec_agn_ext_err, mdegree=-1, reddening=3.0, fit_agn_cont=True)"
   ]
  },
  {
   "cell_type": "code",
   "execution_count": 76,
   "metadata": {
    "scrolled": true
   },
   "outputs": [
    {
     "data": {
      "application/vnd.jupyter.widget-view+json": {
       "model_id": "2ab940b06c6e4304b09897a0af8deebc",
       "version_major": 2,
       "version_minor": 0
      },
      "text/plain": [
       "Canvas(toolbar=Toolbar(toolitems=[('Home', 'Reset original view', 'home', 'home'), ('Back', 'Back to previous …"
      ]
     },
     "metadata": {},
     "output_type": "display_data"
    },
    {
     "data": {
      "text/plain": [
       "Text(0.5, 0, '$\\\\lambda$ (Å)')"
      ]
     },
     "execution_count": 76,
     "metadata": {},
     "output_type": "execute_result"
    }
   ],
   "source": [
    "# Compare the extinction curve with the polynomial from ppxf \n",
    "fig, ax = plt.subplots(figsize=(10, 5))\n",
    "ax.plot(lambda_vals_A, ext_factor, color=\"black\", label=r\"$10^{-0.4 A_V}$\")\n",
    "ax.plot(lambda_vals_A, ext_factor / np.nanmean(ext_factor), color=\"grey\", label=r\"$10^{-0.4 A_V}$ (normalised)\")\n",
    "for pp in pp_ext_mc_list:\n",
    "    ax.plot(pp.lam, pp.mpoly, alpha=0.2, color=\"pink\", label=\"mpoly (MC)\" if pp == pp_ext_mc_list[0] else None)\n",
    "ax.plot(pp_ext_regul.lam, pp_ext_regul.mpoly, color=\"maroon\", label=\"mpoly (regularised)\")\n",
    "ax.legend()\n",
    "ax.set_xlabel(r\"$\\lambda$ (Å)\")"
   ]
  },
  {
   "cell_type": "code",
   "execution_count": 77,
   "metadata": {},
   "outputs": [],
   "source": [
    "# Compare the input AGN continuum with the fitted one\n",
    "w_ppxf_regul = pp_ext_regul.weights_agn\n",
    "x_AGN_fit_vals_regul = (1 / w_ppxf_regul - 1)**(-1)\n"
   ]
  },
  {
   "cell_type": "code",
   "execution_count": 78,
   "metadata": {},
   "outputs": [
    {
     "data": {
      "application/vnd.jupyter.widget-view+json": {
       "model_id": "f3f90e33638545618753ca785c1e6852",
       "version_major": 2,
       "version_minor": 0
      },
      "text/plain": [
       "Canvas(toolbar=Toolbar(toolitems=[('Home', 'Reset original view', 'home', 'home'), ('Back', 'Back to previous …"
      ]
     },
     "metadata": {},
     "output_type": "display_data"
    },
    {
     "data": {
      "text/plain": [
       "Text(0, 0.5, '$x_{\\\\rm AGN}(\\\\lambda)$')"
      ]
     },
     "execution_count": 78,
     "metadata": {},
     "output_type": "execute_result"
    }
   ],
   "source": [
    "# Recreate the AGN continuum fit by ppxf\n",
    "# In this case, because the extinction correction is NOT applied to the sky templates within ppxf, the best-fit \"sky\" spectrum should look similar to the input \n",
    "# AGN spectrum AFTER extinction has been applied.\n",
    "lambda_norm_A = 4020\n",
    "F_lambda_fit = np.zeros(len(lambda_vals_A))\n",
    "\n",
    "fig, ax = plt.subplots(figsize=(10, 5))\n",
    "\n",
    "# Sum up the contributions of each template from the regularised ppxf fit.\n",
    "for aa, alpha_nu in enumerate(pp_ext_regul.alpha_nu_vals):\n",
    "    alpha_lambda = 2 - alpha_nu\n",
    "    w_ppxf_regul = pp_ext_regul.weights_agn[aa]  # Weight of this template \n",
    "    x_AGN_fit_regul = (1 / w_ppxf_regul - 1)**(-1)  # Weight converted into light fraction of stellar continuum @ 4020Å\n",
    "    \n",
    "    F_0 = x_AGN_fit_regul / lambda_norm_A**(-alpha_lambda)  # Compute constant\n",
    "    F_lambda_aa = F_0 * lambda_vals_A**(-alpha_lambda)  # Compute this component\n",
    "    F_lambda_fit += F_lambda_aa  # Add to total fitted AGN continuum\n",
    "    \n",
    "    # Plot each contribution.\n",
    "    ax.plot(lambda_vals_A, F_lambda_aa, label=f\"alpha_nu = {alpha_nu}, x_AGN = {x_AGN_fit_regul}\")\n",
    "\n",
    "# Plot the TOTAL AGN continuum from the ppxf fit.\n",
    "ax.plot(lambda_vals_A, F_lambda_fit, label=\"Total ppxf fit\")\n",
    "\n",
    "# Now, evaluate the INPUT AGN continuum.\n",
    "alpha_lambda_input = 2 - alpha_nu_input\n",
    "F_0_input = x_AGN_input / lambda_norm_A**(-alpha_lambda_input)\n",
    "F_lambda_input = F_0_input * lambda_vals_A**(-alpha_lambda_input)\n",
    "\n",
    "# Apply the extinction correction to the INPUT AGN continuum.\n",
    "# NOTE: after this, we need to re-normalise F_lambda_input_ext to be equal to x_AGN at 4020Å, \n",
    "# because both the stellar & AGN continua are affected in identical ways by the extinction. \n",
    "# i.e., F_AGN(4020Å) = x_AGN * F_*(4020Å) AFTER the extinction is applied.\n",
    "F_lambda_input_ext = F_lambda_input * ext_factor  \n",
    "F_lambda_input_ext *= x_AGN_input / F_lambda_input_ext[np.nanargmin(np.abs(lambda_vals_A - lambda_norm_A))]\n",
    "\n",
    "ax.plot(lambda_vals_A, F_lambda_input, label=\"Input AGN continuum\")\n",
    "ax.plot(lambda_vals_A, F_lambda_input_ext, label=\"Extincted input AGN continuum\")\n",
    "ax.axvline(lambda_norm_A, color=\"k\", ls=\"--\")\n",
    "\n",
    "ax.legend()\n",
    "ax.set_xlabel(\"Wavelenghth (Å)\")\n",
    "ax.set_ylabel(r\"$x_{\\rm AGN}(\\lambda)$\")"
   ]
  },
  {
   "cell_type": "code",
   "execution_count": null,
   "metadata": {},
   "outputs": [],
   "source": []
  }
 ],
 "metadata": {
  "kernelspec": {
   "display_name": "Python 3",
   "language": "python",
   "name": "python3"
  },
  "language_info": {
   "codemirror_mode": {
    "name": "ipython",
    "version": 3
   },
   "file_extension": ".py",
   "mimetype": "text/x-python",
   "name": "python",
   "nbconvert_exporter": "python",
   "pygments_lexer": "ipython3",
   "version": "3.7.4"
  }
 },
 "nbformat": 4,
 "nbformat_minor": 2
}
