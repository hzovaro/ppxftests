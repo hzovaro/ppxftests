{
 "cells": [
  {
   "cell_type": "markdown",
   "metadata": {},
   "source": [
    "# Test: the impact of extinction\n",
    "---\n",
    "Because extinction reduces the overall light, if it is not taken into account during the fit, then the SFH estimated by ppxf (particularly the stellar mass) may be inaccurate.\n",
    "* Test 1: extincted vs. non-extincted WITHOUT mpoly in ppxf: how does it fare?\n",
    "* Test 2: extincted vs. non-extincted WITH mpoly in ppxf: what does the best-fit polynomial look like? How accurate is the recovered SFH?\n"
   ]
  },
  {
   "cell_type": "code",
   "execution_count": 5,
   "metadata": {},
   "outputs": [],
   "source": [
    "%matplotlib widget"
   ]
  },
  {
   "cell_type": "code",
   "execution_count": 6,
   "metadata": {},
   "outputs": [
    {
     "data": {
      "text/html": [
       "<style>.container { width:75% !important; }</style>"
      ],
      "text/plain": [
       "<IPython.core.display.HTML object>"
      ]
     },
     "metadata": {},
     "output_type": "display_data"
    },
    {
     "data": {
      "text/html": [
       "<style>.output_result { max-width:75% !important; }</style>"
      ],
      "text/plain": [
       "<IPython.core.display.HTML object>"
      ]
     },
     "metadata": {},
     "output_type": "display_data"
    }
   ],
   "source": [
    "from IPython.core.display import display, HTML\n",
    "display(HTML(\"<style>.container { width:75% !important; }</style>\"))\n",
    "display(HTML(\"<style>.output_result { max-width:75% !important; }</style>\"))"
   ]
  },
  {
   "cell_type": "code",
   "execution_count": 20,
   "metadata": {},
   "outputs": [],
   "source": [
    "import os\n",
    "import numpy as np\n",
    "from numpy.random import RandomState\n",
    "from time import time \n",
    "from tqdm.notebook import tqdm\n",
    "from itertools import product\n",
    "import multiprocessing\n",
    "import pandas as pd\n",
    "import extinction\n",
    "\n",
    "from astropy.io import fits\n",
    "\n",
    "from ppxftests.run_ppxf import run_ppxf\n",
    "from ppxftests.ssputils import load_ssp_templates, get_bin_edges_and_widths\n",
    "from ppxftests.mockspec import create_mock_spectrum\n",
    "from ppxftests.sfhutils import load_sfh, compute_mw_age, compute_lw_age, compute_cumulative_mass, compute_cumulative_light\n",
    "from ppxftests.sfhutils import compute_mean_age, compute_mean_mass, compute_mean_sfr, compute_mean_1D_sfh\n",
    "from ppxftests.ppxf_plot import plot_sfh_mass_weighted, plot_sfh_light_weighted, ppxf_plot\n",
    "from ppxftests.plot_ppxf_summary import plot_ppxf_summary\n",
    "\n",
    "import matplotlib\n",
    "import matplotlib.pyplot as plt\n",
    "from matplotlib.backends.backend_pdf import PdfPages\n",
    "plt.ion()\n",
    "plt.close(\"all\")\n",
    "\n",
    "from IPython.core.debugger import Tracer\n",
    "\n",
    "fig_path = \"/priv/meggs3/u5708159/ppxftests/figs/\"\n",
    "data_path = \"/priv/meggs3/u5708159/ppxftests/\"\n"
   ]
  },
  {
   "cell_type": "markdown",
   "metadata": {},
   "source": [
    "## How does the reddening curve change as a function of $A_V$?\n",
    "---\n",
    "If the reddening curve takes on a relatively unique shape for each $A_V$, then it might be possible to determine the $A_V$ from the polynomial fit. We could then re-scale the SFH to recover accurate masses."
   ]
  },
  {
   "cell_type": "code",
   "execution_count": 44,
   "metadata": {
    "scrolled": true
   },
   "outputs": [
    {
     "data": {
      "application/vnd.jupyter.widget-view+json": {
       "model_id": "41007334f235495bb7f2d628d9c9a481",
       "version_major": 2,
       "version_minor": 0
      },
      "text/plain": [
       "Canvas(toolbar=Toolbar(toolitems=[('Home', 'Reset original view', 'home', 'home'), ('Back', 'Back to previous …"
      ]
     },
     "metadata": {},
     "output_type": "display_data"
    },
    {
     "data": {
      "text/plain": [
       "<matplotlib.legend.Legend at 0x7f847af01990>"
      ]
     },
     "execution_count": 44,
     "metadata": {},
     "output_type": "execute_result"
    }
   ],
   "source": [
    "lambda_vals_A = np.linspace(3500, 9000, 4500)\n",
    "lambda_0_A = 6000\n",
    "lambda_0_idx = np.nanargmin(np.abs(lambda_vals_A - lambda_0_A))\n",
    "A_V_vals = np.linspace(0, 10, 11)\n",
    "\n",
    "fig, ax = plt.subplots(nrows=1, ncols=1, figsize=(10, 5))\n",
    "cmap_A_V = matplotlib.cm.get_cmap(\"magma\", len(A_V_vals))\n",
    "for aa, A_V in enumerate(A_V_vals):\n",
    "    A_vals = extinction.fm07(lambda_vals_A, a_v=A_V, unit=\"aa\")\n",
    "    ext_curve = 10**(-0.4 * A_vals)\n",
    "    ax.plot(lambda_vals_A, ext_curve / ext_curve[lambda_0_idx], color=cmap_A_V(aa), label=r\"$A_V = %.2f$\" % A_V)\n",
    "ax.set_xlabel(\"Wavelength (Å)\")\n",
    "ax.set_ylabel(r\"$10^{-0.4 A(\\lambda)} / 10^{-0.4 A(\\lambda_0)}$\")\n",
    "ax.legend()\n",
    "\n"
   ]
  },
  {
   "cell_type": "markdown",
   "metadata": {},
   "source": [
    "## What does a heavily-extincted AGN continuum look like?\n",
    "---"
   ]
  },
  {
   "cell_type": "code",
   "execution_count": 45,
   "metadata": {},
   "outputs": [
    {
     "data": {
      "application/vnd.jupyter.widget-view+json": {
       "model_id": "c52ea2c386a54ee2ac520baf5a038235",
       "version_major": 2,
       "version_minor": 0
      },
      "text/plain": [
       "Canvas(toolbar=Toolbar(toolitems=[('Home', 'Reset original view', 'home', 'home'), ('Back', 'Back to previous …"
      ]
     },
     "metadata": {},
     "output_type": "display_data"
    },
    {
     "data": {
      "text/plain": [
       "<matplotlib.legend.Legend at 0x7f847aa7e850>"
      ]
     },
     "execution_count": 45,
     "metadata": {},
     "output_type": "execute_result"
    }
   ],
   "source": [
    "lambda_vals_A = np.linspace(3500, 9000, 4500)\n",
    "lambda_0_A = 4020\n",
    "lambda_0_idx = np.nanargmin(np.abs(lambda_vals_A - lambda_0_A))\n",
    "\n",
    "alpha_nu = 1.0\n",
    "alpha_lambda = 2 - alpha_nu\n",
    "x_AGN = 1.0\n",
    "F_0 = x_AGN / lambda_0_A**(-alpha_lambda)\n",
    "F_agn = F_0 * lambda_vals_A**(-alpha_lambda)\n",
    "\n",
    "A_V_vals = np.linspace(0, 10, 11)\n",
    "\n",
    "fig, ax = plt.subplots(nrows=1, ncols=1, figsize=(10, 5))\n",
    "cmap_A_V = matplotlib.cm.get_cmap(\"magma\", len(A_V_vals))\n",
    "for aa, A_V in enumerate(A_V_vals):\n",
    "    A_vals = extinction.fm07(lambda_vals_A, a_v=A_V, unit=\"aa\")\n",
    "    ext_curve = 10**(-0.4 * A_vals)\n",
    "    ax.plot(lambda_vals_A, F_agn * ext_curve, color=cmap_A_V(aa), label=r\"$A_V = %.2f$\" % A_V)\n",
    "ax.set_xlabel(\"Wavelength (Å)\")\n",
    "ax.set_ylabel(r\"$F_{\\rm AGN} \\times 10^{-0.4 A(\\lambda)}$\")\n",
    "ax.legend()\n",
    "\n"
   ]
  },
  {
   "cell_type": "markdown",
   "metadata": {},
   "source": [
    "## Run `ppxf` on spectra with extinction applied\n",
    "---"
   ]
  },
  {
   "cell_type": "code",
   "execution_count": 8,
   "metadata": {
    "scrolled": false
   },
   "outputs": [
    {
     "data": {
      "application/vnd.jupyter.widget-view+json": {
       "model_id": "7bd4054a25024bc0b2a39cf5af6da17d",
       "version_major": 2,
       "version_minor": 0
      },
      "text/plain": [
       "Canvas(toolbar=Toolbar(toolitems=[('Home', 'Reset original view', 'home', 'home'), ('Back', 'Back to previous …"
      ]
     },
     "metadata": {},
     "output_type": "display_data"
    },
    {
     "data": {
      "application/vnd.jupyter.widget-view+json": {
       "model_id": "2ebb31f7a4dc481eb514d3d1ab295706",
       "version_major": 2,
       "version_minor": 0
      },
      "text/plain": [
       "Canvas(toolbar=Toolbar(toolitems=[('Home', 'Reset original view', 'home', 'home'), ('Back', 'Back to previous …"
      ]
     },
     "metadata": {},
     "output_type": "display_data"
    },
    {
     "data": {
      "application/vnd.jupyter.widget-view+json": {
       "model_id": "a8d47c5379f44e51aa5e8f7b51c81f7e",
       "version_major": 2,
       "version_minor": 0
      },
      "text/plain": [
       "Canvas(toolbar=Toolbar(toolitems=[('Home', 'Reset original view', 'home', 'home'), ('Back', 'Back to previous …"
      ]
     },
     "metadata": {},
     "output_type": "display_data"
    },
    {
     "data": {
      "application/vnd.jupyter.widget-view+json": {
       "model_id": "3290d986c07d46508cf3e1de54100ad6",
       "version_major": 2,
       "version_minor": 0
      },
      "text/plain": [
       "Canvas(toolbar=Toolbar(toolitems=[('Home', 'Reset original view', 'home', 'home'), ('Back', 'Back to previous …"
      ]
     },
     "metadata": {},
     "output_type": "display_data"
    },
    {
     "data": {
      "text/plain": [
       "[<matplotlib.legend.Legend at 0x7f84e0648c90>,\n",
       " <matplotlib.legend.Legend at 0x7f84e06bfd50>,\n",
       " <matplotlib.legend.Legend at 0x7f84e064f3d0>]"
      ]
     },
     "execution_count": 8,
     "metadata": {},
     "output_type": "execute_result"
    }
   ],
   "source": [
    "###############################################################################\n",
    "# Load a realistic SFH\n",
    "###############################################################################\n",
    "isochrones = \"Padova\"\n",
    "SNR = 100\n",
    "z = 0\n",
    "niters = 20\n",
    "nthreads = 20\n",
    "\n",
    "x_AGN_input=0.5\n",
    "alpha_nu_input=1.0\n",
    "\n",
    "gal = 10\n",
    "sfh_mw_input, sfh_lw_input, sfr_avg_input, sigma_star_kms = load_sfh(gal, plotit=True)\n",
    "M_tot = np.nansum(sfh_mw_input)\n",
    "\n",
    "###############################################################################\n",
    "# Create spectrum\n",
    "###############################################################################\n",
    "spec, spec_err, lambda_vals_A = create_mock_spectrum(\n",
    "    sfh_mass_weighted=sfh_mw_input,\n",
    "    agn_continuum=False,\n",
    "    isochrones=isochrones, z=z, SNR=SNR, sigma_star_kms=sigma_star_kms,\n",
    "    plotit=False)\n",
    "\n",
    "spec_agn, spec_agn_err, lambda_vals_A = create_mock_spectrum(\n",
    "    sfh_mass_weighted=sfh_mw_input,\n",
    "    agn_continuum=True, x_AGN=x_AGN_input, alpha_nu=alpha_nu_input,\n",
    "    isochrones=isochrones, z=z, SNR=SNR, sigma_star_kms=sigma_star_kms,\n",
    "    plotit=False)\n",
    "\n",
    "# Apply extinction\n",
    "A_V = 1.0\n",
    "A_vals = extinction.fm07(lambda_vals_A, a_v=A_V, unit=\"aa\")\n",
    "ext_factor = 10**(-0.4 * A_vals)\n",
    "\n",
    "spec_ext = spec * ext_factor\n",
    "spec_ext_err = spec_err * ext_factor\n",
    "spec_agn_ext = spec_agn * ext_factor\n",
    "spec_agn_ext_err = spec_agn_err * ext_factor\n",
    "\n",
    "# Plot \n",
    "fig, axs = plt.subplots(nrows=3, figsize=(15, 7.5))\n",
    "axs[0].plot(lambda_vals_A, spec, label=\"Stellar continuum - before applying extinction\")\n",
    "axs[0].plot(lambda_vals_A, spec_ext, label=\"Stellar continuum - after applying extinction\")\n",
    "axs[1].plot(lambda_vals_A, spec_agn, label=\"Stellar continuum with AGN - before applying extinction\")\n",
    "axs[1].plot(lambda_vals_A, spec_agn_ext, label=\"Stellar continuum with AGN - after applying extinction\")\n",
    "axs[2].plot(lambda_vals_A, ext_factor, label=\"Extinction factor\")\n",
    "[ax.legend() for ax in axs]\n"
   ]
  },
  {
   "cell_type": "code",
   "execution_count": 15,
   "metadata": {},
   "outputs": [],
   "source": [
    "###########################################################################\n",
    "# Helper function for running MC simulations\n",
    "###########################################################################\n",
    "def ppxf_helper(args):\n",
    "    # Unpack arguments\n",
    "    seed, spec, spec_err, lambda_vals_A, mdegree, reddening, fit_agn_cont = args\n",
    "    \n",
    "    # Add \"extra\" noise to the spectrum\n",
    "    rng = RandomState(seed)\n",
    "    noise = rng.normal(scale=spec_err)\n",
    "    spec_noise = spec + noise\n",
    "\n",
    "    # This is to mitigate the \"edge effects\" of the convolution with the LSF\n",
    "    spec_noise[0] = -9999\n",
    "    spec_noise[-1] = -9999\n",
    "\n",
    "    # Run ppxf\n",
    "    pp = run_ppxf(spec=spec_noise, spec_err=spec_err, lambda_vals_A=lambda_vals_A,\n",
    "                  z=z, ngascomponents=1, mdegree=mdegree, reddening=reddening,\n",
    "                  regularisation_method=\"none\",  \n",
    "                  fit_agn_cont=fit_agn_cont,\n",
    "                  isochrones=\"Padova\",\n",
    "                  fit_gas=False, tie_balmer=True,\n",
    "                  plotit=False, savefigs=False, interactive_mode=False)\n",
    "    return pp\n"
   ]
  },
  {
   "cell_type": "code",
   "execution_count": 23,
   "metadata": {},
   "outputs": [],
   "source": [
    "###########################################################################\n",
    "# Helper function for running our tests\n",
    "###########################################################################\n",
    "def test_helper(spec, spec_err, mdegree, reddening, fit_agn_cont, regul_start):\n",
    "    # Input arguments\n",
    "    seeds = list(np.random.randint(low=0, high=100 * niters, size=niters))\n",
    "    args_list = [[s, spec, spec_err, lambda_vals_A, mdegree, reddening, fit_agn_cont] for s in seeds]\n",
    "\n",
    "    # Run in parallel\n",
    "    print(f\"Running ppxf on {nthreads} threads...\")\n",
    "    t = time()\n",
    "    with multiprocessing.Pool(nthreads) as pool:\n",
    "        pp_mc_list = list(tqdm(pool.imap(ppxf_helper, args_list), total=niters))\n",
    "    print(f\"Total time in ppxf: {time() - t:.2f} s\")\n",
    "\n",
    "    ###########################################################################\n",
    "    # Run ppxf with regularisation\n",
    "    ###########################################################################\n",
    "    t = time()\n",
    "    pp_regul = run_ppxf(spec=spec, spec_err=spec_err, lambda_vals_A=lambda_vals_A,\n",
    "                        isochrones=isochrones, \n",
    "                        z=z, ngascomponents=1, mdegree=mdegree, reddening=reddening, \n",
    "                        fit_gas=False, tie_balmer=True,\n",
    "                        fit_agn_cont=fit_agn_cont,\n",
    "                        regularisation_method=\"auto\",\n",
    "                        delta_regul_min=1, regul_max=100e4, delta_delta_chi2_min=1, regul_start=regul_start, regul_span=50e4,\n",
    "                        plotit=False, savefigs=False, interactive_mode=False)\n",
    "\n",
    "    print(f\"Total time in run_ppxf: {time() - t:.2f} seconds\")\n",
    "\n",
    "    ###########################################################################\n",
    "    # Summary plots\n",
    "    ###########################################################################\n",
    "    plot_ppxf_summary(sfh_lw_input, sfh_mw_input, pp_regul, pp_mc_list, isochrones)\n",
    "\n",
    "    # Check the quality of the fit\n",
    "    ppxf_plot(pp_regul); plt.gcf().suptitle(f\"Regularised fit; mdegree={mdegree}; reddening={reddening}; fit_agn_cont={fit_agn_cont}\")\n",
    "    ppxf_plot(pp_mc_list[0]); plt.gcf().suptitle(f\"MC fit; mdegree={mdegree}; reddening={reddening}; fit_agn_cont={fit_agn_cont}\")\n",
    "    \n",
    "    return pp_regul, pp_mc_list\n"
   ]
  },
  {
   "cell_type": "markdown",
   "metadata": {},
   "source": [
    "### Spectrum: NO extinction; ppxf: NO mpoly fit"
   ]
  },
  {
   "cell_type": "code",
   "execution_count": 39,
   "metadata": {
    "collapsed": true
   },
   "outputs": [
    {
     "name": "stdout",
     "output_type": "stream",
     "text": [
      "Running ppxf on 20 threads...\n"
     ]
    },
    {
     "data": {
      "application/vnd.jupyter.widget-view+json": {
       "model_id": "44b0dba3bc6248099790e9c18615547a",
       "version_major": 2,
       "version_minor": 0
      },
      "text/plain": [
       "HBox(children=(IntProgress(value=0, max=20), HTML(value='')))"
      ]
     },
     "metadata": {},
     "output_type": "display_data"
    },
    {
     "name": "stdout",
     "output_type": "stream",
     "text": [
      "\n",
      "Total time in ppxf: 46.21 s\n",
      "----------------------------------------------------\n",
      "Iteration 0: Elapsed time in PPXF (single thread): 8.21 s\n",
      "----------------------------------------------------\n",
      "Iteration 1: Scaling noise by 1.3885...\n",
      "Iteration 1: Running ppxf on 20 threads...\n",
      "Iteration 1: Elapsed time in PPXF (multithreaded): 27.32 s\n",
      "Iteration 1: optimal regul = 50000.00; Δm = 2.89318e+11; Δregul = 2500.00 (Δregul_min = 1.00); Δχ (goal) - Δχ = 2.244\n",
      "----------------------------------------------------\n",
      "STOPPING: Optimal regul value is >= 50000.0; using 50000.00 to produce the best fit\n",
      "Total time in run_ppxf: 45.12 seconds\n"
     ]
    },
    {
     "data": {
      "application/vnd.jupyter.widget-view+json": {
       "model_id": "e7ded4a848cf42228d3c57871a3ca8be",
       "version_major": 2,
       "version_minor": 0
      },
      "text/plain": [
       "Canvas(toolbar=Toolbar(toolitems=[('Home', 'Reset original view', 'home', 'home'), ('Back', 'Back to previous …"
      ]
     },
     "metadata": {},
     "output_type": "display_data"
    },
    {
     "data": {
      "application/vnd.jupyter.widget-view+json": {
       "model_id": "9685bab772bf46bda67aaf87986b4a7c",
       "version_major": 2,
       "version_minor": 0
      },
      "text/plain": [
       "Canvas(toolbar=Toolbar(toolitems=[('Home', 'Reset original view', 'home', 'home'), ('Back', 'Back to previous …"
      ]
     },
     "metadata": {},
     "output_type": "display_data"
    },
    {
     "data": {
      "application/vnd.jupyter.widget-view+json": {
       "model_id": "e427204039f241a49a4581a556d6b593",
       "version_major": 2,
       "version_minor": 0
      },
      "text/plain": [
       "Canvas(toolbar=Toolbar(toolitems=[('Home', 'Reset original view', 'home', 'home'), ('Back', 'Back to previous …"
      ]
     },
     "metadata": {},
     "output_type": "display_data"
    },
    {
     "data": {
      "application/vnd.jupyter.widget-view+json": {
       "model_id": "879828477e2148cbb9704408daa5641e",
       "version_major": 2,
       "version_minor": 0
      },
      "text/plain": [
       "Canvas(toolbar=Toolbar(toolitems=[('Home', 'Reset original view', 'home', 'home'), ('Back', 'Back to previous …"
      ]
     },
     "metadata": {},
     "output_type": "display_data"
    },
    {
     "data": {
      "application/vnd.jupyter.widget-view+json": {
       "model_id": "3716e34b82a24ee692233d3f9f0c687f",
       "version_major": 2,
       "version_minor": 0
      },
      "text/plain": [
       "Canvas(toolbar=Toolbar(toolitems=[('Home', 'Reset original view', 'home', 'home'), ('Back', 'Back to previous …"
      ]
     },
     "metadata": {},
     "output_type": "display_data"
    },
    {
     "data": {
      "text/plain": [
       "(<ppxf.ppxf.ppxf at 0x7fed589a9e10>,\n",
       " [<ppxf.ppxf.ppxf at 0x7fed59e0bf50>,\n",
       "  <ppxf.ppxf.ppxf at 0x7fed59ff6bd0>,\n",
       "  <ppxf.ppxf.ppxf at 0x7fed59ff6d50>,\n",
       "  <ppxf.ppxf.ppxf at 0x7fed58982a50>,\n",
       "  <ppxf.ppxf.ppxf at 0x7fed58ab71d0>,\n",
       "  <ppxf.ppxf.ppxf at 0x7fed58a28190>,\n",
       "  <ppxf.ppxf.ppxf at 0x7fed59d757d0>,\n",
       "  <ppxf.ppxf.ppxf at 0x7fed5af0ea50>,\n",
       "  <ppxf.ppxf.ppxf at 0x7fed59e0bfd0>,\n",
       "  <ppxf.ppxf.ppxf at 0x7fed59e35c10>,\n",
       "  <ppxf.ppxf.ppxf at 0x7fed58982f50>,\n",
       "  <ppxf.ppxf.ppxf at 0x7fed59ea0710>,\n",
       "  <ppxf.ppxf.ppxf at 0x7fed59fcda10>,\n",
       "  <ppxf.ppxf.ppxf at 0x7fed589d0950>,\n",
       "  <ppxf.ppxf.ppxf at 0x7fed58a28bd0>,\n",
       "  <ppxf.ppxf.ppxf at 0x7fed59eb30d0>,\n",
       "  <ppxf.ppxf.ppxf at 0x7fed58a784d0>,\n",
       "  <ppxf.ppxf.ppxf at 0x7fed59e7ced0>,\n",
       "  <ppxf.ppxf.ppxf at 0x7fed59d75e90>,\n",
       "  <ppxf.ppxf.ppxf at 0x7fed59d75cd0>])"
      ]
     },
     "execution_count": 39,
     "metadata": {},
     "output_type": "execute_result"
    }
   ],
   "source": [
    "pp_regul, pp_mc_list = test_helper(spec=spec, spec_err=spec_err, mdegree=-1, reddening=None, fit_agn_cont=False)"
   ]
  },
  {
   "cell_type": "markdown",
   "metadata": {},
   "source": [
    "### Spectrum: WITH extinction; ppxf: NO mpoly fit"
   ]
  },
  {
   "cell_type": "code",
   "execution_count": 15,
   "metadata": {
    "collapsed": true
   },
   "outputs": [
    {
     "name": "stdout",
     "output_type": "stream",
     "text": [
      "Running ppxf on 20 threads...\n"
     ]
    },
    {
     "data": {
      "application/vnd.jupyter.widget-view+json": {
       "model_id": "b333a6caad624887b671b66a72ef5987",
       "version_major": 2,
       "version_minor": 0
      },
      "text/plain": [
       "HBox(children=(IntProgress(value=0, max=20), HTML(value='')))"
      ]
     },
     "metadata": {},
     "output_type": "display_data"
    },
    {
     "name": "stdout",
     "output_type": "stream",
     "text": [
      "\n",
      "Total time in ppxf: 24.70 s\n",
      "----------------------------------------------------\n",
      "Iteration 0: Elapsed time in PPXF (single thread): 4.30 s\n",
      "----------------------------------------------------\n",
      "Iteration 1: Scaling noise by 9.0103...\n",
      "Iteration 1: Running ppxf on 20 threads...\n",
      "Iteration 1: Elapsed time in PPXF (multithreaded): 22.33 s\n",
      "Iteration 1: optimal regul = 0.00; Δm = 0.00113064; Δregul = 500.00 (Δregul_min = 1.00); Δχ (goal) - Δχ = 95.079\n",
      "----------------------------------------------------\n",
      "Iteration 2: Re-running ppxf on 20 threads (iteration 2)...\n",
      "Iteration 2: Elapsed time in PPXF (multithreaded): 16.40 s\n",
      "Iteration 2: optimal regul = -1000.00; Δm = 0; Δregul = 100.00 (Δregul_min = 1.00); Δχ (goal) - Δχ = 95.079\n",
      "----------------------------------------------------\n",
      "Iteration 3: Re-running ppxf on 20 threads (iteration 3)...\n",
      "Iteration 3: Elapsed time in PPXF (multithreaded): 12.09 s\n",
      "Iteration 3: optimal regul = -1200.00; Δm = 0; Δregul = 20.00 (Δregul_min = 1.00); Δχ (goal) - Δχ = 95.079\n",
      "----------------------------------------------------\n",
      "Iteration 4: Re-running ppxf on 20 threads (iteration 4)...\n",
      "Iteration 4: Elapsed time in PPXF (multithreaded): 11.55 s\n",
      "Iteration 4: optimal regul = -1240.00; Δm = 0; Δregul = 4.00 (Δregul_min = 1.00); Δχ (goal) - Δχ = 95.079\n",
      "----------------------------------------------------\n",
      "Iteration 5: Re-running ppxf on 20 threads (iteration 5)...\n",
      "Iteration 5: Elapsed time in PPXF (multithreaded): 12.27 s\n",
      "Iteration 5: optimal regul = -1248.00; Δm = 0; Δregul = 0.80 (Δregul_min = 1.00); Δχ (goal) - Δχ = 95.079\n",
      "----------------------------------------------------\n",
      "STOPPING: Minimum spacing between regul values reached; using -1248.00 to produce the best fit\n",
      "Total time in run_ppxf: 84.09 seconds\n"
     ]
    },
    {
     "name": "stderr",
     "output_type": "stream",
     "text": [
      "/home/u5708159/python/Modules/ppxftests/sfhutils.py:316: RuntimeWarning: invalid value encountered in double_scalars\n",
      "  log_age_lw = np.nansum(sfh_lw_1D[age_thresh_lower_idx:age_thresh_upper_idx] * np.log10(ages[age_thresh_lower_idx:age_thresh_upper_idx])) / np.nansum(sfh_lw_1D[age_thresh_lower_idx:age_thresh_upper_idx])\n",
      "/home/u5708159/python/Modules/ppxftests/sfhutils.py:255: RuntimeWarning: invalid value encountered in double_scalars\n",
      "  log_age_mw = np.nansum(sfh_mw_1D[age_thresh_lower_idx:age_thresh_upper_idx] * np.log10(ages[age_thresh_lower_idx:age_thresh_upper_idx])) / np.nansum(sfh_mw_1D[age_thresh_lower_idx:age_thresh_upper_idx])\n"
     ]
    },
    {
     "data": {
      "application/vnd.jupyter.widget-view+json": {
       "model_id": "b32f769ddc1c4796b90da971eb892004",
       "version_major": 2,
       "version_minor": 0
      },
      "text/plain": [
       "Canvas(toolbar=Toolbar(toolitems=[('Home', 'Reset original view', 'home', 'home'), ('Back', 'Back to previous …"
      ]
     },
     "metadata": {},
     "output_type": "display_data"
    },
    {
     "data": {
      "application/vnd.jupyter.widget-view+json": {
       "model_id": "6a76434a955343418065998ba37d097f",
       "version_major": 2,
       "version_minor": 0
      },
      "text/plain": [
       "Canvas(toolbar=Toolbar(toolitems=[('Home', 'Reset original view', 'home', 'home'), ('Back', 'Back to previous …"
      ]
     },
     "metadata": {},
     "output_type": "display_data"
    },
    {
     "data": {
      "application/vnd.jupyter.widget-view+json": {
       "model_id": "b347edd6e67949fa9a1b78fab0f9f030",
       "version_major": 2,
       "version_minor": 0
      },
      "text/plain": [
       "Canvas(toolbar=Toolbar(toolitems=[('Home', 'Reset original view', 'home', 'home'), ('Back', 'Back to previous …"
      ]
     },
     "metadata": {},
     "output_type": "display_data"
    },
    {
     "data": {
      "application/vnd.jupyter.widget-view+json": {
       "model_id": "57add9af1bf946989681887d6d71609c",
       "version_major": 2,
       "version_minor": 0
      },
      "text/plain": [
       "Canvas(toolbar=Toolbar(toolitems=[('Home', 'Reset original view', 'home', 'home'), ('Back', 'Back to previous …"
      ]
     },
     "metadata": {},
     "output_type": "display_data"
    },
    {
     "data": {
      "application/vnd.jupyter.widget-view+json": {
       "model_id": "56f4b89babd54dbfa38217a26450e938",
       "version_major": 2,
       "version_minor": 0
      },
      "text/plain": [
       "Canvas(toolbar=Toolbar(toolitems=[('Home', 'Reset original view', 'home', 'home'), ('Back', 'Back to previous …"
      ]
     },
     "metadata": {},
     "output_type": "display_data"
    },
    {
     "data": {
      "text/plain": [
       "Text(0.5, 0.98, 'WITH extinction; NO multiplicative polynomial in fit (MC)')"
      ]
     },
     "execution_count": 15,
     "metadata": {},
     "output_type": "execute_result"
    }
   ],
   "source": [
    "pp_regul, pp_mc_list = test_helper(spec=spec_ext, spec_err=spec_ext_err, mdegree=-1, reddening=None, fit_agn_cont=False)"
   ]
  },
  {
   "cell_type": "markdown",
   "metadata": {},
   "source": [
    "### Spectrum: WITH extinction; ppxf: WITH mpoly fit"
   ]
  },
  {
   "cell_type": "code",
   "execution_count": 16,
   "metadata": {
    "collapsed": true
   },
   "outputs": [
    {
     "name": "stdout",
     "output_type": "stream",
     "text": [
      "Running ppxf on 20 threads...\n"
     ]
    },
    {
     "data": {
      "application/vnd.jupyter.widget-view+json": {
       "model_id": "a516e5d02448459eb175b1e41ccb5311",
       "version_major": 2,
       "version_minor": 0
      },
      "text/plain": [
       "HBox(children=(IntProgress(value=0, max=20), HTML(value='')))"
      ]
     },
     "metadata": {},
     "output_type": "display_data"
    },
    {
     "name": "stdout",
     "output_type": "stream",
     "text": [
      "\n",
      "Total time in ppxf: 72.61 s\n",
      "----------------------------------------------------\n",
      "Iteration 0: Elapsed time in PPXF (single thread): 6.58 s\n",
      "----------------------------------------------------\n",
      "Iteration 1: Scaling noise by 1.3790...\n",
      "Iteration 1: Running ppxf on 20 threads...\n",
      "Iteration 1: Elapsed time in PPXF (multithreaded): 107.20 s\n",
      "Iteration 1: optimal regul = 10000.00; Δm = 8.79927e+10; Δregul = 500.00 (Δregul_min = 1.00); Δχ (goal) - Δχ = 27.216\n",
      "----------------------------------------------------\n",
      "Iteration 2: Re-running ppxf on 20 threads (iteration 2)...\n",
      "Iteration 2: Elapsed time in PPXF (multithreaded): 117.80 s\n",
      "Iteration 2: optimal regul = 20000.00; Δm = 5.89922e+08; Δregul = 500.00 (Δregul_min = 1.00); Δχ (goal) - Δχ = 18.819\n",
      "----------------------------------------------------\n",
      "Iteration 3: Re-running ppxf on 20 threads (iteration 3)...\n",
      "Iteration 3: Elapsed time in PPXF (multithreaded): 106.11 s\n",
      "Iteration 3: optimal regul = 30000.00; Δm = 3.717e+08; Δregul = 500.00 (Δregul_min = 1.00); Δχ (goal) - Δχ = 12.170\n",
      "----------------------------------------------------\n",
      "Iteration 4: Re-running ppxf on 20 threads (iteration 4)...\n",
      "Iteration 4: Elapsed time in PPXF (multithreaded): 196.64 s\n",
      "Iteration 4: optimal regul = 40000.00; Δm = 1.23733e+08; Δregul = 500.00 (Δregul_min = 1.00); Δχ (goal) - Δχ = 6.883\n",
      "----------------------------------------------------\n",
      "Iteration 5: Re-running ppxf on 20 threads (iteration 5)...\n",
      "Iteration 5: Elapsed time in PPXF (multithreaded): 143.89 s\n",
      "Iteration 5: optimal regul = 50000.00; Δm = 1.48534e+08; Δregul = 500.00 (Δregul_min = 1.00); Δχ (goal) - Δχ = 2.926\n",
      "----------------------------------------------------\n",
      "STOPPING: Optimal regul value is >= 50000.0; using 50000.00 to produce the best fit\n",
      "Total time in run_ppxf: 680.35 seconds\n"
     ]
    },
    {
     "data": {
      "application/vnd.jupyter.widget-view+json": {
       "model_id": "da5a97ea4d2e40c19b0d79f443bd9947",
       "version_major": 2,
       "version_minor": 0
      },
      "text/plain": [
       "Canvas(toolbar=Toolbar(toolitems=[('Home', 'Reset original view', 'home', 'home'), ('Back', 'Back to previous …"
      ]
     },
     "metadata": {},
     "output_type": "display_data"
    },
    {
     "data": {
      "application/vnd.jupyter.widget-view+json": {
       "model_id": "00e72fbca66f4d60b6177e804807122e",
       "version_major": 2,
       "version_minor": 0
      },
      "text/plain": [
       "Canvas(toolbar=Toolbar(toolitems=[('Home', 'Reset original view', 'home', 'home'), ('Back', 'Back to previous …"
      ]
     },
     "metadata": {},
     "output_type": "display_data"
    },
    {
     "data": {
      "application/vnd.jupyter.widget-view+json": {
       "model_id": "61d6908db09a4da69c03af830b5a9c53",
       "version_major": 2,
       "version_minor": 0
      },
      "text/plain": [
       "Canvas(toolbar=Toolbar(toolitems=[('Home', 'Reset original view', 'home', 'home'), ('Back', 'Back to previous …"
      ]
     },
     "metadata": {},
     "output_type": "display_data"
    },
    {
     "data": {
      "application/vnd.jupyter.widget-view+json": {
       "model_id": "4dc380450df64e2fb8e38068e3ff8a58",
       "version_major": 2,
       "version_minor": 0
      },
      "text/plain": [
       "Canvas(toolbar=Toolbar(toolitems=[('Home', 'Reset original view', 'home', 'home'), ('Back', 'Back to previous …"
      ]
     },
     "metadata": {},
     "output_type": "display_data"
    },
    {
     "data": {
      "application/vnd.jupyter.widget-view+json": {
       "model_id": "db9b53658706480788383444d1cdaa2d",
       "version_major": 2,
       "version_minor": 0
      },
      "text/plain": [
       "Canvas(toolbar=Toolbar(toolitems=[('Home', 'Reset original view', 'home', 'home'), ('Back', 'Back to previous …"
      ]
     },
     "metadata": {},
     "output_type": "display_data"
    },
    {
     "data": {
      "text/plain": [
       "Text(0.5, 0.98, 'WITH extinction; NO multiplicative polynomial in fit (MC)')"
      ]
     },
     "execution_count": 16,
     "metadata": {},
     "output_type": "execute_result"
    }
   ],
   "source": [
    "pp_regul, pp_mc_list = test_helper(spec=spec_ext, spec_err=spec_ext_err, mdegree=4, reddening=None, fit_agn_cont=False)"
   ]
  },
  {
   "cell_type": "code",
   "execution_count": 25,
   "metadata": {
    "scrolled": false
   },
   "outputs": [
    {
     "name": "stderr",
     "output_type": "stream",
     "text": [
      "/pkg/linux/anaconda-20191122/anaconda3/lib/python3.7/site-packages/ipykernel_launcher.py:2: RuntimeWarning: More than 20 figures have been opened. Figures created through the pyplot interface (`matplotlib.pyplot.figure`) are retained until explicitly closed and may consume too much memory. (To control this warning, see the rcParam `figure.max_open_warning`).\n",
      "  \n"
     ]
    },
    {
     "data": {
      "application/vnd.jupyter.widget-view+json": {
       "model_id": "200a1f001e294016b876c367e4a0862a",
       "version_major": 2,
       "version_minor": 0
      },
      "text/plain": [
       "Canvas(toolbar=Toolbar(toolitems=[('Home', 'Reset original view', 'home', 'home'), ('Back', 'Back to previous …"
      ]
     },
     "metadata": {},
     "output_type": "display_data"
    },
    {
     "data": {
      "text/plain": [
       "Text(0.5, 0, '$\\\\lambda$ (Å)')"
      ]
     },
     "execution_count": 25,
     "metadata": {},
     "output_type": "execute_result"
    }
   ],
   "source": [
    "# Compare the extinction curve with the polynomial from ppxf \n",
    "fig, ax = plt.subplots(figsize=(10, 5))\n",
    "ax.plot(lambda_vals_A, ext_factor, color=\"black\", label=r\"$10^{-0.4 A_V}$\")\n",
    "ax.plot(lambda_vals_A, ext_factor / np.nanmean(ext_factor), color=\"grey\", label=r\"$10^{-0.4 A_V}$ (normalised)\")\n",
    "for pp in pp_mc_list:\n",
    "    ax.plot(pp.lam, pp.mpoly, alpha=0.2, color=\"pink\", label=\"mpoly (MC)\" if pp == pp_mc_list[0] else None)\n",
    "ax.plot(pp_regul.lam, pp_regul.mpoly, color=\"maroon\", label=\"mpoly (regularised)\")\n",
    "ax.legend()\n",
    "ax.set_xlabel(r\"$\\lambda$ (Å)\")"
   ]
  },
  {
   "cell_type": "markdown",
   "metadata": {},
   "source": [
    "### Remarks \n",
    "---\n",
    "* The shape of the multiplicative polynomial is pretty bang-on.\n",
    "* The LW and MW age estimates are both pretty accurate.\n",
    "* *But...* the *absolute value* of the polynomial is way off. This must be because the multiplicative polynomial is designed to correct for small calibration errors, and so assumes that the *total* flux is fairly accurate. From the ppxf documentation: **`MDEGREE: degree of the *multiplicative* Legendre polynomial (with mean of 1) used to correct the continuum shape during the fit (default: 0)`**\n",
    "* This means that the total MASS estimate is quite off."
   ]
  },
  {
   "cell_type": "markdown",
   "metadata": {},
   "source": [
    "### Spectrum: WITH extinction; ppxf: WITH extinction keyword"
   ]
  },
  {
   "cell_type": "code",
   "execution_count": 28,
   "metadata": {
    "collapsed": true
   },
   "outputs": [
    {
     "name": "stdout",
     "output_type": "stream",
     "text": [
      "Running ppxf on 20 threads...\n"
     ]
    },
    {
     "data": {
      "application/vnd.jupyter.widget-view+json": {
       "model_id": "4329ead3939b46fab00cc29ca15cfdc7",
       "version_major": 2,
       "version_minor": 0
      },
      "text/plain": [
       "HBox(children=(IntProgress(value=0, max=20), HTML(value='')))"
      ]
     },
     "metadata": {},
     "output_type": "display_data"
    },
    {
     "name": "stdout",
     "output_type": "stream",
     "text": [
      "\n",
      "Total time in ppxf: 47.20 s\n",
      "----------------------------------------------------\n",
      "Iteration 0: Elapsed time in PPXF (single thread): 4.72 s\n",
      "----------------------------------------------------\n",
      "Iteration 1: Scaling noise by 1.3751...\n",
      "Iteration 1: Running ppxf on 20 threads...\n",
      "Iteration 1: Elapsed time in PPXF (multithreaded): 46.06 s\n",
      "Iteration 1: optimal regul = 10000.00; Δm = 2.55497e+11; Δregul = 500.00 (Δregul_min = 1.00); Δχ (goal) - Δχ = 44.697\n",
      "----------------------------------------------------\n",
      "Iteration 2: Re-running ppxf on 20 threads (iteration 2)...\n",
      "Iteration 2: Elapsed time in PPXF (multithreaded): 102.78 s\n",
      "Iteration 2: optimal regul = 20000.00; Δm = 8.26014e+08; Δregul = 500.00 (Δregul_min = 1.00); Δχ (goal) - Δχ = 33.189\n",
      "----------------------------------------------------\n",
      "Iteration 3: Re-running ppxf on 20 threads (iteration 3)...\n",
      "Iteration 3: Elapsed time in PPXF (multithreaded): 118.42 s\n",
      "Iteration 3: optimal regul = 30000.00; Δm = 1.92922e+08; Δregul = 500.00 (Δregul_min = 1.00); Δχ (goal) - Δχ = 28.118\n",
      "----------------------------------------------------\n",
      "Iteration 4: Re-running ppxf on 20 threads (iteration 4)...\n",
      "Iteration 4: Elapsed time in PPXF (multithreaded): 62.34 s\n",
      "Iteration 4: optimal regul = 40000.00; Δm = 9.38614e+07; Δregul = 500.00 (Δregul_min = 1.00); Δχ (goal) - Δχ = 25.523\n",
      "----------------------------------------------------\n",
      "Iteration 5: Re-running ppxf on 20 threads (iteration 5)...\n",
      "Iteration 5: Elapsed time in PPXF (multithreaded): 69.42 s\n",
      "Iteration 5: optimal regul = 50000.00; Δm = 1.04405e+08; Δregul = 500.00 (Δregul_min = 1.00); Δχ (goal) - Δχ = 23.565\n",
      "----------------------------------------------------\n",
      "STOPPING: Optimal regul value is >= 50000.0; using 50000.00 to produce the best fit\n",
      "Total time in run_ppxf: 406.77 seconds\n"
     ]
    },
    {
     "data": {
      "application/vnd.jupyter.widget-view+json": {
       "model_id": "4685e3c75d564f2da3275a6da1ef39ae",
       "version_major": 2,
       "version_minor": 0
      },
      "text/plain": [
       "Canvas(toolbar=Toolbar(toolitems=[('Home', 'Reset original view', 'home', 'home'), ('Back', 'Back to previous …"
      ]
     },
     "metadata": {},
     "output_type": "display_data"
    },
    {
     "data": {
      "application/vnd.jupyter.widget-view+json": {
       "model_id": "862b0d8db2bc45b7a1574b368d3da953",
       "version_major": 2,
       "version_minor": 0
      },
      "text/plain": [
       "Canvas(toolbar=Toolbar(toolitems=[('Home', 'Reset original view', 'home', 'home'), ('Back', 'Back to previous …"
      ]
     },
     "metadata": {},
     "output_type": "display_data"
    },
    {
     "data": {
      "application/vnd.jupyter.widget-view+json": {
       "model_id": "5cfdbc49ffe34d98b404902f75c48ed3",
       "version_major": 2,
       "version_minor": 0
      },
      "text/plain": [
       "Canvas(toolbar=Toolbar(toolitems=[('Home', 'Reset original view', 'home', 'home'), ('Back', 'Back to previous …"
      ]
     },
     "metadata": {},
     "output_type": "display_data"
    },
    {
     "data": {
      "application/vnd.jupyter.widget-view+json": {
       "model_id": "6d2ed65ee2604342af975b7ad5466d74",
       "version_major": 2,
       "version_minor": 0
      },
      "text/plain": [
       "Canvas(toolbar=Toolbar(toolitems=[('Home', 'Reset original view', 'home', 'home'), ('Back', 'Back to previous …"
      ]
     },
     "metadata": {},
     "output_type": "display_data"
    },
    {
     "data": {
      "application/vnd.jupyter.widget-view+json": {
       "model_id": "e3e36bc4faa240a8836b672a0ceea874",
       "version_major": 2,
       "version_minor": 0
      },
      "text/plain": [
       "Canvas(toolbar=Toolbar(toolitems=[('Home', 'Reset original view', 'home', 'home'), ('Back', 'Back to previous …"
      ]
     },
     "metadata": {},
     "output_type": "display_data"
    },
    {
     "data": {
      "text/plain": [
       "Text(0.5, 0.98, 'WITH extinction; WITH extinction correction in fit (MC)')"
      ]
     },
     "execution_count": 28,
     "metadata": {},
     "output_type": "execute_result"
    }
   ],
   "source": [
    "pp_regul, pp_mc_list = test_helper(spec=spec_ext, spec_err=spec_ext_err, mdegree=-1, reddening=3.0, fit_agn_cont=False)"
   ]
  },
  {
   "cell_type": "code",
   "execution_count": 30,
   "metadata": {
    "scrolled": true
   },
   "outputs": [
    {
     "data": {
      "application/vnd.jupyter.widget-view+json": {
       "model_id": "f8be3a6c56714a9fbd35aa60b9c7c9ff",
       "version_major": 2,
       "version_minor": 0
      },
      "text/plain": [
       "Canvas(toolbar=Toolbar(toolitems=[('Home', 'Reset original view', 'home', 'home'), ('Back', 'Back to previous …"
      ]
     },
     "metadata": {},
     "output_type": "display_data"
    },
    {
     "data": {
      "text/plain": [
       "Text(0.5, 0, '$\\\\lambda$ (Å)')"
      ]
     },
     "execution_count": 30,
     "metadata": {},
     "output_type": "execute_result"
    }
   ],
   "source": [
    "# Compare the extinction curve with the polynomial from ppxf \n",
    "fig, ax = plt.subplots(figsize=(10, 5))\n",
    "ax.plot(lambda_vals_A, ext_factor, color=\"black\", label=r\"$10^{-0.4 A_V}$\")\n",
    "# ax.plot(lambda_vals_A, ext_factor / np.nanmean(ext_factor), color=\"grey\", label=r\"$10^{-0.4 A_V}$ (normalised)\")\n",
    "for pp in pp_mc_list:\n",
    "    ax.plot(pp.lam, pp.mpoly, alpha=0.2, color=\"pink\", label=\"mpoly (MC)\" if pp == pp_mc_list[0] else None)\n",
    "ax.plot(pp_regul.lam, pp_regul.mpoly, color=\"maroon\", label=\"mpoly (regularised)\")\n",
    "ax.legend()\n",
    "ax.set_xlabel(r\"$\\lambda$ (Å)\")"
   ]
  },
  {
   "cell_type": "markdown",
   "metadata": {},
   "source": [
    "### Spectrum: WITH extinction; ppxf: WITH mpoly fit; WITH AGN continuum\n",
    "* In this case, the polynomial fit will apply to the WHOLE spectrum (stars + sky). In this case, the AGN continuum returned by ppxf will NOT be \"extincted\", and so should look like the input AGN continuum BEFORE extinction is applied."
   ]
  },
  {
   "cell_type": "code",
   "execution_count": 21,
   "metadata": {},
   "outputs": [
    {
     "name": "stdout",
     "output_type": "stream",
     "text": [
      "----------------------------------------------------\n",
      "Iteration 0: Elapsed time in PPXF (single thread): 7.52 s\n",
      "----------------------------------------------------\n",
      "Iteration 1: Scaling noise by 1.3712...\n",
      "Iteration 1: Regularisation parameter range: 0.0-500000.0 (n = 21)\n",
      "Iteration 1: Running ppxf on 20 threads...\n",
      "Iteration 1: Elapsed time in PPXF (multithreaded): 92.51 s\n",
      "Iteration 1: optimal regul = 200000.00; Δm = 1.12151e+11; Δregul = 25000.00 (Δregul_min = 1.00); Δχ (goal) - Δχ = 2.741\n",
      "----------------------------------------------------\n",
      "Iteration 2: Re-running ppxf on 20 threads (iteration 2)...\n",
      "Iteration 2: Regularisation parameter range: 150000.0-250000.0 (n = 21)\n",
      "Iteration 2: Elapsed time in PPXF (multithreaded): 102.75 s\n",
      "Iteration 2: optimal regul = 205000.00; Δm = 6.2737e+07; Δregul = 5000.00 (Δregul_min = 1.00); Δχ (goal) - Δχ = 0.835\n",
      "----------------------------------------------------\n",
      "STOPPING: Convergence criterion reached; Δχ (goal) - Δχ = 0.8353012901643808; using 205000.00 to produce the best fit\n"
     ]
    }
   ],
   "source": [
    "p_mpoly = run_ppxf(spec=spec_agn_ext, spec_err=spec_agn_ext_err, lambda_vals_A=lambda_vals_A,\n",
    "                    isochrones=isochrones, \n",
    "                    z=z, ngascomponents=1, mdegree=4, reddening=None, \n",
    "                    fit_gas=False, tie_balmer=True,\n",
    "                    fit_agn_cont=True,\n",
    "                    regularisation_method=\"auto\", regul_span=50e4,\n",
    "                    plotit=False, savefigs=False, interactive_mode=False)\n"
   ]
  },
  {
   "cell_type": "code",
   "execution_count": 22,
   "metadata": {
    "collapsed": true
   },
   "outputs": [
    {
     "name": "stdout",
     "output_type": "stream",
     "text": [
      "----------------------------------------------------\n",
      "Iteration 0: Elapsed time in PPXF (single thread): 7.78 s\n",
      "----------------------------------------------------\n",
      "Iteration 1: Scaling noise by 1.3700...\n",
      "Iteration 1: Regularisation parameter range: 0.0-500000.0 (n = 21)\n",
      "Iteration 1: Running ppxf on 20 threads...\n",
      "Iteration 1: Elapsed time in PPXF (multithreaded): 63.20 s\n",
      "Iteration 1: optimal regul = 100000.00; Δm = 3.00682e+11; Δregul = 25000.00 (Δregul_min = 1.00); Δχ (goal) - Δχ = 3.723\n",
      "----------------------------------------------------\n",
      "Iteration 2: Re-running ppxf on 20 threads (iteration 2)...\n",
      "Iteration 2: Regularisation parameter range: 50000.0-150000.0 (n = 21)\n",
      "Iteration 2: Elapsed time in PPXF (multithreaded): 67.87 s\n",
      "Iteration 2: optimal regul = 105000.00; Δm = 4.71852e+08; Δregul = 5000.00 (Δregul_min = 1.00); Δχ (goal) - Δχ = 0.343\n",
      "----------------------------------------------------\n",
      "STOPPING: Convergence criterion reached; Δχ (goal) - Δχ = 0.34324899918360074; using 105000.00 to produce the best fit\n"
     ]
    }
   ],
   "source": [
    "p_ext = run_ppxf(spec=spec_agn_ext, spec_err=spec_agn_ext_err, lambda_vals_A=lambda_vals_A,\n",
    "                    isochrones=isochrones, \n",
    "                    z=z, ngascomponents=1, mdegree=-1, reddening=1., \n",
    "                    fit_gas=False, tie_balmer=True,\n",
    "                    fit_agn_cont=True,\n",
    "                    regularisation_method=\"auto\", regul_span=50e4,\n",
    "                    plotit=False, savefigs=False, interactive_mode=False)\n"
   ]
  },
  {
   "cell_type": "code",
   "execution_count": 24,
   "metadata": {
    "scrolled": false
   },
   "outputs": [
    {
     "name": "stdout",
     "output_type": "stream",
     "text": [
      "Running ppxf on 20 threads...\n"
     ]
    },
    {
     "data": {
      "application/vnd.jupyter.widget-view+json": {
       "model_id": "342980f180764344a246f8c41bfdc15a",
       "version_major": 2,
       "version_minor": 0
      },
      "text/plain": [
       "HBox(children=(IntProgress(value=0, max=20), HTML(value='')))"
      ]
     },
     "metadata": {},
     "output_type": "display_data"
    },
    {
     "name": "stdout",
     "output_type": "stream",
     "text": [
      "\n",
      "Total time in ppxf: 70.51 s\n",
      "----------------------------------------------------\n",
      "Iteration 0: Elapsed time in PPXF (single thread): 8.75 s\n",
      "----------------------------------------------------\n",
      "Iteration 1: Scaling noise by 1.3580...\n",
      "Iteration 1: Regularisation parameter range: 0.0-500000.0 (n = 21)\n",
      "Iteration 1: Running ppxf on 20 threads...\n",
      "Iteration 1: Elapsed time in PPXF (multithreaded): 101.87 s\n",
      "Iteration 1: optimal regul = 200000.00; Δm = 1.03193e+11; Δregul = 25000.00 (Δregul_min = 1.00); Δχ (goal) - Δχ = 3.002\n",
      "----------------------------------------------------\n",
      "Iteration 2: Re-running ppxf on 20 threads (iteration 2)...\n",
      "Iteration 2: Regularisation parameter range: 150000.0-250000.0 (n = 21)\n",
      "Iteration 2: Elapsed time in PPXF (multithreaded): 113.42 s\n",
      "Iteration 2: optimal regul = 210000.00; Δm = 1.23659e+08; Δregul = 5000.00 (Δregul_min = 1.00); Δχ (goal) - Δχ = 0.767\n",
      "----------------------------------------------------\n",
      "STOPPING: Convergence criterion reached; Δχ (goal) - Δχ = 0.7665020815712325; using 210000.00 to produce the best fit\n",
      "Total time in run_ppxf: 226.14 seconds\n"
     ]
    },
    {
     "data": {
      "application/vnd.jupyter.widget-view+json": {
       "model_id": "5a19a6454d754a658a8d9f200ba1e7ef",
       "version_major": 2,
       "version_minor": 0
      },
      "text/plain": [
       "Canvas(toolbar=Toolbar(toolitems=[('Home', 'Reset original view', 'home', 'home'), ('Back', 'Back to previous …"
      ]
     },
     "metadata": {},
     "output_type": "display_data"
    },
    {
     "data": {
      "application/vnd.jupyter.widget-view+json": {
       "model_id": "da1971a28ad540c3afb76d11fd600ec8",
       "version_major": 2,
       "version_minor": 0
      },
      "text/plain": [
       "Canvas(toolbar=Toolbar(toolitems=[('Home', 'Reset original view', 'home', 'home'), ('Back', 'Back to previous …"
      ]
     },
     "metadata": {},
     "output_type": "display_data"
    },
    {
     "data": {
      "application/vnd.jupyter.widget-view+json": {
       "model_id": "1aed9c0d5c8944a89cb82ed3435149e5",
       "version_major": 2,
       "version_minor": 0
      },
      "text/plain": [
       "Canvas(toolbar=Toolbar(toolitems=[('Home', 'Reset original view', 'home', 'home'), ('Back', 'Back to previous …"
      ]
     },
     "metadata": {},
     "output_type": "display_data"
    },
    {
     "data": {
      "application/vnd.jupyter.widget-view+json": {
       "model_id": "49930e6c463849479b4cf0b5bf278e02",
       "version_major": 2,
       "version_minor": 0
      },
      "text/plain": [
       "Canvas(toolbar=Toolbar(toolitems=[('Home', 'Reset original view', 'home', 'home'), ('Back', 'Back to previous …"
      ]
     },
     "metadata": {},
     "output_type": "display_data"
    },
    {
     "data": {
      "application/vnd.jupyter.widget-view+json": {
       "model_id": "8d79d4f57d934e55aa62e5fbf6797e10",
       "version_major": 2,
       "version_minor": 0
      },
      "text/plain": [
       "Canvas(toolbar=Toolbar(toolitems=[('Home', 'Reset original view', 'home', 'home'), ('Back', 'Back to previous …"
      ]
     },
     "metadata": {},
     "output_type": "display_data"
    }
   ],
   "source": [
    "pp_mpoly_regul, pp_mpoly_mc_list = test_helper(spec=spec_agn_ext, spec_err=spec_agn_ext_err, mdegree=4, reddening=None, fit_agn_cont=True, regul_start=0)"
   ]
  },
  {
   "cell_type": "code",
   "execution_count": 25,
   "metadata": {
    "scrolled": true
   },
   "outputs": [
    {
     "data": {
      "application/vnd.jupyter.widget-view+json": {
       "model_id": "621d254d406943e4a618e61c36b85de5",
       "version_major": 2,
       "version_minor": 0
      },
      "text/plain": [
       "Canvas(toolbar=Toolbar(toolitems=[('Home', 'Reset original view', 'home', 'home'), ('Back', 'Back to previous …"
      ]
     },
     "metadata": {},
     "output_type": "display_data"
    },
    {
     "data": {
      "text/plain": [
       "Text(0.5, 0, '$\\\\lambda$ (Å)')"
      ]
     },
     "execution_count": 25,
     "metadata": {},
     "output_type": "execute_result"
    }
   ],
   "source": [
    "# Compare the extinction curve with the polynomial from ppxf \n",
    "fig, ax = plt.subplots(figsize=(10, 5))\n",
    "ax.plot(lambda_vals_A, ext_factor, color=\"black\", label=r\"$10^{-0.4 A_V}$\")\n",
    "ax.plot(lambda_vals_A, ext_factor / np.nanmean(ext_factor), color=\"grey\", label=r\"$10^{-0.4 A_V}$ (normalised)\")\n",
    "for pp in pp_mpoly_mc_list:\n",
    "    ax.plot(pp.lam, pp.mpoly, alpha=0.2, color=\"pink\", label=\"mpoly (MC)\" if pp == pp_mpoly_mc_list[0] else None)\n",
    "ax.plot(pp_mpoly_regul.lam, pp_mpoly_regul.mpoly, color=\"maroon\", label=\"mpoly (regularised)\")\n",
    "ax.legend()\n",
    "ax.set_xlabel(r\"$\\lambda$ (Å)\")"
   ]
  },
  {
   "cell_type": "code",
   "execution_count": 31,
   "metadata": {},
   "outputs": [
    {
     "data": {
      "application/vnd.jupyter.widget-view+json": {
       "model_id": "3502590809a44e8da4b6862bbe47648e",
       "version_major": 2,
       "version_minor": 0
      },
      "text/plain": [
       "Canvas(toolbar=Toolbar(toolitems=[('Home', 'Reset original view', 'home', 'home'), ('Back', 'Back to previous …"
      ]
     },
     "metadata": {},
     "output_type": "display_data"
    },
    {
     "data": {
      "text/plain": [
       "Text(0, 0.5, '$x_{\\\\rm AGN}(\\\\lambda)$')"
      ]
     },
     "execution_count": 31,
     "metadata": {},
     "output_type": "execute_result"
    }
   ],
   "source": [
    "# Recreate the AGN continuum fit by ppxf\n",
    "# In this case, because the polynomial is applied to the WHOLE spectrum including any sky components, the best-fit \"sky\" component should look similar to the input\n",
    "# AGN continuum BEFORE the extinction correction is applied.\n",
    "lambda_norm_A = 4020\n",
    "F_lambda_fit = np.zeros(len(lambda_vals_A))\n",
    "\n",
    "fig, ax = plt.subplots(figsize=(10, 5))\n",
    "\n",
    "# Sum up the contributions of each template from the regularised ppxf fit.\n",
    "for aa, alpha_nu in enumerate(pp_mpoly_regul.alpha_nu_vals):\n",
    "    alpha_lambda = 2 - alpha_nu\n",
    "    w_ppxf_regul = pp_mpoly_regul.weights_agn[aa]  # Weight of this template \n",
    "    x_AGN_fit_regul = (1 / w_ppxf_regul - 1)**(-1)  # Weight converted into light fraction of stellar continuum @ 4020Å\n",
    "    \n",
    "    F_0 = x_AGN_fit_regul / lambda_norm_A**(-alpha_lambda)  # Compute constant\n",
    "    F_lambda_aa = F_0 * lambda_vals_A**(-alpha_lambda)  # Compute this component\n",
    "    F_lambda_fit += F_lambda_aa  # Add to total fitted AGN continuum\n",
    "    \n",
    "    # Plot each contribution.\n",
    "    ax.plot(lambda_vals_A, F_lambda_aa, label=f\"alpha_nu = {alpha_nu}, x_AGN = {x_AGN_fit_regul}\")\n",
    "\n",
    "# Plot the TOTAL AGN continuum from the ppxf fit.\n",
    "ax.plot(lambda_vals_A, F_lambda_fit, label=\"Total ppxf fit\", color=\"maroon\")\n",
    "# ax.plot(lambda_vals_A, F_lambda_fit / pp.mpoly, label=\"Total ppxf fit\", color=\"maroon\", ls=\"--\")\n",
    "\n",
    "# Now, evaluate the INPUT AGN continuum.\n",
    "alpha_lambda_input = 2 - alpha_nu_input\n",
    "F_0_input = x_AGN_input / lambda_norm_A**(-alpha_lambda_input)\n",
    "F_lambda_input = F_0_input * lambda_vals_A**(-alpha_lambda_input)\n",
    "\n",
    "# Apply the extinction correction to the INPUT AGN continuum.\n",
    "# NOTE: after this, we need to re-normalise F_lambda_input_ext to be equal to x_AGN at 4020Å, \n",
    "# because both the stellar & AGN continua are affected in identical ways by the extinction. \n",
    "# i.e., F_AGN(4020Å) = x_AGN * F_*(4020Å) AFTER the extinction is applied.\n",
    "F_lambda_input_ext = F_lambda_input * ext_factor  \n",
    "F_lambda_input_ext *= x_AGN_input / F_lambda_input_ext[np.nanargmin(np.abs(lambda_vals_A - lambda_norm_A))]\n",
    "\n",
    "ax.plot(lambda_vals_A, F_lambda_input, label=\"Input AGN continuum\")\n",
    "ax.plot(lambda_vals_A, F_lambda_input_ext, label=\"Extincted input AGN continuum\")\n",
    "ax.axvline(lambda_norm_A, color=\"k\", ls=\"--\")\n",
    "\n",
    "ax.legend()\n",
    "ax.set_xlabel(\"Wavelenghth (Å)\")\n",
    "ax.set_ylabel(r\"$x_{\\rm AGN}(\\lambda)$\")\n"
   ]
  },
  {
   "cell_type": "markdown",
   "metadata": {},
   "source": [
    "### Spectrum: WITH extinction; ppxf: WITH reddening; WITH AGN continuum\n",
    "* In this case, the polynomial fit will ONLY apply to the stars. In this case, the AGN continuum returned by ppxf WILL be \"extincted\", and so should look like the input AGN continuum AFTER it has been \"extincted\"."
   ]
  },
  {
   "cell_type": "code",
   "execution_count": 27,
   "metadata": {
    "scrolled": true
   },
   "outputs": [
    {
     "name": "stdout",
     "output_type": "stream",
     "text": [
      "Running ppxf on 20 threads...\n"
     ]
    },
    {
     "data": {
      "application/vnd.jupyter.widget-view+json": {
       "model_id": "420bc780c0624f41a35ce14d7678308c",
       "version_major": 2,
       "version_minor": 0
      },
      "text/plain": [
       "HBox(children=(IntProgress(value=0, max=20), HTML(value='')))"
      ]
     },
     "metadata": {},
     "output_type": "display_data"
    },
    {
     "name": "stdout",
     "output_type": "stream",
     "text": [
      "\n",
      "Total time in ppxf: 54.30 s\n",
      "----------------------------------------------------\n",
      "Iteration 0: Elapsed time in PPXF (single thread): 7.00 s\n",
      "----------------------------------------------------\n",
      "Iteration 1: Scaling noise by 1.3751...\n",
      "Iteration 1: Regularisation parameter range: 0.0-500000.0 (n = 21)\n",
      "Iteration 1: Running ppxf on 20 threads...\n",
      "Iteration 1: Elapsed time in PPXF (multithreaded): 70.23 s\n",
      "Iteration 1: optimal regul = 100000.00; Δm = 3.00289e+11; Δregul = 25000.00 (Δregul_min = 1.00); Δχ (goal) - Δχ = 4.393\n",
      "----------------------------------------------------\n",
      "Iteration 2: Re-running ppxf on 20 threads (iteration 2)...\n",
      "Iteration 2: Regularisation parameter range: 50000.0-150000.0 (n = 21)\n",
      "Iteration 2: Elapsed time in PPXF (multithreaded): 74.25 s\n",
      "Iteration 2: optimal regul = 105000.00; Δm = 4.69812e+08; Δregul = 5000.00 (Δregul_min = 1.00); Δχ (goal) - Δχ = 0.372\n",
      "----------------------------------------------------\n",
      "STOPPING: Convergence criterion reached; Δχ (goal) - Δχ = 0.37191929999463014; using 105000.00 to produce the best fit\n",
      "Total time in run_ppxf: 153.65 seconds\n"
     ]
    },
    {
     "data": {
      "application/vnd.jupyter.widget-view+json": {
       "model_id": "7a66268d7f4c4cff9f964989e9664b9a",
       "version_major": 2,
       "version_minor": 0
      },
      "text/plain": [
       "Canvas(toolbar=Toolbar(toolitems=[('Home', 'Reset original view', 'home', 'home'), ('Back', 'Back to previous …"
      ]
     },
     "metadata": {},
     "output_type": "display_data"
    },
    {
     "data": {
      "application/vnd.jupyter.widget-view+json": {
       "model_id": "01058b5260f243eaae34f67a727ba0bf",
       "version_major": 2,
       "version_minor": 0
      },
      "text/plain": [
       "Canvas(toolbar=Toolbar(toolitems=[('Home', 'Reset original view', 'home', 'home'), ('Back', 'Back to previous …"
      ]
     },
     "metadata": {},
     "output_type": "display_data"
    },
    {
     "data": {
      "application/vnd.jupyter.widget-view+json": {
       "model_id": "490fbfc5eec340d3aa071205bae819d1",
       "version_major": 2,
       "version_minor": 0
      },
      "text/plain": [
       "Canvas(toolbar=Toolbar(toolitems=[('Home', 'Reset original view', 'home', 'home'), ('Back', 'Back to previous …"
      ]
     },
     "metadata": {},
     "output_type": "display_data"
    },
    {
     "data": {
      "application/vnd.jupyter.widget-view+json": {
       "model_id": "c47b2fe5c57a414e8f19ac8a03d6e7ac",
       "version_major": 2,
       "version_minor": 0
      },
      "text/plain": [
       "Canvas(toolbar=Toolbar(toolitems=[('Home', 'Reset original view', 'home', 'home'), ('Back', 'Back to previous …"
      ]
     },
     "metadata": {},
     "output_type": "display_data"
    },
    {
     "data": {
      "application/vnd.jupyter.widget-view+json": {
       "model_id": "94c18abaa63b461c8903f31f5e1bae83",
       "version_major": 2,
       "version_minor": 0
      },
      "text/plain": [
       "Canvas(toolbar=Toolbar(toolitems=[('Home', 'Reset original view', 'home', 'home'), ('Back', 'Back to previous …"
      ]
     },
     "metadata": {},
     "output_type": "display_data"
    }
   ],
   "source": [
    "###############################################################\n",
    "# Run ppxf \n",
    "###############################################################\n",
    "pp_ext_regul, pp_ext_mc_list = test_helper(spec=spec_agn_ext, spec_err=spec_agn_ext_err, mdegree=-1, reddening=3.0, fit_agn_cont=True, regul_start=0)"
   ]
  },
  {
   "cell_type": "code",
   "execution_count": 35,
   "metadata": {
    "scrolled": true
   },
   "outputs": [
    {
     "data": {
      "application/vnd.jupyter.widget-view+json": {
       "model_id": "b6d32fcfb7b04039a05b1f281adb5580",
       "version_major": 2,
       "version_minor": 0
      },
      "text/plain": [
       "Canvas(toolbar=Toolbar(toolitems=[('Home', 'Reset original view', 'home', 'home'), ('Back', 'Back to previous …"
      ]
     },
     "metadata": {},
     "output_type": "display_data"
    },
    {
     "data": {
      "application/vnd.jupyter.widget-view+json": {
       "model_id": "8cd5a6ac695a468e87e39d44f8cb5548",
       "version_major": 2,
       "version_minor": 0
      },
      "text/plain": [
       "Canvas(toolbar=Toolbar(toolitems=[('Home', 'Reset original view', 'home', 'home'), ('Back', 'Back to previous …"
      ]
     },
     "metadata": {},
     "output_type": "display_data"
    },
    {
     "data": {
      "text/plain": [
       "Text(0, 0.5, '$x_{\\\\rm AGN}(\\\\lambda)$')"
      ]
     },
     "execution_count": 35,
     "metadata": {},
     "output_type": "execute_result"
    }
   ],
   "source": [
    "###############################################################\n",
    "# Compare the extinction curve with the polynomial from ppxf \n",
    "###############################################################\n",
    "fig, ax = plt.subplots(figsize=(10, 5))\n",
    "ax.plot(lambda_vals_A, ext_factor, color=\"black\", label=r\"$10^{-0.4 A_V}$\")\n",
    "ax.plot(lambda_vals_A, ext_factor / np.nanmean(ext_factor), color=\"grey\", label=r\"$10^{-0.4 A_V}$ (normalised)\")\n",
    "for pp in pp_ext_mc_list:\n",
    "    ax.plot(pp.lam, pp.mpoly, alpha=0.2, color=\"pink\", label=\"$10^{-0.4 A_V}$ (MC)\" if pp == pp_ext_mc_list[0] else None)\n",
    "ax.plot(pp_ext_regul.lam, pp_ext_regul.mpoly, color=\"maroon\", label=\"$10^{-0.4 A_V}$ (regularised)\")\n",
    "ax.legend()\n",
    "ax.set_xlabel(r\"$\\lambda$ (Å)\")\n",
    "\n",
    "######################################################\n",
    "# Recreate the AGN continuum fit by ppxf\n",
    "######################################################\n",
    "# In this case, because the extinction correction is NOT applied to the sky templates within ppxf, the best-fit \"sky\" spectrum should look similar to the input \n",
    "# AGN spectrum AFTER extinction has been applied.\n",
    "# Compare the input AGN continuum with the fitted one\n",
    "w_ppxf_regul = pp_ext_regul.weights_agn\n",
    "x_AGN_fit_vals_regul = (1 / w_ppxf_regul - 1)**(-1)\n",
    "\n",
    "lambda_norm_A = 4020\n",
    "F_lambda_fit = np.zeros(len(lambda_vals_A))\n",
    "\n",
    "fig, ax = plt.subplots(figsize=(10, 5))\n",
    "\n",
    "# Sum up the contributions of each template from the regularised ppxf fit.\n",
    "for aa, alpha_nu in enumerate(pp_ext_regul.alpha_nu_vals):\n",
    "    alpha_lambda = 2 - alpha_nu\n",
    "    w_ppxf_regul = pp_ext_regul.weights_agn[aa]  # Weight of this template \n",
    "    x_AGN_fit_regul = (1 / w_ppxf_regul - 1)**(-1)  # Weight converted into light fraction of stellar continuum @ 4020Å\n",
    "    \n",
    "    F_0 = x_AGN_fit_regul / lambda_norm_A**(-alpha_lambda)  # Compute constant\n",
    "    F_lambda_aa = F_0 * lambda_vals_A**(-alpha_lambda)  # Compute this component\n",
    "    F_lambda_fit += F_lambda_aa  # Add to total fitted AGN continuum\n",
    "    \n",
    "    # Plot each contribution.\n",
    "    ax.plot(lambda_vals_A, F_lambda_aa, label=f\"alpha_nu = {alpha_nu}, x_AGN = {x_AGN_fit_regul}\")\n",
    "\n",
    "# Plot the TOTAL AGN continuum from the ppxf fit.\n",
    "ax.plot(lambda_vals_A, F_lambda_fit, label=\"Total ppxf fit\")\n",
    "\n",
    "# Now, evaluate the INPUT AGN continuum.\n",
    "alpha_lambda_input = 2 - alpha_nu_input\n",
    "F_0_input = x_AGN_input / lambda_norm_A**(-alpha_lambda_input)\n",
    "F_lambda_input = F_0_input * lambda_vals_A**(-alpha_lambda_input)\n",
    "\n",
    "# Apply the extinction correction to the INPUT AGN continuum.\n",
    "# NOTE: after this, we need to re-normalise F_lambda_input_ext to be equal to x_AGN at 4020Å, \n",
    "# because both the stellar & AGN continua are affected in identical ways by the extinction. \n",
    "# i.e., F_AGN(4020Å) = x_AGN * F_*(4020Å) AFTER the extinction is applied.\n",
    "F_lambda_input_ext = F_lambda_input * ext_factor  \n",
    "F_lambda_input_ext *= x_AGN_input / F_lambda_input_ext[np.nanargmin(np.abs(lambda_vals_A - lambda_norm_A))]\n",
    "\n",
    "ax.plot(lambda_vals_A, F_lambda_input, label=\"Input AGN continuum\")\n",
    "ax.plot(lambda_vals_A, F_lambda_input_ext, label=\"Extincted input AGN continuum\")\n",
    "ax.axvline(lambda_norm_A, color=\"k\", ls=\"--\")\n",
    "\n",
    "ax.legend()\n",
    "ax.set_xlabel(\"Wavelenghth (Å)\")\n",
    "ax.set_ylabel(r\"$x_{\\rm AGN}(\\lambda)$\")"
   ]
  },
  {
   "cell_type": "code",
   "execution_count": null,
   "metadata": {},
   "outputs": [],
   "source": []
  }
 ],
 "metadata": {
  "kernelspec": {
   "display_name": "Python 3",
   "language": "python",
   "name": "python3"
  },
  "language_info": {
   "codemirror_mode": {
    "name": "ipython",
    "version": 3
   },
   "file_extension": ".py",
   "mimetype": "text/x-python",
   "name": "python",
   "nbconvert_exporter": "python",
   "pygments_lexer": "ipython3",
   "version": "3.7.4"
  }
 },
 "nbformat": 4,
 "nbformat_minor": 2
}
