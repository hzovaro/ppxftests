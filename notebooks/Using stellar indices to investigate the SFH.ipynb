{
 "cells": [
  {
   "cell_type": "markdown",
   "metadata": {},
   "source": [
    "# Using the H$\\delta_A$ and $D_n 4000\\,Å$ break indices to quantify the \"burstiness\" of the SFH\n",
    "---\n",
    "Kauffmann et al. (2003) found that stellar continua with \"bursty\" and continunous SFHs can be distinguished by plotting the H$\\delta_A$ index against the $D_n 4000\\,Å$ break strength. \n",
    "\n",
    "In this notebook, we will \n",
    "* Define functions for computing both stellar indices;\n",
    "* use the Gonzalez-Delgado stellar templates to create \"bursty\" and continuous SFHs;\n",
    "* Measure the H$\\delta_A$ and $D_n 4000\\,Å$ break strengths of these spectra, and recreate their Figs. 2 and 3, to check that the same relationships exist with our templates;\n",
    "* Investigate the effects of an AGN continuum on these figures;\n",
    "* Compute these indices for Phil's spectra and see if they lie in the expected regions of the H$\\delta_A$ vs. $D_n 4000\\,Å$ break strength diagram;\n",
    "* Using ppxf, remove emission lines from noisy mock spectra & check that the indices can accurately be recovered."
   ]
  },
  {
   "cell_type": "code",
   "execution_count": 2,
   "metadata": {},
   "outputs": [],
   "source": [
    "%matplotlib widget"
   ]
  },
  {
   "cell_type": "code",
   "execution_count": 3,
   "metadata": {},
   "outputs": [
    {
     "data": {
      "text/html": [
       "<style>.container { width:75% !important; }</style>"
      ],
      "text/plain": [
       "<IPython.core.display.HTML object>"
      ]
     },
     "metadata": {},
     "output_type": "display_data"
    },
    {
     "data": {
      "text/html": [
       "<style>.output_result { max-width:75% !important; }</style>"
      ],
      "text/plain": [
       "<IPython.core.display.HTML object>"
      ]
     },
     "metadata": {},
     "output_type": "display_data"
    }
   ],
   "source": [
    "from IPython.core.display import display, HTML\n",
    "display(HTML(\"<style>.container { width:75% !important; }</style>\"))\n",
    "display(HTML(\"<style>.output_result { max-width:75% !important; }</style>\"))"
   ]
  },
  {
   "cell_type": "code",
   "execution_count": 66,
   "metadata": {},
   "outputs": [],
   "source": [
    "import numpy as np\n",
    "from scipy import constants\n",
    "from tqdm.notebook import tqdm\n",
    "\n",
    "from ppxftests.run_ppxf import run_ppxf\n",
    "from ppxftests.ssputils import load_ssp_templates, get_bin_edges_and_widths\n",
    "from ppxftests.mockspec import create_mock_spectrum\n",
    "from ppxftests.sfhutils import load_sfh, convert_mass_weights_to_light_weights\n",
    "from ppxftests.sfhutils import compute_mw_age, compute_lw_age, compute_sfr_thresh_age, compute_sb_zero_age, compute_mass\n",
    "from ppxftests.ppxf_plot import plot_sfh_mass_weighted, plot_sfh_light_weighted\n",
    "\n",
    "\n",
    "import matplotlib.pyplot as plt \n",
    "plt.ion()\n",
    "plt.close(\"all\")"
   ]
  },
  {
   "cell_type": "code",
   "execution_count": 45,
   "metadata": {},
   "outputs": [
    {
     "name": "stderr",
     "output_type": "stream",
     "text": [
      "/home/u5708159/python/Modules/ppxftests/ppxf_plot.py:32: RuntimeWarning: More than 20 figures have been opened. Figures created through the pyplot interface (`matplotlib.pyplot.figure`) are retained until explicitly closed and may consume too much memory. (To control this warning, see the rcParam `figure.max_open_warning`).\n",
      "  fig = plt.figure(figsize=(10, 3.5))\n"
     ]
    },
    {
     "data": {
      "application/vnd.jupyter.widget-view+json": {
       "model_id": "47692bb91502409e87121b8e469bb566",
       "version_major": 2,
       "version_minor": 0
      },
      "text/plain": [
       "Canvas(toolbar=Toolbar(toolitems=[('Home', 'Reset original view', 'home', 'home'), ('Back', 'Back to previous …"
      ]
     },
     "metadata": {},
     "output_type": "display_data"
    },
    {
     "name": "stderr",
     "output_type": "stream",
     "text": [
      "/home/u5708159/python/Modules/ppxftests/ppxf_plot.py:72: RuntimeWarning: More than 20 figures have been opened. Figures created through the pyplot interface (`matplotlib.pyplot.figure`) are retained until explicitly closed and may consume too much memory. (To control this warning, see the rcParam `figure.max_open_warning`).\n",
      "  fig = plt.figure(figsize=(10, 3.5))\n"
     ]
    },
    {
     "data": {
      "application/vnd.jupyter.widget-view+json": {
       "model_id": "ed732b7fb1774452b6805faac12849a4",
       "version_major": 2,
       "version_minor": 0
      },
      "text/plain": [
       "Canvas(toolbar=Toolbar(toolitems=[('Home', 'Reset original view', 'home', 'home'), ('Back', 'Back to previous …"
      ]
     },
     "metadata": {},
     "output_type": "display_data"
    },
    {
     "name": "stderr",
     "output_type": "stream",
     "text": [
      "/home/u5708159/python/Modules/ppxftests/ppxf_plot.py:110: RuntimeWarning: More than 20 figures have been opened. Figures created through the pyplot interface (`matplotlib.pyplot.figure`) are retained until explicitly closed and may consume too much memory. (To control this warning, see the rcParam `figure.max_open_warning`).\n",
      "  fig = plt.figure(figsize=(10, 3.5))\n"
     ]
    },
    {
     "data": {
      "application/vnd.jupyter.widget-view+json": {
       "model_id": "bce86d30560a436aa05c51925344efa8",
       "version_major": 2,
       "version_minor": 0
      },
      "text/plain": [
       "Canvas(toolbar=Toolbar(toolitems=[('Home', 'Reset original view', 'home', 'home'), ('Back', 'Back to previous …"
      ]
     },
     "metadata": {},
     "output_type": "display_data"
    },
    {
     "name": "stderr",
     "output_type": "stream",
     "text": [
      "/home/u5708159/python/Modules/ppxftests/mockspec.py:179: RuntimeWarning: More than 20 figures have been opened. Figures created through the pyplot interface (`matplotlib.pyplot.figure`) are retained until explicitly closed and may consume too much memory. (To control this warning, see the rcParam `figure.max_open_warning`).\n",
      "  fig, ax = plt.subplots(nrows=1, ncols=1, figsize=(fig_w, fig_h))\n"
     ]
    },
    {
     "data": {
      "application/vnd.jupyter.widget-view+json": {
       "model_id": "949fe126148b4e3993cdbc7873df9508",
       "version_major": 2,
       "version_minor": 0
      },
      "text/plain": [
       "Canvas(toolbar=Toolbar(toolitems=[('Home', 'Reset original view', 'home', 'home'), ('Back', 'Back to previous …"
      ]
     },
     "metadata": {},
     "output_type": "display_data"
    },
    {
     "name": "stderr",
     "output_type": "stream",
     "text": [
      "/home/u5708159/python/Modules/ppxftests/mockspec.py:399: RuntimeWarning: More than 20 figures have been opened. Figures created through the pyplot interface (`matplotlib.pyplot.figure`) are retained until explicitly closed and may consume too much memory. (To control this warning, see the rcParam `figure.max_open_warning`).\n",
      "  fig, ax = plt.subplots(nrows=1, ncols=1, figsize=(fig_w, fig_h))\n"
     ]
    },
    {
     "data": {
      "application/vnd.jupyter.widget-view+json": {
       "model_id": "a15048cfe2fd44049b12517735ae2984",
       "version_major": 2,
       "version_minor": 0
      },
      "text/plain": [
       "Canvas(toolbar=Toolbar(toolitems=[('Home', 'Reset original view', 'home', 'home'), ('Back', 'Back to previous …"
      ]
     },
     "metadata": {},
     "output_type": "display_data"
    }
   ],
   "source": [
    "###################################################\n",
    "# For testing: create a spectrum\n",
    "###################################################\n",
    "isochrones = \"Padova\"\n",
    "SNR = 200\n",
    "z = 0.01\n",
    "\n",
    "sfh_mw_input, sfh_lw_input, sfr_avg_input, sigma_star_kms = load_sfh(gal=99, plotit=True)\n",
    "\n",
    "spec, spec_err, lambda_vals_A = create_mock_spectrum(\n",
    "    sfh_mass_weighted=sfh_mw_input,\n",
    "    agn_continuum=False,\n",
    "    isochrones=isochrones, z=z, SNR=SNR, sigma_star_kms=sigma_star_kms,\n",
    "    plotit=True)\n"
   ]
  },
  {
   "cell_type": "code",
   "execution_count": 58,
   "metadata": {},
   "outputs": [],
   "source": [
    "###################################################\n",
    "# Function for computing the HdeltaA index \n",
    "# as per Worthey & Ottaviani (1997)\n",
    "###################################################\n",
    "def compute_Hdelta(spec, lambda_vals_A, z):\n",
    "    # De-redshift the input spectrum\n",
    "    lambda_vals_rest_A = lambda_vals_A / (1 + z) \n",
    "\n",
    "    # Define the blue & red passbands, plus the midpoint\n",
    "    lambda_start_b_A = 4041.60\n",
    "    lambda_stop_b_A = 4079.75\n",
    "    lambda_mid_b_A = 0.5 * (lambda_start_b_A + lambda_stop_b_A)\n",
    "    lambda_start_r_A = 4128.50 \n",
    "    lambda_stop_r_A = 4161.00\n",
    "    lambda_mid_r_A = 0.5 * (lambda_start_r_A + lambda_stop_r_A)\n",
    "    \n",
    "    # Central passband\n",
    "    lambda_start_c_A = 4083.50 \n",
    "    lambda_stop_c_A = 4122.25\n",
    "    lambda_mid_c_A = 0.5 * (lambda_start_c_A + lambda_stop_c_A)\n",
    "\n",
    "    # Determine the corresponding indices in the input spectrum\n",
    "    lambda_start_b_idx = np.nanargmin(np.abs(lambda_vals_rest_A - lambda_start_b_A))\n",
    "    lambda_stop_b_idx = np.nanargmin(np.abs(lambda_vals_rest_A - lambda_stop_b_A)) \n",
    "    lambda_start_r_idx = np.nanargmin(np.abs(lambda_vals_rest_A - lambda_start_r_A))\n",
    "    lambda_stop_r_idx = np.nanargmin(np.abs(lambda_vals_rest_A - lambda_stop_r_A)) \n",
    "    lambda_mid_b_idx = np.nanargmin(np.abs(lambda_vals_rest_A - lambda_mid_b_A)) \n",
    "    lambda_mid_r_idx = np.nanargmin(np.abs(lambda_vals_rest_A - lambda_mid_r_A)) \n",
    "    lambda_start_c_idx = np.nanargmin(np.abs(lambda_vals_rest_A - lambda_start_c_A))\n",
    "    lambda_stop_c_idx = np.nanargmin(np.abs(lambda_vals_rest_A - lambda_stop_c_A)) \n",
    "\n",
    "    # Compute the mean flux in the blue & red passbands \n",
    "    f_mean_b = np.nanmean(spec[lambda_start_b_idx:lambda_stop_b_idx])\n",
    "    f_mean_r = np.nanmean(spec[lambda_start_r_idx:lambda_stop_r_idx])\n",
    "\n",
    "    # Define the continuum within the central passband to be halfway between the mean fluxes in the red & blue passbands \n",
    "    f_mean_c = 0.5 * (f_mean_b + f_mean_r)\n",
    "\n",
    "    # Integrate the spectrum from lambda_start_c_A to lambda_stop_c_A to compute the EW\n",
    "    dlambda_rest_A = lambda_vals_rest_A[1] - lambda_vals_rest_A[0]\n",
    "    A_spec = dlambda_rest_A * np.nansum(spec[lambda_start_c_idx:lambda_stop_c_idx])\n",
    "\n",
    "    # Integrate the corresponding area under the pseudocontinuum\n",
    "    m = (f_mean_b - f_mean_r) / (lambda_mid_b_A - lambda_mid_r_A)\n",
    "    b = f_mean_b - m * lambda_mid_b_A\n",
    "    y = lambda l: m * l + b\n",
    "    A_trapezoid = 0.5 * (y(lambda_start_c_A) + y(lambda_stop_c_A)) * (lambda_stop_c_A - lambda_start_c_A)\n",
    "\n",
    "    # Calculate area in between the pseudocontinuum and the spectrum!! \n",
    "    A_line = A_trapezoid - A_spec\n",
    "    \n",
    "    # Compute the EW, taking the level of the pseudocontinuum in the centre of the passband to be the continuum level\n",
    "    EW_A = A_line / f_mean_c\n",
    "    \n",
    "    # ###################################################\n",
    "    # # Plot\n",
    "    # ###################################################\n",
    "    # fig, ax = plt.subplots(figsize=(15, 5))\n",
    "    # ax.plot(lambda_vals_rest_A, spec, color=\"grey\")\n",
    "    # ax.axvline(lambda_start_b_A, color=\"blue\", label=\"Blue passband\")\n",
    "    # ax.axvline(lambda_stop_b_A, color=\"blue\")\n",
    "    # ax.axvline(lambda_start_r_A, color=\"red\", label=\"Red passband\")\n",
    "    # ax.axvline(lambda_stop_r_A, color=\"red\")\n",
    "    # ax.axvline(lambda_start_c_A, color=\"grey\", label=\"Central passband\")\n",
    "    # ax.axvline(lambda_stop_c_A, color=\"grey\")\n",
    "    # ax.plot([lambda_start_b_A, lambda_stop_b_A], [f_mean_b, f_mean_b], linewidth=3, color=\"black\", label=\"Mean flux in blue/red passband\")\n",
    "    # ax.plot([lambda_start_r_A, lambda_stop_r_A], [f_mean_r, f_mean_r], linewidth=3, color=\"black\")\n",
    "    # ax.plot([lambda_mid_b_A, lambda_mid_r_A], [f_mean_b, f_mean_r], ls=\":\", color=\"black\", label=\"Pseudocontinuum\")\n",
    "    # ax.fill_between([lambda_mid_c_A - EW / 2, lambda_mid_c_A + EW / 2], [y(lambda_mid_c_A - EW / 2), y(lambda_mid_c_A + EW / 2)], color=\"green\", alpha=0.3)\n",
    "    # ax.set_xlim([3900, 4200])\n",
    "    # ax.set_ylim([0, None])\n",
    "    # ax.set_xlabel(r\"$\\lambda$ (rest)\")\n",
    "    # ax.legend()\n",
    "    \n",
    "    return EW_A\n"
   ]
  },
  {
   "cell_type": "code",
   "execution_count": 59,
   "metadata": {},
   "outputs": [],
   "source": [
    "###################################################\n",
    "# Function for computing the D4000Å break strength\n",
    "# as per Balogh (1999)\n",
    "###################################################\n",
    "def compute_D4000(spec, lambda_vals_A, z):\n",
    "\n",
    "    # De-redshift the input spectrum\n",
    "    lambda_vals_rest_A = lambda_vals_A / (1 + z) \n",
    "\n",
    "    # Compute the D4000Å break\n",
    "    # Definition from Balogh+1999 (see here: https://arxiv.org/pdf/1611.07050.pdf, page 3)\n",
    "    lambda_start_b_A = 3850\n",
    "    lambda_stop_b_A = 3950\n",
    "    lambda_start_r_A = 4000\n",
    "    lambda_stop_r_A = 4100\n",
    "    lambda_start_b_idx = np.nanargmin(np.abs(lambda_vals_rest_A - lambda_start_b_A))\n",
    "    lambda_stop_b_idx = np.nanargmin(np.abs(lambda_vals_rest_A - lambda_stop_b_A))\n",
    "    lambda_start_r_idx = np.nanargmin(np.abs(lambda_vals_rest_A - lambda_start_r_A))\n",
    "    lambda_stop_r_idx = np.nanargmin(np.abs(lambda_vals_rest_A - lambda_stop_r_A))\n",
    "    N_b = lambda_stop_b_idx - lambda_start_b_idx\n",
    "    N_r = lambda_stop_r_idx - lambda_start_r_idx\n",
    "\n",
    "    # Convert datacube & variance cubes to units of F_nu\n",
    "    F_lambda = np.copy(spec)\n",
    "    F_nu = F_lambda * lambda_vals_rest_A**2 / (constants.c * 1e10)\n",
    "\n",
    "    num = np.nanmean(F_nu[lambda_start_r_idx:lambda_stop_r_idx], axis=0)\n",
    "    denom = np.nanmean(F_nu[lambda_start_b_idx:lambda_stop_b_idx], axis=0)\n",
    "    err_denom = 1 / N_b * np.sqrt(np.nansum(F_nu_err[lambda_start_b_idx:lambda_stop_b_idx]**2, axis=0))\n",
    "\n",
    "    d4000 = num / denom\n",
    "\n",
    "    # ###################################################\n",
    "    # # Plot\n",
    "    # ###################################################\n",
    "    # fig, ax = plt.subplots(figsize=(15, 5))\n",
    "    # ax.plot(lambda_vals_rest_A, spec, color=\"grey\")\n",
    "    # ax.axvline(lambda_start_b_A, color=\"blue\", label=\"Blue passband\")\n",
    "    # ax.axvline(lambda_stop_b_A, color=\"blue\")\n",
    "    # ax.axvline(lambda_start_r_A, color=\"red\", label=\"Red passband\")\n",
    "    # ax.axvline(lambda_stop_r_A, color=\"red\")\n",
    "    # ax.set_ylim([0, None])\n",
    "    # ax.set_xlabel(r\"$\\lambda$ (rest)\")\n",
    "    # ax.legend()\n",
    "    \n",
    "    return d4000"
   ]
  },
  {
   "cell_type": "code",
   "execution_count": null,
   "metadata": {},
   "outputs": [],
   "source": [
    "###################################################\n",
    "# Settings\n",
    "###################################################\n",
    "bin_edges, bin_widths = get_bin_edges_and_widths(isochrones=\"Padova\")\n",
    "_, _, metallicities, ages = load_ssp_templates(isochrones=\"Padova\")"
   ]
  },
  {
   "cell_type": "code",
   "execution_count": 65,
   "metadata": {},
   "outputs": [
    {
     "data": {
      "application/vnd.jupyter.widget-view+json": {
       "model_id": "4ba38b68c3684b02aafcf6b0cf513dc4",
       "version_major": 2,
       "version_minor": 0
      },
      "text/plain": [
       "Canvas(toolbar=Toolbar(toolitems=[('Home', 'Reset original view', 'home', 'home'), ('Back', 'Back to previous …"
      ]
     },
     "metadata": {},
     "output_type": "display_data"
    }
   ],
   "source": [
    "###################################################\n",
    "# Compute both quantities for bursty SFHs\n",
    "###################################################\n",
    "z = 0\n",
    "fig, ax = plt.subplots()\n",
    "\n",
    "for mm in range(3):\n",
    "    hdelta_vals = []\n",
    "    d4000_vals = []\n",
    "    for aa in range(74):\n",
    "        sfh_mw = np.zeros((3, 74))\n",
    "        sfh_mw[mm, aa] = 1e10\n",
    "\n",
    "        spec, spec_err, lambda_vals_A = create_mock_spectrum(\n",
    "            sfh_mass_weighted=sfh_mw,\n",
    "            agn_continuum=False,\n",
    "            isochrones=\"Padova\", z=z, SNR=1e5, sigma_star_kms=200,\n",
    "            plotit=False)\n",
    "\n",
    "        hdelta_vals.append(compute_Hdelta(spec, lambda_vals_A, z))\n",
    "        d4000_vals.append(compute_D4000(spec, lambda_vals_A, z))\n",
    "\n",
    "    ax.scatter(d4000_vals, hdelta_vals, label=f\"metal idx = {mm}\")\n"
   ]
  },
  {
   "cell_type": "code",
   "execution_count": 67,
   "metadata": {},
   "outputs": [
    {
     "data": {
      "application/vnd.jupyter.widget-view+json": {
       "model_id": "97c8b83064a34c54a00e7b022b314be8",
       "version_major": 2,
       "version_minor": 0
      },
      "text/plain": [
       "Canvas(toolbar=Toolbar(toolitems=[('Home', 'Reset original view', 'home', 'home'), ('Back', 'Back to previous …"
      ]
     },
     "metadata": {},
     "output_type": "display_data"
    }
   ],
   "source": [
    "###################################################\n",
    "# Compute both quantities for constant SFHs\n",
    "###################################################\n",
    "z = 0\n",
    "fig, ax = plt.subplots()\n",
    "\n",
    "\n",
    "for mm in range(3):\n",
    "    hdelta_vals = []\n",
    "    d4000_vals = []\n",
    "    for aa in range(1, 74):\n",
    "        sfr = np.zeros((3, 74))\n",
    "        sfr[mm, :aa] = 1\n",
    "        sfh_mw = sfr * bin_widths[None, :]\n",
    "\n",
    "        spec, spec_err, lambda_vals_A = create_mock_spectrum(\n",
    "            sfh_mass_weighted=sfh_mw,\n",
    "            agn_continuum=False,\n",
    "            isochrones=\"Padova\", z=z, SNR=1e5, sigma_star_kms=200,\n",
    "            plotit=False)\n",
    "\n",
    "        hdelta_vals.append(compute_Hdelta(spec, lambda_vals_A, z))\n",
    "        d4000_vals.append(compute_D4000(spec, lambda_vals_A, z))\n",
    "\n",
    "    ax.scatter(d4000_vals, hdelta_vals, label=f\"metal idx = {mm}\")\n"
   ]
  },
  {
   "cell_type": "code",
   "execution_count": null,
   "metadata": {},
   "outputs": [],
   "source": [
    "###################################################\n",
    "# Compute both quantities for \"continuous\" SFHs\n",
    "# i.e. exponentially decaying SFHs\n",
    "###################################################\n",
    "# SFR \\propto exp(-gamma t) where gamma ranges from 0 - 1 and t is in Gyr\n",
    "for gamma in np.linspace(0, 1, 4):\n",
    "    for t in ages / 1e9:\n",
    "        sfr = np.zeros(N_metallicities, N_ages)\n",
    "        ...\n",
    "        \n"
   ]
  },
  {
   "cell_type": "code",
   "execution_count": null,
   "metadata": {},
   "outputs": [],
   "source": []
  }
 ],
 "metadata": {
  "kernelspec": {
   "display_name": "Python 3",
   "language": "python",
   "name": "python3"
  },
  "language_info": {
   "codemirror_mode": {
    "name": "ipython",
    "version": 3
   },
   "file_extension": ".py",
   "mimetype": "text/x-python",
   "name": "python",
   "nbconvert_exporter": "python",
   "pygments_lexer": "ipython3",
   "version": "3.7.4"
  }
 },
 "nbformat": 4,
 "nbformat_minor": 2
}
