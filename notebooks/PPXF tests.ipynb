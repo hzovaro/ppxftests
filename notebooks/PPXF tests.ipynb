{
 "cells": [
  {
   "cell_type": "markdown",
   "metadata": {},
   "source": [
    "# PPXF tests\n",
    "---\n",
    "This is a notebook for running tests to validate the results produced by ppxf, specifically to look at the effects of various systematics on derived star formation histories (SFHs).\n",
    "\n",
    "### Producing a mock galaxy spectrum\n",
    "---\n",
    "We use the following steps to produce mock spectra to use as input to ppxf:\n",
    "1. Generate a SFH by assigning weights $w_n$ to each template $T_n(\\lambda)$.\n",
    "2. Use the SFH to generate a mock spectrum:\n",
    "    $$G(\\lambda) = \\sum_n w_n T_n (\\lambda)$$\n",
    "3. Re-bin the mock spectrum to a logarithmic wavelength grid such that \n",
    "    $$G(\\lambda) \\rightarrow G(\\ln \\lambda)$$\n",
    "4. Define a line-of-sight velocity dispersion (LOSVD) where the convolution kernel is given by \n",
    "    $$\\mathcal{L}(v) = \\frac{1}{\\sigma \\sqrt{2\\pi}} \\exp{\\frac{-(v - V)^2}{2\\sigma^2}} = \\frac{1}{\\sigma \\sqrt{2\\pi}} \\exp{\\frac{-\\Delta v^2}{2\\sigma^2}} $$\n",
    "where $v$ is the velocity, $V$ is the systemic velocity (assumed to be 0 for our galaxies, since we are only interested in nuclear spectra) and $\\sigma$ is the LOS velocity dispersion. Define the kernel *linearly* in velocity space over a range \n",
    "    $$[-\\Delta v_{\\rm max}, +\\Delta v_{\\rm max}]$$.\n",
    "5. Use the fact that, for small $\\Delta v$,\n",
    "    $$ \\Delta v = c \\Delta \\ln \\lambda $$ (i.e., the Doppler formula)\n",
    "to re-define $\\mathcal{L}(v)$ so that it is defined on a grid of constant $\\Delta \\ln \\lambda$, so that its range is \n",
    "    $$[-(\\Delta \\lambda)_{\\rm max}, +(\\Delta \\lambda)_{\\rm max}] = [-\\Delta v_{\\rm max}/c, +\\Delta v_{\\rm max}/c]$$ (i.e., divide the velocity axis by $c$ in km/s). \n",
    "6. Convolve the mock spectrum with the LOSVD:\n",
    "    $$ G^\\prime(\\ln \\lambda) = G(\\ln \\lambda) * \\mathcal{L}(\\Delta \\ln \\lambda) $$\n",
    "7. Apply the systemic redshift, i.e. \"stretch\" the wavelength axis:\n",
    "    $$ \\ln \\lambda \\rightarrow \\ln \\lambda + \\ln (1 + z) $$\n",
    "8. Interpolate to the linear WiFeS wavelength grid (corresponding to the \"COMB\" cubes).\n",
    "9. Convolve by the line spread function, which we assume to be a Gaussian in wavelength space with \n",
    "    $$\\sigma_{\\rm LSF} = \\sqrt{\\sigma_{\\rm WiFeS}^2 - \\sigma_{\\rm templates}^2}$$\n",
    "10. Add noise, randomply sampled from the variance spectrum from a real WiFeS data cube."
   ]
  },
  {
   "cell_type": "markdown",
   "metadata": {},
   "source": [
    "## Sequence of tests \n",
    "---\n",
    "* **Basic assurance testing**\n",
    "    * Sensitivity to young stellar populations: given a young stellar population superimposed on top of an older population, what is the minimum mass fraction of the young population for which ppxf can accurately return the SFH?\n",
    "    * Effect of emission lines: does the inclusion of emission lines affect the derived SFH at all? What about very broad emission lines?\n",
    "    * Reducing the number of templates: by how much can we degrade the temporal & metallicity sampling of the template grid & still accurately capture the SFH? (i.e., see if the fitting process can be sped up by using fewer templates)\n",
    "    * Limiting the wavelength range to save time: what happens if we use only the blue half of the spectrum?\n",
    "    * Template mismatch: how accurately can the SFH be recovered when the Geneva isochrones are used to generate the mock spectra, but the Padova isochrones are used in the fitting process?\n",
    "* **Regularisation**\n",
    "    * Accuracy: try SFHs with varying degrees of smoothness. Using the local minimum approach to find the optimal value for regul, does ppxf accurately return the degree of smoothness?\n",
    "    * If ppxf does *not* accurately capture the smoothness of the stellar continuum, what statements can we make about the accuracy of the estimated starburst age?\n",
    "    * Based off these results, are there specific properties of the underlying SFH that lead to poor estimation of the regul parameter? i.e., \"spiky\" local minima?\n",
    "* **Contamination from an AGN continuum**\n",
    "    * The effect of an AGN continuum: run ppxf several times on a spectrum with varying strengths of an AGN continuum added, without making any modifications to the ppxf input. How does the strength (and slope) of the added continuum change the results? Does it have an effect on the regularisation parameter?\n",
    "* **Estimating errors on the starburst age**\n",
    "\t* is there some kind of monte carlo method we can use to estimate errors? Or would it be better to e.g. fit a Gaussian profile to the SFH and measure a FWHM?"
   ]
  },
  {
   "cell_type": "code",
   "execution_count": 17,
   "metadata": {},
   "outputs": [],
   "source": [
    "%matplotlib widget"
   ]
  },
  {
   "cell_type": "code",
   "execution_count": 41,
   "metadata": {},
   "outputs": [],
   "source": [
    "# Imports\n",
    "import os \n",
    "import numpy as np\n",
    "\n",
    "from scipy import constants\n",
    "from scipy.signal import convolve\n",
    "from scipy.interpolate import CubicSpline\n",
    "\n",
    "from itertools import product\n",
    "\n",
    "import ppxf.ppxf_util as util\n",
    "\n",
    "from cosmocalc import get_dist\n",
    "\n",
    "import matplotlib.pyplot as plt\n",
    "plt.ion()\n",
    "plt.close(\"all\")\n"
   ]
  },
  {
   "cell_type": "code",
   "execution_count": 19,
   "metadata": {},
   "outputs": [],
   "source": [
    "# Paths \n",
    "ssp_template_path = \"/home/u5708159/python/Modules/ppxftests/SSP_templates\""
   ]
  },
  {
   "cell_type": "code",
   "execution_count": 49,
   "metadata": {},
   "outputs": [],
   "source": [
    "################################################################################################################\n",
    "# Mock spectra options\n",
    "################################################################################################################\n",
    "isochrones = \"Padova\"  # Set of isochrones to use \n",
    "sigma_star_kms = 350   # LOS velocity dispersion, km/s\n",
    "z = 0.05               # Redshift \n",
    "SNR = 25               # S/N ratio\n"
   ]
  },
  {
   "cell_type": "code",
   "execution_count": 50,
   "metadata": {},
   "outputs": [],
   "source": [
    "################################################################################################################\n",
    "# WiFeS instrument properties\n",
    "################################################################################################################\n",
    "\n",
    "# Compute the width of the LSF kernel we need to apply to the templates\n",
    "FWHM_inst_A = 1.4      # for the WiFeS COMB cube; as measured using sky lines in the b3000 grating\n",
    "dlambda_A_ssp = 0.30  # Gonzalez-Delgado spectra_linear have a constant spectral sampling of 0.3 A.\n",
    "# Assuming that sigma = dlambda_A_ssp.\n",
    "FWHM_ssp_A = 2 * np.sqrt(2 * np.log(2)) * dlambda_A_ssp\n",
    "FWHM_LSF_A = np.sqrt(FWHM_inst_A**2 - FWHM_ssp_A**2)\n",
    "sigma_LSF_A = FWHM_LSF_A / (2 * np.sqrt(2 * np.log(2)))\n",
    "\n",
    "# WiFeS wavelength grid (\"COMB\" setting)\n",
    "N_lambda_wifes = 4520\n",
    "lambda_start_wifes_A = 3500.0\n",
    "dlambda_wifes_A = 0.7746262160168323\n",
    "lambda_vals_wifes_A = np.arange(N_lambda_wifes) * dlambda_wifes_A + lambda_start_wifes_A\n",
    "\n",
    "oversample_factor = 4\n",
    "lambda_vals_wifes_oversampled_A = np.arange(N_lambda_wifes * oversample_factor) * dlambda_wifes_A / oversample_factor + lambda_start_wifes_A\n",
    "\n",
    "# Compute the velocity scale (\"velscale\") parameter from the WiFeS wavelength sampling\n",
    "_, _, velscale_oversampled =\\\n",
    "        util.log_rebin(np.array([lambda_vals_wifes_oversampled_A[0], lambda_vals_wifes_oversampled_A[-1]]),\n",
    "                       np.zeros(N_lambda_wifes * oversample_factor))"
   ]
  },
  {
   "cell_type": "code",
   "execution_count": 51,
   "metadata": {
    "scrolled": true
   },
   "outputs": [
    {
     "name": "stderr",
     "output_type": "stream",
     "text": [
      "/pkg/linux/anaconda-20191122/anaconda3/lib/python3.7/site-packages/ipykernel_launcher.py:15: DeprecationWarning: elementwise comparison failed; this will raise an error in the future.\n",
      "  from ipykernel import kernelapp as app\n"
     ]
    }
   ],
   "source": [
    "################################################################################################################\n",
    "# Load the templates \n",
    "################################################################################################################\n",
    "# List of template names - one for each metallicity\n",
    "ssp_template_fnames =\\\n",
    "    [os.path.join(ssp_template_path, f\"SSP{isochrones}\", f) for f in os.listdir(os.path.join(ssp_template_path, f\"SSP{isochrones}\")) if f.endswith(\".npz\")]\n",
    "\n",
    "################################################################################################################\n",
    "# Determine how many different templates there are (i.e. N_ages x N_metallicities)\n",
    "metallicities = []\n",
    "ages = []\n",
    "for ssp_template_fname in ssp_template_fnames:\n",
    "    f = np.load(os.path.join(ssp_template_path, ssp_template_fname))\n",
    "    metallicities.append(f[\"metallicity\"].item())\n",
    "    ages = f[\"ages\"] if ages == [] else ages\n",
    "    lambda_vals_ssp_linear = f[\"lambda_vals_A\"]\n",
    "\n",
    "# Template dimensions\n",
    "N_ages = len(ages)\n",
    "N_metallicities = len(metallicities)\n",
    "N_lambda = len(lambda_vals_ssp_linear)\n",
    "\n",
    "################################################################################################################\n",
    "# We need to logarithmically bin \n",
    "\n",
    "################################################################################################################\n",
    "# Load each template & store in arrays\n",
    "\n",
    "# Create a big 3D array to hold the spectra\n",
    "spec_arr_linear = np.zeros((N_metallicities, N_ages, N_lambda))\n",
    "\n",
    "for mm, ssp_template_fname in enumerate(ssp_template_fnames):\n",
    "    f = np.load(os.path.join(ssp_template_path, ssp_template_fname))\n",
    "    \n",
    "    # Get the spectra & wavelength values\n",
    "    spectra_ssp_linear = f[\"L_vals\"]\n",
    "    lambda_vals_ssp_linear = f[\"lambda_vals_A\"]\n",
    "\n",
    "    # Store in the big array \n",
    "    spec_arr_linear[mm, :, :] = spectra_ssp_linear.T\n"
   ]
  },
  {
   "cell_type": "code",
   "execution_count": 52,
   "metadata": {},
   "outputs": [
    {
     "data": {
      "text/plain": [
       "['/home/u5708159/python/Modules/ppxftests/SSP_templates/SSPPadova/SSPPadova.z004.npz',\n",
       " '/home/u5708159/python/Modules/ppxftests/SSP_templates/SSPPadova/SSPPadova.z008.npz',\n",
       " '/home/u5708159/python/Modules/ppxftests/SSP_templates/SSPPadova/SSPPadova.z019.npz']"
      ]
     },
     "execution_count": 52,
     "metadata": {},
     "output_type": "execute_result"
    }
   ],
   "source": [
    "ssp_template_fnames"
   ]
  },
  {
   "cell_type": "code",
   "execution_count": 53,
   "metadata": {},
   "outputs": [
    {
     "data": {
      "application/vnd.jupyter.widget-view+json": {
       "model_id": "83995a2e9490463a9afd7c840f57a053",
       "version_major": 2,
       "version_minor": 0
      },
      "text/plain": [
       "Canvas(toolbar=Toolbar(toolitems=[('Home', 'Reset original view', 'home', 'home'), ('Back', 'Back to previous …"
      ]
     },
     "metadata": {},
     "output_type": "display_data"
    }
   ],
   "source": [
    "################################################################################################################\n",
    "# Checking to make sure the templates have been loaded in the right order! \n",
    "################################################################################################################\n",
    "fig, ax = plt.subplots(nrows=1, ncols=1, figsize=(15, 5))\n",
    "# Spec 1\n",
    "age_idx = 30\n",
    "met_idx = 0\n",
    "ax.plot(lambda_vals_ssp_linear, spec_arr_linear[met_idx, age_idx, :], label=f\"t = {ages[age_idx]/1e6:.2f} Myr, met = {metallicities[met_idx]:.4f}\")\n",
    "\n",
    "# Spec 2\n",
    "age_idx = 30\n",
    "met_idx = -1\n",
    "ax.plot(lambda_vals_ssp_linear, spec_arr_linear[met_idx, age_idx, :], label=f\"t = {ages[age_idx]/1e6:.2f} Myr, met = {metallicities[met_idx]:.4f}\")\n",
    "\n",
    "ax.set_ylabel(f\"$L$ (erg/s/$\\AA$/M$_\\odot$)\")\n",
    "ax.set_xlabel(f\"$\\lambda$\")\n",
    "ax.legend()\n",
    "ax.autoscale(enable=\"True\", axis=\"x\", tight=True)"
   ]
  },
  {
   "cell_type": "code",
   "execution_count": 54,
   "metadata": {},
   "outputs": [],
   "source": [
    "def plot_sfh_mass_weighted(sfh_mass_weighted):\n",
    "    # Create figure\n",
    "    fig, ax = plt.subplots(nrows=1, ncols=1, figsize=(10, 3.5))\n",
    "    bbox = ax.get_position()\n",
    "    cax = fig.add_axes([bbox.x0 + bbox.width, bbox.x0, 0.025, bbox.height])\n",
    "    \n",
    "    # Plot the SFH\n",
    "    m = ax.imshow(np.log10(sfh_mass_weighted), cmap=\"magma_r\", origin=\"lower\", aspect=\"auto\")\n",
    "    fig.colorbar(m, cax=cax)\n",
    "    \n",
    "    # Decorations\n",
    "    ax.set_yticks(range(len(metallicities)))\n",
    "    ax.set_yticklabels([\"{:.3f}\".format(met / 0.02) for met in metallicities])\n",
    "    ax.set_ylabel(r\"Metallicity ($Z_\\odot$)\")\n",
    "    cax.set_ylabel(r\"Mass $\\log_{10}(\\rm M_\\odot)$\")\n",
    "    ax.set_xticks(range(len(ages)))\n",
    "    ax.set_xlabel(\"Age (Myr)\")\n",
    "    ax.set_xticklabels([\"{:}\".format(age / 1e6) for age in ages], rotation=\"vertical\")\n",
    "    \n",
    "    return\n"
   ]
  },
  {
   "cell_type": "code",
   "execution_count": 55,
   "metadata": {},
   "outputs": [
    {
     "data": {
      "application/vnd.jupyter.widget-view+json": {
       "model_id": "04c760e1afd84de88d5f388debc4507a",
       "version_major": 2,
       "version_minor": 0
      },
      "text/plain": [
       "Canvas(toolbar=Toolbar(toolitems=[('Home', 'Reset original view', 'home', 'home'), ('Back', 'Back to previous …"
      ]
     },
     "metadata": {},
     "output_type": "display_data"
    },
    {
     "name": "stderr",
     "output_type": "stream",
     "text": [
      "/pkg/linux/anaconda-20191122/anaconda3/lib/python3.7/site-packages/ipykernel_launcher.py:8: RuntimeWarning: divide by zero encountered in log10\n",
      "  \n"
     ]
    },
    {
     "data": {
      "text/plain": [
       "Text(0.5, 1.0, 'Input SFH')"
      ]
     },
     "execution_count": 55,
     "metadata": {},
     "output_type": "execute_result"
    }
   ],
   "source": [
    "################################################################################################################\n",
    "# Define the SFH \n",
    "################################################################################################################\n",
    "# Idea 1: use a Gaussian kernel to smooth \"delta-function\"-like SFHs\n",
    "# Idea 2: are the templates logarithmically spaced in age? If so, could use e.g. every 2nd template \n",
    "\n",
    "sfh_mass_weighted = np.zeros((N_metallicities, N_ages))\n",
    "\n",
    "age_1 = 10e6  # yr \n",
    "age_2 = 10e9  # yr\n",
    "\n",
    "age_1_idx = np.nanargmin(np.abs(ages - age_1))\n",
    "age_2_idx = np.nanargmin(np.abs(ages - age_2))\n",
    "\n",
    "met_idx = 1  # Solar metalliciy for now \n",
    "\n",
    "sfh_mass_weighted[met_idx, age_1_idx] = 1e7   # solar masses\n",
    "sfh_mass_weighted[met_idx, age_2_idx] = 1e10  # solar masses\n",
    "\n",
    "# Plot to check\n",
    "plot_sfh_mass_weighted(sfh_mass_weighted)\n",
    "plt.gcf().get_axes()[0].set_title(\"Input SFH\")\n",
    "\n",
    "# TODO: need to figure out how to get these back from the ppxf results..."
   ]
  },
  {
   "cell_type": "code",
   "execution_count": 56,
   "metadata": {},
   "outputs": [
    {
     "data": {
      "text/plain": [
       "(3, 74, 13321)"
      ]
     },
     "execution_count": 56,
     "metadata": {},
     "output_type": "execute_result"
    }
   ],
   "source": [
    "spec_arr_linear.shape"
   ]
  },
  {
   "cell_type": "code",
   "execution_count": 57,
   "metadata": {},
   "outputs": [
    {
     "data": {
      "application/vnd.jupyter.widget-view+json": {
       "model_id": "23537661d5c64e45a34c110bc83491aa",
       "version_major": 2,
       "version_minor": 0
      },
      "text/plain": [
       "Canvas(toolbar=Toolbar(toolitems=[('Home', 'Reset original view', 'home', 'home'), ('Back', 'Back to previous …"
      ]
     },
     "metadata": {},
     "output_type": "display_data"
    }
   ],
   "source": [
    "################################################################################################################\n",
    "# Create the mock spectrum\n",
    "################################################################################################################\n",
    "# Some settings for plotting\n",
    "fig_w = 12\n",
    "fig_h = 5\n",
    "lambda_1 = 5800\n",
    "lambda_2 = 6100\n",
    "\n",
    "# 1. Sum the templates by their weights to create a single spectrum\n",
    "spec_linear = np.nansum(np.nansum(sfh_mass_weighted[:, :, None] * spec_arr_linear, axis=0), axis=0)\n",
    "\n",
    "# Plot to check\n",
    "fig, ax = plt.subplots(nrows=1, ncols=1, figsize=(fig_w, fig_h))\n",
    "ax.plot(lambda_vals_ssp_linear, spec_linear, color=\"black\", label=\"Spectrum\")\n",
    "for mm, aa in product(range(N_metallicities), range(N_ages)):\n",
    "    w = sfh_mass_weighted[mm, aa]\n",
    "    if w > 0:\n",
    "        ax.plot(lambda_vals_ssp_linear, spec_arr_linear[mm, aa, :] * w, \n",
    "                label=f\"t = {ages[aa] / 1e6:.2f} Myr, m = {metallicities[mm]:.4f}, w = {w:g}\")\n",
    "ax.set_ylabel(f\"$L$ (erg/s/$\\AA$/M$_\\odot$)\")\n",
    "ax.set_xlabel(f\"$\\lambda$\")\n",
    "ax.legend()\n",
    "ax.autoscale(enable=\"True\", axis=\"x\", tight=True)"
   ]
  },
  {
   "cell_type": "code",
   "execution_count": 58,
   "metadata": {},
   "outputs": [
    {
     "data": {
      "application/vnd.jupyter.widget-view+json": {
       "model_id": "d5900cc2d839485899c387e2d57e4962",
       "version_major": 2,
       "version_minor": 0
      },
      "text/plain": [
       "Canvas(toolbar=Toolbar(toolitems=[('Home', 'Reset original view', 'home', 'home'), ('Back', 'Back to previous …"
      ]
     },
     "metadata": {},
     "output_type": "display_data"
    }
   ],
   "source": [
    "################################################################################################################\n",
    "# 2. Logarithmically re-bin\n",
    "spec_log, lambda_vals_ssp_log, velscale_temp = util.log_rebin(\n",
    "    np.array([lambda_vals_ssp_linear[0], lambda_vals_ssp_linear[-1]]),\n",
    "    spec_linear, velscale=velscale_oversampled)\n",
    "\n",
    "# Plot to check\n",
    "fig, ax = plt.subplots(nrows=1, ncols=1, figsize=(fig_w, fig_h))\n",
    "ax.plot(lambda_vals_ssp_linear, spec_linear, color=\"black\", label=\"Normalised, linear spectrum\")\n",
    "ax.plot(np.exp(lambda_vals_ssp_log), spec_log, color=\"red\", label=\"Normalised, logarithmically-binned spectrum\")\n",
    "\n",
    "ax.set_ylabel(f\"$L$ + offset (normalised)\")\n",
    "ax.set_xlabel(f\"$\\lambda$\")\n",
    "ax.legend()\n",
    "ax.autoscale(enable=\"True\", axis=\"x\", tight=True)"
   ]
  },
  {
   "cell_type": "code",
   "execution_count": 59,
   "metadata": {},
   "outputs": [
    {
     "data": {
      "application/vnd.jupyter.widget-view+json": {
       "model_id": "658618cb87a04b0497fb1af477fcc5e7",
       "version_major": 2,
       "version_minor": 0
      },
      "text/plain": [
       "Canvas(toolbar=Toolbar(toolitems=[('Home', 'Reset original view', 'home', 'home'), ('Back', 'Back to previous …"
      ]
     },
     "metadata": {},
     "output_type": "display_data"
    },
    {
     "data": {
      "application/vnd.jupyter.widget-view+json": {
       "model_id": "fa3e9860b46c420c92f6923d28e04571",
       "version_major": 2,
       "version_minor": 0
      },
      "text/plain": [
       "Canvas(toolbar=Toolbar(toolitems=[('Home', 'Reset original view', 'home', 'home'), ('Back', 'Back to previous …"
      ]
     },
     "metadata": {},
     "output_type": "display_data"
    },
    {
     "data": {
      "text/plain": [
       "Text(0.5, 0, '$\\\\Delta ln \\\\lambda $')"
      ]
     },
     "execution_count": 59,
     "metadata": {},
     "output_type": "execute_result"
    }
   ],
   "source": [
    "################################################################################################################\n",
    "# 3a. Create the kernel corresponding to the LOSVD\n",
    "delta_lnlambda = np.diff(lambda_vals_ssp_log)[0]\n",
    "delta_lnlambda_vals = (np.arange(400) - 200) * delta_lnlambda\n",
    "\n",
    "# 3b. convert the x-axis to units of delta v (km/s) by multiplying by c (in km/s)\n",
    "c_kms = constants.c / 1e3\n",
    "delta_v_vals_kms = delta_lnlambda_vals * c_kms\n",
    "kernel_losvd = 1 / (np.sqrt(2 * np.pi) * sigma_star_kms) *\\\n",
    "         np.exp(- (delta_v_vals_kms**2) / (2 * sigma_star_kms**2))\n",
    "\n",
    "# Plot to check\n",
    "fig, ax = plt.subplots(nrows=1, ncols=1)\n",
    "ax.plot(delta_v_vals_kms, kernel_losvd)\n",
    "ax.axvline(0, color=\"black\")\n",
    "ax.set_xlabel(r\"$\\Delta v$\")\n",
    "\n",
    "fig, ax = plt.subplots(nrows=1, ncols=1)\n",
    "ax.plot(delta_lnlambda_vals, kernel_losvd)\n",
    "ax.axvline(0, color=\"black\")\n",
    "ax.set_xlabel(r\"$\\Delta ln \\lambda $\")"
   ]
  },
  {
   "cell_type": "code",
   "execution_count": 60,
   "metadata": {},
   "outputs": [
    {
     "data": {
      "application/vnd.jupyter.widget-view+json": {
       "model_id": "d42e91d5fbe548c6acefffb183d79c9e",
       "version_major": 2,
       "version_minor": 0
      },
      "text/plain": [
       "Canvas(toolbar=Toolbar(toolitems=[('Home', 'Reset original view', 'home', 'home'), ('Back', 'Back to previous …"
      ]
     },
     "metadata": {},
     "output_type": "display_data"
    }
   ],
   "source": [
    "################################################################################################################\n",
    "# 4. Convolve the LOSVD kernel with the mock spectrum\n",
    "spec_log_conv = convolve(spec_log, kernel_losvd, mode=\"same\") / np.nansum(kernel_losvd)\n",
    "\n",
    "# Plot to check\n",
    "fig, ax = plt.subplots(nrows=1, ncols=1, figsize=(fig_w, fig_h))\n",
    "ax.plot(np.exp(lambda_vals_ssp_log), spec_log, color=\"black\", label=\"Before convolution with LOSV\")\n",
    "ax.plot(np.exp(lambda_vals_ssp_log), spec_log_conv, color=\"red\", label=\"After convolution with LOSVD\")\n",
    "\n",
    "ax.set_ylabel(f\"$L$\")\n",
    "ax.set_xlabel(f\"$\\lambda$\")\n",
    "ax.legend()\n",
    "ax.autoscale(enable=\"True\", axis=\"x\", tight=True)"
   ]
  },
  {
   "cell_type": "code",
   "execution_count": 61,
   "metadata": {},
   "outputs": [
    {
     "data": {
      "application/vnd.jupyter.widget-view+json": {
       "model_id": "29f47a389ca8408cb3cd472855c9c7a6",
       "version_major": 2,
       "version_minor": 0
      },
      "text/plain": [
       "Canvas(toolbar=Toolbar(toolitems=[('Home', 'Reset original view', 'home', 'home'), ('Back', 'Back to previous …"
      ]
     },
     "metadata": {},
     "output_type": "display_data"
    }
   ],
   "source": [
    "################################################################################################################\n",
    "# 5. Apply the redshift \n",
    "lambda_vals_ssp_log_redshifted = lambda_vals_ssp_log + np.log(1 + z)\n",
    "\n",
    "# Plot to check\n",
    "fig, ax = plt.subplots(nrows=1, ncols=1, figsize=(fig_w, fig_h))\n",
    "ax.plot(np.exp(lambda_vals_ssp_log), spec_log_conv, color=\"black\", label=\"Before redshifting\")\n",
    "ax.plot(np.exp(lambda_vals_ssp_log_redshifted), spec_log_conv, color=\"red\", label=\"After redshifting\")\n",
    "    \n",
    "ax.set_ylabel(f\"$L$\")\n",
    "ax.set_xlabel(f\"$\\lambda$\")\n",
    "ax.legend()\n",
    "ax.autoscale(enable=\"True\", axis=\"x\", tight=True)"
   ]
  },
  {
   "cell_type": "code",
   "execution_count": 62,
   "metadata": {},
   "outputs": [
    {
     "data": {
      "application/vnd.jupyter.widget-view+json": {
       "model_id": "7e8cfe7d04f741faa2f1f70437299807",
       "version_major": 2,
       "version_minor": 0
      },
      "text/plain": [
       "Canvas(toolbar=Toolbar(toolitems=[('Home', 'Reset original view', 'home', 'home'), ('Back', 'Back to previous …"
      ]
     },
     "metadata": {},
     "output_type": "display_data"
    },
    {
     "data": {
      "text/plain": [
       "Text(0.5, 0, '$\\\\lambda$')"
      ]
     },
     "execution_count": 62,
     "metadata": {},
     "output_type": "execute_result"
    }
   ],
   "source": [
    "################################################################################################################\n",
    "# 6. Interpolate to the WiFeS wavelength grid (corresponding to the COMB data cube) using a cubic spline\n",
    "cs = CubicSpline(np.exp(lambda_vals_ssp_log_redshifted), spec_log_conv)\n",
    "spec_wifes_conv = cs(lambda_vals_wifes_oversampled_A)\n",
    "\n",
    "# Plot to check\n",
    "fig, ax = plt.subplots(nrows=1, ncols=1, figsize=(fig_w, fig_h))\n",
    "ax.step(np.exp(lambda_vals_ssp_log_redshifted), spec_log_conv, color=\"black\", label=\"Before interpolation\", where=\"mid\")\n",
    "ax.step(lambda_vals_wifes_oversampled_A, spec_wifes_conv, color=\"red\", label=\"Interpolated to WiFeS wavelength grid\", where=\"mid\")\n",
    "\n",
    "ax.legend() \n",
    "ax.set_xlabel(f\"$\\lambda$\")"
   ]
  },
  {
   "cell_type": "code",
   "execution_count": 63,
   "metadata": {},
   "outputs": [
    {
     "data": {
      "application/vnd.jupyter.widget-view+json": {
       "model_id": "f4194491bfea406b8c4260184fba4950",
       "version_major": 2,
       "version_minor": 0
      },
      "text/plain": [
       "Canvas(toolbar=Toolbar(toolitems=[('Home', 'Reset original view', 'home', 'home'), ('Back', 'Back to previous …"
      ]
     },
     "metadata": {},
     "output_type": "display_data"
    },
    {
     "data": {
      "text/plain": [
       "Text(0.5, 0, '$\\\\lambda$')"
      ]
     },
     "execution_count": 63,
     "metadata": {},
     "output_type": "execute_result"
    }
   ],
   "source": [
    "################################################################################################################\n",
    "# 7. Convolve by the line spread function\n",
    "lambda_vals_lsf_oversampled_A = (np.arange(100) - 50) * dlambda_wifes_A / 4\n",
    "kernel_lsf = np.exp(- (lambda_vals_lsf_oversampled_A**2) / (2 * sigma_LSF_A**2))\n",
    "\n",
    "spec_wifes_conv_lsf = convolve(spec_wifes_conv, kernel_lsf, mode=\"same\") / np.nansum(kernel_lsf)\n",
    "\n",
    "# Plot to check\n",
    "fig, ax = plt.subplots(nrows=1, ncols=1, figsize=(fig_w, fig_h))\n",
    "ax.step(lambda_vals_wifes_oversampled_A, spec_wifes_conv, color=\"black\", label=\"Before convolution with LSF\", where=\"mid\")\n",
    "ax.step(lambda_vals_wifes_oversampled_A, spec_wifes_conv_lsf, color=\"red\", label=\"After convolution with LSF\", where=\"mid\")\n",
    "\n",
    "ax.legend() \n",
    "ax.set_xlabel(f\"$\\lambda$\")"
   ]
  },
  {
   "cell_type": "code",
   "execution_count": 64,
   "metadata": {
    "scrolled": true
   },
   "outputs": [
    {
     "data": {
      "application/vnd.jupyter.widget-view+json": {
       "model_id": "b2f13b87231043ab942ee43ab9d7b7e0",
       "version_major": 2,
       "version_minor": 0
      },
      "text/plain": [
       "Canvas(toolbar=Toolbar(toolitems=[('Home', 'Reset original view', 'home', 'home'), ('Back', 'Back to previous …"
      ]
     },
     "metadata": {},
     "output_type": "display_data"
    },
    {
     "data": {
      "text/plain": [
       "Text(0.5, 0, '$\\\\lambda$')"
      ]
     },
     "execution_count": 64,
     "metadata": {},
     "output_type": "execute_result"
    }
   ],
   "source": [
    "################################################################################################################\n",
    "# 8. Downsample to the WiFeS wavelength grid (corresponding to the COMB data cube)\n",
    "spec_wifes = np.nansum(spec_wifes_conv_lsf.reshape(-1, oversample_factor), axis=1) / oversample_factor\n",
    "\n",
    "# Plot to check\n",
    "fig, ax = plt.subplots(nrows=1, ncols=1, figsize=(fig_w, fig_h))\n",
    "ax.step(lambda_vals_wifes_oversampled_A, spec_wifes_conv, color=\"black\", label=\"Before downsampling\", where=\"mid\")\n",
    "ax.step(lambda_vals_wifes_A, spec_wifes, color=\"red\", label=\"After downsampling\", where=\"mid\")\n",
    "ax.set_xlim([lambda_1 + 20, lambda_2 - 20])\n",
    "\n",
    "ax.legend() \n",
    "ax.set_xlabel(f\"$\\lambda$\")"
   ]
  },
  {
   "cell_type": "code",
   "execution_count": 65,
   "metadata": {},
   "outputs": [],
   "source": [
    "################################################################################################################\n",
    "# Convert to units of erg/s/cm2/A\n",
    "D_A_Mpc, D_L_Mpc = get_dist(z, H0=70.0, WM=0.3)\n",
    "D_L_cm = D_L_Mpc * 1e6 * 3.086e18\n",
    "spec_wifes_flambda = spec_wifes * 1 / (4 * np.pi * D_L_cm**2)\n"
   ]
  },
  {
   "cell_type": "code",
   "execution_count": 67,
   "metadata": {
    "scrolled": false
   },
   "outputs": [
    {
     "data": {
      "application/vnd.jupyter.widget-view+json": {
       "model_id": "0fe2d8c8bcb6477e909afff41fdb33df",
       "version_major": 2,
       "version_minor": 0
      },
      "text/plain": [
       "Canvas(toolbar=Toolbar(toolitems=[('Home', 'Reset original view', 'home', 'home'), ('Back', 'Back to previous …"
      ]
     },
     "metadata": {},
     "output_type": "display_data"
    },
    {
     "data": {
      "application/vnd.jupyter.widget-view+json": {
       "model_id": "6d3828ebbadc49b8a2af16b4c05600f8",
       "version_major": 2,
       "version_minor": 0
      },
      "text/plain": [
       "Canvas(toolbar=Toolbar(toolitems=[('Home', 'Reset original view', 'home', 'home'), ('Back', 'Back to previous …"
      ]
     },
     "metadata": {},
     "output_type": "display_data"
    },
    {
     "data": {
      "text/plain": [
       "Text(0.5, 0, '$\\\\lambda$')"
      ]
     },
     "execution_count": 67,
     "metadata": {},
     "output_type": "execute_result"
    }
   ],
   "source": [
    "################################################################################################################\n",
    "# 9. Add noise. \n",
    "spec_wifes_flambda_err = spec_wifes_flambda / SNR\n",
    "noise = np.random.normal(loc=0, scale=spec_wifes_flambda_err)\n",
    "spec_wifes_noisy = spec_wifes_flambda + noise\n",
    "\n",
    "fig, ax = plt.subplots(nrows=1, ncols=1, figsize=(fig_w, fig_h))\n",
    "ax.step(lambda_vals_wifes_A, noise, color=\"black\", label=\"Noise\", where=\"mid\")\n",
    "\n",
    "\n",
    "# Plot to check\n",
    "fig, ax = plt.subplots(nrows=1, ncols=1, figsize=(fig_w, fig_h))\n",
    "ax.step(lambda_vals_wifes_A, spec_wifes_flambda, color=\"black\", label=\"Before noise\", where=\"mid\")\n",
    "ax.step(lambda_vals_wifes_A, spec_wifes_noisy + 2e-17, color=\"red\", label=\"After noise\", where=\"mid\")\n",
    "\n",
    "ax.legend() \n",
    "ax.set_xlabel(f\"$\\lambda$\")"
   ]
  },
  {
   "cell_type": "code",
   "execution_count": 78,
   "metadata": {},
   "outputs": [
    {
     "name": "stdout",
     "output_type": "stream",
     "text": [
      "Median SNR = 25.0036\n",
      "Emission lines included in gas templates:\n",
      "['Balmer' '[OII]3726' '[OII]3729' '[OIII]5007_d' '[OI]6300_d'\n",
      " '[NII]6583_d' '[NeIII]3869' 'HeI3889']\n",
      "Best Fit:       Vel     sigma\n",
      " comp. 0:     14640       336\n",
      " comp. 1:     14586        65\n",
      "chi2/DOF: 1.073\n",
      "method = capfit ; Jac calls: 5 ; Func calls: 52 ; Status: 2\n",
      "Gas Reddening E(B-V): 0.000\n",
      "Nonzero Templates:  13  /  224\n",
      "+++++++++++++++++++++++++++++++++++++++++++++++++++++++++\n",
      "gas_component   name       flux       err      V     sig\n",
      "+++++++++++++++++++++++++++++++++++++++++++++++++++++++++\n",
      "Comp: 1  Balmer (component 1)    0.09705      0.12   14586    65\n",
      "Comp: 1  [OII]3726 (component 1)     0.1098     0.052   14586    65\n",
      "Comp: 1  [OII]3729 (component 1)          0     0.052   14586    65\n",
      "Comp: 1  [OIII]5007_d (component 1)      0.228       0.1   14586    65\n",
      "Comp: 1  [OI]6300_d (component 1)          0     0.091   14586    65\n",
      "Comp: 1  [NII]6583_d (component 1)          0     0.088   14586    65\n",
      "Comp: 1  [NeIII]3869 (component 1)   0.007821     0.056   14586    65\n",
      "Comp: 1  HeI3889 (component 1)     0.1338     0.054   14586    65\n",
      "---------------------------------------------------------\n",
      "----------------------------------------------------\n",
      "Desired Delta Chi^2: 95.08\n",
      "Current Delta Chi^2: 331\n",
      "----------------------------------------------------\n",
      "Elapsed time in PPXF: 11.86 s\n"
     ]
    },
    {
     "data": {
      "application/vnd.jupyter.widget-view+json": {
       "model_id": "12a56567cd364118becd923f37798a2b",
       "version_major": 2,
       "version_minor": 0
      },
      "text/plain": [
       "Canvas(toolbar=Toolbar(toolitems=[('Home', 'Reset original view', 'home', 'home'), ('Back', 'Back to previous …"
      ]
     },
     "metadata": {},
     "output_type": "display_data"
    },
    {
     "ename": "NameError",
     "evalue": "name 'weights_mass_weighted_metallicity_summed' is not defined",
     "output_type": "error",
     "traceback": [
      "\u001b[0;31m---------------------------------------------------------------------------\u001b[0m",
      "\u001b[0;31mNameError\u001b[0m                                 Traceback (most recent call last)",
      "\u001b[0;32m<ipython-input-78-c4c0956b8564>\u001b[0m in \u001b[0;36m<module>\u001b[0;34m\u001b[0m\n\u001b[1;32m      6\u001b[0m run_ppxf(spec=spec_wifes_noisy, spec_err=spec_wifes_flambda_err, lambda_vals_A=lambda_vals_wifes_A,\n\u001b[1;32m      7\u001b[0m          \u001b[0mFWHM_inst_A\u001b[0m\u001b[0;34m=\u001b[0m\u001b[0mFWHM_inst_A\u001b[0m\u001b[0;34m,\u001b[0m \u001b[0mz\u001b[0m\u001b[0;34m=\u001b[0m\u001b[0mz\u001b[0m\u001b[0;34m,\u001b[0m \u001b[0mngascomponents\u001b[0m\u001b[0;34m=\u001b[0m\u001b[0;36m1\u001b[0m\u001b[0;34m,\u001b[0m \u001b[0misochrones\u001b[0m\u001b[0;34m=\u001b[0m\u001b[0;34m\"Padova\"\u001b[0m\u001b[0;34m,\u001b[0m\u001b[0;34m\u001b[0m\u001b[0;34m\u001b[0m\u001b[0m\n\u001b[0;32m----> 8\u001b[0;31m          tie_balmer=True)\n\u001b[0m",
      "\u001b[0;32m~/python/Modules/ppxftests/run_ppxf.py\u001b[0m in \u001b[0;36mrun_ppxf\u001b[0;34m(spec, spec_err, lambda_vals_A, FWHM_inst_A, z, ngascomponents, isochrones, tie_balmer, bad_pixel_ranges_A, auto_adjust_regul)\u001b[0m\n\u001b[1;32m    473\u001b[0m \u001b[0;34m\u001b[0m\u001b[0m\n\u001b[1;32m    474\u001b[0m     \u001b[0mplt\u001b[0m\u001b[0;34m.\u001b[0m\u001b[0mclose\u001b[0m\u001b[0;34m(\u001b[0m\u001b[0;34m\"all\"\u001b[0m\u001b[0;34m)\u001b[0m\u001b[0;34m\u001b[0m\u001b[0;34m\u001b[0m\u001b[0m\n\u001b[0;32m--> 475\u001b[0;31m     \u001b[0mplot_wrapper\u001b[0m\u001b[0;34m(\u001b[0m\u001b[0mpp_age_met\u001b[0m\u001b[0;34m)\u001b[0m\u001b[0;34m\u001b[0m\u001b[0;34m\u001b[0m\u001b[0m\n\u001b[0m\u001b[1;32m    476\u001b[0m \u001b[0;34m\u001b[0m\u001b[0m\n\u001b[1;32m    477\u001b[0m     \u001b[0;32mif\u001b[0m \u001b[0;32mnot\u001b[0m \u001b[0mauto_adjust_regul\u001b[0m\u001b[0;34m:\u001b[0m\u001b[0;34m\u001b[0m\u001b[0;34m\u001b[0m\u001b[0m\n",
      "\u001b[0;32m~/python/Modules/ppxftests/run_ppxf.py\u001b[0m in \u001b[0;36mplot_wrapper\u001b[0;34m(pp)\u001b[0m\n\u001b[1;32m    155\u001b[0m \u001b[0;34m\u001b[0m\u001b[0m\n\u001b[1;32m    156\u001b[0m     \u001b[0;31m# Star formation history\u001b[0m\u001b[0;34m\u001b[0m\u001b[0;34m\u001b[0m\u001b[0;34m\u001b[0m\u001b[0m\n\u001b[0;32m--> 157\u001b[0;31m     \u001b[0;32mif\u001b[0m \u001b[0mnp\u001b[0m\u001b[0;34m.\u001b[0m\u001b[0many\u001b[0m\u001b[0;34m(\u001b[0m\u001b[0mweights_mass_weighted_metallicity_summed\u001b[0m \u001b[0;34m>\u001b[0m \u001b[0;36m0\u001b[0m\u001b[0;34m)\u001b[0m\u001b[0;34m:\u001b[0m\u001b[0;34m\u001b[0m\u001b[0;34m\u001b[0m\u001b[0m\n\u001b[0m\u001b[1;32m    158\u001b[0m         \u001b[0max_1dhist\u001b[0m\u001b[0;34m.\u001b[0m\u001b[0msemilogy\u001b[0m\u001b[0;34m(\u001b[0m\u001b[0mweights_mass_weighted_metallicity_summed\u001b[0m\u001b[0;34m)\u001b[0m\u001b[0;34m\u001b[0m\u001b[0;34m\u001b[0m\u001b[0m\n\u001b[1;32m    159\u001b[0m     \u001b[0max_1dhist\u001b[0m\u001b[0;34m.\u001b[0m\u001b[0mset_ylabel\u001b[0m\u001b[0;34m(\u001b[0m\u001b[0;34mr\"Mass ($\\rm M_\\odot$)\"\u001b[0m\u001b[0;34m)\u001b[0m\u001b[0;34m\u001b[0m\u001b[0;34m\u001b[0m\u001b[0m\n",
      "\u001b[0;31mNameError\u001b[0m: name 'weights_mass_weighted_metallicity_summed' is not defined"
     ]
    }
   ],
   "source": [
    "################################################################################################################\n",
    "# Run ppxf\n",
    "################################################################################################################\n",
    "from ppxftests.run_ppxf import run_ppxf\n",
    "\n",
    "run_ppxf(spec=spec_wifes_noisy, spec_err=spec_wifes_flambda_err, lambda_vals_A=lambda_vals_wifes_A,\n",
    "         FWHM_inst_A=FWHM_inst_A, z=z, ngascomponents=1, isochrones=\"Padova\",\n",
    "         tie_balmer=True)"
   ]
  },
  {
   "cell_type": "code",
   "execution_count": null,
   "metadata": {},
   "outputs": [],
   "source": []
  },
  {
   "cell_type": "code",
   "execution_count": null,
   "metadata": {},
   "outputs": [],
   "source": []
  }
 ],
 "metadata": {
  "kernelspec": {
   "display_name": "Python 3",
   "language": "python",
   "name": "python3"
  },
  "language_info": {
   "codemirror_mode": {
    "name": "ipython",
    "version": 3
   },
   "file_extension": ".py",
   "mimetype": "text/x-python",
   "name": "python",
   "nbconvert_exporter": "python",
   "pygments_lexer": "ipython3",
   "version": "3.7.4"
  }
 },
 "nbformat": 4,
 "nbformat_minor": 2
}
