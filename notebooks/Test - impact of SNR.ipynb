{
 "cells": [
  {
   "cell_type": "markdown",
   "metadata": {},
   "source": [
    "# Test: the impact of SNR\n",
    "---\n",
    "What effect does the SNR have upon the recovery of the mass-weighted age of the stellar population? In this notebook, we will run our ppxf pipline on a series of spectra varying in S/N ratio. "
   ]
  },
  {
   "cell_type": "code",
   "execution_count": 2,
   "metadata": {},
   "outputs": [],
   "source": [
    "%matplotlib widget"
   ]
  },
  {
   "cell_type": "code",
   "execution_count": 3,
   "metadata": {},
   "outputs": [
    {
     "data": {
      "text/html": [
       "<style>.container { width:75% !important; }</style>"
      ],
      "text/plain": [
       "<IPython.core.display.HTML object>"
      ]
     },
     "metadata": {},
     "output_type": "display_data"
    },
    {
     "data": {
      "text/html": [
       "<style>.output_result { max-width:75% !important; }</style>"
      ],
      "text/plain": [
       "<IPython.core.display.HTML object>"
      ]
     },
     "metadata": {},
     "output_type": "display_data"
    }
   ],
   "source": [
    "from IPython.core.display import display, HTML\n",
    "display(HTML(\"<style>.container { width:75% !important; }</style>\"))\n",
    "display(HTML(\"<style>.output_result { max-width:75% !important; }</style>\"))"
   ]
  },
  {
   "cell_type": "code",
   "execution_count": 4,
   "metadata": {},
   "outputs": [],
   "source": [
    "import numpy as np\n",
    "from numpy.random import RandomState\n",
    "from time import time \n",
    "from tqdm.notebook import tqdm\n",
    "import multiprocessing\n",
    "\n",
    "from astropy.io import fits\n",
    "\n",
    "from ppxftests.run_ppxf import run_ppxf\n",
    "from ppxftests.ssputils import load_ssp_templates\n",
    "from ppxftests.mockspec import create_mock_spectrum, calculate_mw_age\n",
    "from ppxftests.ppxf_plot import plot_sfh_mass_weighted\n",
    "\n",
    "import matplotlib.pyplot as plt\n",
    "plt.ion()\n",
    "plt.close(\"all\")\n",
    "\n",
    "from IPython.core.debugger import Tracer"
   ]
  },
  {
   "cell_type": "code",
   "execution_count": 4,
   "metadata": {},
   "outputs": [],
   "source": [
    "###########################################################################\n",
    "# Settings\n",
    "###########################################################################\n",
    "isochrones = \"Padova\"\n",
    "sigma_star_kms = 250\n",
    "z = 0.01"
   ]
  },
  {
   "cell_type": "code",
   "execution_count": null,
   "metadata": {},
   "outputs": [],
   "source": [
    "###########################################################################\n",
    "# Generate the input SFH\n",
    "###########################################################################\n",
    "# Load the stellar templates so we can get the age & metallicity dimensions\n",
    "_, _, metallicities, ages = load_ssp_templates(isochrones)\n",
    "N_ages = len(ages)\n",
    "N_metallicities = len(metallicities)\n",
    "\n",
    "# Simple Gaussian SFH\n",
    "xx, yy = np.meshgrid(range(N_ages), range(N_metallicities))\n",
    "x0 = 15\n",
    "y0 = 2.5\n",
    "sigma_x = 4\n",
    "sigma_y = 0.1\n",
    "sfh_young = np.exp(- (xx - x0)**2 / (2 * sigma_x**2)) *\\\n",
    "               np.exp(- (yy - y0)**2 / (2 * sigma_y**2))\n",
    "sfh_young /= np.nansum(sfh_young)\n",
    "sfh_mw_young = sfh_young * 1e8\n",
    "\n",
    "x0 = 60\n",
    "y0 = 4\n",
    "sigma_x = 5\n",
    "sigma_y = 0.5\n",
    "sfh_old = np.exp(- (xx - x0)**2 / (2 * sigma_x**2)) *\\\n",
    "             np.exp(- (yy - y0)**2 / (2 * sigma_y**2))\n",
    "sfh_old /= np.nansum(sfh_old)\n",
    "sfh_mw_old = sfh_old * 1e10\n",
    "\n",
    "# Add the young & old components\n",
    "sfh_mw_original = sfh_mw_old + sfh_mw_young\n",
    "\n",
    "# Instead of a Gaussian SFH, try with a \"delta function\" SFH (i.e., 1 old & 1 young template)\n",
    "sfh_mw_original = np.zeros((N_metallicities, N_ages))\n",
    "sfh_mw_original[2, 4] = 0.5e7\n",
    "sfh_mw_original[1, 4] = 1.5e7\n",
    "sfh_mw_original[0, 20] = 1e8\n",
    "sfh_mw_original[1, -3] = 1e10\n",
    "\n",
    "sfh_mw_1D_original = np.nansum(sfh_mw_original, axis=0)\n",
    "\n",
    "# Compute the mean mass-weighted age below 1 Gyr\n",
    "log_age_mw_original, log_age_mw_original_idx = calculate_mw_age(sfh_mw_original, age_thresh=1e9, ages=ages)\n"
   ]
  },
  {
   "cell_type": "code",
   "execution_count": 11,
   "metadata": {},
   "outputs": [
    {
     "data": {
      "application/vnd.jupyter.widget-view+json": {
       "model_id": "ad924e05c7c747b1b317073d79866a61",
       "version_major": 2,
       "version_minor": 0
      },
      "text/plain": [
       "Canvas(toolbar=Toolbar(toolitems=[('Home', 'Reset original view', 'home', 'home'), ('Back', 'Back to previous …"
      ]
     },
     "metadata": {},
     "output_type": "display_data"
    },
    {
     "data": {
      "application/vnd.jupyter.widget-view+json": {
       "model_id": "5b9e70ef593748d6ad32772ff43a3d7a",
       "version_major": 2,
       "version_minor": 0
      },
      "text/plain": [
       "Canvas(toolbar=Toolbar(toolitems=[('Home', 'Reset original view', 'home', 'home'), ('Back', 'Back to previous …"
      ]
     },
     "metadata": {},
     "output_type": "display_data"
    },
    {
     "name": "stderr",
     "output_type": "stream",
     "text": [
      "/home/u5708159/python/Modules/ppxftests/mockspec.py:366: RuntimeWarning: More than 20 figures have been opened. Figures created through the pyplot interface (`matplotlib.pyplot.figure`) are retained until explicitly closed and may consume too much memory. (To control this warning, see the rcParam `figure.max_open_warning`).\n",
      "  fig, ax = plt.subplots(nrows=1, ncols=1, figsize=(fig_w, fig_h))\n"
     ]
    },
    {
     "data": {
      "application/vnd.jupyter.widget-view+json": {
       "model_id": "b86e60d1bcd14973a697d9499e2377d4",
       "version_major": 2,
       "version_minor": 0
      },
      "text/plain": [
       "Canvas(toolbar=Toolbar(toolitems=[('Home', 'Reset original view', 'home', 'home'), ('Back', 'Back to previous …"
      ]
     },
     "metadata": {},
     "output_type": "display_data"
    },
    {
     "name": "stderr",
     "output_type": "stream",
     "text": [
      "No handles with labels found to put in legend.\n",
      "/home/u5708159/python/Modules/ppxftests/ppxf_plot.py:30: RuntimeWarning: More than 20 figures have been opened. Figures created through the pyplot interface (`matplotlib.pyplot.figure`) are retained until explicitly closed and may consume too much memory. (To control this warning, see the rcParam `figure.max_open_warning`).\n",
      "  fig, ax = plt.subplots(nrows=1, ncols=1, figsize=(10, 3.5))\n"
     ]
    },
    {
     "data": {
      "application/vnd.jupyter.widget-view+json": {
       "model_id": "9ac16847c3f94212b67df63a40c7759a",
       "version_major": 2,
       "version_minor": 0
      },
      "text/plain": [
       "Canvas(toolbar=Toolbar(toolitems=[('Home', 'Reset original view', 'home', 'home'), ('Back', 'Back to previous …"
      ]
     },
     "metadata": {},
     "output_type": "display_data"
    }
   ],
   "source": [
    "###########################################################################\n",
    "# Check the spectrum and SFH\n",
    "###########################################################################\n",
    "spec_original, spec_original_err, lambda_vals_A = create_mock_spectrum(\n",
    "    sfh_mass_weighted=sfh_mw_original,\n",
    "    isochrones=isochrones, z=z, SNR=100, sigma_star_kms=sigma_star_kms,\n",
    "    plotit=True)  \n"
   ]
  },
  {
   "cell_type": "markdown",
   "metadata": {},
   "source": [
    "## S/N TESTING\n",
    "---\n",
    "In each iteration, run ppxf on a spectrum with a fixed input SFH but varying S/N."
   ]
  },
  {
   "cell_type": "code",
   "execution_count": 12,
   "metadata": {
    "scrolled": false
   },
   "outputs": [
    {
     "name": "stdout",
     "output_type": "stream",
     "text": [
      "----------------------------------------------------\n",
      "Iteration 0: Elapsed time in PPXF (single thread): 2.72 s\n",
      "----------------------------------------------------\n",
      "Iteration 1: Scaling noise by 1.0050...\n",
      "Iteration 1: Running ppxf on 20 threads...\n",
      "Iteration 1: Elapsed time in PPXF (multithreaded): 46.17 s\n",
      "Iteration 1: optimal regul = 10000.00; Δm = 1.4072e+10; Δregul = 500.00 (Δregul_min = 1.00); Δχ (goal) - Δχ = 79.016\n",
      "----------------------------------------------------\n",
      "Iteration 2: Re-running ppxf on 20 threads (iteration 2)...\n",
      "Iteration 2: Elapsed time in PPXF (multithreaded): 49.60 s\n",
      "Iteration 2: optimal regul = 20000.00; Δm = 2.63388e+08; Δregul = 500.00 (Δregul_min = 1.00); Δχ (goal) - Δχ = 77.280\n",
      "----------------------------------------------------\n",
      "Iteration 3: Re-running ppxf on 20 threads (iteration 3)...\n",
      "Iteration 3: Elapsed time in PPXF (multithreaded): 49.29 s\n",
      "Iteration 3: optimal regul = 30000.00; Δm = 2.31653e+08; Δregul = 500.00 (Δregul_min = 1.00); Δχ (goal) - Δχ = 75.481\n",
      "----------------------------------------------------\n",
      "Iteration 4: Re-running ppxf on 20 threads (iteration 4)...\n",
      "Iteration 4: Elapsed time in PPXF (multithreaded): 48.20 s\n",
      "Iteration 4: optimal regul = 40000.00; Δm = 2.18654e+08; Δregul = 500.00 (Δregul_min = 1.00); Δχ (goal) - Δχ = 73.259\n",
      "----------------------------------------------------\n",
      "Iteration 5: Re-running ppxf on 20 threads (iteration 5)...\n",
      "Iteration 5: Elapsed time in PPXF (multithreaded): 48.68 s\n",
      "Iteration 5: optimal regul = 50000.00; Δm = 2.89349e+08; Δregul = 500.00 (Δregul_min = 1.00); Δχ (goal) - Δχ = 70.521\n",
      "----------------------------------------------------\n",
      "STOPPING: Optimal regul value is >= 50000.0; using 50000.00 to produce the best fit\n",
      "Total time in run_ppxf: 246.02 seconds\n",
      "Running ppxf on 20 threads...\n"
     ]
    },
    {
     "data": {
      "application/vnd.jupyter.widget-view+json": {
       "model_id": "cbd4e27cdce746b99d0633352b7f5e7d",
       "version_major": 2,
       "version_minor": 0
      },
      "text/plain": [
       "HBox(children=(IntProgress(value=0, max=20), HTML(value='')))"
      ]
     },
     "metadata": {},
     "output_type": "display_data"
    },
    {
     "name": "stdout",
     "output_type": "stream",
     "text": [
      "\n",
      "Elapsed time in ppxf: 31.05 s\n",
      "------------------------------------------------------------\n",
      "SNR = 5:\n",
      "MC method:    mean mass-weighted age (log yr) = 7.73 ± 0.23\n",
      "Regul method: mean mass-weighted age (log yr) = 8.27\n",
      "Input value:  mean mass-weighted age (log yr) = 8.52)\n",
      "------------------------------------------------------------\n"
     ]
    },
    {
     "name": "stderr",
     "output_type": "stream",
     "text": [
      "/pkg/linux/anaconda-20191122/anaconda3/lib/python3.7/site-packages/ipykernel_launcher.py:119: RuntimeWarning: More than 20 figures have been opened. Figures created through the pyplot interface (`matplotlib.pyplot.figure`) are retained until explicitly closed and may consume too much memory. (To control this warning, see the rcParam `figure.max_open_warning`).\n"
     ]
    },
    {
     "data": {
      "application/vnd.jupyter.widget-view+json": {
       "model_id": "3ba365f7a17542a39adc25b8c65b2841",
       "version_major": 2,
       "version_minor": 0
      },
      "text/plain": [
       "Canvas(toolbar=Toolbar(toolitems=[('Home', 'Reset original view', 'home', 'home'), ('Back', 'Back to previous …"
      ]
     },
     "metadata": {},
     "output_type": "display_data"
    },
    {
     "data": {
      "application/vnd.jupyter.widget-view+json": {
       "model_id": "d01af299e7c74070b826631629184c25",
       "version_major": 2,
       "version_minor": 0
      },
      "text/plain": [
       "Canvas(toolbar=Toolbar(toolitems=[('Home', 'Reset original view', 'home', 'home'), ('Back', 'Back to previous …"
      ]
     },
     "metadata": {},
     "output_type": "display_data"
    },
    {
     "name": "stdout",
     "output_type": "stream",
     "text": [
      "----------------------------------------------------\n",
      "Iteration 0: Elapsed time in PPXF (single thread): 3.75 s\n",
      "----------------------------------------------------\n",
      "Iteration 1: Scaling noise by 1.0032...\n",
      "Iteration 1: Running ppxf on 20 threads...\n",
      "Iteration 1: Elapsed time in PPXF (multithreaded): 47.65 s\n",
      "Iteration 1: optimal regul = 10000.00; Δm = 1.25458e+10; Δregul = 500.00 (Δregul_min = 1.00); Δχ (goal) - Δχ = 62.444\n",
      "----------------------------------------------------\n",
      "Iteration 2: Re-running ppxf on 20 threads (iteration 2)...\n",
      "Iteration 2: Elapsed time in PPXF (multithreaded): 52.81 s\n",
      "Iteration 2: optimal regul = 20000.00; Δm = 1.15032e+08; Δregul = 500.00 (Δregul_min = 1.00); Δχ (goal) - Δχ = 60.860\n",
      "----------------------------------------------------\n",
      "Iteration 3: Re-running ppxf on 20 threads (iteration 3)...\n",
      "Iteration 3: Elapsed time in PPXF (multithreaded): 49.93 s\n",
      "Iteration 3: optimal regul = 30000.00; Δm = 2.77209e+08; Δregul = 500.00 (Δregul_min = 1.00); Δχ (goal) - Δχ = 58.715\n",
      "----------------------------------------------------\n",
      "Iteration 4: Re-running ppxf on 20 threads (iteration 4)...\n",
      "Iteration 4: Elapsed time in PPXF (multithreaded): 50.18 s\n",
      "Iteration 4: optimal regul = 40000.00; Δm = 1.78216e+08; Δregul = 500.00 (Δregul_min = 1.00); Δχ (goal) - Δχ = 56.408\n",
      "----------------------------------------------------\n",
      "Iteration 5: Re-running ppxf on 20 threads (iteration 5)...\n",
      "Iteration 5: Elapsed time in PPXF (multithreaded): 50.86 s\n",
      "Iteration 5: optimal regul = 50000.00; Δm = 2.62133e+08; Δregul = 500.00 (Δregul_min = 1.00); Δχ (goal) - Δχ = 53.063\n",
      "----------------------------------------------------\n",
      "STOPPING: Optimal regul value is >= 50000.0; using 50000.00 to produce the best fit\n",
      "Total time in run_ppxf: 256.60 seconds\n",
      "Running ppxf on 20 threads...\n"
     ]
    },
    {
     "data": {
      "application/vnd.jupyter.widget-view+json": {
       "model_id": "6376fdf99fa84eab9be569c4ee7fd322",
       "version_major": 2,
       "version_minor": 0
      },
      "text/plain": [
       "HBox(children=(IntProgress(value=0, max=20), HTML(value='')))"
      ]
     },
     "metadata": {},
     "output_type": "display_data"
    },
    {
     "name": "stdout",
     "output_type": "stream",
     "text": [
      "\n",
      "Elapsed time in ppxf: 36.08 s\n",
      "------------------------------------------------------------\n",
      "SNR = 10:\n",
      "MC method:    mean mass-weighted age (log yr) = 7.77 ± 0.54\n",
      "Regul method: mean mass-weighted age (log yr) = 8.07\n",
      "Input value:  mean mass-weighted age (log yr) = 8.52)\n",
      "------------------------------------------------------------\n"
     ]
    },
    {
     "data": {
      "application/vnd.jupyter.widget-view+json": {
       "model_id": "f001ecbe8f404e948e7bafb947329373",
       "version_major": 2,
       "version_minor": 0
      },
      "text/plain": [
       "Canvas(toolbar=Toolbar(toolitems=[('Home', 'Reset original view', 'home', 'home'), ('Back', 'Back to previous …"
      ]
     },
     "metadata": {},
     "output_type": "display_data"
    },
    {
     "data": {
      "application/vnd.jupyter.widget-view+json": {
       "model_id": "aef36057b2a3462393af20bda8c4dbbc",
       "version_major": 2,
       "version_minor": 0
      },
      "text/plain": [
       "Canvas(toolbar=Toolbar(toolitems=[('Home', 'Reset original view', 'home', 'home'), ('Back', 'Back to previous …"
      ]
     },
     "metadata": {},
     "output_type": "display_data"
    },
    {
     "name": "stdout",
     "output_type": "stream",
     "text": [
      "----------------------------------------------------\n",
      "Iteration 0: Elapsed time in PPXF (single thread): 3.15 s\n",
      "----------------------------------------------------\n",
      "Iteration 1: Scaling noise by 1.0222...\n",
      "Iteration 1: Running ppxf on 20 threads...\n",
      "Iteration 1: Elapsed time in PPXF (multithreaded): 50.65 s\n",
      "Iteration 1: optimal regul = 3500.00; Δm = 1.4089e+10; Δregul = 500.00 (Δregul_min = 1.00); Δχ (goal) - Δχ = 1.481\n",
      "----------------------------------------------------\n",
      "STOPPING: Convergence criterion reached; Δχ (goal) - Δχ = 1.4806574807269897; using 3500.00 to produce the best fit\n",
      "Total time in run_ppxf: 55.42 seconds\n",
      "Running ppxf on 20 threads...\n"
     ]
    },
    {
     "data": {
      "application/vnd.jupyter.widget-view+json": {
       "model_id": "1fcd06db7e834adea6c0f85d519a9052",
       "version_major": 2,
       "version_minor": 0
      },
      "text/plain": [
       "HBox(children=(IntProgress(value=0, max=20), HTML(value='')))"
      ]
     },
     "metadata": {},
     "output_type": "display_data"
    },
    {
     "name": "stdout",
     "output_type": "stream",
     "text": [
      "\n",
      "Elapsed time in ppxf: 33.70 s\n",
      "------------------------------------------------------------\n",
      "SNR = 20:\n",
      "MC method:    mean mass-weighted age (log yr) = 8.32 ± 0.48\n",
      "Regul method: mean mass-weighted age (log yr) = 7.99\n",
      "Input value:  mean mass-weighted age (log yr) = 8.52)\n",
      "------------------------------------------------------------\n"
     ]
    },
    {
     "data": {
      "application/vnd.jupyter.widget-view+json": {
       "model_id": "06ddd80191e448c1be3bb13df4457a4a",
       "version_major": 2,
       "version_minor": 0
      },
      "text/plain": [
       "Canvas(toolbar=Toolbar(toolitems=[('Home', 'Reset original view', 'home', 'home'), ('Back', 'Back to previous …"
      ]
     },
     "metadata": {},
     "output_type": "display_data"
    },
    {
     "data": {
      "application/vnd.jupyter.widget-view+json": {
       "model_id": "c389304c337a422c9a99dcc9a77abfca",
       "version_major": 2,
       "version_minor": 0
      },
      "text/plain": [
       "Canvas(toolbar=Toolbar(toolitems=[('Home', 'Reset original view', 'home', 'home'), ('Back', 'Back to previous …"
      ]
     },
     "metadata": {},
     "output_type": "display_data"
    },
    {
     "name": "stdout",
     "output_type": "stream",
     "text": [
      "----------------------------------------------------\n",
      "Iteration 0: Elapsed time in PPXF (single thread): 4.71 s\n",
      "----------------------------------------------------\n",
      "Iteration 1: Scaling noise by 1.1192...\n",
      "Iteration 1: Running ppxf on 20 threads...\n",
      "Iteration 1: Elapsed time in PPXF (multithreaded): 64.08 s\n",
      "Iteration 1: optimal regul = 500.00; Δm = 1.26748e+10; Δregul = 500.00 (Δregul_min = 1.00); Δχ (goal) - Δχ = 41.430\n",
      "----------------------------------------------------\n",
      "STOPPING: Convergence criterion reached; Δχ (goal) - Δχ = 41.42981753223387; using 500.00 to produce the best fit\n",
      "Total time in run_ppxf: 70.16 seconds\n",
      "Running ppxf on 20 threads...\n"
     ]
    },
    {
     "data": {
      "application/vnd.jupyter.widget-view+json": {
       "model_id": "172de8095b0a4fc2ad6d355cab560e9e",
       "version_major": 2,
       "version_minor": 0
      },
      "text/plain": [
       "HBox(children=(IntProgress(value=0, max=20), HTML(value='')))"
      ]
     },
     "metadata": {},
     "output_type": "display_data"
    },
    {
     "name": "stdout",
     "output_type": "stream",
     "text": [
      "\n",
      "Elapsed time in ppxf: 40.88 s\n",
      "------------------------------------------------------------\n",
      "SNR = 50:\n",
      "MC method:    mean mass-weighted age (log yr) = 7.48 ± 0.04\n",
      "Regul method: mean mass-weighted age (log yr) = 7.59\n",
      "Input value:  mean mass-weighted age (log yr) = 8.52)\n",
      "------------------------------------------------------------\n"
     ]
    },
    {
     "data": {
      "application/vnd.jupyter.widget-view+json": {
       "model_id": "56459a3fa51249b195ead7a38a989e0c",
       "version_major": 2,
       "version_minor": 0
      },
      "text/plain": [
       "Canvas(toolbar=Toolbar(toolitems=[('Home', 'Reset original view', 'home', 'home'), ('Back', 'Back to previous …"
      ]
     },
     "metadata": {},
     "output_type": "display_data"
    },
    {
     "data": {
      "application/vnd.jupyter.widget-view+json": {
       "model_id": "56676a0050da4bfe9368a173fd8128ab",
       "version_major": 2,
       "version_minor": 0
      },
      "text/plain": [
       "Canvas(toolbar=Toolbar(toolitems=[('Home', 'Reset original view', 'home', 'home'), ('Back', 'Back to previous …"
      ]
     },
     "metadata": {},
     "output_type": "display_data"
    },
    {
     "name": "stdout",
     "output_type": "stream",
     "text": [
      "----------------------------------------------------\n",
      "Iteration 0: Elapsed time in PPXF (single thread): 3.66 s\n",
      "----------------------------------------------------\n",
      "Iteration 1: Scaling noise by 1.3769...\n",
      "Iteration 1: Running ppxf on 20 threads...\n",
      "Iteration 1: Elapsed time in PPXF (multithreaded): 61.49 s\n",
      "Iteration 1: optimal regul = 0.00; Δm = 4.7238; Δregul = 500.00 (Δregul_min = 1.00); Δχ (goal) - Δχ = 95.079\n",
      "----------------------------------------------------\n",
      "Iteration 2: Re-running ppxf on 20 threads (iteration 2)...\n",
      "Iteration 2: Elapsed time in PPXF (multithreaded): 53.69 s\n",
      "Iteration 2: optimal regul = 100.00; Δm = 1.03448e+10; Δregul = 100.00 (Δregul_min = 1.00); Δχ (goal) - Δχ = 5.941\n",
      "----------------------------------------------------\n",
      "STOPPING: Convergence criterion reached; Δχ (goal) - Δχ = 5.940622678729653; using 100.00 to produce the best fit\n",
      "Total time in run_ppxf: 120.14 seconds\n",
      "Running ppxf on 20 threads...\n"
     ]
    },
    {
     "data": {
      "application/vnd.jupyter.widget-view+json": {
       "model_id": "0f66323eb4124d5cbc8496249db44a3e",
       "version_major": 2,
       "version_minor": 0
      },
      "text/plain": [
       "HBox(children=(IntProgress(value=0, max=20), HTML(value='')))"
      ]
     },
     "metadata": {},
     "output_type": "display_data"
    },
    {
     "name": "stdout",
     "output_type": "stream",
     "text": [
      "\n",
      "Elapsed time in ppxf: 43.14 s\n",
      "------------------------------------------------------------\n",
      "SNR = 100:\n",
      "MC method:    mean mass-weighted age (log yr) = 7.42 ± 0.02\n",
      "Regul method: mean mass-weighted age (log yr) = 7.54\n",
      "Input value:  mean mass-weighted age (log yr) = 8.52)\n",
      "------------------------------------------------------------\n"
     ]
    },
    {
     "data": {
      "application/vnd.jupyter.widget-view+json": {
       "model_id": "62d9ccec1c3a4066be134951d1e9452d",
       "version_major": 2,
       "version_minor": 0
      },
      "text/plain": [
       "Canvas(toolbar=Toolbar(toolitems=[('Home', 'Reset original view', 'home', 'home'), ('Back', 'Back to previous …"
      ]
     },
     "metadata": {},
     "output_type": "display_data"
    },
    {
     "data": {
      "application/vnd.jupyter.widget-view+json": {
       "model_id": "91c48206e7a6487d979b3156ec15cfd9",
       "version_major": 2,
       "version_minor": 0
      },
      "text/plain": [
       "Canvas(toolbar=Toolbar(toolitems=[('Home', 'Reset original view', 'home', 'home'), ('Back', 'Back to previous …"
      ]
     },
     "metadata": {},
     "output_type": "display_data"
    },
    {
     "name": "stdout",
     "output_type": "stream",
     "text": [
      "----------------------------------------------------\n",
      "Iteration 0: Elapsed time in PPXF (single thread): 3.57 s\n",
      "----------------------------------------------------\n",
      "Iteration 1: Scaling noise by 9.7001...\n",
      "Iteration 1: Running ppxf on 20 threads...\n",
      "Iteration 1: Elapsed time in PPXF (multithreaded): 68.49 s\n",
      "Iteration 1: optimal regul = 0.00; Δm = 0.265243; Δregul = 500.00 (Δregul_min = 1.00); Δχ (goal) - Δχ = 95.079\n",
      "----------------------------------------------------\n",
      "Iteration 2: Re-running ppxf on 20 threads (iteration 2)...\n",
      "Iteration 2: Elapsed time in PPXF (multithreaded): 51.61 s\n",
      "Iteration 2: optimal regul = 100.00; Δm = 1.20227e+10; Δregul = 100.00 (Δregul_min = 1.00); Δχ (goal) - Δχ = 67.673\n",
      "----------------------------------------------------\n",
      "Iteration 3: Re-running ppxf on 20 threads (iteration 3)...\n",
      "Iteration 3: Elapsed time in PPXF (multithreaded): 58.54 s\n",
      "Iteration 3: optimal regul = 40.00; Δm = 3.08479e+09; Δregul = 20.00 (Δregul_min = 1.00); Δχ (goal) - Δχ = 9.717\n",
      "----------------------------------------------------\n",
      "STOPPING: Convergence criterion reached; Δχ (goal) - Δχ = 9.71696252893274; using 40.00 to produce the best fit\n",
      "Total time in run_ppxf: 183.62 seconds\n",
      "Running ppxf on 20 threads...\n"
     ]
    },
    {
     "data": {
      "application/vnd.jupyter.widget-view+json": {
       "model_id": "454a0a223e4048428d6f5277ef2d765a",
       "version_major": 2,
       "version_minor": 0
      },
      "text/plain": [
       "HBox(children=(IntProgress(value=0, max=20), HTML(value='')))"
      ]
     },
     "metadata": {},
     "output_type": "display_data"
    },
    {
     "name": "stdout",
     "output_type": "stream",
     "text": [
      "\n",
      "Elapsed time in ppxf: 44.79 s\n",
      "------------------------------------------------------------\n",
      "SNR = 1000:\n",
      "MC method:    mean mass-weighted age (log yr) = 7.43 ± 0.00\n",
      "Regul method: mean mass-weighted age (log yr) = 7.51\n",
      "Input value:  mean mass-weighted age (log yr) = 8.52)\n",
      "------------------------------------------------------------\n"
     ]
    },
    {
     "data": {
      "application/vnd.jupyter.widget-view+json": {
       "model_id": "dfc42e3fdfc642e58e677e3f6e90c6e1",
       "version_major": 2,
       "version_minor": 0
      },
      "text/plain": [
       "Canvas(toolbar=Toolbar(toolitems=[('Home', 'Reset original view', 'home', 'home'), ('Back', 'Back to previous …"
      ]
     },
     "metadata": {},
     "output_type": "display_data"
    },
    {
     "data": {
      "application/vnd.jupyter.widget-view+json": {
       "model_id": "ee64df4839d643c8bfe133cec4144b8f",
       "version_major": 2,
       "version_minor": 0
      },
      "text/plain": [
       "Canvas(toolbar=Toolbar(toolitems=[('Home', 'Reset original view', 'home', 'home'), ('Back', 'Back to previous …"
      ]
     },
     "metadata": {},
     "output_type": "display_data"
    },
    {
     "name": "stdout",
     "output_type": "stream",
     "text": [
      "----------------------------------------------------\n",
      "Iteration 0: Elapsed time in PPXF (single thread): 3.35 s\n",
      "----------------------------------------------------\n",
      "Iteration 1: Scaling noise by 98.1077...\n",
      "Iteration 1: Running ppxf on 20 threads...\n",
      "Iteration 1: Elapsed time in PPXF (multithreaded): 68.01 s\n",
      "Iteration 1: optimal regul = 0.00; Δm = 0.417245; Δregul = 500.00 (Δregul_min = 1.00); Δχ (goal) - Δχ = 95.079\n",
      "----------------------------------------------------\n",
      "Iteration 2: Re-running ppxf on 20 threads (iteration 2)...\n",
      "Iteration 2: Elapsed time in PPXF (multithreaded): 56.19 s\n",
      "Iteration 2: optimal regul = 100.00; Δm = 1.24343e+10; Δregul = 100.00 (Δregul_min = 1.00); Δχ (goal) - Δχ = 65.865\n",
      "----------------------------------------------------\n",
      "Iteration 3: Re-running ppxf on 20 threads (iteration 3)...\n",
      "Iteration 3: Elapsed time in PPXF (multithreaded): 59.54 s\n",
      "Iteration 3: optimal regul = 40.00; Δm = 2.96689e+09; Δregul = 20.00 (Δregul_min = 1.00); Δχ (goal) - Δχ = 8.709\n",
      "----------------------------------------------------\n",
      "STOPPING: Convergence criterion reached; Δχ (goal) - Δχ = 8.708710152257538; using 40.00 to produce the best fit\n",
      "Total time in run_ppxf: 188.40 seconds\n",
      "Running ppxf on 20 threads...\n"
     ]
    },
    {
     "data": {
      "application/vnd.jupyter.widget-view+json": {
       "model_id": "f2ac80b93fbb41fcae87ad4b82edd6d9",
       "version_major": 2,
       "version_minor": 0
      },
      "text/plain": [
       "HBox(children=(IntProgress(value=0, max=20), HTML(value='')))"
      ]
     },
     "metadata": {},
     "output_type": "display_data"
    },
    {
     "name": "stdout",
     "output_type": "stream",
     "text": [
      "\n",
      "Elapsed time in ppxf: 37.42 s\n",
      "------------------------------------------------------------\n",
      "SNR = 10000:\n",
      "MC method:    mean mass-weighted age (log yr) = 7.43 ± 0.00\n",
      "Regul method: mean mass-weighted age (log yr) = 7.51\n",
      "Input value:  mean mass-weighted age (log yr) = 8.52)\n",
      "------------------------------------------------------------\n"
     ]
    },
    {
     "data": {
      "application/vnd.jupyter.widget-view+json": {
       "model_id": "3624fcab18f94c0d8677e07e12baecd0",
       "version_major": 2,
       "version_minor": 0
      },
      "text/plain": [
       "Canvas(toolbar=Toolbar(toolitems=[('Home', 'Reset original view', 'home', 'home'), ('Back', 'Back to previous …"
      ]
     },
     "metadata": {},
     "output_type": "display_data"
    },
    {
     "data": {
      "application/vnd.jupyter.widget-view+json": {
       "model_id": "8ca0e2de11d643fe8cf86a208f1d3ac0",
       "version_major": 2,
       "version_minor": 0
      },
      "text/plain": [
       "Canvas(toolbar=Toolbar(toolitems=[('Home', 'Reset original view', 'home', 'home'), ('Back', 'Back to previous …"
      ]
     },
     "metadata": {},
     "output_type": "display_data"
    }
   ],
   "source": [
    "SNR_vals = [5, 10, 20, 50, 100, 1000, 10000]\n",
    "log_age_mw_regul_list = []\n",
    "log_age_mw_MC_list = []\n",
    "log_age_mw_MC_err_list = []\n",
    "\n",
    "# For the MC simulation\n",
    "niters = 20\n",
    "nthreads = 20\n",
    "\n",
    "for SNR in tqdm(SNR_vals):\n",
    "    ###########################################################################\n",
    "    # Generate the spectrum\n",
    "    ###########################################################################\n",
    "    spec_original, spec_original_err, lambda_vals_A = create_mock_spectrum(\n",
    "        sfh_mass_weighted=sfh_mw_original,\n",
    "        isochrones=isochrones, z=z, SNR=SNR, sigma_star_kms=sigma_star_kms,\n",
    "        plotit=False)  \n",
    "\n",
    "    ###########################################################################\n",
    "    # Run ppxf WITH regularisation\n",
    "    ###########################################################################\n",
    "    t = time()\n",
    "    pp_regul = run_ppxf(spec=spec_original, spec_err=spec_original_err, lambda_vals_A=lambda_vals_A,\n",
    "                        z=z, ngascomponents=1,\n",
    "                        regularisation_method=\"auto\",\n",
    "                        isochrones=\"Padova\",\n",
    "                        fit_gas=False, tie_balmer=True,\n",
    "                        delta_regul_min=1, regul_max=5e4, delta_delta_chi2_min=50,\n",
    "                        plotit=False, savefigs=False, interactive_mode=False)\n",
    "    print(f\"Total time in run_ppxf: {time() - t:.2f} seconds\")\n",
    "\n",
    "    ###########################################################################\n",
    "    # Run ppxf WITHOUT regularisation, using a MC approach\n",
    "    ###########################################################################\n",
    "    # Helper function for multiprocessing\n",
    "    def ppxf_helper(seed):\n",
    "        # Add \"extra\" noise to the spectrum\n",
    "        rng = RandomState(seed)\n",
    "        noise = rng.normal(scale=spec_original_err)\n",
    "        spec = spec_original + noise\n",
    "\n",
    "        # This is to mitigate the \"edge effects\" of the convolution with the LSF\n",
    "        spec[0] = -9999\n",
    "        spec[-1] = -9999\n",
    "\n",
    "        # Run ppxf\n",
    "        pp = run_ppxf(spec=spec, spec_err=spec_original_err, lambda_vals_A=lambda_vals_A,\n",
    "                      z=z, ngascomponents=1,\n",
    "                      regularisation_method=\"none\", \n",
    "                      isochrones=\"Padova\",\n",
    "                      fit_gas=False, tie_balmer=True,\n",
    "                      plotit=False, savefigs=False, interactive_mode=False)\n",
    "        return pp\n",
    "\n",
    "    # Input arguments\n",
    "    args_list = list(np.random.randint(low=0, high=100 * niters, size=niters))\n",
    "\n",
    "    # Run in parallel\n",
    "    print(f\"Running ppxf on {nthreads} threads...\")\n",
    "    t = time()\n",
    "    with multiprocessing.Pool(nthreads) as pool:\n",
    "        pp_list = list(tqdm(pool.imap(ppxf_helper, args_list), total=niters))\n",
    "    print(f\"Elapsed time in ppxf: {time() - t:.2f} s\")\n",
    "\n",
    "    ###########################################################################\n",
    "    # Compute the mass-weighted age \n",
    "    ###########################################################################\n",
    "    log_age_mw_regul, log_age_mw_regul_idx = calculate_mw_age(pp_regul.weights_mass_weighted, age_thresh=1e9, ages=ages)\n",
    "\n",
    "    log_age_mw_list = []\n",
    "    for pp in pp_list:\n",
    "        log_age_mw, _ = calculate_mw_age(pp.weights_mass_weighted, age_thresh=1e9, ages=ages)\n",
    "        log_age_mw_list.append(log_age_mw)\n",
    "\n",
    "    log_age_mw_MC = np.nanmean(log_age_mw_list)\n",
    "    log_age_mw_MC_err = np.nanstd(log_age_mw_list)\n",
    "    # For plotting purposes, figure out the approx. index of these ages in the age array\n",
    "    log_age_mw_MC_idx = (log_age_mw_MC - np.log10(ages[0])) / (np.log10(ages[1]) - np.log10(ages[0]))\n",
    "    log_age_mw_MC_err_idx = log_age_mw_MC_err / (np.log10(ages[1]) - np.log10(ages[0]))\n",
    "\n",
    "    print(\"------------------------------------------------------------\")\n",
    "    print(f\"SNR = {SNR:d}:\")\n",
    "    print(f\"MC method:    mean mass-weighted age (log yr) = {np.nanmean(log_age_mw_list):.2f} ± {np.nanstd(log_age_mw_list):.2f}\")\n",
    "    print(f\"Regul method: mean mass-weighted age (log yr) = {log_age_mw_regul:.2f}\")\n",
    "    print(f\"Input value:  mean mass-weighted age (log yr) = {log_age_mw_original:.2f})\")\n",
    "    print(\"------------------------------------------------------------\")\n",
    "    \n",
    "    # Append to list\n",
    "    log_age_mw_regul_list.append(log_age_mw_regul)\n",
    "    log_age_mw_MC_list.append(log_age_mw_MC)\n",
    "    log_age_mw_MC_err_list.append(log_age_mw_MC_err)\n",
    "\n",
    "    ###########################################################################\n",
    "    # COMPARE THE INPUT AND OUTPUT\n",
    "    ###########################################################################\n",
    "    sfh_fit_mw_list = []\n",
    "    sfh_fit_lw_list = []\n",
    "    sfh_fit_mw_1D_list = []\n",
    "    sfh_fit_lw_1D_list = []\n",
    "\n",
    "    for pp in pp_list:\n",
    "        sfh_fit_mw_list.append(pp.weights_mass_weighted)\n",
    "        sfh_fit_lw_list.append(pp.weights_light_weighted)\n",
    "        sfh_fit_mw_1D_list.append(np.nansum(pp.weights_mass_weighted, axis=0))\n",
    "        sfh_fit_lw_1D_list.append(np.nansum(pp.weights_light_weighted, axis=0))\n",
    "\n",
    "    # Compute the mean SFH \n",
    "    sfh_fit_mw_mean = np.nansum(np.array(sfh_fit_mw_list), axis=0) / len(sfh_fit_mw_list)\n",
    "    sfh_fit_lw_mean = np.nansum(np.array(sfh_fit_lw_list), axis=0) / len(sfh_fit_lw_list)\n",
    "    sfh_fit_mw_1D_mean = np.nansum(sfh_fit_mw_mean, axis=0)\n",
    "    sfh_fit_lw_1D_mean = np.nansum(sfh_fit_lw_mean, axis=0)\n",
    "\n",
    "    sfh_fit_mw_1D_regul = np.nansum(pp_regul.weights_mass_weighted, axis=0)\n",
    "    sfh_fit_lw_1D_regul = np.nansum(pp_regul.weights_light_weighted, axis=0)\n",
    "\n",
    "    # Plot the mass-weighted weights, summed over the metallicity dimension\n",
    "    for log_scale in [True, False]:\n",
    "        # Create new figure \n",
    "        fig = plt.figure(figsize=(13, 4))\n",
    "        ax = fig.add_axes([0.1, 0.2, 0.7, 0.7])\n",
    "        ax.set_title(f\"Mass-weighted template weights (SNR = {SNR:d})\")\n",
    "\n",
    "        # Plot the SFHs from each ppxf run, plus the \"truth\" SFH\n",
    "        ax.fill_between(range(N_ages), sfh_mw_1D_original, step=\"mid\", alpha=1.0, color=\"cornflowerblue\", label=\"Input SFH\")\n",
    "        for jj in range(niters):\n",
    "            ax.step(range(N_ages), sfh_fit_mw_1D_list[jj], color=\"pink\", alpha=0.2, where=\"mid\", linewidth=0.25, label=\"ppxf fits (MC simluations)\" if jj == 0 else None)\n",
    "        ax.step(range(N_ages), sfh_fit_mw_1D_mean, color=\"red\", where=\"mid\", label=\"Mean ppxf fit (MC simulations)\")\n",
    "        ax.step(range(N_ages), sfh_fit_mw_1D_regul, color=\"lightgreen\", where=\"mid\", label=\"ppxf fit (regularised)\")\n",
    "\n",
    "        # Plot horizontal error bars indicating the mean mass-weighted age from (a) the MC simulations and (b) the regularised fit \n",
    "        y = 10**(0.9 * np.log10(ax.get_ylim()[1])) if log_scale else 0.9 * ax.get_ylim()[1]\n",
    "        ax.errorbar(x=log_age_mw_regul_idx, y=y, xerr=0, yerr=0, \n",
    "                    marker=\"D\", mfc=\"lightgreen\",mec=\"lightgreen\",  ecolor=\"lightgreen\",  \n",
    "                    label=\"MW age ($< 1$ Gyr) (regularised fit)\")\n",
    "        ax.errorbar(x=log_age_mw_MC_idx, y=y, xerr=log_age_mw_MC_err_idx, yerr=0, \n",
    "                    marker=\"D\", mfc=\"red\", mec=\"red\", ecolor=\"red\",\n",
    "                    label=\"MW age ($< 1$ Gyr) (MC simulations)\")\n",
    "        ax.errorbar(x=log_age_mw_original_idx, y=y, xerr=0, yerr=0, \n",
    "                    marker=\"D\", mfc=\"cornflowerblue\", mec=\"cornflowerblue\", ecolor=\"cornflowerblue\", \n",
    "                    label=\"MW age ($< 1$ Gyr) (input)\")\n",
    "\n",
    "        # Decorations \n",
    "        ax.set_xticks(range(N_ages))\n",
    "        ax.set_xlabel(\"Age (Myr)\")\n",
    "        ax.set_xticklabels([\"{:}\".format(age / 1e6) for age in ages], rotation=\"vertical\", fontsize=\"x-small\")\n",
    "        ax.autoscale(axis=\"x\", enable=True, tight=True)\n",
    "        ax.set_ylim([1, None])\n",
    "        ax.set_ylabel(r\"Template weight ($\\rm M_\\odot$)\")\n",
    "        ax.legend(fontsize=\"x-small\", loc=\"center left\", bbox_to_anchor=(1.01, 0.5))\n",
    "        ax.set_xlabel(\"Age (Myr)\")\n",
    "        ax.set_yscale(\"log\") if log_scale else None\n",
    "        "
   ]
  },
  {
   "cell_type": "code",
   "execution_count": null,
   "metadata": {},
   "outputs": [],
   "source": [
    "log_age_mw_original"
   ]
  },
  {
   "cell_type": "code",
   "execution_count": null,
   "metadata": {},
   "outputs": [],
   "source": [
    "###########################################################################\n",
    "# Plot: mass-weighted mean age as a function of SNR\n",
    "###########################################################################\n",
    "fig, ax = plt.subplots(nrows=1, ncols=1)\n",
    "ax.axhline(log_age_mw_original, color=\"black\", label=\"Input\")\n",
    "ax.errorbar(x=SNR_vals, y=log_age_mw_MC_list, yerr=log_age_mw_MC_err_list, marker=\"D\", label=\"MC simulations\")\n",
    "ax.errorbar(x=SNR_vals, y=log_age_mw_regul_list, marker=\"D\", label=\"Regularisation\")\n",
    "ax.set_xlabel(\"SNR\")\n",
    "ax.set_ylabel(\"Mass-weighted mean age (<1Gyr)\")\n",
    "ax.grid()\n"
   ]
  },
  {
   "cell_type": "code",
   "execution_count": null,
   "metadata": {},
   "outputs": [],
   "source": []
  }
 ],
 "metadata": {
  "kernelspec": {
   "display_name": "Python 3",
   "language": "python",
   "name": "python3"
  },
  "language_info": {
   "codemirror_mode": {
    "name": "ipython",
    "version": 3
   },
   "file_extension": ".py",
   "mimetype": "text/x-python",
   "name": "python",
   "nbconvert_exporter": "python",
   "pygments_lexer": "ipython3",
   "version": "3.7.4"
  }
 },
 "nbformat": 4,
 "nbformat_minor": 2
}
