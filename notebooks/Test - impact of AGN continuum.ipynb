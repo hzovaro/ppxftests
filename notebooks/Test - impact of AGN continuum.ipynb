{
 "cells": [
  {
   "cell_type": "markdown",
   "metadata": {},
   "source": [
    "# Test: the impact of an AGN power-law continuum\n",
    "---\n",
    "What effect do emission lines have upon the recovery of the mass-weighted age of the stellar population? In this notebook, we will look at the effects of \n",
    "* emission lines vs. no emission lines;\n",
    "* broad emission lines vs. narrow emission lines;\n",
    "* complex, multi-component emission lines vs. simple single-component emission lines\n",
    "upon the derived mass-weighted age."
   ]
  },
  {
   "cell_type": "code",
   "execution_count": 13,
   "metadata": {},
   "outputs": [],
   "source": [
    "%matplotlib widget"
   ]
  },
  {
   "cell_type": "code",
   "execution_count": 14,
   "metadata": {},
   "outputs": [
    {
     "data": {
      "text/html": [
       "<style>.container { width:75% !important; }</style>"
      ],
      "text/plain": [
       "<IPython.core.display.HTML object>"
      ]
     },
     "metadata": {},
     "output_type": "display_data"
    },
    {
     "data": {
      "text/html": [
       "<style>.output_result { max-width:75% !important; }</style>"
      ],
      "text/plain": [
       "<IPython.core.display.HTML object>"
      ]
     },
     "metadata": {},
     "output_type": "display_data"
    }
   ],
   "source": [
    "from IPython.core.display import display, HTML\n",
    "display(HTML(\"<style>.container { width:75% !important; }</style>\"))\n",
    "display(HTML(\"<style>.output_result { max-width:75% !important; }</style>\"))"
   ]
  },
  {
   "cell_type": "code",
   "execution_count": 15,
   "metadata": {},
   "outputs": [],
   "source": [
    "import numpy as np\n",
    "from numpy.random import RandomState\n",
    "from time import time \n",
    "from tqdm.notebook import tqdm\n",
    "import multiprocessing\n",
    "import pandas as pd\n",
    "\n",
    "from astropy.io import fits\n",
    "\n",
    "from ppxftests.run_ppxf import run_ppxf\n",
    "from ppxftests.ssputils import load_ssp_templates\n",
    "from ppxftests.mockspec import load_sfh, create_mock_spectrum, calculate_mw_age\n",
    "from ppxftests.ppxf_plot import plot_sfh_mass_weighted\n",
    "\n",
    "import matplotlib.pyplot as plt\n",
    "plt.ion()\n",
    "plt.close(\"all\")\n",
    "\n",
    "from IPython.core.debugger import Tracer"
   ]
  },
  {
   "cell_type": "markdown",
   "metadata": {},
   "source": [
    "### Defining the AGN continuum\n",
    "---\n",
    "In this work, we approximate the AGN continuum as a simple power law,\n",
    "\n",
    "$$F_{\\rm AGN}(\\lambda) = F_0 \\lambda^{-\\alpha_{\\lambda}}$$\n",
    "\n",
    "where the exponent $\\alpha_{\\lambda} = 2 -\\alpha_{\\nu}$ where $\\alpha_{\\nu}$ can range from 1.2 - 2.0 (Groves et al. 2004). \n",
    "\n",
    "To determine reasonable values for $F_0$, we use the tight correlation between the total H$\\beta$ luminosity, $L_{\\rm H\\beta}$, and $L_{\\rm NT}$, which is defined as the total luminosity of the AGN continuum between 3000 Å and 9500 Å (Neugebauer et al. 1979, Yee 1980), i.e.,\n",
    "\n",
    "$$L_{\\rm NT} = \\int^{9500\\,Å}_{3000\\,Å} F_{\\rm AGN}(\\lambda) d\\lambda \n",
    "= \\int^{9500\\,Å}_{3000\\,Å} F_0 \\lambda^{-\\alpha_{\\lambda}} d\\lambda \n",
    "= \\frac{F_0}{1 - \\alpha_\\lambda}\\left(9500^{1 - \\alpha_\\lambda} - 3000^{1 - \\alpha_\\lambda} \\right)$$\n",
    "\n",
    "where $F_{\\rm AGN}(\\lambda)$ is the AGN continuum. In a sample of AGN including quasars, broad & narrow-line radio galaxies and Seyfert 1 & 2 galaxies, Yee (1980) observed a tight correlation such that \n",
    "\n",
    "$$L_{\\rm NT} \\approx 80 L_{\\rm H\\beta}$$\n",
    "\n",
    "*Note: equation from [Peterson textbook. eqn. 5.53, p. 90](https://books.google.com.au/books?id=ok4EFlPMStwC&pg=PA90&lpg=PA90&dq=Lnt+agn+continuum&source=bl&ots=QfVvXob4vM&sig=ACfU3U0x69gKrkN-lALkIu0EROAUh1-1vw&hl=en&sa=X&ved=2ahUKEwjW_8fPvqv1AhWXTWwGHarhALcQ6AF6BAgXEAM#v=onepage&q=Lnt%20agn%20continuum&f=false).* \n",
    "Referring to table 2 of Dopita et al. (2015), $\\log_{10} L_{\\rm H\\beta} \\sim 39 - 42$ in the NLRs of S7 galaxies.\n",
    "We therefore use our adopted $L_{\\rm H\\beta}$ in the emission lines to constrain the strength of the AGN continuum in our mock spectra, so that \n",
    "\n",
    "$$ F_0 = \\frac{80 L_{\\rm H\\beta}({1 - \\alpha_\\lambda})}{\\left(9500^{1 - \\alpha_\\lambda} - 3000^{1 - \\alpha_\\lambda} \\right)} $$\n",
    "\n"
   ]
  },
  {
   "cell_type": "code",
   "execution_count": 16,
   "metadata": {
    "scrolled": false
   },
   "outputs": [
    {
     "data": {
      "application/vnd.jupyter.widget-view+json": {
       "model_id": "a0ceede9fa234681b352ab7c0d13222b",
       "version_major": 2,
       "version_minor": 0
      },
      "text/plain": [
       "Canvas(toolbar=Toolbar(toolitems=[('Home', 'Reset original view', 'home', 'home'), ('Back', 'Back to previous …"
      ]
     },
     "metadata": {},
     "output_type": "display_data"
    },
    {
     "data": {
      "text/plain": [
       "Text(0.5, 1.0, 'AGN power-law continuum ($L_{\\\\rm NT} = 10^{41}\\\\,\\\\rm erg\\\\,s^{-1}$)')"
      ]
     },
     "execution_count": 16,
     "metadata": {},
     "output_type": "execute_result"
    }
   ],
   "source": [
    "###########################################################################\n",
    "# Defining the AGN continuum using the method of Yee 1980\n",
    "###########################################################################\n",
    "L_NT = 1e41\n",
    "\n",
    "fig, ax = plt.subplots(nrows=1, ncols=1)\n",
    "for alpha_nu in [0.3, 0.5, 0.7, 1.1, 1.2, 1.3, 1.5, 1.7, 2.0]:\n",
    "    # Compute the continuum normalisation\n",
    "    alpha_lambda = 2 - alpha_nu\n",
    "    F_lambda_0 = L_NT * (1 - alpha_lambda) / (9500**(1 - alpha_lambda) - 3000**(1 - alpha_lambda))\n",
    "\n",
    "    # Compute the continuum\n",
    "    lambda_vals_A = np.linspace(3000, 9500, 1e3)\n",
    "    F_lambda = F_lambda_0 * lambda_vals_A**(-alpha_lambda)\n",
    "\n",
    "    ax.plot(lambda_vals_A, F_lambda, label=r\"$\\alpha_\\nu =$\" + f\"{alpha_nu:.1f}\")\n",
    "    ax.set_xlabel(\"$\\lambda$ (Å)\")\n",
    "    ax.set_ylabel(\"$F(\\lambda)$ (erg/s/Å)\")\n",
    "ax.autoscale(axis=\"x\", tight=True, enable=True)\n",
    "ax.legend()\n",
    "ax.axvline(3500, color=\"grey\")\n",
    "ax.axvline(7000, color=\"grey\")\n",
    "ax.set_title(r\"AGN power-law continuum ($L_{\\rm NT} = 10^{41}\\,\\rm erg\\,s^{-1}$)\")\n",
    "\n"
   ]
  },
  {
   "cell_type": "code",
   "execution_count": 17,
   "metadata": {},
   "outputs": [],
   "source": [
    "###########################################################################\n",
    "# Settings\n",
    "###########################################################################\n",
    "isochrones = \"Padova\"\n",
    "SNR = 100\n",
    "sigma_star_kms = 250\n",
    "z = 0.01"
   ]
  },
  {
   "cell_type": "code",
   "execution_count": 18,
   "metadata": {},
   "outputs": [
    {
     "data": {
      "application/vnd.jupyter.widget-view+json": {
       "model_id": "34078365ba2a4060ae74aa231cd91b8b",
       "version_major": 2,
       "version_minor": 0
      },
      "text/plain": [
       "Canvas(toolbar=Toolbar(toolitems=[('Home', 'Reset original view', 'home', 'home'), ('Back', 'Back to previous …"
      ]
     },
     "metadata": {},
     "output_type": "display_data"
    },
    {
     "data": {
      "application/vnd.jupyter.widget-view+json": {
       "model_id": "b20def72c88740ee8dec01e1d617f959",
       "version_major": 2,
       "version_minor": 0
      },
      "text/plain": [
       "Canvas(toolbar=Toolbar(toolitems=[('Home', 'Reset original view', 'home', 'home'), ('Back', 'Back to previous …"
      ]
     },
     "metadata": {},
     "output_type": "display_data"
    },
    {
     "data": {
      "application/vnd.jupyter.widget-view+json": {
       "model_id": "64278a03b7234737a56870eaae1209c8",
       "version_major": 2,
       "version_minor": 0
      },
      "text/plain": [
       "Canvas(toolbar=Toolbar(toolitems=[('Home', 'Reset original view', 'home', 'home'), ('Back', 'Back to previous …"
      ]
     },
     "metadata": {},
     "output_type": "display_data"
    },
    {
     "data": {
      "application/vnd.jupyter.widget-view+json": {
       "model_id": "40e477bdb26b4fc1936542c56393adfa",
       "version_major": 2,
       "version_minor": 0
      },
      "text/plain": [
       "Canvas(toolbar=Toolbar(toolitems=[('Home', 'Reset original view', 'home', 'home'), ('Back', 'Back to previous …"
      ]
     },
     "metadata": {},
     "output_type": "display_data"
    }
   ],
   "source": [
    "###########################################################################\n",
    "# Generate the input SFH\n",
    "###########################################################################\n",
    "# Load the stellar templates so we can get the age & metallicity dimensions\n",
    "_, _, metallicities, ages = load_ssp_templates(isochrones)\n",
    "N_ages = len(ages)\n",
    "N_metallicities = len(metallicities)\n",
    "\n",
    "# Load a realistic SFH\n",
    "sfh_mw_original = load_sfh(99, plotit=True)\n",
    "\n",
    "# Compute the mean mass-weighted age below 1 Gyr\n",
    "log_age_mw_original, log_age_mw_original_idx = calculate_mw_age(sfh_mw_original, age_thresh=1e9, ages=ages)\n",
    "\n",
    "# Create the spectrum here, just so we can check it looks OK\n",
    "spec_nolines, spec_nolines_err, lambda_vals_A = create_mock_spectrum(\n",
    "    sfh_mass_weighted=sfh_mw_original,\n",
    "    isochrones=isochrones, z=z, SNR=SNR, sigma_star_kms=sigma_star_kms,\n",
    "    plotit=True)\n",
    "\n"
   ]
  },
  {
   "cell_type": "code",
   "execution_count": 19,
   "metadata": {
    "scrolled": false
   },
   "outputs": [],
   "source": [
    "# Helper function for multiprocessing\n",
    "def ppxf_helper(args):\n",
    "    # Unpack arguments\n",
    "    seed, spec, spec_err, lambda_vals_A = args\n",
    "    \n",
    "    # Add \"extra\" noise to the spectrum\n",
    "    rng = RandomState(seed)\n",
    "    noise = rng.normal(scale=spec_err)\n",
    "    spec_noise = spec + noise\n",
    "\n",
    "    # This is to mitigate the \"edge effects\" of the convolution with the LSF\n",
    "    spec_noise[0] = -9999\n",
    "    spec_noise[-1] = -9999\n",
    "\n",
    "    # Run ppxf\n",
    "    pp = run_ppxf(spec=spec_noise, spec_err=spec_err, lambda_vals_A=lambda_vals_A,\n",
    "                  z=z, ngascomponents=1,\n",
    "                  regularisation_method=\"none\", \n",
    "                  isochrones=\"Padova\",\n",
    "                  fit_gas=False, tie_balmer=True,\n",
    "                  plotit=False, savefigs=False, interactive_mode=False)\n",
    "    return pp\n",
    "\n",
    "# Helper function so that we can run ppxf on different inputs.\n",
    "def helper_fn(spec, spec_err, lambda_vals_A,\n",
    "              niters=100, nthreads=20, ngascomponents=1):  \n",
    "\n",
    "    ###########################################################################\n",
    "    # Run ppxf WITHOUT regularisation, using a MC approach\n",
    "    ###########################################################################\n",
    "    # Input arguments\n",
    "    seeds = list(np.random.randint(low=0, high=100 * niters, size=niters))\n",
    "    args_list = [[s, spec, spec_err, lambda_vals_A] for s in seeds]\n",
    "\n",
    "    # Run in parallel\n",
    "    print(f\"Running ppxf on {nthreads} threads...\")\n",
    "    t = time()\n",
    "    with multiprocessing.Pool(nthreads) as pool:\n",
    "        pp_list = list(tqdm(pool.imap(ppxf_helper, args_list), total=niters))\n",
    "    print(f\"Elapsed time in ppxf: {time() - t:.2f} s\")\n",
    "\n",
    "    ###########################################################################\n",
    "    # Run ppxf WITH regularisation\n",
    "    ###########################################################################\n",
    "    t = time()\n",
    "    pp_regul = run_ppxf(spec=spec, spec_err=spec_err, lambda_vals_A=lambda_vals_A,\n",
    "                        z=z, ngascomponents=ngascomponents,\n",
    "                        regularisation_method=\"auto\",\n",
    "                        isochrones=\"Padova\",\n",
    "                        fit_gas=False, tie_balmer=True,\n",
    "                        delta_regul_min=1, regul_max=5e4, delta_delta_chi2_min=5,\n",
    "                        plotit=False, savefigs=False, interactive_mode=False)\n",
    "    print(f\"Total time in run_ppxf: {time() - t:.2f} seconds\")\n",
    "\n",
    "    ###########################################################################\n",
    "    # Compute the mass-weighted age \n",
    "    ###########################################################################\n",
    "    log_age_mw_regul, log_age_mw_regul_idx = calculate_mw_age(pp_regul.weights_mass_weighted, age_thresh=1e9, ages=ages)\n",
    "\n",
    "    log_age_mw_list = []\n",
    "    for pp in pp_list:\n",
    "        log_age_mw, _ = calculate_mw_age(pp.weights_mass_weighted, age_thresh=1e9, ages=ages)\n",
    "        log_age_mw_list.append(log_age_mw)\n",
    "\n",
    "    log_age_mw_MC = np.nanmean(log_age_mw_list)\n",
    "    log_age_mw_MC_err = np.nanstd(log_age_mw_list)\n",
    "    # For plotting purposes, figure out the approx. index of these ages in the age array\n",
    "    log_age_mw_MC_idx = (log_age_mw_MC - np.log10(ages[0])) / (np.log10(ages[1]) - np.log10(ages[0]))\n",
    "    log_age_mw_MC_err_idx = log_age_mw_MC_err / (np.log10(ages[1]) - np.log10(ages[0]))\n",
    "\n",
    "    print(\"------------------------------------------------------------\")\n",
    "    print(f\"MC method:    mean mass-weighted age (log yr) = {np.nanmean(log_age_mw_list):.2f} ± {np.nanstd(log_age_mw_list):.2f}\")\n",
    "    print(f\"Regul method: mean mass-weighted age (log yr) = {log_age_mw_regul:.2f}\")\n",
    "    print(f\"Input value:  mean mass-weighted age (log yr) = {log_age_mw_original:.2f})\")\n",
    "    print(\"------------------------------------------------------------\")\n",
    "\n",
    "    ###########################################################################\n",
    "    # COMPARE THE INPUT AND OUTPUT\n",
    "    ###########################################################################\n",
    "    sfh_fit_mw_list = []\n",
    "    sfh_fit_lw_list = []\n",
    "    sfh_fit_mw_1D_list = []\n",
    "    sfh_fit_lw_1D_list = []\n",
    "\n",
    "    for pp in pp_list:\n",
    "        sfh_fit_mw_list.append(pp.weights_mass_weighted)\n",
    "        sfh_fit_lw_list.append(pp.weights_light_weighted)\n",
    "        sfh_fit_mw_1D_list.append(np.nansum(pp.weights_mass_weighted, axis=0))\n",
    "        sfh_fit_lw_1D_list.append(np.nansum(pp.weights_light_weighted, axis=0))\n",
    "\n",
    "    # Compute the mean SFH \n",
    "    sfh_fit_mw_mean = np.nansum(np.array(sfh_fit_mw_list), axis=0) / len(sfh_fit_mw_list)\n",
    "    sfh_fit_lw_mean = np.nansum(np.array(sfh_fit_lw_list), axis=0) / len(sfh_fit_lw_list)\n",
    "    sfh_fit_mw_1D_mean = np.nansum(sfh_fit_mw_mean, axis=0)\n",
    "    sfh_fit_lw_1D_mean = np.nansum(sfh_fit_lw_mean, axis=0)\n",
    "\n",
    "    sfh_fit_mw_1D_regul = np.nansum(pp_regul.weights_mass_weighted, axis=0)\n",
    "    sfh_fit_lw_1D_regul = np.nansum(pp_regul.weights_light_weighted, axis=0)\n",
    "\n",
    "    # Plot the mass-weighted weights, summed over the metallicity dimension\n",
    "    for log_scale in [True]:\n",
    "        # Create new figure \n",
    "        fig = plt.figure(figsize=(13, 4))\n",
    "        ax = fig.add_axes([0.1, 0.2, 0.7, 0.7])\n",
    "        ax.set_title(f\"Mass-weighted template weights (SNR = {SNR:d})\")\n",
    "\n",
    "        # Plot the SFHs from each ppxf run, plus the \"truth\" SFH\n",
    "        ax.fill_between(range(N_ages), sfh_mw_1D_original, step=\"mid\", alpha=1.0, color=\"cornflowerblue\", label=\"Input SFH\")\n",
    "        for jj in range(niters):\n",
    "            ax.step(range(N_ages), sfh_fit_mw_1D_list[jj], color=\"pink\", alpha=0.2, where=\"mid\", linewidth=0.25, label=\"ppxf fits (MC simluations)\" if jj == 0 else None)\n",
    "        ax.step(range(N_ages), sfh_fit_mw_1D_mean, color=\"red\", where=\"mid\", label=\"Mean ppxf fit (MC simulations)\")\n",
    "        ax.step(range(N_ages), sfh_fit_mw_1D_regul, color=\"lightgreen\", where=\"mid\", label=\"ppxf fit (regularised)\")\n",
    "\n",
    "        # Plot horizontal error bars indicating the mean mass-weighted age from (a) the MC simulations and (b) the regularised fit \n",
    "        y = 10**(0.9 * np.log10(ax.get_ylim()[1])) if log_scale else 0.9 * ax.get_ylim()[1]\n",
    "        ax.errorbar(x=log_age_mw_regul_idx, y=y, xerr=0, yerr=0, \n",
    "                    marker=\"D\", mfc=\"lightgreen\",mec=\"lightgreen\",  ecolor=\"lightgreen\",  \n",
    "                    label=\"MW age ($< 1$ Gyr) (regularised fit)\")\n",
    "        ax.errorbar(x=log_age_mw_MC_idx, y=y, xerr=log_age_mw_MC_err_idx, yerr=0, \n",
    "                    marker=\"D\", mfc=\"red\", mec=\"red\", ecolor=\"red\",\n",
    "                    label=\"MW age ($< 1$ Gyr) (MC simulations)\")\n",
    "        ax.errorbar(x=log_age_mw_original_idx, y=y, xerr=0, yerr=0, \n",
    "                    marker=\"D\", mfc=\"cornflowerblue\", mec=\"cornflowerblue\", ecolor=\"cornflowerblue\", \n",
    "                    label=\"MW age ($< 1$ Gyr) (input)\")\n",
    "\n",
    "        # Decorations \n",
    "        ax.set_xticks(range(N_ages))\n",
    "        ax.set_xlabel(\"Age (Myr)\")\n",
    "        ax.set_xticklabels([\"{:}\".format(age / 1e6) for age in ages], rotation=\"vertical\", fontsize=\"x-small\")\n",
    "        ax.autoscale(axis=\"x\", enable=True, tight=True)\n",
    "        ax.set_ylim([1, None])\n",
    "        ax.set_ylabel(r\"Template weight ($\\rm M_\\odot$)\")\n",
    "        ax.legend(fontsize=\"x-small\", loc=\"center left\", bbox_to_anchor=(1.01, 0.5))\n",
    "        ax.set_xlabel(\"Age (Myr)\")\n",
    "        ax.set_yscale(\"log\") if log_scale else None\n",
    "        "
   ]
  },
  {
   "cell_type": "code",
   "execution_count": 37,
   "metadata": {
    "scrolled": true
   },
   "outputs": [
    {
     "data": {
      "application/vnd.jupyter.widget-view+json": {
       "model_id": "301b5d7785bc4a589649fae8a1a75c2f",
       "version_major": 2,
       "version_minor": 0
      },
      "text/plain": [
       "Canvas(toolbar=Toolbar(toolitems=[('Home', 'Reset original view', 'home', 'home'), ('Back', 'Back to previous …"
      ]
     },
     "metadata": {},
     "output_type": "display_data"
    },
    {
     "data": {
      "application/vnd.jupyter.widget-view+json": {
       "model_id": "e51b01a6f7f74bfabc31e2404f357afb",
       "version_major": 2,
       "version_minor": 0
      },
      "text/plain": [
       "Canvas(toolbar=Toolbar(toolitems=[('Home', 'Reset original view', 'home', 'home'), ('Back', 'Back to previous …"
      ]
     },
     "metadata": {},
     "output_type": "display_data"
    },
    {
     "data": {
      "application/vnd.jupyter.widget-view+json": {
       "model_id": "ff01050422f04a16b5e0a2b3871fc478",
       "version_major": 2,
       "version_minor": 0
      },
      "text/plain": [
       "Canvas(toolbar=Toolbar(toolitems=[('Home', 'Reset original view', 'home', 'home'), ('Back', 'Back to previous …"
      ]
     },
     "metadata": {},
     "output_type": "display_data"
    },
    {
     "name": "stdout",
     "output_type": "stream",
     "text": [
      "Running ppxf on 20 threads...\n"
     ]
    },
    {
     "data": {
      "application/vnd.jupyter.widget-view+json": {
       "model_id": "67a6deecbede49278a316af16243b60e",
       "version_major": 2,
       "version_minor": 0
      },
      "text/plain": [
       "HBox(children=(IntProgress(value=0), HTML(value='')))"
      ]
     },
     "metadata": {},
     "output_type": "display_data"
    },
    {
     "name": "stdout",
     "output_type": "stream",
     "text": [
      "\n",
      "Elapsed time in ppxf: 182.76 s\n",
      "----------------------------------------------------\n",
      "Iteration 0: Elapsed time in PPXF (single thread): 4.63 s\n",
      "----------------------------------------------------\n",
      "Iteration 1: Scaling noise by 9.9891...\n",
      "Iteration 1: Running ppxf on 20 threads...\n",
      "Iteration 1: Elapsed time in PPXF (multithreaded): 64.23 s\n",
      "Iteration 1: optimal regul = 0.00; Δm = 5.72257; Δregul = 500.00 (Δregul_min = 1.00); Δχ (goal) - Δχ = 95.079\n",
      "----------------------------------------------------\n",
      "Iteration 2: Re-running ppxf on 20 threads (iteration 2)...\n",
      "Iteration 2: Elapsed time in PPXF (multithreaded): 60.94 s\n",
      "Iteration 2: optimal regul = -1000.00; Δm = 0; Δregul = 100.00 (Δregul_min = 1.00); Δχ (goal) - Δχ = 95.079\n",
      "----------------------------------------------------\n",
      "Iteration 3: Re-running ppxf on 20 threads (iteration 3)...\n",
      "Iteration 3: Elapsed time in PPXF (multithreaded): 51.02 s\n",
      "Iteration 3: optimal regul = -1200.00; Δm = 0; Δregul = 20.00 (Δregul_min = 1.00); Δχ (goal) - Δχ = 95.079\n",
      "----------------------------------------------------\n",
      "Iteration 4: Re-running ppxf on 20 threads (iteration 4)...\n",
      "Iteration 4: Elapsed time in PPXF (multithreaded): 51.01 s\n",
      "Iteration 4: optimal regul = -1240.00; Δm = 0; Δregul = 4.00 (Δregul_min = 1.00); Δχ (goal) - Δχ = 95.079\n",
      "----------------------------------------------------\n",
      "Iteration 5: Re-running ppxf on 20 threads (iteration 5)...\n",
      "Iteration 5: Elapsed time in PPXF (multithreaded): 51.33 s\n",
      "Iteration 5: optimal regul = -1248.00; Δm = 0; Δregul = 0.80 (Δregul_min = 1.00); Δχ (goal) - Δχ = 95.079\n",
      "----------------------------------------------------\n",
      "STOPPING: Minimum spacing between regul values reached; using -1248.00 to produce the best fit\n",
      "Total time in run_ppxf: 284.43 seconds\n",
      "------------------------------------------------------------\n",
      "MC method:    mean mass-weighted age (log yr) = 7.13 ± 0.02\n",
      "Regul method: mean mass-weighted age (log yr) = 7.09\n",
      "Input value:  mean mass-weighted age (log yr) = 7.10)\n",
      "------------------------------------------------------------\n"
     ]
    },
    {
     "data": {
      "application/vnd.jupyter.widget-view+json": {
       "model_id": "0884fee7e8ac41408868d56b6b25c40b",
       "version_major": 2,
       "version_minor": 0
      },
      "text/plain": [
       "Canvas(toolbar=Toolbar(toolitems=[('Home', 'Reset original view', 'home', 'home'), ('Back', 'Back to previous …"
      ]
     },
     "metadata": {},
     "output_type": "display_data"
    }
   ],
   "source": [
    "###########################################################################\n",
    "# Case 0: No AGN power law continuum, no emission lines\n",
    "###########################################################################\n",
    "spec, spec_err, lambda_vals_A = create_mock_spectrum(\n",
    "    sfh_mass_weighted=sfh_mw_original,\n",
    "    agn_continuum=False, L_NT=1e42, alpha_nu=1.5,\n",
    "    isochrones=isochrones, z=z, SNR=1e3, sigma_star_kms=sigma_star_kms,\n",
    "    plotit=True)\n",
    "\n",
    "helper_fn(spec, spec_err, lambda_vals_A, niters=100, nthreads=20, ngascomponents=1)"
   ]
  },
  {
   "cell_type": "code",
   "execution_count": 36,
   "metadata": {
    "scrolled": true
   },
   "outputs": [
    {
     "data": {
      "application/vnd.jupyter.widget-view+json": {
       "model_id": "c5cf2e43f4ad4117a20f95a995795256",
       "version_major": 2,
       "version_minor": 0
      },
      "text/plain": [
       "Canvas(toolbar=Toolbar(toolitems=[('Home', 'Reset original view', 'home', 'home'), ('Back', 'Back to previous …"
      ]
     },
     "metadata": {},
     "output_type": "display_data"
    },
    {
     "data": {
      "application/vnd.jupyter.widget-view+json": {
       "model_id": "2d3e1cc414904a2cbcfa8dd5760d1b6c",
       "version_major": 2,
       "version_minor": 0
      },
      "text/plain": [
       "Canvas(toolbar=Toolbar(toolitems=[('Home', 'Reset original view', 'home', 'home'), ('Back', 'Back to previous …"
      ]
     },
     "metadata": {},
     "output_type": "display_data"
    },
    {
     "data": {
      "application/vnd.jupyter.widget-view+json": {
       "model_id": "3d7aae6f893c4c13b524bbba40efcd08",
       "version_major": 2,
       "version_minor": 0
      },
      "text/plain": [
       "Canvas(toolbar=Toolbar(toolitems=[('Home', 'Reset original view', 'home', 'home'), ('Back', 'Back to previous …"
      ]
     },
     "metadata": {},
     "output_type": "display_data"
    },
    {
     "data": {
      "application/vnd.jupyter.widget-view+json": {
       "model_id": "13208ca12800429296881b4d954ba158",
       "version_major": 2,
       "version_minor": 0
      },
      "text/plain": [
       "Canvas(toolbar=Toolbar(toolitems=[('Home', 'Reset original view', 'home', 'home'), ('Back', 'Back to previous …"
      ]
     },
     "metadata": {},
     "output_type": "display_data"
    },
    {
     "name": "stdout",
     "output_type": "stream",
     "text": [
      "Running ppxf on 20 threads...\n"
     ]
    },
    {
     "data": {
      "application/vnd.jupyter.widget-view+json": {
       "model_id": "e4a6a2ef387f4d0abfb0df61ed994c84",
       "version_major": 2,
       "version_minor": 0
      },
      "text/plain": [
       "HBox(children=(IntProgress(value=0), HTML(value='')))"
      ]
     },
     "metadata": {},
     "output_type": "display_data"
    },
    {
     "name": "stdout",
     "output_type": "stream",
     "text": [
      "\n",
      "Elapsed time in ppxf: 317.24 s\n",
      "----------------------------------------------------\n",
      "Iteration 0: Elapsed time in PPXF (single thread): 4.67 s\n",
      "----------------------------------------------------\n",
      "Iteration 1: Scaling noise by 18.8123...\n",
      "Iteration 1: Running ppxf on 20 threads...\n",
      "Iteration 1: Elapsed time in PPXF (multithreaded): 134.62 s\n",
      "Iteration 1: optimal regul = 0.00; Δm = 0.00219215; Δregul = 500.00 (Δregul_min = 1.00); Δχ (goal) - Δχ = 95.079\n",
      "----------------------------------------------------\n",
      "Iteration 2: Re-running ppxf on 20 threads (iteration 2)...\n",
      "Iteration 2: Elapsed time in PPXF (multithreaded): 91.89 s\n",
      "Iteration 2: optimal regul = 100.00; Δm = 3.88276e+10; Δregul = 100.00 (Δregul_min = 1.00); Δχ (goal) - Δχ = 57.384\n",
      "----------------------------------------------------\n",
      "Iteration 3: Re-running ppxf on 20 threads (iteration 3)...\n",
      "Iteration 3: Elapsed time in PPXF (multithreaded): 101.10 s\n",
      "Iteration 3: optimal regul = 20.00; Δm = 1.21465e+10; Δregul = 20.00 (Δregul_min = 1.00); Δχ (goal) - Δχ = 7.445\n",
      "----------------------------------------------------\n",
      "Iteration 4: Re-running ppxf on 20 threads (iteration 4)...\n",
      "Iteration 4: Elapsed time in PPXF (multithreaded): 76.06 s\n",
      "Iteration 4: optimal regul = 24.00; Δm = 3.47007e+09; Δregul = 4.00 (Δregul_min = 1.00); Δχ (goal) - Δχ = 1.602\n",
      "----------------------------------------------------\n",
      "STOPPING: Convergence criterion reached; Δχ (goal) - Δχ = 1.6017752215048944; using 24.00 to produce the best fit\n",
      "Total time in run_ppxf: 409.61 seconds\n",
      "------------------------------------------------------------\n",
      "MC method:    mean mass-weighted age (log yr) = 6.67 ± 0.00\n",
      "Regul method: mean mass-weighted age (log yr) = 6.62\n",
      "Input value:  mean mass-weighted age (log yr) = 7.10)\n",
      "------------------------------------------------------------\n"
     ]
    },
    {
     "name": "stderr",
     "output_type": "stream",
     "text": [
      "/pkg/linux/anaconda-20191122/anaconda3/lib/python3.7/site-packages/ipykernel_launcher.py:103: RuntimeWarning: More than 20 figures have been opened. Figures created through the pyplot interface (`matplotlib.pyplot.figure`) are retained until explicitly closed and may consume too much memory. (To control this warning, see the rcParam `figure.max_open_warning`).\n"
     ]
    },
    {
     "data": {
      "application/vnd.jupyter.widget-view+json": {
       "model_id": "d8ad73cb81e1479cb975e5da34a9c241",
       "version_major": 2,
       "version_minor": 0
      },
      "text/plain": [
       "Canvas(toolbar=Toolbar(toolitems=[('Home', 'Reset original view', 'home', 'home'), ('Back', 'Back to previous …"
      ]
     },
     "metadata": {},
     "output_type": "display_data"
    }
   ],
   "source": [
    "###########################################################################\n",
    "# Case 1: AGN power law continuum, no emission lines\n",
    "###########################################################################\n",
    "spec, spec_err, lambda_vals_A = create_mock_spectrum(\n",
    "    sfh_mass_weighted=sfh_mw_original,\n",
    "    agn_continuum=True, L_NT=1e42, alpha_nu=1.5,\n",
    "    isochrones=isochrones, z=z, SNR=1e3, sigma_star_kms=sigma_star_kms,\n",
    "    plotit=True)\n",
    "\n",
    "helper_fn(spec, spec_err, lambda_vals_A, niters=100, nthreads=20, ngascomponents=1)"
   ]
  },
  {
   "cell_type": "markdown",
   "metadata": {},
   "source": [
    "### When an AGN continuum is included, the ppxf fit is still quite good\n",
    "---\n",
    "Despite the fact that the recovered SFH isn't accurate when an AGN continuum is included, ppxf is still able to acheive a good fit, with minimal residuals."
   ]
  },
  {
   "cell_type": "code",
   "execution_count": 89,
   "metadata": {},
   "outputs": [],
   "source": [
    "plt.close(\"all\")"
   ]
  },
  {
   "cell_type": "code",
   "execution_count": 147,
   "metadata": {},
   "outputs": [
    {
     "data": {
      "application/vnd.jupyter.widget-view+json": {
       "model_id": "3e468d51265b4e0a9f2e327312bdd42c",
       "version_major": 2,
       "version_minor": 0
      },
      "text/plain": [
       "Canvas(toolbar=Toolbar(toolitems=[('Home', 'Reset original view', 'home', 'home'), ('Back', 'Back to previous …"
      ]
     },
     "metadata": {},
     "output_type": "display_data"
    },
    {
     "data": {
      "application/vnd.jupyter.widget-view+json": {
       "model_id": "613c38e31cfd4ed48e2e7c2431931b9f",
       "version_major": 2,
       "version_minor": 0
      },
      "text/plain": [
       "Canvas(toolbar=Toolbar(toolitems=[('Home', 'Reset original view', 'home', 'home'), ('Back', 'Back to previous …"
      ]
     },
     "metadata": {},
     "output_type": "display_data"
    },
    {
     "data": {
      "application/vnd.jupyter.widget-view+json": {
       "model_id": "6edc3f845c124e3882e20a2fc1d983ed",
       "version_major": 2,
       "version_minor": 0
      },
      "text/plain": [
       "Canvas(toolbar=Toolbar(toolitems=[('Home', 'Reset original view', 'home', 'home'), ('Back', 'Back to previous …"
      ]
     },
     "metadata": {},
     "output_type": "display_data"
    },
    {
     "data": {
      "application/vnd.jupyter.widget-view+json": {
       "model_id": "c600f0d71cf94d96a6b82e4c1d8a08c3",
       "version_major": 2,
       "version_minor": 0
      },
      "text/plain": [
       "Canvas(toolbar=Toolbar(toolitems=[('Home', 'Reset original view', 'home', 'home'), ('Back', 'Back to previous …"
      ]
     },
     "metadata": {},
     "output_type": "display_data"
    },
    {
     "data": {
      "application/vnd.jupyter.widget-view+json": {
       "model_id": "754e2c97bddb43d08f410aada5fe3ba1",
       "version_major": 2,
       "version_minor": 0
      },
      "text/plain": [
       "Canvas(toolbar=Toolbar(toolitems=[('Home', 'Reset original view', 'home', 'home'), ('Back', 'Back to previous …"
      ]
     },
     "metadata": {},
     "output_type": "display_data"
    },
    {
     "data": {
      "application/vnd.jupyter.widget-view+json": {
       "model_id": "0da4a4886eff4c43b654f2266d39af48",
       "version_major": 2,
       "version_minor": 0
      },
      "text/plain": [
       "Canvas(toolbar=Toolbar(toolitems=[('Home', 'Reset original view', 'home', 'home'), ('Back', 'Back to previous …"
      ]
     },
     "metadata": {},
     "output_type": "display_data"
    },
    {
     "data": {
      "application/vnd.jupyter.widget-view+json": {
       "model_id": "1814753863e04287bc81c05a0bdd226d",
       "version_major": 2,
       "version_minor": 0
      },
      "text/plain": [
       "Canvas(toolbar=Toolbar(toolitems=[('Home', 'Reset original view', 'home', 'home'), ('Back', 'Back to previous …"
      ]
     },
     "metadata": {},
     "output_type": "display_data"
    }
   ],
   "source": [
    "###############################################################################\n",
    "# Run ppxf once just to see what the fit looks like\n",
    "###############################################################################\n",
    "spec_noAGN, spec_noAGN_err, lambda_vals_A = create_mock_spectrum(\n",
    "    sfh_mass_weighted=sfh_mw_original,\n",
    "    agn_continuum=False,\n",
    "    isochrones=isochrones, z=z, SNR=SNR, sigma_star_kms=sigma_star_kms,\n",
    "    plotit=True)\n",
    "\n",
    "spec_AGN, spec_AGN_err, lambda_vals_A = create_mock_spectrum(\n",
    "    sfh_mass_weighted=sfh_mw_original,\n",
    "    agn_continuum=True, L_NT_erg_s=1e42, alpha_nu=1.5,\n",
    "    isochrones=isochrones, z=z, SNR=SNR, sigma_star_kms=sigma_star_kms,\n",
    "    plotit=True)"
   ]
  },
  {
   "cell_type": "code",
   "execution_count": 107,
   "metadata": {
    "scrolled": false
   },
   "outputs": [
    {
     "data": {
      "application/vnd.jupyter.widget-view+json": {
       "model_id": "24d637cef32845dfa0a0fc28e2f22e8f",
       "version_major": 2,
       "version_minor": 0
      },
      "text/plain": [
       "Canvas(toolbar=Toolbar(toolitems=[('Home', 'Reset original view', 'home', 'home'), ('Back', 'Back to previous …"
      ]
     },
     "metadata": {},
     "output_type": "display_data"
    },
    {
     "data": {
      "application/vnd.jupyter.widget-view+json": {
       "model_id": "8f203897a58249b4a8f246d0e91d2d8d",
       "version_major": 2,
       "version_minor": 0
      },
      "text/plain": [
       "Canvas(toolbar=Toolbar(toolitems=[('Home', 'Reset original view', 'home', 'home'), ('Back', 'Back to previous …"
      ]
     },
     "metadata": {},
     "output_type": "display_data"
    },
    {
     "data": {
      "application/vnd.jupyter.widget-view+json": {
       "model_id": "7c4cd50c51064697950f60bc848a439c",
       "version_major": 2,
       "version_minor": 0
      },
      "text/plain": [
       "Canvas(toolbar=Toolbar(toolitems=[('Home', 'Reset original view', 'home', 'home'), ('Back', 'Back to previous …"
      ]
     },
     "metadata": {},
     "output_type": "display_data"
    },
    {
     "data": {
      "application/vnd.jupyter.widget-view+json": {
       "model_id": "d42494fcb88e468d8d57e8e724f0a706",
       "version_major": 2,
       "version_minor": 0
      },
      "text/plain": [
       "Canvas(toolbar=Toolbar(toolitems=[('Home', 'Reset original view', 'home', 'home'), ('Back', 'Back to previous …"
      ]
     },
     "metadata": {},
     "output_type": "display_data"
    },
    {
     "data": {
      "application/vnd.jupyter.widget-view+json": {
       "model_id": "fc7027819e4a4126bd3dde73ed1dc7cd",
       "version_major": 2,
       "version_minor": 0
      },
      "text/plain": [
       "Canvas(toolbar=Toolbar(toolitems=[('Home', 'Reset original view', 'home', 'home'), ('Back', 'Back to previous …"
      ]
     },
     "metadata": {},
     "output_type": "display_data"
    },
    {
     "data": {
      "application/vnd.jupyter.widget-view+json": {
       "model_id": "7d0cfadb1a994834b879f8ebdedfa78c",
       "version_major": 2,
       "version_minor": 0
      },
      "text/plain": [
       "Canvas(toolbar=Toolbar(toolitems=[('Home', 'Reset original view', 'home', 'home'), ('Back', 'Back to previous …"
      ]
     },
     "metadata": {},
     "output_type": "display_data"
    },
    {
     "data": {
      "application/vnd.jupyter.widget-view+json": {
       "model_id": "edf6ade3d98740ae9fc6f484f8be45c7",
       "version_major": 2,
       "version_minor": 0
      },
      "text/plain": [
       "Canvas(toolbar=Toolbar(toolitems=[('Home', 'Reset original view', 'home', 'home'), ('Back', 'Back to previous …"
      ]
     },
     "metadata": {},
     "output_type": "display_data"
    },
    {
     "data": {
      "application/vnd.jupyter.widget-view+json": {
       "model_id": "5193857bc5924632b9a4c128d25c4eda",
       "version_major": 2,
       "version_minor": 0
      },
      "text/plain": [
       "Canvas(toolbar=Toolbar(toolitems=[('Home', 'Reset original view', 'home', 'home'), ('Back', 'Back to previous …"
      ]
     },
     "metadata": {},
     "output_type": "display_data"
    },
    {
     "data": {
      "application/vnd.jupyter.widget-view+json": {
       "model_id": "d26681271f9a41afa33063c8dc9a9913",
       "version_major": 2,
       "version_minor": 0
      },
      "text/plain": [
       "Canvas(toolbar=Toolbar(toolitems=[('Home', 'Reset original view', 'home', 'home'), ('Back', 'Back to previous …"
      ]
     },
     "metadata": {},
     "output_type": "display_data"
    },
    {
     "data": {
      "text/plain": [
       "Text(0.5, 0.98, 'With AGN continuum')"
      ]
     },
     "execution_count": 107,
     "metadata": {},
     "output_type": "execute_result"
    }
   ],
   "source": [
    "###############################################################################\n",
    "# ppxf: without AGN continuum\n",
    "###############################################################################\n",
    "pp = run_ppxf(spec=spec_noAGN, spec_err=spec_noAGN_err, lambda_vals_A=lambda_vals_A,\n",
    "              z=z, ngascomponents=1,\n",
    "              regularisation_method=\"none\", \n",
    "              isochrones=\"Padova\",\n",
    "              fit_gas=False, tie_balmer=True,\n",
    "              plotit=True, savefigs=False, interactive_mode=False)\n",
    "plt.gcf().suptitle(\"No AGN continuum\")\n",
    "\n",
    "###############################################################################\n",
    "# ppxf: with AGN continuum\n",
    "###############################################################################\n",
    "pp = run_ppxf(spec=spec_AGN, spec_err=spec_AGN_err, lambda_vals_A=lambda_vals_A,\n",
    "              z=z, ngascomponents=1,\n",
    "              regularisation_method=\"none\", \n",
    "              isochrones=\"Padova\",\n",
    "              fit_gas=False, tie_balmer=True,\n",
    "              plotit=True, savefigs=False, interactive_mode=False)\n",
    "plt.gcf().suptitle(\"With AGN continuum\")"
   ]
  },
  {
   "cell_type": "markdown",
   "metadata": {},
   "source": [
    "### What effect does the *strength* of the AGN continuum have on the recovered SFH?\n",
    "---\n",
    "Using an MC approach to estimate the mass-weighted age of the stellar population <1 Gyr, we will run ppxf on spectra with the same underlying SFH, but an AGN continuum that varies in strength (parameterised by $L_{\\rm NT}$), keeping $\\alpha_\\nu$ fixed."
   ]
  },
  {
   "cell_type": "code",
   "execution_count": 32,
   "metadata": {},
   "outputs": [],
   "source": [
    "alpha_nu = 1.5  # What is a typical value for low-z Seyfert galaxies?\n",
    "log_L_NT_vals = [0] + list(np.linspace(41, 44, 7))"
   ]
  },
  {
   "cell_type": "code",
   "execution_count": 30,
   "metadata": {},
   "outputs": [
    {
     "data": {
      "application/vnd.jupyter.widget-view+json": {
       "model_id": "3772d03f44dd4430becd3257d8cb1446",
       "version_major": 2,
       "version_minor": 0
      },
      "text/plain": [
       "Canvas(toolbar=Toolbar(toolitems=[('Home', 'Reset original view', 'home', 'home'), ('Back', 'Back to previous …"
      ]
     },
     "metadata": {},
     "output_type": "display_data"
    }
   ],
   "source": [
    "# Figure for plotting & comparing spectra\n",
    "fig, ax = plt.subplots(nrows=1, ncols=1, figsize=(10, 4))\n",
    "ax.set_xlabel(\"Observed wavelength (Å)\")\n",
    "ax.set_ylabel(r\"$F_\\lambda(\\lambda)\\,(erg\\,s^{-1}\\,Å^{-1})$\")\n",
    "\n",
    "for ll, log_L_NT in enumerate(log_L_NT_vals):\n",
    "    ###########################################################################\n",
    "    # Create spectrum\n",
    "    ###########################################################################\n",
    "    L_NT = 10**log_L_NT\n",
    "    spec, spec_err, lambda_vals_A = create_mock_spectrum(\n",
    "        sfh_mass_weighted=sfh_mw_original,\n",
    "        agn_continuum=True if ll > 0 else False, L_NT_erg_s=L_NT, alpha_nu=alpha_nu,\n",
    "        isochrones=isochrones, z=z, SNR=SNR, sigma_star_kms=sigma_star_kms,\n",
    "        plotit=False)\n",
    "\n",
    "    # Add to plot \n",
    "    ax.errorbar(x=lambda_vals_A, y=spec, yerr=spec_err, \n",
    "                label=r\"$L_{\\rm NT} = 10^{%.1f} \\,\\rm erg\\,s^{-1}$\" % log_L_NT if ll > 0 else \"No AGN continuum\")\n",
    "\n",
    "ax.legend()\n",
    "ax.set_yscale(\"log\")\n",
    "ax.autoscale(axis=\"x\", tight=True, enable=True)"
   ]
  },
  {
   "cell_type": "code",
   "execution_count": 33,
   "metadata": {
    "scrolled": false
   },
   "outputs": [
    {
     "name": "stdout",
     "output_type": "stream",
     "text": [
      "Running ppxf on 20 threads...\n"
     ]
    },
    {
     "data": {
      "application/vnd.jupyter.widget-view+json": {
       "model_id": "2d465fddcf9f4e638d804af863aec929",
       "version_major": 2,
       "version_minor": 0
      },
      "text/plain": [
       "HBox(children=(IntProgress(value=0), HTML(value='')))"
      ]
     },
     "metadata": {},
     "output_type": "display_data"
    },
    {
     "name": "stdout",
     "output_type": "stream",
     "text": [
      "\n",
      "Elapsed time in ppxf: 180.09 s\n",
      "Running ppxf on 20 threads...\n"
     ]
    },
    {
     "data": {
      "application/vnd.jupyter.widget-view+json": {
       "model_id": "2afa8b2dab0645e59004e11d904e278f",
       "version_major": 2,
       "version_minor": 0
      },
      "text/plain": [
       "HBox(children=(IntProgress(value=0), HTML(value='')))"
      ]
     },
     "metadata": {},
     "output_type": "display_data"
    },
    {
     "name": "stdout",
     "output_type": "stream",
     "text": [
      "\n",
      "Elapsed time in ppxf: 188.84 s\n",
      "Running ppxf on 20 threads...\n"
     ]
    },
    {
     "data": {
      "application/vnd.jupyter.widget-view+json": {
       "model_id": "196e22944a2b45fab0611bfefa9c2924",
       "version_major": 2,
       "version_minor": 0
      },
      "text/plain": [
       "HBox(children=(IntProgress(value=0), HTML(value='')))"
      ]
     },
     "metadata": {},
     "output_type": "display_data"
    },
    {
     "name": "stdout",
     "output_type": "stream",
     "text": [
      "\n",
      "Elapsed time in ppxf: 197.97 s\n",
      "Running ppxf on 20 threads...\n"
     ]
    },
    {
     "data": {
      "application/vnd.jupyter.widget-view+json": {
       "model_id": "e8dba0eb4c974cbbbd5740d0da96e936",
       "version_major": 2,
       "version_minor": 0
      },
      "text/plain": [
       "HBox(children=(IntProgress(value=0), HTML(value='')))"
      ]
     },
     "metadata": {},
     "output_type": "display_data"
    },
    {
     "name": "stdout",
     "output_type": "stream",
     "text": [
      "\n",
      "Elapsed time in ppxf: 193.92 s\n",
      "Running ppxf on 20 threads...\n"
     ]
    },
    {
     "data": {
      "application/vnd.jupyter.widget-view+json": {
       "model_id": "efe6920f7fc54b19a134786abb238bfb",
       "version_major": 2,
       "version_minor": 0
      },
      "text/plain": [
       "HBox(children=(IntProgress(value=0), HTML(value='')))"
      ]
     },
     "metadata": {},
     "output_type": "display_data"
    },
    {
     "name": "stdout",
     "output_type": "stream",
     "text": [
      "\n",
      "Elapsed time in ppxf: 196.40 s\n",
      "Running ppxf on 20 threads...\n"
     ]
    },
    {
     "data": {
      "application/vnd.jupyter.widget-view+json": {
       "model_id": "4f5692ed6ebb49d6be2b321481c825fc",
       "version_major": 2,
       "version_minor": 0
      },
      "text/plain": [
       "HBox(children=(IntProgress(value=0), HTML(value='')))"
      ]
     },
     "metadata": {},
     "output_type": "display_data"
    },
    {
     "name": "stdout",
     "output_type": "stream",
     "text": [
      "\n",
      "Elapsed time in ppxf: 239.25 s\n",
      "Running ppxf on 20 threads...\n"
     ]
    },
    {
     "data": {
      "application/vnd.jupyter.widget-view+json": {
       "model_id": "be20dbc52c4641ddacdaf9645a7512f7",
       "version_major": 2,
       "version_minor": 0
      },
      "text/plain": [
       "HBox(children=(IntProgress(value=0), HTML(value='')))"
      ]
     },
     "metadata": {},
     "output_type": "display_data"
    },
    {
     "name": "stdout",
     "output_type": "stream",
     "text": [
      "\n",
      "Elapsed time in ppxf: 286.35 s\n",
      "Running ppxf on 20 threads...\n"
     ]
    },
    {
     "data": {
      "application/vnd.jupyter.widget-view+json": {
       "model_id": "e5ff71d0bc9c4d7a9aa48ac0639f79be",
       "version_major": 2,
       "version_minor": 0
      },
      "text/plain": [
       "HBox(children=(IntProgress(value=0), HTML(value='')))"
      ]
     },
     "metadata": {},
     "output_type": "display_data"
    },
    {
     "name": "stdout",
     "output_type": "stream",
     "text": [
      "\n",
      "Elapsed time in ppxf: 459.68 s\n"
     ]
    }
   ],
   "source": [
    "###############################################################################\n",
    "# The effect of the slope & strength of the AGN continuum on the recovered SFH\n",
    "###############################################################################\n",
    "# Run ppxf (MC runs only, to save time) on spectra with the same underlying SFH, but an AGN continuum varying in strength.\n",
    "# Later on, repeat, but vary the power-law index for a \"typical\" Hbeta luminosity.\n",
    "# DataFrame for storing results\n",
    "df = pd.DataFrame()\n",
    "\n",
    "# ppxf settings\n",
    "niters = 100\n",
    "nthreads = 20\n",
    "\n",
    "for ll, log_L_NT in enumerate(log_L_NT_vals):\n",
    "    ###########################################################################\n",
    "    # Create spectrum\n",
    "    ###########################################################################\n",
    "    L_NT = 10**log_L_NT\n",
    "    spec, spec_err, lambda_vals_A = create_mock_spectrum(\n",
    "        sfh_mass_weighted=sfh_mw_original,\n",
    "        agn_continuum=True if ll > 0 else False, L_NT_erg_s=L_NT, alpha_nu=alpha_nu,\n",
    "        isochrones=isochrones, z=z, SNR=SNR, sigma_star_kms=sigma_star_kms,\n",
    "        plotit=False)\n",
    "      \n",
    "    # Compute mass-weighted mean age of the stellar pop. < 1 Gyr old\n",
    "    log_age_mw_original, log_age_mw_original_idx = calculate_mw_age(sfh_mw_original, age_thresh=1e9, ages=ages)\n",
    "    \n",
    "    ###########################################################################\n",
    "    # Run ppxf WITHOUT regularisation, using a MC approach\n",
    "    ###########################################################################\n",
    "    # Input arguments\n",
    "    seeds = list(np.random.randint(low=0, high=100 * niters, size=niters))\n",
    "    args_list = [[s, spec, spec_err, lambda_vals_A] for s in seeds]\n",
    "\n",
    "    # Run in parallel\n",
    "    print(f\"Running ppxf on {nthreads} threads...\")\n",
    "    t = time()\n",
    "    with multiprocessing.Pool(nthreads) as pool:\n",
    "        pp_list = list(tqdm(pool.imap(ppxf_helper, args_list), total=niters))\n",
    "    print(f\"Elapsed time in ppxf: {time() - t:.2f} s\")\n",
    "\n",
    "    ###########################################################################\n",
    "    # Compute the mass-weighted age from the MC runs\n",
    "    ###########################################################################\n",
    "    log_age_mw_list = []\n",
    "    for pp in pp_list:\n",
    "        log_age_mw, _ = calculate_mw_age(pp.weights_mass_weighted, age_thresh=1e9, ages=ages)\n",
    "        log_age_mw_list.append(log_age_mw)\n",
    "    log_age_mw_MC = np.nanmean(log_age_mw_list)\n",
    "    log_age_mw_MC_err = np.nanstd(log_age_mw_list)\n",
    "\n",
    "    ###########################################################################\n",
    "    # Add variables to DataFrame\n",
    "    ###########################################################################\n",
    "    df = df.append({\n",
    "        \"AGN continuum?\": True if ll > 0 else False,\n",
    "        \"log L_NT\": log_L_NT,\n",
    "        \"alpha_nu\": alpha_nu,\n",
    "        \"log mass-weighted mean age <1Gyr (input)\": log_age_mw_original,\n",
    "        \"log mass-weighted mean age <1Gyr (MC)\": log_age_mw_MC,\n",
    "        \"log mass-weighted mean age <1Gyr (MC) error\": log_age_mw_MC_err,\n",
    "    }, ignore_index=True)\n"
   ]
  },
  {
   "cell_type": "code",
   "execution_count": 39,
   "metadata": {
    "scrolled": true
   },
   "outputs": [
    {
     "data": {
      "application/vnd.jupyter.widget-view+json": {
       "model_id": "ef4966d1d23046a5b8570f2fc2a3ac77",
       "version_major": 2,
       "version_minor": 0
      },
      "text/plain": [
       "Canvas(toolbar=Toolbar(toolitems=[('Home', 'Reset original view', 'home', 'home'), ('Back', 'Back to previous …"
      ]
     },
     "metadata": {},
     "output_type": "display_data"
    },
    {
     "data": {
      "text/plain": [
       "Text(0.5, 1.0, 'Effect of AGN continuum ($\\\\alpha_\\\\nu = 1.5$)')"
      ]
     },
     "execution_count": 39,
     "metadata": {},
     "output_type": "execute_result"
    }
   ],
   "source": [
    "########################################################\n",
    "# Plot the recovered mass-weighted mean age vs. L_NT\n",
    "########################################################\n",
    "fig = plt.figure(figsize=(10, 5))\n",
    "ax = fig.add_axes([0.1, 0.15, 0.5, 0.75])\n",
    "\n",
    "# Actual value\n",
    "ax.axhline(df[\"log mass-weighted mean age <1Gyr (input)\"].unique()[0], color=\"gray\", label=\"Actual value\")\n",
    "\n",
    "# MC run w/o AGN continuum\n",
    "cond = df[\"AGN continuum?\"] == False\n",
    "ax.axhspan(ymin=df.loc[cond, \"log mass-weighted mean age <1Gyr (MC)\"].values[0] - df.loc[cond, \"log mass-weighted mean age <1Gyr (MC) error\"].values[0],\n",
    "           ymax=df.loc[cond, \"log mass-weighted mean age <1Gyr (MC)\"].values[0] + df.loc[cond, \"log mass-weighted mean age <1Gyr (MC) error\"].values[0],\n",
    "           color=\"pink\", alpha=0.5)\n",
    "ax.axhline(df.loc[cond, \"log mass-weighted mean age <1Gyr (MC)\"].values[0], color=\"pink\", label=\"MC estimate (no AGN continuum)\")\n",
    "\n",
    "# Results from MC runs\n",
    "cond = df[\"AGN continuum?\"] == True\n",
    "ax.errorbar(x=df.loc[cond, \"log L_NT\"].values, \n",
    "            y=df.loc[cond, \"log mass-weighted mean age <1Gyr (MC)\"].values, \n",
    "            yerr=df.loc[cond, \"log mass-weighted mean age <1Gyr (MC) error\"].values,\n",
    "            linestyle=\"none\", marker=\"D\", label=\"MC estimate\", zorder=999)\n",
    "\n",
    "# Decorations\n",
    "ax.set_xlabel(r\"$\\log_{10} \\,L_{\\rm NT}$\")\n",
    "ax.set_ylabel(r\"Mass-weighted mean age < 1 Gyr (log yr)\")\n",
    "ax.grid()\n",
    "ax.legend(bbox_to_anchor=[1.05, 0.5], loc=\"center left\")\n",
    "ax.set_title(r\"Effect of AGN continuum ($\\alpha_\\nu = %.1f$)\" % alpha_nu)\n"
   ]
  },
  {
   "cell_type": "code",
   "execution_count": 117,
   "metadata": {},
   "outputs": [],
   "source": [
    "plt.close(\"all\")"
   ]
  },
  {
   "cell_type": "markdown",
   "metadata": {},
   "source": [
    "### What effect does the *slope* of the AGN continuum have on the recovered SFH?\n",
    "---\n",
    "Using an MC approach to estimate the mass-weighted age of the stellar population <1 Gyr, we will run ppxf on spectra with the same underlying SFH, but an AGN continuum that varies in slope (parameterised by $\\alpha_\\nu$), keeping $L_{\\rm NT}$ fixed."
   ]
  },
  {
   "cell_type": "code",
   "execution_count": 51,
   "metadata": {},
   "outputs": [],
   "source": [
    "alpha_nu_vals = [0] + list(np.linspace(0.3, 2.1, 5))  # What is a typical value for low-z Seyfert galaxies?\n",
    "log_L_NT = 43"
   ]
  },
  {
   "cell_type": "code",
   "execution_count": 52,
   "metadata": {},
   "outputs": [
    {
     "data": {
      "text/plain": [
       "[0, 0.3, 0.75, 1.2, 1.6500000000000001, 2.1]"
      ]
     },
     "execution_count": 52,
     "metadata": {},
     "output_type": "execute_result"
    }
   ],
   "source": [
    "alpha_nu_vals"
   ]
  },
  {
   "cell_type": "code",
   "execution_count": 54,
   "metadata": {},
   "outputs": [
    {
     "name": "stderr",
     "output_type": "stream",
     "text": [
      "/pkg/linux/anaconda-20191122/anaconda3/lib/python3.7/site-packages/ipykernel_launcher.py:11: RuntimeWarning: More than 20 figures have been opened. Figures created through the pyplot interface (`matplotlib.pyplot.figure`) are retained until explicitly closed and may consume too much memory. (To control this warning, see the rcParam `figure.max_open_warning`).\n",
      "  # This is added back by InteractiveShellApp.init_path()\n"
     ]
    },
    {
     "data": {
      "application/vnd.jupyter.widget-view+json": {
       "model_id": "ea29a17530d64c47aaa231b35a206b11",
       "version_major": 2,
       "version_minor": 0
      },
      "text/plain": [
       "Canvas(toolbar=Toolbar(toolitems=[('Home', 'Reset original view', 'home', 'home'), ('Back', 'Back to previous …"
      ]
     },
     "metadata": {},
     "output_type": "display_data"
    },
    {
     "name": "stdout",
     "output_type": "stream",
     "text": [
      "Running ppxf on 20 threads...\n"
     ]
    },
    {
     "data": {
      "application/vnd.jupyter.widget-view+json": {
       "model_id": "34f43577e09d4be0990816031b062c93",
       "version_major": 2,
       "version_minor": 0
      },
      "text/plain": [
       "HBox(children=(IntProgress(value=0), HTML(value='')))"
      ]
     },
     "metadata": {},
     "output_type": "display_data"
    },
    {
     "name": "stdout",
     "output_type": "stream",
     "text": [
      "\n",
      "Elapsed time in ppxf: 195.83 s\n",
      "Running ppxf on 20 threads...\n"
     ]
    },
    {
     "data": {
      "application/vnd.jupyter.widget-view+json": {
       "model_id": "bdd16c061b4c41829f80f088f64f9dad",
       "version_major": 2,
       "version_minor": 0
      },
      "text/plain": [
       "HBox(children=(IntProgress(value=0), HTML(value='')))"
      ]
     },
     "metadata": {},
     "output_type": "display_data"
    },
    {
     "name": "stdout",
     "output_type": "stream",
     "text": [
      "\n",
      "Elapsed time in ppxf: 208.30 s\n",
      "Running ppxf on 20 threads...\n"
     ]
    },
    {
     "data": {
      "application/vnd.jupyter.widget-view+json": {
       "model_id": "43c2110061f8414895b8da8563c6664c",
       "version_major": 2,
       "version_minor": 0
      },
      "text/plain": [
       "HBox(children=(IntProgress(value=0), HTML(value='')))"
      ]
     },
     "metadata": {},
     "output_type": "display_data"
    },
    {
     "name": "stdout",
     "output_type": "stream",
     "text": [
      "\n",
      "Elapsed time in ppxf: 206.95 s\n",
      "Running ppxf on 20 threads...\n"
     ]
    },
    {
     "data": {
      "application/vnd.jupyter.widget-view+json": {
       "model_id": "b0bd5bd06d3242d796aac8d22b6c3969",
       "version_major": 2,
       "version_minor": 0
      },
      "text/plain": [
       "HBox(children=(IntProgress(value=0), HTML(value='')))"
      ]
     },
     "metadata": {},
     "output_type": "display_data"
    },
    {
     "name": "stdout",
     "output_type": "stream",
     "text": [
      "\n",
      "Elapsed time in ppxf: 198.27 s\n",
      "Running ppxf on 20 threads...\n"
     ]
    },
    {
     "data": {
      "application/vnd.jupyter.widget-view+json": {
       "model_id": "4144147967e24611b199aa589c638326",
       "version_major": 2,
       "version_minor": 0
      },
      "text/plain": [
       "HBox(children=(IntProgress(value=0), HTML(value='')))"
      ]
     },
     "metadata": {},
     "output_type": "display_data"
    },
    {
     "name": "stdout",
     "output_type": "stream",
     "text": [
      "\n",
      "Elapsed time in ppxf: 201.14 s\n",
      "Running ppxf on 20 threads...\n"
     ]
    },
    {
     "data": {
      "application/vnd.jupyter.widget-view+json": {
       "model_id": "0c97ae3c2d6a4e9cbe07e5a17a9ff50a",
       "version_major": 2,
       "version_minor": 0
      },
      "text/plain": [
       "HBox(children=(IntProgress(value=0), HTML(value='')))"
      ]
     },
     "metadata": {},
     "output_type": "display_data"
    },
    {
     "name": "stdout",
     "output_type": "stream",
     "text": [
      "\n",
      "Elapsed time in ppxf: 227.49 s\n"
     ]
    }
   ],
   "source": [
    "###############################################################################\n",
    "# The effect of the exponent of the AGN continuum on the recovered SFH\n",
    "###############################################################################\n",
    "# Run ppxf (MC runs only, to save time) on spectra with the same underlying SFH, but an AGN continuum varying in power-law index.\n",
    "\n",
    "\n",
    "# DataFrame for storing results\n",
    "df = pd.DataFrame()\n",
    "\n",
    "# Figure for plotting & comparing spectra\n",
    "fig, ax = plt.subplots(nrows=1, ncols=1, figsize=(10, 4))\n",
    "ax.set_xlabel(\"Observed wavelength (Å)\")\n",
    "ax.set_ylabel(r\"$F_\\lambda(\\lambda)\\,(erg\\,s^{-1}\\,Å^{-1})$\")\n",
    "\n",
    "# ppxf settings\n",
    "niters = 100\n",
    "nthreads = 20\n",
    "\n",
    "for aa, alpha_nu in enumerate(alpha_nu_vals):\n",
    "        ###########################################################################\n",
    "        # Create spectrum\n",
    "        ###########################################################################\n",
    "        spec, spec_err, lambda_vals_A = create_mock_spectrum(\n",
    "            sfh_mass_weighted=sfh_mw_original,\n",
    "            agn_continuum=True if aa > 0 else False, L_NT_erg_s=10**log_L_NT, alpha_nu=alpha_nu,\n",
    "            isochrones=isochrones, z=z, SNR=SNR, sigma_star_kms=sigma_star_kms,\n",
    "            plotit=False)\n",
    "\n",
    "        # Compute mass-weighted mean age of the stellar pop. < 1 Gyr old\n",
    "        log_age_mw_original, log_age_mw_original_idx = calculate_mw_age(sfh_mw_original, age_thresh=1e9, ages=ages)\n",
    "\n",
    "        # Add to plot \n",
    "        ax.errorbar(x=lambda_vals_A, y=spec, yerr=spec_err, \n",
    "                    label=r\"$L_{\\rm NT} = 10^{%.1f} \\,\\rm erg\\,s^{-1}, \\alpha_\\nu = %.1f$\" % (log_L_NT, alpha_nu) if aa > 0 else \"No AGN continuum\")\n",
    "\n",
    "        ###########################################################################\n",
    "        # Run ppxf WITHOUT regularisation, using a MC approach\n",
    "        ###########################################################################\n",
    "        # Input arguments\n",
    "        seeds = list(np.random.randint(low=0, high=100 * niters, size=niters))\n",
    "        args_list = [[s, spec, spec_err, lambda_vals_A] for s in seeds]\n",
    "\n",
    "        # Run in parallel\n",
    "        print(f\"Running ppxf on {nthreads} threads...\")\n",
    "        t = time()\n",
    "        with multiprocessing.Pool(nthreads) as pool:\n",
    "            pp_list = list(tqdm(pool.imap(ppxf_helper, args_list), total=niters))\n",
    "        print(f\"Elapsed time in ppxf: {time() - t:.2f} s\")\n",
    "\n",
    "        ###########################################################################\n",
    "        # Compute the mass-weighted age from the MC runs\n",
    "        ###########################################################################\n",
    "        log_age_mw_list = []\n",
    "        for pp in pp_list:\n",
    "            log_age_mw, _ = calculate_mw_age(pp.weights_mass_weighted, age_thresh=1e9, ages=ages)\n",
    "            log_age_mw_list.append(log_age_mw)\n",
    "        log_age_mw_MC = np.nanmean(log_age_mw_list)\n",
    "        log_age_mw_MC_err = np.nanstd(log_age_mw_list)\n",
    "\n",
    "        ###########################################################################\n",
    "        # Add variables to DataFrame\n",
    "        ###########################################################################\n",
    "        df = df.append({\n",
    "            \"AGN continuum?\": True if aa > 0 else False,\n",
    "            \"log L_NT\": log_L_NT,\n",
    "            \"alpha_nu\": alpha_nu,\n",
    "            \"log mass-weighted mean age <1Gyr (input)\": log_age_mw_original,\n",
    "            \"log mass-weighted mean age <1Gyr (MC)\": log_age_mw_MC,\n",
    "            \"log mass-weighted mean age <1Gyr (MC) error\": log_age_mw_MC_err,\n",
    "        }, ignore_index=True)\n",
    "\n",
    "ax.legend()\n",
    "ax.set_yscale(\"log\")\n",
    "ax.autoscale(axis=\"x\", tight=True, enable=True)"
   ]
  },
  {
   "cell_type": "code",
   "execution_count": 55,
   "metadata": {},
   "outputs": [
    {
     "name": "stderr",
     "output_type": "stream",
     "text": [
      "/pkg/linux/anaconda-20191122/anaconda3/lib/python3.7/site-packages/ipykernel_launcher.py:4: RuntimeWarning: More than 20 figures have been opened. Figures created through the pyplot interface (`matplotlib.pyplot.figure`) are retained until explicitly closed and may consume too much memory. (To control this warning, see the rcParam `figure.max_open_warning`).\n",
      "  after removing the cwd from sys.path.\n"
     ]
    },
    {
     "data": {
      "application/vnd.jupyter.widget-view+json": {
       "model_id": "a1befabd044047338e960f495d0ad5ca",
       "version_major": 2,
       "version_minor": 0
      },
      "text/plain": [
       "Canvas(toolbar=Toolbar(toolitems=[('Home', 'Reset original view', 'home', 'home'), ('Back', 'Back to previous …"
      ]
     },
     "metadata": {},
     "output_type": "display_data"
    },
    {
     "data": {
      "text/plain": [
       "Text(0.5, 1.0, 'Effect of AGN continuum ($\\\\log_{10} \\\\, L_{\\\\rm NT} = 43.0$)')"
      ]
     },
     "execution_count": 55,
     "metadata": {},
     "output_type": "execute_result"
    }
   ],
   "source": [
    "########################################################\n",
    "# Plot the recovered mass-weighted mean age vs. alpha_nu\n",
    "########################################################\n",
    "fig = plt.figure(figsize=(10, 5))\n",
    "ax = fig.add_axes([0.1, 0.15, 0.5, 0.75])\n",
    "\n",
    "# Actual value\n",
    "ax.axhline(df[\"log mass-weighted mean age <1Gyr (input)\"].unique()[0], color=\"gray\", label=\"Actual value\")\n",
    "\n",
    "# MC run w/o AGN continuum\n",
    "cond = df[\"AGN continuum?\"] == False\n",
    "ax.axhspan(ymin=df.loc[cond, \"log mass-weighted mean age <1Gyr (MC)\"].values[0] - df.loc[cond, \"log mass-weighted mean age <1Gyr (MC) error\"].values[0],\n",
    "           ymax=df.loc[cond, \"log mass-weighted mean age <1Gyr (MC)\"].values[0] + df.loc[cond, \"log mass-weighted mean age <1Gyr (MC) error\"].values[0],\n",
    "           color=\"pink\", alpha=0.5)\n",
    "ax.axhline(df.loc[cond, \"log mass-weighted mean age <1Gyr (MC)\"].values[0], color=\"pink\", label=\"MC estimate (no AGN continuum)\")\n",
    "\n",
    "# Results from MC runs\n",
    "cond = df[\"AGN continuum?\"] == True\n",
    "ax.errorbar(x=df.loc[cond, \"alpha_nu\"].values, \n",
    "            y=df.loc[cond, \"log mass-weighted mean age <1Gyr (MC)\"].values, \n",
    "            yerr=df.loc[cond, \"log mass-weighted mean age <1Gyr (MC) error\"].values,\n",
    "            linestyle=\"none\", marker=\"D\", label=\"MC estimate\", zorder=999)\n",
    "\n",
    "# Decorations\n",
    "ax.set_xlabel(r\"$\\alpha_\\nu$\")\n",
    "ax.set_ylabel(r\"Mass-weighted mean age < 1 Gyr (log yr)\")\n",
    "ax.grid()\n",
    "ax.legend(bbox_to_anchor=[1.05, 0.5], loc=\"center left\")\n",
    "ax.set_title(r\"Effect of AGN continuum ($\\log_{10} \\, L_{\\rm NT} = %.1f$)\" % log_L_NT)\n"
   ]
  },
  {
   "cell_type": "code",
   "execution_count": null,
   "metadata": {},
   "outputs": [],
   "source": []
  }
 ],
 "metadata": {
  "kernelspec": {
   "display_name": "Python 3",
   "language": "python",
   "name": "python3"
  },
  "language_info": {
   "codemirror_mode": {
    "name": "ipython",
    "version": 3
   },
   "file_extension": ".py",
   "mimetype": "text/x-python",
   "name": "python",
   "nbconvert_exporter": "python",
   "pygments_lexer": "ipython3",
   "version": "3.7.4"
  }
 },
 "nbformat": 4,
 "nbformat_minor": 2
}
