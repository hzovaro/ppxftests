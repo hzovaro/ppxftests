{
 "cells": [
  {
   "cell_type": "markdown",
   "metadata": {},
   "source": [
    "# Test: the impact of an AGN power-law continuum\n",
    "---\n",
    "What effect does the inclusion of an AGN power-law continuum have upon the recovered SFH?"
   ]
  },
  {
   "cell_type": "code",
   "execution_count": 1,
   "metadata": {},
   "outputs": [],
   "source": [
    "%matplotlib widget"
   ]
  },
  {
   "cell_type": "code",
   "execution_count": 2,
   "metadata": {},
   "outputs": [
    {
     "data": {
      "text/html": [
       "<style>.container { width:75% !important; }</style>"
      ],
      "text/plain": [
       "<IPython.core.display.HTML object>"
      ]
     },
     "metadata": {},
     "output_type": "display_data"
    },
    {
     "data": {
      "text/html": [
       "<style>.output_result { max-width:75% !important; }</style>"
      ],
      "text/plain": [
       "<IPython.core.display.HTML object>"
      ]
     },
     "metadata": {},
     "output_type": "display_data"
    }
   ],
   "source": [
    "from IPython.core.display import display, HTML\n",
    "display(HTML(\"<style>.container { width:75% !important; }</style>\"))\n",
    "display(HTML(\"<style>.output_result { max-width:75% !important; }</style>\"))"
   ]
  },
  {
   "cell_type": "code",
   "execution_count": 83,
   "metadata": {},
   "outputs": [],
   "source": [
    "import os\n",
    "import numpy as np\n",
    "from numpy.random import RandomState\n",
    "from time import time \n",
    "from tqdm.notebook import tqdm\n",
    "from itertools import product\n",
    "import multiprocessing\n",
    "import pandas as pd\n",
    "\n",
    "from astropy.io import fits\n",
    "\n",
    "from ppxftests.run_ppxf import run_ppxf\n",
    "from ppxftests.ssputils import load_ssp_templates, get_bin_edges_and_widths\n",
    "from ppxftests.mockspec import create_mock_spectrum\n",
    "from ppxftests.sfhutils import load_sfh, compute_mw_age, compute_lw_age, compute_mass\n",
    "from ppxftests.sfhutils import compute_mean_age, compute_mean_mass, compute_mean_sfr, compute_mean_1D_sfh\n",
    "from ppxftests.ppxf_plot import plot_sfh_mass_weighted, plot_sfh_light_weighted\n",
    "\n",
    "import matplotlib\n",
    "import matplotlib.pyplot as plt\n",
    "from matplotlib.backends.backend_pdf import PdfPages\n",
    "plt.ion()\n",
    "plt.close(\"all\")\n",
    "\n",
    "from IPython.core.debugger import Tracer\n",
    "\n",
    "fig_path = \"/priv/meggs3/u5708159/ppxftests/figs/\"\n",
    "data_path = \"/priv/meggs3/u5708159/ppxftests/\"\n"
   ]
  },
  {
   "cell_type": "markdown",
   "metadata": {},
   "source": [
    "### Defining the AGN continuum\n",
    "---\n",
    "In this work, we approximate the AGN continuum as a simple power law,\n",
    "\n",
    "$$F_{\\rm AGN}(\\lambda) = F_0 \\lambda^{-\\alpha_{\\lambda}}$$\n",
    "\n",
    "where the exponent $\\alpha_{\\lambda} = 2 -\\alpha_{\\nu}$ where $\\alpha_{\\nu}$ can range from 1.2 - 2.0 (Groves et al. 2004). \n",
    "\n",
    "To determine reasonable values for $F_0$, we use the tight correlation between the total H$\\beta$ luminosity, $L_{\\rm H\\beta}$, and $L_{\\rm NT}$, which is defined as the total luminosity of the AGN continuum between 3000 Å and 9500 Å (Neugebauer et al. 1979, Yee 1980), i.e.,\n",
    "\n",
    "$$L_{\\rm NT} = \\int^{9500\\,Å}_{3000\\,Å} F_{\\rm AGN}(\\lambda) d\\lambda \n",
    "= \\int^{9500\\,Å}_{3000\\,Å} F_0 \\lambda^{-\\alpha_{\\lambda}} d\\lambda \n",
    "= \\frac{F_0}{1 - \\alpha_\\lambda}\\left(9500^{1 - \\alpha_\\lambda} - 3000^{1 - \\alpha_\\lambda} \\right)$$\n",
    "\n",
    "where $F_{\\rm AGN}(\\lambda)$ is the AGN continuum. In a sample of AGN including quasars, broad & narrow-line radio galaxies and Seyfert 1 & 2 galaxies, Yee (1980) observed a tight correlation such that \n",
    "\n",
    "$$L_{\\rm NT} \\approx 80 L_{\\rm H\\beta}$$\n",
    "\n",
    "*Note: equation from [Peterson textbook. eqn. 5.53, p. 90](https://books.google.com.au/books?id=ok4EFlPMStwC&pg=PA90&lpg=PA90&dq=Lnt+agn+continuum&source=bl&ots=QfVvXob4vM&sig=ACfU3U0x69gKrkN-lALkIu0EROAUh1-1vw&hl=en&sa=X&ved=2ahUKEwjW_8fPvqv1AhWXTWwGHarhALcQ6AF6BAgXEAM#v=onepage&q=Lnt%20agn%20continuum&f=false).* \n",
    "Referring to table 2 of Dopita et al. (2015), $\\log_{10} L_{\\rm H\\beta} \\sim 39 - 42$ in the NLRs of S7 galaxies.\n",
    "We therefore use our adopted $L_{\\rm H\\beta}$ in the emission lines to constrain the strength of the AGN continuum in our mock spectra, so that \n",
    "\n",
    "$$ F_0 = \\frac{80 L_{\\rm H\\beta}({1 - \\alpha_\\lambda})}{\\left(9500^{1 - \\alpha_\\lambda} - 3000^{1 - \\alpha_\\lambda} \\right)} $$\n",
    "\n"
   ]
  },
  {
   "cell_type": "code",
   "execution_count": 4,
   "metadata": {
    "scrolled": false
   },
   "outputs": [
    {
     "data": {
      "application/vnd.jupyter.widget-view+json": {
       "model_id": "f72cbc3975a548a6903f46c34e24aa1b",
       "version_major": 2,
       "version_minor": 0
      },
      "text/plain": [
       "Canvas(toolbar=Toolbar(toolitems=[('Home', 'Reset original view', 'home', 'home'), ('Back', 'Back to previous …"
      ]
     },
     "metadata": {},
     "output_type": "display_data"
    },
    {
     "data": {
      "text/plain": [
       "Text(0.5, 1.0, 'AGN power-law continuum ($L_{\\\\rm NT} = 10^{41}\\\\,\\\\rm erg\\\\,s^{-1}$)')"
      ]
     },
     "execution_count": 4,
     "metadata": {},
     "output_type": "execute_result"
    }
   ],
   "source": [
    "###########################################################################\n",
    "# Defining the AGN continuum using the method of Yee 1980\n",
    "###########################################################################\n",
    "L_NT = 1e41\n",
    "\n",
    "fig, ax = plt.subplots(nrows=1, ncols=1)\n",
    "for alpha_nu in [0.3, 0.5, 0.7, 1.1, 1.2, 1.3, 1.5, 1.7, 2.0]:\n",
    "    # Compute the continuum normalisation\n",
    "    alpha_lambda = 2 - alpha_nu\n",
    "    F_lambda_0 = L_NT * (1 - alpha_lambda) / (9500**(1 - alpha_lambda) - 3000**(1 - alpha_lambda))\n",
    "\n",
    "    # Compute the continuum\n",
    "    lambda_vals_A = np.linspace(3000, 9500, 1e3)\n",
    "    F_lambda = F_lambda_0 * lambda_vals_A**(-alpha_lambda)\n",
    "\n",
    "    ax.plot(lambda_vals_A, F_lambda, label=r\"$\\alpha_\\nu =$\" + f\"{alpha_nu:.1f}\")\n",
    "    ax.set_xlabel(\"$\\lambda$ (Å)\")\n",
    "    ax.set_ylabel(\"$F(\\lambda)$ (erg/s/Å)\")\n",
    "ax.autoscale(axis=\"x\", tight=True, enable=True)\n",
    "ax.legend()\n",
    "ax.axvline(3500, color=\"grey\")\n",
    "ax.axvline(7000, color=\"grey\")\n",
    "ax.set_title(r\"AGN power-law continuum ($L_{\\rm NT} = 10^{41}\\,\\rm erg\\,s^{-1}$)\")\n",
    "\n"
   ]
  },
  {
   "cell_type": "markdown",
   "metadata": {},
   "source": [
    "# Varying both $L_{\\rm NT}$ and $\\alpha_\\nu$\n",
    "---"
   ]
  },
  {
   "cell_type": "code",
   "execution_count": 13,
   "metadata": {},
   "outputs": [],
   "source": [
    "###############################################################################\n",
    "# Settings\n",
    "###############################################################################\n",
    "isochrones = \"Padova\"\n",
    "SNR = 100\n",
    "z = 0.01\n",
    "\n",
    "# Get the age & metallicity dimensions\n",
    "_, _, metallicities, ages = load_ssp_templates(isochrones)\n",
    "N_ages = len(ages)\n",
    "N_metallicities = len(metallicities)\n",
    "bin_edges, bin_widths = get_bin_edges_and_widths(isochrones=isochrones)\n",
    "\n",
    "# ppxf settings\n",
    "niters = 100\n",
    "nthreads = 20\n",
    "\n",
    "# For analysis\n",
    "lambda_norm_A = 5000\n",
    "age_thresh_vals = [None, 1e9, None]\n",
    "\n",
    "# Parameters\n",
    "# alpha_nu_vals = np.linspace(0.3, 2.1, 5)  # What is a typical value for low-z Seyfert galaxies?\n",
    "# log_L_NT_vals = np.linspace(42, 44, 5)\n",
    "alpha_nu_vals = [0.3, 2.0]\n",
    "log_L_NT_vals = [42, 43, 44]\n"
   ]
  },
  {
   "cell_type": "code",
   "execution_count": 8,
   "metadata": {},
   "outputs": [],
   "source": [
    "###########################################################################\n",
    "# Helper function for running MC simulations\n",
    "###########################################################################\n",
    "def ppxf_helper(args):\n",
    "    # Unpack arguments\n",
    "    seed, spec, spec_err, lambda_vals_A = args\n",
    "    \n",
    "    # Add \"extra\" noise to the spectrum\n",
    "    rng = RandomState(seed)\n",
    "    noise = rng.normal(scale=spec_err)\n",
    "    spec_noise = spec + noise\n",
    "\n",
    "    # This is to mitigate the \"edge effects\" of the convolution with the LSF\n",
    "    spec_noise[0] = -9999\n",
    "    spec_noise[-1] = -9999\n",
    "\n",
    "    # Run ppxf\n",
    "    pp = run_ppxf(spec=spec_noise, spec_err=spec_err, lambda_vals_A=lambda_vals_A,\n",
    "                  z=z, ngascomponents=1,\n",
    "                  regularisation_method=\"none\", \n",
    "                  isochrones=\"Padova\",\n",
    "                  fit_gas=False, tie_balmer=True,\n",
    "                  plotit=False, savefigs=False, interactive_mode=False)\n",
    "    return pp\n"
   ]
  },
  {
   "cell_type": "code",
   "execution_count": 15,
   "metadata": {},
   "outputs": [
    {
     "data": {
      "application/vnd.jupyter.widget-view+json": {
       "model_id": "b2cfb081f5974630948ffe9105c3591e",
       "version_major": 2,
       "version_minor": 0
      },
      "text/plain": [
       "Canvas(toolbar=Toolbar(toolitems=[('Home', 'Reset original view', 'home', 'home'), ('Back', 'Back to previous …"
      ]
     },
     "metadata": {},
     "output_type": "display_data"
    },
    {
     "data": {
      "application/vnd.jupyter.widget-view+json": {
       "model_id": "0d72d3635acd4a4a89cb92e7c0f3f26a",
       "version_major": 2,
       "version_minor": 0
      },
      "text/plain": [
       "Canvas(toolbar=Toolbar(toolitems=[('Home', 'Reset original view', 'home', 'home'), ('Back', 'Back to previous …"
      ]
     },
     "metadata": {},
     "output_type": "display_data"
    },
    {
     "data": {
      "application/vnd.jupyter.widget-view+json": {
       "model_id": "e441ac2f66ae43c7a06baa8eaa840768",
       "version_major": 2,
       "version_minor": 0
      },
      "text/plain": [
       "Canvas(toolbar=Toolbar(toolitems=[('Home', 'Reset original view', 'home', 'home'), ('Back', 'Back to previous …"
      ]
     },
     "metadata": {},
     "output_type": "display_data"
    },
    {
     "ename": "NameError",
     "evalue": "name 'sfh_mw_imput' is not defined",
     "output_type": "error",
     "traceback": [
      "\u001b[0;31m---------------------------------------------------------------------------\u001b[0m",
      "\u001b[0;31mNameError\u001b[0m                                 Traceback (most recent call last)",
      "\u001b[0;32m<ipython-input-15-67940694b5a8>\u001b[0m in \u001b[0;36m<module>\u001b[0;34m\u001b[0m\n\u001b[1;32m      4\u001b[0m \u001b[0mgal\u001b[0m \u001b[0;34m=\u001b[0m \u001b[0;36m10\u001b[0m\u001b[0;34m\u001b[0m\u001b[0;34m\u001b[0m\u001b[0m\n\u001b[1;32m      5\u001b[0m \u001b[0msfh_mw_input\u001b[0m\u001b[0;34m,\u001b[0m \u001b[0msfh_lw_input\u001b[0m\u001b[0;34m,\u001b[0m \u001b[0msfr_avg_input\u001b[0m\u001b[0;34m,\u001b[0m \u001b[0msigma_gas_kms\u001b[0m \u001b[0;34m=\u001b[0m \u001b[0mload_sfh\u001b[0m\u001b[0;34m(\u001b[0m\u001b[0mgal\u001b[0m\u001b[0;34m,\u001b[0m \u001b[0mplotit\u001b[0m\u001b[0;34m=\u001b[0m\u001b[0;32mTrue\u001b[0m\u001b[0;34m)\u001b[0m\u001b[0;34m\u001b[0m\u001b[0;34m\u001b[0m\u001b[0m\n\u001b[0;32m----> 6\u001b[0;31m \u001b[0mM_tot\u001b[0m \u001b[0;34m=\u001b[0m \u001b[0mnp\u001b[0m\u001b[0;34m.\u001b[0m\u001b[0mnansum\u001b[0m\u001b[0;34m(\u001b[0m\u001b[0msfh_mw_imput\u001b[0m\u001b[0;34m)\u001b[0m\u001b[0;34m\u001b[0m\u001b[0;34m\u001b[0m\u001b[0m\n\u001b[0m\u001b[1;32m      7\u001b[0m \u001b[0;34m\u001b[0m\u001b[0m\n\u001b[1;32m      8\u001b[0m \u001b[0;31m# Create the spectrum here, just so we can check it looks OK\u001b[0m\u001b[0;34m\u001b[0m\u001b[0;34m\u001b[0m\u001b[0;34m\u001b[0m\u001b[0m\n",
      "\u001b[0;31mNameError\u001b[0m: name 'sfh_mw_imput' is not defined"
     ]
    }
   ],
   "source": [
    "###############################################################################\n",
    "# Load a realistic SFH\n",
    "###############################################################################\n",
    "gal = 10\n",
    "sfh_mw_input, sfh_lw_input, sfr_avg_input, sigma_gas_kms = load_sfh(gal, plotit=True)\n",
    "M_tot = np.nansum(sfh_mw_input)\n",
    "\n",
    "# Create the spectrum here, just so we can check it looks OK\n",
    "create_mock_spectrum(\n",
    "    sfh_mass_weighted=sfh_mw_input,\n",
    "    isochrones=isochrones, z=z, SNR=SNR, sigma_star_kms=sigma_star_kms,\n",
    "    plotit=True)\n"
   ]
  },
  {
   "cell_type": "code",
   "execution_count": 12,
   "metadata": {},
   "outputs": [
    {
     "data": {
      "application/vnd.jupyter.widget-view+json": {
       "model_id": "4734919c170f44a9a87c557a9391e83a",
       "version_major": 2,
       "version_minor": 0
      },
      "text/plain": [
       "Canvas(toolbar=Toolbar(toolitems=[('Home', 'Reset original view', 'home', 'home'), ('Back', 'Back to previous …"
      ]
     },
     "metadata": {},
     "output_type": "display_data"
    }
   ],
   "source": [
    "###############################################################################\n",
    "# Before we run ppxf, plot the spectra\n",
    "###############################################################################\n",
    "fig, ax = plt.subplots(nrows=1, ncols=1, figsize=(10, 4))\n",
    "ax.set_xlabel(\"Observed wavelength (Å)\")\n",
    "ax.set_ylabel(r\"$F_\\lambda(\\lambda)\\,(erg\\,s^{-1}\\,Å^{-1})$\")\n",
    "\n",
    "# Plot spectrum without an AGN continuum added as a \"control\"\n",
    "spec, spec_err, lambda_vals_A = create_mock_spectrum(\n",
    "    sfh_mass_weighted=sfh_mw_input,\n",
    "    agn_continuum=False,\n",
    "    isochrones=isochrones, z=z, SNR=SNR, sigma_star_kms=sigma_star_kms,\n",
    "    plotit=False)\n",
    "lambda_norm_idx = np.nanargmin(np.abs(lambda_vals_A - lambda_norm_A))\n",
    "\n",
    "# Add to plot \n",
    "ax.errorbar(x=lambda_vals_A, y=spec, yerr=spec_err, label=\"No AGN continuum\", color=\"k\", zorder=10000, linewidth=0.5)\n",
    "\n",
    "for alpha_nu, log_L_NT in product(alpha_nu_vals, log_L_NT_vals):\n",
    "    # Create spectrum\n",
    "    L_NT = 10**log_L_NT\n",
    "    spec, spec_err, lambda_vals_A = create_mock_spectrum(\n",
    "        sfh_mass_weighted=sfh_mw_input,\n",
    "        agn_continuum=True, L_NT_erg_s=L_NT, alpha_nu=alpha_nu,\n",
    "        isochrones=isochrones, z=z, SNR=SNR, sigma_star_kms=sigma_star_kms,\n",
    "        plotit=False)\n",
    "\n",
    "    # Add to plot \n",
    "    ax.errorbar(x=lambda_vals_A, y=spec, yerr=spec_err, \n",
    "                label=r\"$\\alpha_\\nu = %.1f, L_{\\rm NT} = 10^{%.1f} \\,\\rm erg\\,s^{-1}$\" % (alpha_nu, log_L_NT))\n",
    "\n",
    "ax.legend(fontsize=\"x-small\")\n",
    "ax.set_yscale(\"log\")\n",
    "ax.autoscale(axis=\"x\", tight=True, enable=True)"
   ]
  },
  {
   "cell_type": "markdown",
   "metadata": {},
   "source": [
    "### Run ppxf with an added AGN continuum to investigate its effect on the recovered light/mass-weighted ages\n",
    "---"
   ]
  },
  {
   "cell_type": "code",
   "execution_count": 16,
   "metadata": {},
   "outputs": [
    {
     "name": "stdout",
     "output_type": "stream",
     "text": [
      "Running ppxf on 20 threads...\n"
     ]
    },
    {
     "data": {
      "application/vnd.jupyter.widget-view+json": {
       "model_id": "a89ea74422de480e8f3408ac9e40a100",
       "version_major": 2,
       "version_minor": 0
      },
      "text/plain": [
       "HBox(children=(IntProgress(value=0), HTML(value='')))"
      ]
     },
     "metadata": {},
     "output_type": "display_data"
    },
    {
     "name": "stdout",
     "output_type": "stream",
     "text": [
      "\n",
      "Total time in ppxf: 173.66 s\n",
      "----------------------------------------------------\n",
      "Iteration 0: Elapsed time in PPXF (single thread): 4.84 s\n",
      "----------------------------------------------------\n",
      "Iteration 1: Scaling noise by 1.4094...\n",
      "Iteration 1: Running ppxf on 20 threads...\n",
      "Iteration 1: Elapsed time in PPXF (multithreaded): 55.40 s\n",
      "Iteration 1: optimal regul = 10000.00; Δm = 2.79519e+11; Δregul = 500.00 (Δregul_min = 1.00); Δχ (goal) - Δχ = 46.040\n",
      "----------------------------------------------------\n",
      "Iteration 2: Re-running ppxf on 20 threads (iteration 2)...\n",
      "Iteration 2: Elapsed time in PPXF (multithreaded): 58.34 s\n",
      "Iteration 2: optimal regul = 20000.00; Δm = 3.00029e+09; Δregul = 500.00 (Δregul_min = 1.00); Δχ (goal) - Δχ = 36.926\n",
      "----------------------------------------------------\n",
      "Iteration 3: Re-running ppxf on 20 threads (iteration 3)...\n",
      "Iteration 3: Elapsed time in PPXF (multithreaded): 61.50 s\n",
      "Iteration 3: optimal regul = 30000.00; Δm = 2.95539e+09; Δregul = 500.00 (Δregul_min = 1.00); Δχ (goal) - Δχ = 30.495\n",
      "----------------------------------------------------\n",
      "Iteration 4: Re-running ppxf on 20 threads (iteration 4)...\n",
      "Iteration 4: Elapsed time in PPXF (multithreaded): 60.15 s\n",
      "Iteration 4: optimal regul = 40000.00; Δm = 2.63196e+09; Δregul = 500.00 (Δregul_min = 1.00); Δχ (goal) - Δχ = 25.228\n",
      "----------------------------------------------------\n",
      "Iteration 5: Re-running ppxf on 20 threads (iteration 5)...\n",
      "Iteration 5: Elapsed time in PPXF (multithreaded): 61.04 s\n",
      "Iteration 5: optimal regul = 50000.00; Δm = 2.00291e+09; Δregul = 500.00 (Δregul_min = 1.00); Δχ (goal) - Δχ = 21.155\n",
      "----------------------------------------------------\n",
      "STOPPING: Optimal regul value is >= 50000.0; using 50000.00 to produce the best fit\n",
      "Total time in run_ppxf: 302.71 seconds\n"
     ]
    }
   ],
   "source": [
    "###############################################################################\n",
    "# Run ppxf without an AGN continuum added as a \"control\"\n",
    "###############################################################################\n",
    "# Create spectrum\n",
    "spec, spec_err, lambda_vals_A = create_mock_spectrum(\n",
    "    sfh_mass_weighted=sfh_mw_input,\n",
    "    agn_continuum=False,\n",
    "    isochrones=isochrones, z=z, SNR=SNR, sigma_star_kms=sigma_star_kms,\n",
    "    plotit=False)\n",
    "\n",
    "###########################################################################\n",
    "# Run ppxf WITHOUT regularisation, using a MC approach\n",
    "###########################################################################\n",
    "# Input arguments\n",
    "seeds = list(np.random.randint(low=0, high=100 * niters, size=niters))\n",
    "args_list = [[s, spec, spec_err, lambda_vals_A] for s in seeds]\n",
    "\n",
    "# Run in parallel\n",
    "print(f\"Running ppxf on {nthreads} threads...\")\n",
    "t = time()\n",
    "with multiprocessing.Pool(nthreads) as pool:\n",
    "    pp_mc_list = list(tqdm(pool.imap(ppxf_helper, args_list), total=niters))\n",
    "print(f\"Total time in ppxf: {time() - t:.2f} s\")\n",
    "\n",
    "###########################################################################\n",
    "# Run ppxf with regularisation\n",
    "###########################################################################\n",
    "t = time()\n",
    "pp_regul = run_ppxf(spec=spec, spec_err=spec_err, lambda_vals_A=lambda_vals_A,\n",
    "              z=z, ngascomponents=1,\n",
    "              regularisation_method=\"auto\",\n",
    "              isochrones=isochrones,\n",
    "              fit_gas=False, tie_balmer=True,\n",
    "              delta_regul_min=1, regul_max=5e4, delta_delta_chi2_min=1,\n",
    "              plotit=False, savefigs=False, interactive_mode=False)\n",
    "print(f\"Total time in run_ppxf: {time() - t:.2f} seconds\")\n"
   ]
  },
  {
   "cell_type": "code",
   "execution_count": 34,
   "metadata": {},
   "outputs": [],
   "source": [
    "df = pd.DataFrame()"
   ]
  },
  {
   "cell_type": "code",
   "execution_count": 35,
   "metadata": {},
   "outputs": [],
   "source": [
    "###########################################################################\n",
    "# Compute mean quantities from the ppxf runs\n",
    "###########################################################################\n",
    "thisrow = {}  # Row to append to DataFrame\n",
    "thisrow[\"AGN continuum\"] = False\n",
    "thisrow[\"alpha_nu\"] = np.nan\n",
    "thisrow[\"log L_NT\"] = np.nan\n",
    "\n",
    "# Compute the mean SFH and SFR from the lists of MC runs\n",
    "sfh_MC_lw_1D_mean = compute_mean_1D_sfh(pp_mc_list, isochrones, \"lw\")\n",
    "sfh_MC_mw_1D_mean = compute_mean_1D_sfh(pp_mc_list, isochrones, \"mw\")\n",
    "sfr_avg_MC = compute_mean_sfr(pp_mc_list, isochrones)\n",
    "sfh_regul_mw_1D = pp_regul.sfh_mw_1D\n",
    "sfh_regul_lw_1D = pp_regul.sfh_lw_1D\n",
    "sfr_avg_regul = pp_regul.sfr_mean\n",
    "\n",
    "# Compute the mean mass- and light-weighted ages plus the total mass in a series of age ranges\n",
    "for aa in range(len(age_thresh_vals) - 1):\n",
    "    age_thresh_lower = age_thresh_vals[aa]\n",
    "    age_thresh_upper = age_thresh_vals[aa + 1]\n",
    "    \n",
    "    if age_thresh_lower is None:\n",
    "        age_thresh_lower = ages[0]\n",
    "    if age_thresh_upper is None:\n",
    "        age_thresh_upper = ages[-1]\n",
    "    age_str = f\"{np.log10(age_thresh_lower):.2f} < log t < {np.log10(age_thresh_upper):.2f}\"\n",
    "        \n",
    "    # MC runs: compute the mean mass- and light-weighted ages plus the total mass in this age range\n",
    "    age_lw_mean, age_lw_std = compute_mean_age(pp_mc_list, isochrones, \"lw\", age_thresh_lower, age_thresh_upper)\n",
    "    age_mw_mean, age_mw_std = compute_mean_age(pp_mc_list, isochrones, \"mw\", age_thresh_lower, age_thresh_upper)\n",
    "    mass_mean, mass_std = compute_mean_mass(pp_mc_list, isochrones, age_thresh_lower=age_thresh_lower, age_thresh_upper=age_thresh_upper)\n",
    "    \n",
    "    # Regul run: compute the mean mass- and light-weighted ages plus the total mass in this age range\n",
    "    age_mw_regul = 10**compute_mw_age(sfh_regul_lw_1D, isochrones=isochrones, age_thresh_lower=age_thresh_lower, age_thresh_upper=age_thresh_upper)[0]\n",
    "    age_lw_regul = 10**compute_lw_age(sfh_regul_mw_1D, isochrones=isochrones, age_thresh_lower=age_thresh_lower, age_thresh_upper=age_thresh_upper)[0]\n",
    "    mass_regul = compute_mass(sfh_regul_mw_1D, isochrones=isochrones, age_thresh_lower=age_thresh_lower, age_thresh_upper=age_thresh_upper)\n",
    "\n",
    "    # Input: compute the mean mass- and light-weighted ages plus the total mass in this age range\n",
    "    age_mw_input = 10**compute_mw_age(sfh_lw_input, isochrones=isochrones, age_thresh_lower=age_thresh_lower, age_thresh_upper=age_thresh_upper)[0]\n",
    "    age_lw_input = 10**compute_lw_age(sfh_mw_input, isochrones=isochrones, age_thresh_lower=age_thresh_lower, age_thresh_upper=age_thresh_upper)[0]\n",
    "    mass_input = compute_mass(sfh_mw_input, isochrones=isochrones, age_thresh_lower=age_thresh_lower, age_thresh_upper=age_thresh_upper)\n",
    "\n",
    "    # Put in DataFrame\n",
    "    thisrow[f\"MW age {age_str} (input)\"] = age_mw_input\n",
    "    thisrow[f\"LW age {age_str} (input)\"] = age_lw_input\n",
    "    thisrow[f\"Mass {age_str} (input)\"] = mass_input\n",
    "    thisrow[f\"MW age {age_str} (MC) mean\"] = age_mw_mean\n",
    "    thisrow[f\"LW age {age_str} (MC) mean\"] = age_lw_mean\n",
    "    thisrow[f\"Mass {age_str} (MC) mean\"] = mass_mean\n",
    "    thisrow[f\"MW age {age_str} (MC) std. dev.\"] = age_mw_std\n",
    "    thisrow[f\"LW age {age_str} (MC) std. dev.\"] = age_lw_std\n",
    "    thisrow[f\"Mass {age_str} (MC) std. dev.\"] = mass_std\n",
    "    thisrow[f\"MW age {age_str} (regularised)\"] = age_mw_regul\n",
    "    thisrow[f\"LW age {age_str} (regularised)\"] = age_lw_regul\n",
    "    thisrow[f\"Mass {age_str} (regularised)\"] = mass_regul\n",
    "\n",
    "df = df.append(thisrow, ignore_index=True)"
   ]
  },
  {
   "cell_type": "code",
   "execution_count": 39,
   "metadata": {
    "scrolled": true
   },
   "outputs": [
    {
     "name": "stdout",
     "output_type": "stream",
     "text": [
      "Running ppxf on 20 threads...\n"
     ]
    },
    {
     "data": {
      "application/vnd.jupyter.widget-view+json": {
       "model_id": "f768e2f830f34857a67eedd3e63fd5d8",
       "version_major": 2,
       "version_minor": 0
      },
      "text/plain": [
       "HBox(children=(IntProgress(value=0), HTML(value='')))"
      ]
     },
     "metadata": {},
     "output_type": "display_data"
    },
    {
     "name": "stdout",
     "output_type": "stream",
     "text": [
      "\n",
      "Total time in ppxf: 183.85 s\n",
      "----------------------------------------------------\n",
      "Iteration 0: Elapsed time in PPXF (single thread): 4.63 s\n",
      "----------------------------------------------------\n",
      "Iteration 1: Scaling noise by 1.3931...\n",
      "Iteration 1: Running ppxf on 20 threads...\n",
      "Iteration 1: Elapsed time in PPXF (multithreaded): 58.96 s\n",
      "Iteration 1: optimal regul = 10000.00; Δm = 2.63113e+11; Δregul = 500.00 (Δregul_min = 1.00); Δχ (goal) - Δχ = 43.149\n",
      "----------------------------------------------------\n",
      "Iteration 2: Re-running ppxf on 20 threads (iteration 2)...\n",
      "Iteration 2: Elapsed time in PPXF (multithreaded): 61.39 s\n",
      "Iteration 2: optimal regul = 20000.00; Δm = 9.45055e+09; Δregul = 500.00 (Δregul_min = 1.00); Δχ (goal) - Δχ = 23.045\n",
      "----------------------------------------------------\n",
      "Iteration 3: Re-running ppxf on 20 threads (iteration 3)...\n",
      "Iteration 3: Elapsed time in PPXF (multithreaded): 62.61 s\n",
      "Iteration 3: optimal regul = 30000.00; Δm = 5.27867e+09; Δregul = 500.00 (Δregul_min = 1.00); Δχ (goal) - Δχ = 8.965\n",
      "----------------------------------------------------\n",
      "Iteration 4: Re-running ppxf on 20 threads (iteration 4)...\n",
      "Iteration 4: Elapsed time in PPXF (multithreaded): 61.32 s\n",
      "Iteration 4: optimal regul = 38000.00; Δm = 3.02617e+09; Δregul = 500.00 (Δregul_min = 1.00); Δχ (goal) - Δχ = 0.040\n",
      "----------------------------------------------------\n",
      "STOPPING: Convergence criterion reached; Δχ (goal) - Δχ = 0.04004315076163323; using 38000.00 to produce the best fit\n",
      "Total time in run_ppxf: 250.34 seconds\n",
      "Running ppxf on 20 threads...\n"
     ]
    },
    {
     "data": {
      "application/vnd.jupyter.widget-view+json": {
       "model_id": "8625fd334af14e70934bae46474ffb9e",
       "version_major": 2,
       "version_minor": 0
      },
      "text/plain": [
       "HBox(children=(IntProgress(value=0), HTML(value='')))"
      ]
     },
     "metadata": {},
     "output_type": "display_data"
    },
    {
     "name": "stdout",
     "output_type": "stream",
     "text": [
      "\n",
      "Total time in ppxf: 175.80 s\n",
      "----------------------------------------------------\n",
      "Iteration 0: Elapsed time in PPXF (single thread): 3.64 s\n",
      "----------------------------------------------------\n",
      "Iteration 1: Scaling noise by 1.4126...\n",
      "Iteration 1: Running ppxf on 20 threads...\n",
      "Iteration 1: Elapsed time in PPXF (multithreaded): 57.46 s\n",
      "Iteration 1: optimal regul = 8500.00; Δm = 2.94525e+11; Δregul = 500.00 (Δregul_min = 1.00); Δχ (goal) - Δχ = 1.083\n",
      "----------------------------------------------------\n",
      "Iteration 2: Re-running ppxf on 20 threads (iteration 2)...\n",
      "Iteration 2: Elapsed time in PPXF (multithreaded): 63.25 s\n",
      "Iteration 2: optimal regul = 8400.00; Δm = 9.07374e+07; Δregul = 100.00 (Δregul_min = 1.00); Δχ (goal) - Δχ = 0.357\n",
      "----------------------------------------------------\n",
      "STOPPING: Convergence criterion reached; Δχ (goal) - Δχ = 0.35653909864910815; using 8400.00 to produce the best fit\n",
      "Total time in run_ppxf: 125.76 seconds\n",
      "Running ppxf on 20 threads...\n"
     ]
    },
    {
     "data": {
      "application/vnd.jupyter.widget-view+json": {
       "model_id": "ca138b86e2eb4953b4193f6a9db80727",
       "version_major": 2,
       "version_minor": 0
      },
      "text/plain": [
       "HBox(children=(IntProgress(value=0), HTML(value='')))"
      ]
     },
     "metadata": {},
     "output_type": "display_data"
    },
    {
     "name": "stdout",
     "output_type": "stream",
     "text": [
      "\n",
      "Total time in ppxf: 265.35 s\n",
      "----------------------------------------------------\n",
      "Iteration 0: Elapsed time in PPXF (single thread): 5.93 s\n",
      "----------------------------------------------------\n",
      "Iteration 1: Scaling noise by 1.5691...\n",
      "Iteration 1: Running ppxf on 20 threads...\n",
      "Iteration 1: Elapsed time in PPXF (multithreaded): 86.12 s\n",
      "Iteration 1: optimal regul = 0.00; Δm = 3.05882; Δregul = 500.00 (Δregul_min = 1.00); Δχ (goal) - Δχ = 95.079\n",
      "----------------------------------------------------\n",
      "Iteration 2: Re-running ppxf on 20 threads (iteration 2)...\n",
      "Iteration 2: Elapsed time in PPXF (multithreaded): 85.89 s\n",
      "Iteration 2: optimal regul = 100.00; Δm = 3.63303e+11; Δregul = 100.00 (Δregul_min = 1.00); Δχ (goal) - Δχ = 28.196\n",
      "----------------------------------------------------\n",
      "Iteration 3: Re-running ppxf on 20 threads (iteration 3)...\n",
      "Iteration 3: Elapsed time in PPXF (multithreaded): 70.70 s\n",
      "Iteration 3: optimal regul = 40.00; Δm = 7.85507e+10; Δregul = 20.00 (Δregul_min = 1.00); Δχ (goal) - Δχ = 1.974\n",
      "----------------------------------------------------\n",
      "Iteration 4: Re-running ppxf on 20 threads (iteration 4)...\n",
      "Iteration 4: Elapsed time in PPXF (multithreaded): 67.32 s\n",
      "Iteration 4: optimal regul = 40.00; Δm = 0; Δregul = 4.00 (Δregul_min = 1.00); Δχ (goal) - Δχ = 1.974\n",
      "----------------------------------------------------\n",
      "Iteration 5: Re-running ppxf on 20 threads (iteration 5)...\n",
      "Iteration 5: Elapsed time in PPXF (multithreaded): 59.33 s\n",
      "Iteration 5: optimal regul = 38.40; Δm = 3.96481e+09; Δregul = 0.80 (Δregul_min = 1.00); Δχ (goal) - Δχ = 0.271\n",
      "----------------------------------------------------\n",
      "STOPPING: Minimum spacing between regul values reached; using 38.40 to produce the best fit\n",
      "Total time in run_ppxf: 376.68 seconds\n",
      "Running ppxf on 20 threads...\n"
     ]
    },
    {
     "data": {
      "application/vnd.jupyter.widget-view+json": {
       "model_id": "3b1a03e673094fdaa9d7e2e0f8b06a7f",
       "version_major": 2,
       "version_minor": 0
      },
      "text/plain": [
       "HBox(children=(IntProgress(value=0), HTML(value='')))"
      ]
     },
     "metadata": {},
     "output_type": "display_data"
    },
    {
     "name": "stdout",
     "output_type": "stream",
     "text": [
      "\n",
      "Total time in ppxf: 193.08 s\n",
      "----------------------------------------------------\n",
      "Iteration 0: Elapsed time in PPXF (single thread): 4.83 s\n",
      "----------------------------------------------------\n",
      "Iteration 1: Scaling noise by 1.3782...\n",
      "Iteration 1: Running ppxf on 20 threads...\n",
      "Iteration 1: Elapsed time in PPXF (multithreaded): 60.86 s\n",
      "Iteration 1: optimal regul = 10000.00; Δm = 2.5507e+11; Δregul = 500.00 (Δregul_min = 1.00); Δχ (goal) - Δχ = 51.857\n",
      "----------------------------------------------------\n",
      "Iteration 2: Re-running ppxf on 20 threads (iteration 2)...\n",
      "Iteration 2: Elapsed time in PPXF (multithreaded): 65.70 s\n",
      "Iteration 2: optimal regul = 20000.00; Δm = 5.84765e+09; Δregul = 500.00 (Δregul_min = 1.00); Δχ (goal) - Δχ = 44.825\n",
      "----------------------------------------------------\n",
      "Iteration 3: Re-running ppxf on 20 threads (iteration 3)...\n",
      "Iteration 3: Elapsed time in PPXF (multithreaded): 67.86 s\n",
      "Iteration 3: optimal regul = 30000.00; Δm = 3.52356e+09; Δregul = 500.00 (Δregul_min = 1.00); Δχ (goal) - Δχ = 39.307\n",
      "----------------------------------------------------\n",
      "Iteration 4: Re-running ppxf on 20 threads (iteration 4)...\n",
      "Iteration 4: Elapsed time in PPXF (multithreaded): 65.08 s\n",
      "Iteration 4: optimal regul = 40000.00; Δm = 2.37551e+09; Δregul = 500.00 (Δregul_min = 1.00); Δχ (goal) - Δχ = 34.661\n",
      "----------------------------------------------------\n",
      "Iteration 5: Re-running ppxf on 20 threads (iteration 5)...\n",
      "Iteration 5: Elapsed time in PPXF (multithreaded): 64.10 s\n",
      "Iteration 5: optimal regul = 50000.00; Δm = 1.39066e+09; Δregul = 500.00 (Δregul_min = 1.00); Δχ (goal) - Δχ = 31.178\n",
      "----------------------------------------------------\n",
      "STOPPING: Optimal regul value is >= 50000.0; using 50000.00 to produce the best fit\n",
      "Total time in run_ppxf: 329.79 seconds\n",
      "Running ppxf on 20 threads...\n"
     ]
    },
    {
     "data": {
      "application/vnd.jupyter.widget-view+json": {
       "model_id": "2ae1e2c1f9b84598a84bda5a286b2020",
       "version_major": 2,
       "version_minor": 0
      },
      "text/plain": [
       "HBox(children=(IntProgress(value=0), HTML(value='')))"
      ]
     },
     "metadata": {},
     "output_type": "display_data"
    },
    {
     "name": "stdout",
     "output_type": "stream",
     "text": [
      "\n",
      "Total time in ppxf: 198.64 s\n",
      "----------------------------------------------------\n",
      "Iteration 0: Elapsed time in PPXF (single thread): 4.32 s\n",
      "----------------------------------------------------\n",
      "Iteration 1: Scaling noise by 1.3922...\n",
      "Iteration 1: Running ppxf on 20 threads...\n",
      "Iteration 1: Elapsed time in PPXF (multithreaded): 61.53 s\n",
      "Iteration 1: optimal regul = 10000.00; Δm = 3.2943e+11; Δregul = 500.00 (Δregul_min = 1.00); Δχ (goal) - Δχ = 13.116\n",
      "----------------------------------------------------\n",
      "Iteration 2: Re-running ppxf on 20 threads (iteration 2)...\n",
      "Iteration 2: Elapsed time in PPXF (multithreaded): 67.18 s\n",
      "Iteration 2: optimal regul = 17000.00; Δm = 3.92924e+09; Δregul = 500.00 (Δregul_min = 1.00); Δχ (goal) - Δχ = 0.043\n",
      "----------------------------------------------------\n",
      "STOPPING: Convergence criterion reached; Δχ (goal) - Δχ = 0.04252173071087384; using 17000.00 to produce the best fit\n",
      "Total time in run_ppxf: 134.33 seconds\n",
      "Running ppxf on 20 threads...\n"
     ]
    },
    {
     "data": {
      "application/vnd.jupyter.widget-view+json": {
       "model_id": "83600c385ce442b9aefc98b48268db22",
       "version_major": 2,
       "version_minor": 0
      },
      "text/plain": [
       "HBox(children=(IntProgress(value=0), HTML(value='')))"
      ]
     },
     "metadata": {},
     "output_type": "display_data"
    },
    {
     "name": "stdout",
     "output_type": "stream",
     "text": [
      "\n",
      "Total time in ppxf: 222.26 s\n",
      "----------------------------------------------------\n",
      "Iteration 0: Elapsed time in PPXF (single thread): 5.12 s\n",
      "----------------------------------------------------\n",
      "Iteration 1: Scaling noise by 1.5864...\n",
      "Iteration 1: Running ppxf on 20 threads...\n",
      "Iteration 1: Elapsed time in PPXF (multithreaded): 79.00 s\n",
      "Iteration 1: optimal regul = 500.00; Δm = 4.48507e+11; Δregul = 500.00 (Δregul_min = 1.00); Δχ (goal) - Δχ = 53.032\n",
      "----------------------------------------------------\n",
      "Iteration 2: Re-running ppxf on 20 threads (iteration 2)...\n",
      "Iteration 2: Elapsed time in PPXF (multithreaded): 82.78 s\n",
      "Iteration 2: optimal regul = 100.00; Δm = 6.86619e+10; Δregul = 100.00 (Δregul_min = 1.00); Δχ (goal) - Δχ = 14.372\n",
      "----------------------------------------------------\n",
      "Iteration 3: Re-running ppxf on 20 threads (iteration 3)...\n",
      "Iteration 3: Elapsed time in PPXF (multithreaded): 71.38 s\n",
      "Iteration 3: optimal regul = 60.00; Δm = 3.24681e+10; Δregul = 20.00 (Δregul_min = 1.00); Δχ (goal) - Δχ = 1.485\n",
      "----------------------------------------------------\n",
      "Iteration 4: Re-running ppxf on 20 threads (iteration 4)...\n",
      "Iteration 4: Elapsed time in PPXF (multithreaded): 67.47 s\n",
      "Iteration 4: optimal regul = 64.00; Δm = 4.73723e+09; Δregul = 4.00 (Δregul_min = 1.00); Δχ (goal) - Δχ = 0.815\n",
      "----------------------------------------------------\n",
      "STOPPING: Convergence criterion reached; Δχ (goal) - Δχ = 0.8153084539487594; using 64.00 to produce the best fit\n",
      "Total time in run_ppxf: 307.12 seconds\n"
     ]
    }
   ],
   "source": [
    "###############################################################################\n",
    "# The effect of the strength and exponent of the AGN continuum on the recovered SFH\n",
    "###############################################################################\n",
    "for aa, alpha_nu in enumerate(alpha_nu_vals):\n",
    "    for ll, log_L_NT in enumerate(log_L_NT_vals):\n",
    "        ###############################################################################\n",
    "        # Run ppxf without an AGN continuum added as a \"control\"\n",
    "        ###############################################################################\n",
    "        # Create spectrum\n",
    "        spec, spec_err, lambda_vals_A = create_mock_spectrum(\n",
    "            sfh_mass_weighted=sfh_mw_input,\n",
    "            agn_continuum=True, L_NT_erg_s=10**log_L_NT, alpha_nu=alpha_nu,\n",
    "            isochrones=isochrones, z=z, SNR=SNR, sigma_star_kms=sigma_star_kms,\n",
    "            plotit=False)\n",
    "\n",
    "        ###########################################################################\n",
    "        # Run ppxf WITHOUT regularisation, using a MC approach\n",
    "        ###########################################################################\n",
    "        # Input arguments\n",
    "        seeds = list(np.random.randint(low=0, high=100 * niters, size=niters))\n",
    "        args_list = [[s, spec, spec_err, lambda_vals_A] for s in seeds]\n",
    "\n",
    "        # Run in parallel\n",
    "        print(f\"Running ppxf on {nthreads} threads...\")\n",
    "        t = time()\n",
    "        with multiprocessing.Pool(nthreads) as pool:\n",
    "            pp_mc_list = list(tqdm(pool.imap(ppxf_helper, args_list), total=niters))\n",
    "        print(f\"Total time in ppxf: {time() - t:.2f} s\")\n",
    "\n",
    "        ###########################################################################\n",
    "        # Run ppxf with regularisation\n",
    "        ###########################################################################\n",
    "        t = time()\n",
    "        pp_regul = run_ppxf(spec=spec, spec_err=spec_err, lambda_vals_A=lambda_vals_A,\n",
    "                      z=z, ngascomponents=1,\n",
    "                      regularisation_method=\"auto\",\n",
    "                      isochrones=isochrones,\n",
    "                      fit_gas=False, tie_balmer=True,\n",
    "                      delta_regul_min=1, regul_max=5e4, delta_delta_chi2_min=1,\n",
    "                      plotit=False, savefigs=False, interactive_mode=False)\n",
    "        print(f\"Total time in run_ppxf: {time() - t:.2f} seconds\")\n",
    "\n",
    "        ###########################################################################\n",
    "        # Compute mean quantities from the ppxf runs\n",
    "        ###########################################################################\n",
    "        thisrow = {}  # Row to append to DataFrame\n",
    "        thisrow[\"AGN continuum\"] = True\n",
    "        thisrow[\"alpha_nu\"] = alpha_nu\n",
    "        thisrow[\"log L_NT\"] = log_L_NT\n",
    "\n",
    "        # Compute the mean SFH and SFR from the lists of MC runs\n",
    "        sfh_MC_lw_1D_mean = compute_mean_1D_sfh(pp_mc_list, isochrones, \"lw\")\n",
    "        sfh_MC_mw_1D_mean = compute_mean_1D_sfh(pp_mc_list, isochrones, \"mw\")\n",
    "        sfr_avg_MC = compute_mean_sfr(pp_mc_list, isochrones)\n",
    "        sfh_regul_mw_1D = pp_regul.sfh_mw_1D\n",
    "        sfh_regul_lw_1D = pp_regul.sfh_lw_1D\n",
    "        sfr_avg_regul = pp_regul.sfr_mean\n",
    "\n",
    "        # Compute the mean mass- and light-weighted ages plus the total mass in a series of age ranges\n",
    "        for aa in range(len(age_thresh_vals) - 1):\n",
    "            age_thresh_lower = age_thresh_vals[aa]\n",
    "            age_thresh_upper = age_thresh_vals[aa + 1]\n",
    "\n",
    "            if age_thresh_lower is None:\n",
    "                age_thresh_lower = ages[0]\n",
    "            if age_thresh_upper is None:\n",
    "                age_thresh_upper = ages[-1]\n",
    "            age_str = f\"{np.log10(age_thresh_lower):.2f} < log t < {np.log10(age_thresh_upper):.2f}\"\n",
    "\n",
    "            # MC runs: compute the mean mass- and light-weighted ages plus the total mass in this age range\n",
    "            age_lw_mean, age_lw_std = compute_mean_age(pp_mc_list, isochrones, \"lw\", age_thresh_lower, age_thresh_upper)\n",
    "            age_mw_mean, age_mw_std = compute_mean_age(pp_mc_list, isochrones, \"mw\", age_thresh_lower, age_thresh_upper)\n",
    "            mass_mean, mass_std = compute_mean_mass(pp_mc_list, isochrones, age_thresh_lower=age_thresh_lower, age_thresh_upper=age_thresh_upper)\n",
    "\n",
    "            # Regul run: compute the mean mass- and light-weighted ages plus the total mass in this age range\n",
    "            age_mw_regul = 10**compute_mw_age(sfh_regul_lw_1D, isochrones=isochrones, age_thresh_lower=age_thresh_lower, age_thresh_upper=age_thresh_upper)[0]\n",
    "            age_lw_regul = 10**compute_lw_age(sfh_regul_mw_1D, isochrones=isochrones, age_thresh_lower=age_thresh_lower, age_thresh_upper=age_thresh_upper)[0]\n",
    "            mass_regul = compute_mass(sfh_regul_mw_1D, isochrones=isochrones, age_thresh_lower=age_thresh_lower, age_thresh_upper=age_thresh_upper)\n",
    "\n",
    "            # Input: compute the mean mass- and light-weighted ages plus the total mass in this age range\n",
    "            age_mw_input = 10**compute_mw_age(sfh_lw_input, isochrones=isochrones, age_thresh_lower=age_thresh_lower, age_thresh_upper=age_thresh_upper)[0]\n",
    "            age_lw_input = 10**compute_lw_age(sfh_mw_input, isochrones=isochrones, age_thresh_lower=age_thresh_lower, age_thresh_upper=age_thresh_upper)[0]\n",
    "            mass_input = compute_mass(sfh_mw_input, isochrones=isochrones, age_thresh_lower=age_thresh_lower, age_thresh_upper=age_thresh_upper)\n",
    "\n",
    "            # Put in DataFrame\n",
    "            thisrow[f\"MW age {age_str} (input)\"] = age_mw_input\n",
    "            thisrow[f\"LW age {age_str} (input)\"] = age_lw_input\n",
    "            thisrow[f\"Mass {age_str} (input)\"] = mass_input\n",
    "            thisrow[f\"MW age {age_str} (MC) mean\"] = age_mw_mean\n",
    "            thisrow[f\"LW age {age_str} (MC) mean\"] = age_lw_mean\n",
    "            thisrow[f\"Mass {age_str} (MC) mean\"] = mass_mean\n",
    "            thisrow[f\"MW age {age_str} (MC) std. dev.\"] = age_mw_std\n",
    "            thisrow[f\"LW age {age_str} (MC) std. dev.\"] = age_lw_std\n",
    "            thisrow[f\"Mass {age_str} (MC) std. dev.\"] = mass_std\n",
    "            thisrow[f\"MW age {age_str} (regularised)\"] = age_mw_regul\n",
    "            thisrow[f\"LW age {age_str} (regularised)\"] = age_lw_regul\n",
    "            thisrow[f\"Mass {age_str} (regularised)\"] = mass_regul\n",
    "\n",
    "        df = df.append(thisrow, ignore_index=True)"
   ]
  },
  {
   "cell_type": "code",
   "execution_count": 74,
   "metadata": {},
   "outputs": [],
   "source": [
    "###############################################################################\n",
    "# Save DataFrame to file \n",
    "###############################################################################\n",
    "# Add metadata \n",
    "df[\"SNR\"] = SNR\n",
    "df[\"niters\"] = niters\n",
    "df[\"nthreads\"] = nthreads\n",
    "df[\"z\"] = z\n",
    "df[\"Emission lines\"] = False\n",
    "df[\"isochrones\"] = isochrones\n",
    "df[\"sigma_star_kms\"] = sigma_star_kms\n",
    "\n",
    "# Save\n",
    "df.to_hdf(os.path.join(data_path, f\"ga{gal}_agncont.hd5\"), key=\"agn\")\n"
   ]
  },
  {
   "cell_type": "markdown",
   "metadata": {},
   "source": [
    "### Load the DataFrames storing the output of each AGN continuum run and plot the derived age estimates\n",
    "---"
   ]
  },
  {
   "cell_type": "code",
   "execution_count": 94,
   "metadata": {},
   "outputs": [
    {
     "data": {
      "application/vnd.jupyter.widget-view+json": {
       "model_id": "2f899afde0b543b9a44d5ad00f7e910b",
       "version_major": 2,
       "version_minor": 0
      },
      "text/plain": [
       "Canvas(toolbar=Toolbar(toolitems=[('Home', 'Reset original view', 'home', 'home'), ('Back', 'Back to previous …"
      ]
     },
     "metadata": {},
     "output_type": "display_data"
    },
    {
     "data": {
      "application/vnd.jupyter.widget-view+json": {
       "model_id": "74e44219900642f8b21df78d570b9131",
       "version_major": 2,
       "version_minor": 0
      },
      "text/plain": [
       "Canvas(toolbar=Toolbar(toolitems=[('Home', 'Reset original view', 'home', 'home'), ('Back', 'Back to previous …"
      ]
     },
     "metadata": {},
     "output_type": "display_data"
    },
    {
     "data": {
      "application/vnd.jupyter.widget-view+json": {
       "model_id": "4f26306dc60f438c881056f3c28bd30c",
       "version_major": 2,
       "version_minor": 0
      },
      "text/plain": [
       "Canvas(toolbar=Toolbar(toolitems=[('Home', 'Reset original view', 'home', 'home'), ('Back', 'Back to previous …"
      ]
     },
     "metadata": {},
     "output_type": "display_data"
    },
    {
     "data": {
      "application/vnd.jupyter.widget-view+json": {
       "model_id": "fa2b56d49d314f899c081ab63f163bf7",
       "version_major": 2,
       "version_minor": 0
      },
      "text/plain": [
       "Canvas(toolbar=Toolbar(toolitems=[('Home', 'Reset original view', 'home', 'home'), ('Back', 'Back to previous …"
      ]
     },
     "metadata": {},
     "output_type": "display_data"
    },
    {
     "data": {
      "application/vnd.jupyter.widget-view+json": {
       "model_id": "24a90489fdca4ca4b07fb237fdcd302c",
       "version_major": 2,
       "version_minor": 0
      },
      "text/plain": [
       "Canvas(toolbar=Toolbar(toolitems=[('Home', 'Reset original view', 'home', 'home'), ('Back', 'Back to previous …"
      ]
     },
     "metadata": {},
     "output_type": "display_data"
    }
   ],
   "source": [
    "########################################################\n",
    "# Plot the recovered mass-weighted mean age vs. alpha_nu\n",
    "########################################################\n",
    "for gal in [1, 2, 3, 4, 5]:\n",
    "    df = pd.read_hdf(os.path.join(data_path, f\"ga{gal}_agncont.hd5\"), key=\"agn\")\n",
    "\n",
    "    age_thresh_pairs = [\n",
    "        (ages[0], 1e7),\n",
    "        (ages[0], 1e8),\n",
    "        (ages[0], 1e9),\n",
    "        (1e9, ages[-1]),\n",
    "        (ages[0], ages[-1]),\n",
    "    ]\n",
    "\n",
    "    alpha_nu_vals = df[\"alpha_nu\"].unique()\n",
    "    cmap_alpha_nu = matplotlib.cm.get_cmap(\"Greens\", len(alpha_nu_vals))\n",
    "\n",
    "    for age_thresh_pair in [((ages[0], 1e9))]:\n",
    "        fig, axs = plt.subplots(nrows=3, ncols=1, figsize=(10, 10))\n",
    "        fig.subplots_adjust(right=0.6)\n",
    "        fig.subplots_adjust(hspace=0)\n",
    "\n",
    "        age_thresh_lower, age_thresh_upper = age_thresh_pair\n",
    "        age_str = f\"{np.log10(age_thresh_lower):.2f} < log t < {np.log10(age_thresh_upper):.2f}\"\n",
    "\n",
    "        #************************************\n",
    "        # Plot ages\n",
    "        for weighttype, ax in zip([\"LW\", \"MW\"], axs):\n",
    "\n",
    "            # Actual value\n",
    "            ax.axhline(df[f\"{weighttype} age {age_str} (input)\"].unique()[0], color=\"gray\", label=\"True value\")\n",
    "\n",
    "            # MC run w/o AGN continuum\n",
    "            cond = df[\"AGN continuum\"] == False\n",
    "            ax.axhspan(ymin=df.loc[cond, f\"{weighttype} age {age_str} (MC) mean\"].values[0] - df.loc[cond, f\"{weighttype} age {age_str} (MC) std. dev.\"].values[0],\n",
    "                       ymax=df.loc[cond, f\"{weighttype} age {age_str} (MC) mean\"].values[0] + df.loc[cond, f\"{weighttype} age {age_str} (MC) std. dev.\"].values[0],\n",
    "                       color=\"pink\", alpha=0.5)\n",
    "            ax.axhline(df.loc[cond, f\"{weighttype} age {age_str} (MC) mean\"].values[0], color=\"pink\", label=\"no AGN continuum\")\n",
    "\n",
    "            # Regul run w/o AGN continuum\n",
    "            ax.axhline(df.loc[cond, f\"{weighttype} age {age_str} (regularised)\"].values[0], color=\"maroon\", label=\"no AGN continuum (regularised)\")\n",
    "\n",
    "            for aa, alpha_nu in enumerate(alpha_nu_vals):\n",
    "                cond = df[\"alpha_nu\"] == alpha_nu\n",
    "                # MC\n",
    "                ax.errorbar(x=df.loc[cond, \"log L_NT\"].values, \n",
    "                            y=df.loc[cond, f\"{weighttype} age {age_str} (MC) mean\"].values, \n",
    "                            yerr=df.loc[cond, f\"{weighttype} age {age_str} (MC) std. dev.\"].values,\n",
    "                            linestyle=\"none\", marker=\"D\", color=cmap_alpha_nu(aa),\n",
    "                            label=r\"$\\alpha_\\nu = %.1f$\" % alpha_nu, zorder=999)\n",
    "                # Regularised\n",
    "                ax.errorbar(x=df.loc[cond, \"log L_NT\"].values, \n",
    "                            y=df.loc[cond, f\"{weighttype} age {age_str} (MC) mean\"].values, \n",
    "                            linestyle=\"none\", marker=\"o\", markerfacecolor=\"w\", color=cmap_alpha_nu(aa),\n",
    "                            label=r\"$\\alpha_\\nu = %.1f$ (regularised)\" % alpha_nu, zorder=999)\n",
    "\n",
    "            # Decorations\n",
    "            # ax.set_ylim([1e6, 1e10])\n",
    "            ax.set_xlabel(r\"$\\log_{10} L_{\\rm NT}$\")\n",
    "            ax.set_ylabel(f\"{weighttype}-weighted mean age\")\n",
    "            ax.set_yscale(\"log\")\n",
    "            ax.grid()\n",
    "\n",
    "        #************************************\n",
    "        # Plot mass in each range\n",
    "        ax = axs[2]\n",
    "\n",
    "        # Actual value\n",
    "        ax.axhline(df[f\"Mass {age_str} (input)\"].unique()[0], color=\"gray\", label=\"True value\")\n",
    "\n",
    "        # MC run w/o AGN continuum\n",
    "        cond = df[\"AGN continuum\"] == False\n",
    "        ax.axhspan(ymin=df.loc[cond, f\"Mass {age_str} (MC) mean\"].values[0] - df.loc[cond, f\"Mass {age_str} (MC) std. dev.\"].values[0],\n",
    "                   ymax=df.loc[cond, f\"Mass {age_str} (MC) mean\"].values[0] + df.loc[cond, f\"Mass {age_str} (MC) std. dev.\"].values[0],\n",
    "                   color=\"pink\", alpha=0.5)\n",
    "        ax.axhline(df.loc[cond, f\"Mass {age_str} (MC) mean\"].values[0], color=\"pink\", label=\"no AGN continuum (MC)\")\n",
    "\n",
    "        # Regul run w/o AGN continuum\n",
    "        ax.axhline(df.loc[cond, f\"Mass {age_str} (regularised)\"].values[0], color=\"maroon\", label=\"no AGN continuum (regularised)\")\n",
    "\n",
    "        # Results from MC runs\n",
    "        for aa, alpha_nu in enumerate(alpha_nu_vals):\n",
    "            cond = df[\"alpha_nu\"] == alpha_nu\n",
    "            # MC\n",
    "            ax.errorbar(x=df.loc[cond, \"log L_NT\"].values, \n",
    "                        y=df.loc[cond, f\"Mass {age_str} (MC) mean\"].values, \n",
    "                        yerr=df.loc[cond, f\"Mass {age_str} (MC) std. dev.\"].values,\n",
    "                        linestyle=\"none\", marker=\"D\", color=cmap_alpha_nu(aa),\n",
    "                        label=r\"$\\alpha_\\nu = %.1f$\" % alpha_nu, zorder=999)\n",
    "            # Regularised\n",
    "            ax.errorbar(x=df.loc[cond, \"log L_NT\"].values, \n",
    "                        y=df.loc[cond, f\"Mass {age_str} (regularised)\"].values, \n",
    "                        linestyle=\"none\", marker=\"o\", markerfacecolor=\"w\", color=cmap_alpha_nu(aa),\n",
    "                        label=r\"$\\alpha_\\nu = %.1f$ (regularised)\" % alpha_nu, zorder=999)\n",
    "\n",
    "        # Decorations\n",
    "        # ax.set_ylim([1e8, 0.5e11])\n",
    "        ax.set_xlabel(r\"$\\log_{10} L_{\\rm NT}$\")\n",
    "        ax.set_ylabel(r\"Mass ($\\rm M_\\odot$)\")\n",
    "        ax.set_yscale(\"log\")\n",
    "        ax.grid()\n",
    "\n",
    "        axs[0].set_title(f\"Galaxy ID {gal:004} ({age_str})\")    \n",
    "        axs[1].legend(bbox_to_anchor=[1.05, 0.5], loc=\"center left\", fontsize=\"small\")\n"
   ]
  }
 ],
 "metadata": {
  "kernelspec": {
   "display_name": "Python 3",
   "language": "python",
   "name": "python3"
  },
  "language_info": {
   "codemirror_mode": {
    "name": "ipython",
    "version": 3
   },
   "file_extension": ".py",
   "mimetype": "text/x-python",
   "name": "python",
   "nbconvert_exporter": "python",
   "pygments_lexer": "ipython3",
   "version": "3.7.4"
  }
 },
 "nbformat": 4,
 "nbformat_minor": 2
}
