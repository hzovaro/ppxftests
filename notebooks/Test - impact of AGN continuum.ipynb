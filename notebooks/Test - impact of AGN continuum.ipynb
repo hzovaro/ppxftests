{
 "cells": [
  {
   "cell_type": "markdown",
   "metadata": {},
   "source": [
    "# Test: the impact of an AGN power-law continuum\n",
    "---\n",
    "What effect does the inclusion of an AGN power-law continuum have upon the recovered SFH?"
   ]
  },
  {
   "cell_type": "code",
   "execution_count": 1,
   "metadata": {},
   "outputs": [],
   "source": [
    "%matplotlib widget"
   ]
  },
  {
   "cell_type": "code",
   "execution_count": 2,
   "metadata": {},
   "outputs": [
    {
     "data": {
      "text/html": [
       "<style>.container { width:75% !important; }</style>"
      ],
      "text/plain": [
       "<IPython.core.display.HTML object>"
      ]
     },
     "metadata": {},
     "output_type": "display_data"
    },
    {
     "data": {
      "text/html": [
       "<style>.output_result { max-width:75% !important; }</style>"
      ],
      "text/plain": [
       "<IPython.core.display.HTML object>"
      ]
     },
     "metadata": {},
     "output_type": "display_data"
    }
   ],
   "source": [
    "from IPython.core.display import display, HTML\n",
    "display(HTML(\"<style>.container { width:75% !important; }</style>\"))\n",
    "display(HTML(\"<style>.output_result { max-width:75% !important; }</style>\"))"
   ]
  },
  {
   "cell_type": "code",
   "execution_count": 4,
   "metadata": {},
   "outputs": [],
   "source": [
    "import os\n",
    "import numpy as np\n",
    "from numpy.random import RandomState\n",
    "from time import time \n",
    "from tqdm.notebook import tqdm\n",
    "from itertools import product\n",
    "import multiprocessing\n",
    "import pandas as pd\n",
    "import extinction\n",
    "\n",
    "from astropy.io import fits\n",
    "\n",
    "from ppxftests.run_ppxf import run_ppxf\n",
    "from ppxftests.ssputils import load_ssp_templates, get_bin_edges_and_widths\n",
    "from ppxftests.mockspec import create_mock_spectrum\n",
    "from ppxftests.sfhutils import load_sfh, compute_mw_age, compute_lw_age, compute_cumulative_mass, compute_cumulative_light\n",
    "from ppxftests.sfhutils import compute_mean_age, compute_mean_mass, compute_mean_sfr, compute_mean_1D_sfh\n",
    "from ppxftests.ppxf_plot import plot_sfh_mass_weighted, plot_sfh_light_weighted, ppxf_plot\n",
    "from ppxftests.plot_ppxf_summary import plot_ppxf_summary\n",
    "\n",
    "import matplotlib\n",
    "import matplotlib.pyplot as plt\n",
    "from matplotlib.backends.backend_pdf import PdfPages\n",
    "plt.ion()\n",
    "plt.close(\"all\")\n",
    "\n",
    "from IPython.core.debugger import Tracer\n",
    "\n",
    "fig_path = \"/priv/meggs3/u5708159/ppxftests/figs/\"\n",
    "data_path = \"/priv/meggs3/u5708159/ppxftests/\"\n"
   ]
  },
  {
   "cell_type": "markdown",
   "metadata": {},
   "source": [
    "## Test: can we fit an AGN continuum in ppxf using the `sky` keyword?\n",
    "---\n",
    "Need to test:\n",
    "* How well does ppxf recover the slope/amplitude of the AGN continuum? Test on a combination of amplitudes/slopes.\n",
    "* What happens if we apply extinction to the mock spectrum? Does ppxf do a good job of returning a multiplicative polynomial with the right shape?\n",
    "\n",
    "What plots do we want?\n",
    "For single runs: \n",
    "* ppxf output plot \n",
    "* comparison of input/output SFHs (lift this code from somewhere else)\n",
    "* Histograms showing distribution of \"sky\" template weights; vertical line showing input weight\n"
   ]
  },
  {
   "cell_type": "code",
   "execution_count": 28,
   "metadata": {},
   "outputs": [],
   "source": [
    "###########################################################################\n",
    "# Helper function for running MC simulations\n",
    "###########################################################################\n",
    "def ppxf_helper(args):\n",
    "    # Unpack arguments\n",
    "    seed, spec, spec_err, lambda_vals_A = args\n",
    "    \n",
    "    # Add \"extra\" noise to the spectrum\n",
    "    rng = RandomState(seed)\n",
    "    noise = rng.normal(scale=spec_err)\n",
    "    spec_noise = spec + noise\n",
    "\n",
    "    # This is to mitigate the \"edge effects\" of the convolution with the LSF\n",
    "    spec_noise[0] = -9999\n",
    "    spec_noise[-1] = -9999\n",
    "\n",
    "    # Run ppxf\n",
    "    pp = run_ppxf(spec=spec_noise, spec_err=spec_err, lambda_vals_A=lambda_vals_A,\n",
    "                  z=z, ngascomponents=1,\n",
    "                  regularisation_method=\"none\", \n",
    "                  fit_agn_cont=False,\n",
    "                  isochrones=\"Padova\",\n",
    "                  fit_gas=False, tie_balmer=True,\n",
    "                  plotit=False, savefigs=False, interactive_mode=False)\n",
    "    return pp\n"
   ]
  },
  {
   "cell_type": "code",
   "execution_count": 29,
   "metadata": {
    "scrolled": false
   },
   "outputs": [
    {
     "data": {
      "application/vnd.jupyter.widget-view+json": {
       "model_id": "ebba36f955b64bc19aa82f7d1fcc6d9e",
       "version_major": 2,
       "version_minor": 0
      },
      "text/plain": [
       "Canvas(toolbar=Toolbar(toolitems=[('Home', 'Reset original view', 'home', 'home'), ('Back', 'Back to previous …"
      ]
     },
     "metadata": {},
     "output_type": "display_data"
    },
    {
     "data": {
      "application/vnd.jupyter.widget-view+json": {
       "model_id": "82d84e16cf4345e4956b4dc7b02183aa",
       "version_major": 2,
       "version_minor": 0
      },
      "text/plain": [
       "Canvas(toolbar=Toolbar(toolitems=[('Home', 'Reset original view', 'home', 'home'), ('Back', 'Back to previous …"
      ]
     },
     "metadata": {},
     "output_type": "display_data"
    },
    {
     "data": {
      "application/vnd.jupyter.widget-view+json": {
       "model_id": "15bfeed492fc444fa8698d956aefad20",
       "version_major": 2,
       "version_minor": 0
      },
      "text/plain": [
       "Canvas(toolbar=Toolbar(toolitems=[('Home', 'Reset original view', 'home', 'home'), ('Back', 'Back to previous …"
      ]
     },
     "metadata": {},
     "output_type": "display_data"
    },
    {
     "data": {
      "application/vnd.jupyter.widget-view+json": {
       "model_id": "50896d986ce3414192ae336a0ca7f126",
       "version_major": 2,
       "version_minor": 0
      },
      "text/plain": [
       "Canvas(toolbar=Toolbar(toolitems=[('Home', 'Reset original view', 'home', 'home'), ('Back', 'Back to previous …"
      ]
     },
     "metadata": {},
     "output_type": "display_data"
    },
    {
     "data": {
      "application/vnd.jupyter.widget-view+json": {
       "model_id": "be0167e7700142df881f697ac6ca18b2",
       "version_major": 2,
       "version_minor": 0
      },
      "text/plain": [
       "Canvas(toolbar=Toolbar(toolitems=[('Home', 'Reset original view', 'home', 'home'), ('Back', 'Back to previous …"
      ]
     },
     "metadata": {},
     "output_type": "display_data"
    },
    {
     "data": {
      "application/vnd.jupyter.widget-view+json": {
       "model_id": "b5661ceb971b41b5be64e5d89f47d57b",
       "version_major": 2,
       "version_minor": 0
      },
      "text/plain": [
       "Canvas(toolbar=Toolbar(toolitems=[('Home', 'Reset original view', 'home', 'home'), ('Back', 'Back to previous …"
      ]
     },
     "metadata": {},
     "output_type": "display_data"
    },
    {
     "name": "stdout",
     "output_type": "stream",
     "text": [
      "Running ppxf on 20 threads...\n"
     ]
    },
    {
     "data": {
      "application/vnd.jupyter.widget-view+json": {
       "model_id": "b0ce179e97ef4c4ab6299a50b360f289",
       "version_major": 2,
       "version_minor": 0
      },
      "text/plain": [
       "HBox(children=(IntProgress(value=0, max=20), HTML(value='')))"
      ]
     },
     "metadata": {},
     "output_type": "display_data"
    },
    {
     "name": "stdout",
     "output_type": "stream",
     "text": [
      "\n",
      "Total time in ppxf: 42.62 s\n",
      "----------------------------------------------------\n",
      "Iteration 0: Elapsed time in PPXF (single thread): 3.00 s\n",
      "----------------------------------------------------\n",
      "Iteration 1: Scaling noise by 2.2926...\n",
      "Iteration 1: Running ppxf on 20 threads...\n",
      "Iteration 1: Elapsed time in PPXF (multithreaded): 109.76 s\n",
      "Iteration 1: optimal regul = 45000.00; Δm = 5.7364e+11; Δregul = 500.00 (Δregul_min = 1.00); Δχ (goal) - Δχ = 3350.322\n",
      "----------------------------------------------------\n",
      "Iteration 2: Re-running ppxf on 20 threads (iteration 2)...\n",
      "Iteration 2: Elapsed time in PPXF (multithreaded): 112.29 s\n",
      "Iteration 2: optimal regul = 44000.00; Δm = 9.50077e+08; Δregul = 100.00 (Δregul_min = 1.00); Δχ (goal) - Δχ = 3329.937\n",
      "----------------------------------------------------\n",
      "Iteration 3: Re-running ppxf on 20 threads (iteration 3)...\n",
      "Iteration 3: Elapsed time in PPXF (multithreaded): 112.12 s\n",
      "Iteration 3: optimal regul = 43800.00; Δm = 2.89432e+08; Δregul = 20.00 (Δregul_min = 1.00); Δχ (goal) - Δχ = 3325.720\n",
      "----------------------------------------------------\n",
      "Iteration 4: Re-running ppxf on 20 threads (iteration 4)...\n",
      "Iteration 4: Elapsed time in PPXF (multithreaded): 112.95 s\n",
      "Iteration 4: optimal regul = 43760.00; Δm = 5.87139e+07; Δregul = 4.00 (Δregul_min = 1.00); Δχ (goal) - Δχ = 3324.871\n",
      "----------------------------------------------------\n",
      "Iteration 5: Re-running ppxf on 20 threads (iteration 5)...\n",
      "Iteration 5: Elapsed time in PPXF (multithreaded): 114.33 s\n",
      "Iteration 5: optimal regul = 43752.00; Δm = 1.17647e+07; Δregul = 0.80 (Δregul_min = 1.00); Δχ (goal) - Δχ = 3324.700\n",
      "----------------------------------------------------\n",
      "STOPPING: Minimum spacing between regul values reached; using 43752.00 to produce the best fit\n",
      "Total time in run_ppxf: 565.76 seconds\n"
     ]
    },
    {
     "name": "stderr",
     "output_type": "stream",
     "text": [
      "/home/u5708159/python/Modules/ppxftests/sfhutils.py:292: RuntimeWarning: invalid value encountered in double_scalars\n",
      "  log_age_lw = np.nansum(sfh_lw_1D[age_thresh_lower_idx:age_thresh_upper_idx] * np.log10(ages[age_thresh_lower_idx:age_thresh_upper_idx])) / np.nansum(sfh_lw_1D[age_thresh_lower_idx:age_thresh_upper_idx])\n",
      "/home/u5708159/python/Modules/ppxftests/sfhutils.py:231: RuntimeWarning: invalid value encountered in double_scalars\n",
      "  log_age_mw = np.nansum(sfh_mw_1D[age_thresh_lower_idx:age_thresh_upper_idx] * np.log10(ages[age_thresh_lower_idx:age_thresh_upper_idx])) / np.nansum(sfh_mw_1D[age_thresh_lower_idx:age_thresh_upper_idx])\n"
     ]
    },
    {
     "data": {
      "application/vnd.jupyter.widget-view+json": {
       "model_id": "6fb52046013b41caae75cad5ec52ff4a",
       "version_major": 2,
       "version_minor": 0
      },
      "text/plain": [
       "Canvas(toolbar=Toolbar(toolitems=[('Home', 'Reset original view', 'home', 'home'), ('Back', 'Back to previous …"
      ]
     },
     "metadata": {},
     "output_type": "display_data"
    },
    {
     "data": {
      "application/vnd.jupyter.widget-view+json": {
       "model_id": "27804d76243a438fba58296289d61adb",
       "version_major": 2,
       "version_minor": 0
      },
      "text/plain": [
       "Canvas(toolbar=Toolbar(toolitems=[('Home', 'Reset original view', 'home', 'home'), ('Back', 'Back to previous …"
      ]
     },
     "metadata": {},
     "output_type": "display_data"
    },
    {
     "data": {
      "application/vnd.jupyter.widget-view+json": {
       "model_id": "126e4caca4cd4cbca4a5c4b2fbf9b486",
       "version_major": 2,
       "version_minor": 0
      },
      "text/plain": [
       "Canvas(toolbar=Toolbar(toolitems=[('Home', 'Reset original view', 'home', 'home'), ('Back', 'Back to previous …"
      ]
     },
     "metadata": {},
     "output_type": "display_data"
    },
    {
     "data": {
      "application/vnd.jupyter.widget-view+json": {
       "model_id": "b1cbc03bd28a4bcfb1280dc05b2b7338",
       "version_major": 2,
       "version_minor": 0
      },
      "text/plain": [
       "Canvas(toolbar=Toolbar(toolitems=[('Home', 'Reset original view', 'home', 'home'), ('Back', 'Back to previous …"
      ]
     },
     "metadata": {},
     "output_type": "display_data"
    },
    {
     "data": {
      "application/vnd.jupyter.widget-view+json": {
       "model_id": "02378997c2644c51b39c240fe74a108e",
       "version_major": 2,
       "version_minor": 0
      },
      "text/plain": [
       "Canvas(toolbar=Toolbar(toolitems=[('Home', 'Reset original view', 'home', 'home'), ('Back', 'Back to previous …"
      ]
     },
     "metadata": {},
     "output_type": "display_data"
    },
    {
     "data": {
      "text/plain": [
       "<matplotlib.legend.Legend at 0x7fbc3b1b2850>"
      ]
     },
     "execution_count": 29,
     "metadata": {},
     "output_type": "execute_result"
    }
   ],
   "source": [
    "###############################################################################\n",
    "# Load a realistic SFH\n",
    "###############################################################################\n",
    "plt.close(\"all\")\n",
    "isochrones = \"Padova\"\n",
    "SNR = 100\n",
    "z = 0\n",
    "niters = 20\n",
    "nthreads = 20\n",
    "\n",
    "gal = 10\n",
    "sfh_mw_input, sfh_lw_input, sfr_avg_input, sigma_star_kms = load_sfh(gal, plotit=True)\n",
    "M_tot = np.nansum(sfh_mw_input)\n",
    "\n",
    "x_AGN = 1.0\n",
    "alpha_nu = 1.5\n",
    "lambda_norm_A = 4020\n",
    "\n",
    "###############################################################################\n",
    "# Run ppxf without an AGN continuum added as a \"control\"\n",
    "###############################################################################\n",
    "# Create spectrum\n",
    "spec, spec_err, lambda_vals_A = create_mock_spectrum(\n",
    "    sfh_mass_weighted=sfh_mw_input,\n",
    "    agn_continuum=True, x_AGN=x_AGN, alpha_nu=alpha_nu,\n",
    "    isochrones=isochrones, z=z, SNR=SNR, sigma_star_kms=sigma_star_kms,\n",
    "    plotit=True)\n",
    "\n",
    "# Get the AGN continuum (for plotting purposes)\n",
    "alpha_lambda = 2 - alpha_nu\n",
    "lambda_norm_idx = np.nanargmin(np.abs(lambda_vals_A - lambda_norm_A))\n",
    "F_star_0 = spec[lambda_norm_idx] / (1 + x_AGN)  # Note that this may be slightly wrong because noise has been added to spec\n",
    "F_agn_0 = x_AGN * F_star_0\n",
    "F_lambda_0 = F_agn_0 / lambda_norm_A**(-alpha_lambda)\n",
    "spec_agn = F_lambda_0 * lambda_vals_A**(-alpha_lambda)\n",
    "\n",
    "###########################################################################\n",
    "# Run ppxf using a MC approach\n",
    "###########################################################################\n",
    "# Input arguments\n",
    "seeds = list(np.random.randint(low=0, high=100 * niters, size=niters))\n",
    "args_list = [[s, spec, spec_err, lambda_vals_A] for s in seeds]\n",
    "\n",
    "# Run in parallel\n",
    "print(f\"Running ppxf on {nthreads} threads...\")\n",
    "t = time()\n",
    "with multiprocessing.Pool(nthreads) as pool:\n",
    "    pp_mc_list = list(tqdm(pool.imap(ppxf_helper, args_list), total=niters))\n",
    "print(f\"Total time in ppxf: {time() - t:.2f} s\")\n",
    "\n",
    "###########################################################################\n",
    "# Run ppxf with regularisation\n",
    "###########################################################################\n",
    "t = time()\n",
    "pp_regul = run_ppxf(spec=spec, spec_err=spec_err, lambda_vals_A=lambda_vals_A,\n",
    "              z=z, ngascomponents=1,\n",
    "              regularisation_method=\"auto\",\n",
    "              fit_agn_cont=False,\n",
    "              isochrones=isochrones,\n",
    "              fit_gas=False, tie_balmer=True,\n",
    "              delta_regul_min=1, regul_max=5e4, delta_delta_chi2_min=1, regul_start=4.5e4,\n",
    "              plotit=False, savefigs=False, interactive_mode=False)\n",
    "print(f\"Total time in run_ppxf: {time() - t:.2f} seconds\")\n",
    "\n",
    "###########################################################################\n",
    "# Summary plots\n",
    "###########################################################################\n",
    "plot_ppxf_summary(sfh_lw_input, sfh_mw_input, pp_regul, pp_mc_list, isochrones)\n",
    "\n",
    "# Check the quality of the fit\n",
    "ppxf_plot(pp_regul)\n",
    "plt.plot(lambda_vals_A, spec_agn / pp_regul.norm, label=\"AGN continuum (input)\")\n",
    "plt.legend()\n",
    "ppxf_plot(pp_mc_list[0])\n",
    "plt.plot(lambda_vals_A, spec_agn / pp_regul.norm, label=\"AGN continuum (input)\")\n",
    "plt.legend()\n"
   ]
  },
  {
   "cell_type": "markdown",
   "metadata": {},
   "source": [
    "## What happens if we apply extinction?\n",
    "---\n",
    "Concerns:\n",
    "* Without including an AGN continuum, how does ppxf fare in accurately recovering the SFH if mpoly is used vs. an extinction correction?"
   ]
  },
  {
   "cell_type": "code",
   "execution_count": null,
   "metadata": {},
   "outputs": [],
   "source": []
  },
  {
   "cell_type": "code",
   "execution_count": 6,
   "metadata": {},
   "outputs": [
    {
     "data": {
      "application/vnd.jupyter.widget-view+json": {
       "model_id": "fbbeccc2be7343b4b110a813c3ba5ee2",
       "version_major": 2,
       "version_minor": 0
      },
      "text/plain": [
       "Canvas(toolbar=Toolbar(toolitems=[('Home', 'Reset original view', 'home', 'home'), ('Back', 'Back to previous …"
      ]
     },
     "metadata": {},
     "output_type": "display_data"
    },
    {
     "data": {
      "application/vnd.jupyter.widget-view+json": {
       "model_id": "de581cdbe19848ffbd21dda9ce64cf3d",
       "version_major": 2,
       "version_minor": 0
      },
      "text/plain": [
       "Canvas(toolbar=Toolbar(toolitems=[('Home', 'Reset original view', 'home', 'home'), ('Back', 'Back to previous …"
      ]
     },
     "metadata": {},
     "output_type": "display_data"
    },
    {
     "data": {
      "application/vnd.jupyter.widget-view+json": {
       "model_id": "ff8413cfecbb4c199a8d93271736e5d7",
       "version_major": 2,
       "version_minor": 0
      },
      "text/plain": [
       "Canvas(toolbar=Toolbar(toolitems=[('Home', 'Reset original view', 'home', 'home'), ('Back', 'Back to previous …"
      ]
     },
     "metadata": {},
     "output_type": "display_data"
    },
    {
     "data": {
      "application/vnd.jupyter.widget-view+json": {
       "model_id": "1d7c71ae720845689f9d7e2c5bb1977d",
       "version_major": 2,
       "version_minor": 0
      },
      "text/plain": [
       "Canvas(toolbar=Toolbar(toolitems=[('Home', 'Reset original view', 'home', 'home'), ('Back', 'Back to previous …"
      ]
     },
     "metadata": {},
     "output_type": "display_data"
    },
    {
     "data": {
      "application/vnd.jupyter.widget-view+json": {
       "model_id": "5e3dfbf19f644ec9a8e1a3e461ec266d",
       "version_major": 2,
       "version_minor": 0
      },
      "text/plain": [
       "Canvas(toolbar=Toolbar(toolitems=[('Home', 'Reset original view', 'home', 'home'), ('Back', 'Back to previous …"
      ]
     },
     "metadata": {},
     "output_type": "display_data"
    },
    {
     "data": {
      "application/vnd.jupyter.widget-view+json": {
       "model_id": "499bf7b7083343bab6cc5f5e25df4e47",
       "version_major": 2,
       "version_minor": 0
      },
      "text/plain": [
       "Canvas(toolbar=Toolbar(toolitems=[('Home', 'Reset original view', 'home', 'home'), ('Back', 'Back to previous …"
      ]
     },
     "metadata": {},
     "output_type": "display_data"
    },
    {
     "data": {
      "application/vnd.jupyter.widget-view+json": {
       "model_id": "f352d9bcea88477ca0cad7e732f2f94e",
       "version_major": 2,
       "version_minor": 0
      },
      "text/plain": [
       "Canvas(toolbar=Toolbar(toolitems=[('Home', 'Reset original view', 'home', 'home'), ('Back', 'Back to previous …"
      ]
     },
     "metadata": {},
     "output_type": "display_data"
    }
   ],
   "source": [
    "###############################################################################\n",
    "# Load a realistic SFH\n",
    "###############################################################################\n",
    "isochrones = \"Padova\"\n",
    "SNR = 100\n",
    "z = 0\n",
    "niters = 100\n",
    "nthreads = 20\n",
    "\n",
    "gal = 10\n",
    "sfh_mw_input, sfh_lw_input, sfr_avg_input, sigma_star_kms = load_sfh(gal, plotit=True)\n",
    "M_tot = np.nansum(sfh_mw_input)\n",
    "\n",
    "###############################################################################\n",
    "# Create spectrum\n",
    "###############################################################################\n",
    "spec, spec_err, lambda_vals_A = create_mock_spectrum(\n",
    "    sfh_mass_weighted=sfh_mw_input,\n",
    "    agn_continuum=True, x_AGN=0.1, alpha_nu=1.5,\n",
    "    isochrones=isochrones, z=z, SNR=SNR, sigma_star_kms=sigma_star_kms,\n",
    "    plotit=True)\n",
    "\n",
    "# Create second spectrum without an AGN continuum \n",
    "spec_noagn, spec_err, lambda_vals_A = create_mock_spectrum(\n",
    "    sfh_mass_weighted=sfh_mw_input,\n",
    "    agn_continuum=False,\n",
    "    isochrones=isochrones, z=z, SNR=SNR, sigma_star_kms=sigma_star_kms,\n",
    "    plotit=False)\n",
    "\n",
    "# Obtain the AGN spectrum on its own\n",
    "spec_agn = spec - spec_noagn\n",
    "\n",
    "# Apply extinction\n",
    "A_V = 1.0\n",
    "A_vals = extinction.fm07(lambda_vals_A, a_v=A_V, unit=\"aa\")\n",
    "ext_factor = 10**(-0.4 * A_vals)\n",
    "\n",
    "spec_ext = spec * ext_factor\n",
    "spec_ext_err = spec_err * ext_factor\n",
    "spec_ext_agn = spec_agn * ext_factor\n",
    "\n",
    "# Plot \n",
    "fig, axs = plt.subplots(nrows=2, figsize=(15, 7.5))\n",
    "axs[0].plot(lambda_vals_A, spec, label=\"Stellar continuum - before applying extinction\")\n",
    "axs[0].plot(lambda_vals_A, spec_ext, label=\"Stellar continuum - after applying extinction\")\n",
    "axs[0].plot(lambda_vals_A, spec_agn, label=\"Stellar continuum - before applying extinction\")\n",
    "axs[0].plot(lambda_vals_A, spec_ext_agn, label=\"Stellar continuum - after applying extinction\")\n",
    "axs[1].plot(lambda_vals_A, ext_factor, label=\"Extinction factor\")\n",
    "[ax.legend() for ax in axs]\n"
   ]
  },
  {
   "cell_type": "code",
   "execution_count": null,
   "metadata": {},
   "outputs": [],
   "source": [
    "###########################################################################\n",
    "# Run ppxf WITHOUT regularisation, using a MC approach\n",
    "###########################################################################\n",
    "# Input arguments\n",
    "seeds = list(np.random.randint(low=0, high=100 * niters, size=niters))\n",
    "args_list = [[s, spec, spec_err, lambda_vals_A] for s in seeds]\n",
    "\n",
    "# Run in parallel\n",
    "print(f\"Running ppxf on {nthreads} threads...\")\n",
    "t = time()\n",
    "with multiprocessing.Pool(nthreads) as pool:\n",
    "    pp_mc_list = list(tqdm(pool.imap(ppxf_helper, args_list), total=niters))\n",
    "print(f\"Total time in ppxf: {time() - t:.2f} s\")\n",
    "\n",
    "###########################################################################\n",
    "# Run ppxf with regularisation\n",
    "###########################################################################\n",
    "t = time()\n",
    "pp_regul = run_ppxf(spec=spec, spec_err=spec_err, lambda_vals_A=lambda_vals_A,\n",
    "              z=z, ngascomponents=1,\n",
    "              regularisation_method=\"auto\",\n",
    "              fit_agn_cont=True,\n",
    "              isochrones=isochrones,\n",
    "              fit_gas=False, tie_balmer=True,\n",
    "              delta_regul_min=1, regul_max=5e4, delta_delta_chi2_min=1,\n",
    "              plotit=False, savefigs=False, interactive_mode=False)\n",
    "print(f\"Total time in run_ppxf: {time() - t:.2f} seconds\")\n",
    "\n",
    "###########################################################################\n",
    "# Summary plots\n",
    "###########################################################################\n",
    "plot_ppxf_summary(sfh_lw_input, sfh_mw_input, pp_regul, pp_mc_list, isochrones)\n",
    "\n",
    "# Check the quality of the fit\n",
    "ppxf_plot(pp_regul)\n",
    "plt.gcf().plot(lambda_vals_A, spec_agn, label=\"AGN continuum (input)\")\n",
    "plt.gcf().legend()\n",
    "ppxf_plot(pp_mc_list[0])\n",
    "plt.gcf().plot(lambda_vals_A, spec_agn, label=\"AGN continuum (input)\")\n",
    "plt.gcf().legend()"
   ]
  },
  {
   "cell_type": "code",
   "execution_count": 82,
   "metadata": {},
   "outputs": [
    {
     "name": "stdout",
     "output_type": "stream",
     "text": [
      "[0.         0.         0.33595267 0.00840045]\n",
      "[0.         0.         0.29255563 0.04007049]\n",
      "[0.         0.         0.33287152 0.01067401]\n",
      "[0.         0.         0.34090081 0.00387884]\n",
      "[0.         0.         0.29818487 0.04054532]\n",
      "[0.         0.         0.31762147 0.01236431]\n",
      "[0.        0.        0.3409706 0.       ]\n",
      "[0.         0.         0.31611929 0.01681322]\n",
      "[0.         0.         0.32489925 0.02211988]\n",
      "[0.         0.         0.24939663 0.08382288]\n",
      "[0.         0.         0.25051072 0.08065105]\n",
      "[0.         0.         0.33545208 0.00231557]\n",
      "[0.         0.         0.27169184 0.06453099]\n",
      "[0.         0.         0.24772024 0.08503345]\n",
      "[0.         0.         0.33655061 0.0115635 ]\n",
      "[0.         0.         0.33799889 0.00492616]\n",
      "[0.         0.         0.28613719 0.05240256]\n",
      "[0.         0.         0.27195088 0.05965296]\n",
      "[0.         0.         0.31914658 0.01868204]\n",
      "[0.         0.         0.25556485 0.07590343]\n",
      "[0.         0.         0.27193773 0.05835284]\n",
      "[0.         0.         0.32361848 0.01545705]\n",
      "[0.         0.         0.30873598 0.03190421]\n",
      "[0.         0.         0.28493493 0.05117544]\n",
      "[0.         0.         0.33170377 0.00939595]\n",
      "[0.         0.00535285 0.33906896 0.        ]\n",
      "[0.         0.         0.31007536 0.02655082]\n",
      "[0.         0.         0.33084248 0.01192024]\n",
      "[0.         0.         0.29136331 0.04126379]\n",
      "[0.        0.        0.3443815 0.       ]\n",
      "[0.         0.         0.27258021 0.06086096]\n",
      "[0.         0.         0.308149   0.02629516]\n",
      "[0.         0.         0.23209932 0.10426725]\n",
      "[0.         0.         0.33131852 0.00051968]\n",
      "[0.         0.         0.28776003 0.04722967]\n",
      "[0.         0.00960789 0.33032598 0.        ]\n",
      "[0.         0.         0.32064334 0.01590656]\n",
      "[0.         0.01144046 0.33211118 0.        ]\n",
      "[0.         0.         0.25468704 0.07153386]\n",
      "[0.         0.         0.26946433 0.0674384 ]\n",
      "[0.         0.02326337 0.31631589 0.        ]\n",
      "[0.         0.         0.3290578  0.00819715]\n",
      "[0.         0.         0.32705442 0.01144621]\n",
      "[0.         0.         0.30705205 0.03245854]\n",
      "[0.         0.         0.28858254 0.04325494]\n",
      "[0.         0.0022878  0.34592311 0.        ]\n",
      "[0.         0.         0.25976296 0.06980989]\n",
      "[0.         0.00128394 0.34222549 0.        ]\n",
      "[0.         0.         0.28626331 0.04646455]\n",
      "[0.         0.         0.29147425 0.0382519 ]\n",
      "[0.         0.         0.34075773 0.00052395]\n",
      "[0.         0.         0.3080797  0.02822058]\n",
      "[0.         0.         0.33070216 0.00970504]\n",
      "[0.         0.         0.27794343 0.0592686 ]\n",
      "[0.         0.         0.25109467 0.07753429]\n",
      "[0.         0.         0.27617036 0.05359828]\n",
      "[0.         0.         0.30594148 0.03213544]\n",
      "[0.         0.         0.25661012 0.08064946]\n",
      "[0.         0.         0.31499448 0.02453044]\n",
      "[0.         0.         0.27118265 0.06214533]\n",
      "[0.         0.         0.25166436 0.07574224]\n",
      "[0.         0.         0.31595189 0.01533801]\n",
      "[0.         0.         0.24373112 0.08314058]\n",
      "[0.         0.00298975 0.34682362 0.        ]\n",
      "[0.         0.         0.29793716 0.03712402]\n",
      "[0.         0.01911484 0.32720625 0.        ]\n",
      "[0.         0.         0.2753149  0.05599124]\n",
      "[0.         0.         0.23833047 0.08636373]\n",
      "[0.         0.         0.33989806 0.        ]\n",
      "[0.         0.         0.30365879 0.03735766]\n",
      "[0.         0.         0.29699657 0.04450028]\n",
      "[0.         0.         0.27864697 0.05338316]\n",
      "[0.         0.         0.32311604 0.01447889]\n",
      "[0.         0.         0.32346903 0.01312404]\n",
      "[0.         0.         0.26287729 0.07455017]\n",
      "[0.         0.         0.33868732 0.        ]\n",
      "[0.         0.         0.28898726 0.04738102]\n",
      "[0.         0.         0.32391913 0.01567748]\n",
      "[0.         0.         0.27804865 0.05110823]\n",
      "[0.         0.         0.26729938 0.05393277]\n",
      "[0.         0.         0.31349088 0.0257428 ]\n",
      "[0.         0.         0.33397788 0.00524098]\n",
      "[0.         0.         0.31527728 0.02244855]\n",
      "[0.         0.         0.34312281 0.        ]\n",
      "[0.         0.         0.32782286 0.01973535]\n",
      "[0.         0.         0.2089666  0.11190121]\n",
      "[0.         0.         0.34016133 0.00207443]\n",
      "[0.         0.         0.26532531 0.07081386]\n",
      "[0.         0.         0.26818629 0.05685512]\n",
      "[0.         0.         0.29040275 0.05042735]\n",
      "[0.         0.         0.30987301 0.02901085]\n",
      "[0.         0.         0.28524267 0.04951105]\n",
      "[0.         0.         0.30094662 0.04015297]\n",
      "[0.         0.         0.28940314 0.04700446]\n",
      "[0.         0.         0.30691893 0.03679386]\n",
      "[0.         0.         0.27956858 0.05891359]\n",
      "[0.         0.         0.30999547 0.03326882]\n",
      "[0.         0.         0.25000769 0.08377886]\n",
      "[0.         0.         0.34282058 0.00362189]\n",
      "[0.         0.         0.27082519 0.06441349]\n"
     ]
    },
    {
     "data": {
      "application/vnd.jupyter.widget-view+json": {
       "model_id": "ab05a8749c8846b08194119d056329c3",
       "version_major": 2,
       "version_minor": 0
      },
      "text/plain": [
       "Canvas(toolbar=Toolbar(toolitems=[('Home', 'Reset original view', 'home', 'home'), ('Back', 'Back to previous …"
      ]
     },
     "metadata": {},
     "output_type": "display_data"
    },
    {
     "data": {
      "text/plain": [
       "Text(0, 0.5, '$N$')"
      ]
     },
     "execution_count": 82,
     "metadata": {},
     "output_type": "execute_result"
    }
   ],
   "source": [
    "###########################################################################\n",
    "# Parse the output\n",
    "###########################################################################\n",
    "# Print weights of \"sky templates\"\n",
    "nskytemps = len(pp_mc_list[0].weights[pp_mc_list[0].ntemp:])\n",
    "for pp in pp_mc_list:\n",
    "    print(pp.weights[pp.ntemp:])\n",
    "\n",
    "# Histograms showing the weights of the sky templates\n",
    "fig, ax = plt.subplots()\n",
    "for aa in range(nskytemps):\n",
    "    ax.hist([pp.weights[pp.ntemp:][aa] for pp in pp_mc_list], range=(0, 1), bins=20, histtype=\"step\", label=aa)\n",
    "ax.legend()\n",
    "ax.set_xlabel(\"AGN template weight\")\n",
    "ax.set_ylabel(r\"$N$\")\n",
    "    "
   ]
  },
  {
   "cell_type": "markdown",
   "metadata": {},
   "source": [
    "# PPXF: Varying both $L_{\\rm NT}$ and $\\alpha_\\nu$\n",
    "---"
   ]
  },
  {
   "cell_type": "code",
   "execution_count": 62,
   "metadata": {},
   "outputs": [],
   "source": [
    "###############################################################################\n",
    "# Settings\n",
    "###############################################################################\n",
    "isochrones = \"Padova\"\n",
    "SNR = 100\n",
    "z = 0.01\n",
    "\n",
    "# Get the age & metallicity dimensions\n",
    "_, _, metallicities, ages = load_ssp_templates(isochrones)\n",
    "N_ages = len(ages)\n",
    "N_metallicities = len(metallicities)\n",
    "bin_edges, bin_widths = get_bin_edges_and_widths(isochrones=isochrones)\n",
    "\n",
    "# ppxf settings\n",
    "niters = 100\n",
    "nthreads = 20\n",
    "\n",
    "# For analysis\n",
    "lambda_norm_A = 5000\n",
    "age_thresh_vals = [None, 1e9, None]\n",
    "\n",
    "# Parameters\n",
    "# alpha_nu_vals = np.linspace(0.3, 2.1, 5)  # What is a typical value for low-z Seyfert galaxies?\n",
    "# log_L_NT_vals = np.linspace(42, 44, 5)\n",
    "alpha_nu_vals = [0.3, 2.0]\n",
    "log_L_NT_vals = [42, 43, 44]\n"
   ]
  },
  {
   "cell_type": "code",
   "execution_count": 66,
   "metadata": {},
   "outputs": [
    {
     "data": {
      "application/vnd.jupyter.widget-view+json": {
       "model_id": "136240da559f43ee9300afe2f20c55a8",
       "version_major": 2,
       "version_minor": 0
      },
      "text/plain": [
       "Canvas(toolbar=Toolbar(toolitems=[('Home', 'Reset original view', 'home', 'home'), ('Back', 'Back to previous …"
      ]
     },
     "metadata": {},
     "output_type": "display_data"
    },
    {
     "data": {
      "application/vnd.jupyter.widget-view+json": {
       "model_id": "6d4af8b9315c4ae1b8111a650ec64d53",
       "version_major": 2,
       "version_minor": 0
      },
      "text/plain": [
       "Canvas(toolbar=Toolbar(toolitems=[('Home', 'Reset original view', 'home', 'home'), ('Back', 'Back to previous …"
      ]
     },
     "metadata": {},
     "output_type": "display_data"
    },
    {
     "data": {
      "application/vnd.jupyter.widget-view+json": {
       "model_id": "32bfd3a3f0b649daa7509950b85b5bd4",
       "version_major": 2,
       "version_minor": 0
      },
      "text/plain": [
       "Canvas(toolbar=Toolbar(toolitems=[('Home', 'Reset original view', 'home', 'home'), ('Back', 'Back to previous …"
      ]
     },
     "metadata": {},
     "output_type": "display_data"
    },
    {
     "data": {
      "application/vnd.jupyter.widget-view+json": {
       "model_id": "e95a4c31bc5e43179476ec46160defd3",
       "version_major": 2,
       "version_minor": 0
      },
      "text/plain": [
       "Canvas(toolbar=Toolbar(toolitems=[('Home', 'Reset original view', 'home', 'home'), ('Back', 'Back to previous …"
      ]
     },
     "metadata": {},
     "output_type": "display_data"
    },
    {
     "data": {
      "application/vnd.jupyter.widget-view+json": {
       "model_id": "12b9749dd82c48b9b523b8748c2d458a",
       "version_major": 2,
       "version_minor": 0
      },
      "text/plain": [
       "Canvas(toolbar=Toolbar(toolitems=[('Home', 'Reset original view', 'home', 'home'), ('Back', 'Back to previous …"
      ]
     },
     "metadata": {},
     "output_type": "display_data"
    },
    {
     "data": {
      "text/plain": [
       "(array([1.21216727e+40, 1.79949774e+40, 1.93929231e+40, ...,\n",
       "        2.10821502e+40, 2.11309114e+40, 1.78056878e+40]),\n",
       " array([1.20447209e+38, 1.81941317e+38, 1.90595754e+38, ...,\n",
       "        2.11493125e+38, 2.09762169e+38, 1.79820800e+38]),\n",
       " array([3500.        , 3500.77462622, 3501.54925243, ..., 6998.98661775,\n",
       "        6999.76124396, 7000.53587018]))"
      ]
     },
     "execution_count": 66,
     "metadata": {},
     "output_type": "execute_result"
    }
   ],
   "source": [
    "###############################################################################\n",
    "# Load a realistic SFH\n",
    "###############################################################################\n",
    "gal = 10\n",
    "sfh_mw_input, sfh_lw_input, sfr_avg_input, sigma_star_kms = load_sfh(gal, plotit=True)\n",
    "M_tot = np.nansum(sfh_mw_input)\n",
    "\n",
    "# Create the spectrum here, just so we can check it looks OK\n",
    "create_mock_spectrum(\n",
    "    sfh_mass_weighted=sfh_mw_input,\n",
    "    isochrones=isochrones, z=z, SNR=SNR, sigma_star_kms=sigma_star_kms,\n",
    "    plotit=True)\n"
   ]
  },
  {
   "cell_type": "code",
   "execution_count": 67,
   "metadata": {
    "scrolled": false
   },
   "outputs": [
    {
     "data": {
      "application/vnd.jupyter.widget-view+json": {
       "model_id": "f339cd329557490697af2022d976fd3c",
       "version_major": 2,
       "version_minor": 0
      },
      "text/plain": [
       "Canvas(toolbar=Toolbar(toolitems=[('Home', 'Reset original view', 'home', 'home'), ('Back', 'Back to previous …"
      ]
     },
     "metadata": {},
     "output_type": "display_data"
    }
   ],
   "source": [
    "###############################################################################\n",
    "# Before we run ppxf, plot the spectra\n",
    "###############################################################################\n",
    "fig, ax = plt.subplots(nrows=1, ncols=1, figsize=(10, 4))\n",
    "ax.set_xlabel(\"Observed wavelength (Å)\")\n",
    "ax.set_ylabel(r\"$F_\\lambda(\\lambda)\\,(erg\\,s^{-1}\\,Å^{-1})$\")\n",
    "\n",
    "# Plot spectrum without an AGN continuum added as a \"control\"\n",
    "spec, spec_err, lambda_vals_A = create_mock_spectrum(\n",
    "    sfh_mass_weighted=sfh_mw_input,\n",
    "    agn_continuum=False,\n",
    "    isochrones=isochrones, z=z, SNR=SNR, sigma_star_kms=sigma_star_kms,\n",
    "    plotit=False)\n",
    "lambda_norm_idx = np.nanargmin(np.abs(lambda_vals_A - lambda_norm_A))\n",
    "\n",
    "# Add to plot \n",
    "ax.errorbar(x=lambda_vals_A, y=spec, yerr=spec_err, label=\"No AGN continuum\", color=\"k\", zorder=10000, linewidth=0.5)\n",
    "\n",
    "for alpha_nu, log_L_NT in product(alpha_nu_vals, log_L_NT_vals):\n",
    "    # Create spectrum\n",
    "    L_NT = 10**log_L_NT\n",
    "    spec, spec_err, lambda_vals_A = create_mock_spectrum(\n",
    "        sfh_mass_weighted=sfh_mw_input,\n",
    "        agn_continuum=True, L_NT_erg_s=L_NT, alpha_nu=alpha_nu,\n",
    "        isochrones=isochrones, z=z, SNR=SNR, sigma_star_kms=sigma_star_kms,\n",
    "        plotit=False)\n",
    "\n",
    "    # Add to plot \n",
    "    ax.errorbar(x=lambda_vals_A, y=spec, yerr=spec_err, \n",
    "                label=r\"$\\alpha_\\nu = %.1f, L_{\\rm NT} = 10^{%.1f} \\,\\rm erg\\,s^{-1}$\" % (alpha_nu, log_L_NT))\n",
    "\n",
    "ax.legend(fontsize=\"x-small\")\n",
    "ax.set_yscale(\"log\")\n",
    "ax.autoscale(axis=\"x\", tight=True, enable=True)"
   ]
  },
  {
   "cell_type": "markdown",
   "metadata": {},
   "source": [
    "### Run ppxf with an added AGN continuum to investigate its effect on the recovered light/mass-weighted ages\n",
    "---"
   ]
  },
  {
   "cell_type": "code",
   "execution_count": 16,
   "metadata": {},
   "outputs": [
    {
     "name": "stdout",
     "output_type": "stream",
     "text": [
      "Running ppxf on 20 threads...\n"
     ]
    },
    {
     "data": {
      "application/vnd.jupyter.widget-view+json": {
       "model_id": "a89ea74422de480e8f3408ac9e40a100",
       "version_major": 2,
       "version_minor": 0
      },
      "text/plain": [
       "HBox(children=(IntProgress(value=0), HTML(value='')))"
      ]
     },
     "metadata": {},
     "output_type": "display_data"
    },
    {
     "name": "stdout",
     "output_type": "stream",
     "text": [
      "\n",
      "Total time in ppxf: 173.66 s\n",
      "----------------------------------------------------\n",
      "Iteration 0: Elapsed time in PPXF (single thread): 4.84 s\n",
      "----------------------------------------------------\n",
      "Iteration 1: Scaling noise by 1.4094...\n",
      "Iteration 1: Running ppxf on 20 threads...\n",
      "Iteration 1: Elapsed time in PPXF (multithreaded): 55.40 s\n",
      "Iteration 1: optimal regul = 10000.00; Δm = 2.79519e+11; Δregul = 500.00 (Δregul_min = 1.00); Δχ (goal) - Δχ = 46.040\n",
      "----------------------------------------------------\n",
      "Iteration 2: Re-running ppxf on 20 threads (iteration 2)...\n",
      "Iteration 2: Elapsed time in PPXF (multithreaded): 58.34 s\n",
      "Iteration 2: optimal regul = 20000.00; Δm = 3.00029e+09; Δregul = 500.00 (Δregul_min = 1.00); Δχ (goal) - Δχ = 36.926\n",
      "----------------------------------------------------\n",
      "Iteration 3: Re-running ppxf on 20 threads (iteration 3)...\n",
      "Iteration 3: Elapsed time in PPXF (multithreaded): 61.50 s\n",
      "Iteration 3: optimal regul = 30000.00; Δm = 2.95539e+09; Δregul = 500.00 (Δregul_min = 1.00); Δχ (goal) - Δχ = 30.495\n",
      "----------------------------------------------------\n",
      "Iteration 4: Re-running ppxf on 20 threads (iteration 4)...\n",
      "Iteration 4: Elapsed time in PPXF (multithreaded): 60.15 s\n",
      "Iteration 4: optimal regul = 40000.00; Δm = 2.63196e+09; Δregul = 500.00 (Δregul_min = 1.00); Δχ (goal) - Δχ = 25.228\n",
      "----------------------------------------------------\n",
      "Iteration 5: Re-running ppxf on 20 threads (iteration 5)...\n",
      "Iteration 5: Elapsed time in PPXF (multithreaded): 61.04 s\n",
      "Iteration 5: optimal regul = 50000.00; Δm = 2.00291e+09; Δregul = 500.00 (Δregul_min = 1.00); Δχ (goal) - Δχ = 21.155\n",
      "----------------------------------------------------\n",
      "STOPPING: Optimal regul value is >= 50000.0; using 50000.00 to produce the best fit\n",
      "Total time in run_ppxf: 302.71 seconds\n"
     ]
    }
   ],
   "source": [
    "###############################################################################\n",
    "# Run ppxf without an AGN continuum added as a \"control\"\n",
    "###############################################################################\n",
    "# Create spectrum\n",
    "spec, spec_err, lambda_vals_A = create_mock_spectrum(\n",
    "    sfh_mass_weighted=sfh_mw_input,\n",
    "    agn_continuum=False,\n",
    "    isochrones=isochrones, z=z, SNR=SNR, sigma_star_kms=sigma_star_kms,\n",
    "    plotit=False)\n",
    "\n",
    "###########################################################################\n",
    "# Run ppxf WITHOUT regularisation, using a MC approach\n",
    "###########################################################################\n",
    "# Input arguments\n",
    "seeds = list(np.random.randint(low=0, high=100 * niters, size=niters))\n",
    "args_list = [[s, spec, spec_err, lambda_vals_A] for s in seeds]\n",
    "\n",
    "# Run in parallel\n",
    "print(f\"Running ppxf on {nthreads} threads...\")\n",
    "t = time()\n",
    "with multiprocessing.Pool(nthreads) as pool:\n",
    "    pp_mc_list = list(tqdm(pool.imap(ppxf_helper, args_list), total=niters))\n",
    "print(f\"Total time in ppxf: {time() - t:.2f} s\")\n",
    "\n",
    "###########################################################################\n",
    "# Run ppxf with regularisation\n",
    "###########################################################################\n",
    "t = time()\n",
    "pp_regul = run_ppxf(spec=spec, spec_err=spec_err, lambda_vals_A=lambda_vals_A,\n",
    "              z=z, ngascomponents=1,\n",
    "              regularisation_method=\"auto\",\n",
    "              isochrones=isochrones,\n",
    "              fit_gas=False, tie_balmer=True,\n",
    "              delta_regul_min=1, regul_max=5e4, delta_delta_chi2_min=1,\n",
    "              plotit=False, savefigs=False, interactive_mode=False)\n",
    "print(f\"Total time in run_ppxf: {time() - t:.2f} seconds\")\n"
   ]
  },
  {
   "cell_type": "code",
   "execution_count": 34,
   "metadata": {},
   "outputs": [],
   "source": [
    "df = pd.DataFrame()"
   ]
  },
  {
   "cell_type": "code",
   "execution_count": 35,
   "metadata": {},
   "outputs": [],
   "source": [
    "###########################################################################\n",
    "# Compute mean quantities from the ppxf runs\n",
    "###########################################################################\n",
    "thisrow = {}  # Row to append to DataFrame\n",
    "thisrow[\"AGN continuum\"] = False\n",
    "thisrow[\"alpha_nu\"] = np.nan\n",
    "thisrow[\"log L_NT\"] = np.nan\n",
    "\n",
    "# Compute the mean SFH and SFR from the lists of MC runs\n",
    "sfh_MC_lw_1D_mean = compute_mean_1D_sfh(pp_mc_list, isochrones, \"lw\")\n",
    "sfh_MC_mw_1D_mean = compute_mean_1D_sfh(pp_mc_list, isochrones, \"mw\")\n",
    "sfr_avg_MC = compute_mean_sfr(pp_mc_list, isochrones)\n",
    "sfh_regul_mw_1D = pp_regul.sfh_mw_1D\n",
    "sfh_regul_lw_1D = pp_regul.sfh_lw_1D\n",
    "sfr_avg_regul = pp_regul.sfr_mean\n",
    "\n",
    "# Compute the mean mass- and light-weighted ages plus the total mass in a series of age ranges\n",
    "for aa in range(len(age_thresh_vals) - 1):\n",
    "    age_thresh_lower = age_thresh_vals[aa]\n",
    "    age_thresh_upper = age_thresh_vals[aa + 1]\n",
    "    \n",
    "    if age_thresh_lower is None:\n",
    "        age_thresh_lower = ages[0]\n",
    "    if age_thresh_upper is None:\n",
    "        age_thresh_upper = ages[-1]\n",
    "    age_str = f\"{np.log10(age_thresh_lower):.2f} < log t < {np.log10(age_thresh_upper):.2f}\"\n",
    "        \n",
    "    # MC runs: compute the mean mass- and light-weighted ages plus the total mass in this age range\n",
    "    age_lw_mean, age_lw_std = compute_mean_age(pp_mc_list, isochrones, \"lw\", age_thresh_lower, age_thresh_upper)\n",
    "    age_mw_mean, age_mw_std = compute_mean_age(pp_mc_list, isochrones, \"mw\", age_thresh_lower, age_thresh_upper)\n",
    "    mass_mean, mass_std = compute_mean_mass(pp_mc_list, isochrones, age_thresh_lower=age_thresh_lower, age_thresh_upper=age_thresh_upper)\n",
    "    \n",
    "    # Regul run: compute the mean mass- and light-weighted ages plus the total mass in this age range\n",
    "    age_mw_regul = 10**compute_mw_age(sfh_regul_lw_1D, isochrones=isochrones, age_thresh_lower=age_thresh_lower, age_thresh_upper=age_thresh_upper)[0]\n",
    "    age_lw_regul = 10**compute_lw_age(sfh_regul_mw_1D, isochrones=isochrones, age_thresh_lower=age_thresh_lower, age_thresh_upper=age_thresh_upper)[0]\n",
    "    mass_regul = compute_mass(sfh_regul_mw_1D, isochrones=isochrones, age_thresh_lower=age_thresh_lower, age_thresh_upper=age_thresh_upper)\n",
    "\n",
    "    # Input: compute the mean mass- and light-weighted ages plus the total mass in this age range\n",
    "    age_mw_input = 10**compute_mw_age(sfh_lw_input, isochrones=isochrones, age_thresh_lower=age_thresh_lower, age_thresh_upper=age_thresh_upper)[0]\n",
    "    age_lw_input = 10**compute_lw_age(sfh_mw_input, isochrones=isochrones, age_thresh_lower=age_thresh_lower, age_thresh_upper=age_thresh_upper)[0]\n",
    "    mass_input = compute_mass(sfh_mw_input, isochrones=isochrones, age_thresh_lower=age_thresh_lower, age_thresh_upper=age_thresh_upper)\n",
    "\n",
    "    # Put in DataFrame\n",
    "    thisrow[f\"MW age {age_str} (input)\"] = age_mw_input\n",
    "    thisrow[f\"LW age {age_str} (input)\"] = age_lw_input\n",
    "    thisrow[f\"Mass {age_str} (input)\"] = mass_input\n",
    "    thisrow[f\"MW age {age_str} (MC) mean\"] = age_mw_mean\n",
    "    thisrow[f\"LW age {age_str} (MC) mean\"] = age_lw_mean\n",
    "    thisrow[f\"Mass {age_str} (MC) mean\"] = mass_mean\n",
    "    thisrow[f\"MW age {age_str} (MC) std. dev.\"] = age_mw_std\n",
    "    thisrow[f\"LW age {age_str} (MC) std. dev.\"] = age_lw_std\n",
    "    thisrow[f\"Mass {age_str} (MC) std. dev.\"] = mass_std\n",
    "    thisrow[f\"MW age {age_str} (regularised)\"] = age_mw_regul\n",
    "    thisrow[f\"LW age {age_str} (regularised)\"] = age_lw_regul\n",
    "    thisrow[f\"Mass {age_str} (regularised)\"] = mass_regul\n",
    "\n",
    "df = df.append(thisrow, ignore_index=True)"
   ]
  },
  {
   "cell_type": "code",
   "execution_count": 39,
   "metadata": {
    "scrolled": true
   },
   "outputs": [
    {
     "name": "stdout",
     "output_type": "stream",
     "text": [
      "Running ppxf on 20 threads...\n"
     ]
    },
    {
     "data": {
      "application/vnd.jupyter.widget-view+json": {
       "model_id": "f768e2f830f34857a67eedd3e63fd5d8",
       "version_major": 2,
       "version_minor": 0
      },
      "text/plain": [
       "HBox(children=(IntProgress(value=0), HTML(value='')))"
      ]
     },
     "metadata": {},
     "output_type": "display_data"
    },
    {
     "name": "stdout",
     "output_type": "stream",
     "text": [
      "\n",
      "Total time in ppxf: 183.85 s\n",
      "----------------------------------------------------\n",
      "Iteration 0: Elapsed time in PPXF (single thread): 4.63 s\n",
      "----------------------------------------------------\n",
      "Iteration 1: Scaling noise by 1.3931...\n",
      "Iteration 1: Running ppxf on 20 threads...\n",
      "Iteration 1: Elapsed time in PPXF (multithreaded): 58.96 s\n",
      "Iteration 1: optimal regul = 10000.00; Δm = 2.63113e+11; Δregul = 500.00 (Δregul_min = 1.00); Δχ (goal) - Δχ = 43.149\n",
      "----------------------------------------------------\n",
      "Iteration 2: Re-running ppxf on 20 threads (iteration 2)...\n",
      "Iteration 2: Elapsed time in PPXF (multithreaded): 61.39 s\n",
      "Iteration 2: optimal regul = 20000.00; Δm = 9.45055e+09; Δregul = 500.00 (Δregul_min = 1.00); Δχ (goal) - Δχ = 23.045\n",
      "----------------------------------------------------\n",
      "Iteration 3: Re-running ppxf on 20 threads (iteration 3)...\n",
      "Iteration 3: Elapsed time in PPXF (multithreaded): 62.61 s\n",
      "Iteration 3: optimal regul = 30000.00; Δm = 5.27867e+09; Δregul = 500.00 (Δregul_min = 1.00); Δχ (goal) - Δχ = 8.965\n",
      "----------------------------------------------------\n",
      "Iteration 4: Re-running ppxf on 20 threads (iteration 4)...\n",
      "Iteration 4: Elapsed time in PPXF (multithreaded): 61.32 s\n",
      "Iteration 4: optimal regul = 38000.00; Δm = 3.02617e+09; Δregul = 500.00 (Δregul_min = 1.00); Δχ (goal) - Δχ = 0.040\n",
      "----------------------------------------------------\n",
      "STOPPING: Convergence criterion reached; Δχ (goal) - Δχ = 0.04004315076163323; using 38000.00 to produce the best fit\n",
      "Total time in run_ppxf: 250.34 seconds\n",
      "Running ppxf on 20 threads...\n"
     ]
    },
    {
     "data": {
      "application/vnd.jupyter.widget-view+json": {
       "model_id": "8625fd334af14e70934bae46474ffb9e",
       "version_major": 2,
       "version_minor": 0
      },
      "text/plain": [
       "HBox(children=(IntProgress(value=0), HTML(value='')))"
      ]
     },
     "metadata": {},
     "output_type": "display_data"
    },
    {
     "name": "stdout",
     "output_type": "stream",
     "text": [
      "\n",
      "Total time in ppxf: 175.80 s\n",
      "----------------------------------------------------\n",
      "Iteration 0: Elapsed time in PPXF (single thread): 3.64 s\n",
      "----------------------------------------------------\n",
      "Iteration 1: Scaling noise by 1.4126...\n",
      "Iteration 1: Running ppxf on 20 threads...\n",
      "Iteration 1: Elapsed time in PPXF (multithreaded): 57.46 s\n",
      "Iteration 1: optimal regul = 8500.00; Δm = 2.94525e+11; Δregul = 500.00 (Δregul_min = 1.00); Δχ (goal) - Δχ = 1.083\n",
      "----------------------------------------------------\n",
      "Iteration 2: Re-running ppxf on 20 threads (iteration 2)...\n",
      "Iteration 2: Elapsed time in PPXF (multithreaded): 63.25 s\n",
      "Iteration 2: optimal regul = 8400.00; Δm = 9.07374e+07; Δregul = 100.00 (Δregul_min = 1.00); Δχ (goal) - Δχ = 0.357\n",
      "----------------------------------------------------\n",
      "STOPPING: Convergence criterion reached; Δχ (goal) - Δχ = 0.35653909864910815; using 8400.00 to produce the best fit\n",
      "Total time in run_ppxf: 125.76 seconds\n",
      "Running ppxf on 20 threads...\n"
     ]
    },
    {
     "data": {
      "application/vnd.jupyter.widget-view+json": {
       "model_id": "ca138b86e2eb4953b4193f6a9db80727",
       "version_major": 2,
       "version_minor": 0
      },
      "text/plain": [
       "HBox(children=(IntProgress(value=0), HTML(value='')))"
      ]
     },
     "metadata": {},
     "output_type": "display_data"
    },
    {
     "name": "stdout",
     "output_type": "stream",
     "text": [
      "\n",
      "Total time in ppxf: 265.35 s\n",
      "----------------------------------------------------\n",
      "Iteration 0: Elapsed time in PPXF (single thread): 5.93 s\n",
      "----------------------------------------------------\n",
      "Iteration 1: Scaling noise by 1.5691...\n",
      "Iteration 1: Running ppxf on 20 threads...\n",
      "Iteration 1: Elapsed time in PPXF (multithreaded): 86.12 s\n",
      "Iteration 1: optimal regul = 0.00; Δm = 3.05882; Δregul = 500.00 (Δregul_min = 1.00); Δχ (goal) - Δχ = 95.079\n",
      "----------------------------------------------------\n",
      "Iteration 2: Re-running ppxf on 20 threads (iteration 2)...\n",
      "Iteration 2: Elapsed time in PPXF (multithreaded): 85.89 s\n",
      "Iteration 2: optimal regul = 100.00; Δm = 3.63303e+11; Δregul = 100.00 (Δregul_min = 1.00); Δχ (goal) - Δχ = 28.196\n",
      "----------------------------------------------------\n",
      "Iteration 3: Re-running ppxf on 20 threads (iteration 3)...\n",
      "Iteration 3: Elapsed time in PPXF (multithreaded): 70.70 s\n",
      "Iteration 3: optimal regul = 40.00; Δm = 7.85507e+10; Δregul = 20.00 (Δregul_min = 1.00); Δχ (goal) - Δχ = 1.974\n",
      "----------------------------------------------------\n",
      "Iteration 4: Re-running ppxf on 20 threads (iteration 4)...\n",
      "Iteration 4: Elapsed time in PPXF (multithreaded): 67.32 s\n",
      "Iteration 4: optimal regul = 40.00; Δm = 0; Δregul = 4.00 (Δregul_min = 1.00); Δχ (goal) - Δχ = 1.974\n",
      "----------------------------------------------------\n",
      "Iteration 5: Re-running ppxf on 20 threads (iteration 5)...\n",
      "Iteration 5: Elapsed time in PPXF (multithreaded): 59.33 s\n",
      "Iteration 5: optimal regul = 38.40; Δm = 3.96481e+09; Δregul = 0.80 (Δregul_min = 1.00); Δχ (goal) - Δχ = 0.271\n",
      "----------------------------------------------------\n",
      "STOPPING: Minimum spacing between regul values reached; using 38.40 to produce the best fit\n",
      "Total time in run_ppxf: 376.68 seconds\n",
      "Running ppxf on 20 threads...\n"
     ]
    },
    {
     "data": {
      "application/vnd.jupyter.widget-view+json": {
       "model_id": "3b1a03e673094fdaa9d7e2e0f8b06a7f",
       "version_major": 2,
       "version_minor": 0
      },
      "text/plain": [
       "HBox(children=(IntProgress(value=0), HTML(value='')))"
      ]
     },
     "metadata": {},
     "output_type": "display_data"
    },
    {
     "name": "stdout",
     "output_type": "stream",
     "text": [
      "\n",
      "Total time in ppxf: 193.08 s\n",
      "----------------------------------------------------\n",
      "Iteration 0: Elapsed time in PPXF (single thread): 4.83 s\n",
      "----------------------------------------------------\n",
      "Iteration 1: Scaling noise by 1.3782...\n",
      "Iteration 1: Running ppxf on 20 threads...\n",
      "Iteration 1: Elapsed time in PPXF (multithreaded): 60.86 s\n",
      "Iteration 1: optimal regul = 10000.00; Δm = 2.5507e+11; Δregul = 500.00 (Δregul_min = 1.00); Δχ (goal) - Δχ = 51.857\n",
      "----------------------------------------------------\n",
      "Iteration 2: Re-running ppxf on 20 threads (iteration 2)...\n",
      "Iteration 2: Elapsed time in PPXF (multithreaded): 65.70 s\n",
      "Iteration 2: optimal regul = 20000.00; Δm = 5.84765e+09; Δregul = 500.00 (Δregul_min = 1.00); Δχ (goal) - Δχ = 44.825\n",
      "----------------------------------------------------\n",
      "Iteration 3: Re-running ppxf on 20 threads (iteration 3)...\n",
      "Iteration 3: Elapsed time in PPXF (multithreaded): 67.86 s\n",
      "Iteration 3: optimal regul = 30000.00; Δm = 3.52356e+09; Δregul = 500.00 (Δregul_min = 1.00); Δχ (goal) - Δχ = 39.307\n",
      "----------------------------------------------------\n",
      "Iteration 4: Re-running ppxf on 20 threads (iteration 4)...\n",
      "Iteration 4: Elapsed time in PPXF (multithreaded): 65.08 s\n",
      "Iteration 4: optimal regul = 40000.00; Δm = 2.37551e+09; Δregul = 500.00 (Δregul_min = 1.00); Δχ (goal) - Δχ = 34.661\n",
      "----------------------------------------------------\n",
      "Iteration 5: Re-running ppxf on 20 threads (iteration 5)...\n",
      "Iteration 5: Elapsed time in PPXF (multithreaded): 64.10 s\n",
      "Iteration 5: optimal regul = 50000.00; Δm = 1.39066e+09; Δregul = 500.00 (Δregul_min = 1.00); Δχ (goal) - Δχ = 31.178\n",
      "----------------------------------------------------\n",
      "STOPPING: Optimal regul value is >= 50000.0; using 50000.00 to produce the best fit\n",
      "Total time in run_ppxf: 329.79 seconds\n",
      "Running ppxf on 20 threads...\n"
     ]
    },
    {
     "data": {
      "application/vnd.jupyter.widget-view+json": {
       "model_id": "2ae1e2c1f9b84598a84bda5a286b2020",
       "version_major": 2,
       "version_minor": 0
      },
      "text/plain": [
       "HBox(children=(IntProgress(value=0), HTML(value='')))"
      ]
     },
     "metadata": {},
     "output_type": "display_data"
    },
    {
     "name": "stdout",
     "output_type": "stream",
     "text": [
      "\n",
      "Total time in ppxf: 198.64 s\n",
      "----------------------------------------------------\n",
      "Iteration 0: Elapsed time in PPXF (single thread): 4.32 s\n",
      "----------------------------------------------------\n",
      "Iteration 1: Scaling noise by 1.3922...\n",
      "Iteration 1: Running ppxf on 20 threads...\n",
      "Iteration 1: Elapsed time in PPXF (multithreaded): 61.53 s\n",
      "Iteration 1: optimal regul = 10000.00; Δm = 3.2943e+11; Δregul = 500.00 (Δregul_min = 1.00); Δχ (goal) - Δχ = 13.116\n",
      "----------------------------------------------------\n",
      "Iteration 2: Re-running ppxf on 20 threads (iteration 2)...\n",
      "Iteration 2: Elapsed time in PPXF (multithreaded): 67.18 s\n",
      "Iteration 2: optimal regul = 17000.00; Δm = 3.92924e+09; Δregul = 500.00 (Δregul_min = 1.00); Δχ (goal) - Δχ = 0.043\n",
      "----------------------------------------------------\n",
      "STOPPING: Convergence criterion reached; Δχ (goal) - Δχ = 0.04252173071087384; using 17000.00 to produce the best fit\n",
      "Total time in run_ppxf: 134.33 seconds\n",
      "Running ppxf on 20 threads...\n"
     ]
    },
    {
     "data": {
      "application/vnd.jupyter.widget-view+json": {
       "model_id": "83600c385ce442b9aefc98b48268db22",
       "version_major": 2,
       "version_minor": 0
      },
      "text/plain": [
       "HBox(children=(IntProgress(value=0), HTML(value='')))"
      ]
     },
     "metadata": {},
     "output_type": "display_data"
    },
    {
     "name": "stdout",
     "output_type": "stream",
     "text": [
      "\n",
      "Total time in ppxf: 222.26 s\n",
      "----------------------------------------------------\n",
      "Iteration 0: Elapsed time in PPXF (single thread): 5.12 s\n",
      "----------------------------------------------------\n",
      "Iteration 1: Scaling noise by 1.5864...\n",
      "Iteration 1: Running ppxf on 20 threads...\n",
      "Iteration 1: Elapsed time in PPXF (multithreaded): 79.00 s\n",
      "Iteration 1: optimal regul = 500.00; Δm = 4.48507e+11; Δregul = 500.00 (Δregul_min = 1.00); Δχ (goal) - Δχ = 53.032\n",
      "----------------------------------------------------\n",
      "Iteration 2: Re-running ppxf on 20 threads (iteration 2)...\n",
      "Iteration 2: Elapsed time in PPXF (multithreaded): 82.78 s\n",
      "Iteration 2: optimal regul = 100.00; Δm = 6.86619e+10; Δregul = 100.00 (Δregul_min = 1.00); Δχ (goal) - Δχ = 14.372\n",
      "----------------------------------------------------\n",
      "Iteration 3: Re-running ppxf on 20 threads (iteration 3)...\n",
      "Iteration 3: Elapsed time in PPXF (multithreaded): 71.38 s\n",
      "Iteration 3: optimal regul = 60.00; Δm = 3.24681e+10; Δregul = 20.00 (Δregul_min = 1.00); Δχ (goal) - Δχ = 1.485\n",
      "----------------------------------------------------\n",
      "Iteration 4: Re-running ppxf on 20 threads (iteration 4)...\n",
      "Iteration 4: Elapsed time in PPXF (multithreaded): 67.47 s\n",
      "Iteration 4: optimal regul = 64.00; Δm = 4.73723e+09; Δregul = 4.00 (Δregul_min = 1.00); Δχ (goal) - Δχ = 0.815\n",
      "----------------------------------------------------\n",
      "STOPPING: Convergence criterion reached; Δχ (goal) - Δχ = 0.8153084539487594; using 64.00 to produce the best fit\n",
      "Total time in run_ppxf: 307.12 seconds\n"
     ]
    }
   ],
   "source": [
    "###############################################################################\n",
    "# The effect of the strength and exponent of the AGN continuum on the recovered SFH\n",
    "###############################################################################\n",
    "for aa, alpha_nu in enumerate(alpha_nu_vals):\n",
    "    for ll, log_L_NT in enumerate(log_L_NT_vals):\n",
    "        ###############################################################################\n",
    "        # Run ppxf without an AGN continuum added as a \"control\"\n",
    "        ###############################################################################\n",
    "        # Create spectrum\n",
    "        spec, spec_err, lambda_vals_A = create_mock_spectrum(\n",
    "            sfh_mass_weighted=sfh_mw_input,\n",
    "            agn_continuum=True, L_NT_erg_s=10**log_L_NT, alpha_nu=alpha_nu,\n",
    "            isochrones=isochrones, z=z, SNR=SNR, sigma_star_kms=sigma_star_kms,\n",
    "            plotit=False)\n",
    "\n",
    "        ###########################################################################\n",
    "        # Run ppxf WITHOUT regularisation, using a MC approach\n",
    "        ###########################################################################\n",
    "        # Input arguments\n",
    "        seeds = list(np.random.randint(low=0, high=100 * niters, size=niters))\n",
    "        args_list = [[s, spec, spec_err, lambda_vals_A] for s in seeds]\n",
    "\n",
    "        # Run in parallel\n",
    "        print(f\"Running ppxf on {nthreads} threads...\")\n",
    "        t = time()\n",
    "        with multiprocessing.Pool(nthreads) as pool:\n",
    "            pp_mc_list = list(tqdm(pool.imap(ppxf_helper, args_list), total=niters))\n",
    "        print(f\"Total time in ppxf: {time() - t:.2f} s\")\n",
    "\n",
    "        ###########################################################################\n",
    "        # Run ppxf with regularisation\n",
    "        ###########################################################################\n",
    "        t = time()\n",
    "        pp_regul = run_ppxf(spec=spec, spec_err=spec_err, lambda_vals_A=lambda_vals_A,\n",
    "                      z=z, ngascomponents=1,\n",
    "                      regularisation_method=\"auto\",\n",
    "                      isochrones=isochrones,\n",
    "                      fit_gas=False, tie_balmer=True,\n",
    "                      delta_regul_min=1, regul_max=5e4, delta_delta_chi2_min=1,\n",
    "                      plotit=False, savefigs=False, interactive_mode=False)\n",
    "        print(f\"Total time in run_ppxf: {time() - t:.2f} seconds\")\n",
    "\n",
    "        ###########################################################################\n",
    "        # Compute mean quantities from the ppxf runs\n",
    "        ###########################################################################\n",
    "        thisrow = {}  # Row to append to DataFrame\n",
    "        thisrow[\"AGN continuum\"] = True\n",
    "        thisrow[\"alpha_nu\"] = alpha_nu\n",
    "        thisrow[\"log L_NT\"] = log_L_NT\n",
    "\n",
    "        # Compute the mean SFH and SFR from the lists of MC runs\n",
    "        sfh_MC_lw_1D_mean = compute_mean_1D_sfh(pp_mc_list, isochrones, \"lw\")\n",
    "        sfh_MC_mw_1D_mean = compute_mean_1D_sfh(pp_mc_list, isochrones, \"mw\")\n",
    "        sfr_avg_MC = compute_mean_sfr(pp_mc_list, isochrones)\n",
    "        sfh_regul_mw_1D = pp_regul.sfh_mw_1D\n",
    "        sfh_regul_lw_1D = pp_regul.sfh_lw_1D\n",
    "        sfr_avg_regul = pp_regul.sfr_mean\n",
    "\n",
    "        # Compute the mean mass- and light-weighted ages plus the total mass in a series of age ranges\n",
    "        for aa in range(len(age_thresh_vals) - 1):\n",
    "            age_thresh_lower = age_thresh_vals[aa]\n",
    "            age_thresh_upper = age_thresh_vals[aa + 1]\n",
    "\n",
    "            if age_thresh_lower is None:\n",
    "                age_thresh_lower = ages[0]\n",
    "            if age_thresh_upper is None:\n",
    "                age_thresh_upper = ages[-1]\n",
    "            age_str = f\"{np.log10(age_thresh_lower):.2f} < log t < {np.log10(age_thresh_upper):.2f}\"\n",
    "\n",
    "            # MC runs: compute the mean mass- and light-weighted ages plus the total mass in this age range\n",
    "            age_lw_mean, age_lw_std = compute_mean_age(pp_mc_list, isochrones, \"lw\", age_thresh_lower, age_thresh_upper)\n",
    "            age_mw_mean, age_mw_std = compute_mean_age(pp_mc_list, isochrones, \"mw\", age_thresh_lower, age_thresh_upper)\n",
    "            mass_mean, mass_std = compute_mean_mass(pp_mc_list, isochrones, age_thresh_lower=age_thresh_lower, age_thresh_upper=age_thresh_upper)\n",
    "\n",
    "            # Regul run: compute the mean mass- and light-weighted ages plus the total mass in this age range\n",
    "            age_mw_regul = 10**compute_mw_age(sfh_regul_lw_1D, isochrones=isochrones, age_thresh_lower=age_thresh_lower, age_thresh_upper=age_thresh_upper)[0]\n",
    "            age_lw_regul = 10**compute_lw_age(sfh_regul_mw_1D, isochrones=isochrones, age_thresh_lower=age_thresh_lower, age_thresh_upper=age_thresh_upper)[0]\n",
    "            mass_regul = compute_mass(sfh_regul_mw_1D, isochrones=isochrones, age_thresh_lower=age_thresh_lower, age_thresh_upper=age_thresh_upper)\n",
    "\n",
    "            # Input: compute the mean mass- and light-weighted ages plus the total mass in this age range\n",
    "            age_mw_input = 10**compute_mw_age(sfh_lw_input, isochrones=isochrones, age_thresh_lower=age_thresh_lower, age_thresh_upper=age_thresh_upper)[0]\n",
    "            age_lw_input = 10**compute_lw_age(sfh_mw_input, isochrones=isochrones, age_thresh_lower=age_thresh_lower, age_thresh_upper=age_thresh_upper)[0]\n",
    "            mass_input = compute_mass(sfh_mw_input, isochrones=isochrones, age_thresh_lower=age_thresh_lower, age_thresh_upper=age_thresh_upper)\n",
    "\n",
    "            # Put in DataFrame\n",
    "            thisrow[f\"MW age {age_str} (input)\"] = age_mw_input\n",
    "            thisrow[f\"LW age {age_str} (input)\"] = age_lw_input\n",
    "            thisrow[f\"Mass {age_str} (input)\"] = mass_input\n",
    "            thisrow[f\"MW age {age_str} (MC) mean\"] = age_mw_mean\n",
    "            thisrow[f\"LW age {age_str} (MC) mean\"] = age_lw_mean\n",
    "            thisrow[f\"Mass {age_str} (MC) mean\"] = mass_mean\n",
    "            thisrow[f\"MW age {age_str} (MC) std. dev.\"] = age_mw_std\n",
    "            thisrow[f\"LW age {age_str} (MC) std. dev.\"] = age_lw_std\n",
    "            thisrow[f\"Mass {age_str} (MC) std. dev.\"] = mass_std\n",
    "            thisrow[f\"MW age {age_str} (regularised)\"] = age_mw_regul\n",
    "            thisrow[f\"LW age {age_str} (regularised)\"] = age_lw_regul\n",
    "            thisrow[f\"Mass {age_str} (regularised)\"] = mass_regul\n",
    "\n",
    "        df = df.append(thisrow, ignore_index=True)"
   ]
  },
  {
   "cell_type": "code",
   "execution_count": 74,
   "metadata": {},
   "outputs": [],
   "source": [
    "###############################################################################\n",
    "# Save DataFrame to file \n",
    "###############################################################################\n",
    "# Add metadata \n",
    "df[\"SNR\"] = SNR\n",
    "df[\"niters\"] = niters\n",
    "df[\"nthreads\"] = nthreads\n",
    "df[\"z\"] = z\n",
    "df[\"Emission lines\"] = False\n",
    "df[\"isochrones\"] = isochrones\n",
    "df[\"sigma_star_kms\"] = sigma_star_kms\n",
    "\n",
    "# Save\n",
    "df.to_hdf(os.path.join(data_path, f\"ga{gal}_agncont.hd5\"), key=\"agn\")\n"
   ]
  },
  {
   "cell_type": "markdown",
   "metadata": {},
   "source": [
    "### Load the DataFrames storing the output of each AGN continuum run and plot the derived age estimates\n",
    "---"
   ]
  },
  {
   "cell_type": "code",
   "execution_count": 17,
   "metadata": {
    "scrolled": false
   },
   "outputs": [
    {
     "data": {
      "application/vnd.jupyter.widget-view+json": {
       "model_id": "84ba5bf6e4a346909eaa3449f5360a10",
       "version_major": 2,
       "version_minor": 0
      },
      "text/plain": [
       "Canvas(toolbar=Toolbar(toolitems=[('Home', 'Reset original view', 'home', 'home'), ('Back', 'Back to previous …"
      ]
     },
     "metadata": {},
     "output_type": "display_data"
    },
    {
     "data": {
      "application/vnd.jupyter.widget-view+json": {
       "model_id": "468f4bff595143658d4f87848bbf5b42",
       "version_major": 2,
       "version_minor": 0
      },
      "text/plain": [
       "Canvas(toolbar=Toolbar(toolitems=[('Home', 'Reset original view', 'home', 'home'), ('Back', 'Back to previous …"
      ]
     },
     "metadata": {},
     "output_type": "display_data"
    },
    {
     "data": {
      "application/vnd.jupyter.widget-view+json": {
       "model_id": "ac555e10396b4acfb0979839f186567d",
       "version_major": 2,
       "version_minor": 0
      },
      "text/plain": [
       "Canvas(toolbar=Toolbar(toolitems=[('Home', 'Reset original view', 'home', 'home'), ('Back', 'Back to previous …"
      ]
     },
     "metadata": {},
     "output_type": "display_data"
    },
    {
     "data": {
      "application/vnd.jupyter.widget-view+json": {
       "model_id": "0357fc5073414198b2af66fd08f45990",
       "version_major": 2,
       "version_minor": 0
      },
      "text/plain": [
       "Canvas(toolbar=Toolbar(toolitems=[('Home', 'Reset original view', 'home', 'home'), ('Back', 'Back to previous …"
      ]
     },
     "metadata": {},
     "output_type": "display_data"
    },
    {
     "data": {
      "application/vnd.jupyter.widget-view+json": {
       "model_id": "0858eecdb3b74be1b1687dddf45a3150",
       "version_major": 2,
       "version_minor": 0
      },
      "text/plain": [
       "Canvas(toolbar=Toolbar(toolitems=[('Home', 'Reset original view', 'home', 'home'), ('Back', 'Back to previous …"
      ]
     },
     "metadata": {},
     "output_type": "display_data"
    },
    {
     "data": {
      "application/vnd.jupyter.widget-view+json": {
       "model_id": "0f519a1e85d44f6a8c52aa49ebd569ce",
       "version_major": 2,
       "version_minor": 0
      },
      "text/plain": [
       "Canvas(toolbar=Toolbar(toolitems=[('Home', 'Reset original view', 'home', 'home'), ('Back', 'Back to previous …"
      ]
     },
     "metadata": {},
     "output_type": "display_data"
    },
    {
     "data": {
      "application/vnd.jupyter.widget-view+json": {
       "model_id": "a4f11ee7ceee44ee9e223269564790c4",
       "version_major": 2,
       "version_minor": 0
      },
      "text/plain": [
       "Canvas(toolbar=Toolbar(toolitems=[('Home', 'Reset original view', 'home', 'home'), ('Back', 'Back to previous …"
      ]
     },
     "metadata": {},
     "output_type": "display_data"
    },
    {
     "data": {
      "application/vnd.jupyter.widget-view+json": {
       "model_id": "3cdfe3d914e94dafbe6f5ba13996f8d4",
       "version_major": 2,
       "version_minor": 0
      },
      "text/plain": [
       "Canvas(toolbar=Toolbar(toolitems=[('Home', 'Reset original view', 'home', 'home'), ('Back', 'Back to previous …"
      ]
     },
     "metadata": {},
     "output_type": "display_data"
    },
    {
     "data": {
      "application/vnd.jupyter.widget-view+json": {
       "model_id": "a70d1d74966a4cda8e4d0adf580c1e71",
       "version_major": 2,
       "version_minor": 0
      },
      "text/plain": [
       "Canvas(toolbar=Toolbar(toolitems=[('Home', 'Reset original view', 'home', 'home'), ('Back', 'Back to previous …"
      ]
     },
     "metadata": {},
     "output_type": "display_data"
    },
    {
     "data": {
      "application/vnd.jupyter.widget-view+json": {
       "model_id": "0d965065b36c48649549a73b503c890f",
       "version_major": 2,
       "version_minor": 0
      },
      "text/plain": [
       "Canvas(toolbar=Toolbar(toolitems=[('Home', 'Reset original view', 'home', 'home'), ('Back', 'Back to previous …"
      ]
     },
     "metadata": {},
     "output_type": "display_data"
    }
   ],
   "source": [
    "########################################################\n",
    "# Plot the recovered mass-weighted mean age vs. alpha_nu\n",
    "########################################################\n",
    "pp = PdfPages(\"/priv/meggs3/u5708159/ppxftests/figs/agn_continuum/agn_cont.pdf\")\n",
    "for gal in range(1, 11):\n",
    "    df = pd.read_hdf(os.path.join(data_path, f\"ga{gal}_agncont.hd5\"), key=\"agn\")\n",
    "\n",
    "    age_thresh_pairs = [\n",
    "        (ages[0], 1e7),\n",
    "        (ages[0], 1e8),\n",
    "        (ages[0], 1e9),\n",
    "        (1e9, ages[-1]),\n",
    "        (ages[0], ages[-1]),\n",
    "    ]\n",
    "\n",
    "    alpha_nu_vals = [a for a in alpha_nu_vals if ~np.isnan(a)]\n",
    "    cmap_alpha_nu = lambda aa: matplotlib.cm.get_cmap(\"Greens\", len(alpha_nu_vals) + 1)(aa + 1)\n",
    "\n",
    "    for age_thresh_pair in [((ages[0], 1e9))]:\n",
    "        fig, axs = plt.subplots(nrows=3, ncols=1, figsize=(10, 10))\n",
    "        fig.subplots_adjust(right=0.6)\n",
    "        fig.subplots_adjust(hspace=0)\n",
    "\n",
    "        age_thresh_lower, age_thresh_upper = age_thresh_pair\n",
    "        age_str = f\"{np.log10(age_thresh_lower):.2f} < log t < {np.log10(age_thresh_upper):.2f}\"\n",
    "\n",
    "        #************************************\n",
    "        # Plot ages\n",
    "        for weighttype, ax in zip([\"LW\", \"MW\"], axs):\n",
    "\n",
    "            # Actual value\n",
    "            ax.axhline(df[f\"{weighttype} age {age_str} (input)\"].unique()[0], color=\"gray\", label=\"True value\")\n",
    "\n",
    "            # MC run w/o AGN continuum\n",
    "            cond = df[\"AGN continuum\"] == False\n",
    "            ax.axhspan(ymin=df.loc[cond, f\"{weighttype} age {age_str} (MC) mean\"].values[0] - df.loc[cond, f\"{weighttype} age {age_str} (MC) std. dev.\"].values[0],\n",
    "                       ymax=df.loc[cond, f\"{weighttype} age {age_str} (MC) mean\"].values[0] + df.loc[cond, f\"{weighttype} age {age_str} (MC) std. dev.\"].values[0],\n",
    "                       color=\"pink\", alpha=0.5)\n",
    "            ax.axhline(df.loc[cond, f\"{weighttype} age {age_str} (MC) mean\"].values[0], color=\"pink\", label=\"no AGN continuum\")\n",
    "\n",
    "            # Regul run w/o AGN continuum\n",
    "            ax.axhline(df.loc[cond, f\"{weighttype} age {age_str} (regularised)\"].values[0], color=\"maroon\", label=\"no AGN continuum (regularised)\")\n",
    "\n",
    "            for aa, alpha_nu in enumerate(alpha_nu_vals):\n",
    "                cond = df[\"alpha_nu\"] == alpha_nu\n",
    "                # MC\n",
    "                ax.errorbar(x=df.loc[cond, \"log L_NT\"].values, \n",
    "                            y=df.loc[cond, f\"{weighttype} age {age_str} (MC) mean\"].values, \n",
    "                            yerr=df.loc[cond, f\"{weighttype} age {age_str} (MC) std. dev.\"].values,\n",
    "                            linestyle=\"none\", marker=\"D\", color=cmap_alpha_nu(aa),\n",
    "                            label=r\"$\\alpha_\\nu = %.1f$\" % alpha_nu, zorder=999)\n",
    "                # Regularised\n",
    "                ax.errorbar(x=df.loc[cond, \"log L_NT\"].values, \n",
    "                            y=df.loc[cond, f\"{weighttype} age {age_str} (MC) mean\"].values, \n",
    "                            linestyle=\"none\", marker=\"o\", markerfacecolor=\"w\", color=cmap_alpha_nu(aa),\n",
    "                            label=r\"$\\alpha_\\nu = %.1f$ (regularised)\" % alpha_nu, zorder=999)\n",
    "\n",
    "            # Decorations\n",
    "            # ax.set_ylim([1e6, 1e10])\n",
    "            ax.set_xlabel(r\"$\\log_{10} L_{\\rm NT}$\")\n",
    "            ax.set_ylabel(f\"{weighttype}-weighted mean age\")\n",
    "            ax.set_yscale(\"log\")\n",
    "            ax.grid()\n",
    "\n",
    "        #************************************\n",
    "        # Plot mass in each range\n",
    "        ax = axs[2]\n",
    "\n",
    "        # Actual value\n",
    "        M_tot = df[\"Mass 6.60 < log t < 10.25 (input)\"].unique()[0]\n",
    "        ax.axhline(df[f\"Mass {age_str} (input)\"].unique()[0] / M_tot, color=\"gray\", label=\"True value\")\n",
    "\n",
    "        # MC run w/o AGN continuum\n",
    "        cond = df[\"AGN continuum\"] == False\n",
    "        ax.axhspan(ymin=(df.loc[cond, f\"Mass {age_str} (MC) mean\"].values[0] - df.loc[cond, f\"Mass {age_str} (MC) std. dev.\"].values[0]) / M_tot,\n",
    "                   ymax=(df.loc[cond, f\"Mass {age_str} (MC) mean\"].values[0] + df.loc[cond, f\"Mass {age_str} (MC) std. dev.\"].values[0]) / M_tot,\n",
    "                   color=\"pink\", alpha=0.5)\n",
    "        ax.axhline(df.loc[cond, f\"Mass {age_str} (MC) mean\"].values[0] / M_tot, color=\"pink\", label=\"no AGN continuum (MC)\")\n",
    "\n",
    "        # Regul run w/o AGN continuum\n",
    "        ax.axhline(df.loc[cond, f\"Mass {age_str} (regularised)\"].values[0] / M_tot, color=\"maroon\", label=\"no AGN continuum (regularised)\")\n",
    "\n",
    "        # Results from MC runs\n",
    "        for aa, alpha_nu in enumerate(alpha_nu_vals):\n",
    "            cond = df[\"alpha_nu\"] == alpha_nu\n",
    "            # MC\n",
    "            ax.errorbar(x=df.loc[cond, \"log L_NT\"].values, \n",
    "                        y=df.loc[cond, f\"Mass {age_str} (MC) mean\"].values / M_tot, \n",
    "                        yerr=df.loc[cond, f\"Mass {age_str} (MC) std. dev.\"].values / M_tot,\n",
    "                        linestyle=\"none\", marker=\"D\", color=cmap_alpha_nu(aa),\n",
    "                        label=r\"$\\alpha_\\nu = %.1f$\" % alpha_nu, zorder=999)\n",
    "            # Regularised\n",
    "            ax.errorbar(x=df.loc[cond, \"log L_NT\"].values, \n",
    "                        y=df.loc[cond, f\"Mass {age_str} (regularised)\"].values / M_tot, \n",
    "                        linestyle=\"none\", marker=\"o\", markerfacecolor=\"w\", color=cmap_alpha_nu(aa),\n",
    "                        label=r\"$\\alpha_\\nu = %.1f$ (regularised)\" % alpha_nu, zorder=999)\n",
    "\n",
    "        # Decorations\n",
    "        # ax.set_ylim([1e8, 0.5e11])\n",
    "        ax.set_xlabel(r\"$\\log_{10} L_{\\rm NT}$\")\n",
    "        ax.set_ylabel(r\"Mass fraction ($M/M_{\\rm tot}$)\")\n",
    "        ax.set_yscale(\"log\")\n",
    "        ax.grid()\n",
    "\n",
    "        axs[0].set_title(f\"Galaxy ID {gal:004} ({age_str})\" + r\" $\\log_{10}M_{\\rm tot} = %.2f$\" % np.log10(M_tot))    \n",
    "        axs[1].legend(bbox_to_anchor=[1.05, 0.5], loc=\"center left\", fontsize=\"small\")\n",
    "        \n",
    "    pp.savefig(fig)\n",
    "    plt.close(\"all\")\n",
    "    \n",
    "pp.close()\n"
   ]
  },
  {
   "cell_type": "code",
   "execution_count": null,
   "metadata": {},
   "outputs": [],
   "source": []
  }
 ],
 "metadata": {
  "kernelspec": {
   "display_name": "Python 3",
   "language": "python",
   "name": "python3"
  },
  "language_info": {
   "codemirror_mode": {
    "name": "ipython",
    "version": 3
   },
   "file_extension": ".py",
   "mimetype": "text/x-python",
   "name": "python",
   "nbconvert_exporter": "python",
   "pygments_lexer": "ipython3",
   "version": "3.7.4"
  }
 },
 "nbformat": 4,
 "nbformat_minor": 2
}
