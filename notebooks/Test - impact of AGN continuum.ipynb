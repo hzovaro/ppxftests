{
 "cells": [
  {
   "cell_type": "markdown",
   "metadata": {},
   "source": [
    "# Test: the impact of an AGN power-law continuum\n",
    "---\n",
    "What effect does the inclusion of an AGN power-law continuum have upon the recovered SFH?"
   ]
  },
  {
   "cell_type": "code",
   "execution_count": 1,
   "metadata": {},
   "outputs": [],
   "source": [
    "%matplotlib widget"
   ]
  },
  {
   "cell_type": "code",
   "execution_count": 2,
   "metadata": {},
   "outputs": [
    {
     "data": {
      "text/html": [
       "<style>.container { width:75% !important; }</style>"
      ],
      "text/plain": [
       "<IPython.core.display.HTML object>"
      ]
     },
     "metadata": {},
     "output_type": "display_data"
    },
    {
     "data": {
      "text/html": [
       "<style>.output_result { max-width:75% !important; }</style>"
      ],
      "text/plain": [
       "<IPython.core.display.HTML object>"
      ]
     },
     "metadata": {},
     "output_type": "display_data"
    }
   ],
   "source": [
    "from IPython.core.display import display, HTML\n",
    "display(HTML(\"<style>.container { width:75% !important; }</style>\"))\n",
    "display(HTML(\"<style>.output_result { max-width:75% !important; }</style>\"))"
   ]
  },
  {
   "cell_type": "code",
   "execution_count": 28,
   "metadata": {},
   "outputs": [],
   "source": [
    "import os\n",
    "import numpy as np\n",
    "from numpy.random import RandomState\n",
    "from time import time \n",
    "from tqdm.notebook import tqdm\n",
    "from itertools import product\n",
    "import multiprocessing\n",
    "import pandas as pd\n",
    "\n",
    "from astropy.io import fits\n",
    "\n",
    "from ppxftests.run_ppxf import run_ppxf\n",
    "from ppxftests.ssputils import load_ssp_templates, get_bin_edges_and_widths\n",
    "from ppxftests.mockspec import create_mock_spectrum\n",
    "from ppxftests.sfhutils import load_sfh, compute_mw_age, compute_lw_age, compute_sfr_thresh_age\n",
    "from ppxftests.ppxf_plot import plot_sfh_mass_weighted, plot_sfh_light_weighted\n",
    "\n",
    "import matplotlib.pyplot as plt\n",
    "from matplotlib.backends.backend_pdf import PdfPages\n",
    "plt.ion()\n",
    "plt.close(\"all\")\n",
    "\n",
    "from IPython.core.debugger import Tracer\n",
    "\n",
    "fig_path = \"/priv/meggs3/u5708159/ppxftests/figs/\"\n"
   ]
  },
  {
   "cell_type": "markdown",
   "metadata": {},
   "source": [
    "### Defining the AGN continuum\n",
    "---\n",
    "In this work, we approximate the AGN continuum as a simple power law,\n",
    "\n",
    "$$F_{\\rm AGN}(\\lambda) = F_0 \\lambda^{-\\alpha_{\\lambda}}$$\n",
    "\n",
    "where the exponent $\\alpha_{\\lambda} = 2 -\\alpha_{\\nu}$ where $\\alpha_{\\nu}$ can range from 1.2 - 2.0 (Groves et al. 2004). \n",
    "\n",
    "To determine reasonable values for $F_0$, we use the tight correlation between the total H$\\beta$ luminosity, $L_{\\rm H\\beta}$, and $L_{\\rm NT}$, which is defined as the total luminosity of the AGN continuum between 3000 Å and 9500 Å (Neugebauer et al. 1979, Yee 1980), i.e.,\n",
    "\n",
    "$$L_{\\rm NT} = \\int^{9500\\,Å}_{3000\\,Å} F_{\\rm AGN}(\\lambda) d\\lambda \n",
    "= \\int^{9500\\,Å}_{3000\\,Å} F_0 \\lambda^{-\\alpha_{\\lambda}} d\\lambda \n",
    "= \\frac{F_0}{1 - \\alpha_\\lambda}\\left(9500^{1 - \\alpha_\\lambda} - 3000^{1 - \\alpha_\\lambda} \\right)$$\n",
    "\n",
    "where $F_{\\rm AGN}(\\lambda)$ is the AGN continuum. In a sample of AGN including quasars, broad & narrow-line radio galaxies and Seyfert 1 & 2 galaxies, Yee (1980) observed a tight correlation such that \n",
    "\n",
    "$$L_{\\rm NT} \\approx 80 L_{\\rm H\\beta}$$\n",
    "\n",
    "*Note: equation from [Peterson textbook. eqn. 5.53, p. 90](https://books.google.com.au/books?id=ok4EFlPMStwC&pg=PA90&lpg=PA90&dq=Lnt+agn+continuum&source=bl&ots=QfVvXob4vM&sig=ACfU3U0x69gKrkN-lALkIu0EROAUh1-1vw&hl=en&sa=X&ved=2ahUKEwjW_8fPvqv1AhWXTWwGHarhALcQ6AF6BAgXEAM#v=onepage&q=Lnt%20agn%20continuum&f=false).* \n",
    "Referring to table 2 of Dopita et al. (2015), $\\log_{10} L_{\\rm H\\beta} \\sim 39 - 42$ in the NLRs of S7 galaxies.\n",
    "We therefore use our adopted $L_{\\rm H\\beta}$ in the emission lines to constrain the strength of the AGN continuum in our mock spectra, so that \n",
    "\n",
    "$$ F_0 = \\frac{80 L_{\\rm H\\beta}({1 - \\alpha_\\lambda})}{\\left(9500^{1 - \\alpha_\\lambda} - 3000^{1 - \\alpha_\\lambda} \\right)} $$\n",
    "\n"
   ]
  },
  {
   "cell_type": "code",
   "execution_count": 7,
   "metadata": {
    "scrolled": false
   },
   "outputs": [
    {
     "data": {
      "application/vnd.jupyter.widget-view+json": {
       "model_id": "006b98fac3804601808adefd6dde6cb2",
       "version_major": 2,
       "version_minor": 0
      },
      "text/plain": [
       "Canvas(toolbar=Toolbar(toolitems=[('Home', 'Reset original view', 'home', 'home'), ('Back', 'Back to previous …"
      ]
     },
     "metadata": {},
     "output_type": "display_data"
    },
    {
     "data": {
      "text/plain": [
       "Text(0.5, 1.0, 'AGN power-law continuum ($L_{\\\\rm NT} = 10^{41}\\\\,\\\\rm erg\\\\,s^{-1}$)')"
      ]
     },
     "execution_count": 7,
     "metadata": {},
     "output_type": "execute_result"
    }
   ],
   "source": [
    "###########################################################################\n",
    "# Defining the AGN continuum using the method of Yee 1980\n",
    "###########################################################################\n",
    "L_NT = 1e41\n",
    "\n",
    "fig, ax = plt.subplots(nrows=1, ncols=1)\n",
    "for alpha_nu in [0.3, 0.5, 0.7, 1.1, 1.2, 1.3, 1.5, 1.7, 2.0]:\n",
    "    # Compute the continuum normalisation\n",
    "    alpha_lambda = 2 - alpha_nu\n",
    "    F_lambda_0 = L_NT * (1 - alpha_lambda) / (9500**(1 - alpha_lambda) - 3000**(1 - alpha_lambda))\n",
    "\n",
    "    # Compute the continuum\n",
    "    lambda_vals_A = np.linspace(3000, 9500, 1e3)\n",
    "    F_lambda = F_lambda_0 * lambda_vals_A**(-alpha_lambda)\n",
    "\n",
    "    ax.plot(lambda_vals_A, F_lambda, label=r\"$\\alpha_\\nu =$\" + f\"{alpha_nu:.1f}\")\n",
    "    ax.set_xlabel(\"$\\lambda$ (Å)\")\n",
    "    ax.set_ylabel(\"$F(\\lambda)$ (erg/s/Å)\")\n",
    "ax.autoscale(axis=\"x\", tight=True, enable=True)\n",
    "ax.legend()\n",
    "ax.axvline(3500, color=\"grey\")\n",
    "ax.axvline(7000, color=\"grey\")\n",
    "ax.set_title(r\"AGN power-law continuum ($L_{\\rm NT} = 10^{41}\\,\\rm erg\\,s^{-1}$)\")\n",
    "\n"
   ]
  },
  {
   "cell_type": "markdown",
   "metadata": {},
   "source": [
    "# Varying both $L_{\\rm NT}$ and $\\alpha_\\nu$\n",
    "---"
   ]
  },
  {
   "cell_type": "code",
   "execution_count": 35,
   "metadata": {},
   "outputs": [],
   "source": [
    "###############################################################################\n",
    "# Settings\n",
    "###############################################################################\n",
    "isochrones = \"Padova\"\n",
    "SNR = 100\n",
    "sigma_star_kms = 250\n",
    "z = 0.01\n",
    "\n",
    "# Get the age & metallicity dimensions\n",
    "_, _, metallicities, ages = load_ssp_templates(isochrones)\n",
    "N_ages = len(ages)\n",
    "N_metallicities = len(metallicities)\n",
    "\n",
    "# ppxf settings\n",
    "niters = 100\n",
    "nthreads = 20\n",
    "\n",
    "# For analysis\n",
    "lambda_norm_A = 5000\n",
    "age_thresh = 1e9  # yr\n",
    "age_thresh_idx = (np.log10(age_thresh) - np.log10(ages[0])) / (np.log10(ages[1]) - np.log10(ages[0]))\n",
    "sfr_thresh = 1  # Msun yr^-1\n"
   ]
  },
  {
   "cell_type": "code",
   "execution_count": 36,
   "metadata": {},
   "outputs": [],
   "source": [
    "###########################################################################\n",
    "# Helper function for running MC simulations\n",
    "###########################################################################\n",
    "def ppxf_helper(args):\n",
    "    # Unpack arguments\n",
    "    seed, spec, spec_err, lambda_vals_A = args\n",
    "    \n",
    "    # Add \"extra\" noise to the spectrum\n",
    "    rng = RandomState(seed)\n",
    "    noise = rng.normal(scale=spec_err)\n",
    "    spec_noise = spec + noise\n",
    "\n",
    "    # This is to mitigate the \"edge effects\" of the convolution with the LSF\n",
    "    spec_noise[0] = -9999\n",
    "    spec_noise[-1] = -9999\n",
    "\n",
    "    # Run ppxf\n",
    "    pp = run_ppxf(spec=spec_noise, spec_err=spec_err, lambda_vals_A=lambda_vals_A,\n",
    "                  z=z, ngascomponents=1,\n",
    "                  regularisation_method=\"none\", \n",
    "                  isochrones=\"Padova\",\n",
    "                  fit_gas=False, tie_balmer=True,\n",
    "                  plotit=False, savefigs=False, interactive_mode=False)\n",
    "    return pp\n"
   ]
  },
  {
   "cell_type": "code",
   "execution_count": 37,
   "metadata": {},
   "outputs": [
    {
     "data": {
      "application/vnd.jupyter.widget-view+json": {
       "model_id": "6c22804a58c84558a8564dc34548c054",
       "version_major": 2,
       "version_minor": 0
      },
      "text/plain": [
       "Canvas(toolbar=Toolbar(toolitems=[('Home', 'Reset original view', 'home', 'home'), ('Back', 'Back to previous …"
      ]
     },
     "metadata": {},
     "output_type": "display_data"
    },
    {
     "data": {
      "application/vnd.jupyter.widget-view+json": {
       "model_id": "f58aea48f6214373ab5ad306b7a0b0f0",
       "version_major": 2,
       "version_minor": 0
      },
      "text/plain": [
       "Canvas(toolbar=Toolbar(toolitems=[('Home', 'Reset original view', 'home', 'home'), ('Back', 'Back to previous …"
      ]
     },
     "metadata": {},
     "output_type": "display_data"
    },
    {
     "data": {
      "application/vnd.jupyter.widget-view+json": {
       "model_id": "be7c485f86044d10ab5fb54af4cc1ec2",
       "version_major": 2,
       "version_minor": 0
      },
      "text/plain": [
       "Canvas(toolbar=Toolbar(toolitems=[('Home', 'Reset original view', 'home', 'home'), ('Back', 'Back to previous …"
      ]
     },
     "metadata": {},
     "output_type": "display_data"
    },
    {
     "data": {
      "application/vnd.jupyter.widget-view+json": {
       "model_id": "af56fcb00a6649dd8c8ddc040af22cef",
       "version_major": 2,
       "version_minor": 0
      },
      "text/plain": [
       "Canvas(toolbar=Toolbar(toolitems=[('Home', 'Reset original view', 'home', 'home'), ('Back', 'Back to previous …"
      ]
     },
     "metadata": {},
     "output_type": "display_data"
    },
    {
     "data": {
      "text/plain": [
       "(array([1.23073754e+40, 1.83648883e+40, 1.93822822e+40, ...,\n",
       "        2.13991140e+40, 2.08699381e+40, 1.80059341e+40]),\n",
       " array([1.21932919e+38, 1.84268193e+38, 1.92296605e+38, ...,\n",
       "        2.12491947e+38, 2.10824974e+38, 1.80795947e+38]),\n",
       " array([3500.        , 3500.77462622, 3501.54925243, ..., 6998.98661775,\n",
       "        6999.76124396, 7000.53587018]))"
      ]
     },
     "execution_count": 37,
     "metadata": {},
     "output_type": "execute_result"
    }
   ],
   "source": [
    "###############################################################################\n",
    "# Load a realistic SFH\n",
    "###############################################################################\n",
    "gal = 10\n",
    "sfh_mw = load_sfh(gal, plotit=True)\n",
    "M_tot = np.nansum(sfh_mw)\n",
    "\n",
    "# Create the spectrum here, just so we can check it looks OK\n",
    "create_mock_spectrum(\n",
    "    sfh_mass_weighted=sfh_mw,\n",
    "    isochrones=isochrones, z=z, SNR=SNR, sigma_star_kms=sigma_star_kms,\n",
    "    plotit=True)\n"
   ]
  },
  {
   "cell_type": "code",
   "execution_count": 38,
   "metadata": {},
   "outputs": [],
   "source": [
    "# Parameters\n",
    "alpha_nu_vals = np.linspace(0.3, 2.1, 5)  # What is a typical value for low-z Seyfert galaxies?\n",
    "log_L_NT_vals = np.linspace(42, 44, 5)\n",
    "# alpha_nu_vals = [0.3, 2.0]\n",
    "# log_L_NT_vals = [42, 43, 44]"
   ]
  },
  {
   "cell_type": "code",
   "execution_count": 39,
   "metadata": {},
   "outputs": [
    {
     "data": {
      "application/vnd.jupyter.widget-view+json": {
       "model_id": "00ea1278b8f74a4ca0eda951691c41f6",
       "version_major": 2,
       "version_minor": 0
      },
      "text/plain": [
       "Canvas(toolbar=Toolbar(toolitems=[('Home', 'Reset original view', 'home', 'home'), ('Back', 'Back to previous …"
      ]
     },
     "metadata": {},
     "output_type": "display_data"
    }
   ],
   "source": [
    "###############################################################################\n",
    "# Before we run ppxf, plot the spectra\n",
    "###############################################################################\n",
    "fig, ax = plt.subplots(nrows=1, ncols=1, figsize=(10, 4))\n",
    "ax.set_xlabel(\"Observed wavelength (Å)\")\n",
    "ax.set_ylabel(r\"$F_\\lambda(\\lambda)\\,(erg\\,s^{-1}\\,Å^{-1})$\")\n",
    "\n",
    "# Plot spectrum without an AGN continuum added as a \"control\"\n",
    "spec, spec_err, lambda_vals_A = create_mock_spectrum(\n",
    "    sfh_mass_weighted=sfh_mw,\n",
    "    agn_continuum=False,\n",
    "    isochrones=isochrones, z=z, SNR=SNR, sigma_star_kms=sigma_star_kms,\n",
    "    plotit=False)\n",
    "lambda_norm_idx = np.nanargmin(np.abs(lambda_vals_A - lambda_norm_A))\n",
    "\n",
    "# Add to plot \n",
    "ax.errorbar(x=lambda_vals_A, y=spec, yerr=spec_err, label=\"No AGN continuum\", color=\"k\", zorder=10000, linewidth=0.5)\n",
    "\n",
    "for alpha_nu, log_L_NT in product(alpha_nu_vals, log_L_NT_vals):\n",
    "    # Create spectrum\n",
    "    L_NT = 10**log_L_NT\n",
    "    spec, spec_err, lambda_vals_A = create_mock_spectrum(\n",
    "        sfh_mass_weighted=sfh_mw,\n",
    "        agn_continuum=True, L_NT_erg_s=L_NT, alpha_nu=alpha_nu,\n",
    "        isochrones=isochrones, z=z, SNR=SNR, sigma_star_kms=sigma_star_kms,\n",
    "        plotit=False)\n",
    "\n",
    "    # Add to plot \n",
    "    ax.errorbar(x=lambda_vals_A, y=spec, yerr=spec_err, \n",
    "                label=r\"$\\alpha_\\nu = %.1f, L_{\\rm NT} = 10^{%.1f} \\,\\rm erg\\,s^{-1}$\" % (alpha_nu, log_L_NT))\n",
    "\n",
    "ax.legend(fontsize=\"x-small\")\n",
    "ax.set_yscale(\"log\")\n",
    "ax.autoscale(axis=\"x\", tight=True, enable=True)"
   ]
  },
  {
   "cell_type": "code",
   "execution_count": 40,
   "metadata": {},
   "outputs": [
    {
     "name": "stdout",
     "output_type": "stream",
     "text": [
      "Running ppxf on 20 threads...\n"
     ]
    },
    {
     "data": {
      "application/vnd.jupyter.widget-view+json": {
       "model_id": "d1d54268a89a493e8f1b5401eeb958ae",
       "version_major": 2,
       "version_minor": 0
      },
      "text/plain": [
       "HBox(children=(IntProgress(value=0, max=500), HTML(value='')))"
      ]
     },
     "metadata": {},
     "output_type": "display_data"
    },
    {
     "name": "stdout",
     "output_type": "stream",
     "text": [
      "\n",
      "Elapsed time in ppxf: 1082.47 s\n"
     ]
    },
    {
     "data": {
      "application/vnd.jupyter.widget-view+json": {
       "model_id": "0ac0746b0d4042e5874ce064a20ff697",
       "version_major": 2,
       "version_minor": 0
      },
      "text/plain": [
       "Canvas(toolbar=Toolbar(toolitems=[('Home', 'Reset original view', 'home', 'home'), ('Back', 'Back to previous …"
      ]
     },
     "metadata": {},
     "output_type": "display_data"
    }
   ],
   "source": [
    "###############################################################################\n",
    "# Run ppxf without an AGN continuum added as a \"control\"\n",
    "###############################################################################\n",
    "# DataFrame for storing results\n",
    "df = pd.DataFrame()\n",
    "log_L_NT = 0\n",
    "alpha_nu = 0\n",
    "\n",
    "###########################################################################\n",
    "# Create spectrum\n",
    "###########################################################################\n",
    "spec, spec_err, lambda_vals_A = create_mock_spectrum(\n",
    "    sfh_mass_weighted=sfh_mw,\n",
    "    agn_continuum=False,\n",
    "    isochrones=isochrones, z=z, SNR=SNR, sigma_star_kms=sigma_star_kms,\n",
    "    plotit=False)\n",
    "\n",
    "###########################################################################\n",
    "# Run ppxf WITHOUT regularisation, using a MC approach\n",
    "###########################################################################\n",
    "# Input arguments\n",
    "seeds = list(np.random.randint(low=0, high=100 * niters, size=niters))\n",
    "args_list = [[s, spec, spec_err, lambda_vals_A] for s in seeds]\n",
    "\n",
    "# Run in parallel\n",
    "print(f\"Running ppxf on {nthreads} threads...\")\n",
    "t = time()\n",
    "with multiprocessing.Pool(nthreads) as pool:\n",
    "    pp_list = list(tqdm(pool.imap(ppxf_helper, args_list), total=niters))\n",
    "print(f\"Elapsed time in ppxf: {time() - t:.2f} s\")\n",
    "\n",
    "###########################################################################\n",
    "# Compute mean quantities from the MC runs\n",
    "###########################################################################\n",
    "df = pd.DataFrame()\n",
    "\n",
    "# True quantities\n",
    "sfh_mw_1D = np.nansum(sfh_mw, axis=0)\n",
    "sfh_lw = sfh_mw * pp_list[0].stellar_template_norms\n",
    "sfh_lw_1D = np.nansum(sfh_lw, axis=0)\n",
    "bin_edges, bin_widths = get_bin_edges_and_widths(isochrones=isochrones)\n",
    "sfr_1D = sfh_mw_1D / bin_widths\n",
    "log_age_mw_input, log_age_mw_idx_input = compute_mw_age(sfh_mw, age_thresh, isochrones)\n",
    "log_age_lw_input, log_age_lw_idx_input = compute_lw_age(sfh_lw, age_thresh, isochrones)\n",
    "log_sfr_age_input, log_sfr_age_idx_input = compute_sfr_thresh_age(sfh_mw, sfr_thresh, isochrones)\n",
    "\n",
    "# Lists containing the SFHs and mean SFRs from each MC iteration\n",
    "sfh_MC_mw_list = [pp.weights_mass_weighted for pp in pp_list]\n",
    "sfh_MC_mw_1D_list = [pp.sfh_mw_1D for pp in pp_list]\n",
    "sfh_MC_lw_list = [pp.weights_light_weighted for pp in pp_list]\n",
    "sfh_MC_lw_1D_list = [pp.sfh_lw_1D for pp in pp_list]\n",
    "sfr_MC_mw_list = [pp.sfr_mean for pp in pp_list]\n",
    "\n",
    "# Compute the mean SFH and SFR from the lists of MC runs\n",
    "sfh_MC_mw_mean = np.nansum(np.array(sfh_MC_mw_list), axis=0) / len(sfh_MC_mw_list)\n",
    "sfh_MC_mw_1D_mean = np.nansum(sfh_MC_mw_mean, axis=0)\n",
    "sfh_MC_lw_mean = np.nansum(np.array(sfh_MC_lw_list), axis=0) / len(sfh_MC_lw_list)\n",
    "sfh_MC_lw_1D_mean = np.nansum(sfh_MC_lw_mean, axis=0)\n",
    "sfr_MC_mw_mean = np.nansum(np.array(sfr_MC_mw_list), axis=0) / len(sfr_MC_mw_list)\n",
    "\n",
    "# Compute the mean mass- and light-weighted ages below 1 Gyr\n",
    "log_age_mw_idx_MC_list = [compute_mw_age(sfh, age_thresh, isochrones)[1] for sfh in sfh_MC_mw_list]\n",
    "log_age_mw_idx_MC_mean = np.nanmean(log_age_mw_idx_MC_list)\n",
    "log_age_mw_idx_MC_std = np.nanstd(log_age_mw_idx_MC_list)\n",
    "log_age_lw_idx_MC_list = [compute_lw_age(sfh, age_thresh, isochrones)[1] for sfh in sfh_MC_lw_list]\n",
    "log_age_lw_idx_MC_mean = np.nanmean(log_age_lw_idx_MC_list)\n",
    "log_age_lw_idx_MC_std = np.nanstd(log_age_lw_idx_MC_list)\n",
    "log_age_mw_MC_list = [compute_mw_age(sfh, age_thresh, isochrones)[0] for sfh in sfh_MC_mw_list]\n",
    "log_age_mw_MC_mean = np.nanmean(log_age_mw_MC_list)\n",
    "log_age_mw_MC_std = np.nanstd(log_age_mw_MC_list)\n",
    "log_age_lw_MC_list = [compute_lw_age(sfh, age_thresh, isochrones)[0] for sfh in sfh_MC_lw_list]\n",
    "log_age_lw_MC_mean = np.nanmean(log_age_lw_MC_list)\n",
    "log_age_lw_MC_std = np.nanstd(log_age_lw_MC_list)\n",
    "\n",
    "# Compute the \"SFR age\"\n",
    "log_sfr_age_idx_MC_list = [compute_sfr_thresh_age(sfh, sfr_thresh, isochrones)[1] for sfh in sfh_MC_mw_list]\n",
    "log_sfr_age_idx_MC_median = np.nanmedian(log_sfr_age_idx_MC_list)\n",
    "log_sfr_age_idx_MC_mean = np.nanmean(log_sfr_age_idx_MC_list)\n",
    "log_sfr_age_idx_MC_std = np.nanstd(log_sfr_age_idx_MC_list)\n",
    "log_sfr_age_MC_list = [compute_sfr_thresh_age(sfh, sfr_thresh, isochrones)[0] for sfh in sfh_MC_mw_list]\n",
    "log_sfr_age_MC_median = np.nanmedian(log_sfr_age_MC_list)\n",
    "log_sfr_age_MC_mean = np.nanmean(log_sfr_age_MC_list)\n",
    "log_sfr_age_MC_std = np.nanstd(log_sfr_age_MC_list)\n",
    "\n",
    "###########################################################################\n",
    "# Add variables to DataFrame\n",
    "###########################################################################\n",
    "df = df.append({\n",
    "    \"AGN continuum?\": False,\n",
    "    \"log L_NT\": log_L_NT,\n",
    "    \"alpha_nu\": alpha_nu,\n",
    "    \n",
    "    f\"log mass-weighted mean age < {age_thresh:.2e} yr (input)\": log_age_mw_input,\n",
    "    f\"log mass-weighted mean age < {age_thresh:.2e} yr (MC) mean\": log_age_mw_MC_mean,\n",
    "    f\"log mass-weighted mean age < {age_thresh:.2e} yr (MC) std\": log_age_mw_MC_std,\n",
    "    \n",
    "    f\"log light-weighted mean age < {age_thresh:.2e} yr (input)\": log_age_lw_input,\n",
    "    f\"log light-weighted mean age < {age_thresh:.2e} yr (MC) mean\": log_age_lw_MC_mean,\n",
    "    f\"log light-weighted mean age < {age_thresh:.2e} yr (MC) std\": log_age_lw_MC_std,\n",
    "    \n",
    "    f\"log SFR age ({sfr_thresh:.1f} Msun yr^-1) (input)\": log_sfr_age_input,\n",
    "    f\"log SFR age ({sfr_thresh:.1f} Msun yr^-1) (MC) mean\": log_sfr_age_MC_mean,\n",
    "    f\"log SFR age ({sfr_thresh:.1f} Msun yr^-1) (MC) median\": log_sfr_age_MC_median,\n",
    "    f\"log SFR age ({sfr_thresh:.1f} Msun yr^-1) (MC) std\": log_sfr_age_MC_std,\n",
    "    \n",
    "}, ignore_index=True)\n",
    "\n",
    "###########################################################################\n",
    "# Plot the input mass- and light-weighted SFHs\n",
    "###########################################################################\n",
    "plt.close(\"all\")\n",
    "pp = PdfPages(os.path.join(fig_path, \"agn_continuum\", f\"gal{gal:004}_SNR={SNR:d}_z={z:.2f}_sigma_star={sigma_star_kms:d}.pdf\"))\n",
    "\n",
    "fig, axs = plt.subplots(nrows=5, ncols=1, figsize=(12, 25))\n",
    "fig.subplots_adjust(hspace=0.35)\n",
    "\n",
    "plot_sfh_mass_weighted(sfh_mw, ages, metallicities, ax=axs[0])\n",
    "axs[0].set_title(f\"Galaxy {gal:004} \" + r\"- $M_{\\rm tot} = %.4e\\,\\rm M_\\odot$\" % M_tot)\n",
    "\n",
    "plot_sfh_light_weighted(sfh_lw, ages, metallicities, ax=axs[1])\n",
    "axs[1].set_title(f\"Galaxy {gal:004} \" + r\"- $M_{\\rm tot} = %.4e\\,\\rm M_\\odot$\" % M_tot)\n",
    "\n",
    "###########################################################################\n",
    "# Plot the mass-weighted weights, summed over the metallicity dimension\n",
    "###########################################################################\n",
    "log_scale = True\n",
    "axs[2].set_title(f\"Mass-weighted template weights (S/N = {SNR})\")\n",
    "\n",
    "# Plot the SFHs from each ppxf run, plus the \"truth\" SFH\n",
    "axs[2].fill_between(range(N_ages), sfh_mw_1D, step=\"mid\", alpha=0.5, color=\"lightblue\", label=\"Input SFH\")\n",
    "for jj in range(niters):\n",
    "    axs[2].step(range(N_ages), sfh_MC_mw_1D_list[jj], color=\"pink\", alpha=0.2, where=\"mid\", linewidth=0.25, label=\"ppxf fits (MC simluations)\" if jj == 0 else None)\n",
    "axs[2].step(range(N_ages), sfh_MC_mw_1D_mean, color=\"red\", where=\"mid\", label=\"Mean ppxf fit (MC simulations)\")\n",
    "# axs[2].step(range(N_ages), sfh_fit_mw_1D_regul, color=\"lightgreen\", where=\"mid\", label=\"ppxf fit (regularised)\")\n",
    "axs[2].set_ylim([1e3, None])\n",
    "\n",
    "# Plot horizontal error bars indicating the SFR threshold age from the MC simulations\n",
    "y1, y2 = axs[2].get_ylim()\n",
    "y = 10**(0.9 * (np.log10(y2) - np.log10(y1)) + np.log10(y1)) if log_scale else 0.9 * y2\n",
    "axs[2].errorbar(x=log_sfr_age_idx_MC_median, y=y, xerr=log_sfr_age_idx_MC_std, yerr=0, \n",
    "            marker=\"^\", mfc=\"red\", mec=\"red\", ecolor=\"red\", linestyle=\"none\", capsize=10,\n",
    "            label=\"SFR age (median, MC simulations)\")\n",
    "axs[2].errorbar(x=log_sfr_age_idx_MC_mean, y=y, xerr=log_sfr_age_idx_MC_std, yerr=0, \n",
    "            marker=\"^\", mfc=\"orange\", mec=\"orange\", ecolor=\"orange\", linestyle=\"none\", capsize=10,\n",
    "            label=\"SFR age (mean, MC simulations)\")\n",
    "axs[2].errorbar(x=log_sfr_age_idx_input, y=y, xerr=0, yerr=0, \n",
    "            marker=\"^\", mfc=\"lightblue\", mec=\"lightblue\", ecolor=\"lightblue\", linestyle=\"none\",\n",
    "            label=\"SFR age (input)\")\n",
    "\n",
    "# Plot horizontal error bars indicating the mean mass-weighted age from the MC simulations\n",
    "y = 10**(0.8 * (np.log10(y2) - np.log10(y1)) + np.log10(y1)) if log_scale else 0.8 * y2\n",
    "axs[2].errorbar(x=log_age_mw_idx_MC_mean, y=y, xerr=log_sfr_age_idx_MC_std, yerr=0, \n",
    "            marker=\"D\", mfc=\"red\", mec=\"red\", ecolor=\"red\", linestyle=\"none\", capsize=10,\n",
    "            label=\"Mean MW age < 1 Gyr (MC simulations)\")\n",
    "axs[2].errorbar(x=log_age_mw_idx_input, y=y, xerr=0, yerr=0, \n",
    "            marker=\"D\", mfc=\"lightblue\", mec=\"lightblue\", ecolor=\"lightblue\", linestyle=\"none\",\n",
    "            label=\"Mean MW age < 1 Gyr (input)\")\n",
    "\n",
    "# Plot horizontal error bars indicating the mean light-weighted age from the MC simulations\n",
    "y = 10**(0.7 * (np.log10(y2) - np.log10(y1)) + np.log10(y1)) if log_scale else 0.7 * y2\n",
    "axs[2].errorbar(x=log_age_lw_idx_MC_mean, y=y, xerr=log_age_lw_idx_MC_std, yerr=0, \n",
    "            marker=\"X\", mfc=\"red\", mec=\"red\", ecolor=\"red\", linestyle=\"none\", capsize=10,\n",
    "            label=\"Mean LW age < 1 Gyr (MC simulations)\")\n",
    "axs[2].errorbar(x=log_age_lw_idx_input, y=y, xerr=0, yerr=0, \n",
    "            marker=\"X\", mfc=\"lightblue\", mec=\"lightblue\", ecolor=\"lightblue\", linestyle=\"none\",\n",
    "            label=\"Mean LW age < 1 Gyr (input)\")\n",
    "\n",
    "axs[2].axvline(age_thresh_idx, color=\"black\", linestyle=\"--\", label=\"Age threshold\")\n",
    "\n",
    "# Decorations \n",
    "axs[2].set_xticks(range(N_ages))\n",
    "axs[2].set_xlabel(\"Age (Myr)\")\n",
    "axs[2].set_xticklabels([\"{:}\".format(age / 1e6) for age in ages], rotation=\"vertical\", fontsize=\"x-small\")\n",
    "axs[2].autoscale(axis=\"x\", enable=True, tight=True)\n",
    "axs[2].set_ylabel(r\"Template weight ($\\rm M_\\odot$)\")\n",
    "axs[2].legend(fontsize=\"small\", loc=\"center left\", bbox_to_anchor=(1.01, 0.5))\n",
    "axs[2].set_xlabel(\"Age (Myr)\")\n",
    "axs[2].set_yscale(\"log\") if log_scale else None\n",
    "axs[2].grid()\n",
    "\n",
    "###########################################################################\n",
    "# Plot the light-weighted weights, summed over the metallicity dimension\n",
    "###########################################################################\n",
    "log_scale = True\n",
    "axs[3].set_title(f\"Light-weighted template weights (S/N = {SNR})\")\n",
    "\n",
    "# Plot the SFHs from each ppxf run, plus the \"truth\" SFH\n",
    "axs[3].fill_between(range(N_ages), sfh_lw_1D, step=\"mid\", alpha=0.5, color=\"lightblue\", label=\"Input SFH\")\n",
    "for jj in range(niters):\n",
    "    axs[3].step(range(N_ages), sfh_MC_lw_1D_list[jj], color=\"pink\", alpha=0.2, where=\"mid\", linewidth=0.25, label=\"ppxf fits (MC simluations)\" if jj == 0 else None)\n",
    "axs[3].step(range(N_ages), sfh_MC_lw_1D_mean, color=\"red\", where=\"mid\", label=\"Mean ppxf fit (MC simulations)\")\n",
    "#     axs[3].step(range(N_ages), sfh_fit_lw_1D_regul, color=\"lightgreen\", where=\"mid\", label=\"ppxf fit (regularised)\")\n",
    "axs[3].set_ylim([1e35, None])\n",
    "\n",
    "# Plot horizontal error bars indicating the SFR threshold age from the MC simulations\n",
    "y1, y2 = axs[3].get_ylim()\n",
    "y = 10**(0.9 * (np.log10(y2) - np.log10(y1)) + np.log10(y1)) if log_scale else 0.9 * y2\n",
    "axs[3].errorbar(x=log_sfr_age_idx_MC_median, y=y, xerr=log_sfr_age_idx_MC_std, yerr=0, \n",
    "            marker=\"^\", mfc=\"red\", mec=\"red\", ecolor=\"red\", linestyle=\"none\", capsize=10,\n",
    "            label=\"SFR age (median, MC simulations)\")\n",
    "axs[3].errorbar(x=log_sfr_age_idx_MC_mean, y=y, xerr=log_sfr_age_idx_MC_std, yerr=0, \n",
    "            marker=\"^\", mfc=\"orange\", mec=\"orange\", ecolor=\"orange\", linestyle=\"none\", capsize=10,\n",
    "            label=\"SFR age (mean, MC simulations)\")\n",
    "axs[3].errorbar(x=log_sfr_age_idx_input, y=y, xerr=0, yerr=0, \n",
    "            marker=\"^\", mfc=\"lightblue\", mec=\"lightblue\", ecolor=\"lightblue\", linestyle=\"none\",\n",
    "            label=\"SFR age (input)\")\n",
    "\n",
    "# Plot horizontal error bars indicating the mean mass-weighted age from the MC simulations\n",
    "y = 10**(0.8 * (np.log10(y2) - np.log10(y1)) + np.log10(y1)) if log_scale else 0.8 * y2\n",
    "axs[3].errorbar(x=log_age_mw_idx_MC_mean, y=y, xerr=log_age_mw_idx_MC_std, yerr=0, \n",
    "            marker=\"D\", mfc=\"red\", mec=\"red\", ecolor=\"red\", linestyle=\"none\", capsize=10,\n",
    "            label=\"Mean MW age < 1 Gyr (MC simulations)\")\n",
    "axs[3].errorbar(x=log_age_mw_idx_input, y=y, xerr=0, yerr=0, \n",
    "            marker=\"D\", mfc=\"lightblue\", mec=\"lightblue\", ecolor=\"lightblue\", linestyle=\"none\",\n",
    "            label=\"Mean MW age < 1 Gyr (input)\")\n",
    "\n",
    "# Plot horizontal error bars indicating the mean light-weighted age from the MC simulations\n",
    "y = 10**(0.7 * (np.log10(y2) - np.log10(y1)) + np.log10(y1)) if log_scale else 0.7 * y2\n",
    "axs[3].errorbar(x=log_age_lw_idx_MC_mean, y=y, xerr=log_age_lw_idx_MC_std, yerr=0, \n",
    "            marker=\"X\", mfc=\"red\", mec=\"red\", ecolor=\"red\", linestyle=\"none\", capsize=10,\n",
    "            label=\"Mean LW age < 1 Gyr (MC simulations)\")\n",
    "axs[3].errorbar(x=log_age_lw_idx_input, y=y, xerr=0, yerr=0, \n",
    "            marker=\"X\", mfc=\"lightblue\", mec=\"lightblue\", ecolor=\"lightblue\", linestyle=\"none\",\n",
    "            label=\"Mean LW age < 1 Gyr (input)\")\n",
    "\n",
    "axs[3].axvline(age_thresh_idx, color=\"black\", linestyle=\"--\", label=\"Age threshold\")\n",
    "\n",
    "# Decorations \n",
    "axs[3].set_xticks(range(N_ages))\n",
    "axs[3].set_xlabel(\"Age (Myr)\")\n",
    "axs[3].set_xticklabels([\"{:}\".format(age / 1e6) for age in ages], rotation=\"vertical\", fontsize=\"x-small\")\n",
    "axs[3].autoscale(axis=\"x\", enable=True, tight=True)\n",
    "axs[3].set_ylabel(r\"Template weight ($\\rm M_\\odot\\,erg\\,s^{-1}\\,Å^{-1}$)\")\n",
    "axs[3].legend(fontsize=\"small\", loc=\"center left\", bbox_to_anchor=(1.01, 0.5))\n",
    "axs[3].set_xlabel(\"Age (Myr)\")\n",
    "axs[3].set_yscale(\"log\") if log_scale else None\n",
    "axs[3].grid()\n",
    "\n",
    "###########################################################################\n",
    "# Plot the average SFR in each bin\n",
    "###########################################################################\n",
    "log_scale = True\n",
    "axs[4].set_title(f\"Mean SFR (S/N = {SNR})\")\n",
    "\n",
    "# Plot the SFHs from each ppxf run, plus the \"truth\" SFH\n",
    "axs[4].fill_between(range(N_ages), sfr_1D, step=\"mid\", alpha=0.5, color=\"lightblue\", label=\"Input mean SFR\")\n",
    "for jj in range(niters):\n",
    "    axs[4].step(range(N_ages), sfr_MC_mw_list[jj], color=\"pink\", alpha=0.2, where=\"mid\", linewidth=0.25, label=\"ppxf fits (MC simluations)\" if jj == 0 else None)\n",
    "axs[4].step(range(N_ages), sfr_MC_mw_mean, color=\"red\", where=\"mid\", label=\"Mean ppxf fit (MC simulations)\")\n",
    "axs[4].set_ylim([1e-2, None])\n",
    "\n",
    "# Plot horizontal error bars indicating the SFR threshold age from the MC simulations\n",
    "y1, y2 = axs[4].get_ylim()\n",
    "y = 10**(0.9 * (np.log10(y2) - np.log10(y1)) + np.log10(y1)) if log_scale else 0.9 * y2\n",
    "# Tracer()()\n",
    "axs[4].errorbar(x=log_sfr_age_idx_MC_median, y=y, xerr=log_sfr_age_idx_MC_std, yerr=0, \n",
    "            marker=\"^\", mfc=\"red\", mec=\"red\", ecolor=\"red\", linestyle=\"none\", capsize=10,\n",
    "            label=\"SFR age (median, MC simulations)\")\n",
    "axs[4].errorbar(x=log_sfr_age_idx_MC_mean, y=y, xerr=log_sfr_age_idx_MC_std, yerr=0, \n",
    "            marker=\"^\", mfc=\"orange\", mec=\"orange\", ecolor=\"orange\", linestyle=\"none\", capsize=10,\n",
    "            label=\"SFR age (mean, MC simulations)\")\n",
    "axs[4].errorbar(x=log_sfr_age_idx_input, y=y, xerr=0, yerr=0, \n",
    "            marker=\"D\", mfc=\"lightblue\", mec=\"lightblue\", ecolor=\"lightblue\", linestyle=\"none\",\n",
    "            label=\"SFR age (input)\")\n",
    "axs[4].axhline(sfr_thresh, color=\"black\", linestyle=\":\", label=\"SFR threshold\")\n",
    "\n",
    "# Decorations \n",
    "axs[4].set_xticks(range(N_ages))\n",
    "axs[4].set_xlabel(\"Age (Myr)\")\n",
    "axs[4].set_xticklabels([\"{:}\".format(age / 1e6) for age in ages], rotation=\"vertical\", fontsize=\"x-small\")\n",
    "axs[4].autoscale(axis=\"x\", enable=True, tight=True)\n",
    "axs[4].set_ylabel(r\"Mean SFR ($\\rm M_\\odot \\, yr^{-1}$)\")\n",
    "axs[4].legend(fontsize=\"small\", loc=\"center left\", bbox_to_anchor=(1.01, 0.5))\n",
    "axs[4].set_xlabel(\"Age (Myr)\")\n",
    "axs[4].set_yscale(\"log\") if log_scale else None\n",
    "axs[4].grid()\n",
    "\n",
    "pp.savefig(fig, bbox_inches=\"tight\")"
   ]
  },
  {
   "cell_type": "code",
   "execution_count": 41,
   "metadata": {
    "scrolled": false
   },
   "outputs": [
    {
     "name": "stdout",
     "output_type": "stream",
     "text": [
      "Running ppxf on 20 threads...\n"
     ]
    },
    {
     "data": {
      "application/vnd.jupyter.widget-view+json": {
       "model_id": "c539e57aa7814f63a6e3e2b8dba23a9b",
       "version_major": 2,
       "version_minor": 0
      },
      "text/plain": [
       "HBox(children=(IntProgress(value=0, max=500), HTML(value='')))"
      ]
     },
     "metadata": {},
     "output_type": "display_data"
    },
    {
     "name": "stdout",
     "output_type": "stream",
     "text": [
      "\n",
      "Elapsed time in ppxf: 1079.31 s\n"
     ]
    },
    {
     "data": {
      "application/vnd.jupyter.widget-view+json": {
       "model_id": "6fc27a038fbb4780b1de920fc0a30f23",
       "version_major": 2,
       "version_minor": 0
      },
      "text/plain": [
       "Canvas(toolbar=Toolbar(toolitems=[('Home', 'Reset original view', 'home', 'home'), ('Back', 'Back to previous …"
      ]
     },
     "metadata": {},
     "output_type": "display_data"
    },
    {
     "name": "stdout",
     "output_type": "stream",
     "text": [
      "Running ppxf on 20 threads...\n"
     ]
    },
    {
     "data": {
      "application/vnd.jupyter.widget-view+json": {
       "model_id": "374e301f90734e8ab7cca3b6a50fb419",
       "version_major": 2,
       "version_minor": 0
      },
      "text/plain": [
       "HBox(children=(IntProgress(value=0, max=500), HTML(value='')))"
      ]
     },
     "metadata": {},
     "output_type": "display_data"
    },
    {
     "name": "stdout",
     "output_type": "stream",
     "text": [
      "\n",
      "Elapsed time in ppxf: 1075.90 s\n"
     ]
    },
    {
     "data": {
      "application/vnd.jupyter.widget-view+json": {
       "model_id": "0ca556c667d04511a0c541511590907a",
       "version_major": 2,
       "version_minor": 0
      },
      "text/plain": [
       "Canvas(toolbar=Toolbar(toolitems=[('Home', 'Reset original view', 'home', 'home'), ('Back', 'Back to previous …"
      ]
     },
     "metadata": {},
     "output_type": "display_data"
    },
    {
     "name": "stdout",
     "output_type": "stream",
     "text": [
      "Running ppxf on 20 threads...\n"
     ]
    },
    {
     "data": {
      "application/vnd.jupyter.widget-view+json": {
       "model_id": "1cc6423539ba42c383d8ce99c0824670",
       "version_major": 2,
       "version_minor": 0
      },
      "text/plain": [
       "HBox(children=(IntProgress(value=0, max=500), HTML(value='')))"
      ]
     },
     "metadata": {},
     "output_type": "display_data"
    },
    {
     "name": "stdout",
     "output_type": "stream",
     "text": [
      "\n",
      "Elapsed time in ppxf: 1536.65 s\n"
     ]
    },
    {
     "data": {
      "application/vnd.jupyter.widget-view+json": {
       "model_id": "75f7c85d58224649a588ca12a6a9be29",
       "version_major": 2,
       "version_minor": 0
      },
      "text/plain": [
       "Canvas(toolbar=Toolbar(toolitems=[('Home', 'Reset original view', 'home', 'home'), ('Back', 'Back to previous …"
      ]
     },
     "metadata": {},
     "output_type": "display_data"
    },
    {
     "name": "stdout",
     "output_type": "stream",
     "text": [
      "Running ppxf on 20 threads...\n"
     ]
    },
    {
     "data": {
      "application/vnd.jupyter.widget-view+json": {
       "model_id": "dea4a6fa17a341aeba6aa9f426b4d099",
       "version_major": 2,
       "version_minor": 0
      },
      "text/plain": [
       "HBox(children=(IntProgress(value=0, max=500), HTML(value='')))"
      ]
     },
     "metadata": {},
     "output_type": "display_data"
    },
    {
     "name": "stdout",
     "output_type": "stream",
     "text": [
      "\n",
      "Elapsed time in ppxf: 1176.09 s\n"
     ]
    },
    {
     "data": {
      "application/vnd.jupyter.widget-view+json": {
       "model_id": "e5bdc4aea1d644918f97bb2d55f78864",
       "version_major": 2,
       "version_minor": 0
      },
      "text/plain": [
       "Canvas(toolbar=Toolbar(toolitems=[('Home', 'Reset original view', 'home', 'home'), ('Back', 'Back to previous …"
      ]
     },
     "metadata": {},
     "output_type": "display_data"
    },
    {
     "name": "stdout",
     "output_type": "stream",
     "text": [
      "Running ppxf on 20 threads...\n"
     ]
    },
    {
     "data": {
      "application/vnd.jupyter.widget-view+json": {
       "model_id": "bfe142ec7bf74cee98e79a71be505cbd",
       "version_major": 2,
       "version_minor": 0
      },
      "text/plain": [
       "HBox(children=(IntProgress(value=0, max=500), HTML(value='')))"
      ]
     },
     "metadata": {},
     "output_type": "display_data"
    },
    {
     "name": "stdout",
     "output_type": "stream",
     "text": [
      "\n",
      "Elapsed time in ppxf: 1163.74 s\n"
     ]
    },
    {
     "data": {
      "application/vnd.jupyter.widget-view+json": {
       "model_id": "7476ef3b1eb04f9cbe731a9b207c5e51",
       "version_major": 2,
       "version_minor": 0
      },
      "text/plain": [
       "Canvas(toolbar=Toolbar(toolitems=[('Home', 'Reset original view', 'home', 'home'), ('Back', 'Back to previous …"
      ]
     },
     "metadata": {},
     "output_type": "display_data"
    },
    {
     "name": "stdout",
     "output_type": "stream",
     "text": [
      "Running ppxf on 20 threads...\n"
     ]
    },
    {
     "data": {
      "application/vnd.jupyter.widget-view+json": {
       "model_id": "9b131ab56d3148138763ce3067101f20",
       "version_major": 2,
       "version_minor": 0
      },
      "text/plain": [
       "HBox(children=(IntProgress(value=0, max=500), HTML(value='')))"
      ]
     },
     "metadata": {},
     "output_type": "display_data"
    },
    {
     "name": "stdout",
     "output_type": "stream",
     "text": [
      "\n",
      "Elapsed time in ppxf: 1430.08 s\n"
     ]
    },
    {
     "data": {
      "application/vnd.jupyter.widget-view+json": {
       "model_id": "fa8a3199ba4f43dc8cae626efade76cf",
       "version_major": 2,
       "version_minor": 0
      },
      "text/plain": [
       "Canvas(toolbar=Toolbar(toolitems=[('Home', 'Reset original view', 'home', 'home'), ('Back', 'Back to previous …"
      ]
     },
     "metadata": {},
     "output_type": "display_data"
    },
    {
     "name": "stdout",
     "output_type": "stream",
     "text": [
      "Finished!\n"
     ]
    }
   ],
   "source": [
    "###############################################################################\n",
    "# The effect of the strength and exponent of the AGN continuum on the recovered SFH\n",
    "###############################################################################\n",
    "for aa, alpha_nu in enumerate(alpha_nu_vals):\n",
    "    for ll, log_L_NT in enumerate(log_L_NT_vals):\n",
    "        ###########################################################################\n",
    "        # Create spectrum\n",
    "        ###########################################################################\n",
    "        spec, spec_err, lambda_vals_A = create_mock_spectrum(\n",
    "            sfh_mass_weighted=sfh_mw,\n",
    "            agn_continuum=True, L_NT_erg_s=10**log_L_NT, alpha_nu=alpha_nu,\n",
    "            isochrones=isochrones, z=z, SNR=SNR, sigma_star_kms=sigma_star_kms,\n",
    "            plotit=False)\n",
    "        \n",
    "        ###########################################################################\n",
    "        # Run ppxf WITHOUT regularisation, using a MC approach\n",
    "        ###########################################################################\n",
    "        # Input arguments\n",
    "        seeds = list(np.random.randint(low=0, high=100 * niters, size=niters))\n",
    "        args_list = [[s, spec, spec_err, lambda_vals_A] for s in seeds]\n",
    "\n",
    "        # Run in parallel\n",
    "        print(f\"Running ppxf on {nthreads} threads...\")\n",
    "        t = time()\n",
    "        with multiprocessing.Pool(nthreads) as pool:\n",
    "            pp_list = list(tqdm(pool.imap(ppxf_helper, args_list), total=niters))\n",
    "        print(f\"Elapsed time in ppxf: {time() - t:.2f} s\")\n",
    "\n",
    "        ###########################################################################\n",
    "        # Compute derived quantities from the ppxf runs\n",
    "        ###########################################################################        \n",
    "        # Lists containing the SFHs and mean SFRs from each MC iteration\n",
    "        sfh_MC_mw_list = [pp.weights_mass_weighted for pp in pp_list]\n",
    "        sfh_MC_mw_1D_list = [pp.sfh_mw_1D for pp in pp_list]\n",
    "        sfh_MC_lw_list = [pp.weights_light_weighted for pp in pp_list]\n",
    "        sfh_MC_lw_1D_list = [pp.sfh_lw_1D for pp in pp_list]\n",
    "        sfr_MC_mw_list = [pp.sfr_mean for pp in pp_list]\n",
    "\n",
    "        # Compute the mean SFH and SFR from the lists of MC runs\n",
    "        sfh_MC_mw_mean = np.nansum(np.array(sfh_MC_mw_list), axis=0) / len(sfh_MC_mw_list)\n",
    "        sfh_MC_mw_1D_mean = np.nansum(sfh_MC_mw_mean, axis=0)\n",
    "        sfh_MC_lw_mean = np.nansum(np.array(sfh_MC_lw_list), axis=0) / len(sfh_MC_lw_list)\n",
    "        sfh_MC_lw_1D_mean = np.nansum(sfh_MC_lw_mean, axis=0)\n",
    "        sfr_MC_mw_mean = np.nansum(np.array(sfr_MC_mw_list), axis=0) / len(sfr_MC_mw_list)\n",
    "\n",
    "        # Compute the mean mass- and light-weighted ages below 1 Gyr\n",
    "        log_age_mw_idx_MC_list = [compute_mw_age(sfh, age_thresh, isochrones)[1] for sfh in sfh_MC_mw_list]\n",
    "        log_age_mw_idx_MC_mean = np.nanmean(log_age_mw_idx_MC_list)\n",
    "        log_age_mw_idx_MC_std = np.nanstd(log_age_mw_idx_MC_list)\n",
    "        log_age_lw_idx_MC_list = [compute_lw_age(sfh, age_thresh, isochrones)[1] for sfh in sfh_MC_lw_list]\n",
    "        log_age_lw_idx_MC_mean = np.nanmean(log_age_lw_idx_MC_list)\n",
    "        log_age_lw_idx_MC_std = np.nanstd(log_age_lw_idx_MC_list)\n",
    "        log_age_mw_MC_list = [compute_mw_age(sfh, age_thresh, isochrones)[0] for sfh in sfh_MC_mw_list]\n",
    "        log_age_mw_MC_mean = np.nanmean(log_age_mw_MC_list)\n",
    "        log_age_mw_MC_std = np.nanstd(log_age_mw_MC_list)\n",
    "        log_age_lw_MC_list = [compute_lw_age(sfh, age_thresh, isochrones)[0] for sfh in sfh_MC_lw_list]\n",
    "        log_age_lw_MC_mean = np.nanmean(log_age_lw_MC_list)\n",
    "        log_age_lw_MC_std = np.nanstd(log_age_lw_MC_list)\n",
    "\n",
    "        # Compute the \"SFR age\"\n",
    "        log_sfr_age_idx_MC_list = [compute_sfr_thresh_age(sfh, sfr_thresh, isochrones)[1] for sfh in sfh_MC_mw_list]\n",
    "        log_sfr_age_idx_MC_median = np.nanmedian(log_sfr_age_idx_MC_list)\n",
    "        log_sfr_age_idx_MC_mean = np.nanmean(log_sfr_age_idx_MC_list)\n",
    "        log_sfr_age_idx_MC_std = np.nanstd(log_sfr_age_idx_MC_list)\n",
    "        log_sfr_age_MC_list = [compute_sfr_thresh_age(sfh, sfr_thresh, isochrones)[0] for sfh in sfh_MC_mw_list]\n",
    "        log_sfr_age_MC_median = np.nanmedian(log_sfr_age_MC_list)\n",
    "        log_sfr_age_MC_mean = np.nanmean(log_sfr_age_MC_list)\n",
    "        log_sfr_age_MC_std = np.nanstd(log_sfr_age_MC_list)\n",
    "\n",
    "        ###########################################################################\n",
    "        # Add variables to DataFrame\n",
    "        ###########################################################################\n",
    "        df = df.append({\n",
    "            \"AGN continuum?\": False,\n",
    "            \"log L_NT\": log_L_NT,\n",
    "            \"alpha_nu\": alpha_nu,\n",
    "\n",
    "            f\"log mass-weighted mean age < {age_thresh:.2e} yr (input)\": log_age_mw_input,\n",
    "            f\"log mass-weighted mean age < {age_thresh:.2e} yr (MC) mean\": log_age_mw_MC_mean,\n",
    "            f\"log mass-weighted mean age < {age_thresh:.2e} yr (MC) std\": log_age_mw_MC_std,\n",
    "\n",
    "            f\"log light-weighted mean age < {age_thresh:.2e} yr (input)\": log_age_lw_input,\n",
    "            f\"log light-weighted mean age < {age_thresh:.2e} yr (MC) mean\": log_age_lw_MC_mean,\n",
    "            f\"log light-weighted mean age < {age_thresh:.2e} yr (MC) std\": log_age_lw_MC_std,\n",
    "\n",
    "            f\"log SFR age ({sfr_thresh:.1f} Msun yr^-1) (input)\": log_sfr_age_input,\n",
    "            f\"log SFR age ({sfr_thresh:.1f} Msun yr^-1) (MC) mean\": log_sfr_age_MC_mean,\n",
    "            f\"log SFR age ({sfr_thresh:.1f} Msun yr^-1) (MC) median\": log_sfr_age_MC_median,\n",
    "            f\"log SFR age ({sfr_thresh:.1f} Msun yr^-1) (MC) std\": log_sfr_age_MC_std,\n",
    "\n",
    "        }, ignore_index=True)\n",
    "\n",
    "        ###########################################################################\n",
    "        # Plot the input mass- and light-weighted SFHs\n",
    "        ###########################################################################\n",
    "        fig, axs = plt.subplots(nrows=5, ncols=1, figsize=(12, 25))\n",
    "        fig.subplots_adjust(hspace=0.35)\n",
    "        fig.suptitle(r\"AGN continuum: $\\alpha_\\nu = %.1f, \\, \\log_{10}L_{\\rm NT} = %.2f$\" % (alpha_nu, log_L_NT))\n",
    "\n",
    "        plot_sfh_mass_weighted(sfh_mw, ages, metallicities, ax=axs[0])\n",
    "        axs[0].set_title(f\"Galaxy {gal:004} \" + r\"- $M_{\\rm tot} = %.4e\\,\\rm M_\\odot$\" % M_tot)\n",
    "\n",
    "        plot_sfh_light_weighted(sfh_lw, ages, metallicities, ax=axs[1])\n",
    "        axs[1].set_title(f\"Galaxy {gal:004} \" + r\"- $M_{\\rm tot} = %.4e\\,\\rm M_\\odot$\" % M_tot)\n",
    "\n",
    "        ###########################################################################\n",
    "        # Plot the mass-weighted weights, summed over the metallicity dimension\n",
    "        ###########################################################################\n",
    "        log_scale = True\n",
    "        axs[2].set_title(f\"Mass-weighted template weights (S/N = {SNR})\")\n",
    "\n",
    "        # Plot the SFHs from each ppxf run, plus the \"truth\" SFH\n",
    "        axs[2].fill_between(range(N_ages), sfh_mw_1D, step=\"mid\", alpha=0.5, color=\"lightblue\", label=\"Input SFH\")\n",
    "        for jj in range(niters):\n",
    "            axs[2].step(range(N_ages), sfh_MC_mw_1D_list[jj], color=\"pink\", alpha=0.2, where=\"mid\", linewidth=0.25, label=\"ppxf fits (MC simluations)\" if jj == 0 else None)\n",
    "        axs[2].step(range(N_ages), sfh_MC_mw_1D_mean, color=\"red\", where=\"mid\", label=\"Mean ppxf fit (MC simulations)\")\n",
    "        # axs[2].step(range(N_ages), sfh_fit_mw_1D_regul, color=\"lightgreen\", where=\"mid\", label=\"ppxf fit (regularised)\")\n",
    "        axs[2].set_ylim([1e3, None])\n",
    "\n",
    "        # Plot horizontal error bars indicating the SFR threshold age from the MC simulations\n",
    "        y1, y2 = axs[2].get_ylim()\n",
    "        y = 10**(0.9 * (np.log10(y2) - np.log10(y1)) + np.log10(y1)) if log_scale else 0.9 * y2\n",
    "        axs[2].errorbar(x=log_sfr_age_idx_MC_median, y=y, xerr=log_sfr_age_idx_MC_std, yerr=0, \n",
    "                    marker=\"^\", mfc=\"red\", mec=\"red\", ecolor=\"red\", linestyle=\"none\", capsize=10,\n",
    "                    label=\"SFR age (median, MC simulations)\")\n",
    "        axs[2].errorbar(x=log_sfr_age_idx_MC_mean, y=y, xerr=log_sfr_age_idx_MC_std, yerr=0, \n",
    "                    marker=\"^\", mfc=\"orange\", mec=\"orange\", ecolor=\"orange\", linestyle=\"none\", capsize=10,\n",
    "                    label=\"SFR age (mean, MC simulations)\")\n",
    "        axs[2].errorbar(x=log_sfr_age_idx_input, y=y, xerr=0, yerr=0, \n",
    "                    marker=\"^\", mfc=\"lightblue\", mec=\"lightblue\", ecolor=\"lightblue\", linestyle=\"none\",\n",
    "                    label=\"SFR age (input)\")\n",
    "\n",
    "        # Plot horizontal error bars indicating the mean mass-weighted age from the MC simulations\n",
    "        y = 10**(0.8 * (np.log10(y2) - np.log10(y1)) + np.log10(y1)) if log_scale else 0.8 * y2\n",
    "        axs[2].errorbar(x=log_age_mw_idx_MC_mean, y=y, xerr=log_sfr_age_idx_MC_std, yerr=0, \n",
    "                    marker=\"D\", mfc=\"red\", mec=\"red\", ecolor=\"red\", linestyle=\"none\", capsize=10,\n",
    "                    label=\"Mean MW age < 1 Gyr (MC simulations)\")\n",
    "        axs[2].errorbar(x=log_age_mw_idx_input, y=y, xerr=0, yerr=0, \n",
    "                    marker=\"D\", mfc=\"lightblue\", mec=\"lightblue\", ecolor=\"lightblue\", linestyle=\"none\",\n",
    "                    label=\"Mean MW age < 1 Gyr (input)\")\n",
    "\n",
    "        # Plot horizontal error bars indicating the mean light-weighted age from the MC simulations\n",
    "        y = 10**(0.7 * (np.log10(y2) - np.log10(y1)) + np.log10(y1)) if log_scale else 0.7 * y2\n",
    "        axs[2].errorbar(x=log_age_lw_idx_MC_mean, y=y, xerr=log_age_lw_idx_MC_std, yerr=0, \n",
    "                    marker=\"X\", mfc=\"red\", mec=\"red\", ecolor=\"red\", linestyle=\"none\", capsize=10,\n",
    "                    label=\"Mean LW age < 1 Gyr (MC simulations)\")\n",
    "        axs[2].errorbar(x=log_age_lw_idx_input, y=y, xerr=0, yerr=0, \n",
    "                    marker=\"X\", mfc=\"lightblue\", mec=\"lightblue\", ecolor=\"lightblue\", linestyle=\"none\",\n",
    "                    label=\"Mean LW age < 1 Gyr (input)\")\n",
    "\n",
    "        axs[2].axvline(age_thresh_idx, color=\"black\", linestyle=\"--\", label=\"Age threshold\")\n",
    "\n",
    "        # Decorations \n",
    "        axs[2].set_xticks(range(N_ages))\n",
    "        axs[2].set_xlabel(\"Age (Myr)\")\n",
    "        axs[2].set_xticklabels([\"{:}\".format(age / 1e6) for age in ages], rotation=\"vertical\", fontsize=\"x-small\")\n",
    "        axs[2].autoscale(axis=\"x\", enable=True, tight=True)\n",
    "        axs[2].set_ylabel(r\"Template weight ($\\rm M_\\odot$)\")\n",
    "        axs[2].legend(fontsize=\"small\", loc=\"center left\", bbox_to_anchor=(1.01, 0.5))\n",
    "        axs[2].set_xlabel(\"Age (Myr)\")\n",
    "        axs[2].set_yscale(\"log\") if log_scale else None\n",
    "        axs[2].grid()\n",
    "\n",
    "        ###########################################################################\n",
    "        # Plot the light-weighted weights, summed over the metallicity dimension\n",
    "        ###########################################################################\n",
    "        log_scale = True\n",
    "        axs[3].set_title(f\"Light-weighted template weights (S/N = {SNR})\")\n",
    "\n",
    "        # Plot the SFHs from each ppxf run, plus the \"truth\" SFH\n",
    "        axs[3].fill_between(range(N_ages), sfh_lw_1D, step=\"mid\", alpha=0.5, color=\"lightblue\", label=\"Input SFH\")\n",
    "        for jj in range(niters):\n",
    "            axs[3].step(range(N_ages), sfh_MC_lw_1D_list[jj], color=\"pink\", alpha=0.2, where=\"mid\", linewidth=0.25, label=\"ppxf fits (MC simluations)\" if jj == 0 else None)\n",
    "        axs[3].step(range(N_ages), sfh_MC_lw_1D_mean, color=\"red\", where=\"mid\", label=\"Mean ppxf fit (MC simulations)\")\n",
    "        #     axs[3].step(range(N_ages), sfh_fit_lw_1D_regul, color=\"lightgreen\", where=\"mid\", label=\"ppxf fit (regularised)\")\n",
    "        axs[3].set_ylim([1e35, None])\n",
    "\n",
    "        # Plot horizontal error bars indicating the SFR threshold age from the MC simulations\n",
    "        y1, y2 = axs[3].get_ylim()\n",
    "        y = 10**(0.9 * (np.log10(y2) - np.log10(y1)) + np.log10(y1)) if log_scale else 0.9 * y2\n",
    "        axs[3].errorbar(x=log_sfr_age_idx_MC_median, y=y, xerr=log_sfr_age_idx_MC_std, yerr=0, \n",
    "                    marker=\"^\", mfc=\"red\", mec=\"red\", ecolor=\"red\", linestyle=\"none\", capsize=10,\n",
    "                    label=\"SFR age (median, MC simulations)\")\n",
    "        axs[3].errorbar(x=log_sfr_age_idx_MC_mean, y=y, xerr=log_sfr_age_idx_MC_std, yerr=0, \n",
    "                    marker=\"^\", mfc=\"orange\", mec=\"orange\", ecolor=\"orange\", linestyle=\"none\", capsize=10,\n",
    "                    label=\"SFR age (mean, MC simulations)\")\n",
    "        axs[3].errorbar(x=log_sfr_age_idx_input, y=y, xerr=0, yerr=0, \n",
    "                    marker=\"^\", mfc=\"lightblue\", mec=\"lightblue\", ecolor=\"lightblue\", linestyle=\"none\",\n",
    "                    label=\"SFR age (input)\")\n",
    "\n",
    "        # Plot horizontal error bars indicating the mean mass-weighted age from the MC simulations\n",
    "        y = 10**(0.8 * (np.log10(y2) - np.log10(y1)) + np.log10(y1)) if log_scale else 0.8 * y2\n",
    "        axs[3].errorbar(x=log_age_mw_idx_MC_mean, y=y, xerr=log_age_mw_idx_MC_std, yerr=0, \n",
    "                    marker=\"D\", mfc=\"red\", mec=\"red\", ecolor=\"red\", linestyle=\"none\", capsize=10,\n",
    "                    label=\"Mean MW age < 1 Gyr (MC simulations)\")\n",
    "        axs[3].errorbar(x=log_age_mw_idx_input, y=y, xerr=0, yerr=0, \n",
    "                    marker=\"D\", mfc=\"lightblue\", mec=\"lightblue\", ecolor=\"lightblue\", linestyle=\"none\",\n",
    "                    label=\"Mean MW age < 1 Gyr (input)\")\n",
    "\n",
    "        # Plot horizontal error bars indicating the mean light-weighted age from the MC simulations\n",
    "        y = 10**(0.7 * (np.log10(y2) - np.log10(y1)) + np.log10(y1)) if log_scale else 0.7 * y2\n",
    "        axs[3].errorbar(x=log_age_lw_idx_MC_mean, y=y, xerr=log_age_lw_idx_MC_std, yerr=0, \n",
    "                    marker=\"X\", mfc=\"red\", mec=\"red\", ecolor=\"red\", linestyle=\"none\", capsize=10,\n",
    "                    label=\"Mean LW age < 1 Gyr (MC simulations)\")\n",
    "        axs[3].errorbar(x=log_age_lw_idx_input, y=y, xerr=0, yerr=0, \n",
    "                    marker=\"X\", mfc=\"lightblue\", mec=\"lightblue\", ecolor=\"lightblue\", linestyle=\"none\",\n",
    "                    label=\"Mean LW age < 1 Gyr (input)\")\n",
    "\n",
    "        axs[3].axvline(age_thresh_idx, color=\"black\", linestyle=\"--\", label=\"Age threshold\")\n",
    "\n",
    "        # Decorations \n",
    "        axs[3].set_xticks(range(N_ages))\n",
    "        axs[3].set_xlabel(\"Age (Myr)\")\n",
    "        axs[3].set_xticklabels([\"{:}\".format(age / 1e6) for age in ages], rotation=\"vertical\", fontsize=\"x-small\")\n",
    "        axs[3].autoscale(axis=\"x\", enable=True, tight=True)\n",
    "        axs[3].set_ylabel(r\"Template weight ($\\rm M_\\odot\\,erg\\,s^{-1}\\,Å^{-1}$)\")\n",
    "        axs[3].legend(fontsize=\"small\", loc=\"center left\", bbox_to_anchor=(1.01, 0.5))\n",
    "        axs[3].set_xlabel(\"Age (Myr)\")\n",
    "        axs[3].set_yscale(\"log\") if log_scale else None\n",
    "        axs[3].grid()\n",
    "\n",
    "        ###########################################################################\n",
    "        # Plot the average SFR in each bin\n",
    "        ###########################################################################\n",
    "        log_scale = True\n",
    "        axs[4].set_title(f\"Mean SFR (S/N = {SNR})\")\n",
    "\n",
    "        # Plot the SFHs from each ppxf run, plus the \"truth\" SFH\n",
    "        axs[4].fill_between(range(N_ages), sfr_1D, step=\"mid\", alpha=0.5, color=\"lightblue\", label=\"Input mean SFR\")\n",
    "        for jj in range(niters):\n",
    "            axs[4].step(range(N_ages), sfr_MC_mw_list[jj], color=\"pink\", alpha=0.2, where=\"mid\", linewidth=0.25, label=\"ppxf fits (MC simluations)\" if jj == 0 else None)\n",
    "        axs[4].step(range(N_ages), sfr_MC_mw_mean, color=\"red\", where=\"mid\", label=\"Mean ppxf fit (MC simulations)\")\n",
    "        axs[4].set_ylim([1e-2, None])\n",
    "\n",
    "        # Plot horizontal error bars indicating the SFR threshold age from the MC simulations\n",
    "        y1, y2 = axs[4].get_ylim()\n",
    "        y = 10**(0.9 * (np.log10(y2) - np.log10(y1)) + np.log10(y1)) if log_scale else 0.9 * y2\n",
    "        # Tracer()()\n",
    "        axs[4].errorbar(x=log_sfr_age_idx_MC_median, y=y, xerr=log_sfr_age_idx_MC_std, yerr=0, \n",
    "                    marker=\"^\", mfc=\"red\", mec=\"red\", ecolor=\"red\", linestyle=\"none\", capsize=10,\n",
    "                    label=\"SFR age (median, MC simulations)\")\n",
    "        axs[4].errorbar(x=log_sfr_age_idx_MC_mean, y=y, xerr=log_sfr_age_idx_MC_std, yerr=0, \n",
    "                    marker=\"^\", mfc=\"orange\", mec=\"orange\", ecolor=\"orange\", linestyle=\"none\", capsize=10,\n",
    "                    label=\"SFR age (mean, MC simulations)\")\n",
    "        axs[4].errorbar(x=log_sfr_age_idx_input, y=y, xerr=0, yerr=0, \n",
    "                    marker=\"D\", mfc=\"lightblue\", mec=\"lightblue\", ecolor=\"lightblue\", linestyle=\"none\",\n",
    "                    label=\"SFR age (input)\")\n",
    "        axs[4].axhline(sfr_thresh, color=\"black\", linestyle=\":\", label=\"SFR threshold\")\n",
    "\n",
    "        # Decorations \n",
    "        axs[4].set_xticks(range(N_ages))\n",
    "        axs[4].set_xlabel(\"Age (Myr)\")\n",
    "        axs[4].set_xticklabels([\"{:}\".format(age / 1e6) for age in ages], rotation=\"vertical\", fontsize=\"x-small\")\n",
    "        axs[4].autoscale(axis=\"x\", enable=True, tight=True)\n",
    "        axs[4].set_ylabel(r\"Mean SFR ($\\rm M_\\odot \\, yr^{-1}$)\")\n",
    "        axs[4].legend(fontsize=\"small\", loc=\"center left\", bbox_to_anchor=(1.01, 0.5))\n",
    "        axs[4].set_xlabel(\"Age (Myr)\")\n",
    "        axs[4].set_yscale(\"log\") if log_scale else None\n",
    "        axs[4].grid()\n",
    "        \n",
    "        # Write to pdf\n",
    "        pp.savefig(fig, bbox_inches=\"tight\")\n",
    "        plt.close(\"all\")\n",
    "        \n",
    "pp.close()\n",
    "print(\"Finished!\")     "
   ]
  },
  {
   "cell_type": "code",
   "execution_count": 50,
   "metadata": {},
   "outputs": [
    {
     "data": {
      "application/vnd.jupyter.widget-view+json": {
       "model_id": "d99c071722ce43cca72100967fa029a9",
       "version_major": 2,
       "version_minor": 0
      },
      "text/plain": [
       "Canvas(toolbar=Toolbar(toolitems=[('Home', 'Reset original view', 'home', 'home'), ('Back', 'Back to previous …"
      ]
     },
     "metadata": {},
     "output_type": "display_data"
    },
    {
     "data": {
      "text/plain": [
       "Text(0.5, 1.0, 'Effect of AGN continuum')"
      ]
     },
     "execution_count": 50,
     "metadata": {},
     "output_type": "execute_result"
    }
   ],
   "source": [
    "########################################################\n",
    "# Plot the recovered mass-weighted mean age vs. alpha_nu\n",
    "########################################################\n",
    "fig = plt.figure(figsize=(10, 5))\n",
    "ax = fig.add_axes([0.1, 0.15, 0.5, 0.75])\n",
    "\n",
    "# Actual value\n",
    "ax.axhline(df[f\"log mass-weighted mean age < {age_thresh:.2e} yr (input)\"].unique()[0], color=\"gray\", label=\"True value\")\n",
    "\n",
    "# MC run w/o AGN continuum\n",
    "cond = df[\"AGN continuum?\"] == False\n",
    "ax.axhspan(ymin=df.loc[cond, f\"log mass-weighted mean age < {age_thresh:.2e} yr (MC) mean\"].values[0] - df.loc[cond, f\"log mass-weighted mean age < {age_thresh:.2e} yr (MC) std\"].values[0],\n",
    "           ymax=df.loc[cond, f\"log mass-weighted mean age < {age_thresh:.2e} yr (MC) mean\"].values[0] + df.loc[cond, f\"log mass-weighted mean age < {age_thresh:.2e} yr (MC) std\"].values[0],\n",
    "           color=\"pink\", alpha=0.5)\n",
    "ax.axhline(df.loc[cond, f\"log mass-weighted mean age < {age_thresh:.2e} yr (MC) mean\"].values[0], color=\"pink\", label=\"no AGN continuum\")\n",
    "\n",
    "# Results from MC runs\n",
    "for alpha_nu in alpha_nu_vals:\n",
    "    cond = df[\"alpha_nu\"] == alpha_nu\n",
    "    ax.errorbar(x=df.loc[cond, \"log L_NT\"].values, \n",
    "                y=df.loc[cond, f\"log mass-weighted mean age < {age_thresh:.2e} yr (MC) mean\"].values, \n",
    "                yerr=df.loc[cond, f\"log mass-weighted mean age < {age_thresh:.2e} yr (MC) std\"].values,\n",
    "                linestyle=\"none\", marker=\"D\", label=r\"$\\alpha_\\nu = %.1f$\" % alpha_nu, zorder=999)\n",
    "\n",
    "# Decorations\n",
    "ax.set_xlabel(r\"$\\log_{10} L_{\\rm NT}$\")\n",
    "ax.set_ylabel(r\"Mass-weighted mean age < 1 Gyr (log yr)\")\n",
    "ax.grid()\n",
    "ax.legend(bbox_to_anchor=[1.05, 0.5], loc=\"center left\")\n",
    "ax.set_title(r\"Effect of AGN continuum\")\n"
   ]
  },
  {
   "cell_type": "code",
   "execution_count": null,
   "metadata": {},
   "outputs": [],
   "source": []
  }
 ],
 "metadata": {
  "kernelspec": {
   "display_name": "Python 3",
   "language": "python",
   "name": "python3"
  },
  "language_info": {
   "codemirror_mode": {
    "name": "ipython",
    "version": 3
   },
   "file_extension": ".py",
   "mimetype": "text/x-python",
   "name": "python",
   "nbconvert_exporter": "python",
   "pygments_lexer": "ipython3",
   "version": "3.7.4"
  }
 },
 "nbformat": 4,
 "nbformat_minor": 2
}
