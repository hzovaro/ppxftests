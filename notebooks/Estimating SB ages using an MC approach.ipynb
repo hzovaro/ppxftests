{
 "cells": [
  {
   "cell_type": "markdown",
   "metadata": {},
   "source": [
    "# Estimating SB ages using an MC approach \n",
    "---\n",
    "McDermid et al. (2015) state that they use a Monte Carlo approach to estimate 1$\\sigma$ errors on their mass-weighted age estimates. To do this they use ppxf *without* regularisation, but to estimate the mass-weighted age they do use regularisation.\n",
    "\n",
    "Here, we are going to try using an MC approach, but without regularisation, to see whether we can accurately recover the mass-weighted age of the young component in the stellar population. If this works, then we can do away with regulariation, as it is very computationally expensive. \n",
    "\n",
    "To summarise, we will\n",
    "1. Define the \"truth\" SFH and generate the corresponding spectrum.\n",
    "2. In each MC iteration,\n",
    "    1. add *additional* random noise to the spectrum.\n",
    "    2. run ppxf. \n",
    "    3. compute the mass-weighted age of the young component. \n",
    "3. From the ensemble of mass-weighted age measurements, compute the mean and standard deviation. Do these rouhgly correspond to the input SFH?\n"
   ]
  },
  {
   "cell_type": "code",
   "execution_count": 1,
   "metadata": {},
   "outputs": [],
   "source": [
    "%matplotlib widget"
   ]
  },
  {
   "cell_type": "code",
   "execution_count": 2,
   "metadata": {},
   "outputs": [
    {
     "data": {
      "text/html": [
       "<style>.container { width:75% !important; }</style>"
      ],
      "text/plain": [
       "<IPython.core.display.HTML object>"
      ]
     },
     "metadata": {},
     "output_type": "display_data"
    },
    {
     "data": {
      "text/html": [
       "<style>.output_result { max-width:75% !important; }</style>"
      ],
      "text/plain": [
       "<IPython.core.display.HTML object>"
      ]
     },
     "metadata": {},
     "output_type": "display_data"
    }
   ],
   "source": [
    "from IPython.core.display import display, HTML\n",
    "display(HTML(\"<style>.container { width:75% !important; }</style>\"))\n",
    "display(HTML(\"<style>.output_result { max-width:75% !important; }</style>\"))"
   ]
  },
  {
   "cell_type": "code",
   "execution_count": 3,
   "metadata": {},
   "outputs": [],
   "source": [
    "import numpy as np\n",
    "from numpy.random import RandomState\n",
    "from time import time \n",
    "from tqdm.notebook import tqdm\n",
    "import multiprocessing\n",
    "\n",
    "from astropy.io import fits\n",
    "\n",
    "from ppxftests.run_ppxf import run_ppxf\n",
    "from ppxftests.ssputils import load_ssp_templates\n",
    "from ppxftests.mockspec import create_mock_spectrum, calculate_mw_age\n",
    "from ppxftests.ppxf_plot import plot_sfh_mass_weighted\n",
    "\n",
    "import matplotlib.pyplot as plt\n",
    "plt.ion()\n",
    "plt.close(\"all\")\n",
    "\n",
    "from IPython.core.debugger import Tracer"
   ]
  },
  {
   "cell_type": "code",
   "execution_count": 4,
   "metadata": {},
   "outputs": [],
   "source": [
    "###########################################################################\n",
    "# Settings\n",
    "###########################################################################\n",
    "isochrones = \"Padova\"\n",
    "SNR = 100\n",
    "sigma_star_kms = 250\n",
    "z = 0.01"
   ]
  },
  {
   "cell_type": "code",
   "execution_count": 13,
   "metadata": {},
   "outputs": [],
   "source": [
    "###########################################################################\n",
    "# Generate the input SFH\n",
    "###########################################################################\n",
    "# Load the stellar templates so we can get the age & metallicity dimensions\n",
    "_, _, metallicities, ages = load_ssp_templates(isochrones)\n",
    "N_ages = len(ages)\n",
    "N_metallicities = len(metallicities)\n",
    "\n",
    "# Simple Gaussian SFH\n",
    "xx, yy = np.meshgrid(range(N_ages), range(N_metallicities))\n",
    "x0 = 15\n",
    "y0 = 2.5\n",
    "sigma_x = 2\n",
    "sigma_y = 0.1\n",
    "sfh_young = np.exp(- (xx - x0)**2 / (2 * sigma_x**2)) *\\\n",
    "               np.exp(- (yy - y0)**2 / (2 * sigma_y**2))\n",
    "sfh_young /= np.nansum(sfh_young)\n",
    "sfh_mw_young = sfh_young * 1e8\n",
    "\n",
    "x0 = 60\n",
    "y0 = 4\n",
    "sigma_x = 2\n",
    "sigma_y = 0.5\n",
    "sfh_old = np.exp(- (xx - x0)**2 / (2 * sigma_x**2)) *\\\n",
    "             np.exp(- (yy - y0)**2 / (2 * sigma_y**2))\n",
    "sfh_old /= np.nansum(sfh_old)\n",
    "sfh_mw_old = sfh_old * 1e10\n",
    "\n",
    "# Add the young & old components\n",
    "sfh_mw_original = sfh_mw_old + sfh_mw_young\n",
    "\n",
    "# Sum in metallicity to get the SFH\n",
    "sfh_mw_1D_original = np.nansum(sfh_mw_original, axis=0)\n"
   ]
  },
  {
   "cell_type": "code",
   "execution_count": 14,
   "metadata": {
    "scrolled": false
   },
   "outputs": [
    {
     "data": {
      "application/vnd.jupyter.widget-view+json": {
       "model_id": "957d76485c174f80a8fa6ca8d3452b8d",
       "version_major": 2,
       "version_minor": 0
      },
      "text/plain": [
       "Canvas(toolbar=Toolbar(toolitems=[('Home', 'Reset original view', 'home', 'home'), ('Back', 'Back to previous …"
      ]
     },
     "metadata": {},
     "output_type": "display_data"
    },
    {
     "data": {
      "text/plain": [
       "<matplotlib.legend.Legend at 0x7faa93fb1110>"
      ]
     },
     "execution_count": 14,
     "metadata": {},
     "output_type": "execute_result"
    }
   ],
   "source": [
    "# Test that it works \n",
    "log_age_mw_input, log_age_mw_input_idx = calculate_mw_age(sfh_mw_original, age_thresh=1e9, ages=ages)\n",
    "\n",
    "fig, ax = plt.subplots(nrows=1, ncols=1, figsize=(10, 5))\n",
    "ax.step(range(N_ages), sfh_mw_1D_original, color=\"black\", where=\"mid\")\n",
    "ax.axvline(log_age_mw_input_idx, color=\"red\", label=\"Mass-weighted mean age (templates < 1 Gyr old)\")\n",
    "ax.set_ylim([1, None])\n",
    "ax.set_yscale(\"log\")\n",
    "ax.set_xlabel(\"Template age (number)\")\n",
    "ax.set_ylabel(\"Bin mass ($M_\\odot$)\")\n",
    "ax.legend()\n"
   ]
  },
  {
   "cell_type": "markdown",
   "metadata": {},
   "source": [
    "## MONTE CARLO TESTING\n",
    "---\n",
    "Each iteration, use the same spectrum, but with random noise added to it. "
   ]
  },
  {
   "cell_type": "code",
   "execution_count": 15,
   "metadata": {
    "scrolled": false
   },
   "outputs": [
    {
     "data": {
      "application/vnd.jupyter.widget-view+json": {
       "model_id": "7985493334924458bb990dfc62844cc5",
       "version_major": 2,
       "version_minor": 0
      },
      "text/plain": [
       "Canvas(toolbar=Toolbar(toolitems=[('Home', 'Reset original view', 'home', 'home'), ('Back', 'Back to previous …"
      ]
     },
     "metadata": {},
     "output_type": "display_data"
    },
    {
     "data": {
      "application/vnd.jupyter.widget-view+json": {
       "model_id": "a40c5a0150f4439682c3efc629c24fdb",
       "version_major": 2,
       "version_minor": 0
      },
      "text/plain": [
       "Canvas(toolbar=Toolbar(toolitems=[('Home', 'Reset original view', 'home', 'home'), ('Back', 'Back to previous …"
      ]
     },
     "metadata": {},
     "output_type": "display_data"
    },
    {
     "data": {
      "application/vnd.jupyter.widget-view+json": {
       "model_id": "f9998398046b42ca8b0d6fa067c1f4c8",
       "version_major": 2,
       "version_minor": 0
      },
      "text/plain": [
       "Canvas(toolbar=Toolbar(toolitems=[('Home', 'Reset original view', 'home', 'home'), ('Back', 'Back to previous …"
      ]
     },
     "metadata": {},
     "output_type": "display_data"
    }
   ],
   "source": [
    "###########################################################################\n",
    "# Generate the spectrum\n",
    "###########################################################################\n",
    "spec_original, spec_original_err, lambda_vals_A = create_mock_spectrum(\n",
    "    sfh_mass_weighted=sfh_mw_original,\n",
    "    isochrones=isochrones, z=z, SNR=SNR, sigma_star_kms=sigma_star_kms,\n",
    "    plotit=True)  \n"
   ]
  },
  {
   "cell_type": "code",
   "execution_count": 149,
   "metadata": {},
   "outputs": [
    {
     "name": "stdout",
     "output_type": "stream",
     "text": [
      "----------------------------------------------------\n",
      "Iteration 0: Elapsed time in PPXF (single thread): 3.46 s\n",
      "----------------------------------------------------\n",
      "Iteration 1: Scaling noise by 1.4222...\n",
      "Iteration 1: Running ppxf on 20 threads...\n",
      "Iteration 1: Elapsed time in PPXF (multithreaded): 77.36 s\n",
      "Iteration 1: optimal regul = 0.00; Δm = 25.5772; Δregul = 500.00 (Δregul_min = 1.00); Δχ (goal) - Δχ = 95.079\n",
      "----------------------------------------------------\n",
      "Iteration 2: Re-running ppxf on 20 threads (iteration 2)...\n",
      "Iteration 2: Elapsed time in PPXF (multithreaded): 68.69 s\n",
      "Iteration 2: optimal regul = 100.00; Δm = 1.5603e+10; Δregul = 100.00 (Δregul_min = 1.00); Δχ (goal) - Δχ = 8.989\n",
      "----------------------------------------------------\n",
      "Iteration 3: Re-running ppxf on 20 threads (iteration 3)...\n",
      "Iteration 3: Elapsed time in PPXF (multithreaded): 73.09 s\n",
      "Iteration 3: optimal regul = 100.00; Δm = 0; Δregul = 20.00 (Δregul_min = 1.00); Δχ (goal) - Δχ = 8.989\n",
      "----------------------------------------------------\n",
      "Iteration 4: Re-running ppxf on 20 threads (iteration 4)...\n",
      "Iteration 4: Elapsed time in PPXF (multithreaded): 81.91 s\n",
      "Iteration 4: optimal regul = 92.00; Δm = 3.61375e+08; Δregul = 4.00 (Δregul_min = 1.00); Δχ (goal) - Δχ = 2.294\n",
      "----------------------------------------------------\n",
      "Iteration 5: Re-running ppxf on 20 threads (iteration 5)...\n",
      "Iteration 5: Elapsed time in PPXF (multithreaded): 72.91 s\n",
      "Iteration 5: optimal regul = 93.60; Δm = 1.18612e+08; Δregul = 0.80 (Δregul_min = 1.00); Δχ (goal) - Δχ = 0.009\n",
      "----------------------------------------------------\n",
      "STOPPING: Minimum spacing between regul values reached; using 93.60 to produce the best fit\n",
      "Total time in run_ppxf: 378.91 seconds\n"
     ]
    }
   ],
   "source": [
    "###########################################################################\n",
    "# Run ppxf WITH regularisation\n",
    "###########################################################################\n",
    "t = time()\n",
    "pp_regul = run_ppxf(spec=spec_original, spec_err=spec_original_err, lambda_vals_A=lambda_vals_A,\n",
    "              z=z, ngascomponents=1,\n",
    "              regularisation_method=\"auto\",\n",
    "              isochrones=\"Padova\",\n",
    "              fit_gas=False, tie_balmer=True,\n",
    "              delta_regul_min=1, regul_max=5e4, delta_delta_chi2_min=1,\n",
    "              plotit=False, savefigs=False, interactive_mode=False)\n",
    "print(f\"Total time in run_ppxf: {time() - t:.2f} seconds\")\n"
   ]
  },
  {
   "cell_type": "code",
   "execution_count": 150,
   "metadata": {
    "scrolled": true
   },
   "outputs": [
    {
     "name": "stdout",
     "output_type": "stream",
     "text": [
      "Running ppxf on 20 threads...\n"
     ]
    },
    {
     "data": {
      "application/vnd.jupyter.widget-view+json": {
       "model_id": "cb7437dbbd7b45cd9e986ec17749ccdd",
       "version_major": 2,
       "version_minor": 0
      },
      "text/plain": [
       "HBox(children=(IntProgress(value=0), HTML(value='')))"
      ]
     },
     "metadata": {},
     "output_type": "display_data"
    },
    {
     "name": "stdout",
     "output_type": "stream",
     "text": [
      "\n",
      "Elapsed time in ppxf: 208.68 s\n"
     ]
    }
   ],
   "source": [
    "###########################################################################\n",
    "# Run ppxf WITHOUT regularisation, using a MC approach\n",
    "###########################################################################\n",
    "# Helper function for multiprocessing\n",
    "def ppxf_helper(seed):\n",
    "    # Add \"extra\" noise to the spectrum\n",
    "    rng = RandomState(seed)\n",
    "    noise = rng.normal(scale=spec_original_err)\n",
    "    spec = spec_original + noise\n",
    "\n",
    "    # This is to mitigate the \"edge effects\" of the convolution with the LSF\n",
    "    spec[0] = -9999\n",
    "    spec[-1] = -9999\n",
    "\n",
    "    # Run ppxf\n",
    "    pp = run_ppxf(spec=spec, spec_err=spec_original_err, lambda_vals_A=lambda_vals_A,\n",
    "                  z=z, ngascomponents=1,\n",
    "                  regularisation_method=\"none\", \n",
    "                  isochrones=\"Padova\",\n",
    "                  fit_gas=False, tie_balmer=True,\n",
    "                  plotit=False, savefigs=False, interactive_mode=False)\n",
    "    return pp\n",
    "     \n",
    "# Input arguments\n",
    "niters = 100\n",
    "nthreads = 20\n",
    "args_list = list(np.random.randint(low=0, high=100 * niters, size=niters))\n",
    "\n",
    "# Run in parallel\n",
    "print(f\"Running ppxf on {nthreads} threads...\")\n",
    "t = time()\n",
    "with multiprocessing.Pool(nthreads) as pool:\n",
    "    pp_list = list(tqdm(pool.imap(ppxf_helper, args_list), total=niters))\n",
    "print(f\"Elapsed time in ppxf: {time() - t:.2f} s\")\n"
   ]
  },
  {
   "cell_type": "code",
   "execution_count": 154,
   "metadata": {},
   "outputs": [
    {
     "name": "stdout",
     "output_type": "stream",
     "text": [
      "MC method:    mean mass-weighted age (log yr) = 7.40 ± 0.11\n",
      "Regul method: mean mass-weighted age (log yr) = 7.69\n",
      "Input value:  mean mass-weighted age (log yr) = 7.35)\n"
     ]
    }
   ],
   "source": [
    "###########################################################################\n",
    "# Compute the mass-weighted age \n",
    "###########################################################################\n",
    "log_age_mw_regul, log_age_mw_regul_idx = calculate_mw_age(pp_regul.weights_mass_weighted, age_thresh=1e9, ages=ages)\n",
    "\n",
    "log_age_mw_list = []\n",
    "for pp in pp_list:\n",
    "    log_age_mw, _ = calculate_mw_age(pp.weights_mass_weighted, age_thresh=1e9, ages=ages)\n",
    "    log_age_mw_list.append(log_age_mw)\n",
    "\n",
    "log_age_mw_MC = np.nanmean(log_age_mw_list)\n",
    "log_age_mw_MC_err = np.nanstd(log_age_mw_list)\n",
    "\n",
    "# For plotting purposes, figure out the approx. index of these ages in the age array\n",
    "log_age_mw_MC_idx = (log_age_mw_MC - np.log10(ages[0])) / (np.log10(ages[1]) - np.log10(ages[0]))\n",
    "log_age_mw_MC_err_idx = log_age_mw_MC_err / (np.log10(ages[1]) - np.log10(ages[0]))\n",
    "\n",
    "print(f\"MC method:    mean mass-weighted age (log yr) = {np.nanmean(log_age_mw_list):.2f} ± {np.nanstd(log_age_mw_list):.2f}\")\n",
    "print(f\"Regul method: mean mass-weighted age (log yr) = {log_age_mw_regul:.2f}\")\n",
    "print(f\"Input value:  mean mass-weighted age (log yr) = {log_age_mw_input:.2f})\")"
   ]
  },
  {
   "cell_type": "code",
   "execution_count": 155,
   "metadata": {},
   "outputs": [],
   "source": [
    "plt.close(\"all\")"
   ]
  },
  {
   "cell_type": "code",
   "execution_count": 156,
   "metadata": {
    "scrolled": false
   },
   "outputs": [
    {
     "data": {
      "application/vnd.jupyter.widget-view+json": {
       "model_id": "37c32a5d9a634d16a7de135efaa2cdb2",
       "version_major": 2,
       "version_minor": 0
      },
      "text/plain": [
       "Canvas(toolbar=Toolbar(toolitems=[('Home', 'Reset original view', 'home', 'home'), ('Back', 'Back to previous …"
      ]
     },
     "metadata": {},
     "output_type": "display_data"
    },
    {
     "data": {
      "application/vnd.jupyter.widget-view+json": {
       "model_id": "6ae0d894a454490a9fe7c835872098c5",
       "version_major": 2,
       "version_minor": 0
      },
      "text/plain": [
       "Canvas(toolbar=Toolbar(toolitems=[('Home', 'Reset original view', 'home', 'home'), ('Back', 'Back to previous …"
      ]
     },
     "metadata": {},
     "output_type": "display_data"
    },
    {
     "data": {
      "application/vnd.jupyter.widget-view+json": {
       "model_id": "4528b1d76f824a83975dd49dd88f5f86",
       "version_major": 2,
       "version_minor": 0
      },
      "text/plain": [
       "Canvas(toolbar=Toolbar(toolitems=[('Home', 'Reset original view', 'home', 'home'), ('Back', 'Back to previous …"
      ]
     },
     "metadata": {},
     "output_type": "display_data"
    },
    {
     "data": {
      "application/vnd.jupyter.widget-view+json": {
       "model_id": "e14b6621f4a4464cb4009c1740345b39",
       "version_major": 2,
       "version_minor": 0
      },
      "text/plain": [
       "Canvas(toolbar=Toolbar(toolitems=[('Home', 'Reset original view', 'home', 'home'), ('Back', 'Back to previous …"
      ]
     },
     "metadata": {},
     "output_type": "display_data"
    }
   ],
   "source": [
    "###########################################################################\n",
    "# COMPARE THE INPUT AND OUTPUT\n",
    "###########################################################################\n",
    "sfh_fit_mw_list = []\n",
    "sfh_fit_lw_list = []\n",
    "sfh_fit_mw_1D_list = []\n",
    "sfh_fit_lw_1D_list = []\n",
    "\n",
    "for pp in pp_list:\n",
    "    sfh_fit_mw_list.append(pp.weights_mass_weighted)\n",
    "    sfh_fit_lw_list.append(pp.weights_light_weighted)\n",
    "    sfh_fit_mw_1D_list.append(np.nansum(pp.weights_mass_weighted, axis=0))\n",
    "    sfh_fit_lw_1D_list.append(np.nansum(pp.weights_light_weighted, axis=0))\n",
    "    \n",
    "# Compute the mean SFH \n",
    "sfh_fit_mw_mean = np.nansum(np.array(sfh_fit_mw_list), axis=0) / len(sfh_fit_mw_list)\n",
    "sfh_fit_lw_mean = np.nansum(np.array(sfh_fit_lw_list), axis=0) / len(sfh_fit_lw_list)\n",
    "sfh_fit_mw_1D_mean = np.nansum(sfh_fit_mw_mean, axis=0)\n",
    "sfh_fit_lw_1D_mean = np.nansum(sfh_fit_lw_mean, axis=0)\n",
    "\n",
    "sfh_fit_mw_1D_regul = np.nansum(pp_regul.weights_mass_weighted, axis=0)\n",
    "sfh_fit_lw_1D_regul = np.nansum(pp_regul.weights_light_weighted, axis=0)\n",
    "\n",
    "# Plot the mass-weighted weights, summed over the metallicity dimension\n",
    "for log_scale in [True, False]:\n",
    "    # Create new figure \n",
    "    fig = plt.figure(figsize=(13, 4))\n",
    "    ax = fig.add_axes([0.1, 0.2, 0.7, 0.7])\n",
    "    ax.set_title(\"Mass-weighted template weights\")\n",
    "    \n",
    "    # Plot the SFHs from each ppxf run, plus the \"truth\" SFH\n",
    "    ax.fill_between(range(N_ages), sfh_mw_1D_original, step=\"mid\", alpha=1.0, color=\"cornflowerblue\", label=\"Input SFH\")\n",
    "    for jj in range(niters):\n",
    "        ax.step(range(N_ages), sfh_fit_mw_1D_list[jj], color=\"pink\", alpha=0.2, where=\"mid\", linewidth=0.25, label=\"ppxf fits (MC simluations)\" if jj == 0 else None)\n",
    "    ax.step(range(N_ages), sfh_fit_mw_1D_mean, color=\"red\", where=\"mid\", label=\"Mean ppxf fit (MC simulations)\")\n",
    "    ax.step(range(N_ages), sfh_fit_mw_1D_regul, color=\"lightgreen\", where=\"mid\", label=\"ppxf fit (regularised)\")\n",
    "    \n",
    "    # Plot horizontal error bars indicating the mean mass-weighted age from (a) the MC simulations and (b) the regularised fit \n",
    "    y = 10**(0.9 * np.log10(ax.get_ylim()[1])) if log_scale else 0.9 * ax.get_ylim()[1]\n",
    "    ax.errorbar(x=log_age_mw_regul_idx, y=y, xerr=0, yerr=0, \n",
    "                marker=\"D\", mfc=\"lightgreen\",mec=\"lightgreen\",  ecolor=\"lightgreen\",  \n",
    "                label=\"MW age ($< 1$ Gyr) (regularised fit)\")\n",
    "    ax.errorbar(x=log_age_mw_MC_idx, y=y, xerr=log_age_mw_MC_err_idx, yerr=0, \n",
    "                marker=\"D\", mfc=\"red\", mec=\"red\", ecolor=\"red\",\n",
    "                label=\"MW age ($< 1$ Gyr) (MC simulations)\")\n",
    "    ax.errorbar(x=log_age_mw_input_idx, y=y, xerr=0, yerr=0, \n",
    "                marker=\"D\", mfc=\"cornflowerblue\", mec=\"cornflowerblue\", ecolor=\"cornflowerblue\", \n",
    "                label=\"MW age ($< 1$ Gyr) (input)\")\n",
    "    \n",
    "    # Decorations \n",
    "    ax.set_xticks(range(N_ages))\n",
    "    ax.set_xlabel(\"Age (Myr)\")\n",
    "    ax.set_xticklabels([\"{:}\".format(age / 1e6) for age in ages], rotation=\"vertical\", fontsize=\"x-small\")\n",
    "    ax.autoscale(axis=\"x\", enable=True, tight=True)\n",
    "    ax.set_ylim([1, None])\n",
    "    ax.set_ylabel(r\"Template weight ($\\rm M_\\odot$)\")\n",
    "    ax.legend(fontsize=\"x-small\", loc=\"center left\", bbox_to_anchor=(1.01, 0.5))\n",
    "    ax.set_xlabel(\"Age (Myr)\")\n",
    "    ax.set_yscale(\"log\") if log_scale else None\n",
    "\n",
    "# Plot the light-weighted weights, summed over the metallicity dimension\n",
    "for log_scale in [True, False]:\n",
    "    # Create new figure \n",
    "    fig = plt.figure(figsize=(13, 4))\n",
    "    ax = fig.add_axes([0.1, 0.2, 0.7, 0.7])\n",
    "    ax.set_title(\"Light-weighted template weights\")\n",
    "    \n",
    "    # Plot the SFHs from each ppxf run, plus the \"truth\" SFH\n",
    "    for jj in range(niters):\n",
    "        ax.step(range(N_ages), sfh_fit_lw_1D_list[jj], color=\"pink\", alpha=0.2, where=\"mid\", linewidth=0.25, label=\"ppxf fits (MC simluations)\" if jj == 0 else None)\n",
    "    ax.step(range(N_ages), sfh_fit_lw_1D_mean, color=\"red\", where=\"mid\", label=\"Mean ppxf fit (MC simulations)\")\n",
    "    ax.step(range(N_ages), sfh_fit_lw_1D_regul, color=\"lightgreen\", where=\"mid\", label=\"ppxf fit (regularised)\")\n",
    "    \n",
    "    # Plot horizontal error bars indicating the mean mass-weighted age from (a) the MC simulations and (b) the regularised fit \n",
    "    y = 10**(0.9 * np.log10(ax.get_ylim()[1])) if log_scale else 0.9 * ax.get_ylim()[1]\n",
    "    ax.errorbar(x=log_age_mw_regul_idx, y=y, xerr=0, yerr=0, \n",
    "                marker=\"D\", mfc=\"lightgreen\",mec=\"lightgreen\",  ecolor=\"lightgreen\",  \n",
    "                label=\"MW age ($< 1$ Gyr) (regularised fit)\")\n",
    "    ax.errorbar(x=log_age_mw_MC_idx, y=y, xerr=log_age_mw_MC_err_idx, yerr=0, \n",
    "                marker=\"D\", mfc=\"red\", mec=\"red\", ecolor=\"red\",\n",
    "                label=\"MW age ($< 1$ Gyr) (MC simulations)\")\n",
    "    ax.errorbar(x=log_age_mw_input_idx, y=y, xerr=0, yerr=0, \n",
    "                marker=\"D\", mfc=\"cornflowerblue\", mec=\"cornflowerblue\", ecolor=\"cornflowerblue\", \n",
    "                label=\"MW age ($< 1$ Gyr) (input)\")\n",
    "    \n",
    "    # Decorations \n",
    "    ax.set_xticks(range(N_ages))\n",
    "    ax.set_xlabel(\"Age (Myr)\")\n",
    "    ax.set_xticklabels([\"{:}\".format(age / 1e6) for age in ages], rotation=\"vertical\", fontsize=\"x-small\")\n",
    "    ax.autoscale(axis=\"x\", enable=True, tight=True)\n",
    "    # ax.set_ylim([1, None])\n",
    "    ax.set_ylabel(r\"Template weight\")\n",
    "    ax.legend(fontsize=\"x-small\", loc=\"center left\", bbox_to_anchor=(1.01, 0.5))\n",
    "    ax.set_xlabel(\"Age (Myr)\")\n",
    "    ax.set_yscale(\"log\") if log_scale else None"
   ]
  },
  {
   "cell_type": "code",
   "execution_count": null,
   "metadata": {},
   "outputs": [],
   "source": []
  }
 ],
 "metadata": {
  "kernelspec": {
   "display_name": "Python 3",
   "language": "python",
   "name": "python3"
  },
  "language_info": {
   "codemirror_mode": {
    "name": "ipython",
    "version": 3
   },
   "file_extension": ".py",
   "mimetype": "text/x-python",
   "name": "python",
   "nbconvert_exporter": "python",
   "pygments_lexer": "ipython3",
   "version": "3.7.4"
  }
 },
 "nbformat": 4,
 "nbformat_minor": 2
}
