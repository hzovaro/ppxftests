{
 "cells": [
  {
   "cell_type": "markdown",
   "metadata": {},
   "source": [
    "# Estimating SB ages using an MC approach \n",
    "---\n",
    "McDermid et al. (2015) state that they use a Monte Carlo approach to estimate 1$\\sigma$ errors on their mass-weighted age estimates. To do this they use ppxf *without* regularisation, but to estimate the mass-weighted age they do use regularisation.\n",
    "\n",
    "Here, we are going to try using an MC approach, but without regularisation, to see whether we can accurately recover the mass-weighted age of the young component in the stellar population. If this works, then we can do away with regulariation, as it is very computationally expensive. \n",
    "\n",
    "To summarise, we will\n",
    "1. Define the \"truth\" SFH and generate the corresponding spectrum.\n",
    "2. In each MC iteration,\n",
    "    1. add *additional* random noise to the spectrum.\n",
    "    2. run ppxf. \n",
    "    3. compute the mass-weighted age of the young component. \n",
    "3. From the ensemble of mass-weighted age measurements, compute the mean and standard deviation. Do these rouhgly correspond to the input SFH?\n",
    "\n",
    "Need to\n",
    "* Incorporate multithreading to run multiple ppxf instances simultaneously."
   ]
  },
  {
   "cell_type": "code",
   "execution_count": 1,
   "metadata": {},
   "outputs": [],
   "source": [
    "%matplotlib widget"
   ]
  },
  {
   "cell_type": "code",
   "execution_count": 80,
   "metadata": {},
   "outputs": [
    {
     "data": {
      "text/html": [
       "<style>.container { width:75% !important; }</style>"
      ],
      "text/plain": [
       "<IPython.core.display.HTML object>"
      ]
     },
     "metadata": {},
     "output_type": "display_data"
    },
    {
     "data": {
      "text/html": [
       "<style>.output_result { max-width:75% !important; }</style>"
      ],
      "text/plain": [
       "<IPython.core.display.HTML object>"
      ]
     },
     "metadata": {},
     "output_type": "display_data"
    }
   ],
   "source": [
    "from IPython.core.display import display, HTML\n",
    "display(HTML(\"<style>.container { width:75% !important; }</style>\"))\n",
    "display(HTML(\"<style>.output_result { max-width:75% !important; }</style>\"))"
   ]
  },
  {
   "cell_type": "code",
   "execution_count": 152,
   "metadata": {},
   "outputs": [],
   "source": [
    "import numpy as np\n",
    "from numpy.random import RandomState\n",
    "from time import time \n",
    "from tqdm.notebook import tqdm\n",
    "import multiprocessing\n",
    "\n",
    "from astropy.io import fits\n",
    "\n",
    "from ppxftests.run_ppxf import run_ppxf\n",
    "from ppxftests.ssputils import load_ssp_templates\n",
    "from ppxftests.mockspec import create_mock_spectrum\n",
    "from ppxftests.ppxf_plot import plot_sfh_mass_weighted\n",
    "\n",
    "import matplotlib.pyplot as plt\n",
    "plt.ion()\n",
    "plt.close(\"all\")\n",
    "\n",
    "from IPython.core.debugger import Tracer"
   ]
  },
  {
   "cell_type": "code",
   "execution_count": 66,
   "metadata": {},
   "outputs": [],
   "source": [
    "###########################################################################\n",
    "# Settings\n",
    "###########################################################################\n",
    "isochrones = \"Padova\"\n",
    "SNR = 100\n",
    "sigma_star_kms = 250\n",
    "z = 0.01"
   ]
  },
  {
   "cell_type": "code",
   "execution_count": 122,
   "metadata": {},
   "outputs": [],
   "source": [
    "###########################################################################\n",
    "# Generate the input SFH\n",
    "###########################################################################\n",
    "# Load the stellar templates so we can get the age & metallicity dimensions\n",
    "_, _, metallicities, ages = load_ssp_templates(isochrones)\n",
    "N_ages = len(ages)\n",
    "N_metallicities = len(metallicities)\n",
    "\n",
    "# Simple Gaussian SFH\n",
    "xx, yy = np.meshgrid(range(N_ages), range(N_metallicities))\n",
    "x0 = 10\n",
    "y0 = 1.5\n",
    "sigma_x = 1\n",
    "sigma_y = 0.1\n",
    "sfh_young = np.exp(- (xx - x0)**2 / (2 * sigma_x**2)) *\\\n",
    "               np.exp(- (yy - y0)**2 / (2 * sigma_y**2))\n",
    "sfh_young /= np.nansum(sfh_young)\n",
    "sfh_mw_young = sfh_young * 1e8\n",
    "\n",
    "x0 = 60\n",
    "y0 = 0\n",
    "sigma_x = 1\n",
    "sigma_y = 0.5\n",
    "sfh_old = np.exp(- (xx - x0)**2 / (2 * sigma_x**2)) *\\\n",
    "             np.exp(- (yy - y0)**2 / (2 * sigma_y**2))\n",
    "sfh_old /= np.nansum(sfh_old)\n",
    "sfh_mw_old = sfh_old * 1e10\n",
    "\n",
    "# Add the young & old components\n",
    "sfh_mw_original = sfh_mw_old + sfh_mw_young\n",
    "\n",
    "# # Instead of a Gaussian SFH, try with a \"delta function\" SFH (i.e., 1 old & 1 young template)\n",
    "# sfh_mw_original = np.zeros((N_metallicities, N_ages))\n",
    "# sfh_mw_original[2, 4] = 1e7\n",
    "# sfh_mw_original[1, -3] = 1e10\n",
    "\n",
    "sfh_mw_1D_original = np.nansum(sfh_mw_original, axis=0)\n"
   ]
  },
  {
   "cell_type": "code",
   "execution_count": 119,
   "metadata": {},
   "outputs": [],
   "source": [
    "###########################################################################\n",
    "# Function for computing the mass-weighted age \n",
    "###########################################################################\n",
    "def calculate_mw_age(sfh_mw, age_thresh, ages):\n",
    "    # Sum the SFH over the metallicity dimension to get the 1D SFH\n",
    "    sfh_mw_1D = np.nansum(sfh_mw, axis=0) if sfh_mw.ndim > 1 else sfh_mw\n",
    "\n",
    "    # Find the index of the threshold age in the template age array\n",
    "    age_thresh_idx = np.nanargmin(np.abs(ages - age_thresh))\n",
    "    \n",
    "    # Compute the mass-weighted age \n",
    "    log_age_mw = np.nansum(sfh_mw_1D[:age_thresh_idx] * np.log10(ages[:age_thresh_idx])) / np.nansum(sfh_mw_1D[:age_thresh_idx])\n",
    "    \n",
    "    # Compute the corresponding index in the array (useful for plotting)\n",
    "    log_age_mw_idx = np.nanargmin(np.abs(np.log10(ages) - log_age_mw))\n",
    "    \n",
    "    return log_age_mw, log_age_mw_idx\n",
    "    "
   ]
  },
  {
   "cell_type": "code",
   "execution_count": 126,
   "metadata": {
    "scrolled": true
   },
   "outputs": [
    {
     "data": {
      "application/vnd.jupyter.widget-view+json": {
       "model_id": "bba19bee6d2b4a0cb840fd56ef86d856",
       "version_major": 2,
       "version_minor": 0
      },
      "text/plain": [
       "Canvas(toolbar=Toolbar(toolitems=[('Home', 'Reset original view', 'home', 'home'), ('Back', 'Back to previous …"
      ]
     },
     "metadata": {},
     "output_type": "display_data"
    }
   ],
   "source": [
    "# Test that it works \n",
    "log_age_mw, log_age_mw_idx = calculate_mw_age(sfh_mw_original, age_thresh=1e9, ages=ages)\n",
    "\n",
    "fig, ax = plt.subplots(nrows=1, ncols=1, figsize=(10, 5))\n",
    "ax.step(range(N_ages), sfh_mw_1D_original, color=\"black\", where=\"mid\")\n",
    "ax.axvline(log_age_mw_idx, color=\"red\")\n",
    "ax.set_ylim([1, None])\n",
    "ax.set_yscale(\"log\")"
   ]
  },
  {
   "cell_type": "markdown",
   "metadata": {},
   "source": [
    "## MONTE CARLO TESTING\n",
    "---\n",
    "Each iteration, use the same spectrum, but with random noise added to it. "
   ]
  },
  {
   "cell_type": "code",
   "execution_count": 123,
   "metadata": {
    "scrolled": true
   },
   "outputs": [
    {
     "data": {
      "application/vnd.jupyter.widget-view+json": {
       "model_id": "9e79714d02ab429b88a1a4ef79d2dd98",
       "version_major": 2,
       "version_minor": 0
      },
      "text/plain": [
       "Canvas(toolbar=Toolbar(toolitems=[('Home', 'Reset original view', 'home', 'home'), ('Back', 'Back to previous …"
      ]
     },
     "metadata": {},
     "output_type": "display_data"
    },
    {
     "data": {
      "application/vnd.jupyter.widget-view+json": {
       "model_id": "df275f4d37f04fd49d3d0a4ac619b701",
       "version_major": 2,
       "version_minor": 0
      },
      "text/plain": [
       "Canvas(toolbar=Toolbar(toolitems=[('Home', 'Reset original view', 'home', 'home'), ('Back', 'Back to previous …"
      ]
     },
     "metadata": {},
     "output_type": "display_data"
    },
    {
     "data": {
      "application/vnd.jupyter.widget-view+json": {
       "model_id": "9091498b175c494bb128a687f50e18c5",
       "version_major": 2,
       "version_minor": 0
      },
      "text/plain": [
       "Canvas(toolbar=Toolbar(toolitems=[('Home', 'Reset original view', 'home', 'home'), ('Back', 'Back to previous …"
      ]
     },
     "metadata": {},
     "output_type": "display_data"
    },
    {
     "name": "stderr",
     "output_type": "stream",
     "text": [
      "No handles with labels found to put in legend.\n"
     ]
    },
    {
     "data": {
      "application/vnd.jupyter.widget-view+json": {
       "model_id": "9bf77ae2ad494fe59ba53e60a926b73a",
       "version_major": 2,
       "version_minor": 0
      },
      "text/plain": [
       "Canvas(toolbar=Toolbar(toolitems=[('Home', 'Reset original view', 'home', 'home'), ('Back', 'Back to previous …"
      ]
     },
     "metadata": {},
     "output_type": "display_data"
    }
   ],
   "source": [
    "###########################################################################\n",
    "# Generate the spectrum\n",
    "###########################################################################\n",
    "spec_original, spec_original_err, lambda_vals_A = create_mock_spectrum(\n",
    "    sfh_mass_weighted=sfh_mw_original,\n",
    "    isochrones=isochrones, z=z, SNR=SNR, sigma_star_kms=sigma_star_kms,\n",
    "    plotit=True)  \n"
   ]
  },
  {
   "cell_type": "code",
   "execution_count": 161,
   "metadata": {},
   "outputs": [
    {
     "data": {
      "text/plain": [
       "[1612,\n",
       " 1726,\n",
       " 910,\n",
       " 857,\n",
       " 296,\n",
       " 926,\n",
       " 1664,\n",
       " 625,\n",
       " 247,\n",
       " 186,\n",
       " 231,\n",
       " 1864,\n",
       " 1928,\n",
       " 1959,\n",
       " 161,\n",
       " 1569,\n",
       " 182,\n",
       " 32,\n",
       " 1180,\n",
       " 343]"
      ]
     },
     "execution_count": 161,
     "metadata": {},
     "output_type": "execute_result"
    }
   ],
   "source": [
    "list(np.random.randint(low=0, high=100 * niters, size=niters))"
   ]
  },
  {
   "cell_type": "code",
   "execution_count": 162,
   "metadata": {
    "scrolled": false
   },
   "outputs": [
    {
     "name": "stdout",
     "output_type": "stream",
     "text": [
      "Running ppxf on 20 threads...\n"
     ]
    },
    {
     "data": {
      "application/vnd.jupyter.widget-view+json": {
       "model_id": "a190823ae2f74f879681ced0125d5b33",
       "version_major": 2,
       "version_minor": 0
      },
      "text/plain": [
       "HBox(children=(IntProgress(value=0, max=20), HTML(value='')))"
      ]
     },
     "metadata": {},
     "output_type": "display_data"
    },
    {
     "name": "stdout",
     "output_type": "stream",
     "text": [
      "6.983376622581931e+36\n",
      "-9.051531587922739e+36\n",
      "7.282262118343539e+35\n",
      "5.097978099931293e+36\n",
      "-4.449573959205587e+36\n",
      "-3.0942375085078365e+36\n",
      "-1.0490392625277806e+37\n",
      "-4.468190636624613e+36\n",
      "-8.064298445141361e+35\n",
      "-1.9662509447246135e+37\n",
      "4.897663750920843e+37\n",
      "1.3929907197868998e+37\n",
      "-2.8227967444947747e+37\n",
      "-9.148598993951686e+36\n",
      "2.5478103999477496e+37\n",
      "-1.4954613696031168e+37\n",
      "6.776975201355106e+36\n",
      "-9.051531587922739e+36\n",
      "2.2085907857811065e+34\n",
      "-1.3018060353179432e+37\n",
      "\n",
      "Elapsed time in ppxf: 44.19 s\n"
     ]
    }
   ],
   "source": [
    "###########################################################################\n",
    "# Run ppxf WITHOUT regularisation, using a MC approach to estimate the SFH\n",
    "###########################################################################\n",
    "# Helper function for multiprocessing\n",
    "def ppxf_helper(seed):\n",
    "    # Add \"extra\" noise to the spectrum\n",
    "    rng = RandomState(seed)\n",
    "    noise = rng.normal(scale=spec_original_err)\n",
    "    spec = spec_original + noise\n",
    "    \n",
    "    # print(noise[0])  # For checking whether the random noise is being reseeded each iteration\n",
    "    \n",
    "    spec[0] = -9999\n",
    "    spec[-1] = -9999\n",
    "\n",
    "    # Run ppxf\n",
    "    pp = run_ppxf(spec=spec, spec_err=spec_original_err, lambda_vals_A=lambda_vals_A,\n",
    "                  z=z, ngascomponents=1,\n",
    "                  regularisation_method=\"none\", \n",
    "                  isochrones=\"Padova\",\n",
    "                  fit_gas=False, tie_balmer=True,\n",
    "                  plotit=False, savefigs=False, interactive_mode=False)\n",
    "    return pp\n",
    "     \n",
    "# Input arguments\n",
    "niters = 20\n",
    "nthreads = 20\n",
    "args_list = list(np.random.randint(low=0, high=100 * niters, size=niters))\n",
    "\n",
    "# Run in parallel\n",
    "print(f\"Running ppxf on {nthreads} threads...\")\n",
    "t = time()\n",
    "with multiprocessing.Pool(nthreads) as pool:\n",
    "    pp_list = list(tqdm(pool.imap(ppxf_helper, args_list), total=niters))\n",
    "print(f\"Elapsed time in ppxf: {time() - t:.2f} s\")\n"
   ]
  },
  {
   "cell_type": "code",
   "execution_count": 163,
   "metadata": {},
   "outputs": [
    {
     "data": {
      "application/vnd.jupyter.widget-view+json": {
       "model_id": "3c62af120e1e489a94e0a402fe7e0321",
       "version_major": 2,
       "version_minor": 0
      },
      "text/plain": [
       "Canvas(toolbar=Toolbar(toolitems=[('Home', 'Reset original view', 'home', 'home'), ('Back', 'Back to previous …"
      ]
     },
     "metadata": {},
     "output_type": "display_data"
    },
    {
     "data": {
      "application/vnd.jupyter.widget-view+json": {
       "model_id": "431898753c8141c0a3defa3739ac2f00",
       "version_major": 2,
       "version_minor": 0
      },
      "text/plain": [
       "Canvas(toolbar=Toolbar(toolitems=[('Home', 'Reset original view', 'home', 'home'), ('Back', 'Back to previous …"
      ]
     },
     "metadata": {},
     "output_type": "display_data"
    }
   ],
   "source": [
    "###########################################################################\n",
    "# COMPARE THE INPUT AND OUTPUT\n",
    "###########################################################################\n",
    "sfh_fit_mw_list = []\n",
    "sfh_fit_lw_list = []\n",
    "sfh_fit_mw_1D_list = []\n",
    "sfh_fit_lw_1D_list = []\n",
    "\n",
    "for pp in pp_list:\n",
    "    sfh_fit_mw_list.append(pp.weights_mass_weighted)\n",
    "    sfh_fit_lw_list.append(pp.weights_light_weighted)\n",
    "    sfh_fit_mw_1D_list.append(np.nansum(pp.weights_mass_weighted, axis=0))\n",
    "    sfh_fit_lw_1D_list.append(np.nansum(pp.weights_light_weighted, axis=0))\n",
    "    \n",
    "# Compute the mean SFH \n",
    "sfh_fit_mw_mean = np.nansum(np.array(sfh_fit_mw_list), axis=0) / len(sfh_fit_mw_list)\n",
    "sfh_fit_lw_mean = np.nansum(np.array(sfh_fit_lw_list), axis=0) / len(sfh_fit_lw_list)\n",
    "sfh_fit_mw_1D_mean = np.nansum(sfh_fit_mw_mean, axis=0)\n",
    "sfh_fit_lw_1D_mean = np.nansum(sfh_fit_lw_mean, axis=0)\n",
    "\n",
    "# Compute the mass-weighted \n",
    "\n",
    "# Plot the mass-weighted weights, summed over the metallicity dimension\n",
    "fig, axs = plt.subplots(nrows=2, ncols=1, figsize=(10, 6))\n",
    "fig.subplots_adjust(hspace=0.3)\n",
    "axs = axs.flat\n",
    "axs[0].set_title(\"Mass-weighted template weights (different random realisations)\")\n",
    "for ax in axs:\n",
    "    ax.step(range(N_ages), sfh_mw_1D_original, color=\"black\", where=\"mid\", label=\"Input SFH\")\n",
    "    for jj in range(niters):\n",
    "        ax.step(range(N_ages), sfh_fit_mw_1D_list[jj], color=\"red\", alpha=0.1, where=\"mid\", label=\"ppxf fits\" if jj == 0 else None)\n",
    "    ax.step(range(N_ages), sfh_fit_mw_1D_mean, color=\"blue\", where=\"mid\", label=\"Mean ppxf fit\")\n",
    "    \n",
    "    ax.legend()\n",
    "    ax.set_xticks(range(N_ages))\n",
    "    ax.set_xlabel(\"Age (Myr)\")\n",
    "    ax.set_xticklabels([\"{:}\".format(age / 1e6) for age in ages], rotation=\"vertical\", fontsize=\"x-small\")\n",
    "    ax.autoscale(axis=\"x\", enable=True, tight=True)\n",
    "    ax.set_ylim([1, None])\n",
    "    ax.set_ylabel(\"Template weight\")\n",
    "axs[1].set_yscale(\"log\")\n",
    "\n",
    "# Plot the light-weighted weights, summed over the metallicity dimension\n",
    "fig, axs = plt.subplots(nrows=2, ncols=1, figsize=(10, 6))\n",
    "fig.subplots_adjust(hspace=0.3)\n",
    "axs = axs.flat\n",
    "axs[0].set_title(\"Light-weighted template weights (different random realisations)\")\n",
    "for ax in axs:\n",
    "    for jj in range(niters):\n",
    "        ax.step(range(N_ages), sfh_fit_lw_1D_list[jj], color=\"red\", alpha=0.1, where=\"mid\", label=\"ppxf fits\" if jj == 0 else None)\n",
    "    ax.step(range(N_ages), sfh_fit_lw_1D_mean, color=\"blue\", where=\"mid\", label=\"Mean ppxf fit\")\n",
    "    \n",
    "    ax.legend()\n",
    "    ax.set_xticks(range(N_ages))\n",
    "    ax.set_xlabel(\"Age (Myr)\")\n",
    "    ax.set_xticklabels([\"{:}\".format(age / 1e6) for age in ages], rotation=\"vertical\", fontsize=\"x-small\")\n",
    "    ax.autoscale(axis=\"x\", enable=True, tight=True)\n",
    "    ax.set_ylabel(\"Template weight\")\n",
    "axs[1].set_yscale(\"log\")"
   ]
  },
  {
   "cell_type": "markdown",
   "metadata": {},
   "source": [
    "## Method 1: run ppxf ~100 times *without* regularisation\n",
    "---\n",
    "#### Remarks\n",
    "* `ppxf` does NOT yield exactly the same result each time it is run, even if `regul` is fixed! In this scenario, the S/N on the input doesn't seem to make much difference - i.e., even if the S/N is very high, the output still varies. **However**, `ppxf` is still able to correctly identify the *peaks* in the SFH.  "
   ]
  },
  {
   "cell_type": "code",
   "execution_count": null,
   "metadata": {},
   "outputs": [],
   "source": [
    "###########################################################################\n",
    "# Run ppxf WITHOUT regularisation, with the SAME input spectrum & noise each time.\n",
    "###########################################################################\n",
    "# Generate the spectrum\n",
    "spec_original, spec_original_err, lambda_vals_A = create_mock_spectrum(\n",
    "    sfh_mass_weighted=sfh_mw_original,\n",
    "    isochrones=isochrones, z=z, SNR=SNR, sigma_star_kms=sigma_star_kms,\n",
    "    plotit=False)  \n",
    "\n",
    "spec_original[0] = -9999\n",
    "spec_original[-1] = -9999\n",
    "\n",
    "# Run ppxf\n",
    "pp_list = []\n",
    "for ii in tqdm(range(100)):\n",
    "    pp = run_ppxf(spec=spec_original, spec_err=spec_original_err, lambda_vals_A=lambda_vals_A,\n",
    "                  z=z, ngascomponents=1,\n",
    "                  regularisation_method=\"none\", \n",
    "                  isochrones=\"Padova\",\n",
    "                  fit_gas=False, tie_balmer=True,\n",
    "                  plotit=False, savefigs=False, interactive_mode=False)\n",
    "    pp_list.append(pp)"
   ]
  },
  {
   "cell_type": "code",
   "execution_count": 82,
   "metadata": {
    "scrolled": true
   },
   "outputs": [
    {
     "name": "stdout",
     "output_type": "stream",
     "text": [
      "----------------------------------------------------\n",
      "Elapsed time in PPXF: 4.59 s\n",
      "----------------------------------------------------\n",
      "Elapsed time in PPXF: 3.99 s\n",
      "----------------------------------------------------\n",
      "Elapsed time in PPXF: 3.34 s\n",
      "----------------------------------------------------\n",
      "Elapsed time in PPXF: 3.49 s\n",
      "----------------------------------------------------\n",
      "Elapsed time in PPXF: 3.80 s\n",
      "----------------------------------------------------\n",
      "Elapsed time in PPXF: 3.73 s\n",
      "----------------------------------------------------\n",
      "Elapsed time in PPXF: 3.71 s\n",
      "----------------------------------------------------\n",
      "Elapsed time in PPXF: 3.39 s\n",
      "----------------------------------------------------\n",
      "Elapsed time in PPXF: 3.80 s\n",
      "----------------------------------------------------\n",
      "Elapsed time in PPXF: 3.77 s\n",
      "----------------------------------------------------\n",
      "Elapsed time in PPXF: 3.51 s\n",
      "----------------------------------------------------\n",
      "Elapsed time in PPXF: 3.69 s\n",
      "----------------------------------------------------\n",
      "Elapsed time in PPXF: 3.62 s\n",
      "----------------------------------------------------\n",
      "Elapsed time in PPXF: 3.66 s\n",
      "----------------------------------------------------\n",
      "Elapsed time in PPXF: 3.56 s\n",
      "----------------------------------------------------\n",
      "Elapsed time in PPXF: 4.02 s\n",
      "----------------------------------------------------\n",
      "Elapsed time in PPXF: 3.80 s\n",
      "----------------------------------------------------\n",
      "Elapsed time in PPXF: 3.88 s\n",
      "----------------------------------------------------\n",
      "Elapsed time in PPXF: 3.44 s\n",
      "----------------------------------------------------\n",
      "Elapsed time in PPXF: 3.43 s\n",
      "----------------------------------------------------\n",
      "Elapsed time in PPXF: 3.76 s\n",
      "----------------------------------------------------\n",
      "Elapsed time in PPXF: 3.73 s\n",
      "----------------------------------------------------\n",
      "Elapsed time in PPXF: 3.66 s\n",
      "----------------------------------------------------\n",
      "Elapsed time in PPXF: 3.71 s\n",
      "----------------------------------------------------\n",
      "Elapsed time in PPXF: 3.83 s\n",
      "----------------------------------------------------\n",
      "Elapsed time in PPXF: 4.65 s\n",
      "----------------------------------------------------\n",
      "Elapsed time in PPXF: 3.76 s\n",
      "----------------------------------------------------\n",
      "Elapsed time in PPXF: 3.85 s\n",
      "----------------------------------------------------\n",
      "Elapsed time in PPXF: 3.87 s\n",
      "----------------------------------------------------\n",
      "Elapsed time in PPXF: 3.71 s\n",
      "----------------------------------------------------\n",
      "Elapsed time in PPXF: 3.38 s\n",
      "----------------------------------------------------\n",
      "Elapsed time in PPXF: 3.77 s\n",
      "----------------------------------------------------\n",
      "Elapsed time in PPXF: 3.47 s\n",
      "----------------------------------------------------\n",
      "Elapsed time in PPXF: 3.84 s\n",
      "----------------------------------------------------\n",
      "Elapsed time in PPXF: 4.44 s\n",
      "----------------------------------------------------\n",
      "Elapsed time in PPXF: 3.67 s\n",
      "----------------------------------------------------\n",
      "Elapsed time in PPXF: 3.47 s\n",
      "----------------------------------------------------\n",
      "Elapsed time in PPXF: 3.75 s\n",
      "----------------------------------------------------\n",
      "Elapsed time in PPXF: 4.77 s\n",
      "----------------------------------------------------\n",
      "Elapsed time in PPXF: 3.76 s\n",
      "----------------------------------------------------\n",
      "Elapsed time in PPXF: 3.89 s\n",
      "----------------------------------------------------\n",
      "Elapsed time in PPXF: 4.01 s\n",
      "----------------------------------------------------\n",
      "Elapsed time in PPXF: 3.44 s\n",
      "----------------------------------------------------\n",
      "Elapsed time in PPXF: 3.72 s\n",
      "----------------------------------------------------\n",
      "Elapsed time in PPXF: 3.66 s\n",
      "----------------------------------------------------\n",
      "Elapsed time in PPXF: 3.57 s\n",
      "----------------------------------------------------\n",
      "Elapsed time in PPXF: 3.77 s\n",
      "----------------------------------------------------\n",
      "Elapsed time in PPXF: 3.50 s\n",
      "----------------------------------------------------\n",
      "Elapsed time in PPXF: 3.86 s\n",
      "----------------------------------------------------\n",
      "Elapsed time in PPXF: 3.84 s\n",
      "----------------------------------------------------\n",
      "Elapsed time in PPXF: 3.57 s\n",
      "----------------------------------------------------\n",
      "Elapsed time in PPXF: 3.51 s\n",
      "----------------------------------------------------\n",
      "Elapsed time in PPXF: 3.76 s\n",
      "----------------------------------------------------\n",
      "Elapsed time in PPXF: 3.78 s\n",
      "----------------------------------------------------\n",
      "Elapsed time in PPXF: 3.67 s\n",
      "----------------------------------------------------\n",
      "Elapsed time in PPXF: 3.72 s\n",
      "----------------------------------------------------\n",
      "Elapsed time in PPXF: 3.52 s\n",
      "----------------------------------------------------\n",
      "Elapsed time in PPXF: 3.52 s\n",
      "----------------------------------------------------\n",
      "Elapsed time in PPXF: 3.62 s\n",
      "----------------------------------------------------\n",
      "Elapsed time in PPXF: 3.69 s\n",
      "----------------------------------------------------\n",
      "Elapsed time in PPXF: 4.73 s\n",
      "----------------------------------------------------\n",
      "Elapsed time in PPXF: 4.65 s\n",
      "----------------------------------------------------\n",
      "Elapsed time in PPXF: 4.64 s\n",
      "----------------------------------------------------\n",
      "Elapsed time in PPXF: 3.68 s\n",
      "----------------------------------------------------\n",
      "Elapsed time in PPXF: 3.57 s\n",
      "----------------------------------------------------\n",
      "Elapsed time in PPXF: 3.75 s\n",
      "----------------------------------------------------\n",
      "Elapsed time in PPXF: 3.75 s\n",
      "----------------------------------------------------\n",
      "Elapsed time in PPXF: 3.64 s\n",
      "----------------------------------------------------\n",
      "Elapsed time in PPXF: 3.69 s\n",
      "----------------------------------------------------\n",
      "Elapsed time in PPXF: 3.86 s\n",
      "----------------------------------------------------\n",
      "Elapsed time in PPXF: 3.82 s\n",
      "----------------------------------------------------\n",
      "Elapsed time in PPXF: 3.60 s\n",
      "----------------------------------------------------\n",
      "Elapsed time in PPXF: 3.41 s\n",
      "----------------------------------------------------\n",
      "Elapsed time in PPXF: 4.61 s\n",
      "----------------------------------------------------\n",
      "Elapsed time in PPXF: 4.58 s\n",
      "----------------------------------------------------\n",
      "Elapsed time in PPXF: 3.81 s\n",
      "----------------------------------------------------\n",
      "Elapsed time in PPXF: 3.81 s\n",
      "----------------------------------------------------\n",
      "Elapsed time in PPXF: 3.63 s\n",
      "----------------------------------------------------\n",
      "Elapsed time in PPXF: 3.65 s\n",
      "----------------------------------------------------\n",
      "Elapsed time in PPXF: 3.65 s\n",
      "----------------------------------------------------\n",
      "Elapsed time in PPXF: 3.81 s\n",
      "----------------------------------------------------\n",
      "Elapsed time in PPXF: 4.48 s\n",
      "----------------------------------------------------\n",
      "Elapsed time in PPXF: 3.69 s\n",
      "----------------------------------------------------\n",
      "Elapsed time in PPXF: 3.75 s\n",
      "----------------------------------------------------\n",
      "Elapsed time in PPXF: 3.98 s\n",
      "----------------------------------------------------\n",
      "Elapsed time in PPXF: 3.79 s\n",
      "----------------------------------------------------\n",
      "Elapsed time in PPXF: 3.81 s\n",
      "----------------------------------------------------\n",
      "Elapsed time in PPXF: 3.65 s\n",
      "----------------------------------------------------\n",
      "Elapsed time in PPXF: 3.92 s\n",
      "----------------------------------------------------\n",
      "Elapsed time in PPXF: 3.70 s\n",
      "----------------------------------------------------\n",
      "Elapsed time in PPXF: 4.03 s\n",
      "----------------------------------------------------\n",
      "Elapsed time in PPXF: 3.95 s\n",
      "----------------------------------------------------\n",
      "Elapsed time in PPXF: 3.75 s\n",
      "----------------------------------------------------\n",
      "Elapsed time in PPXF: 3.80 s\n",
      "----------------------------------------------------\n",
      "Elapsed time in PPXF: 3.65 s\n",
      "----------------------------------------------------\n",
      "Elapsed time in PPXF: 3.74 s\n",
      "----------------------------------------------------\n",
      "Elapsed time in PPXF: 3.81 s\n",
      "----------------------------------------------------\n",
      "Elapsed time in PPXF: 3.77 s\n",
      "----------------------------------------------------\n",
      "Elapsed time in PPXF: 4.04 s\n",
      "----------------------------------------------------\n",
      "Elapsed time in PPXF: 3.71 s\n"
     ]
    },
    {
     "data": {
      "application/vnd.jupyter.widget-view+json": {
       "model_id": "bb2e846cb2fb48cb9b5ebd4d74fb91bd",
       "version_major": 2,
       "version_minor": 0
      },
      "text/plain": [
       "Canvas(toolbar=Toolbar(toolitems=[('Home', 'Reset original view', 'home', 'home'), ('Back', 'Back to previous …"
      ]
     },
     "metadata": {},
     "output_type": "display_data"
    },
    {
     "data": {
      "application/vnd.jupyter.widget-view+json": {
       "model_id": "4d9b161b9298459086045a57d2d951c0",
       "version_major": 2,
       "version_minor": 0
      },
      "text/plain": [
       "Canvas(toolbar=Toolbar(toolitems=[('Home', 'Reset original view', 'home', 'home'), ('Back', 'Back to previous …"
      ]
     },
     "metadata": {},
     "output_type": "display_data"
    }
   ],
   "source": [
    "###########################################################################\n",
    "# COMPARE THE INPUT AND OUTPUT\n",
    "###########################################################################\n",
    "sfh_fit_mw_list = []\n",
    "sfh_fit_lw_list = []\n",
    "sfh_fit_mw_1D_list = []\n",
    "sfh_fit_lw_1D_list = []\n",
    "\n",
    "for pp in pp_list:\n",
    "    sfh_fit_mw_list.append(pp.weights_mass_weighted)\n",
    "    sfh_fit_lw_list.append(pp.weights_light_weighted)\n",
    "    sfh_fit_mw_1D_list.append(np.nansum(pp.weights_mass_weighted, axis=0))\n",
    "    sfh_fit_lw_1D_list.append(np.nansum(pp.weights_light_weighted, axis=0))\n",
    "\n",
    "# Plot the mass-weighted weights, summed over the metallicity dimension\n",
    "fig, axs = plt.subplots(nrows=2, ncols=1, figsize=(10, 6))\n",
    "fig.subplots_adjust(hspace=0.3)\n",
    "axs = axs.flat\n",
    "axs[0].set_title(\"Mass-weighted template weights (identical inputs)\")\n",
    "for ax in axs:\n",
    "    ax.step(range(N_ages), sfh_mw_1D_original,\n",
    "            color=\"black\", where=\"mid\", label=\"Input SFH\")\n",
    "    for jj in range(ii + 1):\n",
    "        ax.step(range(N_ages), sfh_fit_mw_1D_list[jj],\n",
    "                color=\"red\", alpha=0.1, where=\"mid\", label=\"ppxf fits\" if jj == 0 else None)\n",
    "    ax.legend()\n",
    "    ax.set_xticks(range(N_ages))\n",
    "    ax.set_xlabel(\"Age (Myr)\")\n",
    "    ax.set_xticklabels([\"{:}\".format(age / 1e6) for age in ages], rotation=\"vertical\", fontsize=\"x-small\")\n",
    "    ax.autoscale(axis=\"x\", enable=True, tight=True)\n",
    "    ax.set_ylim([1, None])\n",
    "    ax.set_ylabel(\"Template weight\")\n",
    "axs[1].set_yscale(\"log\")\n",
    "\n",
    "# Plot the light-weighted weights, summed over the metallicity dimension\n",
    "fig, axs = plt.subplots(nrows=2, ncols=1, figsize=(10, 6))\n",
    "fig.subplots_adjust(hspace=0.3)\n",
    "axs = axs.flat\n",
    "axs[0].set_title(\"Light-weighted template weights (identical inputs)\")\n",
    "for ax in axs:\n",
    "    for jj in range(ii + 1):\n",
    "        ax.step(range(N_ages), sfh_fit_lw_1D_list[jj],\n",
    "                    color=\"red\", alpha=0.1, where=\"mid\", label=\"ppxf fits\" if jj == 0 else None)\n",
    "    ax.legend()\n",
    "    ax.set_xticks(range(N_ages))\n",
    "    ax.set_xlabel(\"Age (Myr)\")\n",
    "    ax.set_xticklabels([\"{:}\".format(age / 1e6) for age in ages], rotation=\"vertical\", fontsize=\"x-small\")\n",
    "    ax.autoscale(axis=\"x\", enable=True, tight=True)\n",
    "    ax.set_ylabel(\"Template weight\")\n",
    "axs[1].set_yscale(\"log\")"
   ]
  },
  {
   "cell_type": "code",
   "execution_count": 85,
   "metadata": {},
   "outputs": [
    {
     "name": "stderr",
     "output_type": "stream",
     "text": [
      "100%|██████████| 100/100 [09:25<00:00,  5.65s/it]\n"
     ]
    }
   ],
   "source": [
    "###########################################################################\n",
    "# Run ppxf WITHOUT regularisation, with a new random reasliation of the \n",
    "# input spectrum & noise each time.\n",
    "###########################################################################\n",
    "pp_list = []\n",
    "for ii in tqdm(range(100)):\n",
    "    # Generate the spectrum\n",
    "    spec_original, spec_original_err, lambda_vals_A = create_mock_spectrum(\n",
    "        sfh_mass_weighted=sfh_mw_original,\n",
    "        isochrones=isochrones, z=z, SNR=SNR, sigma_star_kms=sigma_star_kms,\n",
    "        plotit=False)  \n",
    "\n",
    "    spec_original[0] = -9999\n",
    "    spec_original[-1] = -9999\n",
    "\n",
    "    # Run ppxf\n",
    "    pp = run_ppxf(spec=spec_original, spec_err=spec_original_err, lambda_vals_A=lambda_vals_A,\n",
    "                  z=z, ngascomponents=1,\n",
    "                  regularisation_method=\"none\", \n",
    "                  isochrones=\"Padova\",\n",
    "                  fit_gas=False, tie_balmer=True,\n",
    "                  plotit=False, savefigs=False, interactive_mode=False)\n",
    "    pp_list.append(pp)"
   ]
  },
  {
   "cell_type": "code",
   "execution_count": 91,
   "metadata": {
    "scrolled": true
   },
   "outputs": [
    {
     "data": {
      "application/vnd.jupyter.widget-view+json": {
       "model_id": "20a19b01277d47f79e00d80dce6b377c",
       "version_major": 2,
       "version_minor": 0
      },
      "text/plain": [
       "Canvas(toolbar=Toolbar(toolitems=[('Home', 'Reset original view', 'home', 'home'), ('Back', 'Back to previous …"
      ]
     },
     "metadata": {},
     "output_type": "display_data"
    },
    {
     "data": {
      "application/vnd.jupyter.widget-view+json": {
       "model_id": "a0c4106b8ccb42ab885df9dca38f39cd",
       "version_major": 2,
       "version_minor": 0
      },
      "text/plain": [
       "Canvas(toolbar=Toolbar(toolitems=[('Home', 'Reset original view', 'home', 'home'), ('Back', 'Back to previous …"
      ]
     },
     "metadata": {},
     "output_type": "display_data"
    }
   ],
   "source": [
    "###########################################################################\n",
    "# COMPARE THE INPUT AND OUTPUT\n",
    "###########################################################################\n",
    "sfh_fit_mw_list = []\n",
    "sfh_fit_lw_list = []\n",
    "sfh_fit_mw_1D_list = []\n",
    "sfh_fit_lw_1D_list = []\n",
    "\n",
    "for pp in pp_list:\n",
    "    sfh_fit_mw_list.append(pp.weights_mass_weighted)\n",
    "    sfh_fit_lw_list.append(pp.weights_light_weighted)\n",
    "    sfh_fit_mw_1D_list.append(np.nansum(pp.weights_mass_weighted, axis=0))\n",
    "    sfh_fit_lw_1D_list.append(np.nansum(pp.weights_light_weighted, axis=0))\n",
    "    \n",
    "# Compute the mean SFH \n",
    "sfh_fit_mw_mean = np.nansum(np.array(sfh_fit_mw_list), axis=0) / len(sfh_fit_mw_list)\n",
    "sfh_fit_lw_mean = np.nansum(np.array(sfh_fit_lw_list), axis=0) / len(sfh_fit_lw_list)\n",
    "sfh_fit_mw_1D_mean = np.nansum(sfh_fit_mw_mean, axis=0)\n",
    "sfh_fit_lw_1D_mean = np.nansum(sfh_fit_lw_mean, axis=0)\n",
    "\n",
    "# Plot the mass-weighted weights, summed over the metallicity dimension\n",
    "fig, axs = plt.subplots(nrows=2, ncols=1, figsize=(10, 6))\n",
    "fig.subplots_adjust(hspace=0.3)\n",
    "axs = axs.flat\n",
    "axs[0].set_title(\"Mass-weighted template weights (different random realisations)\")\n",
    "for ax in axs:\n",
    "    ax.step(range(N_ages), sfh_mw_1D_original, color=\"black\", where=\"mid\", label=\"Input SFH\")\n",
    "    for jj in range(ii + 1):\n",
    "        ax.step(range(N_ages), sfh_fit_mw_1D_list[jj], color=\"red\", alpha=0.1, where=\"mid\", label=\"ppxf fits\" if jj == 0 else None)\n",
    "    ax.step(range(N_ages), sfh_fit_mw_1D_mean, color=\"blue\", where=\"mid\", label=\"Mean ppxf fit\")\n",
    "    \n",
    "    ax.legend()\n",
    "    ax.set_xticks(range(N_ages))\n",
    "    ax.set_xlabel(\"Age (Myr)\")\n",
    "    ax.set_xticklabels([\"{:}\".format(age / 1e6) for age in ages], rotation=\"vertical\", fontsize=\"x-small\")\n",
    "    ax.autoscale(axis=\"x\", enable=True, tight=True)\n",
    "    ax.set_ylim([1, None])\n",
    "    ax.set_ylabel(\"Template weight\")\n",
    "axs[1].set_yscale(\"log\")\n",
    "\n",
    "# Plot the light-weighted weights, summed over the metallicity dimension\n",
    "fig, axs = plt.subplots(nrows=2, ncols=1, figsize=(10, 6))\n",
    "fig.subplots_adjust(hspace=0.3)\n",
    "axs = axs.flat\n",
    "axs[0].set_title(\"Light-weighted template weights (different random realisations)\")\n",
    "for ax in axs:\n",
    "    for jj in range(ii + 1):\n",
    "        ax.step(range(N_ages), sfh_fit_lw_1D_list[jj], color=\"red\", alpha=0.1, where=\"mid\", label=\"ppxf fits\" if jj == 0 else None)\n",
    "    ax.step(range(N_ages), sfh_fit_lw_1D_mean, color=\"blue\", where=\"mid\", label=\"Mean ppxf fit\")\n",
    "    \n",
    "    ax.legend()\n",
    "    ax.set_xticks(range(N_ages))\n",
    "    ax.set_xlabel(\"Age (Myr)\")\n",
    "    ax.set_xticklabels([\"{:}\".format(age / 1e6) for age in ages], rotation=\"vertical\", fontsize=\"x-small\")\n",
    "    ax.autoscale(axis=\"x\", enable=True, tight=True)\n",
    "    ax.set_ylabel(\"Template weight\")\n",
    "axs[1].set_yscale(\"log\")"
   ]
  },
  {
   "cell_type": "code",
   "execution_count": 64,
   "metadata": {},
   "outputs": [],
   "source": [
    "plt.close(\"all\")"
   ]
  },
  {
   "cell_type": "markdown",
   "metadata": {},
   "source": [
    "### Remarks"
   ]
  },
  {
   "cell_type": "code",
   "execution_count": 18,
   "metadata": {},
   "outputs": [
    {
     "name": "stdout",
     "output_type": "stream",
     "text": [
      "Median SNR = 99999.9873\n",
      "----------------------------------------------------\n",
      "Iteration 0: Elapsed time in PPXF (single thread): 4.04 s\n",
      "----------------------------------------------------\n",
      "Iteration 1: Scaling noise by 1932.8343...\n",
      "Iteration 1: Running ppxf on 20 threads...\n",
      "Iteration 1: Elapsed time in PPXF (multithreaded): 58.24 s\n",
      "Iteration 1: optimal regul = 500.00; Δm = 1.21455e+10; Δregul = 500.00 (Δregul_min = 1.00); Δχ (goal) - Δχ = 2.462\n",
      "----------------------------------------------------\n",
      "Iteration 2: Re-running ppxf on 20 threads (iteration 2)...\n",
      "Iteration 2: Elapsed time in PPXF (multithreaded): 47.67 s\n",
      "Iteration 2: optimal regul = 500.00; Δm = 0; Δregul = 100.00 (Δregul_min = 1.00); Δχ (goal) - Δχ = 2.462\n",
      "----------------------------------------------------\n",
      "Iteration 3: Re-running ppxf on 20 threads (iteration 3)...\n",
      "Iteration 3: Elapsed time in PPXF (multithreaded): 49.42 s\n",
      "Iteration 3: optimal regul = 520.00; Δm = 8.2726e+07; Δregul = 20.00 (Δregul_min = 1.00); Δχ (goal) - Δχ = 0.613\n",
      "----------------------------------------------------\n",
      "STOPPING: Convergence criterion reached; Δχ (goal) - Δχ = 0.6134822678497187; using 520.00 to produce the best fit\n"
     ]
    },
    {
     "name": "stderr",
     "output_type": "stream",
     "text": [
      "/home/u5708159/python/Modules/ppxftests/run_ppxf.py:425: RuntimeWarning: More than 20 figures have been opened. Figures created through the pyplot interface (`matplotlib.pyplot.figure`) are retained until explicitly closed and may consume too much memory. (To control this warning, see the rcParam `figure.max_open_warning`).\n",
      "  fig, axs = plt.subplots(nrows=2, ncols=1, figsize=(15, 6.5))\n"
     ]
    },
    {
     "data": {
      "application/vnd.jupyter.widget-view+json": {
       "model_id": "6bdbc668fc8e4659aae52f38b87673e1",
       "version_major": 2,
       "version_minor": 0
      },
      "text/plain": [
       "Canvas(toolbar=Toolbar(toolitems=[('Home', 'Reset original view', 'home', 'home'), ('Back', 'Back to previous …"
      ]
     },
     "metadata": {},
     "output_type": "display_data"
    },
    {
     "name": "stdout",
     "output_type": "stream",
     "text": [
      "Total time in run_ppxf: 161.25 seconds\n"
     ]
    }
   ],
   "source": [
    "###########################################################################\n",
    "# Fit with ppxf\n",
    "###########################################################################\n",
    "t = time()\n",
    "pp1 = run_ppxf(spec=spec_original, spec_err=spec_original_err, lambda_vals_A=lambda_vals_A,\n",
    "              z=z, ngascomponents=1,\n",
    "              auto_adjust_regul=True,\n",
    "              isochrones=\"Padova\",\n",
    "              fit_gas=False, tie_balmer=True,\n",
    "              delta_regul_min=1, regul_max=5e4, delta_delta_chi2_min=1,\n",
    "              plotit=False, savefigs=False, interactive_mode=False)\n",
    "print(f\"Total time in run_ppxf: {time() - t:.2f} seconds\")\n",
    "\n",
    "sfh_lw_pp1 = pp1.weights_light_weighted\n",
    "sfh_mw_pp1 = pp1.weights_mass_weighted"
   ]
  },
  {
   "cell_type": "code",
   "execution_count": 21,
   "metadata": {
    "scrolled": true
   },
   "outputs": [
    {
     "data": {
      "application/vnd.jupyter.widget-view+json": {
       "model_id": "981e4df684e9479c807152aeaa1544a1",
       "version_major": 2,
       "version_minor": 0
      },
      "text/plain": [
       "Canvas(toolbar=Toolbar(toolitems=[('Home', 'Reset original view', 'home', 'home'), ('Back', 'Back to previous …"
      ]
     },
     "metadata": {},
     "output_type": "display_data"
    },
    {
     "data": {
      "application/vnd.jupyter.widget-view+json": {
       "model_id": "44da278d144f431ca7bb92f578cb3698",
       "version_major": 2,
       "version_minor": 0
      },
      "text/plain": [
       "Canvas(toolbar=Toolbar(toolitems=[('Home', 'Reset original view', 'home', 'home'), ('Back', 'Back to previous …"
      ]
     },
     "metadata": {},
     "output_type": "display_data"
    },
    {
     "data": {
      "application/vnd.jupyter.widget-view+json": {
       "model_id": "fb2588434bf94bf09c3105913d9fe3f5",
       "version_major": 2,
       "version_minor": 0
      },
      "text/plain": [
       "Canvas(toolbar=Toolbar(toolitems=[('Home', 'Reset original view', 'home', 'home'), ('Back', 'Back to previous …"
      ]
     },
     "metadata": {},
     "output_type": "display_data"
    },
    {
     "name": "stderr",
     "output_type": "stream",
     "text": [
      "No handles with labels found to put in legend.\n"
     ]
    },
    {
     "data": {
      "application/vnd.jupyter.widget-view+json": {
       "model_id": "d175863754bd401b99f7d171f5445579",
       "version_major": 2,
       "version_minor": 0
      },
      "text/plain": [
       "Canvas(toolbar=Toolbar(toolitems=[('Home', 'Reset original view', 'home', 'home'), ('Back', 'Back to previous …"
      ]
     },
     "metadata": {},
     "output_type": "display_data"
    },
    {
     "name": "stderr",
     "output_type": "stream",
     "text": [
      "/pkg/linux/anaconda-20191122/anaconda3/lib/python3.7/site-packages/ipykernel_launcher.py:13: RuntimeWarning: More than 20 figures have been opened. Figures created through the pyplot interface (`matplotlib.pyplot.figure`) are retained until explicitly closed and may consume too much memory. (To control this warning, see the rcParam `figure.max_open_warning`).\n",
      "  del sys.path[0]\n"
     ]
    },
    {
     "data": {
      "application/vnd.jupyter.widget-view+json": {
       "model_id": "af94e7f2f344481fab4a910f10d18557",
       "version_major": 2,
       "version_minor": 0
      },
      "text/plain": [
       "Canvas(toolbar=Toolbar(toolitems=[('Home', 'Reset original view', 'home', 'home'), ('Back', 'Back to previous …"
      ]
     },
     "metadata": {},
     "output_type": "display_data"
    },
    {
     "data": {
      "text/plain": [
       "[<matplotlib.lines.Line2D at 0x7f108033b290>]"
      ]
     },
     "execution_count": 21,
     "metadata": {},
     "output_type": "execute_result"
    }
   ],
   "source": [
    "###########################################################################\n",
    "# Re-create the input spectrum from ppxf \n",
    "###########################################################################\n",
    "spec_pp1, spec_pp1_err, lambda_vals_A = create_mock_spectrum(\n",
    "    sfh_mass_weighted=sfh_mw_pp1,\n",
    "    isochrones=isochrones, z=z, SNR=SNR, sigma_star_kms=sigma_star_kms,\n",
    "    plotit=True)  \n",
    "\n",
    "spec_pp1[0] = -9999\n",
    "spec_pp1[-1] = -9999\n",
    "\n",
    "# Compare \n",
    "fig, ax = plt.subplots(nrows=1, ncols=1, figsize=(15, 5))\n",
    "ax.plot(lambda_vals_A, spec_original, color=\"black\", label=\"spec_original\")\n",
    "ax.plot(lambda_vals_A, spec_pp1, color=\"red\", label=\"spec_pp1\")\n"
   ]
  },
  {
   "cell_type": "code",
   "execution_count": 20,
   "metadata": {},
   "outputs": [
    {
     "name": "stdout",
     "output_type": "stream",
     "text": [
      "Median SNR = 100000.0171\n",
      "----------------------------------------------------\n",
      "Iteration 0: Elapsed time in PPXF (single thread): 4.31 s\n",
      "----------------------------------------------------\n",
      "Iteration 1: Scaling noise by 1947.7944...\n",
      "Iteration 1: Running ppxf on 20 threads...\n",
      "Iteration 1: Elapsed time in PPXF (multithreaded): 53.34 s\n",
      "Iteration 1: optimal regul = 3500.00; Δm = 1.03137e+10; Δregul = 500.00 (Δregul_min = 1.00); Δχ (goal) - Δχ = 4.004\n",
      "----------------------------------------------------\n",
      "Iteration 2: Re-running ppxf on 20 threads (iteration 2)...\n",
      "Iteration 2: Elapsed time in PPXF (multithreaded): 59.64 s\n",
      "Iteration 2: optimal regul = 3300.00; Δm = 9.46714e+07; Δregul = 100.00 (Δregul_min = 1.00); Δχ (goal) - Δχ = 0.444\n",
      "----------------------------------------------------\n",
      "STOPPING: Convergence criterion reached; Δχ (goal) - Δχ = 0.4439487130693891; using 3300.00 to produce the best fit\n"
     ]
    },
    {
     "data": {
      "application/vnd.jupyter.widget-view+json": {
       "model_id": "ec23ad7c88ed42f2b3287af2276cc997",
       "version_major": 2,
       "version_minor": 0
      },
      "text/plain": [
       "Canvas(toolbar=Toolbar(toolitems=[('Home', 'Reset original view', 'home', 'home'), ('Back', 'Back to previous …"
      ]
     },
     "metadata": {},
     "output_type": "display_data"
    },
    {
     "name": "stdout",
     "output_type": "stream",
     "text": [
      "Total time in run_ppxf: 119.13 seconds\n"
     ]
    }
   ],
   "source": [
    "###########################################################################\n",
    "# Re-run ppxf to check that it correctly fits the input SFH\n",
    "###########################################################################\n",
    "t = time()\n",
    "pp2 = run_ppxf(spec=spec_pp1, spec_err=spec_pp1_err, lambda_vals_A=lambda_vals_A,\n",
    "               z=z, ngascomponents=1,\n",
    "               auto_adjust_regul=True,\n",
    "               isochrones=\"Padova\",\n",
    "               fit_gas=False, tie_balmer=True,\n",
    "               delta_regul_min=1, regul_max=5e4, delta_delta_chi2_min=1,\n",
    "               plotit=False, savefigs=False, interactive_mode=False)\n",
    "print(f\"Total time in run_ppxf: {time() - t:.2f} seconds\")\n",
    "\n",
    "sfh_lw_pp2 = pp2.weights_light_weighted\n",
    "sfh_mw_pp2 = pp2.weights_mass_weighted"
   ]
  },
  {
   "cell_type": "code",
   "execution_count": null,
   "metadata": {},
   "outputs": [],
   "source": [
    "###########################################################################\n",
    "# CHECK: compare the input & output SFHs \n",
    "###########################################################################\n",
    "fig, axs = plt.subplots(nrows=2, ncols=2, figsize=(20, 11))\n",
    "fig.subplots_adjust(hspace=0.3)\n",
    "# Mass-weighted \n",
    "for ax in [axs[0][0], axs[1][0]]:\n",
    "    ax.step(range(len(sfh_mw_original[0])), sfh_mw_original[0], color=\"black\", where=\"mid\", label=\"Original input SFH\")\n",
    "    ax.step(range(len(sfh_mw_pp1[0])), sfh_mw_pp1[0], color=\"red\", alpha=0.1, where=\"mid\", label=\"ppxf fit 1\")\n",
    "    ax.step(range(len(sfh_mw_pp2[0])), sfh_mw_pp2[0], color=\"green\", alpha=0.1, where=\"mid\", label=\"ppxf fit 2\")\n",
    "    ax.legend()\n",
    "    ax.set_xticks(range(len(ages)))\n",
    "    ax.set_xlabel(\"Age (Myr)\")\n",
    "    ax.set_xticklabels([\"{:}\".format(age / 1e6) for age in ages], rotation=\"vertical\")\n",
    "    ax.autoscale(axis=\"x\", enable=True, tight=True)\n",
    "    ax.set_ylim([1, None])\n",
    "    ax.set_ylabel(\"Template weight (mass-weighted)\")\n",
    "axs[1][0].set_yscale(\"log\")\n",
    "\n",
    "# light-weighted \n",
    "for ax in [axs[0][1], axs[1][1]]:\n",
    "    ax.step(range(len(sfh_lw_pp1[0])), sfh_lw_pp1[0], color=\"red\", alpha=0.1, where=\"mid\", label=\"ppxf fit 1\")\n",
    "    ax.step(range(len(sfh_lw_pp2[0])), sfh_lw_pp2[0], color=\"green\", alpha=0.1, where=\"mid\", label=\"ppxf fit 2\")\n",
    "    ax.legend()\n",
    "    ax.set_xticks(range(len(ages)))\n",
    "    ax.set_xlabel(\"Age (Myr)\")\n",
    "    ax.set_xticklabels([\"{:}\".format(age / 1e6) for age in ages], rotation=\"vertical\")\n",
    "    ax.autoscale(axis=\"x\", enable=True, tight=True)\n",
    "    ax.set_ylabel(\"Template weight (light-weighted)\")\n",
    "axs[1][1].set_yscale(\"log\")"
   ]
  },
  {
   "cell_type": "code",
   "execution_count": null,
   "metadata": {},
   "outputs": [],
   "source": [
    "###########################################################################\n",
    "# Save the mass weights to a FITS file so that we can load it \n",
    "###########################################################################\n",
    "# Create a .fits file \n",
    "header = fits.Header()\n",
    "header[\"NAGES\"] = N_ages\n",
    "header[\"NMET\"] = N_metallicities\n",
    "header[\"ISCHRN\"] = isochrones\n",
    "header[\"MTOT\"] = np.nansum(sfh_mw_pp2)\n",
    "header[\"LOGMTOT\"] = np.log10(np.nansum(sfh_mw_pp2))\n",
    "hdu_primary = fits.PrimaryHDU(header=header)\n",
    "\n",
    "hdu_sfh_mw = fits.ImageHDU(sfh_mw_pp2, name=\"SFH_MW\")\n",
    "hdu_sfh_lw = fits.ImageHDU(sfh_lw_pp2, name=\"SFH_LW\")\n",
    "hdulist = fits.HDUList([hdu_primary, hdu_sfh_mw, hdu_sfh_lw])\n",
    "\n",
    "hdulist.writeto(\"SFHs/sfh_mw_old+young.fits\", overwrite=True)"
   ]
  }
 ],
 "metadata": {
  "kernelspec": {
   "display_name": "Python 3",
   "language": "python",
   "name": "python3"
  },
  "language_info": {
   "codemirror_mode": {
    "name": "ipython",
    "version": 3
   },
   "file_extension": ".py",
   "mimetype": "text/x-python",
   "name": "python",
   "nbconvert_exporter": "python",
   "pygments_lexer": "ipython3",
   "version": "3.7.4"
  }
 },
 "nbformat": 4,
 "nbformat_minor": 2
}
