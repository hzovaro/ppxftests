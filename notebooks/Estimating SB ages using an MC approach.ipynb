{
 "cells": [
  {
   "cell_type": "markdown",
   "metadata": {},
   "source": [
    "# Estimating SB ages using an MC approach \n",
    "---\n",
    "McDermid et al. (2015) state that they use a Monte Carlo approach to estimate 1$\\sigma$ errors on their mass-weighted age estimates. To do this they use ppxf *without* regularisation, but to estimate the mass-weighted age they do use regularisation.\n",
    "\n",
    "Here, we are going to try using an MC approach, but without regularisation, to see whether we can accurately recover the mass-weighted age of the young component in the stellar population. If this works, then we can do away with regulariation, as it is very computationally expensive. \n",
    "\n",
    "To summarise, we will\n",
    "1. Define the \"truth\" SFH and generate the corresponding spectrum.\n",
    "2. In each MC iteration,\n",
    "    1. add *additional* random noise to the spectrum.\n",
    "    2. run ppxf. \n",
    "    3. compute the mass-weighted age of the young component. \n",
    "3. From the ensemble of mass-weighted age measurements, compute the mean and standard deviation. Do these rouhgly correspond to the input SFH?\n"
   ]
  },
  {
   "cell_type": "code",
   "execution_count": 2,
   "metadata": {},
   "outputs": [],
   "source": [
    "%matplotlib widget"
   ]
  },
  {
   "cell_type": "code",
   "execution_count": 3,
   "metadata": {},
   "outputs": [
    {
     "data": {
      "text/html": [
       "<style>.container { width:75% !important; }</style>"
      ],
      "text/plain": [
       "<IPython.core.display.HTML object>"
      ]
     },
     "metadata": {},
     "output_type": "display_data"
    },
    {
     "data": {
      "text/html": [
       "<style>.output_result { max-width:75% !important; }</style>"
      ],
      "text/plain": [
       "<IPython.core.display.HTML object>"
      ]
     },
     "metadata": {},
     "output_type": "display_data"
    }
   ],
   "source": [
    "from IPython.core.display import display, HTML\n",
    "display(HTML(\"<style>.container { width:75% !important; }</style>\"))\n",
    "display(HTML(\"<style>.output_result { max-width:75% !important; }</style>\"))"
   ]
  },
  {
   "cell_type": "code",
   "execution_count": 4,
   "metadata": {},
   "outputs": [],
   "source": [
    "import numpy as np\n",
    "from numpy.random import RandomState\n",
    "from time import time \n",
    "from tqdm.notebook import tqdm\n",
    "import multiprocessing\n",
    "\n",
    "from astropy.io import fits\n",
    "\n",
    "from ppxftests.run_ppxf import run_ppxf\n",
    "from ppxftests.ssputils import load_ssp_templates\n",
    "from ppxftests.mockspec import load_sfh, create_mock_spectrum, calculate_mw_age\n",
    "from ppxftests.ppxf_plot import plot_sfh_mass_weighted\n",
    "\n",
    "import matplotlib.pyplot as plt\n",
    "plt.ion()\n",
    "plt.close(\"all\")\n",
    "\n",
    "from IPython.core.debugger import Tracer"
   ]
  },
  {
   "cell_type": "code",
   "execution_count": 5,
   "metadata": {},
   "outputs": [],
   "source": [
    "###########################################################################\n",
    "# Settings\n",
    "###########################################################################\n",
    "isochrones = \"Padova\"\n",
    "SNR = 100\n",
    "sigma_star_kms = 250\n",
    "z = 0.01"
   ]
  },
  {
   "cell_type": "code",
   "execution_count": 24,
   "metadata": {},
   "outputs": [
    {
     "data": {
      "application/vnd.jupyter.widget-view+json": {
       "model_id": "f5467ac593fa4844857b422c50af668a",
       "version_major": 2,
       "version_minor": 0
      },
      "text/plain": [
       "Canvas(toolbar=Toolbar(toolitems=[('Home', 'Reset original view', 'home', 'home'), ('Back', 'Back to previous …"
      ]
     },
     "metadata": {},
     "output_type": "display_data"
    }
   ],
   "source": [
    "###########################################################################\n",
    "# Generate the input SFH\n",
    "###########################################################################\n",
    "# Load the stellar templates so we can get the age & metallicity dimensions\n",
    "_, _, metallicities, ages = load_ssp_templates(isochrones)\n",
    "N_ages = len(ages)\n",
    "N_metallicities = len(metallicities)\n",
    "\n",
    "# Simple Gaussian SFH\n",
    "# xx, yy = np.meshgrid(range(N_ages), range(N_metallicities))\n",
    "# x0 = 15\n",
    "# y0 = 2.5\n",
    "# sigma_x = 2\n",
    "# sigma_y = 0.1\n",
    "# sfh_young = np.exp(- (xx - x0)**2 / (2 * sigma_x**2)) *\\\n",
    "#                np.exp(- (yy - y0)**2 / (2 * sigma_y**2))\n",
    "# sfh_young /= np.nansum(sfh_young)\n",
    "# sfh_mw_young = sfh_young * 1e8\n",
    "\n",
    "# x0 = 60\n",
    "# y0 = 4\n",
    "# sigma_x = 2\n",
    "# sigma_y = 0.5\n",
    "# sfh_old = np.exp(- (xx - x0)**2 / (2 * sigma_x**2)) *\\\n",
    "#              np.exp(- (yy - y0)**2 / (2 * sigma_y**2))\n",
    "# sfh_old /= np.nansum(sfh_old)\n",
    "# sfh_mw_old = sfh_old * 1e10\n",
    "\n",
    "# # Add the young & old components\n",
    "# sfh_mw_original = sfh_mw_old + sfh_mw_young\n",
    "\n",
    "\n",
    "# Instead of a Gaussian SFH, try with a \"delta function\" SFH (i.e., 1 old & 1 young template)\n",
    "sfh_mw_original = np.zeros((N_metallicities, N_ages))\n",
    "# sfh_mw_original[2, 4] = 0.5e7\n",
    "# sfh_mw_original[1, 4] = 1.5e7\n",
    "# sfh_mw_original[2, 10] = 1e8\n",
    "# sfh_mw_original[1, -3] = 1e10\n",
    "\n",
    "# # Load a realistic SFH\n",
    "sfh_mw_original = load_sfh(42, plotit=True)\n",
    "\n",
    "# Sum in metallicity to get the SFH\n",
    "sfh_mw_1D_original = np.nansum(sfh_mw_original, axis=0)\n"
   ]
  },
  {
   "cell_type": "code",
   "execution_count": 25,
   "metadata": {
    "scrolled": false
   },
   "outputs": [
    {
     "data": {
      "application/vnd.jupyter.widget-view+json": {
       "model_id": "5649fc21c10e4f68b6f8df55d54523eb",
       "version_major": 2,
       "version_minor": 0
      },
      "text/plain": [
       "Canvas(toolbar=Toolbar(toolitems=[('Home', 'Reset original view', 'home', 'home'), ('Back', 'Back to previous …"
      ]
     },
     "metadata": {},
     "output_type": "display_data"
    },
    {
     "data": {
      "text/plain": [
       "<matplotlib.legend.Legend at 0x7f7c6aa32610>"
      ]
     },
     "execution_count": 25,
     "metadata": {},
     "output_type": "execute_result"
    }
   ],
   "source": [
    "# Test that it works \n",
    "log_age_mw_input, log_age_mw_input_idx = calculate_mw_age(sfh_mw_original, age_thresh=1e9, ages=ages)\n",
    "\n",
    "fig, ax = plt.subplots(nrows=1, ncols=1, figsize=(10, 5))\n",
    "ax.step(range(N_ages), sfh_mw_1D_original, color=\"black\", where=\"mid\")\n",
    "ax.axvline(log_age_mw_input_idx, color=\"red\", label=\"Mass-weighted mean age (templates < 1 Gyr old)\")\n",
    "ax.set_ylim([1, None])\n",
    "ax.set_yscale(\"log\")\n",
    "ax.set_xlabel(\"Template age (number)\")\n",
    "ax.set_ylabel(\"Bin mass ($M_\\odot$)\")\n",
    "ax.autoscale(axis=\"x\", tight=True, enable=True)\n",
    "ax.legend()\n"
   ]
  },
  {
   "cell_type": "markdown",
   "metadata": {},
   "source": [
    "## MONTE CARLO TESTING\n",
    "---\n",
    "Each iteration, use the same spectrum, but with random noise added to it. "
   ]
  },
  {
   "cell_type": "code",
   "execution_count": 26,
   "metadata": {
    "scrolled": false
   },
   "outputs": [
    {
     "data": {
      "application/vnd.jupyter.widget-view+json": {
       "model_id": "b5c3ea7043124b4ca7bf7f89b5ec2893",
       "version_major": 2,
       "version_minor": 0
      },
      "text/plain": [
       "Canvas(toolbar=Toolbar(toolitems=[('Home', 'Reset original view', 'home', 'home'), ('Back', 'Back to previous …"
      ]
     },
     "metadata": {},
     "output_type": "display_data"
    },
    {
     "data": {
      "application/vnd.jupyter.widget-view+json": {
       "model_id": "dae9df2e0c784b22be1b45f8d4960774",
       "version_major": 2,
       "version_minor": 0
      },
      "text/plain": [
       "Canvas(toolbar=Toolbar(toolitems=[('Home', 'Reset original view', 'home', 'home'), ('Back', 'Back to previous …"
      ]
     },
     "metadata": {},
     "output_type": "display_data"
    },
    {
     "data": {
      "application/vnd.jupyter.widget-view+json": {
       "model_id": "7dbffd9484224b8a9116d354ebf12b7e",
       "version_major": 2,
       "version_minor": 0
      },
      "text/plain": [
       "Canvas(toolbar=Toolbar(toolitems=[('Home', 'Reset original view', 'home', 'home'), ('Back', 'Back to previous …"
      ]
     },
     "metadata": {},
     "output_type": "display_data"
    }
   ],
   "source": [
    "###########################################################################\n",
    "# Generate the spectrum\n",
    "###########################################################################\n",
    "spec_original, spec_original_err, lambda_vals_A = create_mock_spectrum(\n",
    "    sfh_mass_weighted=sfh_mw_original,\n",
    "    isochrones=isochrones, z=z, SNR=SNR, sigma_star_kms=sigma_star_kms,\n",
    "    # ngascomponents=2, sigma_gas_kms=[40, 200], v_gas_kms=[0, -100], eline_model=[\"HII\", \"AGN\"], L_Ha_erg_s=[1e40, 1e40], \n",
    "    # agn_continuum=True, L_NT_erg_s=5e42, alpha_nu=0.5,\n",
    "    plotit=True)  \n"
   ]
  },
  {
   "cell_type": "code",
   "execution_count": 27,
   "metadata": {},
   "outputs": [
    {
     "name": "stdout",
     "output_type": "stream",
     "text": [
      "----------------------------------------------------\n",
      "Iteration 0: Elapsed time in PPXF (single thread): 4.21 s\n",
      "----------------------------------------------------\n",
      "Iteration 1: Scaling noise by 1.3942...\n",
      "Iteration 1: Running ppxf on 20 threads...\n",
      "Iteration 1: Elapsed time in PPXF (multithreaded): 69.90 s\n",
      "Iteration 1: optimal regul = 7000.00; Δm = 8.92689e+10; Δregul = 500.00 (Δregul_min = 1.00); Δχ (goal) - Δχ = 1.032\n",
      "----------------------------------------------------\n",
      "Iteration 2: Re-running ppxf on 20 threads (iteration 2)...\n",
      "Iteration 2: Elapsed time in PPXF (multithreaded): 77.21 s\n",
      "Iteration 2: optimal regul = 6800.00; Δm = 2.69275e+08; Δregul = 100.00 (Δregul_min = 1.00); Δχ (goal) - Δχ = 0.207\n",
      "----------------------------------------------------\n",
      "STOPPING: Convergence criterion reached; Δχ (goal) - Δχ = 0.20739951930788436; using 6800.00 to produce the best fit\n",
      "Total time in run_ppxf: 152.66 seconds\n"
     ]
    }
   ],
   "source": [
    "###########################################################################\n",
    "# Run ppxf WITH regularisation\n",
    "###########################################################################\n",
    "t = time()\n",
    "pp_regul = run_ppxf(spec=spec_original, spec_err=spec_original_err, lambda_vals_A=lambda_vals_A,\n",
    "              z=z, ngascomponents=1,\n",
    "              regularisation_method=\"auto\",\n",
    "              isochrones=\"Padova\",\n",
    "              fit_gas=False, tie_balmer=True,\n",
    "              delta_regul_min=1, regul_max=5e4, delta_delta_chi2_min=1,\n",
    "              plotit=False, savefigs=False, interactive_mode=False)\n",
    "print(f\"Total time in run_ppxf: {time() - t:.2f} seconds\")\n"
   ]
  },
  {
   "cell_type": "code",
   "execution_count": 28,
   "metadata": {
    "scrolled": true
   },
   "outputs": [
    {
     "name": "stdout",
     "output_type": "stream",
     "text": [
      "Running ppxf on 20 threads...\n"
     ]
    },
    {
     "data": {
      "application/vnd.jupyter.widget-view+json": {
       "model_id": "828bd0b359b349a8a19007a886631d7f",
       "version_major": 2,
       "version_minor": 0
      },
      "text/plain": [
       "HBox(children=(IntProgress(value=0), HTML(value='')))"
      ]
     },
     "metadata": {},
     "output_type": "display_data"
    },
    {
     "name": "stdout",
     "output_type": "stream",
     "text": [
      "\n",
      "Elapsed time in ppxf: 185.13 s\n"
     ]
    }
   ],
   "source": [
    "###########################################################################\n",
    "# Run ppxf WITHOUT regularisation, using a MC approach\n",
    "###########################################################################\n",
    "# Helper function for multiprocessing\n",
    "def ppxf_helper(seed):\n",
    "    # Add \"extra\" noise to the spectrum\n",
    "    rng = RandomState(seed)\n",
    "    noise = rng.normal(scale=spec_original_err)\n",
    "    spec = spec_original + noise\n",
    "\n",
    "    # This is to mitigate the \"edge effects\" of the convolution with the LSF\n",
    "    spec[0] = -9999\n",
    "    spec[-1] = -9999\n",
    "\n",
    "    # Run ppxf\n",
    "    pp = run_ppxf(spec=spec, spec_err=spec_original_err, lambda_vals_A=lambda_vals_A,\n",
    "                  z=z, ngascomponents=1,\n",
    "                  regularisation_method=\"none\", \n",
    "                  isochrones=\"Padova\",\n",
    "                  fit_gas=False, tie_balmer=True,\n",
    "                  plotit=False, savefigs=False, interactive_mode=False)\n",
    "    return pp\n",
    "     \n",
    "# Input arguments\n",
    "niters = 100\n",
    "nthreads = 20\n",
    "args_list = list(np.random.randint(low=0, high=100 * niters, size=niters))\n",
    "\n",
    "# Run in parallel\n",
    "print(f\"Running ppxf on {nthreads} threads...\")\n",
    "t = time()\n",
    "with multiprocessing.Pool(nthreads) as pool:\n",
    "    pp_list = list(tqdm(pool.imap(ppxf_helper, args_list), total=niters))\n",
    "print(f\"Elapsed time in ppxf: {time() - t:.2f} s\")\n"
   ]
  },
  {
   "cell_type": "code",
   "execution_count": 29,
   "metadata": {},
   "outputs": [
    {
     "name": "stdout",
     "output_type": "stream",
     "text": [
      "MC method:    mean mass-weighted age (log yr) = 8.13 ± 0.17\n",
      "Regul method: mean mass-weighted age (log yr) = 8.65\n",
      "Input value:  mean mass-weighted age (log yr) = 8.41)\n"
     ]
    }
   ],
   "source": [
    "###########################################################################\n",
    "# Compute the mass-weighted age \n",
    "###########################################################################\n",
    "log_age_mw_regul, log_age_mw_regul_idx = calculate_mw_age(pp_regul.weights_mass_weighted, age_thresh=1e9, ages=ages)\n",
    "\n",
    "log_age_mw_list = []\n",
    "for pp in pp_list:\n",
    "    log_age_mw, _ = calculate_mw_age(pp.weights_mass_weighted, age_thresh=1e9, ages=ages)\n",
    "    log_age_mw_list.append(log_age_mw)\n",
    "\n",
    "log_age_mw_MC = np.nanmean(log_age_mw_list)\n",
    "log_age_mw_MC_err = np.nanstd(log_age_mw_list)\n",
    "\n",
    "# For plotting purposes, figure out the approx. index of these ages in the age array\n",
    "log_age_mw_MC_idx = (log_age_mw_MC - np.log10(ages[0])) / (np.log10(ages[1]) - np.log10(ages[0]))\n",
    "log_age_mw_MC_err_idx = log_age_mw_MC_err / (np.log10(ages[1]) - np.log10(ages[0]))\n",
    "\n",
    "print(f\"MC method:    mean mass-weighted age (log yr) = {np.nanmean(log_age_mw_list):.2f} ± {np.nanstd(log_age_mw_list):.2f}\")\n",
    "print(f\"Regul method: mean mass-weighted age (log yr) = {log_age_mw_regul:.2f}\")\n",
    "print(f\"Input value:  mean mass-weighted age (log yr) = {log_age_mw_input:.2f})\")"
   ]
  },
  {
   "cell_type": "code",
   "execution_count": 22,
   "metadata": {},
   "outputs": [],
   "source": [
    "plt.close(\"all\")"
   ]
  },
  {
   "cell_type": "code",
   "execution_count": 23,
   "metadata": {
    "scrolled": false
   },
   "outputs": [
    {
     "data": {
      "application/vnd.jupyter.widget-view+json": {
       "model_id": "c7e241d17c5d4b2a94778e3b73e33774",
       "version_major": 2,
       "version_minor": 0
      },
      "text/plain": [
       "Canvas(toolbar=Toolbar(toolitems=[('Home', 'Reset original view', 'home', 'home'), ('Back', 'Back to previous …"
      ]
     },
     "metadata": {},
     "output_type": "display_data"
    },
    {
     "data": {
      "application/vnd.jupyter.widget-view+json": {
       "model_id": "ea87ff1a84834527a6f4e70c7fe93d56",
       "version_major": 2,
       "version_minor": 0
      },
      "text/plain": [
       "Canvas(toolbar=Toolbar(toolitems=[('Home', 'Reset original view', 'home', 'home'), ('Back', 'Back to previous …"
      ]
     },
     "metadata": {},
     "output_type": "display_data"
    },
    {
     "data": {
      "application/vnd.jupyter.widget-view+json": {
       "model_id": "0c5c5cf1b3a243d09035f95731d1e642",
       "version_major": 2,
       "version_minor": 0
      },
      "text/plain": [
       "Canvas(toolbar=Toolbar(toolitems=[('Home', 'Reset original view', 'home', 'home'), ('Back', 'Back to previous …"
      ]
     },
     "metadata": {},
     "output_type": "display_data"
    },
    {
     "data": {
      "application/vnd.jupyter.widget-view+json": {
       "model_id": "e82a1d09676947dbbf331c25bf76b7db",
       "version_major": 2,
       "version_minor": 0
      },
      "text/plain": [
       "Canvas(toolbar=Toolbar(toolitems=[('Home', 'Reset original view', 'home', 'home'), ('Back', 'Back to previous …"
      ]
     },
     "metadata": {},
     "output_type": "display_data"
    }
   ],
   "source": [
    "###########################################################################\n",
    "# COMPARE THE INPUT AND OUTPUT\n",
    "###########################################################################\n",
    "sfh_fit_mw_list = []\n",
    "sfh_fit_lw_list = []\n",
    "sfh_fit_mw_1D_list = []\n",
    "sfh_fit_lw_1D_list = []\n",
    "\n",
    "for pp in pp_list:\n",
    "    sfh_fit_mw_list.append(pp.weights_mass_weighted)\n",
    "    sfh_fit_lw_list.append(pp.weights_light_weighted)\n",
    "    sfh_fit_mw_1D_list.append(np.nansum(pp.weights_mass_weighted, axis=0))\n",
    "    sfh_fit_lw_1D_list.append(np.nansum(pp.weights_light_weighted, axis=0))\n",
    "    \n",
    "# Compute the mean SFH \n",
    "sfh_fit_mw_mean = np.nansum(np.array(sfh_fit_mw_list), axis=0) / len(sfh_fit_mw_list)\n",
    "sfh_fit_lw_mean = np.nansum(np.array(sfh_fit_lw_list), axis=0) / len(sfh_fit_lw_list)\n",
    "sfh_fit_mw_1D_mean = np.nansum(sfh_fit_mw_mean, axis=0)\n",
    "sfh_fit_lw_1D_mean = np.nansum(sfh_fit_lw_mean, axis=0)\n",
    "\n",
    "sfh_fit_mw_1D_regul = np.nansum(pp_regul.weights_mass_weighted, axis=0)\n",
    "sfh_fit_lw_1D_regul = np.nansum(pp_regul.weights_light_weighted, axis=0)\n",
    "\n",
    "# Plot the mass-weighted weights, summed over the metallicity dimension\n",
    "for log_scale in [True, False]:\n",
    "    # Create new figure \n",
    "    fig = plt.figure(figsize=(13, 4))\n",
    "    ax = fig.add_axes([0.1, 0.2, 0.7, 0.7])\n",
    "    ax.set_title(\"Mass-weighted template weights\")\n",
    "    \n",
    "    # Plot the SFHs from each ppxf run, plus the \"truth\" SFH\n",
    "    ax.fill_between(range(N_ages), sfh_mw_1D_original, step=\"mid\", alpha=1.0, color=\"cornflowerblue\", label=\"Input SFH\")\n",
    "    for jj in range(niters):\n",
    "        ax.step(range(N_ages), sfh_fit_mw_1D_list[jj], color=\"pink\", alpha=0.2, where=\"mid\", linewidth=0.25, label=\"ppxf fits (MC simluations)\" if jj == 0 else None)\n",
    "    ax.step(range(N_ages), sfh_fit_mw_1D_mean, color=\"red\", where=\"mid\", label=\"Mean ppxf fit (MC simulations)\")\n",
    "    ax.step(range(N_ages), sfh_fit_mw_1D_regul, color=\"lightgreen\", where=\"mid\", label=\"ppxf fit (regularised)\")\n",
    "    \n",
    "    # Plot horizontal error bars indicating the mean mass-weighted age from (a) the MC simulations and (b) the regularised fit \n",
    "    y = 10**(0.9 * np.log10(ax.get_ylim()[1])) if log_scale else 0.9 * ax.get_ylim()[1]\n",
    "    ax.errorbar(x=log_age_mw_regul_idx, y=y, xerr=0, yerr=0, \n",
    "                marker=\"D\", mfc=\"lightgreen\",mec=\"lightgreen\",  ecolor=\"lightgreen\",  \n",
    "                label=\"MW age ($< 1$ Gyr) (regularised fit)\")\n",
    "    ax.errorbar(x=log_age_mw_MC_idx, y=y, xerr=log_age_mw_MC_err_idx, yerr=0, \n",
    "                marker=\"D\", mfc=\"red\", mec=\"red\", ecolor=\"red\",\n",
    "                label=\"MW age ($< 1$ Gyr) (MC simulations)\")\n",
    "    ax.errorbar(x=log_age_mw_input_idx, y=y, xerr=0, yerr=0, \n",
    "                marker=\"D\", mfc=\"cornflowerblue\", mec=\"cornflowerblue\", ecolor=\"cornflowerblue\", \n",
    "                label=\"MW age ($< 1$ Gyr) (input)\")\n",
    "    \n",
    "    # Decorations \n",
    "    ax.set_xticks(range(N_ages))\n",
    "    ax.set_xlabel(\"Age (Myr)\")\n",
    "    ax.set_xticklabels([\"{:}\".format(age / 1e6) for age in ages], rotation=\"vertical\", fontsize=\"x-small\")\n",
    "    ax.autoscale(axis=\"x\", enable=True, tight=True)\n",
    "    ax.set_ylim([1, None])\n",
    "    ax.set_ylabel(r\"Template weight ($\\rm M_\\odot$)\")\n",
    "    ax.legend(fontsize=\"x-small\", loc=\"center left\", bbox_to_anchor=(1.01, 0.5))\n",
    "    ax.set_xlabel(\"Age (Myr)\")\n",
    "    ax.set_yscale(\"log\") if log_scale else None\n",
    "\n",
    "# Plot the light-weighted weights, summed over the metallicity dimension\n",
    "for log_scale in [True, False]:\n",
    "    # Create new figure \n",
    "    fig = plt.figure(figsize=(13, 4))\n",
    "    ax = fig.add_axes([0.1, 0.2, 0.7, 0.7])\n",
    "    ax.set_title(\"Light-weighted template weights\")\n",
    "    \n",
    "    # Plot the SFHs from each ppxf run, plus the \"truth\" SFH\n",
    "    for jj in range(niters):\n",
    "        ax.step(range(N_ages), sfh_fit_lw_1D_list[jj], color=\"pink\", alpha=0.2, where=\"mid\", linewidth=0.25, label=\"ppxf fits (MC simluations)\" if jj == 0 else None)\n",
    "    ax.step(range(N_ages), sfh_fit_lw_1D_mean, color=\"red\", where=\"mid\", label=\"Mean ppxf fit (MC simulations)\")\n",
    "    ax.step(range(N_ages), sfh_fit_lw_1D_regul, color=\"lightgreen\", where=\"mid\", label=\"ppxf fit (regularised)\")\n",
    "    \n",
    "    # Plot horizontal error bars indicating the mean mass-weighted age from (a) the MC simulations and (b) the regularised fit \n",
    "    y = 10**(0.9 * np.log10(ax.get_ylim()[1])) if log_scale else 0.9 * ax.get_ylim()[1]\n",
    "    ax.errorbar(x=log_age_mw_regul_idx, y=y, xerr=0, yerr=0, \n",
    "                marker=\"D\", mfc=\"lightgreen\",mec=\"lightgreen\",  ecolor=\"lightgreen\",  \n",
    "                label=\"MW age ($< 1$ Gyr) (regularised fit)\")\n",
    "    ax.errorbar(x=log_age_mw_MC_idx, y=y, xerr=log_age_mw_MC_err_idx, yerr=0, \n",
    "                marker=\"D\", mfc=\"red\", mec=\"red\", ecolor=\"red\",\n",
    "                label=\"MW age ($< 1$ Gyr) (MC simulations)\")\n",
    "    ax.errorbar(x=log_age_mw_input_idx, y=y, xerr=0, yerr=0, \n",
    "                marker=\"D\", mfc=\"cornflowerblue\", mec=\"cornflowerblue\", ecolor=\"cornflowerblue\", \n",
    "                label=\"MW age ($< 1$ Gyr) (input)\")\n",
    "    \n",
    "    # Decorations \n",
    "    ax.set_xticks(range(N_ages))\n",
    "    ax.set_xlabel(\"Age (Myr)\")\n",
    "    ax.set_xticklabels([\"{:}\".format(age / 1e6) for age in ages], rotation=\"vertical\", fontsize=\"x-small\")\n",
    "    ax.autoscale(axis=\"x\", enable=True, tight=True)\n",
    "    # ax.set_ylim([1, None])\n",
    "    ax.set_ylabel(r\"Template weight\")\n",
    "    ax.legend(fontsize=\"x-small\", loc=\"center left\", bbox_to_anchor=(1.01, 0.5))\n",
    "    ax.set_xlabel(\"Age (Myr)\")\n",
    "    ax.set_yscale(\"log\") if log_scale else None"
   ]
  },
  {
   "cell_type": "code",
   "execution_count": null,
   "metadata": {},
   "outputs": [],
   "source": []
  }
 ],
 "metadata": {
  "kernelspec": {
   "display_name": "Python 3",
   "language": "python",
   "name": "python3"
  },
  "language_info": {
   "codemirror_mode": {
    "name": "ipython",
    "version": 3
   },
   "file_extension": ".py",
   "mimetype": "text/x-python",
   "name": "python",
   "nbconvert_exporter": "python",
   "pygments_lexer": "ipython3",
   "version": "3.7.4"
  }
 },
 "nbformat": 4,
 "nbformat_minor": 2
}
