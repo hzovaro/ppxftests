{
 "cells": [
  {
   "cell_type": "markdown",
   "metadata": {},
   "source": [
    "# Optimising the regularisation parameter\n",
    "--- \n",
    "Running ppxf with regularisation is very time-intensive and makes it difficult to run simulations across a large parameter space. \n",
    "\n",
    "Up until now we've been using $\\Delta\\chi^2 < 1$ as our condition for terminating regularisation, and an upper limit of `regul` = 50,000. \n",
    "* **Can we find a better maximum value for `regul`?** How does the solution change between 50,000 and e.g. 100,000? If there is no change, does this hold for SFHs of all shapes?\n",
    "* **Can we find a less strict convergence criterion?** How does a solution with $\\Delta\\chi^2 < 1$ differ from a solution with $\\Delta\\chi^2 \\sim 10$, for instance? Is there a meaningful difference?  "
   ]
  },
  {
   "cell_type": "code",
   "execution_count": 3,
   "metadata": {},
   "outputs": [],
   "source": [
    "%matplotlib widget"
   ]
  },
  {
   "cell_type": "code",
   "execution_count": 4,
   "metadata": {},
   "outputs": [
    {
     "data": {
      "text/html": [
       "<style>.container { width:75% !important; }</style>"
      ],
      "text/plain": [
       "<IPython.core.display.HTML object>"
      ]
     },
     "metadata": {},
     "output_type": "display_data"
    },
    {
     "data": {
      "text/html": [
       "<style>.output_result { max-width:75% !important; }</style>"
      ],
      "text/plain": [
       "<IPython.core.display.HTML object>"
      ]
     },
     "metadata": {},
     "output_type": "display_data"
    }
   ],
   "source": [
    "from IPython.core.display import display, HTML\n",
    "display(HTML(\"<style>.container { width:75% !important; }</style>\"))\n",
    "display(HTML(\"<style>.output_result { max-width:75% !important; }</style>\"))"
   ]
  },
  {
   "cell_type": "code",
   "execution_count": 60,
   "metadata": {},
   "outputs": [],
   "source": [
    "import os\n",
    "import numpy as np\n",
    "from numpy.random import RandomState\n",
    "from time import time \n",
    "from tqdm.notebook import tqdm\n",
    "from itertools import product\n",
    "import multiprocessing\n",
    "import pandas as pd\n",
    "import extinction\n",
    "\n",
    "from astropy.io import fits\n",
    "\n",
    "from ppxftests.run_ppxf import run_ppxf\n",
    "from ppxftests.ssputils import load_ssp_templates, get_bin_edges_and_widths\n",
    "from ppxftests.mockspec import create_mock_spectrum\n",
    "from ppxftests.sfhutils import load_sfh, compute_mw_age, compute_lw_age, compute_cumulative_mass, compute_cumulative_light\n",
    "from ppxftests.sfhutils import compute_mean_age, compute_mean_mass, compute_mean_sfr, compute_mean_1D_sfh\n",
    "from ppxftests.ppxf_plot import plot_sfh_mass_weighted, plot_sfh_light_weighted, ppxf_plot\n",
    "from ppxftests.plot_ppxf_summary import plot_ppxf_summary\n",
    "\n",
    "import matplotlib\n",
    "import matplotlib.pyplot as plt\n",
    "from matplotlib.backends.backend_pdf import PdfPages\n",
    "plt.ion()\n",
    "plt.close(\"all\")\n",
    "\n",
    "from IPython.core.debugger import Tracer\n",
    "\n",
    "fig_path = \"/priv/meggs3/u5708159/ppxftests/figs/\"\n",
    "data_path = \"/priv/meggs3/u5708159/ppxftests/\"\n"
   ]
  },
  {
   "cell_type": "code",
   "execution_count": 15,
   "metadata": {},
   "outputs": [],
   "source": [
    "##################################################################\n",
    "# Settings\n",
    "##################################################################\n",
    "isochrones = \"Padova\"\n",
    "SNR = 100\n",
    "z = 0\n",
    "niters = 20\n",
    "nthreads = 20\n"
   ]
  },
  {
   "cell_type": "code",
   "execution_count": 84,
   "metadata": {
    "scrolled": true
   },
   "outputs": [
    {
     "data": {
      "application/vnd.jupyter.widget-view+json": {
       "model_id": "73cc671e0b6246d1b2e6912ac69c2dac",
       "version_major": 2,
       "version_minor": 0
      },
      "text/plain": [
       "Canvas(toolbar=Toolbar(toolitems=[('Home', 'Reset original view', 'home', 'home'), ('Back', 'Back to previous …"
      ]
     },
     "metadata": {},
     "output_type": "display_data"
    },
    {
     "data": {
      "application/vnd.jupyter.widget-view+json": {
       "model_id": "b2c8991447b141b4ab99bb6419d51a9e",
       "version_major": 2,
       "version_minor": 0
      },
      "text/plain": [
       "Canvas(toolbar=Toolbar(toolitems=[('Home', 'Reset original view', 'home', 'home'), ('Back', 'Back to previous …"
      ]
     },
     "metadata": {},
     "output_type": "display_data"
    },
    {
     "data": {
      "application/vnd.jupyter.widget-view+json": {
       "model_id": "d33c20ea088742cfaaf3156f76334489",
       "version_major": 2,
       "version_minor": 0
      },
      "text/plain": [
       "Canvas(toolbar=Toolbar(toolitems=[('Home', 'Reset original view', 'home', 'home'), ('Back', 'Back to previous …"
      ]
     },
     "metadata": {},
     "output_type": "display_data"
    }
   ],
   "source": [
    "##################################################################\n",
    "# Define the input SFH\n",
    "##################################################################\n",
    "plt.close(\"all\")\n",
    "gal = 15\n",
    "sfh_mw_input, sfh_lw_input, sfr_avg_input, sigma_star_kms = load_sfh(gal, plotit=True)\n"
   ]
  },
  {
   "cell_type": "code",
   "execution_count": 85,
   "metadata": {
    "scrolled": true
   },
   "outputs": [
    {
     "data": {
      "application/vnd.jupyter.widget-view+json": {
       "model_id": "93f75e37fe9542978fca88f7cd143796",
       "version_major": 2,
       "version_minor": 0
      },
      "text/plain": [
       "Canvas(toolbar=Toolbar(toolitems=[('Home', 'Reset original view', 'home', 'home'), ('Back', 'Back to previous …"
      ]
     },
     "metadata": {},
     "output_type": "display_data"
    },
    {
     "data": {
      "application/vnd.jupyter.widget-view+json": {
       "model_id": "fc0a320a3e534506b9c036bd70a87469",
       "version_major": 2,
       "version_minor": 0
      },
      "text/plain": [
       "Canvas(toolbar=Toolbar(toolitems=[('Home', 'Reset original view', 'home', 'home'), ('Back', 'Back to previous …"
      ]
     },
     "metadata": {},
     "output_type": "display_data"
    }
   ],
   "source": [
    "###############################################################################\n",
    "# Create spectrum\n",
    "###############################################################################\n",
    "spec, spec_err, lambda_vals_A = create_mock_spectrum(\n",
    "    sfh_mass_weighted=sfh_mw_input,\n",
    "    agn_continuum=False,\n",
    "    isochrones=isochrones, z=z, SNR=SNR, sigma_star_kms=sigma_star_kms,\n",
    "    plotit=True)"
   ]
  },
  {
   "cell_type": "code",
   "execution_count": 86,
   "metadata": {},
   "outputs": [],
   "source": [
    "###########################################################################\n",
    "# Helper function for running ppxf in parallel\n",
    "###########################################################################\n",
    "def ppxf_helper(regul):\n",
    "    # Run ppxf\n",
    "    pp = run_ppxf(spec=spec, spec_err=spec_err, lambda_vals_A=lambda_vals_A,\n",
    "                  z=z, ngascomponents=1, mdegree=-1, reddening=None,\n",
    "                  regularisation_method=\"fixed\", regul_fixed=regul, \n",
    "                  fit_agn_cont=False,\n",
    "                  isochrones=\"Padova\",\n",
    "                  fit_gas=False, tie_balmer=True,\n",
    "                  plotit=False, savefigs=False, interactive_mode=False)\n",
    "    return pp\n"
   ]
  },
  {
   "cell_type": "markdown",
   "metadata": {},
   "source": [
    "## How does the solution change as a function of `regul`? What happens at very high values of `regul`?\n",
    "---"
   ]
  },
  {
   "cell_type": "code",
   "execution_count": 19,
   "metadata": {},
   "outputs": [
    {
     "name": "stdout",
     "output_type": "stream",
     "text": [
      "Running ppxf on 20 threads...\n"
     ]
    },
    {
     "data": {
      "application/vnd.jupyter.widget-view+json": {
       "model_id": "6a729ac62bf448e8b211d44e6217afa3",
       "version_major": 2,
       "version_minor": 0
      },
      "text/plain": [
       "HBox(children=(IntProgress(value=0, max=9), HTML(value='')))"
      ]
     },
     "metadata": {},
     "output_type": "display_data"
    },
    {
     "name": "stdout",
     "output_type": "stream",
     "text": [
      "----------------------------------------------------\n",
      "Iteration 0: Elapsed time in PPXF (single thread): 6.80 s\n",
      "Iteration 1: Scaling noise by 1.3822...\n",
      "----------------------------------------------------\n",
      "Iteration 0: Elapsed time in PPXF (single thread): 6.95 s\n",
      "Iteration 1: Scaling noise by 1.3822...\n",
      "----------------------------------------------------\n",
      "Iteration 0: Elapsed time in PPXF (single thread): 7.60 s\n",
      "Iteration 1: Scaling noise by 1.3822...\n",
      "----------------------------------------------------\n",
      "Iteration 0: Elapsed time in PPXF (single thread): 7.83 s\n",
      "Iteration 1: Scaling noise by 1.3822...\n",
      "----------------------------------------------------\n",
      "Iteration 0: Elapsed time in PPXF (single thread): 7.69 s\n",
      "Iteration 1: Scaling noise by 1.3822...\n",
      "----------------------------------------------------\n",
      "Iteration 0: Elapsed time in PPXF (single thread): 8.20 s\n",
      "Iteration 1: Scaling noise by 1.3822...\n",
      "----------------------------------------------------\n",
      "----------------------------------------------------\n",
      "Iteration 0: Elapsed time in PPXF (single thread): 8.33 s\n",
      "Iteration 0: Elapsed time in PPXF (single thread): 8.28 s\n",
      "Iteration 1: Scaling noise by 1.3822...\n",
      "Iteration 1: Scaling noise by 1.3822...\n",
      "----------------------------------------------------\n",
      "Iteration 0: Elapsed time in PPXF (single thread): 8.09 s\n",
      "Iteration 1: Scaling noise by 1.3822...\n",
      "Best Fit:       Vel     sigma\n",
      " comp. 0:        14       117\n",
      "chi2/DOF: 1\n",
      "method = capfit ; Jac calls: 3 ; Func calls: 11 ; Status: 4\n",
      "Nonzero Templates:  21  /  222\n",
      "----------------------------------------------------\n",
      "Desired Delta Chi^2: 95.08\n",
      "Current Delta Chi^2: 1.305e-11\n",
      "Delta-Delta Chi^2: 95.08\n",
      "----------------------------------------------------\n",
      "Elapsed time in PPXF: 14.06 s\n",
      "Best Fit:       Vel     sigma\n",
      " comp. 0:        14       117\n",
      "chi2/DOF: 1\n",
      "method = capfit ; Jac calls: 3 ; Func calls: 11 ; Status: 2\n",
      "Nonzero Templates:  24  /  222\n",
      "----------------------------------------------------\n",
      "Desired Delta Chi^2: 95.08\n",
      "Current Delta Chi^2: 0.02252\n",
      "Delta-Delta Chi^2: 95.06\n",
      "----------------------------------------------------\n",
      "Elapsed time in PPXF: 14.93 s\n",
      "Best Fit:       Vel     sigma\n",
      " comp. 0:        14       117\n",
      "chi2/DOF: 1.001\n",
      "method = capfit ; Jac calls: 3 ; Func calls: 11 ; Status: 2\n",
      "Nonzero Templates:  88  /  222\n",
      "----------------------------------------------------\n",
      "Desired Delta Chi^2: 95.08\n",
      "Current Delta Chi^2: 4.211\n",
      "Delta-Delta Chi^2: 90.87\n",
      "----------------------------------------------------\n",
      "Elapsed time in PPXF: 16.72 s\n",
      "Best Fit:       Vel     sigma\n",
      " comp. 0:        12       119\n",
      "chi2/DOF: 1.873\n",
      "method = capfit ; Jac calls: 3 ; Func calls: 11 ; Status: 2\n",
      "Best Fit:       Vel     sigma\n",
      " comp. 0:        14       117\n",
      "Nonzero Templates:  220  /  222\n",
      "chi2/DOF: 1.006\n",
      "method = capfit ; Jac calls: 3 ; Func calls: 11 ; Status: 2\n",
      "Nonzero Templates:  178  /  222\n",
      "----------------------------------------------------\n",
      "Desired Delta Chi^2: 95.08\n",
      "----------------------------------------------------\n",
      "Desired Delta Chi^2: 95.08\n",
      "Current Delta Chi^2: 28.42\n",
      "Current Delta Chi^2: 3944\n",
      "Delta-Delta Chi^2: 66.66\n",
      "----------------------------------------------------\n",
      "Delta-Delta Chi^2: 3849\n",
      "Elapsed time in PPXF: 18.84 s\n",
      "----------------------------------------------------\n",
      "Elapsed time in PPXF: 19.09 s\n",
      "Best Fit:       Vel     sigma\n",
      "Best Fit:       Vel     sigma\n",
      " comp. 0:        13       117\n",
      " comp. 0:        13       118\n",
      "chi2/DOF: 1.025\n",
      "chi2/DOF: 1.096\n",
      "method = capfit ; Jac calls: 3 ; Func calls: 11 ; Status: 4\n",
      "method = capfit ; Jac calls: 3 ; Func calls: 11 ; Status: 2\n",
      "Nonzero Templates:  220  /  222\n",
      "Nonzero Templates:  220  /  222\n",
      "----------------------------------------------------\n",
      "----------------------------------------------------\n",
      "Desired Delta Chi^2: 95.08\n",
      "Desired Delta Chi^2: 95.08\n",
      "Current Delta Chi^2: 432\n",
      "Delta-Delta Chi^2: 336.9\n",
      "Current Delta Chi^2: 114.6\n",
      "----------------------------------------------------\n",
      "Elapsed time in PPXF: 19.42 s\n",
      "Delta-Delta Chi^2: 19.55\n",
      "----------------------------------------------------\n",
      "Elapsed time in PPXF: 19.77 s\n",
      "Best Fit:       Vel     sigma\n",
      " comp. 0:        14       117\n",
      "chi2/DOF: 1.004\n",
      "Nonzero Templates:  154  /  222\n",
      "method = capfit ; Jac calls: 3 ; Func calls: 11 ; Status: 2\n",
      "----------------------------------------------------\n",
      "Desired Delta Chi^2: 95.08\n",
      "Current Delta Chi^2: 17.74\n",
      "Delta-Delta Chi^2: 77.33\n",
      "----------------------------------------------------\n",
      "Elapsed time in PPXF: 19.98 s\n",
      "Best Fit:       Vel     sigma\n",
      " comp. 0:        13       117\n",
      "chi2/DOF: 1.015\n",
      "method = capfit ; Jac calls: 3 ; Func calls: 11 ; Status: 2\n",
      "Nonzero Templates:  203  /  222\n",
      "----------------------------------------------------\n",
      "Desired Delta Chi^2: 95.08\n",
      "Current Delta Chi^2: 69.4\n",
      "Delta-Delta Chi^2: 25.67\n",
      "----------------------------------------------------\n",
      "Elapsed time in PPXF: 19.97 s\n",
      "\n",
      "Total time in ppxf: 23.74 s\n"
     ]
    }
   ],
   "source": [
    "# Input arguments\n",
    "regul_vals = np.logspace(-1, 7, 9)\n",
    "regul_vals[0] = 0\n",
    "\n",
    "# Run in parallel\n",
    "print(f\"Running ppxf on {nthreads} threads...\")\n",
    "t = time()\n",
    "nthreads = len(regul_vals)\n",
    "niters = len(regul_vals)\n",
    "with multiprocessing.Pool(nthreads) as pool:\n",
    "    pp_list = list(tqdm(pool.imap(ppxf_helper, regul_vals), total=niters))\n",
    "print(f\"Total time in ppxf: {time() - t:.2f} s\")\n"
   ]
  },
  {
   "cell_type": "code",
   "execution_count": 21,
   "metadata": {
    "scrolled": true
   },
   "outputs": [
    {
     "data": {
      "application/vnd.jupyter.widget-view+json": {
       "model_id": "73d4a46db8cc4940b537a5f77e3091f1",
       "version_major": 2,
       "version_minor": 0
      },
      "text/plain": [
       "Canvas(toolbar=Toolbar(toolitems=[('Home', 'Reset original view', 'home', 'home'), ('Back', 'Back to previous …"
      ]
     },
     "metadata": {},
     "output_type": "display_data"
    },
    {
     "name": "stderr",
     "output_type": "stream",
     "text": [
      "/pkg/linux/anaconda-20191122/anaconda3/lib/python3.7/site-packages/ipykernel_launcher.py:9: RuntimeWarning: divide by zero encountered in log10\n",
      "  if __name__ == '__main__':\n"
     ]
    }
   ],
   "source": [
    "########################################################################\n",
    "# Plot the SFH from each run\n",
    "########################################################################\n",
    "fig = plt.figure(figsize=(10, 3.5))\n",
    "ax = fig.add_axes([0.1, 0.25, 0.8, 0.65])\n",
    "\n",
    "cmap_regul = matplotlib.cm.get_cmap(\"Spectral\", len(regul_vals))\n",
    "for ii, pp in enumerate(pp_list):\n",
    "    ax.step(pp.ages, np.log10(pp.sfh_mw_1D), where=\"mid\", color=cmap_regul(ii), label=f\"regul = {pp.regul}\")   \n",
    "\n",
    "# Decorations\n",
    "ax.set_ylabel(r\"Stellar mass ($\\rm M_\\odot$)\")\n",
    "ax.set_xlabel(\"Age (yr)\")\n",
    "ax.set_xscale(\"log\")\n",
    "ax.grid()\n",
    "ax.legend(fontsize=\"small\")\n",
    "ax.autoscale(axis=\"x\", tight=True, enable=True)\n",
    "\n",
    "########################################################################\n",
    "# Plot the sum of the absolute difference in the SFH (in M_sun) expressed as a % of the total stellar mass \n",
    "########################################################################\n",
    "delta_M = np.array([np.nansum(np.abs(pp_list[ii].sfh_mw_1D - pp_list[ii - 1].sfh_mw_1D)) for ii in range(1, len(pp_list))])\n",
    "M_tot_vals = np.array([np.nansum(pp.sfh_mw_1D) for pp in pp_list])\n",
    "\n",
    "fig, ax = plt.subplots(figsize=(10, 5))\n",
    "ax.plot(regul_vals[1:], delta_M / M_tot_vals[1:], marker=\"D\")\n",
    "ax.grid()\n",
    "ax.set_xlabel(\"regul\")\n",
    "ax.set_ylabel(r\"$|\\Delta M|/M_{\\rm tot} \\,\\rm (M_\\odot)$\")\n",
    "ax.set_xscale(\"log\")\n",
    "ax.set_yscale(\"log\")\n",
    "\n",
    "########################################################################\n",
    "# How much does the mass/light-weighted age change as a function of regul?\n",
    "########################################################################\n",
    "age_thresh = 1e9\n",
    "log_mw_age_list = [compute_mw_age(pp.sfh_mw_1D, isochrones, age_thresh_upper=age_thresh)[0] for pp in pp_list]\n",
    "log_lw_age_list = [compute_lw_age(pp.sfh_lw_1D, isochrones, age_thresh_upper=age_thresh)[0] for pp in pp_list]\n",
    "\n",
    "fig, ax = plt.subplots(figsize=(10, 5))\n",
    "ax.plot(regul_vals, log_mw_age_list, marker=\"D\", label=f\"Mass-weighted age (< {age_thresh / 1e6:.1f} Myr)\")\n",
    "ax.plot(regul_vals, log_lw_age_list, marker=\"D\", label=f\"Light-weighted age (< {age_thresh / 1e6:.1f} Myr)\")\n",
    "ax.grid()\n",
    "ax.set_xlabel(\"regul\")\n",
    "ax.set_ylabel(\"Mean age\")\n",
    "ax.set_xscale(\"log\")\n",
    "ax.legend()\n",
    "\n"
   ]
  },
  {
   "cell_type": "markdown",
   "metadata": {},
   "source": [
    "### Remarks \n",
    "---\n",
    "The MW/LW mean age and the SFH actually continue to change beyond our previously assumed cutoff-value of 5e4. **We therefore need to increase the maximum regularsiation parameter.** "
   ]
  },
  {
   "cell_type": "markdown",
   "metadata": {},
   "source": [
    "## How sensitive is the optimal `regul` parameter to random noise at a S/N of 100? \n",
    "---\n",
    "Remarks: the $|\\Delta \\chi^2 - \\Delta \\chi^2_{\\rm ideal}|$ do change with each random realisation, but not by a significant amount."
   ]
  },
  {
   "cell_type": "code",
   "execution_count": 30,
   "metadata": {
    "collapsed": true
   },
   "outputs": [
    {
     "data": {
      "application/vnd.jupyter.widget-view+json": {
       "model_id": "6f79daa9fb7341dfbcade3f268281b8b",
       "version_major": 2,
       "version_minor": 0
      },
      "text/plain": [
       "Canvas(toolbar=Toolbar(toolitems=[('Home', 'Reset original view', 'home', 'home'), ('Back', 'Back to previous …"
      ]
     },
     "metadata": {},
     "output_type": "display_data"
    },
    {
     "data": {
      "text/plain": [
       "<matplotlib.legend.Legend at 0x7fa85c74bb50>"
      ]
     },
     "execution_count": 30,
     "metadata": {},
     "output_type": "execute_result"
    }
   ],
   "source": [
    "########################################################################\n",
    "# How much does the optimal value of regul change between runs?\n",
    "########################################################################\n",
    "pp_list_list = []\n",
    "for ii in tqdm(range(10)):\n",
    "    # Re-make the spectrum w/ randomly realised noise\n",
    "    spec_rand, spec_rand_err, lambda_vals_A = create_mock_spectrum(\n",
    "        sfh_mass_weighted=sfh_mw_input,\n",
    "        isochrones=isochrones, z=z, SNR=SNR, sigma_star_kms=sigma_star_kms,\n",
    "        plotit=False)    \n",
    "    \n",
    "    # run ppxf on a grid of fixed regul values\n",
    "    regul_vals = np.linspace(1e4, 10e4, 20)\n",
    "    nthreads = len(regul_vals)\n",
    "    niters = len(regul_vals)\n",
    "    with multiprocessing.Pool(nthreads) as pool:\n",
    "        pp_list = list(tqdm(pool.imap(ppxf_helper, regul_vals), total=niters))\n",
    "\n",
    "    pp_list_list.append(pp_list)\n",
    "\n",
    "\n",
    "########################################################################\n",
    "# Plot delta-delta-chi2 vs. regul for each random realisation\n",
    "########################################################################\n",
    "fig, ax = plt.subplots(figsize=(10, 5))\n",
    "for ii, pp_list in enumerate(pp_list_list):\n",
    "    delta_delta_chi2_vals = np.array([pp.delta_delta_chi2 for pp in pp_list])\n",
    "    regul_vals = np.array([pp.regul for pp in pp_list])\n",
    "    ax.plot(regul_vals, delta_delta_chi2_vals, label=f\"Iteration {ii}\")\n",
    "    \n",
    "# Decorations\n",
    "ax.set_xlabel(\"regul\")\n",
    "ax.set_ylabel(r\"$|\\Delta \\chi^2 - \\Delta \\chi^2_{\\rm ideal}|$\")\n",
    "ax.legend()"
   ]
  },
  {
   "cell_type": "markdown",
   "metadata": {},
   "source": [
    "## How small does $\\Delta \\chi^2 - \\Delta \\chi^2_{\\rm ideal}$ need to be to achieve a satisfactory level of convergence?\n",
    "---\n",
    "2 things to test here:\n",
    "* how much does the optimal value of `regul` change between identical runs? Run ppxf w/ automatic regularisation & compare the SFHs and other derived parameters between runs. This will tell us whether or not we need to re-run ppxf multiple times (like an MC simulation) to get reliable results. \n",
    "* how much do the results change for $\\Delta \\chi^2 - \\Delta \\chi^2_{\\rm ideal} < 1$ vs. $\\Delta \\chi^2 - \\Delta \\chi^2_{\\rm ideal} = 10$? If it's not a big difference then we can revise `delta_regul_min`."
   ]
  },
  {
   "cell_type": "markdown",
   "metadata": {},
   "source": [
    "#### First: does the optimal value for regul change significantly on identical runs?\n",
    "---\n",
    "Remarks: not in a significant way. We don't need to worry about this."
   ]
  },
  {
   "cell_type": "code",
   "execution_count": 25,
   "metadata": {},
   "outputs": [
    {
     "name": "stdout",
     "output_type": "stream",
     "text": [
      "----------------------------------------------------\n",
      "Iteration 0: Elapsed time in PPXF (single thread): 3.12 s\n",
      "----------------------------------------------------\n",
      "Iteration 1: Scaling noise by 1.3866...\n",
      "Iteration 1: Regularisation parameter range: 15000.0-25000.0 (n = 21)\n",
      "Iteration 1: Running ppxf on 20 threads...\n"
     ]
    },
    {
     "name": "stderr",
     "output_type": "stream",
     "text": [
      "Process ForkPoolWorker-362:\n",
      "Process ForkPoolWorker-360:\n",
      "Process ForkPoolWorker-363:\n",
      "Process ForkPoolWorker-361:\n",
      "Exception ignored in: <function _releaseLock at 0x7fa8cc2f6d40>\n",
      "Traceback (most recent call last):\n",
      "  File \"/pkg/linux/anaconda-20191122/anaconda3/lib/python3.7/logging/__init__.py\", line 221, in _releaseLock\n",
      "    def _releaseLock():\n",
      "KeyboardInterrupt\n",
      "Traceback (most recent call last):\n",
      "Traceback (most recent call last):\n",
      "Traceback (most recent call last):\n",
      "Traceback (most recent call last):\n",
      "  File \"/pkg/linux/anaconda-20191122/anaconda3/lib/python3.7/multiprocessing/process.py\", line 297, in _bootstrap\n",
      "    self.run()\n",
      "  File \"/pkg/linux/anaconda-20191122/anaconda3/lib/python3.7/multiprocessing/process.py\", line 297, in _bootstrap\n",
      "    self.run()\n",
      "  File \"/pkg/linux/anaconda-20191122/anaconda3/lib/python3.7/multiprocessing/process.py\", line 297, in _bootstrap\n",
      "    self.run()\n",
      "  File \"/pkg/linux/anaconda-20191122/anaconda3/lib/python3.7/multiprocessing/process.py\", line 297, in _bootstrap\n",
      "    self.run()\n",
      "  File \"/pkg/linux/anaconda-20191122/anaconda3/lib/python3.7/multiprocessing/process.py\", line 99, in run\n",
      "    self._target(*self._args, **self._kwargs)\n",
      "  File \"/pkg/linux/anaconda-20191122/anaconda3/lib/python3.7/multiprocessing/process.py\", line 99, in run\n",
      "    self._target(*self._args, **self._kwargs)\n",
      "  File \"/pkg/linux/anaconda-20191122/anaconda3/lib/python3.7/multiprocessing/process.py\", line 99, in run\n",
      "    self._target(*self._args, **self._kwargs)\n",
      "  File \"/pkg/linux/anaconda-20191122/anaconda3/lib/python3.7/multiprocessing/process.py\", line 99, in run\n",
      "    self._target(*self._args, **self._kwargs)\n",
      "  File \"/pkg/linux/anaconda-20191122/anaconda3/lib/python3.7/multiprocessing/pool.py\", line 110, in worker\n",
      "    task = get()\n",
      "  File \"/pkg/linux/anaconda-20191122/anaconda3/lib/python3.7/multiprocessing/pool.py\", line 110, in worker\n",
      "    task = get()\n",
      "  File \"/pkg/linux/anaconda-20191122/anaconda3/lib/python3.7/multiprocessing/pool.py\", line 110, in worker\n",
      "    task = get()\n",
      "  File \"/pkg/linux/anaconda-20191122/anaconda3/lib/python3.7/multiprocessing/pool.py\", line 110, in worker\n",
      "    task = get()\n",
      "  File \"/pkg/linux/anaconda-20191122/anaconda3/lib/python3.7/multiprocessing/queues.py\", line 351, in get\n",
      "    with self._rlock:\n",
      "  File \"/pkg/linux/anaconda-20191122/anaconda3/lib/python3.7/multiprocessing/queues.py\", line 352, in get\n",
      "    res = self._reader.recv_bytes()\n",
      "  File \"/pkg/linux/anaconda-20191122/anaconda3/lib/python3.7/multiprocessing/queues.py\", line 351, in get\n",
      "    with self._rlock:\n",
      "  File \"/pkg/linux/anaconda-20191122/anaconda3/lib/python3.7/multiprocessing/queues.py\", line 351, in get\n",
      "    with self._rlock:\n",
      "  File \"/pkg/linux/anaconda-20191122/anaconda3/lib/python3.7/multiprocessing/synchronize.py\", line 95, in __enter__\n",
      "    return self._semlock.__enter__()\n",
      "  File \"/pkg/linux/anaconda-20191122/anaconda3/lib/python3.7/multiprocessing/connection.py\", line 216, in recv_bytes\n",
      "    buf = self._recv_bytes(maxlength)\n",
      "  File \"/pkg/linux/anaconda-20191122/anaconda3/lib/python3.7/multiprocessing/synchronize.py\", line 95, in __enter__\n",
      "    return self._semlock.__enter__()\n",
      "KeyboardInterrupt\n",
      "  File \"/pkg/linux/anaconda-20191122/anaconda3/lib/python3.7/multiprocessing/synchronize.py\", line 95, in __enter__\n",
      "    return self._semlock.__enter__()\n",
      "KeyboardInterrupt\n",
      "KeyboardInterrupt\n",
      "  File \"/pkg/linux/anaconda-20191122/anaconda3/lib/python3.7/multiprocessing/connection.py\", line 407, in _recv_bytes\n",
      "    buf = self._recv(4)\n",
      "  File \"/pkg/linux/anaconda-20191122/anaconda3/lib/python3.7/multiprocessing/connection.py\", line 379, in _recv\n",
      "    chunk = read(handle, remaining)\n",
      "KeyboardInterrupt\n",
      "Process ForkPoolWorker-375:\n",
      "Process ForkPoolWorker-374:\n",
      "Process ForkPoolWorker-372:\n",
      "Process ForkPoolWorker-377:\n",
      "Process ForkPoolWorker-370:\n",
      "Process ForkPoolWorker-365:\n",
      "Process ForkPoolWorker-366:\n",
      "Traceback (most recent call last):\n",
      "Process ForkPoolWorker-378:\n",
      "Process ForkPoolWorker-379:\n",
      "Traceback (most recent call last):\n",
      "Traceback (most recent call last):\n",
      "Process ForkPoolWorker-367:\n",
      "  File \"/pkg/linux/anaconda-20191122/anaconda3/lib/python3.7/multiprocessing/process.py\", line 297, in _bootstrap\n",
      "    self.run()\n",
      "Traceback (most recent call last):\n",
      "  File \"/pkg/linux/anaconda-20191122/anaconda3/lib/python3.7/multiprocessing/process.py\", line 297, in _bootstrap\n",
      "    self.run()\n",
      "  File \"/pkg/linux/anaconda-20191122/anaconda3/lib/python3.7/multiprocessing/process.py\", line 297, in _bootstrap\n",
      "    self.run()\n",
      "Process ForkPoolWorker-373:\n",
      "Traceback (most recent call last):\n",
      "Traceback (most recent call last):\n",
      "Traceback (most recent call last):\n",
      "Traceback (most recent call last):\n",
      "Traceback (most recent call last):\n",
      "  File \"/pkg/linux/anaconda-20191122/anaconda3/lib/python3.7/multiprocessing/process.py\", line 99, in run\n",
      "    self._target(*self._args, **self._kwargs)\n",
      "Process ForkPoolWorker-369:\n",
      "Traceback (most recent call last):\n",
      "  File \"/pkg/linux/anaconda-20191122/anaconda3/lib/python3.7/multiprocessing/process.py\", line 99, in run\n",
      "    self._target(*self._args, **self._kwargs)\n",
      "  File \"/pkg/linux/anaconda-20191122/anaconda3/lib/python3.7/multiprocessing/process.py\", line 99, in run\n",
      "    self._target(*self._args, **self._kwargs)\n",
      "  File \"/pkg/linux/anaconda-20191122/anaconda3/lib/python3.7/multiprocessing/process.py\", line 297, in _bootstrap\n",
      "    self.run()\n",
      "  File \"/pkg/linux/anaconda-20191122/anaconda3/lib/python3.7/multiprocessing/process.py\", line 297, in _bootstrap\n",
      "    self.run()\n",
      "  File \"/pkg/linux/anaconda-20191122/anaconda3/lib/python3.7/multiprocessing/process.py\", line 297, in _bootstrap\n",
      "    self.run()\n",
      "  File \"/pkg/linux/anaconda-20191122/anaconda3/lib/python3.7/multiprocessing/pool.py\", line 110, in worker\n",
      "    task = get()\n",
      "Traceback (most recent call last):\n",
      "  File \"/pkg/linux/anaconda-20191122/anaconda3/lib/python3.7/multiprocessing/process.py\", line 297, in _bootstrap\n",
      "    self.run()\n",
      "  File \"/pkg/linux/anaconda-20191122/anaconda3/lib/python3.7/multiprocessing/pool.py\", line 110, in worker\n",
      "    task = get()\n",
      "Process ForkPoolWorker-364:\n",
      "  File \"/pkg/linux/anaconda-20191122/anaconda3/lib/python3.7/multiprocessing/process.py\", line 297, in _bootstrap\n",
      "    self.run()\n",
      "  File \"/pkg/linux/anaconda-20191122/anaconda3/lib/python3.7/multiprocessing/pool.py\", line 110, in worker\n",
      "    task = get()\n",
      "  File \"/pkg/linux/anaconda-20191122/anaconda3/lib/python3.7/multiprocessing/process.py\", line 297, in _bootstrap\n",
      "    self.run()\n",
      "  File \"/pkg/linux/anaconda-20191122/anaconda3/lib/python3.7/multiprocessing/process.py\", line 297, in _bootstrap\n",
      "    self.run()\n",
      "Traceback (most recent call last):\n",
      "  File \"/pkg/linux/anaconda-20191122/anaconda3/lib/python3.7/multiprocessing/process.py\", line 99, in run\n",
      "    self._target(*self._args, **self._kwargs)\n",
      "  File \"/pkg/linux/anaconda-20191122/anaconda3/lib/python3.7/multiprocessing/process.py\", line 99, in run\n",
      "    self._target(*self._args, **self._kwargs)\n",
      "  File \"/pkg/linux/anaconda-20191122/anaconda3/lib/python3.7/multiprocessing/process.py\", line 297, in _bootstrap\n",
      "    self.run()\n",
      "  File \"/pkg/linux/anaconda-20191122/anaconda3/lib/python3.7/multiprocessing/process.py\", line 99, in run\n",
      "    self._target(*self._args, **self._kwargs)\n",
      "  File \"/pkg/linux/anaconda-20191122/anaconda3/lib/python3.7/multiprocessing/queues.py\", line 351, in get\n",
      "    with self._rlock:\n",
      "  File \"/pkg/linux/anaconda-20191122/anaconda3/lib/python3.7/multiprocessing/process.py\", line 99, in run\n",
      "    self._target(*self._args, **self._kwargs)\n",
      "  File \"/pkg/linux/anaconda-20191122/anaconda3/lib/python3.7/multiprocessing/process.py\", line 99, in run\n",
      "    self._target(*self._args, **self._kwargs)\n",
      "  File \"/pkg/linux/anaconda-20191122/anaconda3/lib/python3.7/multiprocessing/queues.py\", line 351, in get\n",
      "    with self._rlock:\n",
      "  File \"/pkg/linux/anaconda-20191122/anaconda3/lib/python3.7/multiprocessing/process.py\", line 99, in run\n",
      "    self._target(*self._args, **self._kwargs)\n",
      "  File \"/pkg/linux/anaconda-20191122/anaconda3/lib/python3.7/multiprocessing/process.py\", line 99, in run\n",
      "    self._target(*self._args, **self._kwargs)\n",
      "  File \"/pkg/linux/anaconda-20191122/anaconda3/lib/python3.7/multiprocessing/process.py\", line 297, in _bootstrap\n",
      "    self.run()\n",
      "  File \"/pkg/linux/anaconda-20191122/anaconda3/lib/python3.7/multiprocessing/queues.py\", line 351, in get\n",
      "    with self._rlock:\n"
     ]
    },
    {
     "name": "stderr",
     "output_type": "stream",
     "text": [
      "  File \"/pkg/linux/anaconda-20191122/anaconda3/lib/python3.7/multiprocessing/pool.py\", line 110, in worker\n",
      "    task = get()\n",
      "  File \"/pkg/linux/anaconda-20191122/anaconda3/lib/python3.7/multiprocessing/pool.py\", line 110, in worker\n",
      "    task = get()\n",
      "Process ForkPoolWorker-368:\n",
      "  File \"/pkg/linux/anaconda-20191122/anaconda3/lib/python3.7/multiprocessing/pool.py\", line 110, in worker\n",
      "    task = get()\n",
      "  File \"/pkg/linux/anaconda-20191122/anaconda3/lib/python3.7/multiprocessing/process.py\", line 99, in run\n",
      "    self._target(*self._args, **self._kwargs)\n",
      "Process ForkPoolWorker-371:\n",
      "  File \"/pkg/linux/anaconda-20191122/anaconda3/lib/python3.7/multiprocessing/synchronize.py\", line 95, in __enter__\n",
      "    return self._semlock.__enter__()\n",
      "  File \"/pkg/linux/anaconda-20191122/anaconda3/lib/python3.7/multiprocessing/pool.py\", line 110, in worker\n",
      "    task = get()\n",
      "  File \"/pkg/linux/anaconda-20191122/anaconda3/lib/python3.7/multiprocessing/pool.py\", line 110, in worker\n",
      "    task = get()\n",
      "Process ForkPoolWorker-376:\n",
      "  File \"/pkg/linux/anaconda-20191122/anaconda3/lib/python3.7/multiprocessing/synchronize.py\", line 95, in __enter__\n",
      "    return self._semlock.__enter__()\n",
      "Traceback (most recent call last):\n",
      "  File \"/pkg/linux/anaconda-20191122/anaconda3/lib/python3.7/multiprocessing/pool.py\", line 110, in worker\n",
      "    task = get()\n",
      "  File \"/pkg/linux/anaconda-20191122/anaconda3/lib/python3.7/multiprocessing/process.py\", line 99, in run\n",
      "    self._target(*self._args, **self._kwargs)\n",
      "  File \"/pkg/linux/anaconda-20191122/anaconda3/lib/python3.7/multiprocessing/pool.py\", line 110, in worker\n",
      "    task = get()\n",
      "  File \"/pkg/linux/anaconda-20191122/anaconda3/lib/python3.7/multiprocessing/queues.py\", line 351, in get\n",
      "    with self._rlock:\n",
      "  File \"/pkg/linux/anaconda-20191122/anaconda3/lib/python3.7/multiprocessing/synchronize.py\", line 95, in __enter__\n",
      "    return self._semlock.__enter__()\n",
      "  File \"/pkg/linux/anaconda-20191122/anaconda3/lib/python3.7/multiprocessing/queues.py\", line 351, in get\n",
      "    with self._rlock:\n",
      "  File \"/pkg/linux/anaconda-20191122/anaconda3/lib/python3.7/multiprocessing/queues.py\", line 351, in get\n",
      "    with self._rlock:\n",
      "  File \"/pkg/linux/anaconda-20191122/anaconda3/lib/python3.7/multiprocessing/pool.py\", line 110, in worker\n",
      "    task = get()\n",
      "KeyboardInterrupt\n",
      "  File \"/pkg/linux/anaconda-20191122/anaconda3/lib/python3.7/multiprocessing/queues.py\", line 351, in get\n",
      "    with self._rlock:\n",
      "  File \"/pkg/linux/anaconda-20191122/anaconda3/lib/python3.7/multiprocessing/queues.py\", line 351, in get\n",
      "    with self._rlock:\n",
      "  File \"/pkg/linux/anaconda-20191122/anaconda3/lib/python3.7/multiprocessing/queues.py\", line 351, in get\n",
      "    with self._rlock:\n",
      "KeyboardInterrupt\n",
      "  File \"/pkg/linux/anaconda-20191122/anaconda3/lib/python3.7/multiprocessing/queues.py\", line 351, in get\n",
      "    with self._rlock:\n",
      "  File \"/pkg/linux/anaconda-20191122/anaconda3/lib/python3.7/multiprocessing/pool.py\", line 110, in worker\n",
      "    task = get()\n",
      "  File \"/pkg/linux/anaconda-20191122/anaconda3/lib/python3.7/multiprocessing/synchronize.py\", line 95, in __enter__\n",
      "    return self._semlock.__enter__()\n",
      "KeyboardInterrupt\n",
      "  File \"/pkg/linux/anaconda-20191122/anaconda3/lib/python3.7/multiprocessing/process.py\", line 297, in _bootstrap\n",
      "    self.run()\n",
      "  File \"/pkg/linux/anaconda-20191122/anaconda3/lib/python3.7/multiprocessing/synchronize.py\", line 95, in __enter__\n",
      "    return self._semlock.__enter__()\n",
      "  File \"/pkg/linux/anaconda-20191122/anaconda3/lib/python3.7/multiprocessing/queues.py\", line 351, in get\n",
      "    with self._rlock:\n",
      "  File \"/pkg/linux/anaconda-20191122/anaconda3/lib/python3.7/multiprocessing/synchronize.py\", line 95, in __enter__\n",
      "    return self._semlock.__enter__()\n",
      "  File \"/pkg/linux/anaconda-20191122/anaconda3/lib/python3.7/multiprocessing/synchronize.py\", line 95, in __enter__\n",
      "    return self._semlock.__enter__()\n",
      "KeyboardInterrupt\n",
      "  File \"/pkg/linux/anaconda-20191122/anaconda3/lib/python3.7/multiprocessing/synchronize.py\", line 95, in __enter__\n",
      "    return self._semlock.__enter__()\n",
      "  File \"/pkg/linux/anaconda-20191122/anaconda3/lib/python3.7/multiprocessing/synchronize.py\", line 95, in __enter__\n",
      "    return self._semlock.__enter__()\n",
      "  File \"/pkg/linux/anaconda-20191122/anaconda3/lib/python3.7/multiprocessing/queues.py\", line 351, in get\n",
      "    with self._rlock:\n",
      "  File \"/pkg/linux/anaconda-20191122/anaconda3/lib/python3.7/multiprocessing/synchronize.py\", line 95, in __enter__\n",
      "    return self._semlock.__enter__()\n",
      "  File \"/pkg/linux/anaconda-20191122/anaconda3/lib/python3.7/multiprocessing/process.py\", line 99, in run\n",
      "    self._target(*self._args, **self._kwargs)\n",
      "KeyboardInterrupt\n",
      "KeyboardInterrupt\n",
      "KeyboardInterrupt\n",
      "  File \"/pkg/linux/anaconda-20191122/anaconda3/lib/python3.7/multiprocessing/synchronize.py\", line 95, in __enter__\n",
      "    return self._semlock.__enter__()\n",
      "KeyboardInterrupt\n",
      "  File \"/pkg/linux/anaconda-20191122/anaconda3/lib/python3.7/multiprocessing/synchronize.py\", line 95, in __enter__\n",
      "    return self._semlock.__enter__()\n",
      "KeyboardInterrupt\n",
      "  File \"/pkg/linux/anaconda-20191122/anaconda3/lib/python3.7/multiprocessing/pool.py\", line 110, in worker\n",
      "    task = get()\n",
      "Traceback (most recent call last):\n",
      "Traceback (most recent call last):\n",
      "KeyboardInterrupt\n",
      "Traceback (most recent call last):\n",
      "KeyboardInterrupt\n",
      "KeyboardInterrupt\n",
      "  File \"/pkg/linux/anaconda-20191122/anaconda3/lib/python3.7/multiprocessing/queues.py\", line 352, in get\n",
      "    res = self._reader.recv_bytes()\n",
      "  File \"/pkg/linux/anaconda-20191122/anaconda3/lib/python3.7/multiprocessing/connection.py\", line 216, in recv_bytes\n",
      "    buf = self._recv_bytes(maxlength)\n",
      "  File \"/pkg/linux/anaconda-20191122/anaconda3/lib/python3.7/multiprocessing/process.py\", line 297, in _bootstrap\n",
      "    self.run()\n",
      "  File \"/pkg/linux/anaconda-20191122/anaconda3/lib/python3.7/multiprocessing/process.py\", line 297, in _bootstrap\n",
      "    self.run()\n",
      "  File \"/pkg/linux/anaconda-20191122/anaconda3/lib/python3.7/multiprocessing/process.py\", line 297, in _bootstrap\n",
      "    self.run()\n",
      "  File \"/pkg/linux/anaconda-20191122/anaconda3/lib/python3.7/multiprocessing/connection.py\", line 407, in _recv_bytes\n",
      "    buf = self._recv(4)\n",
      "  File \"/pkg/linux/anaconda-20191122/anaconda3/lib/python3.7/multiprocessing/connection.py\", line 379, in _recv\n",
      "    chunk = read(handle, remaining)\n",
      "  File \"/pkg/linux/anaconda-20191122/anaconda3/lib/python3.7/multiprocessing/process.py\", line 99, in run\n",
      "    self._target(*self._args, **self._kwargs)\n",
      "  File \"/pkg/linux/anaconda-20191122/anaconda3/lib/python3.7/multiprocessing/process.py\", line 99, in run\n",
      "    self._target(*self._args, **self._kwargs)\n",
      "KeyboardInterrupt\n",
      "  File \"/pkg/linux/anaconda-20191122/anaconda3/lib/python3.7/multiprocessing/pool.py\", line 110, in worker\n",
      "    task = get()\n",
      "  File \"/pkg/linux/anaconda-20191122/anaconda3/lib/python3.7/multiprocessing/pool.py\", line 110, in worker\n",
      "    task = get()\n",
      "  File \"/pkg/linux/anaconda-20191122/anaconda3/lib/python3.7/multiprocessing/process.py\", line 99, in run\n",
      "    self._target(*self._args, **self._kwargs)\n",
      "  File \"/pkg/linux/anaconda-20191122/anaconda3/lib/python3.7/multiprocessing/queues.py\", line 351, in get\n",
      "    with self._rlock:\n",
      "  File \"/pkg/linux/anaconda-20191122/anaconda3/lib/python3.7/multiprocessing/pool.py\", line 110, in worker\n",
      "    task = get()\n",
      "  File \"/pkg/linux/anaconda-20191122/anaconda3/lib/python3.7/multiprocessing/synchronize.py\", line 95, in __enter__\n",
      "    return self._semlock.__enter__()\n",
      "  File \"/pkg/linux/anaconda-20191122/anaconda3/lib/python3.7/multiprocessing/queues.py\", line 351, in get\n",
      "    with self._rlock:\n",
      "KeyboardInterrupt\n",
      "  File \"/pkg/linux/anaconda-20191122/anaconda3/lib/python3.7/multiprocessing/synchronize.py\", line 95, in __enter__\n",
      "    return self._semlock.__enter__()\n",
      "  File \"/pkg/linux/anaconda-20191122/anaconda3/lib/python3.7/multiprocessing/queues.py\", line 351, in get\n",
      "    with self._rlock:\n",
      "KeyboardInterrupt\n",
      "  File \"/pkg/linux/anaconda-20191122/anaconda3/lib/python3.7/multiprocessing/synchronize.py\", line 95, in __enter__\n",
      "    return self._semlock.__enter__()\n",
      "KeyboardInterrupt\n"
     ]
    },
    {
     "ename": "KeyboardInterrupt",
     "evalue": "",
     "output_type": "error",
     "traceback": [
      "\u001b[0;31m---------------------------------------------------------------------------\u001b[0m",
      "\u001b[0;31mKeyboardInterrupt\u001b[0m                         Traceback (most recent call last)",
      "\u001b[0;32m<ipython-input-25-f2000957001c>\u001b[0m in \u001b[0;36m<module>\u001b[0;34m\u001b[0m\n\u001b[1;32m      8\u001b[0m                       \u001b[0mregularisation_method\u001b[0m\u001b[0;34m=\u001b[0m\u001b[0;34m\"auto\"\u001b[0m\u001b[0;34m,\u001b[0m \u001b[0mregul_start\u001b[0m\u001b[0;34m=\u001b[0m\u001b[0;36m1.5e4\u001b[0m\u001b[0;34m,\u001b[0m \u001b[0mregul_max\u001b[0m\u001b[0;34m=\u001b[0m\u001b[0;36m10e4\u001b[0m\u001b[0;34m,\u001b[0m\u001b[0;34m\u001b[0m\u001b[0;34m\u001b[0m\u001b[0m\n\u001b[1;32m      9\u001b[0m                       \u001b[0mfit_agn_cont\u001b[0m\u001b[0;34m=\u001b[0m\u001b[0;32mFalse\u001b[0m\u001b[0;34m,\u001b[0m \u001b[0mfit_gas\u001b[0m\u001b[0;34m=\u001b[0m\u001b[0;32mFalse\u001b[0m\u001b[0;34m,\u001b[0m \u001b[0mtie_balmer\u001b[0m\u001b[0;34m=\u001b[0m\u001b[0;32mFalse\u001b[0m\u001b[0;34m,\u001b[0m\u001b[0;34m\u001b[0m\u001b[0;34m\u001b[0m\u001b[0m\n\u001b[0;32m---> 10\u001b[0;31m                       isochrones=\"Padova\")\n\u001b[0m\u001b[1;32m     11\u001b[0m     \u001b[0mpp_opt_list\u001b[0m\u001b[0;34m.\u001b[0m\u001b[0mappend\u001b[0m\u001b[0;34m(\u001b[0m\u001b[0mpp_opt\u001b[0m\u001b[0;34m)\u001b[0m\u001b[0;34m\u001b[0m\u001b[0;34m\u001b[0m\u001b[0m\n",
      "\u001b[0;32m~/python/Modules/ppxftests/run_ppxf.py\u001b[0m in \u001b[0;36mrun_ppxf\u001b[0;34m(spec, spec_err, lambda_vals_A, z, ngascomponents, tie_balmer, isochrones, metals_to_use, fit_agn_cont, alpha_nu_vals, fit_gas, mdegree, adegree, reddening, FWHM_inst_A, bad_pixel_ranges_A, lambda_norm_A, regularisation_method, regul_fixed, regul_start, auto_adjust_regul, regul_nthreads, delta_regul_min, regul_max, delta_delta_chi2_min, interactive_mode, plotit, savefigs, fname_str)\u001b[0m\n\u001b[1;32m    783\u001b[0m             \u001b[0mpps\u001b[0m \u001b[0;34m=\u001b[0m \u001b[0mlist\u001b[0m\u001b[0;34m(\u001b[0m\u001b[0mpool\u001b[0m\u001b[0;34m.\u001b[0m\u001b[0mmap\u001b[0m\u001b[0;34m(\u001b[0m\u001b[0mppxf_helper\u001b[0m\u001b[0;34m,\u001b[0m \u001b[0margs_list\u001b[0m\u001b[0;34m)\u001b[0m\u001b[0;34m)\u001b[0m\u001b[0;34m\u001b[0m\u001b[0;34m\u001b[0m\u001b[0m\n\u001b[1;32m    784\u001b[0m             \u001b[0mpool\u001b[0m\u001b[0;34m.\u001b[0m\u001b[0mclose\u001b[0m\u001b[0;34m(\u001b[0m\u001b[0;34m)\u001b[0m\u001b[0;34m\u001b[0m\u001b[0;34m\u001b[0m\u001b[0m\n\u001b[0;32m--> 785\u001b[0;31m             \u001b[0mpool\u001b[0m\u001b[0;34m.\u001b[0m\u001b[0mjoin\u001b[0m\u001b[0;34m(\u001b[0m\u001b[0;34m)\u001b[0m\u001b[0;34m\u001b[0m\u001b[0;34m\u001b[0m\u001b[0m\n\u001b[0m\u001b[1;32m    786\u001b[0m             \u001b[0mprint\u001b[0m\u001b[0;34m(\u001b[0m\u001b[0;34mF\"Iteration {cnt}: Elapsed time in PPXF (multithreaded): {time() - t:.2f} s\"\u001b[0m\u001b[0;34m)\u001b[0m\u001b[0;34m\u001b[0m\u001b[0;34m\u001b[0m\u001b[0m\n\u001b[1;32m    787\u001b[0m \u001b[0;34m\u001b[0m\u001b[0m\n",
      "\u001b[0;32m/pkg/linux/anaconda-20191122/anaconda3/lib/python3.7/multiprocessing/pool.py\u001b[0m in \u001b[0;36mjoin\u001b[0;34m(self)\u001b[0m\n\u001b[1;32m    554\u001b[0m         \u001b[0;32melif\u001b[0m \u001b[0mself\u001b[0m\u001b[0;34m.\u001b[0m\u001b[0m_state\u001b[0m \u001b[0;32mnot\u001b[0m \u001b[0;32min\u001b[0m \u001b[0;34m(\u001b[0m\u001b[0mCLOSE\u001b[0m\u001b[0;34m,\u001b[0m \u001b[0mTERMINATE\u001b[0m\u001b[0;34m)\u001b[0m\u001b[0;34m:\u001b[0m\u001b[0;34m\u001b[0m\u001b[0;34m\u001b[0m\u001b[0m\n\u001b[1;32m    555\u001b[0m             \u001b[0;32mraise\u001b[0m \u001b[0mValueError\u001b[0m\u001b[0;34m(\u001b[0m\u001b[0;34m\"In unknown state\"\u001b[0m\u001b[0;34m)\u001b[0m\u001b[0;34m\u001b[0m\u001b[0;34m\u001b[0m\u001b[0m\n\u001b[0;32m--> 556\u001b[0;31m         \u001b[0mself\u001b[0m\u001b[0;34m.\u001b[0m\u001b[0m_worker_handler\u001b[0m\u001b[0;34m.\u001b[0m\u001b[0mjoin\u001b[0m\u001b[0;34m(\u001b[0m\u001b[0;34m)\u001b[0m\u001b[0;34m\u001b[0m\u001b[0;34m\u001b[0m\u001b[0m\n\u001b[0m\u001b[1;32m    557\u001b[0m         \u001b[0mself\u001b[0m\u001b[0;34m.\u001b[0m\u001b[0m_task_handler\u001b[0m\u001b[0;34m.\u001b[0m\u001b[0mjoin\u001b[0m\u001b[0;34m(\u001b[0m\u001b[0;34m)\u001b[0m\u001b[0;34m\u001b[0m\u001b[0;34m\u001b[0m\u001b[0m\n\u001b[1;32m    558\u001b[0m         \u001b[0mself\u001b[0m\u001b[0;34m.\u001b[0m\u001b[0m_result_handler\u001b[0m\u001b[0;34m.\u001b[0m\u001b[0mjoin\u001b[0m\u001b[0;34m(\u001b[0m\u001b[0;34m)\u001b[0m\u001b[0;34m\u001b[0m\u001b[0;34m\u001b[0m\u001b[0m\n",
      "\u001b[0;32m/pkg/linux/anaconda-20191122/anaconda3/lib/python3.7/threading.py\u001b[0m in \u001b[0;36mjoin\u001b[0;34m(self, timeout)\u001b[0m\n\u001b[1;32m   1042\u001b[0m \u001b[0;34m\u001b[0m\u001b[0m\n\u001b[1;32m   1043\u001b[0m         \u001b[0;32mif\u001b[0m \u001b[0mtimeout\u001b[0m \u001b[0;32mis\u001b[0m \u001b[0;32mNone\u001b[0m\u001b[0;34m:\u001b[0m\u001b[0;34m\u001b[0m\u001b[0;34m\u001b[0m\u001b[0m\n\u001b[0;32m-> 1044\u001b[0;31m             \u001b[0mself\u001b[0m\u001b[0;34m.\u001b[0m\u001b[0m_wait_for_tstate_lock\u001b[0m\u001b[0;34m(\u001b[0m\u001b[0;34m)\u001b[0m\u001b[0;34m\u001b[0m\u001b[0;34m\u001b[0m\u001b[0m\n\u001b[0m\u001b[1;32m   1045\u001b[0m         \u001b[0;32melse\u001b[0m\u001b[0;34m:\u001b[0m\u001b[0;34m\u001b[0m\u001b[0;34m\u001b[0m\u001b[0m\n\u001b[1;32m   1046\u001b[0m             \u001b[0;31m# the behavior of a negative timeout isn't documented, but\u001b[0m\u001b[0;34m\u001b[0m\u001b[0;34m\u001b[0m\u001b[0;34m\u001b[0m\u001b[0m\n",
      "\u001b[0;32m/pkg/linux/anaconda-20191122/anaconda3/lib/python3.7/threading.py\u001b[0m in \u001b[0;36m_wait_for_tstate_lock\u001b[0;34m(self, block, timeout)\u001b[0m\n\u001b[1;32m   1058\u001b[0m         \u001b[0;32mif\u001b[0m \u001b[0mlock\u001b[0m \u001b[0;32mis\u001b[0m \u001b[0;32mNone\u001b[0m\u001b[0;34m:\u001b[0m  \u001b[0;31m# already determined that the C code is done\u001b[0m\u001b[0;34m\u001b[0m\u001b[0;34m\u001b[0m\u001b[0m\n\u001b[1;32m   1059\u001b[0m             \u001b[0;32massert\u001b[0m \u001b[0mself\u001b[0m\u001b[0;34m.\u001b[0m\u001b[0m_is_stopped\u001b[0m\u001b[0;34m\u001b[0m\u001b[0;34m\u001b[0m\u001b[0m\n\u001b[0;32m-> 1060\u001b[0;31m         \u001b[0;32melif\u001b[0m \u001b[0mlock\u001b[0m\u001b[0;34m.\u001b[0m\u001b[0macquire\u001b[0m\u001b[0;34m(\u001b[0m\u001b[0mblock\u001b[0m\u001b[0;34m,\u001b[0m \u001b[0mtimeout\u001b[0m\u001b[0;34m)\u001b[0m\u001b[0;34m:\u001b[0m\u001b[0;34m\u001b[0m\u001b[0;34m\u001b[0m\u001b[0m\n\u001b[0m\u001b[1;32m   1061\u001b[0m             \u001b[0mlock\u001b[0m\u001b[0;34m.\u001b[0m\u001b[0mrelease\u001b[0m\u001b[0;34m(\u001b[0m\u001b[0;34m)\u001b[0m\u001b[0;34m\u001b[0m\u001b[0;34m\u001b[0m\u001b[0m\n\u001b[1;32m   1062\u001b[0m             \u001b[0mself\u001b[0m\u001b[0;34m.\u001b[0m\u001b[0m_stop\u001b[0m\u001b[0;34m(\u001b[0m\u001b[0;34m)\u001b[0m\u001b[0;34m\u001b[0m\u001b[0;34m\u001b[0m\u001b[0m\n",
      "\u001b[0;31mKeyboardInterrupt\u001b[0m: "
     ]
    }
   ],
   "source": [
    "########################################################################\n",
    "# How much does the optimal value of regul change between runs?\n",
    "########################################################################\n",
    "pp_opt_list = []\n",
    "for ii in range(10):\n",
    "    pp_opt = run_ppxf(spec=spec, spec_err=spec_err, lambda_vals_A=lambda_vals_A,\n",
    "                      z=z, ngascomponents=1, mdegree=-1, reddening=None,\n",
    "                      regularisation_method=\"auto\", regul_start=1.5e4, regul_max=10e4,\n",
    "                      fit_agn_cont=False, fit_gas=False, tie_balmer=False,\n",
    "                      isochrones=\"Padova\")\n",
    "    pp_opt_list.append(pp_opt)\n",
    "\n",
    "\n",
    "########################################################################\n",
    "# Print the regul value from each run\n",
    "########################################################################\n",
    "for ii, pp in enumerate(pp_opt_list):\n",
    "    print(f\"Iteration {ii}: Delta-delta-chi2 = {pp.delta_delta_chi2:.4f}, regul_opt = {pp.regul:.1f}\")\n",
    "\n",
    "########################################################################\n",
    "# How much does the SFH change?\n",
    "########################################################################\n",
    "fig = plt.figure(figsize=(10, 3.5))\n",
    "ax = fig.add_axes([0.1, 0.25, 0.8, 0.65])\n",
    "\n",
    "# Plot the SFH\n",
    "cmap_regul = matplotlib.cm.get_cmap(\"Spectral\", len(pp_opt_list))\n",
    "for ii, pp in enumerate(pp_opt_list):\n",
    "    ax.step(pp.ages, np.log10(pp.sfh_mw_1D), where=\"mid\", color=cmap_regul(ii), label=f\"regul = {pp.regul}\")   \n",
    "\n",
    "# Decorations\n",
    "ax.set_ylabel(r\"Log stellar mass ($\\rm \\log_{10}\\, M_\\odot$)\")\n",
    "ax.set_xlabel(\"Age (yr)\")\n",
    "ax.set_xscale(\"log\")\n",
    "ax.grid()\n",
    "ax.legend(fontsize=\"small\")\n",
    "ax.autoscale(axis=\"x\", tight=True, enable=True)\n",
    "\n",
    "########################################################################\n",
    "# How much does the LW/MW age change?\n",
    "########################################################################\n",
    "age_thresh = 1e9\n",
    "log_mw_age_list = [compute_mw_age(pp.sfh_mw_1D, isochrones, age_thresh_upper=age_thresh)[0] for pp in pp_opt_list]\n",
    "log_lw_age_list = [compute_lw_age(pp.sfh_lw_1D, isochrones, age_thresh_upper=age_thresh)[0] for pp in pp_opt_list]\n",
    "\n",
    "fig, ax = plt.subplots(figsize=(10, 5))\n",
    "ax.plot(range(len(pp_opt_list)), log_mw_age_list, marker=\"D\", label=f\"Mass-weighted age (< {age_thresh / 1e6:.1f} Myr)\")\n",
    "ax.plot(range(len(pp_opt_list)), log_lw_age_list, marker=\"D\", label=f\"Light-weighted age (< {age_thresh / 1e6:.1f} Myr)\")\n",
    "ax.grid()\n",
    "ax.set_xlabel(\"Iteration\")\n",
    "ax.set_ylabel(\"Mean age\")\n",
    "ax.set_xscale(\"log\")\n",
    "ax.legend()"
   ]
  },
  {
   "cell_type": "markdown",
   "metadata": {},
   "source": [
    "### How much do the SFH, mean age etc. change in a small window around the optimal regul value?\n",
    "---"
   ]
  },
  {
   "cell_type": "code",
   "execution_count": 87,
   "metadata": {},
   "outputs": [
    {
     "name": "stdout",
     "output_type": "stream",
     "text": [
      "----------------------------------------------------\n",
      "Iteration 0: Elapsed time in PPXF (single thread): 2.88 s\n",
      "----------------------------------------------------\n",
      "Iteration 1: Scaling noise by 1.3359...\n",
      "Iteration 1: Regularisation parameter range: 0.0-10000.0 (n = 21)\n",
      "Iteration 1: Running ppxf on 20 threads...\n",
      "Iteration 1: Elapsed time in PPXF (multithreaded): 32.12 s\n",
      "Iteration 1: optimal regul = 1500.00; Δm = 1.83479e+11; Δregul = 500.00 (Δregul_min = 5.00); Δχ (goal) - Δχ = 1.687\n",
      "----------------------------------------------------\n",
      "Iteration 2: Re-running ppxf on 20 threads (iteration 2)...\n",
      "Iteration 2: Regularisation parameter range: 500.0-2500.0 (n = 21)\n",
      "Iteration 2: Elapsed time in PPXF (multithreaded): 33.88 s\n",
      "Iteration 2: optimal regul = 1400.00; Δm = 2.78825e+09; Δregul = 100.00 (Δregul_min = 5.00); Δχ (goal) - Δχ = 0.775\n",
      "----------------------------------------------------\n",
      "STOPPING: Convergence criterion reached; Δχ (goal) - Δχ = 0.774674648204595; using 1400.00 to produce the best fit\n"
     ]
    }
   ],
   "source": [
    "################################################################################################\n",
    "# How much do the SFH, mean age etc. change in a small window around the optimal regul value?\n",
    "################################################################################################\n",
    "# Run ppxf on \"auto\" once to obtain a reasonable estimate for the optimal regul value\n",
    "pp_opt = run_ppxf(spec=spec, spec_err=spec_err, lambda_vals_A=lambda_vals_A,\n",
    "              z=z, ngascomponents=1, mdegree=-1, reddening=None,\n",
    "              regularisation_method=\"auto\",\n",
    "              fit_agn_cont=False,\n",
    "              isochrones=\"Padova\",\n",
    "              fit_gas=False, tie_balmer=True,\n",
    "              plotit=False, savefigs=False, interactive_mode=False)\n",
    "regul_opt = pp_opt.regul"
   ]
  },
  {
   "cell_type": "code",
   "execution_count": 88,
   "metadata": {
    "scrolled": true
   },
   "outputs": [
    {
     "data": {
      "application/vnd.jupyter.widget-view+json": {
       "model_id": "ca0b00274b06452493d53718b5f23a85",
       "version_major": 2,
       "version_minor": 0
      },
      "text/plain": [
       "HBox(children=(IntProgress(value=0, max=20), HTML(value='')))"
      ]
     },
     "metadata": {},
     "output_type": "display_data"
    },
    {
     "name": "stdout",
     "output_type": "stream",
     "text": [
      "----------------------------------------------------\n",
      "Iteration 0: Elapsed time in PPXF (single thread): 10.97 s\n",
      "Iteration 1: Scaling noise by 1.3554...\n",
      "----------------------------------------------------\n",
      "Iteration 0: Elapsed time in PPXF (single thread): 11.30 s\n",
      "Iteration 1: Scaling noise by 1.3554...\n",
      "----------------------------------------------------\n",
      "Iteration 0: Elapsed time in PPXF (single thread): 11.26 s\n",
      "Iteration 1: Scaling noise by 1.3554...\n",
      "----------------------------------------------------\n",
      "Iteration 0: Elapsed time in PPXF (single thread): 11.25 s\n",
      "Iteration 1: Scaling noise by 1.3554...\n",
      "----------------------------------------------------\n",
      "Iteration 0: Elapsed time in PPXF (single thread): 11.42 s\n",
      "Iteration 1: Scaling noise by 1.3554...\n",
      "----------------------------------------------------\n",
      "Iteration 0: Elapsed time in PPXF (single thread): 11.61 s\n",
      "Iteration 1: Scaling noise by 1.3554...\n",
      "----------------------------------------------------\n",
      "Iteration 0: Elapsed time in PPXF (single thread): 11.02 s\n",
      "Iteration 1: Scaling noise by 1.3554...\n",
      "----------------------------------------------------\n",
      "Iteration 0: Elapsed time in PPXF (single thread): 11.54 s\n",
      "Iteration 1: Scaling noise by 1.3554...\n",
      "----------------------------------------------------\n",
      "----------------------------------------------------\n",
      "Iteration 0: Elapsed time in PPXF (single thread): 11.45 s\n",
      "Iteration 0: Elapsed time in PPXF (single thread): 12.18 s\n",
      "Iteration 1: Scaling noise by 1.3554...\n",
      "Iteration 1: Scaling noise by 1.3554...\n",
      "----------------------------------------------------\n",
      "Iteration 0: Elapsed time in PPXF (single thread): 12.44 s\n",
      "Iteration 1: Scaling noise by 1.3554...\n",
      "----------------------------------------------------\n",
      "Iteration 0: Elapsed time in PPXF (single thread): 11.72 s\n",
      "----------------------------------------------------\n",
      "Iteration 1: Scaling noise by 1.3554...\n",
      "Iteration 0: Elapsed time in PPXF (single thread): 12.05 s\n",
      "Iteration 1: Scaling noise by 1.3554...\n",
      "----------------------------------------------------\n",
      "Iteration 0: Elapsed time in PPXF (single thread): 12.86 s\n",
      "Iteration 1: Scaling noise by 1.3554...\n",
      "----------------------------------------------------\n",
      "Iteration 0: Elapsed time in PPXF (single thread): 11.71 s\n",
      "Iteration 1: Scaling noise by 1.3554...\n",
      "----------------------------------------------------\n",
      "Iteration 0: Elapsed time in PPXF (single thread): 12.48 s\n",
      "Iteration 1: Scaling noise by 1.3554...\n",
      "----------------------------------------------------\n",
      "Iteration 0: Elapsed time in PPXF (single thread): 12.62 s\n",
      "Iteration 1: Scaling noise by 1.3554...\n",
      "----------------------------------------------------\n",
      "Iteration 0: Elapsed time in PPXF (single thread): 12.29 s\n",
      "Iteration 1: Scaling noise by 1.3554...\n",
      "----------------------------------------------------\n",
      "Iteration 0: Elapsed time in PPXF (single thread): 13.73 s\n",
      "Iteration 1: Scaling noise by 1.3554...\n",
      "----------------------------------------------------\n",
      "Iteration 0: Elapsed time in PPXF (single thread): 13.27 s\n",
      "Iteration 1: Scaling noise by 1.3554...\n",
      "Best Fit:       Vel     sigma\n",
      " comp. 0:        13       104\n",
      "chi2/DOF: 1\n",
      "method = capfit ; Jac calls: 3 ; Func calls: 11 ; Status: 2\n",
      "Nonzero Templates:  17  /  222\n",
      "----------------------------------------------------\n",
      "Desired Delta Chi^2: 95.08\n",
      "Current Delta Chi^2: 6.323e-11\n",
      "Delta-Delta Chi^2: 95.08\n",
      "----------------------------------------------------\n",
      "Elapsed time in PPXF: 22.65 s\n",
      "Best Fit:       Vel     sigma\n",
      " comp. 0:        13       103\n",
      "chi2/DOF: 1.022\n",
      "method = capfit ; Jac calls: 3 ; Func calls: 11 ; Status: 4\n",
      "Nonzero Templates:  164  /  222\n",
      "----------------------------------------------------\n",
      "Desired Delta Chi^2: 95.08\n",
      "Current Delta Chi^2: 101.1\n",
      "Delta-Delta Chi^2: 5.986\n",
      "----------------------------------------------------\n",
      "Elapsed time in PPXF: 29.08 s\n",
      "Best Fit:       Vel     sigma\n",
      " comp. 0:        13       103\n",
      "chi2/DOF: 1.025\n",
      "method = capfit ; Jac calls: 3 ; Func calls: 11 ; Status: 4\n",
      "Nonzero Templates:  170  /  222\n",
      "----------------------------------------------------\n",
      "Desired Delta Chi^2: 95.08\n",
      "Current Delta Chi^2: 112.3\n",
      "Delta-Delta Chi^2: 17.18\n",
      "----------------------------------------------------\n",
      "Elapsed time in PPXF: 29.30 s\n",
      "Best Fit:       Vel     sigma\n",
      " comp. 0:        13       103\n",
      "chi2/DOF: 1.023\n",
      "method = capfit ; Jac calls: 3 ; Func calls: 11 ; Status: 4\n",
      "Nonzero Templates:  167  /  222\n",
      "----------------------------------------------------\n",
      "Desired Delta Chi^2: 95.08\n",
      "Current Delta Chi^2: 106.1\n",
      "Delta-Delta Chi^2: 11.04\n",
      "----------------------------------------------------\n",
      "Elapsed time in PPXF: 30.52 s\n",
      "Best Fit:       Vel     sigma\n",
      " comp. 0:        13       103\n",
      "chi2/DOF: 1.026\n",
      "method = capfit ; Jac calls: 3 ; Func calls: 11 ; Status: 4\n",
      "Nonzero Templates:  172  /  222\n",
      "----------------------------------------------------\n",
      "Desired Delta Chi^2: 95.08\n",
      "Current Delta Chi^2: 115.5\n",
      "Delta-Delta Chi^2: 20.44\n",
      "----------------------------------------------------\n",
      "Elapsed time in PPXF: 30.49 s\n",
      "Best Fit:       Vel     sigma\n",
      " comp. 0:        13       103\n",
      "chi2/DOF: 1.019\n",
      "Best Fit:       Vel     sigma\n",
      " comp. 0:        13       103\n",
      "method = capfit ; Jac calls: 3 ; Func calls: 11 ; Status: 2\n",
      "chi2/DOF: 1.017\n",
      "Nonzero Templates:  159  /  222\n",
      "method = capfit ; Jac calls: 3 ; Func calls: 11 ; Status: 2\n",
      "----------------------------------------------------\n",
      "Nonzero Templates:  146  /  222\n",
      "Desired Delta Chi^2: 95.08\n",
      "----------------------------------------------------\n",
      "Desired Delta Chi^2: 95.08\n",
      "Current Delta Chi^2: 86.93\n",
      "Current Delta Chi^2: 75.46\n",
      "Delta-Delta Chi^2: 8.153\n",
      "Delta-Delta Chi^2: 19.62\n",
      "----------------------------------------------------\n",
      "Elapsed time in PPXF: 30.33 s\n",
      "----------------------------------------------------\n",
      "Elapsed time in PPXF: 30.92 s\n",
      "Best Fit:       Vel     sigma\n",
      " comp. 0:        13       103\n",
      "chi2/DOF: 1.018\n",
      "method = capfit ; Jac calls: 3 ; Func calls: 11 ; Status: 4\n",
      "Desired Delta Chi^2: 95.08\n",
      "Nonzero Templates:  150  /  222\n",
      "----------------------------------------------------\n",
      "Current Delta Chi^2: 79.18\n",
      "Delta-Delta Chi^2: 15.9\n",
      "----------------------------------------------------\n",
      "Best Fit:       Vel     sigma\n",
      "Best Fit:       Vel     sigma\n",
      " comp. 0:        13       104\n",
      "chi2/DOF: 1.012\n",
      "method = capfit ; Jac calls: 3 ; Func calls: 11 ; Status: 4\n",
      "Nonzero Templates:  121  /  222\n",
      " comp. 0:        13       104\n",
      "----------------------------------------------------\n",
      "chi2/DOF: 1.009\n",
      "Elapsed time in PPXF: 30.95 s\n",
      "method = capfit ; Jac calls: 3 ; Func calls: 11 ; Status: 4\n",
      "Desired Delta Chi^2: 95.08\n",
      "Nonzero Templates:  111  /  222\n",
      "----------------------------------------------------\n",
      "Best Fit:       Vel     sigma\n",
      "Desired Delta Chi^2: 95.08\n",
      " comp. 0:        13       103\n",
      "Current Delta Chi^2: 41.36\n",
      "chi2/DOF: 1.016\n",
      "method = capfit ; Jac calls: 3 ; Func calls: 11 ; Status: 4\n",
      "Delta-Delta Chi^2: 53.72\n",
      "Nonzero Templates:  137  /  222\n",
      "----------------------------------------------------\n",
      "----------------------------------------------------\n",
      "----------------------------------------------------\n",
      "Best Fit:       Vel     sigma\n",
      "Elapsed time in PPXF: 30.14 s\n",
      "Desired Delta Chi^2: 95.08\n",
      "Current Delta Chi^2: 70.82\n",
      "Delta-Delta Chi^2: 24.25\n",
      " comp. 0:        13       103\n",
      "Current Delta Chi^2: 55.3\n",
      "Delta-Delta Chi^2: 39.78\n",
      "----------------------------------------------------\n",
      "Elapsed time in PPXF: 31.21 s\n",
      "chi2/DOF: 1.021\n",
      "Elapsed time in PPXF: 30.54 s\n",
      "method = capfit ; Jac calls: 3 ; Func calls: 11 ; Status: 4\n",
      "Nonzero Templates:  164  /  222\n",
      "Best Fit:       Vel     sigma\n",
      " comp. 0:        13       103\n",
      "----------------------------------------------------\n",
      "chi2/DOF: 1.022\n",
      "Desired Delta Chi^2: 95.08\n",
      "method = capfit ; Jac calls: 3 ; Func calls: 11 ; Status: 4\n",
      "Current Delta Chi^2: 94.81\n",
      "Nonzero Templates:  164  /  222\n",
      "----------------------------------------------------\n",
      "Delta-Delta Chi^2: 0.2679\n",
      "----------------------------------------------------\n",
      "Desired Delta Chi^2: 95.08\n",
      "Current Delta Chi^2: 98.14\n",
      "Elapsed time in PPXF: 30.60 s\n",
      "Delta-Delta Chi^2: 3.057\n",
      "----------------------------------------------------\n",
      "Elapsed time in PPXF: 31.50 s\n",
      "Best Fit:       Vel     sigma\n",
      "Elapsed time in PPXF: 30.99 s\n",
      " comp. 0:        13       103\n",
      "chi2/DOF: 1.023\n",
      "method = capfit ; Jac calls: 3 ; Func calls: 11 ; Status: 4\n",
      "Nonzero Templates:  166  /  222\n"
     ]
    },
    {
     "name": "stdout",
     "output_type": "stream",
     "text": [
      "----------------------------------------------------\n",
      "Best Fit:       Vel     sigma\n",
      "Desired Delta Chi^2: 95.08\n",
      "Current Delta Chi^2: 103.7\n",
      "Delta-Delta Chi^2: 8.615\n",
      " comp. 0:        13       103\n",
      "----------------------------------------------------\n",
      "chi2/DOF: 1.025\n",
      "method = capfit ; Jac calls: 3 ; Func calls: 11 ; Status: 4\n",
      "Nonzero Templates:  170  /  222\n",
      "----------------------------------------------------\n",
      "Desired Delta Chi^2: 95.08\n",
      "Best Fit:       Vel     sigma\n",
      "Current Delta Chi^2: 113.9\n",
      " comp. 0:        13       103\n",
      "Delta-Delta Chi^2: 18.85\n",
      "----------------------------------------------------\n",
      "chi2/DOF: 1.018\n",
      "Elapsed time in PPXF: 31.71 s\n",
      "method = capfit ; Jac calls: 3 ; Func calls: 11 ; Status: 4\n",
      "Nonzero Templates:  155  /  222\n",
      "----------------------------------------------------\n",
      "Desired Delta Chi^2: 95.08\n",
      "Current Delta Chi^2: 82.79\n",
      "Delta-Delta Chi^2: 12.29\n",
      "----------------------------------------------------\n",
      "Elapsed time in PPXF: 31.04 s\n",
      "Best Fit:       Vel     sigma\n",
      " comp. 0:        13       103\n",
      "chi2/DOF: 1.014\n",
      "method = capfit ; Jac calls: 3 ; Func calls: 11 ; Status: 4\n",
      "Best Fit:       Vel     sigma\n",
      " comp. 0:        13       103\n",
      "Nonzero Templates:  127  /  222\n",
      "chi2/DOF: 1.024\n",
      "----------------------------------------------------\n",
      "method = capfit ; Jac calls: 3 ; Func calls: 11 ; Status: 4\n",
      "Desired Delta Chi^2: 95.08\n",
      "Current Delta Chi^2: 64.39\n",
      "Nonzero Templates:  167  /  222\n",
      "Delta-Delta Chi^2: 30.69\n",
      "----------------------------------------------------\n",
      "Desired Delta Chi^2: 95.08\n",
      "----------------------------------------------------\n",
      "Current Delta Chi^2: 108.4\n",
      "Elapsed time in PPXF: 31.23 s\n",
      "Delta-Delta Chi^2: 13.28\n",
      "----------------------------------------------------\n",
      "Elapsed time in PPXF: 31.42 s\n",
      "Best Fit:       Vel     sigma\n",
      " comp. 0:        13       103\n",
      "chi2/DOF: 1.02\n",
      "method = capfit ; Jac calls: 3 ; Func calls: 11 ; Status: 4\n",
      "Nonzero Templates:  161  /  222\n",
      "----------------------------------------------------\n",
      "Desired Delta Chi^2: 95.08\n",
      "Current Delta Chi^2: 91.08\n",
      "Delta-Delta Chi^2: 3.998\n",
      "----------------------------------------------------\n",
      "Elapsed time in PPXF: 31.33 s\n",
      "Best Fit:       Vel     sigma\n",
      " comp. 0:        13       103\n",
      "chi2/DOF: 1.024\n",
      "method = capfit ; Jac calls: 3 ; Func calls: 11 ; Status: 4\n",
      "Nonzero Templates:  170  /  222\n",
      "----------------------------------------------------\n",
      "Desired Delta Chi^2: 95.08\n",
      "Current Delta Chi^2: 110.4\n",
      "Delta-Delta Chi^2: 15.32\n",
      "----------------------------------------------------\n",
      "Elapsed time in PPXF: 33.13 s\n",
      "\n"
     ]
    }
   ],
   "source": [
    "# Re-run ppxf on a grid of regul values centred on the optimal value\n",
    "regul_vals = np.linspace(0, regul_opt * 2, 20)\n",
    "nthreads = len(regul_vals)\n",
    "niters = len(regul_vals)\n",
    "with multiprocessing.Pool(nthreads) as pool:\n",
    "    pp_list = list(tqdm(pool.imap(ppxf_helper, regul_vals), total=niters))"
   ]
  },
  {
   "cell_type": "code",
   "execution_count": 89,
   "metadata": {
    "scrolled": false
   },
   "outputs": [
    {
     "data": {
      "application/vnd.jupyter.widget-view+json": {
       "model_id": "649def606c24477bb41306b615f45ca9",
       "version_major": 2,
       "version_minor": 0
      },
      "text/plain": [
       "Canvas(toolbar=Toolbar(toolitems=[('Home', 'Reset original view', 'home', 'home'), ('Back', 'Back to previous …"
      ]
     },
     "metadata": {},
     "output_type": "display_data"
    },
    {
     "data": {
      "application/vnd.jupyter.widget-view+json": {
       "model_id": "6c366b2907ad44c78d9193fa00966da7",
       "version_major": 2,
       "version_minor": 0
      },
      "text/plain": [
       "Canvas(toolbar=Toolbar(toolitems=[('Home', 'Reset original view', 'home', 'home'), ('Back', 'Back to previous …"
      ]
     },
     "metadata": {},
     "output_type": "display_data"
    },
    {
     "data": {
      "application/vnd.jupyter.widget-view+json": {
       "model_id": "2643c2f407a549e28ce180faeb81dc4f",
       "version_major": 2,
       "version_minor": 0
      },
      "text/plain": [
       "Canvas(toolbar=Toolbar(toolitems=[('Home', 'Reset original view', 'home', 'home'), ('Back', 'Back to previous …"
      ]
     },
     "metadata": {},
     "output_type": "display_data"
    },
    {
     "data": {
      "application/vnd.jupyter.widget-view+json": {
       "model_id": "9cafab40a83e4cc58f6d80b403684a10",
       "version_major": 2,
       "version_minor": 0
      },
      "text/plain": [
       "Canvas(toolbar=Toolbar(toolitems=[('Home', 'Reset original view', 'home', 'home'), ('Back', 'Back to previous …"
      ]
     },
     "metadata": {},
     "output_type": "display_data"
    },
    {
     "data": {
      "application/vnd.jupyter.widget-view+json": {
       "model_id": "9b39cd471d614f6b956d8f3a4a5a3c9b",
       "version_major": 2,
       "version_minor": 0
      },
      "text/plain": [
       "Canvas(toolbar=Toolbar(toolitems=[('Home', 'Reset original view', 'home', 'home'), ('Back', 'Back to previous …"
      ]
     },
     "metadata": {},
     "output_type": "display_data"
    },
    {
     "data": {
      "application/vnd.jupyter.widget-view+json": {
       "model_id": "60130049a43a40b8be1d319848fb567f",
       "version_major": 2,
       "version_minor": 0
      },
      "text/plain": [
       "Canvas(toolbar=Toolbar(toolitems=[('Home', 'Reset original view', 'home', 'home'), ('Back', 'Back to previous …"
      ]
     },
     "metadata": {},
     "output_type": "display_data"
    },
    {
     "data": {
      "application/vnd.jupyter.widget-view+json": {
       "model_id": "e0eb69aea28a49abb580bb07ee846de6",
       "version_major": 2,
       "version_minor": 0
      },
      "text/plain": [
       "Canvas(toolbar=Toolbar(toolitems=[('Home', 'Reset original view', 'home', 'home'), ('Back', 'Back to previous …"
      ]
     },
     "metadata": {},
     "output_type": "display_data"
    },
    {
     "data": {
      "application/vnd.jupyter.widget-view+json": {
       "model_id": "9019050477fe47babf523e275b1708e6",
       "version_major": 2,
       "version_minor": 0
      },
      "text/plain": [
       "Canvas(toolbar=Toolbar(toolitems=[('Home', 'Reset original view', 'home', 'home'), ('Back', 'Back to previous …"
      ]
     },
     "metadata": {},
     "output_type": "display_data"
    },
    {
     "data": {
      "application/vnd.jupyter.widget-view+json": {
       "model_id": "cb0dbdae4fa94f21baec5de4ec0e7fcc",
       "version_major": 2,
       "version_minor": 0
      },
      "text/plain": [
       "Canvas(toolbar=Toolbar(toolitems=[('Home', 'Reset original view', 'home', 'home'), ('Back', 'Back to previous …"
      ]
     },
     "metadata": {},
     "output_type": "display_data"
    },
    {
     "data": {
      "application/vnd.jupyter.widget-view+json": {
       "model_id": "40019f3998264dddaede12b119d54bb8",
       "version_major": 2,
       "version_minor": 0
      },
      "text/plain": [
       "Canvas(toolbar=Toolbar(toolitems=[('Home', 'Reset original view', 'home', 'home'), ('Back', 'Back to previous …"
      ]
     },
     "metadata": {},
     "output_type": "display_data"
    }
   ],
   "source": [
    "########################################################################\n",
    "# Plot the delta-delta-chi2 as a function of regul\n",
    "########################################################################\n",
    "delta_delta_chi2_vals = np.array([pp.delta_delta_chi2 for pp in pp_list])\n",
    "regul_vals = np.array([pp.regul for pp in pp_list])\n",
    "\n",
    "# Find the optimal index \n",
    "opt_idx = np.nanargmin(delta_delta_chi2_vals)\n",
    "\n",
    "fig, ax = plt.subplots(figsize=(10, 5))\n",
    "ax.plot(regul_vals, delta_delta_chi2_vals, marker=\"D\")\n",
    "ax.grid()\n",
    "ax.set_xlabel(\"regul\")\n",
    "ax.set_ylabel(r\"$|\\Delta \\chi^2 - \\Delta \\chi^2_{\\rm ideal}|$\")\n",
    "ax.set_xscale(\"log\")\n",
    "\n",
    "########################################################################\n",
    "# How much does the SFH change?\n",
    "########################################################################\n",
    "fig = plt.figure(figsize=(15, 3.5))\n",
    "ax = fig.add_axes([0.1, 0.25, 0.6, 0.65])\n",
    "\n",
    "# Plot the SFH\n",
    "cmap_regul = matplotlib.cm.get_cmap(\"Spectral\", len(pp_list))\n",
    "for ii, pp in enumerate(pp_list):\n",
    "    ax.step(pp.ages, np.log10(pp.sfh_mw_1D), where=\"mid\", color=cmap_regul(ii), label=f\"delta_delta_chi2 = {pp.delta_delta_chi2:.3f}\", lw=0.5)   \n",
    "ax.step(pp.ages, np.log10(np.nansum(sfh_mw_input, axis=0)), where=\"mid\", color=\"k\", label=f\"Input\", zorder=999)   \n",
    "# Decorations\n",
    "ax.set_ylabel(r\"Log stellar mass ($\\rm \\log_{10}\\, M_\\odot$)\")\n",
    "ax.set_xlabel(\"Age (yr)\")\n",
    "ax.set_xscale(\"log\")\n",
    "ax.grid()\n",
    "ax.legend(fontsize=\"x-small\", bbox_to_anchor=[1.05, 0.5], loc=\"center left\")\n",
    "ax.autoscale(axis=\"x\", tight=True, enable=True)\n",
    "\n",
    "########################################################################\n",
    "# How much does the LW/MW age change?\n",
    "########################################################################\n",
    "for age_thresh in [1e7, 1e8, 1e9, 1e19]:\n",
    "    # Compute ages\n",
    "    log_mw_age_input = compute_mw_age(sfh_mw_input, isochrones, age_thresh_upper=age_thresh)[0]\n",
    "    log_lw_age_input = compute_lw_age(sfh_lw_input, isochrones, age_thresh_upper=age_thresh)[0]\n",
    "    log_mw_age_list = [compute_mw_age(pp.sfh_mw_1D, isochrones, age_thresh_upper=age_thresh)[0] for pp in pp_list]\n",
    "    log_lw_age_list = [compute_lw_age(pp.sfh_lw_1D, isochrones, age_thresh_upper=age_thresh)[0] for pp in pp_list]\n",
    "\n",
    "    fig, ax = plt.subplots(figsize=(10, 5))\n",
    "    ax.plot(regul_vals, log_mw_age_list, marker=\"D\", label=f\"Mass-weighted age (< {age_thresh / 1e6:.1f} Myr)\")\n",
    "    ax.plot(regul_vals, log_lw_age_list, marker=\"D\", label=f\"Light-weighted age (< {age_thresh / 1e6:.1f} Myr)\")\n",
    "    ax.axhline(log_mw_age_input, ls=\"-\", color=\"k\", label=\"Input mass-weighted age (< {age_thresh / 1e6:.1f} Myr)\")\n",
    "    ax.axhline(log_lw_age_input, ls=\"--\", color=\"k\", label=\"Input mass-weighted age (< {age_thresh / 1e6:.1f} Myr)\")\n",
    "    ax.axvline(regul_vals[opt_idx], color=\"k\", label=\"Optimal regul value\")\n",
    "    ax.grid()\n",
    "    ax.set_xlabel(\"regul\")\n",
    "    ax.set_ylabel(\"Mean age\")\n",
    "    ax.set_xscale(\"log\")\n",
    "    ax.legend()\n",
    "\n",
    "    ########################################################################\n",
    "    # How much does the LW/MW age change as we approach the optimal regul value?\n",
    "    ########################################################################\n",
    "    fig, ax = plt.subplots(figsize=(10, 5))\n",
    "    ax.plot(delta_delta_chi2_vals, log_mw_age_list - log_mw_age_input, marker=\"D\", label=f\"Error in mass-weighted age (< {age_thresh / 1e6:.1f} Myr)\")\n",
    "    ax.plot(delta_delta_chi2_vals, log_lw_age_list - log_lw_age_input, marker=\"D\", label=f\"Error in light-weighted age (< {age_thresh / 1e6:.1f} Myr)\")\n",
    "    ax.axhline(0, color=\"black\")\n",
    "    ax.axhspan(ymin=-0.1, ymax=0.1, color=\"black\", alpha=0.2)\n",
    "    ax.grid()\n",
    "    ax.set_xlabel(\"delta-delta-chi2\")\n",
    "    ax.set_ylabel(\"Mean age\")\n",
    "    ax.legend()\n"
   ]
  },
  {
   "cell_type": "code",
   "execution_count": 37,
   "metadata": {},
   "outputs": [],
   "source": [
    "plt.close(\"all\")"
   ]
  },
  {
   "cell_type": "markdown",
   "metadata": {},
   "source": [
    "### Remarks\n",
    "---\n",
    "* For this particular SFH (gal 1) with no confounding factors, i.e. no emssion lines, no AGN continuum, no extinction etc., the absolute deviation in the mean age (derived for a range of upper age cutoffs) is as large as 0.05 dex for $|\\Delta\\chi^2 - \\Delta\\chi^2_{\\rm ideal}| \\lesssim 5$, perhaps indicating that we should keep our existing convergence criterion.\n",
    "* Need to re-run these tests for \n",
    "    * different SFHs \n",
    "    * "
   ]
  },
  {
   "cell_type": "code",
   "execution_count": null,
   "metadata": {},
   "outputs": [],
   "source": []
  }
 ],
 "metadata": {
  "kernelspec": {
   "display_name": "Python 3",
   "language": "python",
   "name": "python3"
  },
  "language_info": {
   "codemirror_mode": {
    "name": "ipython",
    "version": 3
   },
   "file_extension": ".py",
   "mimetype": "text/x-python",
   "name": "python",
   "nbconvert_exporter": "python",
   "pygments_lexer": "ipython3",
   "version": "3.7.4"
  }
 },
 "nbformat": 4,
 "nbformat_minor": 2
}
