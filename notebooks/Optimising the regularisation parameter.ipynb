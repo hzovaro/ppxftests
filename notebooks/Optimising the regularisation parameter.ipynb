{
 "cells": [
  {
   "cell_type": "markdown",
   "metadata": {},
   "source": [
    "# Optimising the regularisation parameter\n",
    "--- \n",
    "Running ppxf with regularisation is very time-intensive and makes it difficult to run simulations across a large parameter space. \n",
    "\n",
    "Up until now we've been using $\\Delta\\chi^2 < 1$ as our condition for terminating regularisation, and an upper limit of `regul` = 50,000. \n",
    "* **Can we find a better maximum value for `regul`?** How does the solution change between 50,000 and e.g. 100,000? If there is no change, does this hold for SFHs of all shapes?\n",
    "* **Can we find a less strict convergence criterion?** How does a solution with $\\Delta\\chi^2 < 1$ differ from a solution with $\\Delta\\chi^2 \\sim 10$, for instance? Is there a meaningful difference?  "
   ]
  },
  {
   "cell_type": "code",
   "execution_count": 1,
   "metadata": {},
   "outputs": [],
   "source": [
    "%matplotlib widget"
   ]
  },
  {
   "cell_type": "code",
   "execution_count": 2,
   "metadata": {},
   "outputs": [
    {
     "data": {
      "text/html": [
       "<style>.container { width:75% !important; }</style>"
      ],
      "text/plain": [
       "<IPython.core.display.HTML object>"
      ]
     },
     "metadata": {},
     "output_type": "display_data"
    },
    {
     "data": {
      "text/html": [
       "<style>.output_result { max-width:75% !important; }</style>"
      ],
      "text/plain": [
       "<IPython.core.display.HTML object>"
      ]
     },
     "metadata": {},
     "output_type": "display_data"
    }
   ],
   "source": [
    "from IPython.core.display import display, HTML\n",
    "display(HTML(\"<style>.container { width:75% !important; }</style>\"))\n",
    "display(HTML(\"<style>.output_result { max-width:75% !important; }</style>\"))"
   ]
  },
  {
   "cell_type": "code",
   "execution_count": 3,
   "metadata": {},
   "outputs": [],
   "source": [
    "import os\n",
    "import numpy as np\n",
    "from numpy.random import RandomState\n",
    "from time import time \n",
    "from tqdm.notebook import tqdm\n",
    "from itertools import product\n",
    "import multiprocessing\n",
    "import pandas as pd\n",
    "import extinction\n",
    "\n",
    "from astropy.io import fits\n",
    "\n",
    "from ppxftests.run_ppxf import run_ppxf\n",
    "from ppxftests.ssputils import load_ssp_templates, get_bin_edges_and_widths\n",
    "from ppxftests.mockspec import create_mock_spectrum\n",
    "from ppxftests.sfhutils import load_sfh, compute_mw_age, compute_lw_age, compute_cumulative_mass, compute_cumulative_light\n",
    "from ppxftests.sfhutils import compute_mean_age, compute_mean_mass, compute_mean_sfr, compute_mean_1D_sfh\n",
    "from ppxftests.ppxf_plot import plot_sfh_mass_weighted, plot_sfh_light_weighted, ppxf_plot\n",
    "from ppxftests.plot_ppxf_summary import plot_ppxf_summary\n",
    "\n",
    "import matplotlib\n",
    "import matplotlib.pyplot as plt\n",
    "from matplotlib.backends.backend_pdf import PdfPages\n",
    "plt.ion()\n",
    "plt.close(\"all\")\n",
    "\n",
    "from IPython.core.debugger import Tracer\n",
    "\n",
    "fig_path = \"/priv/meggs3/u5708159/ppxftests/figs/\"\n",
    "data_path = \"/priv/meggs3/u5708159/ppxftests/\"\n"
   ]
  },
  {
   "cell_type": "code",
   "execution_count": 4,
   "metadata": {},
   "outputs": [],
   "source": [
    "##################################################################\n",
    "# Settings\n",
    "##################################################################\n",
    "isochrones = \"Padova\"\n",
    "SNR = 100\n",
    "z = 0\n",
    "niters = 20\n",
    "nthreads = 20\n"
   ]
  },
  {
   "cell_type": "code",
   "execution_count": 5,
   "metadata": {
    "scrolled": true
   },
   "outputs": [
    {
     "data": {
      "application/vnd.jupyter.widget-view+json": {
       "model_id": "30484429a9264c68b842bd7426d034fd",
       "version_major": 2,
       "version_minor": 0
      },
      "text/plain": [
       "Canvas(toolbar=Toolbar(toolitems=[('Home', 'Reset original view', 'home', 'home'), ('Back', 'Back to previous …"
      ]
     },
     "metadata": {},
     "output_type": "display_data"
    },
    {
     "data": {
      "application/vnd.jupyter.widget-view+json": {
       "model_id": "a7b73b5d9cee45b399144ebf9ccf2fe6",
       "version_major": 2,
       "version_minor": 0
      },
      "text/plain": [
       "Canvas(toolbar=Toolbar(toolitems=[('Home', 'Reset original view', 'home', 'home'), ('Back', 'Back to previous …"
      ]
     },
     "metadata": {},
     "output_type": "display_data"
    },
    {
     "data": {
      "application/vnd.jupyter.widget-view+json": {
       "model_id": "2720d47f28914ab68bf9adae3ee9fe7c",
       "version_major": 2,
       "version_minor": 0
      },
      "text/plain": [
       "Canvas(toolbar=Toolbar(toolitems=[('Home', 'Reset original view', 'home', 'home'), ('Back', 'Back to previous …"
      ]
     },
     "metadata": {},
     "output_type": "display_data"
    }
   ],
   "source": [
    "##################################################################\n",
    "# Define the input SFH\n",
    "##################################################################\n",
    "gal = 10\n",
    "sfh_mw_input, sfh_lw_input, sfr_avg_input, sigma_star_kms = load_sfh(gal, plotit=True)\n"
   ]
  },
  {
   "cell_type": "code",
   "execution_count": 6,
   "metadata": {
    "scrolled": true
   },
   "outputs": [
    {
     "data": {
      "application/vnd.jupyter.widget-view+json": {
       "model_id": "d68b998e3bc949ebaa4970dc32ffc57a",
       "version_major": 2,
       "version_minor": 0
      },
      "text/plain": [
       "Canvas(toolbar=Toolbar(toolitems=[('Home', 'Reset original view', 'home', 'home'), ('Back', 'Back to previous …"
      ]
     },
     "metadata": {},
     "output_type": "display_data"
    },
    {
     "data": {
      "application/vnd.jupyter.widget-view+json": {
       "model_id": "a654b971385d4cfa9cc67f7151a35dca",
       "version_major": 2,
       "version_minor": 0
      },
      "text/plain": [
       "Canvas(toolbar=Toolbar(toolitems=[('Home', 'Reset original view', 'home', 'home'), ('Back', 'Back to previous …"
      ]
     },
     "metadata": {},
     "output_type": "display_data"
    }
   ],
   "source": [
    "###############################################################################\n",
    "# Create spectrum\n",
    "###############################################################################\n",
    "spec, spec_err, lambda_vals_A = create_mock_spectrum(\n",
    "    sfh_mass_weighted=sfh_mw_input,\n",
    "    agn_continuum=False,\n",
    "    isochrones=isochrones, z=z, SNR=SNR, sigma_star_kms=sigma_star_kms,\n",
    "    plotit=True)"
   ]
  },
  {
   "cell_type": "code",
   "execution_count": 18,
   "metadata": {},
   "outputs": [
    {
     "data": {
      "application/vnd.jupyter.widget-view+json": {
       "model_id": "",
       "version_major": 2,
       "version_minor": 0
      },
      "text/plain": [
       "HBox(children=(IntProgress(value=0, max=7), HTML(value='')))"
      ]
     },
     "metadata": {},
     "output_type": "display_data"
    },
    {
     "ename": "KeyboardInterrupt",
     "evalue": "",
     "output_type": "error",
     "traceback": [
      "\u001b[0;31m---------------------------------------------------------------------------\u001b[0m",
      "\u001b[0;31mKeyboardInterrupt\u001b[0m                         Traceback (most recent call last)",
      "\u001b[0;32m<ipython-input-18-14a659e365ef>\u001b[0m in \u001b[0;36m<module>\u001b[0;34m\u001b[0m\n\u001b[1;32m      9\u001b[0m                   \u001b[0misochrones\u001b[0m\u001b[0;34m=\u001b[0m\u001b[0misochrones\u001b[0m\u001b[0;34m,\u001b[0m\u001b[0;34m\u001b[0m\u001b[0;34m\u001b[0m\u001b[0m\n\u001b[1;32m     10\u001b[0m                   \u001b[0mfit_gas\u001b[0m\u001b[0;34m=\u001b[0m\u001b[0;32mFalse\u001b[0m\u001b[0;34m,\u001b[0m \u001b[0mtie_balmer\u001b[0m\u001b[0;34m=\u001b[0m\u001b[0;32mTrue\u001b[0m\u001b[0;34m,\u001b[0m\u001b[0;34m\u001b[0m\u001b[0;34m\u001b[0m\u001b[0m\n\u001b[0;32m---> 11\u001b[0;31m                   plotit=False, savefigs=False, interactive_mode=False)\n\u001b[0m\u001b[1;32m     12\u001b[0m     \u001b[0mpp_list\u001b[0m\u001b[0;34m.\u001b[0m\u001b[0mappend\u001b[0m\u001b[0;34m(\u001b[0m\u001b[0mpp\u001b[0m\u001b[0;34m)\u001b[0m\u001b[0;34m\u001b[0m\u001b[0;34m\u001b[0m\u001b[0m\n",
      "\u001b[0;32m~/python/Modules/ppxftests/run_ppxf.py\u001b[0m in \u001b[0;36mrun_ppxf\u001b[0;34m(spec, spec_err, lambda_vals_A, z, ngascomponents, tie_balmer, isochrones, metals_to_use, fit_agn_cont, alpha_nu_vals, fit_gas, mdegree, adegree, reddening, FWHM_inst_A, bad_pixel_ranges_A, lambda_norm_A, regularisation_method, regul, regul_start, auto_adjust_regul, regul_nthreads, delta_regul_min, regul_max, delta_delta_chi2_min, interactive_mode, plotit, savefigs, fname_str)\u001b[0m\n\u001b[1;32m    569\u001b[0m                   \u001b[0mcomponent\u001b[0m\u001b[0;34m=\u001b[0m\u001b[0mkinematic_components\u001b[0m\u001b[0;34m,\u001b[0m \u001b[0mgas_component\u001b[0m\u001b[0;34m=\u001b[0m\u001b[0mgas_component\u001b[0m\u001b[0;34m,\u001b[0m\u001b[0;34m\u001b[0m\u001b[0;34m\u001b[0m\u001b[0m\n\u001b[1;32m    570\u001b[0m                   \u001b[0mgas_names\u001b[0m\u001b[0;34m=\u001b[0m\u001b[0mgas_names\u001b[0m\u001b[0;34m,\u001b[0m \u001b[0mgas_reddening\u001b[0m\u001b[0;34m=\u001b[0m\u001b[0mgas_reddening\u001b[0m\u001b[0;34m,\u001b[0m \u001b[0mmethod\u001b[0m\u001b[0;34m=\u001b[0m\u001b[0;34m\"capfit\"\u001b[0m\u001b[0;34m,\u001b[0m\u001b[0;34m\u001b[0m\u001b[0;34m\u001b[0m\u001b[0m\n\u001b[0;32m--> 571\u001b[0;31m                   quiet=True)\n\u001b[0m\u001b[1;32m    572\u001b[0m \u001b[0;34m\u001b[0m\u001b[0m\n\u001b[1;32m    573\u001b[0m     \u001b[0;32melse\u001b[0m\u001b[0;34m:\u001b[0m\u001b[0;34m\u001b[0m\u001b[0;34m\u001b[0m\u001b[0m\n",
      "\u001b[0;32m~/python/Modules/ppxf/ppxf.py\u001b[0m in \u001b[0;36m__init__\u001b[0;34m(self, templates, galaxy, noise, velscale, start, bias, bounds, clean, component, degree, fixed, fraction, ftol, gas_component, gas_names, gas_reddening, goodpixels, lam, linear, mask, method, mdegree, moments, plot, quiet, reddening, reddening_func, reg_ord, reg_dim, regul, sigma_diff, sky, templates_rfft, tied, trig, velscale_ratio, vsyst)\u001b[0m\n\u001b[1;32m   1469\u001b[0m             \u001b[0mself\u001b[0m\u001b[0;34m.\u001b[0m\u001b[0mnjev\u001b[0m \u001b[0;34m=\u001b[0m \u001b[0;36m0\u001b[0m     \u001b[0;31m# Jacobian is not evaluated\u001b[0m\u001b[0;34m\u001b[0m\u001b[0;34m\u001b[0m\u001b[0m\n\u001b[1;32m   1470\u001b[0m         \u001b[0;32melse\u001b[0m\u001b[0;34m:\u001b[0m\u001b[0;34m\u001b[0m\u001b[0;34m\u001b[0m\u001b[0m\n\u001b[0;32m-> 1471\u001b[0;31m             \u001b[0mparams\u001b[0m\u001b[0;34m,\u001b[0m \u001b[0mperror\u001b[0m \u001b[0;34m=\u001b[0m \u001b[0mself\u001b[0m\u001b[0;34m.\u001b[0m\u001b[0mnonlinear_fit\u001b[0m\u001b[0;34m(\u001b[0m\u001b[0mstart1\u001b[0m\u001b[0;34m,\u001b[0m \u001b[0mbounds\u001b[0m\u001b[0;34m,\u001b[0m \u001b[0mfixed\u001b[0m\u001b[0;34m,\u001b[0m \u001b[0mtied\u001b[0m\u001b[0;34m,\u001b[0m \u001b[0mclean\u001b[0m\u001b[0;34m)\u001b[0m\u001b[0;34m\u001b[0m\u001b[0;34m\u001b[0m\u001b[0m\n\u001b[0m\u001b[1;32m   1472\u001b[0m \u001b[0;34m\u001b[0m\u001b[0m\n\u001b[1;32m   1473\u001b[0m         \u001b[0mself\u001b[0m\u001b[0;34m.\u001b[0m\u001b[0mbias\u001b[0m \u001b[0;34m=\u001b[0m \u001b[0;36m0\u001b[0m   \u001b[0;31m# Evaluate residuals without bias\u001b[0m\u001b[0;34m\u001b[0m\u001b[0;34m\u001b[0m\u001b[0m\n",
      "\u001b[0;32m~/python/Modules/ppxf/ppxf.py\u001b[0m in \u001b[0;36mnonlinear_fit\u001b[0;34m(self, start0, bounds0, fixed0, tied0, clean)\u001b[0m\n\u001b[1;32m   1556\u001b[0m                 res = capfit.capfit(self.linear_fit, start, ftol=self.ftol,\n\u001b[1;32m   1557\u001b[0m                                     \u001b[0mbounds\u001b[0m\u001b[0;34m=\u001b[0m\u001b[0mbounds\u001b[0m\u001b[0;34m.\u001b[0m\u001b[0mT\u001b[0m\u001b[0;34m,\u001b[0m \u001b[0mabs_step\u001b[0m\u001b[0;34m=\u001b[0m\u001b[0mstep\u001b[0m\u001b[0;34m,\u001b[0m\u001b[0;34m\u001b[0m\u001b[0;34m\u001b[0m\u001b[0m\n\u001b[0;32m-> 1558\u001b[0;31m                                     x_scale='jac', tied=tied, fixed=fixed)\n\u001b[0m\u001b[1;32m   1559\u001b[0m                 \u001b[0mparams\u001b[0m \u001b[0;34m=\u001b[0m \u001b[0mres\u001b[0m\u001b[0;34m.\u001b[0m\u001b[0mx\u001b[0m\u001b[0;34m\u001b[0m\u001b[0;34m\u001b[0m\u001b[0m\n\u001b[1;32m   1560\u001b[0m                 \u001b[0mperror\u001b[0m \u001b[0;34m=\u001b[0m \u001b[0mres\u001b[0m\u001b[0;34m.\u001b[0m\u001b[0mx_err\u001b[0m\u001b[0;34m\u001b[0m\u001b[0;34m\u001b[0m\u001b[0m\n",
      "\u001b[0;32m~/python/Modules/ppxf/capfit.py\u001b[0m in \u001b[0;36m__init__\u001b[0;34m(self, func, p1, abs_step, bounds, diff_step, fixed, ftol, max_nfev, tied, verbose, x_scale, xtol, args, kwargs)\u001b[0m\n\u001b[1;32m    114\u001b[0m         \u001b[0;31m# print(\"After self.call(func,p1)...\")\u001b[0m\u001b[0;34m\u001b[0m\u001b[0;34m\u001b[0m\u001b[0;34m\u001b[0m\u001b[0m\n\u001b[1;32m    115\u001b[0m         \u001b[0;32massert\u001b[0m \u001b[0mf1\u001b[0m\u001b[0;34m.\u001b[0m\u001b[0mndim\u001b[0m \u001b[0;34m==\u001b[0m \u001b[0;36m1\u001b[0m\u001b[0;34m,\u001b[0m \u001b[0;34m\"The fitting function must return a vector of residuals\"\u001b[0m\u001b[0;34m\u001b[0m\u001b[0;34m\u001b[0m\u001b[0m\n\u001b[0;32m--> 116\u001b[0;31m         \u001b[0mJ1\u001b[0m \u001b[0;34m=\u001b[0m \u001b[0mself\u001b[0m\u001b[0;34m.\u001b[0m\u001b[0mfdjac\u001b[0m\u001b[0;34m(\u001b[0m\u001b[0mfunc\u001b[0m\u001b[0;34m,\u001b[0m \u001b[0mp1\u001b[0m\u001b[0;34m,\u001b[0m \u001b[0mf1\u001b[0m\u001b[0;34m)\u001b[0m\u001b[0;34m\u001b[0m\u001b[0;34m\u001b[0m\u001b[0m\n\u001b[0m\u001b[1;32m    117\u001b[0m         \u001b[0mdd\u001b[0m \u001b[0;34m=\u001b[0m \u001b[0mlinalg\u001b[0m\u001b[0;34m.\u001b[0m\u001b[0mnorm\u001b[0m\u001b[0;34m(\u001b[0m\u001b[0mJ1\u001b[0m\u001b[0;34m,\u001b[0m \u001b[0maxis\u001b[0m\u001b[0;34m=\u001b[0m\u001b[0;36m0\u001b[0m\u001b[0;34m)\u001b[0m\u001b[0;34m\u001b[0m\u001b[0;34m\u001b[0m\u001b[0m\n\u001b[1;32m    118\u001b[0m         \u001b[0mmx\u001b[0m \u001b[0;34m=\u001b[0m \u001b[0mnp\u001b[0m\u001b[0;34m.\u001b[0m\u001b[0mmax\u001b[0m\u001b[0;34m(\u001b[0m\u001b[0mdd\u001b[0m\u001b[0;34m)\u001b[0m\u001b[0;34m\u001b[0m\u001b[0;34m\u001b[0m\u001b[0m\n",
      "\u001b[0;32m~/python/Modules/ppxf/capfit.py\u001b[0m in \u001b[0;36mfdjac\u001b[0;34m(self, func, pars, f)\u001b[0m\n\u001b[1;32m    190\u001b[0m             \u001b[0mpars1\u001b[0m \u001b[0;34m=\u001b[0m \u001b[0mpars\u001b[0m\u001b[0;34m.\u001b[0m\u001b[0mcopy\u001b[0m\u001b[0;34m(\u001b[0m\u001b[0;34m)\u001b[0m\u001b[0;34m\u001b[0m\u001b[0;34m\u001b[0m\u001b[0m\n\u001b[1;32m    191\u001b[0m             \u001b[0mpars1\u001b[0m\u001b[0;34m[\u001b[0m\u001b[0mj\u001b[0m\u001b[0;34m]\u001b[0m \u001b[0;34m+=\u001b[0m \u001b[0mh\u001b[0m\u001b[0;34m[\u001b[0m\u001b[0mj\u001b[0m\u001b[0;34m]\u001b[0m\u001b[0;34m\u001b[0m\u001b[0;34m\u001b[0m\u001b[0m\n\u001b[0;32m--> 192\u001b[0;31m             \u001b[0mf1\u001b[0m \u001b[0;34m=\u001b[0m \u001b[0mself\u001b[0m\u001b[0;34m.\u001b[0m\u001b[0mcall\u001b[0m\u001b[0;34m(\u001b[0m\u001b[0mfunc\u001b[0m\u001b[0;34m,\u001b[0m \u001b[0mpars1\u001b[0m\u001b[0;34m)\u001b[0m\u001b[0;34m\u001b[0m\u001b[0;34m\u001b[0m\u001b[0m\n\u001b[0m\u001b[1;32m    193\u001b[0m             \u001b[0mjac\u001b[0m\u001b[0;34m[\u001b[0m\u001b[0;34m:\u001b[0m\u001b[0;34m,\u001b[0m \u001b[0mj\u001b[0m\u001b[0;34m]\u001b[0m \u001b[0;34m=\u001b[0m \u001b[0;34m(\u001b[0m\u001b[0mf1\u001b[0m \u001b[0;34m-\u001b[0m \u001b[0mf\u001b[0m\u001b[0;34m)\u001b[0m\u001b[0;34m/\u001b[0m\u001b[0mh\u001b[0m\u001b[0;34m[\u001b[0m\u001b[0mj\u001b[0m\u001b[0;34m]\u001b[0m\u001b[0;34m\u001b[0m\u001b[0;34m\u001b[0m\u001b[0m\n\u001b[1;32m    194\u001b[0m \u001b[0;34m\u001b[0m\u001b[0m\n",
      "\u001b[0;32m~/python/Modules/ppxf/capfit.py\u001b[0m in \u001b[0;36mcall\u001b[0;34m(self, func, p)\u001b[0m\n\u001b[1;32m    203\u001b[0m         \u001b[0;32mfor\u001b[0m \u001b[0mj\u001b[0m \u001b[0;32min\u001b[0m \u001b[0mw\u001b[0m\u001b[0;34m:\u001b[0m   \u001b[0;31m# loop can be empty\u001b[0m\u001b[0;34m\u001b[0m\u001b[0;34m\u001b[0m\u001b[0m\n\u001b[1;32m    204\u001b[0m             \u001b[0mexec\u001b[0m\u001b[0;34m(\u001b[0m\u001b[0;34m'p['\u001b[0m \u001b[0;34m+\u001b[0m \u001b[0mstr\u001b[0m\u001b[0;34m(\u001b[0m\u001b[0mj\u001b[0m\u001b[0;34m)\u001b[0m \u001b[0;34m+\u001b[0m \u001b[0;34m']='\u001b[0m \u001b[0;34m+\u001b[0m \u001b[0mself\u001b[0m\u001b[0;34m.\u001b[0m\u001b[0mtied\u001b[0m\u001b[0;34m[\u001b[0m\u001b[0mj\u001b[0m\u001b[0;34m]\u001b[0m\u001b[0;34m)\u001b[0m\u001b[0;34m\u001b[0m\u001b[0;34m\u001b[0m\u001b[0m\n\u001b[0;32m--> 205\u001b[0;31m         \u001b[0mresid\u001b[0m \u001b[0;34m=\u001b[0m \u001b[0mfunc\u001b[0m\u001b[0;34m(\u001b[0m\u001b[0mp\u001b[0m\u001b[0;34m,\u001b[0m \u001b[0;34m*\u001b[0m\u001b[0mself\u001b[0m\u001b[0;34m.\u001b[0m\u001b[0margs\u001b[0m\u001b[0;34m,\u001b[0m \u001b[0;34m**\u001b[0m\u001b[0mself\u001b[0m\u001b[0;34m.\u001b[0m\u001b[0mkwargs\u001b[0m\u001b[0;34m)\u001b[0m\u001b[0;34m\u001b[0m\u001b[0;34m\u001b[0m\u001b[0m\n\u001b[0m\u001b[1;32m    206\u001b[0m \u001b[0;34m\u001b[0m\u001b[0m\n\u001b[1;32m    207\u001b[0m         \u001b[0;32mreturn\u001b[0m \u001b[0mresid\u001b[0m\u001b[0;34m\u001b[0m\u001b[0;34m\u001b[0m\u001b[0m\n",
      "\u001b[0;32m~/python/Modules/ppxf/ppxf.py\u001b[0m in \u001b[0;36mlinear_fit\u001b[0;34m(self, pars)\u001b[0m\n\u001b[1;32m   1714\u001b[0m                 \u001b[0mbb\u001b[0m \u001b[0;34m=\u001b[0m \u001b[0mb\u001b[0m\u001b[0;34m[\u001b[0m\u001b[0mself\u001b[0m\u001b[0;34m.\u001b[0m\u001b[0mgoodpixels\u001b[0m\u001b[0;34m]\u001b[0m\u001b[0;34m\u001b[0m\u001b[0;34m\u001b[0m\u001b[0m\n\u001b[1;32m   1715\u001b[0m \u001b[0;34m\u001b[0m\u001b[0m\n\u001b[0;32m-> 1716\u001b[0;31m             \u001b[0mself\u001b[0m\u001b[0;34m.\u001b[0m\u001b[0mweights\u001b[0m \u001b[0;34m=\u001b[0m \u001b[0mbvls_solve\u001b[0m\u001b[0;34m(\u001b[0m\u001b[0maa\u001b[0m\u001b[0;34m,\u001b[0m \u001b[0mbb\u001b[0m\u001b[0;34m,\u001b[0m \u001b[0mnpoly\u001b[0m\u001b[0;34m)\u001b[0m\u001b[0;34m\u001b[0m\u001b[0;34m\u001b[0m\u001b[0m\n\u001b[0m\u001b[1;32m   1717\u001b[0m \u001b[0;34m\u001b[0m\u001b[0m\n\u001b[1;32m   1718\u001b[0m             \u001b[0;31m# print(\"Before calculating dot product, m = {:}\".format(m))\u001b[0m\u001b[0;34m\u001b[0m\u001b[0;34m\u001b[0m\u001b[0;34m\u001b[0m\u001b[0m\n",
      "\u001b[0;32m~/python/Modules/ppxf/ppxf.py\u001b[0m in \u001b[0;36mbvls_solve\u001b[0;34m(A, b, npoly)\u001b[0m\n\u001b[1;32m   1092\u001b[0m         \u001b[0msoluz\u001b[0m \u001b[0;34m=\u001b[0m \u001b[0mlinalg\u001b[0m\u001b[0;34m.\u001b[0m\u001b[0mlstsq\u001b[0m\u001b[0;34m(\u001b[0m\u001b[0mA\u001b[0m\u001b[0;34m,\u001b[0m \u001b[0mb\u001b[0m\u001b[0;34m)\u001b[0m\u001b[0;34m[\u001b[0m\u001b[0;36m0\u001b[0m\u001b[0;34m]\u001b[0m\u001b[0;34m\u001b[0m\u001b[0;34m\u001b[0m\u001b[0m\n\u001b[1;32m   1093\u001b[0m     \u001b[0;32melse\u001b[0m\u001b[0;34m:\u001b[0m                       \u001b[0;31m# Fitting multiple templates\u001b[0m\u001b[0;34m\u001b[0m\u001b[0;34m\u001b[0m\u001b[0m\n\u001b[0;32m-> 1094\u001b[0;31m         \u001b[0msoluz\u001b[0m \u001b[0;34m=\u001b[0m \u001b[0mnnls_flags\u001b[0m\u001b[0;34m(\u001b[0m\u001b[0mA\u001b[0m\u001b[0;34m,\u001b[0m \u001b[0mb\u001b[0m\u001b[0;34m,\u001b[0m \u001b[0mnpoly\u001b[0m\u001b[0;34m)\u001b[0m\u001b[0;34m\u001b[0m\u001b[0;34m\u001b[0m\u001b[0m\n\u001b[0m\u001b[1;32m   1095\u001b[0m \u001b[0;34m\u001b[0m\u001b[0m\n\u001b[1;32m   1096\u001b[0m     \u001b[0;32mreturn\u001b[0m \u001b[0msoluz\u001b[0m\u001b[0;34m\u001b[0m\u001b[0;34m\u001b[0m\u001b[0m\n",
      "\u001b[0;32m~/python/Modules/ppxf/ppxf.py\u001b[0m in \u001b[0;36mnnls_flags\u001b[0;34m(A, b, npoly)\u001b[0m\n\u001b[1;32m   1013\u001b[0m     \u001b[0mm\u001b[0m\u001b[0;34m,\u001b[0m \u001b[0mn\u001b[0m \u001b[0;34m=\u001b[0m \u001b[0mA\u001b[0m\u001b[0;34m.\u001b[0m\u001b[0mshape\u001b[0m\u001b[0;34m\u001b[0m\u001b[0;34m\u001b[0m\u001b[0m\n\u001b[1;32m   1014\u001b[0m     \u001b[0mAA\u001b[0m \u001b[0;34m=\u001b[0m \u001b[0mnp\u001b[0m\u001b[0;34m.\u001b[0m\u001b[0mhstack\u001b[0m\u001b[0;34m(\u001b[0m\u001b[0;34m[\u001b[0m\u001b[0mA\u001b[0m\u001b[0;34m,\u001b[0m \u001b[0;34m-\u001b[0m\u001b[0mA\u001b[0m\u001b[0;34m[\u001b[0m\u001b[0;34m:\u001b[0m\u001b[0;34m,\u001b[0m \u001b[0;34m:\u001b[0m\u001b[0mnpoly\u001b[0m\u001b[0;34m]\u001b[0m\u001b[0;34m]\u001b[0m\u001b[0;34m)\u001b[0m\u001b[0;34m\u001b[0m\u001b[0;34m\u001b[0m\u001b[0m\n\u001b[0;32m-> 1015\u001b[0;31m     \u001b[0mx\u001b[0m \u001b[0;34m=\u001b[0m \u001b[0moptimize\u001b[0m\u001b[0;34m.\u001b[0m\u001b[0mnnls\u001b[0m\u001b[0;34m(\u001b[0m\u001b[0mAA\u001b[0m\u001b[0;34m,\u001b[0m \u001b[0mb\u001b[0m\u001b[0;34m)\u001b[0m\u001b[0;34m[\u001b[0m\u001b[0;36m0\u001b[0m\u001b[0;34m]\u001b[0m\u001b[0;34m\u001b[0m\u001b[0;34m\u001b[0m\u001b[0m\n\u001b[0m\u001b[1;32m   1016\u001b[0m     \u001b[0mx\u001b[0m\u001b[0;34m[\u001b[0m\u001b[0;34m:\u001b[0m\u001b[0mnpoly\u001b[0m\u001b[0;34m]\u001b[0m \u001b[0;34m-=\u001b[0m \u001b[0mx\u001b[0m\u001b[0;34m[\u001b[0m\u001b[0mn\u001b[0m\u001b[0;34m:\u001b[0m\u001b[0;34m]\u001b[0m\u001b[0;34m\u001b[0m\u001b[0;34m\u001b[0m\u001b[0m\n\u001b[1;32m   1017\u001b[0m \u001b[0;34m\u001b[0m\u001b[0m\n",
      "\u001b[0;32m/pkg/linux/anaconda-20191122/anaconda3/lib/python3.7/site-packages/scipy/optimize/nnls.py\u001b[0m in \u001b[0;36mnnls\u001b[0;34m(A, b, maxiter)\u001b[0m\n\u001b[1;32m     59\u001b[0m     \u001b[0mindex\u001b[0m \u001b[0;34m=\u001b[0m \u001b[0mzeros\u001b[0m\u001b[0;34m(\u001b[0m\u001b[0;34m(\u001b[0m\u001b[0mn\u001b[0m\u001b[0;34m,\u001b[0m\u001b[0;34m)\u001b[0m\u001b[0;34m,\u001b[0m \u001b[0mdtype\u001b[0m\u001b[0;34m=\u001b[0m\u001b[0mint\u001b[0m\u001b[0;34m)\u001b[0m\u001b[0;34m\u001b[0m\u001b[0;34m\u001b[0m\u001b[0m\n\u001b[1;32m     60\u001b[0m \u001b[0;34m\u001b[0m\u001b[0m\n\u001b[0;32m---> 61\u001b[0;31m     \u001b[0mx\u001b[0m\u001b[0;34m,\u001b[0m \u001b[0mrnorm\u001b[0m\u001b[0;34m,\u001b[0m \u001b[0mmode\u001b[0m \u001b[0;34m=\u001b[0m \u001b[0m_nnls\u001b[0m\u001b[0;34m.\u001b[0m\u001b[0mnnls\u001b[0m\u001b[0;34m(\u001b[0m\u001b[0mA\u001b[0m\u001b[0;34m,\u001b[0m \u001b[0mm\u001b[0m\u001b[0;34m,\u001b[0m \u001b[0mn\u001b[0m\u001b[0;34m,\u001b[0m \u001b[0mb\u001b[0m\u001b[0;34m,\u001b[0m \u001b[0mw\u001b[0m\u001b[0;34m,\u001b[0m \u001b[0mzz\u001b[0m\u001b[0;34m,\u001b[0m \u001b[0mindex\u001b[0m\u001b[0;34m,\u001b[0m \u001b[0mmaxiter\u001b[0m\u001b[0;34m)\u001b[0m\u001b[0;34m\u001b[0m\u001b[0;34m\u001b[0m\u001b[0m\n\u001b[0m\u001b[1;32m     62\u001b[0m     \u001b[0;32mif\u001b[0m \u001b[0mmode\u001b[0m \u001b[0;34m!=\u001b[0m \u001b[0;36m1\u001b[0m\u001b[0;34m:\u001b[0m\u001b[0;34m\u001b[0m\u001b[0;34m\u001b[0m\u001b[0m\n\u001b[1;32m     63\u001b[0m         \u001b[0;32mraise\u001b[0m \u001b[0mRuntimeError\u001b[0m\u001b[0;34m(\u001b[0m\u001b[0;34m\"too many iterations\"\u001b[0m\u001b[0;34m)\u001b[0m\u001b[0;34m\u001b[0m\u001b[0;34m\u001b[0m\u001b[0m\n",
      "\u001b[0;31mKeyboardInterrupt\u001b[0m: "
     ]
    }
   ],
   "source": [
    "# Run ppxf with a fixed regul value\n",
    "pp_list = []\n",
    "for regul in tqdm(regul_vals):\n",
    "    pp = run_ppxf(spec=spec, spec_err=spec_err, lambda_vals_A=lambda_vals_A,\n",
    "                  z=z, ngascomponents=1, mdegree=4, reddening=None,\n",
    "                  regularisation_method=\"none\", regul=regul,\n",
    "                  fit_agn_cont=False,\n",
    "                  isochrones=isochrones,\n",
    "                  fit_gas=False, tie_balmer=True,\n",
    "                  plotit=False, savefigs=False, interactive_mode=False)\n",
    "    pp_list.append(pp)\n"
   ]
  },
  {
   "cell_type": "code",
   "execution_count": 21,
   "metadata": {},
   "outputs": [],
   "source": [
    "###########################################################################\n",
    "# Helper function for running MC simulations\n",
    "###########################################################################\n",
    "def ppxf_helper(regul):\n",
    "    # Run ppxf\n",
    "    pp = run_ppxf(spec=spec, spec_err=spec_err, lambda_vals_A=lambda_vals_A,\n",
    "                  z=z, ngascomponents=1, mdegree=4, reddening=None,\n",
    "                  regularisation_method=\"none\", regul=regul, \n",
    "                  fit_agn_cont=False,\n",
    "                  isochrones=\"Padova\",\n",
    "                  fit_gas=False, tie_balmer=True,\n",
    "                  plotit=False, savefigs=False, interactive_mode=False)\n",
    "    return pp\n"
   ]
  },
  {
   "cell_type": "code",
   "execution_count": 57,
   "metadata": {},
   "outputs": [
    {
     "name": "stdout",
     "output_type": "stream",
     "text": [
      "Running ppxf on 8 threads...\n"
     ]
    },
    {
     "data": {
      "application/vnd.jupyter.widget-view+json": {
       "model_id": "676e6f573eb04f2995db67cb75403761",
       "version_major": 2,
       "version_minor": 0
      },
      "text/plain": [
       "HBox(children=(IntProgress(value=0, max=9), HTML(value='')))"
      ]
     },
     "metadata": {},
     "output_type": "display_data"
    },
    {
     "name": "stdout",
     "output_type": "stream",
     "text": [
      "\n",
      "Total time in ppxf: 35.59 s\n"
     ]
    }
   ],
   "source": [
    "# Input arguments\n",
    "regul_vals = np.logspace(-1, 7, 9)\n",
    "regul_vals[0] = 0\n",
    "args_list = regul_vals\n",
    "\n",
    "# Run in parallel\n",
    "print(f\"Running ppxf on {nthreads} threads...\")\n",
    "t = time()\n",
    "nthreads = len(regul_vals)\n",
    "niters = len(regul_vals)\n",
    "with multiprocessing.Pool(nthreads) as pool:\n",
    "    pp_list = list(tqdm(pool.imap(ppxf_helper, args_list), total=niters))\n",
    "print(f\"Total time in ppxf: {time() - t:.2f} s\")\n"
   ]
  },
  {
   "cell_type": "code",
   "execution_count": 58,
   "metadata": {},
   "outputs": [
    {
     "data": {
      "application/vnd.jupyter.widget-view+json": {
       "model_id": "81e512cda1d145daa7ea621c3dd13ace",
       "version_major": 2,
       "version_minor": 0
      },
      "text/plain": [
       "Canvas(toolbar=Toolbar(toolitems=[('Home', 'Reset original view', 'home', 'home'), ('Back', 'Back to previous …"
      ]
     },
     "metadata": {},
     "output_type": "display_data"
    }
   ],
   "source": [
    "# We're only really interested in the convergence of the solution (not with how accurate it is)\n",
    "# So just plot the 1D SFH\n",
    "fig = plt.figure(figsize=(10, 3.5))\n",
    "ax = fig.add_axes([0.1, 0.25, 0.8, 0.65])\n",
    "\n",
    "# Plot the SFH\n",
    "cmap_regul = matplotlib.cm.get_cmap(\"Spectral\", len(regul_vals))\n",
    "for ii, pp in enumerate(pp_mc_list):\n",
    "    ax.step(pp.ages, np.log10(pp.sfh_mw_1D), where=\"mid\", color=cmap_regul(ii), label=f\"regul = {pp.regul}\")   \n",
    "\n",
    "# Decorations\n",
    "ax.set_ylabel(r\"Stellar mass ($\\rm M_\\odot$)\")\n",
    "ax.set_xlabel(\"Age (yr)\")\n",
    "ax.set_xscale(\"log\")\n",
    "ax.grid()\n",
    "ax.legend(fontsize=\"small\")\n",
    "ax.autoscale(axis=\"x\", tight=True, enable=True)"
   ]
  },
  {
   "cell_type": "code",
   "execution_count": 59,
   "metadata": {},
   "outputs": [
    {
     "data": {
      "application/vnd.jupyter.widget-view+json": {
       "model_id": "6fc0bbe4919c462e8678de0130d9b827",
       "version_major": 2,
       "version_minor": 0
      },
      "text/plain": [
       "Canvas(toolbar=Toolbar(toolitems=[('Home', 'Reset original view', 'home', 'home'), ('Back', 'Back to previous …"
      ]
     },
     "metadata": {},
     "output_type": "display_data"
    }
   ],
   "source": [
    "# Plot the sum of the absolute difference in the SFH (in M_sun) expressed as a % of the total stellar mass \n",
    "delta_M = np.array([np.nansum(np.abs(pp_list[ii].sfh_mw_1D - pp_list[ii - 1].sfh_mw_1D)) for ii in range(1, len(pp_list))])\n",
    "M_tot_vals = np.array([np.nansum(pp.sfh_mw_1D) for pp in pp_list])\n",
    "\n",
    "fig, ax = plt.subplots(figsize=(10, 5))\n",
    "ax.plot(regul_vals[1:], delta_M / M_tot_vals[1:], marker=\"D\")\n",
    "ax.grid()\n",
    "ax.set_xlabel(\"regul\")\n",
    "ax.set_ylabel(r\"$|\\Delta M|/M_{\\rm tot} \\,\\rm (M_\\odot)$\")\n",
    "ax.set_xscale(\"log\")\n",
    "ax.set_yscale(\"log\")\n"
   ]
  },
  {
   "cell_type": "code",
   "execution_count": 60,
   "metadata": {},
   "outputs": [
    {
     "data": {
      "application/vnd.jupyter.widget-view+json": {
       "model_id": "ec65bce579b841b2a5ea2cd049782fb3",
       "version_major": 2,
       "version_minor": 0
      },
      "text/plain": [
       "Canvas(toolbar=Toolbar(toolitems=[('Home', 'Reset original view', 'home', 'home'), ('Back', 'Back to previous …"
      ]
     },
     "metadata": {},
     "output_type": "display_data"
    },
    {
     "data": {
      "text/plain": [
       "<matplotlib.legend.Legend at 0x7fa4727f2510>"
      ]
     },
     "execution_count": 60,
     "metadata": {},
     "output_type": "execute_result"
    }
   ],
   "source": [
    "# How much does the mass/light-weighted age change as a function of regul?\n",
    "age_thresh = 1e9\n",
    "log_mw_age_list = [compute_mw_age(pp.sfh_mw_1D, isochrones, age_thresh_upper=age_thresh)[0] for pp in pp_list]\n",
    "log_lw_age_list = [compute_lw_age(pp.sfh_lw_1D, isochrones, age_thresh_upper=age_thresh)[0] for pp in pp_list]\n",
    "\n",
    "fig, ax = plt.subplots(figsize=(10, 5))\n",
    "ax.plot(regul_vals, log_mw_age_list, marker=\"D\", label=f\"Mass-weighted age (< {age_thresh / 1e6:.1f} Myr)\")\n",
    "ax.plot(regul_vals, log_lw_age_list, marker=\"D\", label=f\"Light-weighted age (< {age_thresh / 1e6:.1f} Myr)\")\n",
    "ax.grid()\n",
    "ax.set_xlabel(\"regul\")\n",
    "ax.set_ylabel(\"Mean age\")\n",
    "ax.set_xscale(\"log\")\n",
    "ax.legend()\n",
    "\n"
   ]
  },
  {
   "cell_type": "markdown",
   "metadata": {},
   "source": [
    "### Remarks \n",
    "---\n",
    "The MW/LW mean age and the SFH actually continue to change beyond our previously assumed cutoff-value of 5e4. **We therefore need to increase the maximum regularsiation parameter.** "
   ]
  },
  {
   "cell_type": "markdown",
   "metadata": {},
   "source": [
    "## How small does $\\Delta \\chi^2 - \\Delta \\chi^2_{\\rm ideal}$ need to be to achieve a satisfactory level of convergence?\n",
    "---\n",
    "2 things to test here:\n",
    "* how much does the optimal value of `regul` change between identical runs? Run ppxf w/ automatic regularisation & compare the SFHs and other derived parameters between runs. This will tell us whether or not we need to re-run ppxf multiple times (like an MC simulation) to get reliable results. \n",
    "* how much do the results change for $\\Delta \\chi^2 - \\Delta \\chi^2_{\\rm ideal} < 1$ vs. $\\Delta \\chi^2 - \\Delta \\chi^2_{\\rm ideal} = 10$? If it's not a big difference then we can revise `delta_regul_min`."
   ]
  },
  {
   "cell_type": "code",
   "execution_count": null,
   "metadata": {},
   "outputs": [],
   "source": [
    "########################################################################\n",
    "# How much does the optimal value of regul change between runs?\n",
    "########################################################################\n",
    "pp_opt_list = []\n",
    "for ii in range(10):\n",
    "    pp_opt = run_ppxf(spec=spec, spec_err=spec_err, lambda_vals_A=lambda_vals_A,\n",
    "                      z=z, ngascomponents=1, mdegree=-1, reddening=None,\n",
    "                      regularisation_method=\"auto\", regul_start=1.5e4, regul_max=10e4,\n",
    "                      fit_agn_cont=False, fit_gas=False, tie_balmer=False,\n",
    "                      isochrones=\"Padova\")\n",
    "    pp_opt_list.append(pp_opt)"
   ]
  },
  {
   "cell_type": "code",
   "execution_count": null,
   "metadata": {
    "scrolled": true
   },
   "outputs": [
    {
     "name": "stdout",
     "output_type": "stream",
     "text": [
      "----------------------------------------------------\n",
      "Iteration 0: Elapsed time in PPXF (single thread): 7.04 s\n",
      "----------------------------------------------------\n",
      "Iteration 1: Scaling noise by 1.3566...\n",
      "Iteration 1: Regularisation parameter range: 15000.0-25000.0 (n = 21)\n",
      "Iteration 1: Running ppxf on 20 threads...\n"
     ]
    }
   ],
   "source": [
    "########################################################################\n",
    "# Print the regul value from each run\n",
    "########################################################################\n",
    "for ii, pp in enumerate(pp_opt_list):\n",
    "    print(f\"Iteration {ii}: Delta-delta-chi2 = {pp.delta_delta_chi2:.4f}, regul_opt = {pp.regul:.1f}\")\n",
    "\n",
    "########################################################################\n",
    "# How much does the SFH change?\n",
    "########################################################################\n",
    "fig = plt.figure(figsize=(10, 3.5))\n",
    "ax = fig.add_axes([0.1, 0.25, 0.8, 0.65])\n",
    "\n",
    "# Plot the SFH\n",
    "cmap_regul = matplotlib.cm.get_cmap(\"Spectral\", len(pp_opt_list))\n",
    "for ii, pp in enumerate(pp_opt_list):\n",
    "    ax.step(pp.ages, np.log10(pp.sfh_mw_1D), where=\"mid\", color=cmap_regul(ii), label=f\"regul = {pp.regul}\")   \n",
    "\n",
    "# Decorations\n",
    "ax.set_ylabel(r\"Log stellar mass ($\\rm \\log_{10}\\, M_\\odot$)\")\n",
    "ax.set_xlabel(\"Age (yr)\")\n",
    "ax.set_xscale(\"log\")\n",
    "ax.grid()\n",
    "ax.legend(fontsize=\"small\")\n",
    "ax.autoscale(axis=\"x\", tight=True, enable=True)\n",
    "\n",
    "########################################################################\n",
    "# How much does the LW/MW age change?\n",
    "########################################################################\n",
    "age_thresh = 1e9\n",
    "log_mw_age_list = [compute_mw_age(pp.sfh_mw_1D, isochrones, age_thresh_upper=age_thresh)[0] for pp in pp_opt_list]\n",
    "log_lw_age_list = [compute_lw_age(pp.sfh_lw_1D, isochrones, age_thresh_upper=age_thresh)[0] for pp in pp_opt_list]\n",
    "\n",
    "fig, ax = plt.subplots(figsize=(10, 5))\n",
    "ax.plot(range(len(pp_opt_list)), log_mw_age_list, marker=\"D\", label=f\"Mass-weighted age (< {age_thresh / 1e6:.1f} Myr)\")\n",
    "ax.plot(range(len(pp_opt_list)), log_lw_age_list, marker=\"D\", label=f\"Light-weighted age (< {age_thresh / 1e6:.1f} Myr)\")\n",
    "ax.grid()\n",
    "ax.set_xlabel(\"Iteration\")\n",
    "ax.set_ylabel(\"Mean age\")\n",
    "ax.set_xscale(\"log\")\n",
    "ax.legend()"
   ]
  },
  {
   "cell_type": "code",
   "execution_count": 89,
   "metadata": {},
   "outputs": [
    {
     "name": "stdout",
     "output_type": "stream",
     "text": [
      "----------------------------------------------------\n",
      "Iteration 0: Elapsed time in PPXF (single thread): 1.69 s\n",
      "Iteration 1: Scaling noise by 1.3533...\n",
      "Best Fit:       Vel     sigma\n",
      " comp. 0:        14       117\n",
      "chi2/DOF: 1.021\n",
      "method = capfit ; Jac calls: 3 ; Func calls: 11 ; Status: 4\n",
      "Nonzero Templates:  204  /  222\n",
      "----------------------------------------------------\n",
      "Desired Delta Chi^2: 95.08\n",
      "Current Delta Chi^2: 97.18\n",
      "Delta-Delta Chi^2: 2.1\n",
      "----------------------------------------------------\n",
      "Elapsed time in PPXF: 6.57 s\n"
     ]
    }
   ],
   "source": [
    "################################################################################################\n",
    "# How much do the SFH, mean age etc. change in a small window around the optimal regul value?\n",
    "################################################################################################\n",
    "\n",
    "# Galaxy 10: regl = 5e4 has a reasonably small delta-delta chi2\n",
    "# for regul in [5e4 - 100, 5e4, 5e4 + 100]\n",
    "pp = run_ppxf(spec=spec, spec_err=spec_err, lambda_vals_A=lambda_vals_A,\n",
    "              z=z, ngascomponents=1, mdegree=-1, reddening=None,\n",
    "              regularisation_method=\"fixed\", regul_fixed=1.4e4, \n",
    "              fit_agn_cont=False, fit_gas=False, tie_balmer=True,\n",
    "              isochrones=\"Padova\")\n"
   ]
  },
  {
   "cell_type": "code",
   "execution_count": 90,
   "metadata": {},
   "outputs": [
    {
     "data": {
      "text/plain": [
       "2.1003604580024557"
      ]
     },
     "execution_count": 90,
     "metadata": {},
     "output_type": "execute_result"
    }
   ],
   "source": [
    "pp.delta_delta_chi2"
   ]
  },
  {
   "cell_type": "code",
   "execution_count": 92,
   "metadata": {},
   "outputs": [
    {
     "data": {
      "text/plain": [
       "95.0789145920377"
      ]
     },
     "execution_count": 92,
     "metadata": {},
     "output_type": "execute_result"
    }
   ],
   "source": []
  },
  {
   "cell_type": "code",
   "execution_count": null,
   "metadata": {},
   "outputs": [],
   "source": []
  }
 ],
 "metadata": {
  "kernelspec": {
   "display_name": "Python 3",
   "language": "python",
   "name": "python3"
  },
  "language_info": {
   "codemirror_mode": {
    "name": "ipython",
    "version": 3
   },
   "file_extension": ".py",
   "mimetype": "text/x-python",
   "name": "python",
   "nbconvert_exporter": "python",
   "pygments_lexer": "ipython3",
   "version": "3.7.4"
  }
 },
 "nbformat": 4,
 "nbformat_minor": 2
}
