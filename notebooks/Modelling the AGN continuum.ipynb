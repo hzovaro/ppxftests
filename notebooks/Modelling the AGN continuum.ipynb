{
 "cells": [
  {
   "cell_type": "markdown",
   "metadata": {},
   "source": [
    "# Modelling the AGN continuum\n",
    "---\n"
   ]
  },
  {
   "cell_type": "code",
   "execution_count": 1,
   "metadata": {},
   "outputs": [],
   "source": [
    "%matplotlib widget"
   ]
  },
  {
   "cell_type": "code",
   "execution_count": 2,
   "metadata": {},
   "outputs": [
    {
     "data": {
      "text/html": [
       "<style>.container { width:75% !important; }</style>"
      ],
      "text/plain": [
       "<IPython.core.display.HTML object>"
      ]
     },
     "metadata": {},
     "output_type": "display_data"
    },
    {
     "data": {
      "text/html": [
       "<style>.output_result { max-width:75% !important; }</style>"
      ],
      "text/plain": [
       "<IPython.core.display.HTML object>"
      ]
     },
     "metadata": {},
     "output_type": "display_data"
    }
   ],
   "source": [
    "from IPython.core.display import display, HTML\n",
    "display(HTML(\"<style>.container { width:75% !important; }</style>\"))\n",
    "display(HTML(\"<style>.output_result { max-width:75% !important; }</style>\"))"
   ]
  },
  {
   "cell_type": "code",
   "execution_count": 4,
   "metadata": {},
   "outputs": [],
   "source": [
    "import os\n",
    "import numpy as np\n",
    "from numpy.random import RandomState\n",
    "from time import time \n",
    "from tqdm.notebook import tqdm\n",
    "from itertools import product\n",
    "import multiprocessing\n",
    "import pandas as pd\n",
    "import extinction\n",
    "\n",
    "from astropy.io import fits\n",
    "\n",
    "from ppxftests.run_ppxf import run_ppxf\n",
    "from ppxftests.ssputils import load_ssp_templates, get_bin_edges_and_widths\n",
    "from ppxftests.mockspec import create_mock_spectrum\n",
    "from ppxftests.sfhutils import load_sfh, compute_mw_age, compute_lw_age, compute_cumulative_mass, compute_cumulative_light\n",
    "from ppxftests.sfhutils import compute_mean_age, compute_mean_mass, compute_mean_sfr, compute_mean_1D_sfh\n",
    "from ppxftests.ppxf_plot import plot_sfh_mass_weighted, plot_sfh_light_weighted, ppxf_plot\n",
    "\n",
    "import matplotlib\n",
    "import matplotlib.pyplot as plt\n",
    "from matplotlib.backends.backend_pdf import PdfPages\n",
    "plt.ion()\n",
    "plt.close(\"all\")\n",
    "\n",
    "from IPython.core.debugger import Tracer\n",
    "\n",
    "fig_path = \"/priv/meggs3/u5708159/ppxftests/figs/\"\n",
    "data_path = \"/priv/meggs3/u5708159/ppxftests/\"\n"
   ]
  },
  {
   "cell_type": "markdown",
   "metadata": {},
   "source": [
    "### Defining the AGN continuum\n",
    "---\n",
    "In this work, we approximate the AGN continuum as a simple power law,\n",
    "\n",
    "$$F_{\\rm AGN}(\\lambda) = F_0 \\lambda^{-\\alpha_{\\lambda}}$$\n",
    "\n",
    "where the exponent $\\alpha_{\\lambda} = 2 -\\alpha_{\\nu}$ where $\\alpha_{\\nu}$ can range from 1.2 - 2.0 (Groves et al. 2004). \n",
    "\n",
    "To determine reasonable values for $F_0$, we use the tight correlation between the total H$\\beta$ luminosity, $L_{\\rm H\\beta}$, and $L_{\\rm NT}$, which is defined as the total luminosity of the AGN continuum between 3000 Å and 9500 Å (Neugebauer et al. 1979, Yee 1980), i.e.,\n",
    "\n",
    "$$L_{\\rm NT} = \\int^{9500\\,Å}_{3000\\,Å} F_{\\rm AGN}(\\lambda) d\\lambda \n",
    "= \\int^{9500\\,Å}_{3000\\,Å} F_0 \\lambda^{-\\alpha_{\\lambda}} d\\lambda \n",
    "= \\frac{F_0}{1 - \\alpha_\\lambda}\\left(9500^{1 - \\alpha_\\lambda} - 3000^{1 - \\alpha_\\lambda} \\right)$$\n",
    "\n",
    "where $F_{\\rm AGN}(\\lambda)$ is the AGN continuum. In a sample of AGN including quasars, broad & narrow-line radio galaxies and Seyfert 1 & 2 galaxies, Yee (1980) observed a tight correlation such that \n",
    "\n",
    "$$L_{\\rm NT} \\approx 80 L_{\\rm H\\beta}$$\n",
    "\n",
    "*Note: equation from [Peterson textbook. eqn. 5.53, p. 90](https://books.google.com.au/books?id=ok4EFlPMStwC&pg=PA90&lpg=PA90&dq=Lnt+agn+continuum&source=bl&ots=QfVvXob4vM&sig=ACfU3U0x69gKrkN-lALkIu0EROAUh1-1vw&hl=en&sa=X&ved=2ahUKEwjW_8fPvqv1AhWXTWwGHarhALcQ6AF6BAgXEAM#v=onepage&q=Lnt%20agn%20continuum&f=false).* \n",
    "Referring to table 2 of Dopita et al. (2015), $\\log_{10} L_{\\rm H\\beta} \\sim 39 - 42$ in the NLRs of S7 galaxies.\n",
    "We therefore use our adopted $L_{\\rm H\\beta}$ in the emission lines to constrain the strength of the AGN continuum in our mock spectra, so that \n",
    "\n",
    "$$ F_0 = \\frac{80 L_{\\rm H\\beta}({1 - \\alpha_\\lambda})}{\\left(9500^{1 - \\alpha_\\lambda} - 3000^{1 - \\alpha_\\lambda} \\right)} $$\n",
    "\n"
   ]
  },
  {
   "cell_type": "code",
   "execution_count": 7,
   "metadata": {
    "scrolled": false
   },
   "outputs": [
    {
     "data": {
      "application/vnd.jupyter.widget-view+json": {
       "model_id": "3b473cdab2bf4bca99777da3911ef916",
       "version_major": 2,
       "version_minor": 0
      },
      "text/plain": [
       "Canvas(toolbar=Toolbar(toolitems=[('Home', 'Reset original view', 'home', 'home'), ('Back', 'Back to previous …"
      ]
     },
     "metadata": {},
     "output_type": "display_data"
    },
    {
     "data": {
      "text/plain": [
       "Text(0.5, 1.0, 'AGN power-law continuum ($L_{\\\\rm NT} = 10^{41}\\\\,\\\\rm erg\\\\,s^{-1}$)')"
      ]
     },
     "execution_count": 7,
     "metadata": {},
     "output_type": "execute_result"
    }
   ],
   "source": [
    "###########################################################################\n",
    "# Defining the AGN continuum using the method of Yee 1980\n",
    "###########################################################################\n",
    "L_NT = 1e42\n",
    "\n",
    "fig, ax = plt.subplots(nrows=1, ncols=1, figsize=(10, 5))\n",
    "for alpha_nu in [0.5, 0.7, 1.1, 1.2, 1.3, 1.5, 1.7, 2.0]:\n",
    "    # Compute the continuum normalisation\n",
    "    alpha_lambda = 2 - alpha_nu\n",
    "    L_lambda_0 = L_NT * (1 - alpha_lambda) / (9500**(1 - alpha_lambda) - 3000**(1 - alpha_lambda))\n",
    "\n",
    "    # Compute the continuum\n",
    "    lambda_vals_A = np.linspace(3000, 9500, 1e3)\n",
    "    L_lambda = L_lambda_0 * lambda_vals_A**(-alpha_lambda)\n",
    "\n",
    "    ax.plot(lambda_vals_A, L_lambda, label=r\"$\\alpha_\\nu =$\" + f\"{alpha_nu:.1f}\")\n",
    "    ax.set_xlabel(\"$\\lambda$ (Å)\")\n",
    "    ax.set_ylabel(\"$F(\\lambda)$ (erg/s/Å)\")\n",
    "ax.autoscale(axis=\"x\", tight=True, enable=True)\n",
    "ax.legend()\n",
    "ax.axvline(3500, color=\"grey\")\n",
    "ax.axvline(7000, color=\"grey\")\n",
    "ax.set_title(r\"AGN power-law continuum ($L_{\\rm NT} = 10^{41}\\,\\rm erg\\,s^{-1}$)\")\n",
    "\n"
   ]
  },
  {
   "cell_type": "code",
   "execution_count": 8,
   "metadata": {
    "scrolled": true
   },
   "outputs": [
    {
     "data": {
      "application/vnd.jupyter.widget-view+json": {
       "model_id": "7684ce633a8945f291dfa04905b8d608",
       "version_major": 2,
       "version_minor": 0
      },
      "text/plain": [
       "Canvas(toolbar=Toolbar(toolitems=[('Home', 'Reset original view', 'home', 'home'), ('Back', 'Back to previous …"
      ]
     },
     "metadata": {},
     "output_type": "display_data"
    },
    {
     "data": {
      "text/plain": [
       "Text(0.5, 1.0, 'AGN power-law continuum ($L(\\\\rm [O\\\\,III]) = 10^{40}\\\\,\\\\rm erg\\\\,s^{-1}$)')"
      ]
     },
     "execution_count": 8,
     "metadata": {},
     "output_type": "execute_result"
    }
   ],
   "source": [
    "###########################################################################\n",
    "# Defining the AGN continuum using the method of Heckman+2005\n",
    "###########################################################################\n",
    "L_OIII = 1e40  # erg s^-1 \n",
    "\n",
    "fig, ax = plt.subplots(nrows=1, ncols=1, figsize=(10, 5))\n",
    "for alpha_nu in [0.3, 0.5, 0.7, 1.1, 1.2, 1.3, 1.5, 1.7, 2.0]:\n",
    "    # Compute the continuum normalisation\n",
    "    alpha_lambda = 2 - alpha_nu\n",
    "    L_5000 = 320 / 5000 * L_OIII  # where L_5000 has units of erg s^-1 Å^-1\n",
    "    L_lambda_0 = L_5000 / 5000**(-alpha_lambda)\n",
    "\n",
    "    # Compute the continuum\n",
    "    lambda_vals_A = np.linspace(3000, 9500, 1e3)\n",
    "    L_lambda = L_lambda_0 * lambda_vals_A**(-alpha_lambda)\n",
    "\n",
    "    ax.plot(lambda_vals_A, L_lambda, label=r\"$\\alpha_\\nu =$\" + f\"{alpha_nu:.1f}\")\n",
    "    ax.set_xlabel(\"$\\lambda$ (Å)\")\n",
    "    ax.set_ylabel(\"$F(\\lambda)$ (erg/s/Å)\")\n",
    "ax.autoscale(axis=\"x\", tight=True, enable=True)\n",
    "ax.legend()\n",
    "ax.axvline(3500, color=\"grey\")\n",
    "ax.axvline(7000, color=\"grey\")\n",
    "ax.set_title(r\"AGN power-law continuum ($L(\\rm [O\\,III]) = 10^{40}\\,\\rm erg\\,s^{-1}$)\")\n",
    "\n"
   ]
  },
  {
   "cell_type": "code",
   "execution_count": 9,
   "metadata": {},
   "outputs": [],
   "source": [
    "plt.close(\"all\")"
   ]
  },
  {
   "cell_type": "code",
   "execution_count": 7,
   "metadata": {},
   "outputs": [
    {
     "name": "stderr",
     "output_type": "stream",
     "text": [
      "/pkg/linux/anaconda-20191122/anaconda3/lib/python3.7/site-packages/pandas/core/series.py:853: RuntimeWarning: divide by zero encountered in log10\n",
      "  result = getattr(ufunc, method)(*inputs, **kwargs)\n"
     ]
    }
   ],
   "source": [
    "###########################################################################\n",
    "# How do these values compare in the S7 sample?\n",
    "###########################################################################\n",
    "plt.close(\"all\")\n",
    "\n",
    "# Load DataFrame containing Hbeta and [O III] fluxes for the S7 sample\n",
    "df_s7 = pd.read_csv(\"/home/u5708159/python/Modules/ppxftests/s7_total_line_fluxes.csv\")\n",
    "df_s7 = df_s7.set_index(\"Unnamed: 0\")\n",
    "gals = df_s7.index.values\n",
    "\n",
    "# Compute nonthermal continuum parameters for both Yee 1980 and Heckman+2004\n",
    "df_s7[\"L_NT (Yee 1980)\"] = df_s7[\"L_HBETA (total)\"] * 80\n",
    "df_s7[\"L_lambda_5000 (Heckman+2004)\"] = df_s7[\"L_OIII5007 (total)\"] * 320 / 5000\n",
    "\n",
    "# Compute L_lambda_5000 for the Yee 1980 nonthermal continuum, so we can compare directly with Heckman+2004\n",
    "alpha_nu = 2.0\n",
    "alpha_lambda = 2 - alpha_nu\n",
    "F_lambda_0 = df_s7[\"L_NT (Yee 1980)\"] * (1 - alpha_lambda) / (9500**(1 - alpha_lambda) - 3000**(1 - alpha_lambda))\n",
    "df_s7[\"L_lambda_5000 (Yee 1980)\"] = F_lambda_0 * 5000**(-alpha_lambda)\n",
    "\n",
    "# Compute logs\n",
    "df_s7[\"log L_NT (Yee 1980)\"] = np.log10(df_s7[\"L_NT (Yee 1980)\"] )\n",
    "df_s7[\"log L_lambda_5000 (Yee 1980)\"] = np.log10(df_s7[\"L_lambda_5000 (Yee 1980)\"] )\n",
    "df_s7[\"log L_lambda_5000 (Heckman+2004)\"] = np.log10(df_s7[\"L_lambda_5000 (Heckman+2004)\"])"
   ]
  },
  {
   "cell_type": "code",
   "execution_count": 8,
   "metadata": {
    "scrolled": false
   },
   "outputs": [
    {
     "data": {
      "application/vnd.jupyter.widget-view+json": {
       "model_id": "eaa7bf8ba5af4be7922fa2e95ed033a9",
       "version_major": 2,
       "version_minor": 0
      },
      "text/plain": [
       "Canvas(toolbar=Toolbar(toolitems=[('Home', 'Reset original view', 'home', 'home'), ('Back', 'Back to previous …"
      ]
     },
     "metadata": {},
     "output_type": "display_data"
    },
    {
     "data": {
      "application/vnd.jupyter.widget-view+json": {
       "model_id": "a5575855502340d097a8fc647ab846bd",
       "version_major": 2,
       "version_minor": 0
      },
      "text/plain": [
       "Canvas(toolbar=Toolbar(toolitems=[('Home', 'Reset original view', 'home', 'home'), ('Back', 'Back to previous …"
      ]
     },
     "metadata": {},
     "output_type": "display_data"
    },
    {
     "data": {
      "application/vnd.jupyter.widget-view+json": {
       "model_id": "1176f45d5e904bb28d86432e92c25ad3",
       "version_major": 2,
       "version_minor": 0
      },
      "text/plain": [
       "Canvas(toolbar=Toolbar(toolitems=[('Home', 'Reset original view', 'home', 'home'), ('Back', 'Back to previous …"
      ]
     },
     "metadata": {},
     "output_type": "display_data"
    },
    {
     "data": {
      "text/plain": [
       "Text(0.5, 0, 'S7 galaxy #')"
      ]
     },
     "execution_count": 8,
     "metadata": {},
     "output_type": "execute_result"
    }
   ],
   "source": [
    "# Plot: [OIII] vs. Hbeta\n",
    "fig, ax = plt.subplots()\n",
    "ax.scatter(x=df_s7[\"log L_HBETA (total)\"], y=df_s7[\"log L_OIII5007 (total)\"])\n",
    "ax.plot([0, 50], [0, 50], \"k\")\n",
    "ax.set_xlim([37.5, 43])\n",
    "ax.set_ylim([37.5, 43])\n",
    "ax.set_xlabel(\"log L_HBETA (total)\")\n",
    "ax.set_ylabel(\"log L_OIII5007 (total)\")\n",
    "ax.grid()\n",
    "\n",
    "# Plot: L_lambda_5000 for both the Yee 1980 and Heckman+2005\n",
    "fig, ax = plt.subplots()\n",
    "ax.scatter(x=range(len(gals)), y=df_s7[\"log L_lambda_5000 (Yee 1980)\"].values, label=\"log L_lambda_5000 (Yee 1980)\")\n",
    "ax.scatter(x=range(len(gals)), y=df_s7[\"log L_lambda_5000 (Heckman+2004)\"].values, label=\"log L_lambda_5000 (Heckman+2004)\")\n",
    "ax.legend()\n",
    "ax.grid()\n",
    "ax.set_xlabel(\"S7 galaxy #\")\n",
    "\n",
    "# Plot: difference in L_lambda_5000 between the Yee 1980 and Heckman+2005\n",
    "fig, ax = plt.subplots()\n",
    "ax.scatter(x=range(len(gals)), y=df_s7[\"log L_lambda_5000 (Heckman+2004)\"].values - df_s7[\"log L_lambda_5000 (Yee 1980)\"].values, label=\"log L_lambda_5000 (Heckman+2004) - log L_lambda_5000 (Yee 1980)\")\n",
    "ax.axhline(0, color=\"k\")\n",
    "ax.legend()\n",
    "ax.grid()\n",
    "ax.set_xlabel(\"S7 galaxy #\")"
   ]
  },
  {
   "cell_type": "code",
   "execution_count": 9,
   "metadata": {},
   "outputs": [],
   "source": [
    "# Functions for evaluating AGN continua\n",
    "\n",
    "def agn_cont_Y80(lambda_vals_A, L_Hbeta, alpha_nu):\n",
    "    alpha_lambda = 2 - alpha_nu\n",
    "    \n",
    "    # Compute the continuum normalisation\n",
    "    L_NT = 80 * L_Hbeta\n",
    "    L_lambda_0 = L_NT * (1 - alpha_lambda) / (9500**(1 - alpha_lambda) - 3000**(1 - alpha_lambda))\n",
    "\n",
    "    # Compute the continuum\n",
    "    return L_lambda_0 * lambda_vals_A**(-alpha_lambda)\n",
    "\n",
    "def agn_cont_H04(lambda_vals_A, L_OIII, alpha_nu):\n",
    "    alpha_lambda = 2 - alpha_nu\n",
    "    \n",
    "    # Compute the continuum normalisation\n",
    "    L_5000 = 320 / 5000 * L_OIII  # where L_5000 has units of erg s^-1 Å^-1\n",
    "    L_lambda_0 = L_5000 / 5000**(-alpha_lambda)\n",
    "\n",
    "    # Compute the continuum\n",
    "    return L_lambda_0 * lambda_vals_A**(-alpha_lambda)"
   ]
  },
  {
   "cell_type": "code",
   "execution_count": 31,
   "metadata": {},
   "outputs": [],
   "source": [
    "gg = 0"
   ]
  },
  {
   "cell_type": "code",
   "execution_count": 61,
   "metadata": {
    "scrolled": true
   },
   "outputs": [
    {
     "data": {
      "application/vnd.jupyter.widget-view+json": {
       "model_id": "ceec7ab9a67d4b48b05c73d84b283a56",
       "version_major": 2,
       "version_minor": 0
      },
      "text/plain": [
       "Canvas(toolbar=Toolbar(toolitems=[('Home', 'Reset original view', 'home', 'home'), ('Back', 'Back to previous …"
      ]
     },
     "metadata": {},
     "output_type": "display_data"
    }
   ],
   "source": [
    "# For each S7 galaxy, plot the extracted continuum (in erg s^-1) overlaid with the AGN continuum. \n",
    "# This should indicate how reasonable our estimate of the strength of the AGN continuum will be.\n",
    "plt.close(\"all\")\n",
    "fig, ax = plt.subplots(figsize=(12, 5))\n",
    "\n",
    "data_dir = os.environ[\"S7_DIR\"]\n",
    "fits_path = os.path.join(data_dir, \"5_Full_field_spectra\")\n",
    "\n",
    "alpha_nu = 2.0\n",
    "\n",
    "# Open the FITS file containing the extracted spectrum\n",
    "gal = gals[gg]\n",
    "hdulist = fits.open(os.path.join(fits_path, f\"{gal}_COMB_full_field.fits\"))\n",
    "spec = hdulist[0].data\n",
    "spec_err = hdulist[1].data\n",
    "z = hdulist[0].header[\"Z\"]\n",
    "lambda_vals_A = (np.array(range(hdulist[0].header[\"NAXIS1\"])) * hdulist[0].header[\"CDELT1\"]) + hdulist[0].header[\"CRVAL1\"]\n",
    "\n",
    "# Compute AGN spectra\n",
    "\n",
    "# Plot\n",
    "ax.clear()\n",
    "ax.errorbar(x=lambda_vals_A / (1 + z), y=spec, yerr=spec_err, color=\"k\")\n",
    "# ax.errorbar(x=lambda_vals_A, y=spec, yerr=spec_err, color=\"r\")\n",
    "ax.plot(lambda_vals_A, agn_cont_Y80(lambda_vals_A, df_s7.loc[gal, \"L_HBETA (total)\"], alpha_nu=0.3), label=r\"Yee 1980 ($\\alpha_\\nu = %.1f$)\" % 0.3, ls=\"--\", color=\"fuchsia\")\n",
    "ax.plot(lambda_vals_A, agn_cont_H04(lambda_vals_A, df_s7.loc[gal, \"L_OIII5007 (total)\"], alpha_nu=0.3), label=r\"Heckman+2004 ($\\alpha_\\nu = %.1f$)\" % 0.3, ls=\"--\", color=\"green\")\n",
    "ax.plot(lambda_vals_A, agn_cont_Y80(lambda_vals_A, df_s7.loc[gal, \"L_HBETA (total)\"], alpha_nu=2.0), label=r\"Yee 1980 ($\\alpha_\\nu = %.1f$)\" % 2.0, ls=\"-\", color=\"fuchsia\")\n",
    "ax.plot(lambda_vals_A, agn_cont_H04(lambda_vals_A, df_s7.loc[gal, \"L_OIII5007 (total)\"], alpha_nu=2.0), label=r\"Heckman+2004 ($\\alpha_\\nu = %.1f$)\" % 2.0, ls=\"-\", color=\"green\")\n",
    "ax.grid()\n",
    "ax.axhline(0, ls=\"--\", color=\"grey\")\n",
    "ax.autoscale(axis=\"x\", tight=True, enable=True)\n",
    "ax.set_title(gal)\n",
    "ax.legend()\n",
    "\n",
    "gg += 1\n"
   ]
  },
  {
   "cell_type": "code",
   "execution_count": 54,
   "metadata": {},
   "outputs": [],
   "source": [
    "# Try reproducing the correlation between [OIII] and \"L_B\" given in Zakamska+2003\n",
    "for gal in gals:\n",
    "    \n",
    "    # Open the FITS file containing the extracted spectrum\n",
    "    fname = os.path.join(fits_path, f\"{gal}_COMB_Re.fits\")\n",
    "    if os.path.exists(fname):\n",
    "        hdulist = fits.open(fname)\n",
    "    else:\n",
    "        continue\n",
    "    spec = hdulist[0].data\n",
    "    spec_err = hdulist[1].data\n",
    "    dlambda_A = hdulist[0].header[\"CDELT1\"]\n",
    "    lambda_vals_A = np.array(range(hdulist[0].header[\"NAXIS1\"])) + hdulist[0].header[\"CRVAL1\"] * dlambda_A\n",
    "    \n",
    "    # Compute the rest-frame L_B (eqn. 6)\n",
    "    z = hdulist[0].header[\"Z\"]\n",
    "    lambda_vals_A /= (1 + z)\n",
    "    dlambda_A /= (1 + z)\n",
    "    lambda_start_idx = np.nanargmin(np.abs(lambda_vals_A - 3980))\n",
    "    lambda_stop_idx = np.nanargmin(np.abs(lambda_vals_A - 4920))\n",
    "    L_B = np.nansum(spec[lambda_start_idx:lambda_stop_idx] * dlambda_A)\n",
    "    \n",
    "    df_s7.loc[gal, \"L_B\"] = L_B\n",
    "    df_s7.loc[gal, \"log L_B\"] = np.log10(L_B)\n"
   ]
  },
  {
   "cell_type": "code",
   "execution_count": 118,
   "metadata": {},
   "outputs": [
    {
     "name": "stderr",
     "output_type": "stream",
     "text": [
      "/pkg/linux/anaconda-20191122/anaconda3/lib/python3.7/site-packages/ipykernel_launcher.py:2: RuntimeWarning: More than 20 figures have been opened. Figures created through the pyplot interface (`matplotlib.pyplot.figure`) are retained until explicitly closed and may consume too much memory. (To control this warning, see the rcParam `figure.max_open_warning`).\n",
      "  \n"
     ]
    },
    {
     "data": {
      "application/vnd.jupyter.widget-view+json": {
       "model_id": "6f05e29318554a708311562e13c16339",
       "version_major": 2,
       "version_minor": 0
      },
      "text/plain": [
       "Canvas(toolbar=Toolbar(toolitems=[('Home', 'Reset original view', 'home', 'home'), ('Back', 'Back to previous …"
      ]
     },
     "metadata": {},
     "output_type": "display_data"
    }
   ],
   "source": [
    "# plot: is there a strong correlation?\n",
    "fig, ax = plt.subplots()\n",
    "ax.scatter(x=df_s7[\"log L_B\"], y=df_s7[\"log L_OIII5007 (total)\"])\n",
    "fn_Z03 = lambda log_L_B: 1.15 * log_L_B - 3.4\n",
    "ax.plot([40, 43], [fn_Z03(40), fn_Z03(43)])\n",
    "ax.set_xlabel(\"log L_B\")\n",
    "ax.set_ylabel(\"log L_OIII5007\")\n",
    "ax.grid()\n",
    "ax.autoscale(tight=True)\n"
   ]
  }
 ],
 "metadata": {
  "kernelspec": {
   "display_name": "Python 3",
   "language": "python",
   "name": "python3"
  },
  "language_info": {
   "codemirror_mode": {
    "name": "ipython",
    "version": 3
   },
   "file_extension": ".py",
   "mimetype": "text/x-python",
   "name": "python",
   "nbconvert_exporter": "python",
   "pygments_lexer": "ipython3",
   "version": "3.7.4"
  }
 },
 "nbformat": 4,
 "nbformat_minor": 2
}
